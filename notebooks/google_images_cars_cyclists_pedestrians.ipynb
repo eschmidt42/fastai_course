{
 "cells": [
  {
   "cell_type": "markdown",
   "metadata": {},
   "source": [
    "# Building a custom data set and training a classifier for pedestrians, cars and cyclists\n",
    "\n",
    "**Steps:**\n",
    "\n",
    "1. Open your Mozilla Firefox browser,\n",
    "2. enter your search term, e.g. \"cyclists\",\n",
    "3. click \"images\",\n",
    "4. open your web console using F12,\n",
    "5. enter into the console tab: \n",
    "```javascript \n",
    "urls = Array.from(document.querySelectorAll('.rg_i')).map(el=>{if (typeof el.dataset.iurl != \"undefined\" ) {return el.dataset.iurl;} else if (typeof el.dataset.src != \"undefined\") {return el.dataset.src;}});\n",
    "``` \n",
    "(this should collect all urls to the images in the results list - you may verify if `.rg_i` really is the correct class value by inspecting the html soup using the inspector tab in your web console),\n",
    "```javascript\n",
    "urls_filtered = urls.reduce((result, el) => {if (typeof el != \"undefined\") {result.push(el);} return result;}, []);\n",
    "```\n",
    "6. enter into the console tab:\n",
    "```javascript \n",
    "window.open('data:text/csv;charset=utf-8,'+escape(urls_filtered.join('\\n')));\n",
    "``` \n",
    "(this opens a dialoge to store the content of your urls variable defined above to a csv file in your local downloads dir - so you need to allow the popup to open to download in the first place)\n",
    "7. download and store the images, create a data bunch, train and evaluate the model using the cells below"
   ]
  },
  {
   "cell_type": "code",
   "execution_count": null,
   "metadata": {},
   "outputs": [],
   "source": [
    "from fastai import *\n",
    "from fastai.vision import *\n",
    "import shutil"
   ]
  },
  {
   "cell_type": "markdown",
   "metadata": {},
   "source": [
    "## Download and store images from the Google search above"
   ]
  },
  {
   "cell_type": "code",
   "execution_count": null,
   "metadata": {},
   "outputs": [],
   "source": [
    "base_dir = pathlib.Path(r\"D:\\fastai\\google_images\")\n",
    "\n",
    "data_paths = {\n",
    "    \"cyclists\": \n",
    "        {\n",
    "            \"urls_csv_path\": base_dir/\"cyclists.csv\",\n",
    "            \"image_dir\": base_dir/\"cyclists\"\n",
    "        },\n",
    "    \"cars\": \n",
    "        {\n",
    "            \"urls_csv_path\": base_dir/\"cars.csv\",\n",
    "            \"image_dir\": base_dir/\"cars\"\n",
    "        },\n",
    "    \"pedestrians\": \n",
    "        {\n",
    "            \"urls_csv_path\": base_dir/\"pedestrians.csv\",\n",
    "            \"image_dir\": base_dir/\"pedestrians\"\n",
    "        },\n",
    "}\n",
    "\n",
    "data_paths"
   ]
  },
  {
   "cell_type": "code",
   "execution_count": null,
   "metadata": {},
   "outputs": [],
   "source": [
    "for label in sorted(data_paths):\n",
    "    \n",
    "    print(\"Processing\", label)\n",
    "    download_images(data_paths[label][\"urls_csv_path\"], data_paths[label][\"image_dir\"])"
   ]
  },
  {
   "cell_type": "markdown",
   "metadata": {},
   "source": [
    "## Copy images into one dir and rename them adding their class to the name"
   ]
  },
  {
   "cell_type": "code",
   "execution_count": null,
   "metadata": {},
   "outputs": [],
   "source": [
    "target_dir = base_dir/\"pedestrians_cyclists_and_cars\""
   ]
  },
  {
   "cell_type": "code",
   "execution_count": null,
   "metadata": {},
   "outputs": [],
   "source": [
    "if not target_dir.exists():\n",
    "    print(\"Creating {}\".format(target_dir))\n",
    "    target_dir.mkdir(exist_ok=True)\n",
    "    \n",
    "target_dir"
   ]
  },
  {
   "cell_type": "code",
   "execution_count": null,
   "metadata": {},
   "outputs": [],
   "source": [
    "stuff = []\n",
    "for label in data_paths:\n",
    "    stuff += [(data_paths[label][\"image_dir\"]/f.name , target_dir/\"{}_{}\".format(label, f.name), label) for f in data_paths[label][\"image_dir\"].ls()] \n",
    "\n",
    "source_files, target_files, labels = list(zip(*stuff))\n",
    "print(\"source: {},\\ntarget: {},\\nlabel: {}\".format(source_files[:3], target_files[:3], labels[:3]))"
   ]
  },
  {
   "cell_type": "code",
   "execution_count": null,
   "metadata": {},
   "outputs": [],
   "source": [
    "for s,t in zip(source_files, target_files):\n",
    "    shutil.copyfile(s, t)"
   ]
  },
  {
   "cell_type": "markdown",
   "metadata": {},
   "source": [
    "## Create an `ImageDataBunch` object and inspect"
   ]
  },
  {
   "cell_type": "code",
   "execution_count": null,
   "metadata": {},
   "outputs": [],
   "source": [
    "tfms = get_transforms()\n",
    "data = ImageDataBunch.from_lists(path=target_dir, fnames=target_files, labels=labels, valid_pct=.2, bs=32, ds_tfms=tfms, size=224).normalize()"
   ]
  },
  {
   "cell_type": "code",
   "execution_count": null,
   "metadata": {},
   "outputs": [],
   "source": [
    "data.show_batch(rows=3)"
   ]
  },
  {
   "cell_type": "code",
   "execution_count": null,
   "metadata": {},
   "outputs": [],
   "source": [
    "data.classes, data.c"
   ]
  },
  {
   "cell_type": "markdown",
   "metadata": {},
   "source": [
    "## Setup and train an image model"
   ]
  },
  {
   "cell_type": "code",
   "execution_count": null,
   "metadata": {},
   "outputs": [],
   "source": [
    "learn = cnn_learner(data, models.resnet34, metrics=error_rate)"
   ]
  },
  {
   "cell_type": "code",
   "execution_count": null,
   "metadata": {},
   "outputs": [],
   "source": [
    "learn.lr_find()"
   ]
  },
  {
   "cell_type": "code",
   "execution_count": null,
   "metadata": {},
   "outputs": [],
   "source": [
    "learn.recorder.plot()"
   ]
  },
  {
   "cell_type": "code",
   "execution_count": null,
   "metadata": {},
   "outputs": [],
   "source": [
    "s = slice(1e-6, 1e-4) # depends on the optimal range identified using learn.lr_find"
   ]
  },
  {
   "cell_type": "code",
   "execution_count": null,
   "metadata": {},
   "outputs": [],
   "source": [
    "learn.unfreeze()"
   ]
  },
  {
   "cell_type": "code",
   "execution_count": null,
   "metadata": {},
   "outputs": [],
   "source": [
    "# learn.fit_one_cycle(4, max_lr=s)\n",
    "learn.fit_one_cycle(4)"
   ]
  },
  {
   "cell_type": "code",
   "execution_count": null,
   "metadata": {},
   "outputs": [],
   "source": [
    "learn.save(\"stage-1-34\")"
   ]
  },
  {
   "cell_type": "markdown",
   "metadata": {},
   "source": [
    "## Inspect results"
   ]
  },
  {
   "cell_type": "code",
   "execution_count": null,
   "metadata": {},
   "outputs": [],
   "source": [
    "learn.show_results(ds_type=DatasetType.Train, rows=2)"
   ]
  },
  {
   "cell_type": "code",
   "execution_count": null,
   "metadata": {},
   "outputs": [],
   "source": [
    "learn.show_results(ds_type=DatasetType.Valid, rows=2)"
   ]
  },
  {
   "cell_type": "code",
   "execution_count": null,
   "metadata": {},
   "outputs": [],
   "source": [
    "interp = ClassificationInterpretation.from_learner(learn)"
   ]
  },
  {
   "cell_type": "code",
   "execution_count": null,
   "metadata": {},
   "outputs": [],
   "source": [
    "interp.plot_top_losses(6)"
   ]
  },
  {
   "cell_type": "code",
   "execution_count": null,
   "metadata": {},
   "outputs": [],
   "source": [
    "interp.plot_confusion_matrix()"
   ]
  },
  {
   "cell_type": "code",
   "execution_count": null,
   "metadata": {},
   "outputs": [],
   "source": [
    "interp.most_confused(min_val=1)"
   ]
  },
  {
   "cell_type": "code",
   "execution_count": null,
   "metadata": {},
   "outputs": [],
   "source": []
  }
 ],
 "metadata": {
  "kernelspec": {
   "display_name": "Python [conda env:py37_fastai]",
   "language": "python",
   "name": "conda-env-py37_fastai-py"
  },
  "language_info": {
   "codemirror_mode": {
    "name": "ipython",
    "version": 3
   },
   "file_extension": ".py",
   "mimetype": "text/x-python",
   "name": "python",
   "nbconvert_exporter": "python",
   "pygments_lexer": "ipython3",
   "version": "3.7.5"
  }
 },
 "nbformat": 4,
 "nbformat_minor": 4
}
