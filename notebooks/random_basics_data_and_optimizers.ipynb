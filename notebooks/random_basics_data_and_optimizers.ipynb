{
 "cells": [
  {
   "cell_type": "markdown",
   "metadata": {},
   "source": [
    "# Random basics - datasets / dataloaders & optimizers \n",
    "\n",
    "In this notebook I experiment with creating a custom dataset and transform as well as with creating some optimizers from scratch using pytorch. My personal highlight was to see that even a method like Covariance Matrix Adaption (an evolutionary strategy based algorithm) can be implemented using pytorch and actually performs reasonably well.\n",
    "\n",
    "**Things to look at**\n",
    "\n",
    "1. DONE opt: SGD, RMSProp, Adam, evo ([example](https://towardsdatascience.com/paper-repro-deep-neuroevolution-756871e00a66))\n",
    "2. nets: dense, conv, recurrent, ResNet, DensNet\n",
    "3. regularization: dropout, l2, weight decay, batchnorm\n",
    "4. DONE data bunching (this kind of seems nasty) - data/application: image, tabular, sequence/text, collab\n",
    "5. GANs, U-net, Feature loss"
   ]
  },
  {
   "cell_type": "code",
   "execution_count": 1,
   "metadata": {
    "scrolled": true
   },
   "outputs": [],
   "source": [
    "%matplotlib inline"
   ]
  },
  {
   "cell_type": "code",
   "execution_count": 2,
   "metadata": {},
   "outputs": [],
   "source": [
    "from fastai.data_block import ItemList, ItemBase\n",
    "from fastai import basic_data\n",
    "from fastai.basic_data import DataBunch\n",
    "from fastai.tabular import TabularList, Normalize, FillMissing\n",
    "from fastai.basics import torch"
   ]
  },
  {
   "cell_type": "code",
   "execution_count": 3,
   "metadata": {},
   "outputs": [],
   "source": [
    "import numpy as np\n",
    "from scipy import stats\n",
    "import pandas as pd\n",
    "import matplotlib.pyplot as plt\n",
    "import seaborn as sns"
   ]
  },
  {
   "cell_type": "code",
   "execution_count": 4,
   "metadata": {
    "scrolled": true
   },
   "outputs": [
    {
     "data": {
      "image/png": "[encoded data removed]",
      "text/plain": [
       "<Figure size 576x576 with 1 Axes>"
      ]
     },
     "metadata": {
      "needs_background": "light"
     },
     "output_type": "display_data"
    }
   ],
   "source": [
    "x = np.linspace(-1, 3, 100)\n",
    "p = [2, 1,10]\n",
    "y_err = stats.norm(loc=0, scale=.1).rvs(size=x.shape[0])\n",
    "y_fun = lambda x: np.polyval(p, x) + y_err\n",
    "\n",
    "y = y_fun(x)\n",
    "\n",
    "fig, ax = plt.subplots(figsize=(8,8))\n",
    "ax.plot(x, y, \".\", label=\"data\")\n",
    "ax.set_xlabel(\"x\")\n",
    "ax.set_ylabel(\"y\")\n",
    "# ax.set_aspect(\"equal\")\n",
    "ax.legend()\n",
    "plt.show()"
   ]
  },
  {
   "cell_type": "code",
   "execution_count": 5,
   "metadata": {},
   "outputs": [
    {
     "name": "stdout",
     "output_type": "stream",
     "text": [
      "[-1.       -0.959596 -0.919192 -0.878788 ...  2.878788  2.919192  2.959596  3.      ] [10.988726 10.806739 10.889134 10.767511 ... 29.403792 29.84802  30.307792 30.987568]\n"
     ]
    }
   ],
   "source": [
    "print(x, y)"
   ]
  },
  {
   "cell_type": "markdown",
   "metadata": {},
   "source": [
    "## Custom data set and data loader"
   ]
  },
  {
   "cell_type": "code",
   "execution_count": 6,
   "metadata": {},
   "outputs": [],
   "source": [
    "class XYDataset(torch.utils.data.Dataset):\n",
    "    \n",
    "    def __init__(self, x: np.ndarray, y: np.ndarray):\n",
    "        assert len(x) == len(y)\n",
    "        self.x = torch.from_numpy(x).clone()\n",
    "        self.y = torch.from_numpy(y).clone()\n",
    "        \n",
    "    def __len__(self):\n",
    "        return len(self.x)\n",
    "    \n",
    "    def __getitem__(self, i):\n",
    "        return self.x[i], self.y[i]\n",
    "    \n",
    "def get_train_valid_idx(x, y, val_pct=.8):\n",
    "    assert len(x) == len(y)\n",
    "    ix = np.arange(len(x))\n",
    "    \n",
    "    train_idx = np.random.choice(ix, int(val_pct*len(x)), replace=False)\n",
    "    valid_idx = np.setdiff1d(ix, train_idx)\n",
    "    return train_idx, valid_idx\n"
   ]
  },
  {
   "cell_type": "code",
   "execution_count": 7,
   "metadata": {},
   "outputs": [],
   "source": [
    "train_idx, valid_idx = get_train_valid_idx(x, y, val_pct=.8)\n",
    "xy_train_ds = XYDataset(x[train_idx], y[train_idx])\n",
    "xy_valid_ds = XYDataset(x[valid_idx], y[valid_idx])"
   ]
  },
  {
   "cell_type": "code",
   "execution_count": 8,
   "metadata": {},
   "outputs": [
    {
     "data": {
      "text/plain": [
       "(tensor(2.6364, dtype=torch.float64), tensor(26.7277, dtype=torch.float64))"
      ]
     },
     "execution_count": 8,
     "metadata": {},
     "output_type": "execute_result"
    }
   ],
   "source": [
    "xy_train_ds[2]"
   ]
  },
  {
   "cell_type": "code",
   "execution_count": 9,
   "metadata": {},
   "outputs": [
    {
     "data": {
      "text/plain": [
       "(tensor(0.0505, dtype=torch.float64), tensor(9.9704, dtype=torch.float64))"
      ]
     },
     "execution_count": 9,
     "metadata": {},
     "output_type": "execute_result"
    }
   ],
   "source": [
    "xy_valid_ds[4]"
   ]
  },
  {
   "cell_type": "markdown",
   "metadata": {},
   "source": [
    "Creating a `DataBunch` version 1 via `torch.utils.data.DataLoader`"
   ]
  },
  {
   "cell_type": "code",
   "execution_count": 10,
   "metadata": {},
   "outputs": [],
   "source": [
    "device = \"cpu\" # \"cuda:0\""
   ]
  },
  {
   "cell_type": "code",
   "execution_count": 11,
   "metadata": {},
   "outputs": [
    {
     "name": "stdout",
     "output_type": "stream",
     "text": [
      "(tensor([-1.0289, -0.8809, -0.9947, -0.7316, -0.8059], dtype=torch.float64), tensor([10.8484, 10.8808, 10.7765, 10.7676, 10.3915], dtype=torch.float64))\n"
     ]
    }
   ],
   "source": [
    "def noisify(xy):\n",
    "    x, y = xy\n",
    "    if not torch.is_tensor(x):\n",
    "        x = torch.from_numpy(x).clone().to(device)\n",
    "    if not torch.is_tensor(y):\n",
    "        y = torch.from_numpy(y).clone().to(device)\n",
    "    \n",
    "    dx = torch.normal(mean=0., std=.1, size=x.size()).to(device)\n",
    "    dy = torch.normal(mean=0., std=.1, size=y.size()).to(device)\n",
    "    return x + dx, y + dy\n",
    "\n",
    "print(noisify((x[:5], y[:5])))"
   ]
  },
  {
   "cell_type": "code",
   "execution_count": null,
   "metadata": {},
   "outputs": [],
   "source": [
    "bs = 10"
   ]
  },
  {
   "cell_type": "code",
   "execution_count": 142,
   "metadata": {},
   "outputs": [],
   "source": [
    "xy_train_loader = torch.utils.data.DataLoader(xy_train_ds, batch_size=bs, shuffle=True)\n",
    "xy_valid_loader = torch.utils.data.DataLoader(xy_valid_ds, batch_size=bs, shuffle=True)\n",
    "xy_db = basic_data.DataBunch(train_dl=xy_train_loader, valid_dl=xy_valid_loader) #, dl_tfms=noisify)"
   ]
  },
  {
   "cell_type": "markdown",
   "metadata": {},
   "source": [
    "Creating a `DataBunch` version 2 via `basic_data.DataBunch.create`"
   ]
  },
  {
   "cell_type": "code",
   "execution_count": null,
   "metadata": {},
   "outputs": [],
   "source": [
    "xy_db = basic_data.DataBunch.create(train_ds=xy_train_ds, valid_ds=xy_valid_ds, bs=bs)"
   ]
  },
  {
   "cell_type": "code",
   "execution_count": 122,
   "metadata": {},
   "outputs": [
    {
     "name": "stdout",
     "output_type": "stream",
     "text": [
      "(70,) (30,)\n"
     ]
    },
    {
     "data": {
      "text/html": [
       "<div>\n",
       "<style scoped>\n",
       "    .dataframe tbody tr th:only-of-type {\n",
       "        vertical-align: middle;\n",
       "    }\n",
       "\n",
       "    .dataframe tbody tr th {\n",
       "        vertical-align: top;\n",
       "    }\n",
       "\n",
       "    .dataframe thead th {\n",
       "        text-align: right;\n",
       "    }\n",
       "</style>\n",
       "<table border=\"1\" class=\"dataframe\">\n",
       "  <thead>\n",
       "    <tr style=\"text-align: right;\">\n",
       "      <th></th>\n",
       "      <th>x</th>\n",
       "      <th>y</th>\n",
       "      <th>valid</th>\n",
       "    </tr>\n",
       "  </thead>\n",
       "  <tbody>\n",
       "    <tr>\n",
       "      <th>0</th>\n",
       "      <td>1.343434</td>\n",
       "      <td>14.913624</td>\n",
       "      <td>False</td>\n",
       "    </tr>\n",
       "    <tr>\n",
       "      <th>1</th>\n",
       "      <td>0.898990</td>\n",
       "      <td>12.412504</td>\n",
       "      <td>False</td>\n",
       "    </tr>\n",
       "    <tr>\n",
       "      <th>2</th>\n",
       "      <td>2.717172</td>\n",
       "      <td>27.475066</td>\n",
       "      <td>False</td>\n",
       "    </tr>\n",
       "    <tr>\n",
       "      <th>3</th>\n",
       "      <td>-0.676768</td>\n",
       "      <td>10.253358</td>\n",
       "      <td>False</td>\n",
       "    </tr>\n",
       "    <tr>\n",
       "      <th>4</th>\n",
       "      <td>1.989899</td>\n",
       "      <td>20.181437</td>\n",
       "      <td>False</td>\n",
       "    </tr>\n",
       "  </tbody>\n",
       "</table>\n",
       "</div>"
      ],
      "text/plain": [
       "          x          y  valid\n",
       "0  1.343434  14.913624  False\n",
       "1  0.898990  12.412504  False\n",
       "2  2.717172  27.475066  False\n",
       "3 -0.676768  10.253358  False\n",
       "4  1.989899  20.181437  False"
      ]
     },
     "execution_count": 122,
     "metadata": {},
     "output_type": "execute_result"
    }
   ],
   "source": [
    "n = len(x)\n",
    "n_train = int(.7*n)\n",
    "ix_train = np.random.choice(np.arange(n), replace=False, size=n_train)\n",
    "ix_valid = np.setdiff1d(np.arange(n), ix_train)\n",
    "print(ix_train.shape, ix_valid.shape)\n",
    "\n",
    "df_train = pd.DataFrame({\"x\": x[ix_train], \"y\": y[ix_train]})\n",
    "df_train[\"valid\"] = False\n",
    "df_valid = pd.DataFrame({\"x\": x[ix_valid], \"y\": y[ix_valid]})\n",
    "df_valid[\"valid\"] = True\n",
    "df = pd.concat((df_train, df_valid), ignore_index=True)\n",
    "df.head()"
   ]
  },
  {
   "cell_type": "markdown",
   "metadata": {},
   "source": [
    "Note that if you use the following method the first component returned by `one_batch()` will be a list of two tensors, where the first seems, oddly enough, to have no real purpose. This won't cause an error for the model (`PolyModel`) because it is taken into account there."
   ]
  },
  {
   "cell_type": "code",
   "execution_count": 139,
   "metadata": {},
   "outputs": [],
   "source": [
    "def split_fun(x):\n",
    "    return df[\"set\"][x] == \"valid\"\n",
    "\n",
    "def label_fun(x):\n",
    "    print(x)\n",
    "    return df[\"y\"][x]\n",
    "\n",
    "src = (TabularList.from_df(df=df, cont_names=[\"x\"], procs=[Normalize])\n",
    "      .split_from_df(col=\"valid\")\n",
    "      .label_from_df(cols=\"y\"))\n",
    "\n",
    "xy_db = src.databunch(bs=bs)"
   ]
  },
  {
   "cell_type": "code",
   "execution_count": 143,
   "metadata": {
    "scrolled": true
   },
   "outputs": [
    {
     "data": {
      "text/plain": [
       "(tensor([ 0.7374,  2.1515, -0.6768,  2.7172,  2.6364, -0.9596,  1.5859,  2.4747,\n",
       "          0.4545, -1.0000], dtype=torch.float64),\n",
       " tensor([11.7516, 21.5481, 10.2534, 27.4751, 26.7277, 10.8067, 16.4968, 24.6748,\n",
       "         10.7876, 10.9887], dtype=torch.float64))"
      ]
     },
     "execution_count": 143,
     "metadata": {},
     "output_type": "execute_result"
    }
   ],
   "source": [
    "xy_db.one_batch() # cpu=False"
   ]
  },
  {
   "cell_type": "markdown",
   "metadata": {},
   "source": [
    "## Setting up a polynomial model & loss"
   ]
  },
  {
   "cell_type": "code",
   "execution_count": 136,
   "metadata": {},
   "outputs": [],
   "source": [
    "class PolyModel(torch.nn.Module):\n",
    "    \n",
    "    def __init__(self, deg: int = 1):\n",
    "        super().__init__()\n",
    "        self.deg = deg\n",
    "        self.w = torch.nn.Parameter(torch.randn(deg))\n",
    "        \n",
    "    def forward(self, x):\n",
    "        if isinstance(x, list):\n",
    "            x = x[1]\n",
    "        n = len(x)\n",
    "        X = torch.empty(n, self.deg)\n",
    "        #print(\"X\", X)\n",
    "        for i in range(self.deg):\n",
    "            X[:,i] = x ** (self.deg-i-1)\n",
    "        #print(\"\\nX\", X)\n",
    "        return X @ self.w\n",
    "        "
   ]
  },
  {
   "cell_type": "code",
   "execution_count": 15,
   "metadata": {},
   "outputs": [],
   "source": [
    "def MSELoss(pred, truth):\n",
    "    return ((pred-truth)**2).mean()"
   ]
  },
  {
   "cell_type": "code",
   "execution_count": 144,
   "metadata": {},
   "outputs": [
    {
     "data": {
      "text/plain": [
       "Parameter containing:\n",
       "tensor([ 0.2001,  0.0199, -2.1910], requires_grad=True)"
      ]
     },
     "execution_count": 144,
     "metadata": {},
     "output_type": "execute_result"
    }
   ],
   "source": [
    "pm = PolyModel(deg=3)\n",
    "pm(torch.randn(5))\n",
    "pm.w"
   ]
  },
  {
   "cell_type": "code",
   "execution_count": 145,
   "metadata": {},
   "outputs": [
    {
     "data": {
      "text/plain": [
       "tensor([190.5820,  20.1090,  91.1555,  19.0513, 149.4184,  23.7011,  25.6788,\n",
       "         18.2574,  22.1919,  18.4397], grad_fn=<MvBackward>)"
      ]
     },
     "execution_count": 145,
     "metadata": {},
     "output_type": "execute_result"
    }
   ],
   "source": [
    "_y, _x = xy_db.one_batch()\n",
    "_y_pred = pm(_x)\n",
    "_y_pred"
   ]
  },
  {
   "cell_type": "markdown",
   "metadata": {},
   "source": [
    "## Optimization"
   ]
  },
  {
   "cell_type": "markdown",
   "metadata": {},
   "source": [
    "**Implementing a bunch of optimizers**\n",
    "\n",
    "Simple gradient based"
   ]
  },
  {
   "cell_type": "code",
   "execution_count": 160,
   "metadata": {},
   "outputs": [],
   "source": [
    "class SGD:\n",
    "    \n",
    "    lr = .01\n",
    "    name = \"basic SGD\"\n",
    "    loss = None\n",
    "    \n",
    "    def __init__(self, lr=.01):\n",
    "        self.lr = lr\n",
    "    \n",
    "    def update(self):\n",
    "        _x, _y = xy_db.one_batch()\n",
    "        _y_pred = pm(_x)\n",
    "        loss = MSELoss(_y_pred, _y)\n",
    "        loss.backward()\n",
    "\n",
    "        with torch.no_grad():\n",
    "            pm.w.sub_(pm.w.grad * self.lr)\n",
    "            pm.w.grad.zero_()\n",
    "\n",
    "        self.loss = loss.clone().detach().numpy()\n",
    "        "
   ]
  },
  {
   "cell_type": "markdown",
   "metadata": {},
   "source": [
    "With \"momentum\""
   ]
  },
  {
   "cell_type": "code",
   "execution_count": 164,
   "metadata": {},
   "outputs": [],
   "source": [
    "class SGD_mom:\n",
    "    velo = torch.normal(mean=0, std=.001, size=pm.w.size()).to(device)\n",
    "    momentum = .9\n",
    "    lr = .01\n",
    "    name = \"SGD + momentum\"\n",
    "    loss = None\n",
    "    \n",
    "    def __init__(self, momentum=.9, lr=.01):\n",
    "        self.momentum = momentum\n",
    "        self.lr = lr\n",
    "\n",
    "    def update(self):\n",
    "        _x, _y = xy_db.one_batch()\n",
    "        _y_pred = pm(_x)\n",
    "        loss = MSELoss(_y_pred, _y)\n",
    "        loss.backward()\n",
    "\n",
    "        with torch.no_grad():\n",
    "            self.velo.mul_(self.momentum)\n",
    "            self.velo.add_(self.lr * pm.w.grad)\n",
    "\n",
    "            pm.w.sub_(self.velo)\n",
    "            pm.w.grad.zero_()\n",
    "\n",
    "        self.loss = loss.clone().detach().numpy()\n",
    "        "
   ]
  },
  {
   "cell_type": "markdown",
   "metadata": {},
   "source": [
    "With \"momentum\" and \"weight decay\""
   ]
  },
  {
   "cell_type": "code",
   "execution_count": 168,
   "metadata": {},
   "outputs": [],
   "source": [
    "class SGD_mom_decay:\n",
    "    velo = torch.normal(mean=0, std=.001, size=pm.w.size()).to(device)\n",
    "    momentum = .9\n",
    "    lr = .01\n",
    "    wd = .1\n",
    "    name = \"SGD + momentum + weight decay\"\n",
    "    loss = None\n",
    "    \n",
    "    def __init__(self, momentum=.9, lr=.01, wd=.1):\n",
    "        self.momentum = momentum\n",
    "        self.lr = lr\n",
    "        self.wd = wd\n",
    "\n",
    "    def update(self):\n",
    "        _x, _y = xy_db.one_batch()\n",
    "        _y_pred = pm(_x)\n",
    "        loss = MSELoss(_y_pred, _y)\n",
    "        loss.backward()\n",
    "\n",
    "        with torch.no_grad():\n",
    "            self.velo.mul_(self.momentum)\n",
    "            self.velo.add_(self.lr * pm.w.grad)\n",
    "\n",
    "            pm.w.sub_(self.velo + self.wd*pm.w)\n",
    "            pm.w.grad.zero_()\n",
    "\n",
    "        self.loss = loss.clone().detach().numpy()\n",
    "        "
   ]
  },
  {
   "cell_type": "markdown",
   "metadata": {},
   "source": [
    "RMSProp: [coursera course](https://www.cs.toronto.edu/~tijmen/csc321/slides/lecture_slides_lec6.pdf), [paper](http://arxiv.org/abs/1308.0850), a [blog post](https://towardsdatascience.com/understanding-rmsprop-faster-neural-network-learning-62e116fcf29a)"
   ]
  },
  {
   "cell_type": "code",
   "execution_count": 177,
   "metadata": {},
   "outputs": [],
   "source": [
    "class RMSProp:\n",
    "    velo = torch.normal(mean=0, std=.01, size=pm.w.size()).to(device)\n",
    "    momentum = .9\n",
    "    wd = .1\n",
    "    beta = .9\n",
    "    lr = .01\n",
    "    mag = torch.tensor(1.).to(device)\n",
    "    name = \"RMSProp\"\n",
    "    \n",
    "    def __init__(self, momentum=.9, lr=.01, wd=.1, beta=.9):\n",
    "        self.momentum = momentum\n",
    "        self.lr = lr\n",
    "        self.wd = wd\n",
    "        self.beta = beta\n",
    "    \n",
    "    def update(self):\n",
    "        _x, _y = xy_db.one_batch()\n",
    "        _y_pred = pm(_x)\n",
    "        loss = MSELoss(_y_pred, _y)\n",
    "        loss.backward()\n",
    "\n",
    "        with torch.no_grad():\n",
    "            self.mag.mul_(self.beta)\n",
    "            self.mag.add_((1.-self.beta) * (pm.w @ pm.w))\n",
    "\n",
    "            self.velo.mul_(self.momentum)\n",
    "            self.velo.add_(self.lr/torch.sqrt(self.mag) * pm.w.grad)\n",
    "\n",
    "            pm.w.sub_(self.velo + self.wd*pm.w)\n",
    "            pm.w.grad.zero_()\n",
    "        \n",
    "        self.loss = loss.clone().detach().numpy()\n",
    "        "
   ]
  },
  {
   "cell_type": "markdown",
   "metadata": {},
   "source": [
    "Adam: [arXiv](https://arxiv.org/abs/1412.6980)"
   ]
  },
  {
   "cell_type": "code",
   "execution_count": 184,
   "metadata": {},
   "outputs": [],
   "source": [
    "class Adam:\n",
    "    \n",
    "    moment1 = torch.zeros_like(pm.w, requires_grad=False)\n",
    "    moment2 = torch.zeros_like(pm.w, requires_grad=False)\n",
    "    betas = torch.tensor([.9, .999], requires_grad=False)\n",
    "    eps = torch.tensor(1e-8, requires_grad=False)\n",
    "    lr = .01\n",
    "    name = \"Adam\"\n",
    "    loss = None\n",
    "    \n",
    "    def __init__(self, lr: float = .01, betas: list = [.9, .999], eps: float =1e-8):\n",
    "        self.betas = torch.tensor(betas, requires_grad=False)\n",
    "        self.eps = eps\n",
    "        self.lr = lr\n",
    "    \n",
    "    def update(self):\n",
    "        _x, _y = xy_db.one_batch()\n",
    "        _y_pred = pm(_x)\n",
    "        loss = MSELoss(_y_pred, _y)\n",
    "        loss.backward()\n",
    "\n",
    "        with torch.no_grad():\n",
    "\n",
    "            self.moment1.mul_(self.betas[0])\n",
    "            self.moment1.add_((1.-self.betas[0]) * pm.w.grad)\n",
    "            moment1_hat = self.moment1.div(1.-self.betas[0]**(epoch+1))\n",
    "\n",
    "            self.moment2.mul_(self.betas[1])\n",
    "            self.moment2.add_((1.-self.betas[1]) * (pm.w.grad * pm.w.grad))\n",
    "            moment2_hat = self.moment2.div(1.-self.betas[1]**(epoch+1))\n",
    "\n",
    "            pm.w.sub_(self.lr * moment1_hat / (torch.sqrt(moment2_hat) + self.eps))\n",
    "\n",
    "        self.loss = loss.clone().detach().numpy()\n",
    "    "
   ]
  },
  {
   "cell_type": "code",
   "execution_count": 273,
   "metadata": {},
   "outputs": [],
   "source": [
    "moment1 = torch.zeros_like(pm.w, requires_grad=False)\n",
    "# moment2 = torch.zeros(1, requires_grad=False)\n",
    "moment2 = torch.zeros_like(pm.w, requires_grad=False)\n",
    "betas = torch.tensor([.9, .999], requires_grad=False)\n",
    "eps = torch.tensor(1e-8, requires_grad=False)"
   ]
  },
  {
   "cell_type": "code",
   "execution_count": 274,
   "metadata": {},
   "outputs": [
    {
     "name": "stdout",
     "output_type": "stream",
     "text": [
      "tensor([0., 0., 0.]) tensor([0., 0., 0.]) tensor([0.9000, 0.9990])\n"
     ]
    }
   ],
   "source": [
    "print(moment1, moment2, betas)"
   ]
  },
  {
   "cell_type": "code",
   "execution_count": 275,
   "metadata": {},
   "outputs": [],
   "source": [
    "def update():\n",
    "    _x, _y = xy_db.one_batch()\n",
    "    _y_pred = pm(_x)\n",
    "    loss = MSELoss(_y_pred, _y)\n",
    "    loss.backward()\n",
    "\n",
    "    with torch.no_grad():\n",
    "        \n",
    "        moment1.mul_(betas[0])\n",
    "        moment1.add_((1.-betas[0]) * pm.w.grad)\n",
    "        moment1_hat = moment1.div(1.-betas[0]**(epoch+1))\n",
    "        \n",
    "        moment2.mul_(betas[1])\n",
    "        moment2.add_((1.-betas[1]) * (pm.w.grad * pm.w.grad))\n",
    "        moment2_hat = moment2.div(1.-betas[1]**(epoch+1))\n",
    "        \n",
    "        pm.w.sub_(lr * moment1_hat / (torch.sqrt(moment2_hat) + eps))\n",
    "    \n",
    "    losses.append(loss.clone().detach().numpy())\n",
    "    update_method.append(\"Adam\")"
   ]
  },
  {
   "cell_type": "markdown",
   "metadata": {},
   "source": [
    "Covariance Matrix Adaption Evolution Strategy (CMA-ES): [tutorial](https://arxiv.org/abs/1604.00772), [wiki](https://en.wikipedia.org/wiki/CMA-ES)\n",
    "You may also want to check out [this](https://eli.thegreenplace.net/2011/05/15/understanding-unboundlocalerror-in-python) for variable scoping."
   ]
  },
  {
   "cell_type": "code",
   "execution_count": 218,
   "metadata": {},
   "outputs": [],
   "source": [
    "class CMA_ES:\n",
    "    \n",
    "    _lambda = 9 # number of agents\n",
    "    mu = 4 # number of children which survive the culling\n",
    "    N = pm.w.size()[0] # number of parameters\n",
    "\n",
    "    m = pm.w.clone().detach() # position of the normal distribution\n",
    "    sigma = .3 # coordinate wise standard deviation (step size)\n",
    "    weights = None   # recombination weights\n",
    "    mueff = None\n",
    "\n",
    "    # Strategy parameter setting: Adaptation\n",
    "    cc = None # time constant for cumulation for C\n",
    "    cs = None # t-const for cumulation for sigma control\n",
    "    c1 = None # learning rate for rank-one update of C\n",
    "    cmu = None\n",
    "    damps = None # damping for sigma, usually close to 1\n",
    "    \n",
    "    # Initialize dynamic (internal) strategy parameters and constants\n",
    "    pc = torch.zeros(1, N).detach() # evolution paths for C and sigma\n",
    "    ps = torch.zeros(1, N).detach() # evolution paths for C and sigma\n",
    "    \n",
    "\n",
    "    C = torch.eye(n=N, dtype=torch.float).detach()\n",
    "    B = torch.eye(N, N).detach() # B defines the coordinate system\n",
    "    D = torch.ones(N).detach() # diagonal D defines the scaling\n",
    "    invsqrtC = B @ torch.diag(1 / D) @ B.transpose(0, 1)\n",
    "    \n",
    "    eigeneval = 0 # track update of B and D\n",
    "    chiN = N**.5 * (1. - 1./(4.*N) + 1./(21.*N**2))\n",
    "    \n",
    "    name = \"CMA-ES\"\n",
    "    \n",
    "    def __init__(self, _lambda: int = 9, mu: int = 4, sigma: float = .3):\n",
    "        self._lambda = _lambda\n",
    "        self.mu = mu\n",
    "        self.sigma = sigma\n",
    "        \n",
    "        with torch.no_grad():\n",
    "            #self.agents = torch.ones((_lambda, self.N)).detach()\n",
    "            self.weights = torch.ones(mu).detach()/float(mu)\n",
    "            self.mueff = self.weights.sum()**2 / (self.weights @ self.weights).sum()\n",
    "\n",
    "            self.cc = (4. + self.mueff / self.N) / (self.N + 4 + 2 * self.mueff / self.N) # time constant for cumulation for C\n",
    "            self.cs = (self.mueff + 2) / (self.N + self.mueff + 5) # t-const for cumulation for sigma control\n",
    "            self.c1 = 2 / ((self.N+1.3)**2 + self.mueff) # learning rate for rank-one update of C\n",
    "            self.cmu = min([1 - self.c1, 2 * (self.mueff - 2 + 1 / self.mueff) / ((self.N + 2)**2 + self.mueff)])\n",
    "            self.damps = 1 + 2 * max(0, torch.sqrt((self.mueff - 1)/(self.N + 1)) - 1) + self.cs # damping for sigma, usually close to 1\n",
    "\n",
    "    def update(self):\n",
    "\n",
    "        _x, _y = xy_db.one_batch()\n",
    "        _y_pred = pm(_x)\n",
    "        loss = MSELoss(_y_pred, _y)\n",
    "\n",
    "        with torch.no_grad():\n",
    "\n",
    "\n",
    "            agents = (torch.distributions.multivariate_normal.MultivariateNormal(self.m, covariance_matrix = self.C)\n",
    "                      .sample(sample_shape=torch.Size([self._lambda])))\n",
    "\n",
    "            for _i in range(self._lambda):\n",
    "                pm.w = torch.nn.Parameter(agents[_i])\n",
    "                _y_pred = pm(_x)\n",
    "                fitnesses[_i] = MSELoss(_y_pred, _y)\n",
    "\n",
    "            idx = torch.argsort(fitnesses)[:self.mu] # assumes that the best individuals are those with the lowest fitness values\n",
    "\n",
    "            m_new = agents[idx].mean(dim=0)\n",
    "\n",
    "            # Update evolution paths     \n",
    "            self.ps = (1-self.cs) * self.ps + torch.sqrt(self.cs * (2-self.cs)*self.mueff) \\\n",
    "                      * self.invsqrtC @ (m_new - self.m)/self.sigma\n",
    "\n",
    "            hsig = 2./(self.N+1.)\n",
    "            if not (torch.norm(self.ps) / torch.sqrt(1-(1-self.cs)**(2*(epoch+1)/self._lambda))/self.chiN < 1.4):\n",
    "                hsig += 1.\n",
    "\n",
    "            self.pc = (1-self.cc) * self.pc + hsig * torch.sqrt(self.cc * (2-self.cc)*self.mueff) \\\n",
    "                      * (m_new - self.m)/self.sigma\n",
    "\n",
    "            # Adapt covariance matrix C\n",
    "            artmp = 1/self.sigma * (agents[idx] - self.m)\n",
    "\n",
    "            self.C = (1. - self.c1 - self.cmu) * self.C \\\n",
    "                      + self.c1 * ( \\\n",
    "                              torch.einsum(\"i,j->ij\", self.pc[0], self.pc[0]) \\\n",
    "                              + (1-hsig) * self.cc*(2-self.cc) * self.C\n",
    "                             ) \\\n",
    "                      + self.cmu * artmp.transpose(0, 1) @ torch.diag(self.weights) @ artmp\n",
    "\n",
    "            self.sigma = self.sigma * torch.exp((self.cs/self.damps)*(torch.norm(self.ps)/self.chiN - 1.))\n",
    "\n",
    "            if epoch - self.eigeneval > self._lambda/(self.c1+self.cmu)/self.N/10.:\n",
    "\n",
    "                self.eigeneval = epoch\n",
    "                self.C = self.C.triu() + self.C.triu(1).transpose(0, 1)\n",
    "                (D, B) = self.C.eig(eigenvectors=True)\n",
    "                self.invsqrtC = B @ torch.diag(1./D[:,0]) @ B.transpose(0, 1)\n",
    "\n",
    "            pm.w = torch.nn.Parameter(m_new)\n",
    "            self.m = m_new.clone()\n",
    "            \n",
    "            \n",
    "        \n",
    "        self.loss = loss.clone().detach().numpy()\n"
   ]
  },
  {
   "cell_type": "markdown",
   "metadata": {},
   "source": [
    "With one of pytorch's optimizers"
   ]
  },
  {
   "cell_type": "code",
   "execution_count": 289,
   "metadata": {},
   "outputs": [],
   "source": [
    "# opt = torch.optim.SGD(pm.parameters(), lr=.01, momentum=.9)\n",
    "\n",
    "class PyTorch:\n",
    "    \n",
    "    opt = None\n",
    "    _opt = None\n",
    "    opt_args = None\n",
    "    opt_kwargs = None\n",
    "    loss = None\n",
    "    name = \"pytorch optimizer\"\n",
    "    \n",
    "    def __init__(self, opt: torch.optim.Optimizer, *opt_args, **opt_kwargs):\n",
    "        self.opt = opt\n",
    "        self.opt_args = opt_args\n",
    "        self.opt_kwargs = opt_kwargs\n",
    "        \n",
    "    def update(self):\n",
    "        \n",
    "        if epoch == 0:\n",
    "            self._opt = self.opt(params=[pm.w], *self.opt_args, **self.opt_kwargs)\n",
    "            \n",
    "        self._opt.zero_grad()\n",
    "        _x, _y = xy_db.one_batch()\n",
    "        _y_pred = pm(_x)\n",
    "        loss = MSELoss(_y_pred, _y)\n",
    "        loss.backward()\n",
    "\n",
    "        self._opt.step()\n",
    "\n",
    "        self.loss = loss.clone().detach().numpy()\n"
   ]
  },
  {
   "cell_type": "markdown",
   "metadata": {},
   "source": [
    "**Running an optimizer for a while**"
   ]
  },
  {
   "cell_type": "code",
   "execution_count": 299,
   "metadata": {},
   "outputs": [
    {
     "data": {
      "text/plain": [
       "tensor([-0.7054, -0.2124, -0.4480, -0.1544, -0.8015], grad_fn=<MvBackward>)"
      ]
     },
     "execution_count": 299,
     "metadata": {},
     "output_type": "execute_result"
    }
   ],
   "source": [
    "# initialize random weights\n",
    "pm = PolyModel(deg=3)\n",
    "pm(torch.randn(5))"
   ]
  },
  {
   "cell_type": "code",
   "execution_count": 300,
   "metadata": {},
   "outputs": [],
   "source": [
    "n_epochs = 50"
   ]
  },
  {
   "cell_type": "code",
   "execution_count": 298,
   "metadata": {},
   "outputs": [],
   "source": [
    "losses = []\n",
    "update_method = []"
   ]
  },
  {
   "cell_type": "code",
   "execution_count": 293,
   "metadata": {},
   "outputs": [
    {
     "data": {
      "text/plain": [
       "Parameter containing:\n",
       "tensor([0.2177, 0.9247, 0.5363], requires_grad=True)"
      ]
     },
     "execution_count": 293,
     "metadata": {},
     "output_type": "execute_result"
    }
   ],
   "source": [
    "pm.w"
   ]
  },
  {
   "cell_type": "code",
   "execution_count": 294,
   "metadata": {
    "scrolled": true
   },
   "outputs": [],
   "source": [
    "# _optimizer = SGD(lr=.01)\n",
    "# _optimizer = SGD_mom(lr=.01, momentum=.9)\n",
    "# _optimizer = SGD_mom_decay(lr=.01, momentum=.9, wd=.1)\n",
    "# _optimizer = RMSProp(lr=.01, momentum=.9, wd=.1, beta=.9)\n",
    "# _optimizer = Adam(lr=.01, betas=[.9, .999], eps=1e-8)\n",
    "# _optimizer = CMA_ES(_lambda=9, mu=4, sigma=.3)\n",
    "_optimizer = PyTorch(opt=torch.optim.SGD, lr=.01, momentum=.9)\n",
    "\n",
    "for epoch in range(n_epochs): # range(n_epochs):\n",
    "    #update()\n",
    "    _optimizer.update()\n",
    "    update_method.append(_optimizer.name)\n",
    "    losses.append(_optimizer.loss)"
   ]
  },
  {
   "cell_type": "code",
   "execution_count": 295,
   "metadata": {},
   "outputs": [
    {
     "data": {
      "text/plain": [
       "Parameter containing:\n",
       "tensor([ 2.0420,  1.1468, 10.3455], requires_grad=True)"
      ]
     },
     "execution_count": 295,
     "metadata": {},
     "output_type": "execute_result"
    }
   ],
   "source": [
    "pm.w"
   ]
  },
  {
   "cell_type": "markdown",
   "metadata": {},
   "source": [
    "**Running a bunch of different optimizers**\n",
    "\n",
    "Essentially the same as above but directly running a series of optimizers."
   ]
  },
  {
   "cell_type": "code",
   "execution_count": 301,
   "metadata": {},
   "outputs": [],
   "source": [
    "w0 = pm.w.clone()"
   ]
  },
  {
   "cell_type": "code",
   "execution_count": 302,
   "metadata": {},
   "outputs": [
    {
     "name": "stdout",
     "output_type": "stream",
     "text": [
      "\n",
      " <__main__.SGD object at 0x000001C2CF009608>\n",
      "Parameter containing:\n",
      "tensor([3.0441, 1.2554, 4.2178], requires_grad=True)\n",
      "\n",
      " <__main__.SGD_mom object at 0x000001C2CF009A48>\n",
      "Parameter containing:\n",
      "tensor([ 1.6727,  0.7243, 10.2558], requires_grad=True)\n",
      "\n",
      " <__main__.SGD_mom_decay object at 0x000001C2CF009F48>\n",
      "Parameter containing:\n",
      "tensor([2.6580, 1.0982, 5.4977], requires_grad=True)\n",
      "\n",
      " <__main__.RMSProp object at 0x000001C2CF009448>\n",
      "Parameter containing:\n",
      "tensor([2.8512, 1.2903, 2.4884], requires_grad=True)\n",
      "\n",
      " <__main__.Adam object at 0x000001C2CF009048>\n",
      "Parameter containing:\n",
      "tensor([ 0.3541, -0.2096, -0.5111], requires_grad=True)\n",
      "\n",
      " <__main__.CMA_ES object at 0x000001C2CF0098C8>\n",
      "Parameter containing:\n",
      "tensor([0.4132, 7.7309, 3.5119], requires_grad=True)\n",
      "\n",
      " <__main__.PyTorch object at 0x000001C2CF009C88>\n",
      "Parameter containing:\n",
      "tensor([ 1.8327,  1.1074, 10.7989], requires_grad=True)\n"
     ]
    }
   ],
   "source": [
    "optimizers = [\n",
    "    SGD(lr=.01),\n",
    "    SGD_mom(lr=.01, momentum=.9),\n",
    "    SGD_mom_decay(lr=.01, momentum=.9, wd=.1),\n",
    "    RMSProp(lr=.01, momentum=.9, wd=.1, beta=.9),\n",
    "    Adam(lr=.01, betas=[.9, .999], eps=1e-8),\n",
    "    CMA_ES(_lambda=9, mu=4, sigma=.3),\n",
    "    PyTorch(opt=torch.optim.SGD, lr=.01, momentum=.9),\n",
    "]\n",
    "\n",
    "for _optimizer in optimizers:\n",
    "    print(\"\\n\", _optimizer)\n",
    "    pm.w = torch.nn.Parameter(w0.clone())\n",
    "    for epoch in range(n_epochs):\n",
    "        _optimizer.update()\n",
    "        update_method.append(_optimizer.name)\n",
    "        losses.append(_optimizer.loss)\n",
    "    print(pm.w)"
   ]
  },
  {
   "cell_type": "markdown",
   "metadata": {},
   "source": [
    "**How well is the data fitted for a single weights vector?**"
   ]
  },
  {
   "cell_type": "code",
   "execution_count": 296,
   "metadata": {
    "scrolled": true
   },
   "outputs": [
    {
     "data": {
      "image/png": "[encoded data removed]",
      "text/plain": [
       "<Figure size 720x576 with 1 Axes>"
      ]
     },
     "metadata": {
      "needs_background": "light"
     },
     "output_type": "display_data"
    }
   ],
   "source": [
    "fig, ax = plt.subplots(figsize=(10, 8))\n",
    "ax.plot(x, y, \".\", label=\"data\")\n",
    "with torch.no_grad():\n",
    "    ax.plot(x, pm(torch.from_numpy(x).clone()), \"*\", label=\"model\")\n",
    "ax.legend()\n",
    "plt.show()"
   ]
  },
  {
   "cell_type": "markdown",
   "metadata": {},
   "source": [
    "**Loss plots over multiple optimization methods**"
   ]
  },
  {
   "cell_type": "code",
   "execution_count": 303,
   "metadata": {},
   "outputs": [
    {
     "data": {
      "image/png": "[encoded data removed]",
      "text/plain": [
       "<Figure size 720x576 with 1 Axes>"
      ]
     },
     "metadata": {
      "needs_background": "light"
     },
     "output_type": "display_data"
    }
   ],
   "source": [
    "df_plot = pd.DataFrame({\"update_method\": update_method, \"losses\": np.array(losses), \"epoch\": np.arange(len(losses))})\n",
    "\n",
    "fig, ax = plt.subplots(figsize=(10, 8))\n",
    "sns.lineplot(data=df_plot, x=\"epoch\", y=\"losses\", ax=ax , hue=\"update_method\")\n",
    "\n",
    "ax.set_xlabel(\"Epoch\")\n",
    "ax.set_ylabel(\"Loss\")\n",
    "ax.legend(title=\"Update method\")\n",
    "plt.show()"
   ]
  },
  {
   "cell_type": "code",
   "execution_count": null,
   "metadata": {},
   "outputs": [],
   "source": []
  }
 ],
 "metadata": {
  "kernelspec": {
   "display_name": "Python [conda env:py37_fastai]",
   "language": "python",
   "name": "conda-env-py37_fastai-py"
  },
  "language_info": {
   "codemirror_mode": {
    "name": "ipython",
    "version": 3
   },
   "file_extension": ".py",
   "mimetype": "text/x-python",
   "name": "python",
   "nbconvert_exporter": "python",
   "pygments_lexer": "ipython3",
   "version": "3.7.5"
  }
 },
 "nbformat": 4,
 "nbformat_minor": 2
}
