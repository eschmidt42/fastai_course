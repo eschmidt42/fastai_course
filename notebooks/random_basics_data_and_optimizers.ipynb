{
 "cells": [
  {
   "cell_type": "markdown",
   "metadata": {},
   "source": [
    "# Deep learning basics from scratch applied to linear models - data management, optimizers & learning  rate schedulers\n",
    "\n",
    "After watching \"Practical Deep Learning for Coders v3\" lectures [here](https://course.fast.ai/) I decided to apply some of the principles and write them from scratch using [pytorch](https://pytorch.org/) within a single (very long) notebook. A problem class I find quite useful is fitting polynomials because they are kind of easy to generate, including perturbations. Among other things in this notebook are gradient descent methods for optimization. While this may not be the most efficient way to solve a linear regression problem compared to a one liner like implementing the [analytical solution](https://en.wikipedia.org/wiki/Linear_regression#Least-squares_estimation_and_related_techniques), it is an easy enough example with the meaning of the inputs, outputs and weights being clear so that one can get a good feeling for what is going on (or wrong) in the optimization process.\n",
    "\n",
    "While implementing the gradient methods I made a ton of mistakes, of course. Also sometimes it seems like an implementation of an optimizer is broken because the convergence seems crappy but actually it's just due to the set hyper parameters. So working on this also led me to add a bunch of pretty bokeh charts which help to get an idea of what's going on and compare different optimization settings. \n",
    "\n",
    "One of the probably most remarkable things is the \"one cycle\" policy. But see for yourself. 🙂\n",
    "\n",
    "## Things in this notebook\n",
    "- total overkill for solving linear regression problems \n",
    "- data management from scratch fastai/pytorch style\n",
    "- optimizers from scratch using pytorch\n",
    "- monitoring of optimization processes\n",
    "- scheduling of hyper parameters incl. the one cycle policy\n",
    "- a ton of bokeh charts\n",
    "\n",
    "\n",
    "## References\n",
    "\n",
    "**Data management**\n",
    "- [fastai/basic_data.py](https://github.com/fastai/fastai/blob/master/fastai/basic_data.py)\n",
    "- [fastai lecture on data block api (among other things)](https://course.fast.ai/videos/?lesson=11)\n",
    "\n",
    "**Cyclical hyper parameter schedules**\n",
    "- [Smith et al. 2017](https://arxiv.org/abs/1506.01186): cyclical learning rate & range test\n",
    "- [Smith 2018](http://arxiv.org/abs/1803.09820) cyclical learning rate & cyclical momentum \n",
    "- [Smith and Topin 2018](https://arxiv.org/pdf/1708.07120.pdf): super-convergen & one cycle policy\n",
    "\n",
    "- [medium blog post](https://medium.com/dsnet/the-1-cycle-policy-an-experiment-that-vanished-the-struggle-in-training-neural-nets-184417de23b9): Shubhaajit Das on the one cycle policy\n",
    "\n",
    "**Dimensionality reduction**\n",
    "- [wiki](https://en.wikipedia.org/wiki/Principal_component_analysis#Singular_value_decomposition): PCA & SVD\n",
    "\n",
    "**Optimizers**\n",
    "- [Kingma and Ba 2014](https://arxiv.org/abs/1412.6980): Adam\n",
    "- Covariance Matrix Adaption Evolutionary Strategy (CMA-ES):\n",
    "    - p29 of: [N. Hansen, 2016, The CMA Evolution Strategy: A Tutorial](http://arxiv.org/abs/1604.00772), \n",
    "    - [wiki](https://en.wikipedia.org/wiki/CMA-ES).\n",
    "- RMSProp:\n",
    "    - [coursera course](https://www.cs.toronto.edu/~tijmen/csc321/slides/lecture_slides_lec6.pdf),\n",
    "    - towardsdatascience [blog post by Vitaly Bushaev](https://towardsdatascience.com/understanding-rmsprop-faster-neural-network-learning-62e116fcf29a)"
   ]
  },
  {
   "cell_type": "code",
   "execution_count": 1,
   "metadata": {
    "scrolled": true
   },
   "outputs": [],
   "source": [
    "%matplotlib inline"
   ]
  },
  {
   "cell_type": "code",
   "execution_count": 2,
   "metadata": {},
   "outputs": [],
   "source": [
    "from fastai.basics import torch\n",
    "\n",
    "import numpy as np\n",
    "from scipy import stats\n",
    "import pandas as pd\n",
    "import matplotlib.pyplot as plt\n",
    "from matplotlib import cm\n",
    "import seaborn as sns\n",
    "from typing import List, Union\n",
    "from functools import partial\n",
    "\n",
    "import bokeh.io as bokeh_io\n",
    "import bokeh.plotting as bokeh_plotting\n",
    "import bokeh.models as bokeh_models\n",
    "import bokeh.palettes as bokeh_palettes\n",
    "import bokeh.transform as bokeh_transform\n",
    "\n",
    "from ipywidgets import interactive"
   ]
  },
  {
   "cell_type": "code",
   "execution_count": 3,
   "metadata": {},
   "outputs": [
    {
     "data": {
      "text/html": [
       "\n",
       "    <div class=\"bk-root\">\n",
       "        <a href=\"https://bokeh.org\" target=\"_blank\" class=\"bk-logo bk-logo-small bk-logo-notebook\"></a>\n",
       "        <span id=\"1001\">Loading BokehJS ...</span>\n",
       "    </div>"
      ]
     },
     "metadata": {},
     "output_type": "display_data"
    },
    {
     "data": {
      "application/javascript": [
       "\n",
       "(function(root) {\n",
       "  function now() {\n",
       "    return new Date();\n",
       "  }\n",
       "\n",
       "  var force = true;\n",
       "\n",
       "  if (typeof root._bokeh_onload_callbacks === \"undefined\" || force === true) {\n",
       "    root._bokeh_onload_callbacks = [];\n",
       "    root._bokeh_is_loading = undefined;\n",
       "  }\n",
       "\n",
       "  var JS_MIME_TYPE = 'application/javascript';\n",
       "  var HTML_MIME_TYPE = 'text/html';\n",
       "  var EXEC_MIME_TYPE = 'application/vnd.bokehjs_exec.v0+json';\n",
       "  var CLASS_NAME = 'output_bokeh rendered_html';\n",
       "\n",
       "  /**\n",
       "   * Render data to the DOM node\n",
       "   */\n",
       "  function render(props, node) {\n",
       "    var script = document.createElement(\"script\");\n",
       "    node.appendChild(script);\n",
       "  }\n",
       "\n",
       "  /**\n",
       "   * Handle when an output is cleared or removed\n",
       "   */\n",
       "  function handleClearOutput(event, handle) {\n",
       "    var cell = handle.cell;\n",
       "\n",
       "    var id = cell.output_area._bokeh_element_id;\n",
       "    var server_id = cell.output_area._bokeh_server_id;\n",
       "    // Clean up Bokeh references\n",
       "    if (id != null && id in Bokeh.index) {\n",
       "      Bokeh.index[id].model.document.clear();\n",
       "      delete Bokeh.index[id];\n",
       "    }\n",
       "\n",
       "    if (server_id !== undefined) {\n",
       "      // Clean up Bokeh references\n",
       "      var cmd = \"from bokeh.io.state import curstate; print(curstate().uuid_to_server['\" + server_id + \"'].get_sessions()[0].document.roots[0]._id)\";\n",
       "      cell.notebook.kernel.execute(cmd, {\n",
       "        iopub: {\n",
       "          output: function(msg) {\n",
       "            var id = msg.content.text.trim();\n",
       "            if (id in Bokeh.index) {\n",
       "              Bokeh.index[id].model.document.clear();\n",
       "              delete Bokeh.index[id];\n",
       "            }\n",
       "          }\n",
       "        }\n",
       "      });\n",
       "      // Destroy server and session\n",
       "      var cmd = \"import bokeh.io.notebook as ion; ion.destroy_server('\" + server_id + \"')\";\n",
       "      cell.notebook.kernel.execute(cmd);\n",
       "    }\n",
       "  }\n",
       "\n",
       "  /**\n",
       "   * Handle when a new output is added\n",
       "   */\n",
       "  function handleAddOutput(event, handle) {\n",
       "    var output_area = handle.output_area;\n",
       "    var output = handle.output;\n",
       "\n",
       "    // limit handleAddOutput to display_data with EXEC_MIME_TYPE content only\n",
       "    if ((output.output_type != \"display_data\") || (!output.data.hasOwnProperty(EXEC_MIME_TYPE))) {\n",
       "      return\n",
       "    }\n",
       "\n",
       "    var toinsert = output_area.element.find(\".\" + CLASS_NAME.split(' ')[0]);\n",
       "\n",
       "    if (output.metadata[EXEC_MIME_TYPE][\"id\"] !== undefined) {\n",
       "      toinsert[toinsert.length - 1].firstChild.textContent = output.data[JS_MIME_TYPE];\n",
       "      // store reference to embed id on output_area\n",
       "      output_area._bokeh_element_id = output.metadata[EXEC_MIME_TYPE][\"id\"];\n",
       "    }\n",
       "    if (output.metadata[EXEC_MIME_TYPE][\"server_id\"] !== undefined) {\n",
       "      var bk_div = document.createElement(\"div\");\n",
       "      bk_div.innerHTML = output.data[HTML_MIME_TYPE];\n",
       "      var script_attrs = bk_div.children[0].attributes;\n",
       "      for (var i = 0; i < script_attrs.length; i++) {\n",
       "        toinsert[toinsert.length - 1].firstChild.setAttribute(script_attrs[i].name, script_attrs[i].value);\n",
       "      }\n",
       "      // store reference to server id on output_area\n",
       "      output_area._bokeh_server_id = output.metadata[EXEC_MIME_TYPE][\"server_id\"];\n",
       "    }\n",
       "  }\n",
       "\n",
       "  function register_renderer(events, OutputArea) {\n",
       "\n",
       "    function append_mime(data, metadata, element) {\n",
       "      // create a DOM node to render to\n",
       "      var toinsert = this.create_output_subarea(\n",
       "        metadata,\n",
       "        CLASS_NAME,\n",
       "        EXEC_MIME_TYPE\n",
       "      );\n",
       "      this.keyboard_manager.register_events(toinsert);\n",
       "      // Render to node\n",
       "      var props = {data: data, metadata: metadata[EXEC_MIME_TYPE]};\n",
       "      render(props, toinsert[toinsert.length - 1]);\n",
       "      element.append(toinsert);\n",
       "      return toinsert\n",
       "    }\n",
       "\n",
       "    /* Handle when an output is cleared or removed */\n",
       "    events.on('clear_output.CodeCell', handleClearOutput);\n",
       "    events.on('delete.Cell', handleClearOutput);\n",
       "\n",
       "    /* Handle when a new output is added */\n",
       "    events.on('output_added.OutputArea', handleAddOutput);\n",
       "\n",
       "    /**\n",
       "     * Register the mime type and append_mime function with output_area\n",
       "     */\n",
       "    OutputArea.prototype.register_mime_type(EXEC_MIME_TYPE, append_mime, {\n",
       "      /* Is output safe? */\n",
       "      safe: true,\n",
       "      /* Index of renderer in `output_area.display_order` */\n",
       "      index: 0\n",
       "    });\n",
       "  }\n",
       "\n",
       "  // register the mime type if in Jupyter Notebook environment and previously unregistered\n",
       "  if (root.Jupyter !== undefined) {\n",
       "    var events = require('base/js/events');\n",
       "    var OutputArea = require('notebook/js/outputarea').OutputArea;\n",
       "\n",
       "    if (OutputArea.prototype.mime_types().indexOf(EXEC_MIME_TYPE) == -1) {\n",
       "      register_renderer(events, OutputArea);\n",
       "    }\n",
       "  }\n",
       "\n",
       "  \n",
       "  if (typeof (root._bokeh_timeout) === \"undefined\" || force === true) {\n",
       "    root._bokeh_timeout = Date.now() + 5000;\n",
       "    root._bokeh_failed_load = false;\n",
       "  }\n",
       "\n",
       "  var NB_LOAD_WARNING = {'data': {'text/html':\n",
       "     \"<div style='background-color: #fdd'>\\n\"+\n",
       "     \"<p>\\n\"+\n",
       "     \"BokehJS does not appear to have successfully loaded. If loading BokehJS from CDN, this \\n\"+\n",
       "     \"may be due to a slow or bad network connection. Possible fixes:\\n\"+\n",
       "     \"</p>\\n\"+\n",
       "     \"<ul>\\n\"+\n",
       "     \"<li>re-rerun `output_notebook()` to attempt to load from CDN again, or</li>\\n\"+\n",
       "     \"<li>use INLINE resources instead, as so:</li>\\n\"+\n",
       "     \"</ul>\\n\"+\n",
       "     \"<code>\\n\"+\n",
       "     \"from bokeh.resources import INLINE\\n\"+\n",
       "     \"output_notebook(resources=INLINE)\\n\"+\n",
       "     \"</code>\\n\"+\n",
       "     \"</div>\"}};\n",
       "\n",
       "  function display_loaded() {\n",
       "    var el = document.getElementById(\"1001\");\n",
       "    if (el != null) {\n",
       "      el.textContent = \"BokehJS is loading...\";\n",
       "    }\n",
       "    if (root.Bokeh !== undefined) {\n",
       "      if (el != null) {\n",
       "        el.textContent = \"BokehJS \" + root.Bokeh.version + \" successfully loaded.\";\n",
       "      }\n",
       "    } else if (Date.now() < root._bokeh_timeout) {\n",
       "      setTimeout(display_loaded, 100)\n",
       "    }\n",
       "  }\n",
       "\n",
       "\n",
       "  function run_callbacks() {\n",
       "    try {\n",
       "      root._bokeh_onload_callbacks.forEach(function(callback) {\n",
       "        if (callback != null)\n",
       "          callback();\n",
       "      });\n",
       "    } finally {\n",
       "      delete root._bokeh_onload_callbacks\n",
       "    }\n",
       "    console.debug(\"Bokeh: all callbacks have finished\");\n",
       "  }\n",
       "\n",
       "  function load_libs(css_urls, js_urls, callback) {\n",
       "    if (css_urls == null) css_urls = [];\n",
       "    if (js_urls == null) js_urls = [];\n",
       "\n",
       "    root._bokeh_onload_callbacks.push(callback);\n",
       "    if (root._bokeh_is_loading > 0) {\n",
       "      console.debug(\"Bokeh: BokehJS is being loaded, scheduling callback at\", now());\n",
       "      return null;\n",
       "    }\n",
       "    if (js_urls == null || js_urls.length === 0) {\n",
       "      run_callbacks();\n",
       "      return null;\n",
       "    }\n",
       "    console.debug(\"Bokeh: BokehJS not loaded, scheduling load and callback at\", now());\n",
       "    root._bokeh_is_loading = css_urls.length + js_urls.length;\n",
       "\n",
       "    function on_load() {\n",
       "      root._bokeh_is_loading--;\n",
       "      if (root._bokeh_is_loading === 0) {\n",
       "        console.debug(\"Bokeh: all BokehJS libraries/stylesheets loaded\");\n",
       "        run_callbacks()\n",
       "      }\n",
       "    }\n",
       "\n",
       "    function on_error() {\n",
       "      console.error(\"failed to load \" + url);\n",
       "    }\n",
       "\n",
       "    for (var i = 0; i < css_urls.length; i++) {\n",
       "      var url = css_urls[i];\n",
       "      const element = document.createElement(\"link\");\n",
       "      element.onload = on_load;\n",
       "      element.onerror = on_error;\n",
       "      element.rel = \"stylesheet\";\n",
       "      element.type = \"text/css\";\n",
       "      element.href = url;\n",
       "      console.debug(\"Bokeh: injecting link tag for BokehJS stylesheet: \", url);\n",
       "      document.body.appendChild(element);\n",
       "    }\n",
       "\n",
       "    for (var i = 0; i < js_urls.length; i++) {\n",
       "      var url = js_urls[i];\n",
       "      var element = document.createElement('script');\n",
       "      element.onload = on_load;\n",
       "      element.onerror = on_error;\n",
       "      element.async = false;\n",
       "      element.src = url;\n",
       "      console.debug(\"Bokeh: injecting script tag for BokehJS library: \", url);\n",
       "      document.head.appendChild(element);\n",
       "    }\n",
       "  };var element = document.getElementById(\"1001\");\n",
       "  if (element == null) {\n",
       "    console.error(\"Bokeh: ERROR: autoload.js configured with elementid '1001' but no matching script tag was found. \")\n",
       "    return false;\n",
       "  }\n",
       "\n",
       "  function inject_raw_css(css) {\n",
       "    const element = document.createElement(\"style\");\n",
       "    element.appendChild(document.createTextNode(css));\n",
       "    document.body.appendChild(element);\n",
       "  }\n",
       "\n",
       "  \n",
       "  var js_urls = [\"https://cdn.pydata.org/bokeh/release/bokeh-1.4.0.min.js\", \"https://cdn.pydata.org/bokeh/release/bokeh-widgets-1.4.0.min.js\", \"https://cdn.pydata.org/bokeh/release/bokeh-tables-1.4.0.min.js\", \"https://cdn.pydata.org/bokeh/release/bokeh-gl-1.4.0.min.js\"];\n",
       "  var css_urls = [];\n",
       "  \n",
       "\n",
       "  var inline_js = [\n",
       "    function(Bokeh) {\n",
       "      Bokeh.set_log_level(\"info\");\n",
       "    },\n",
       "    function(Bokeh) {\n",
       "    \n",
       "    \n",
       "    }\n",
       "  ];\n",
       "\n",
       "  function run_inline_js() {\n",
       "    \n",
       "    if (root.Bokeh !== undefined || force === true) {\n",
       "      \n",
       "    for (var i = 0; i < inline_js.length; i++) {\n",
       "      inline_js[i].call(root, root.Bokeh);\n",
       "    }\n",
       "    if (force === true) {\n",
       "        display_loaded();\n",
       "      }} else if (Date.now() < root._bokeh_timeout) {\n",
       "      setTimeout(run_inline_js, 100);\n",
       "    } else if (!root._bokeh_failed_load) {\n",
       "      console.log(\"Bokeh: BokehJS failed to load within specified timeout.\");\n",
       "      root._bokeh_failed_load = true;\n",
       "    } else if (force !== true) {\n",
       "      var cell = $(document.getElementById(\"1001\")).parents('.cell').data().cell;\n",
       "      cell.output_area.append_execute_result(NB_LOAD_WARNING)\n",
       "    }\n",
       "\n",
       "  }\n",
       "\n",
       "  if (root._bokeh_is_loading === 0) {\n",
       "    console.debug(\"Bokeh: BokehJS loaded, going straight to plotting\");\n",
       "    run_inline_js();\n",
       "  } else {\n",
       "    load_libs(css_urls, js_urls, function() {\n",
       "      console.debug(\"Bokeh: BokehJS plotting callback run at\", now());\n",
       "      run_inline_js();\n",
       "    });\n",
       "  }\n",
       "}(window));"
      ],
      "application/vnd.bokehjs_load.v0+json": "\n(function(root) {\n  function now() {\n    return new Date();\n  }\n\n  var force = true;\n\n  if (typeof root._bokeh_onload_callbacks === \"undefined\" || force === true) {\n    root._bokeh_onload_callbacks = [];\n    root._bokeh_is_loading = undefined;\n  }\n\n  \n\n  \n  if (typeof (root._bokeh_timeout) === \"undefined\" || force === true) {\n    root._bokeh_timeout = Date.now() + 5000;\n    root._bokeh_failed_load = false;\n  }\n\n  var NB_LOAD_WARNING = {'data': {'text/html':\n     \"<div style='background-color: #fdd'>\\n\"+\n     \"<p>\\n\"+\n     \"BokehJS does not appear to have successfully loaded. If loading BokehJS from CDN, this \\n\"+\n     \"may be due to a slow or bad network connection. Possible fixes:\\n\"+\n     \"</p>\\n\"+\n     \"<ul>\\n\"+\n     \"<li>re-rerun `output_notebook()` to attempt to load from CDN again, or</li>\\n\"+\n     \"<li>use INLINE resources instead, as so:</li>\\n\"+\n     \"</ul>\\n\"+\n     \"<code>\\n\"+\n     \"from bokeh.resources import INLINE\\n\"+\n     \"output_notebook(resources=INLINE)\\n\"+\n     \"</code>\\n\"+\n     \"</div>\"}};\n\n  function display_loaded() {\n    var el = document.getElementById(\"1001\");\n    if (el != null) {\n      el.textContent = \"BokehJS is loading...\";\n    }\n    if (root.Bokeh !== undefined) {\n      if (el != null) {\n        el.textContent = \"BokehJS \" + root.Bokeh.version + \" successfully loaded.\";\n      }\n    } else if (Date.now() < root._bokeh_timeout) {\n      setTimeout(display_loaded, 100)\n    }\n  }\n\n\n  function run_callbacks() {\n    try {\n      root._bokeh_onload_callbacks.forEach(function(callback) {\n        if (callback != null)\n          callback();\n      });\n    } finally {\n      delete root._bokeh_onload_callbacks\n    }\n    console.debug(\"Bokeh: all callbacks have finished\");\n  }\n\n  function load_libs(css_urls, js_urls, callback) {\n    if (css_urls == null) css_urls = [];\n    if (js_urls == null) js_urls = [];\n\n    root._bokeh_onload_callbacks.push(callback);\n    if (root._bokeh_is_loading > 0) {\n      console.debug(\"Bokeh: BokehJS is being loaded, scheduling callback at\", now());\n      return null;\n    }\n    if (js_urls == null || js_urls.length === 0) {\n      run_callbacks();\n      return null;\n    }\n    console.debug(\"Bokeh: BokehJS not loaded, scheduling load and callback at\", now());\n    root._bokeh_is_loading = css_urls.length + js_urls.length;\n\n    function on_load() {\n      root._bokeh_is_loading--;\n      if (root._bokeh_is_loading === 0) {\n        console.debug(\"Bokeh: all BokehJS libraries/stylesheets loaded\");\n        run_callbacks()\n      }\n    }\n\n    function on_error() {\n      console.error(\"failed to load \" + url);\n    }\n\n    for (var i = 0; i < css_urls.length; i++) {\n      var url = css_urls[i];\n      const element = document.createElement(\"link\");\n      element.onload = on_load;\n      element.onerror = on_error;\n      element.rel = \"stylesheet\";\n      element.type = \"text/css\";\n      element.href = url;\n      console.debug(\"Bokeh: injecting link tag for BokehJS stylesheet: \", url);\n      document.body.appendChild(element);\n    }\n\n    for (var i = 0; i < js_urls.length; i++) {\n      var url = js_urls[i];\n      var element = document.createElement('script');\n      element.onload = on_load;\n      element.onerror = on_error;\n      element.async = false;\n      element.src = url;\n      console.debug(\"Bokeh: injecting script tag for BokehJS library: \", url);\n      document.head.appendChild(element);\n    }\n  };var element = document.getElementById(\"1001\");\n  if (element == null) {\n    console.error(\"Bokeh: ERROR: autoload.js configured with elementid '1001' but no matching script tag was found. \")\n    return false;\n  }\n\n  function inject_raw_css(css) {\n    const element = document.createElement(\"style\");\n    element.appendChild(document.createTextNode(css));\n    document.body.appendChild(element);\n  }\n\n  \n  var js_urls = [\"https://cdn.pydata.org/bokeh/release/bokeh-1.4.0.min.js\", \"https://cdn.pydata.org/bokeh/release/bokeh-widgets-1.4.0.min.js\", \"https://cdn.pydata.org/bokeh/release/bokeh-tables-1.4.0.min.js\", \"https://cdn.pydata.org/bokeh/release/bokeh-gl-1.4.0.min.js\"];\n  var css_urls = [];\n  \n\n  var inline_js = [\n    function(Bokeh) {\n      Bokeh.set_log_level(\"info\");\n    },\n    function(Bokeh) {\n    \n    \n    }\n  ];\n\n  function run_inline_js() {\n    \n    if (root.Bokeh !== undefined || force === true) {\n      \n    for (var i = 0; i < inline_js.length; i++) {\n      inline_js[i].call(root, root.Bokeh);\n    }\n    if (force === true) {\n        display_loaded();\n      }} else if (Date.now() < root._bokeh_timeout) {\n      setTimeout(run_inline_js, 100);\n    } else if (!root._bokeh_failed_load) {\n      console.log(\"Bokeh: BokehJS failed to load within specified timeout.\");\n      root._bokeh_failed_load = true;\n    } else if (force !== true) {\n      var cell = $(document.getElementById(\"1001\")).parents('.cell').data().cell;\n      cell.output_area.append_execute_result(NB_LOAD_WARNING)\n    }\n\n  }\n\n  if (root._bokeh_is_loading === 0) {\n    console.debug(\"Bokeh: BokehJS loaded, going straight to plotting\");\n    run_inline_js();\n  } else {\n    load_libs(css_urls, js_urls, function() {\n      console.debug(\"Bokeh: BokehJS plotting callback run at\", now());\n      run_inline_js();\n    });\n  }\n}(window));"
     },
     "metadata": {},
     "output_type": "display_data"
    }
   ],
   "source": [
    "bokeh_io.output_notebook()"
   ]
  },
  {
   "cell_type": "markdown",
   "metadata": {},
   "source": [
    "## Generating data"
   ]
  },
  {
   "cell_type": "code",
   "execution_count": 4,
   "metadata": {
    "scrolled": true
   },
   "outputs": [
    {
     "data": {
      "image/png": "[encoded data removed]",
      "text/plain": [
       "<Figure size 576x576 with 1 Axes>"
      ]
     },
     "metadata": {
      "needs_background": "light"
     },
     "output_type": "display_data"
    }
   ],
   "source": [
    "def polynomify(x: torch.Tensor, deg: int):\n",
    "    X = torch.empty(len(x), deg)\n",
    "    for i in range(deg):\n",
    "        X[:,i] = x ** (deg-i-1)\n",
    "    return X\n",
    "\n",
    "n_obs = 200\n",
    "x = torch.linspace(-1, 3, n_obs)\n",
    "# w = torch.tensor([2., 1., 10.])\n",
    "w = torch.tensor([3., -2., 5, 2.])\n",
    "deg = len(w)\n",
    "X = polynomify(x, deg)\n",
    "y_err = stats.norm(loc=0, scale=.2).rvs(size=x.shape[0])\n",
    "y_err = torch.from_numpy(y_err)\n",
    "y_fun = lambda x: x@w + y_err\n",
    "\n",
    "y = y_fun(X)\n",
    "figsize = (8,8)\n",
    "fig, ax = plt.subplots(figsize=figsize)\n",
    "ax.plot(x, y, \".\", label=\"data\")\n",
    "ax.set_xlabel(\"x\")\n",
    "ax.set_ylabel(\"y\")\n",
    "# ax.set_aspect(\"equal\")\n",
    "ax.legend()\n",
    "plt.show()"
   ]
  },
  {
   "cell_type": "code",
   "execution_count": 5,
   "metadata": {
    "scrolled": true
   },
   "outputs": [
    {
     "data": {
      "text/plain": [
       "(torch.Size([200]), torch.Size([200]), torch.Size([200, 4]), torch.Size([4]))"
      ]
     },
     "execution_count": 5,
     "metadata": {},
     "output_type": "execute_result"
    }
   ],
   "source": [
    "x.size(), y.size(), X.size(), w.size()"
   ]
  },
  {
   "cell_type": "code",
   "execution_count": 6,
   "metadata": {},
   "outputs": [],
   "source": [
    "def MSELoss(pred, truth):\n",
    "    Δ = pred - truth\n",
    "    Δ2 = Δ * Δ\n",
    "    return Δ2.mean()\n",
    "\n",
    "def RMSELoss(pred, truth):\n",
    "    Δ = pred - truth\n",
    "    Δ2 = Δ * Δ\n",
    "    return torch.sqrt(Δ2.mean())"
   ]
  },
  {
   "cell_type": "code",
   "execution_count": 7,
   "metadata": {},
   "outputs": [
    {
     "data": {
      "text/plain": [
       "(tensor(0.0453, dtype=torch.float64), tensor(0.2129, dtype=torch.float64))"
      ]
     },
     "execution_count": 7,
     "metadata": {},
     "output_type": "execute_result"
    }
   ],
   "source": [
    "MSELoss(X@w, y), RMSELoss(X@w, y)"
   ]
  },
  {
   "cell_type": "code",
   "execution_count": 8,
   "metadata": {},
   "outputs": [
    {
     "name": "stdout",
     "output_type": "stream",
     "text": [
      "torch.Size([160]) torch.Size([40])\n"
     ]
    }
   ],
   "source": [
    "def get_split_indices(n: int, val_pct: float = .2):\n",
    "    val_pct = .2\n",
    "    n_val = int(n*val_pct)\n",
    "    ix = torch.randperm(n) \n",
    "    return ix[n_val:], ix[:n_val]\n",
    "\n",
    "ix_train, ix_val = get_split_indices(n_obs, val_pct=.2)\n",
    "print(ix_train.size(), ix_val.size())"
   ]
  },
  {
   "cell_type": "markdown",
   "metadata": {},
   "source": [
    "## Data set and data loader"
   ]
  },
  {
   "cell_type": "code",
   "execution_count": 9,
   "metadata": {},
   "outputs": [],
   "source": [
    "class XYDataset:\n",
    "    \"Basic data storage\"\n",
    "    def __init__(self, x: torch.tensor, y: torch.tensor):\n",
    "        self.x = x\n",
    "        self.y = y\n",
    "        \n",
    "    def __len__(self):\n",
    "        return len(self.x)\n",
    "    \n",
    "    def __getitem__(self, i):\n",
    "        return self.x[i], self.y[i]\n",
    "    \n",
    "\n",
    "def noisify(xy, device=\"cpu\", std_x=.1, std_y=.1):\n",
    "    x, y = xy\n",
    "    if not torch.is_tensor(x):\n",
    "        x = torch.from_numpy(x).clone().to(device)\n",
    "    if not torch.is_tensor(y):\n",
    "        y = torch.from_numpy(y).clone().to(device)\n",
    "    \n",
    "    \n",
    "    dx = torch.normal(mean=0., std=std_x, size=x.size()).to(device)\n",
    "    dy = torch.normal(mean=0., std=std_x, size=y.size()).to(device)\n",
    "    return x + dx, y + dy\n",
    "\n",
    "\n",
    "def random_order(end, bs):\n",
    "    ix = torch.randperm(end)\n",
    "    for i in range(0, end, bs):\n",
    "        yield ix[i:i+bs]\n",
    "        \n",
    "def boring_order(end, bs):\n",
    "    ix = torch.arange(end)\n",
    "    for i in range(0, end, bs):\n",
    "        yield ix[i:i+bs]\n",
    "        \n",
    "    \n",
    "class XYDataLoader:\n",
    "    \"Provides an iterator (plus sampler) and transforms over stored data\"\n",
    "    def __init__(self, ds: XYDataset, bs: int = 1, sampler_callback: callable=None, trafos: List[callable]=None):\n",
    "        self.ds = ds\n",
    "        self.bs = bs\n",
    "        self.sampler = sampler_callback if sampler_callback is not None else boring_order\n",
    "        self.trafos = trafos\n",
    "        \n",
    "    def transform_batch(self, batch):\n",
    "        if self.trafos is not None:\n",
    "            for trafo in self.trafos:\n",
    "                batch = trafo(batch)\n",
    "        return batch\n",
    "        \n",
    "    def __iter__(self):\n",
    "        for s in self.sampler(len(self.ds), self.bs):\n",
    "            yield self.transform_batch(self.ds[s])\n",
    "\n",
    "\n",
    "class XYDatabunch:\n",
    "    \"Bunches different data loaders\"\n",
    "    g: dict = {\"train\": None, \"valid\": None}\n",
    "    \n",
    "    def __init__(self, dl_train: XYDataLoader, dl_valid: XYDataLoader):\n",
    "        self.dl_train = dl_train\n",
    "        self.dl_valid = dl_valid\n",
    "        \n",
    "    def one_batch(self):\n",
    "        return self.get_data(kind=\"train\", reset_if_end=True)\n",
    "    \n",
    "    def reset_iterator(self, kind): self.g[kind] = iter(getattr(self, f\"dl_{kind}\"))\n",
    "    \n",
    "    def _get_data(self, kind: str = \"train\", reset: bool = True):\n",
    "        if self.g[kind] is None or reset is True: \n",
    "            self.reset_iterator(kind)\n",
    "        return next(self.g[kind], (None, None))\n",
    "    \n",
    "    def get_data(self, kind: str = \"train\", reset_if_end: bool = True):\n",
    "        \n",
    "        assert kind in self.g\n",
    "        out = self._get_data(kind, reset_if_end)\n",
    "        if out[0] is None and reset_if_end is True:\n",
    "            return self._get_data(reset=True)\n",
    "        if out[0] is None:\n",
    "            raise StopIteration\n",
    "        return out\n"
   ]
  },
  {
   "cell_type": "code",
   "execution_count": 10,
   "metadata": {},
   "outputs": [],
   "source": [
    "bs_train, bs_valid = 40, 20\n",
    "ds_train = XYDataset(X[ix_train], y[ix_train])\n",
    "ds_valid = XYDataset(X[ix_val], y[ix_val])\n",
    "dl_train = XYDataLoader(ds_train, bs=bs_train, sampler_callback=random_order, # random_order boring_order\n",
    "                        trafos=None)  # [partial(noisify, std_x=.001)]\n",
    "dl_valid = XYDataLoader(ds_valid, bs=bs_valid, sampler_callback=random_order, \n",
    "                        trafos=None)  # [partial(noisify, std_x=.001)]\n",
    "db = XYDatabunch(dl_train, dl_valid)"
   ]
  },
  {
   "cell_type": "code",
   "execution_count": null,
   "metadata": {
    "scrolled": true
   },
   "outputs": [],
   "source": [
    "print(db.get_data(\"train\"))"
   ]
  },
  {
   "cell_type": "code",
   "execution_count": 12,
   "metadata": {},
   "outputs": [
    {
     "data": {
      "text/plain": [
       "(torch.Size([40, 4]), torch.Size([40]))"
      ]
     },
     "execution_count": 12,
     "metadata": {},
     "output_type": "execute_result"
    }
   ],
   "source": [
    "_x, _y = db.get_data(\"train\")\n",
    "_x.size(), _y.size()"
   ]
  },
  {
   "cell_type": "code",
   "execution_count": 13,
   "metadata": {},
   "outputs": [
    {
     "data": {
      "text/plain": [
       "(tensor([[ 6.7437e-02,  1.6568e-01,  4.0704e-01,  1.0000e+00],\n",
       "         [ 3.3244e+00,  2.2274e+00,  1.4925e+00,  1.0000e+00],\n",
       "         [ 1.6433e-01,  3.0002e-01,  5.4774e-01,  1.0000e+00],\n",
       "         [ 1.5239e+00,  1.3242e+00,  1.1508e+00,  1.0000e+00],\n",
       "         [ 3.2629e-01,  4.7395e-01,  6.8844e-01,  1.0000e+00],\n",
       "         [ 8.9390e+00,  4.3072e+00,  2.0754e+00,  1.0000e+00],\n",
       "         [ 2.3614e+00,  1.7733e+00,  1.3317e+00,  1.0000e+00],\n",
       "         [ 5.7736e+00,  3.2183e+00,  1.7940e+00,  1.0000e+00],\n",
       "         [ 1.4929e-02,  6.0630e-02,  2.4623e-01,  1.0000e+00],\n",
       "         [ 6.2343e-04,  7.2978e-03,  8.5427e-02,  1.0000e+00],\n",
       "         [ 1.7131e+01,  6.6455e+00,  2.5779e+00,  1.0000e+00],\n",
       "         [ 3.4848e-02,  1.0669e-01,  3.2663e-01,  1.0000e+00],\n",
       "         [ 8.5669e-01,  9.0202e-01,  9.4975e-01,  1.0000e+00],\n",
       "         [ 2.8155e+00,  1.9939e+00,  1.4121e+00,  1.0000e+00],\n",
       "         [ 1.6342e+01,  6.4399e+00,  2.5377e+00,  1.0000e+00],\n",
       "         [ 1.7762e+00,  1.4667e+00,  1.2111e+00,  1.0000e+00],\n",
       "         [-5.1007e-01,  6.3839e-01, -7.9899e-01,  1.0000e+00],\n",
       "         [-7.2556e-02,  1.7396e-01, -4.1709e-01,  1.0000e+00],\n",
       "         [ 7.9398e+00,  3.9799e+00,  1.9950e+00,  1.0000e+00],\n",
       "         [ 1.5957e+01,  6.3382e+00,  2.5176e+00,  1.0000e+00],\n",
       "         [-4.2827e-04,  5.6817e-03, -7.5377e-02,  1.0000e+00],\n",
       "         [-1.0089e-02,  4.6691e-02, -2.1608e-01,  1.0000e+00],\n",
       "         [ 7.4695e+00,  3.8211e+00,  1.9548e+00,  1.0000e+00],\n",
       "         [-5.3533e-02,  1.4204e-01, -3.7688e-01,  1.0000e+00],\n",
       "         [ 1.1585e+00,  1.1030e+00,  1.0503e+00,  1.0000e+00],\n",
       "         [-6.8007e-01,  7.7334e-01, -8.7940e-01,  1.0000e+00],\n",
       "         [-2.1384e-01,  3.5759e-01, -5.9799e-01,  1.0000e+00],\n",
       "         [ 1.2432e+01,  5.3666e+00,  2.3166e+00,  1.0000e+00],\n",
       "         [-8.3560e-02,  1.9113e-01, -4.3719e-01,  1.0000e+00],\n",
       "         [ 1.3772e+01,  5.7455e+00,  2.3970e+00,  1.0000e+00],\n",
       "         [-4.3525e-05,  1.2373e-03, -3.5176e-02,  1.0000e+00],\n",
       "         [ 2.1540e+00,  1.6679e+00,  1.2915e+00,  1.0000e+00],\n",
       "         [ 5.7002e-01,  6.8748e-01,  8.2915e-01,  1.0000e+00],\n",
       "         [ 2.1928e+01,  7.8344e+00,  2.7990e+00,  1.0000e+00],\n",
       "         [ 6.4276e-03,  3.4570e-02,  1.8593e-01,  1.0000e+00],\n",
       "         [ 1.1182e+01,  5.0005e+00,  2.2362e+00,  1.0000e+00],\n",
       "         [-4.7254e-01,  6.0668e-01, -7.7889e-01,  1.0000e+00],\n",
       "         [ 1.4690e-01,  2.7840e-01,  5.2764e-01,  1.0000e+00],\n",
       "         [ 1.0207e-01,  2.1840e-01,  4.6734e-01,  1.0000e+00],\n",
       "         [ 9.2505e-05,  2.0454e-03,  4.5226e-02,  1.0000e+00]]),\n",
       " tensor([ 3.9150, 14.8750,  4.8602,  9.9097,  5.6941, 30.6071, 12.5779, 22.0806,\n",
       "          3.2292,  2.1906, 53.1961,  3.4061,  7.1196, 13.3576, 50.7841, 10.5685,\n",
       "         -4.6639, -0.6526, 27.9361, 50.0414,  1.5988,  0.6155, 26.4105, -0.4183,\n",
       "          8.5996, -5.5663, -2.3414, 40.1570, -1.0381, 44.1797,  1.7510, 11.5746,\n",
       "          6.3050, 66.0449,  3.2477, 36.6904, -4.6582,  4.6077,  3.9133,  2.3822],\n",
       "        dtype=torch.float64))"
      ]
     },
     "execution_count": 13,
     "metadata": {},
     "output_type": "execute_result"
    }
   ],
   "source": [
    "db.one_batch()"
   ]
  },
  {
   "cell_type": "code",
   "execution_count": 14,
   "metadata": {},
   "outputs": [
    {
     "name": "stdout",
     "output_type": "stream",
     "text": [
      "(tensor([[ 4.9107e-01,  6.2243e-01,  7.8894e-01,  1.0000e+00],\n",
      "        [ 2.0092e+01,  7.3907e+00,  2.7186e+00,  1.0000e+00],\n",
      "        [ 2.2561e+00,  1.7202e+00,  1.3116e+00,  1.0000e+00],\n",
      "        [-3.1729e-02,  1.0022e-01, -3.1658e-01,  1.0000e+00],\n",
      "        [ 1.5862e-05,  6.3130e-04,  2.5126e-02,  1.0000e+00],\n",
      "        [ 2.5818e+00,  1.8820e+00,  1.3719e+00,  1.0000e+00],\n",
      "        [ 2.3500e-02,  8.2043e-02,  2.8643e-01,  1.0000e+00],\n",
      "        [-9.4090e-01,  9.6020e-01, -9.7990e-01,  1.0000e+00],\n",
      "        [-3.7803e-03,  2.4267e-02, -1.5578e-01,  1.0000e+00],\n",
      "        [-5.9100e-01,  7.0425e-01, -8.3920e-01,  1.0000e+00],\n",
      "        [-4.5417e-02,  1.2729e-01, -3.5678e-01,  1.0000e+00],\n",
      "        [-6.3450e-01,  7.3839e-01, -8.5930e-01,  1.0000e+00],\n",
      "        [ 1.1486e+01,  5.0908e+00,  2.2563e+00,  1.0000e+00],\n",
      "        [ 1.3091e+01,  5.5544e+00,  2.3568e+00,  1.0000e+00],\n",
      "        [ 2.6461e+01,  8.8798e+00,  2.9799e+00,  1.0000e+00],\n",
      "        [ 3.0948e-03,  2.1237e-02,  1.4573e-01,  1.0000e+00],\n",
      "        [-1.0880e-01,  2.2790e-01, -4.7739e-01,  1.0000e+00],\n",
      "        [-9.5624e-02,  2.0911e-01, -4.5729e-01,  1.0000e+00],\n",
      "        [-7.5272e-03,  3.8408e-02, -1.9598e-01,  1.0000e+00],\n",
      "        [ 1.0305e+00,  1.0202e+00,  1.0101e+00,  1.0000e+00]]), tensor([ 6.3345, 61.1183, 11.7635,  0.6656,  1.9658, 12.8441,  3.2967, -7.6001,\n",
      "         1.3934, -5.3511, -0.2451, -5.7111, 37.8367, 41.7478, 78.6312,  2.8093,\n",
      "        -0.8640, -1.2213,  1.0989,  7.8364], dtype=torch.float64))\n"
     ]
    }
   ],
   "source": [
    "print(db.get_data(\"valid\"))"
   ]
  },
  {
   "cell_type": "code",
   "execution_count": 15,
   "metadata": {
    "scrolled": true
   },
   "outputs": [
    {
     "data": {
      "image/png": "[encoded data removed]",
      "text/plain": [
       "<Figure size 576x576 with 1 Axes>"
      ]
     },
     "metadata": {
      "needs_background": "light"
     },
     "output_type": "display_data"
    }
   ],
   "source": [
    "fig, ax = plt.subplots(figsize=figsize)\n",
    "for _ in range(5):\n",
    "    _x, _y = db.get_data(\"train\")\n",
    "    h_train, = ax.plot(_x[:, -2], _y, \"go\", label=\"train\", alpha=.7)\n",
    "for _ in range(5):\n",
    "    _x, _y = db.get_data(\"valid\")\n",
    "    h_valid, = ax.plot(_x[:, -2], _y, \"ro\", label=\"validation\", alpha=.7)\n",
    "    \n",
    "h_ori, = ax.plot(x, y, \"kx\", label=\"original\")\n",
    "ax.set_title(f\"Original data vs from {db.__class__}\", fontsize=18)\n",
    "ax.legend(handles=[h_train, h_valid, h_ori], title=\"source\")\n",
    "plt.show()"
   ]
  },
  {
   "cell_type": "markdown",
   "metadata": {},
   "source": [
    "## The model"
   ]
  },
  {
   "cell_type": "code",
   "execution_count": 16,
   "metadata": {},
   "outputs": [],
   "source": [
    "class LinearModel:\n",
    "    \n",
    "    def __init__(self, w: torch.Tensor=None, deg: int = None):\n",
    "        assert w is not None or deg is not None\n",
    "        self.w = torch.nn.Parameter(torch.randn(deg)) if w is None else torch.nn.Parameter(w)\n",
    "        self.lin = lambda X: X @ self.w\n",
    "        \n",
    "    def __call__(self, x):\n",
    "        return self.forward(x)\n",
    "            \n",
    "    def forward(self, x):\n",
    "        return self.lin(x)"
   ]
  },
  {
   "cell_type": "code",
   "execution_count": 17,
   "metadata": {
    "scrolled": true
   },
   "outputs": [
    {
     "data": {
      "text/plain": [
       "tensor([ 5.4097e+01,  9.6769e+00,  6.6801e-01,  3.5104e+01, -4.8020e+00,\n",
       "         4.3810e+01,  8.0000e+01,  3.2779e+01,  1.9301e+01,  5.3440e+00,\n",
       "         6.6413e+00,  6.9760e+00, -1.7330e+00,  2.4144e+00,  1.0451e+01,\n",
       "         4.3094e+00,  4.9752e+00,  4.8581e+00,  1.0723e+01,  8.9640e+00,\n",
       "        -3.2911e-01,  2.0251e+00, -3.7389e+00,  3.1547e+00,  1.7170e+00,\n",
       "         5.6357e+01,  5.8818e+00,  3.4311e+00,  8.5206e+00,  4.1045e+00,\n",
       "        -6.5102e-01,  3.6726e+01, -6.9539e+00,  1.4981e+01, -1.9318e+00,\n",
       "         5.5218e+01, -2.4624e-02,  5.7419e+00,  1.7453e+01,  6.8734e+01],\n",
       "       grad_fn=<MvBackward>)"
      ]
     },
     "execution_count": 17,
     "metadata": {},
     "output_type": "execute_result"
    }
   ],
   "source": [
    "lm_ori = LinearModel(w=w)\n",
    "lm_ori(db.get_data(\"train\")[0])"
   ]
  },
  {
   "cell_type": "code",
   "execution_count": 18,
   "metadata": {},
   "outputs": [
    {
     "data": {
      "text/plain": [
       "tensor(0.2129, dtype=torch.float64, grad_fn=<SqrtBackward>)"
      ]
     },
     "execution_count": 18,
     "metadata": {},
     "output_type": "execute_result"
    }
   ],
   "source": [
    "RMSELoss(lm_ori(X), y)"
   ]
  },
  {
   "cell_type": "markdown",
   "metadata": {},
   "source": [
    "## Tools to record and analyse the telemetry from an optimization process"
   ]
  },
  {
   "cell_type": "code",
   "execution_count": 19,
   "metadata": {},
   "outputs": [],
   "source": [
    "class Optimizer:\n",
    "    \n",
    "    name: str = None\n",
    "    hyper_params: dict = None\n",
    "    model_params = None\n",
    "    \n",
    "    def __init__(self, model_params, name=\"optimizer\", **hyper_params):\n",
    "        self.hyper_params = hyper_params\n",
    "        self.name = name\n",
    "        self.model_params = model_params\n",
    "        \n",
    "    def update(self):\n",
    "        pass\n",
    "    \n",
    "    def zero_grad(self):\n",
    "        self.model_params.grad.zero_()\n",
    "    \n",
    "    def __getattr__(self, k):\n",
    "        return self.hyper_params[k]\n",
    "    \n",
    "    def __setattr__(self, key, val):\n",
    "        \n",
    "        if \"hyper_params\" in self.__dict__ and key in self.hyper_params:\n",
    "            self.hyper_params[key] = val\n",
    "        else:\n",
    "            self.__dict__[key] = val\n",
    "\n",
    "\n",
    "class Telemetry:\n",
    "    loss: dict = None\n",
    "    weights: list = None\n",
    "    hyper_params: dict = None\n",
    "    x: list = None\n",
    "    y: list = None\n",
    "    y_pred: list = None\n",
    "    gradients: list = None\n",
    "        \n",
    "    def __repr__(self):\n",
    "        return f\"\\nTelemetry\\n{9*'='}\\n\"\\\n",
    "               f\"loss: {self.loss}\\n\"\\\n",
    "               f\"weights: {self.weights}\\n\"\\\n",
    "               f\"hyper_params: {self.hyper_params}\\n\"\\\n",
    "               f\"x: {self.x}\\n\"\\\n",
    "               f\"y: {self.y}\\n\"\\\n",
    "               f\"y_pred: {self.y_pred}\\n\"\\\n",
    "               f\"gradients: {self.gradients}\"\n",
    "        \n",
    "    \n",
    "class Recorder:\n",
    "    \"Collects data while training\"\n",
    "    stats: Telemetry = None \n",
    "        \n",
    "    def __init__(self, stats: Telemetry = None):\n",
    "        if stats is None:\n",
    "            stats = Telemetry()\n",
    "        self.stats = stats\n",
    "    \n",
    "    def store_loss(self, kind, val):\n",
    "        v = val.clone().detach().item() if isinstance(val, torch.Tensor) else val\n",
    "        \n",
    "        if self.stats.loss is None:\n",
    "            self.stats.loss = {kind: [v]}\n",
    "        elif kind not in self.stats.loss:\n",
    "            self.stats.loss[kind] = [v]\n",
    "        else:\n",
    "            self.stats.loss[kind].append(v)\n",
    "    \n",
    "    def store_hyper_params(self, opt: Optimizer):\n",
    "        \n",
    "        convert = lambda x: x.item() if isinstance(x, torch.Tensor) else x\n",
    "        if self.stats.hyper_params is None:\n",
    "            self.stats.hyper_params = {}\n",
    "            for key, val in opt.hyper_params.items():\n",
    "                self.stats.hyper_params[key] = [convert(val)]\n",
    "        else:\n",
    "            for key, val in opt.hyper_params.items():\n",
    "                self.stats.hyper_params[key].append(convert(val))\n",
    "                \n",
    "    def store_weights(self, model_params):\n",
    "        if self.stats.weights is None:\n",
    "            self.stats.weights = []\n",
    "        self.stats.weights.append(model_params.clone().detach())\n",
    "        \n",
    "    def store_batch(self, _x: torch.Tensor, _y: torch.Tensor, y_pred: torch.Tensor):\n",
    "        if self.stats.x is None:\n",
    "            self.stats.x = []\n",
    "        if self.stats.y is None:\n",
    "            self.stats.y = []\n",
    "        if self.stats.y_pred is None:\n",
    "            self.stats.y_pred = []\n",
    "        \n",
    "        self.stats.x.append(_x.clone().detach())\n",
    "        self.stats.y.append(_y.clone().detach())\n",
    "        self.stats.y_pred.append(y_pred.clone().detach())\n",
    "        \n",
    "    def store_gradients(self, g):\n",
    "        if self.stats.gradients is None:\n",
    "            self.stats.gradients = []\n",
    "        self.stats.gradients.append(g.clone().detach())\n",
    "        \n",
    "        \n",
    "class Plotter:\n",
    "    \n",
    "    stats : Telemetry = None\n",
    "        \n",
    "    def __init__(self, rec: Recorder = None, stats: Telemetry = None):\n",
    "        assert (rec is not None) != (stats is not None)\n",
    "        self.stats = rec.stats if rec is not None else stats\n",
    "    \n",
    "    def plot_loss(self):\n",
    "        \n",
    "        iters = np.arange(len(self.stats.loss[\"train\"]))\n",
    "        \n",
    "        colors = bokeh_palettes.Inferno3\n",
    "        \n",
    "        fig = bokeh_plotting.figure(plot_width=700, plot_height=400, title=\"Losses vs iteration\")\n",
    "        \n",
    "        s = bokeh_plotting.ColumnDataSource({\"Iteration\": iters, \n",
    "                                             \"Loss\": self.stats.loss[\"train\"],\n",
    "                                             \"Group\": [\"Train\"]*len(iters)})\n",
    "        fig.line(x=\"Iteration\", y=\"Loss\", source=s, color=colors[0],\n",
    "                 line_width=2)\n",
    "        \n",
    "        \n",
    "        s = bokeh_plotting.ColumnDataSource({\"Iteration\": iters, \n",
    "                                             \"Loss\": self.stats.loss[\"valid\"],\n",
    "                                             \"Group\": [\"Validation\"]*len(iters)})\n",
    "        fig.line(x=\"Iteration\", y=\"Loss\", source=s, color=colors[1],\n",
    "                 line_width=2)\n",
    "        \n",
    "        hover = bokeh_models.HoverTool(\n",
    "            tooltips = [\n",
    "                (\"Iteration\", \"@Iteration\"),\n",
    "                (\"Loss\", \"@Loss\"),\n",
    "                (\"Set\", \"@Group\"),\n",
    "            ],\n",
    "            formatters = {\"Iteration\": \"numeral\", \"Loss\": \"numeral\", \"Set\": \"printf\"},\n",
    "            mode=\"vline\"\n",
    "        )\n",
    "        fig.xaxis.axis_label = \"Iteration\"\n",
    "        fig.yaxis.axis_label = \"Loss\"\n",
    "        fig.tools.append(hover)\n",
    "        bokeh_plotting.show(fig)\n",
    "        \n",
    "    def plot_weights(self, colors: list=None):\n",
    "        \n",
    "        iters = np.arange(len(self.stats.loss[\"train\"]))\n",
    "        w = np.array([_w.clone().detach().numpy() for _w in self.stats.weights])\n",
    "        colors = bokeh_palettes.Inferno3 if colors is None else colors\n",
    "        \n",
    "        fig = bokeh_plotting.figure(plot_width=700, plot_height=400, title=\"Model weights vs iteration\")       \n",
    "        \n",
    "        for i, _w in enumerate(w.T):\n",
    "            \n",
    "            s = bokeh_plotting.ColumnDataSource({\"Iteration\": iters, \"w\": _w, \"param\": [f\"w_{i}\"]*len(iters)})       \n",
    "            fig.line(x=\"Iteration\", y=\"w\", source=s, color=colors[i], line_width=2)\n",
    "            \n",
    "        tooltips = [\n",
    "                (\"Iteration\", \"@Iteration\"), (\"Value\", \"@w\"), (\"Name\", \"@param\")\n",
    "            ]\n",
    "        hover = bokeh_models.HoverTool(\n",
    "            tooltips = tooltips,\n",
    "            formatters = {\"Iteration\": \"numeral\", \"Value\": \"numeral\", \"Name\": \"printf\"},\n",
    "            mode=\"vline\"\n",
    "        )\n",
    "        fig.tools.append(hover)\n",
    "        bokeh_plotting.show(fig)\n",
    "        \n",
    "        \n",
    "    def plot_gradients(self, colors: list=None):\n",
    "        \n",
    "        iters = np.arange(len(self.stats.loss[\"train\"]))\n",
    "        g = np.array([_g.clone().detach().numpy() for _g in self.stats.gradients])\n",
    "        colors = bokeh_palettes.Inferno3 if colors is None else colors\n",
    "        \n",
    "        fig = bokeh_plotting.figure(plot_width=700, plot_height=400, title=\"Model weight gradients vs iteration\")       \n",
    "        \n",
    "        for i, _g in enumerate(g.T):\n",
    "            \n",
    "            s = bokeh_plotting.ColumnDataSource({\"Iteration\": iters, \"∇w\": _g, \"param\": [f\"∇w_{i}\"]*len(iters)})       \n",
    "            fig.line(x=\"Iteration\", y=\"∇w\", source=s, color=colors[i], line_width=2)\n",
    "            \n",
    "        tooltips = [\n",
    "                (\"Iteration\", \"@Iteration\"), (\"Value\", \"@{∇w}\"), (\"Name\", \"@param\")\n",
    "            ]\n",
    "        hover = bokeh_models.HoverTool(\n",
    "            tooltips = tooltips,\n",
    "            formatters = {\"Iteration\": \"numeral\", \"Value\": \"numeral\", \"Name\": \"printf\"},\n",
    "            mode=\"vline\"\n",
    "        )\n",
    "        fig.tools.append(hover)\n",
    "        bokeh_plotting.show(fig)\n",
    "        \n",
    "                \n",
    "    def plot_hyper_params(self):\n",
    "        \n",
    "        iters = np.arange(len(self.stats.loss[\"train\"]))\n",
    "        colors = bokeh_palettes.Inferno256\n",
    "        \n",
    "        for hyper in sorted(self.stats.hyper_params):\n",
    "            s = bokeh_plotting.ColumnDataSource({\"Iteration\": iters, hyper: self.stats.hyper_params[hyper]})\n",
    "        \n",
    "            fig = bokeh_plotting.figure(plot_width=700, plot_height=400, \n",
    "                                        title=f\"Hyper parameters ('{hyper}') vs iteration\")\n",
    "            \n",
    "            fig.line(x=\"Iteration\", y=hyper, source=s, legend_label=hyper, line_width=2)\n",
    "            \n",
    "\n",
    "            tooltips = [\n",
    "                (\"Iteration\", \"@Iteration\"),                    \n",
    "                (hyper, f\"@{hyper}\")\n",
    "            ]\n",
    "            \n",
    "            hover = bokeh_models.HoverTool(\n",
    "                tooltips = tooltips,\n",
    "                formatters = {k[0]: \"numeral\" for k in tooltips},\n",
    "                mode=\"mouse\"\n",
    "            )\n",
    "            fig.tools.append(hover)\n",
    "            bokeh_plotting.show(fig)\n",
    "            \n",
    "    def plot_iteration(self, i: int):\n",
    "        \n",
    "        x = self.stats.x[i][:, -2].clone().numpy() # -2 because second to last column contains x**1 feature\n",
    "        \n",
    "        _x = np.hstack([_x[:, -2].clone().numpy().ravel() for _x in self.stats.x])\n",
    "        xlim = (_x.min()-.1, _x.max()+.1)\n",
    "\n",
    "        _y = np.array([_y.clone().numpy() for _y in self.stats.y])\n",
    "        ylim = (_y.min()-.1, _y.max()+.1)\n",
    "\n",
    "        \n",
    "        fig = bokeh_plotting.figure(plot_width=600, plot_height=600, \n",
    "                                    title=f\"Batch and predictions for iteration {i}\")\n",
    "        \n",
    "        fig.cross(x, self.stats.y[i].clone().numpy(), legend_label=\"training data\", color=\"black\",\n",
    "                  size=10) \n",
    "        fig.diamond(x, self.stats.y_pred[i].clone().numpy(), legend_label=\"model estimates\", \n",
    "                    color=\"green\", size=10)\n",
    "        fig.xaxis.axis_label = \"x\"\n",
    "        fig.yaxis.axis_label = \"y\"\n",
    "        fig.x_range = bokeh_models.Range1d(xlim[0], xlim[1])\n",
    "        fig.y_range = bokeh_models.Range1d(ylim[0], ylim[1])\n",
    "        bokeh_plotting.show(fig)\n",
    "        \n",
    "    def plot_lr_range_test(self):\n",
    "        fig = bokeh_plotting.figure(title=\"LR range test\", x_axis_type=\"log\")\n",
    "        s = bokeh_models.ColumnDataSource({\"lr\": self.stats.hyper_params[\"lr\"], \n",
    "                                           \"loss\": self.stats.loss[\"valid\"]})\n",
    "        fig.line(x=\"lr\", y=\"loss\", source=s)\n",
    "        fig.xaxis.axis_label = \"Learning rate\"\n",
    "        fig.yaxis.axis_label = \"Validation loss\"\n",
    "\n",
    "        hover = bokeh_models.HoverTool(\n",
    "            tooltips=[(\"Learning rate\", \"@lr\"), (\"Validation loss\", \"@loss\")],\n",
    "            formatters={\"Learning rate\": \"numeral\", \"Validation loss\": \"numeral\"}\n",
    "        )\n",
    "        fig.tools.append(hover)\n",
    "\n",
    "        bokeh_plotting.show(fig)"
   ]
  },
  {
   "cell_type": "markdown",
   "metadata": {},
   "source": [
    "Sanity checking the `Recorder`"
   ]
  },
  {
   "cell_type": "code",
   "execution_count": 20,
   "metadata": {
    "scrolled": true
   },
   "outputs": [
    {
     "name": "stdout",
     "output_type": "stream",
     "text": [
      "total epochs 5\n",
      "\n",
      "epoch 0\n",
      "\tlr 0.09000000000000001\n",
      "\n",
      "epoch 1\n",
      "\tlr 0.08100000000000002\n",
      "\n",
      "epoch 2\n",
      "\tlr 0.07290000000000002\n",
      "\n",
      "epoch 3\n",
      "\tlr 0.06561000000000002\n",
      "\n",
      "epoch 4\n",
      "\tlr 0.05904900000000002\n"
     ]
    }
   ],
   "source": [
    "rec = Recorder()\n",
    "loss_fun = MSELoss\n",
    "\n",
    "n_epochs = 5\n",
    "opt = Optimizer(None, lr=.1)\n",
    "print(\"total epochs\", n_epochs)\n",
    "for epoch in range(n_epochs):\n",
    "    print(f\"\\nepoch {epoch}\")\n",
    "    rec.store_loss(\"train\", 42)\n",
    "    rec.store_loss(\"valid\", 82.)\n",
    "    \n",
    "    print(\"\\tlr\", opt.lr * .9)\n",
    "    opt.lr *= .9\n",
    "    rec.store_hyper_params(opt)\n",
    "    rec.store_weights(torch.Tensor([1., 2., 3.]))\n",
    "    _x, _y = db.get_data(\"train\")\n",
    "    \n",
    "    rec.store_gradients(torch.tensor([.1, .2, .3]))\n",
    "    with torch.no_grad():\n",
    "        y_pred = _y + .1\n",
    "    rec.store_batch(_x, _y, y_pred)"
   ]
  },
  {
   "cell_type": "code",
   "execution_count": null,
   "metadata": {},
   "outputs": [],
   "source": [
    "rec.stats"
   ]
  },
  {
   "cell_type": "code",
   "execution_count": 22,
   "metadata": {},
   "outputs": [
    {
     "data": {
      "text/plain": [
       "(5, 5)"
      ]
     },
     "execution_count": 22,
     "metadata": {},
     "output_type": "execute_result"
    }
   ],
   "source": [
    "len(rec.stats.hyper_params[\"lr\"]), len(rec.stats.loss[\"train\"])"
   ]
  },
  {
   "cell_type": "markdown",
   "metadata": {},
   "source": [
    "Sanity checking the `Plotter`"
   ]
  },
  {
   "cell_type": "code",
   "execution_count": 23,
   "metadata": {
    "scrolled": false
   },
   "outputs": [
    {
     "data": {
      "text/html": [
       "\n",
       "\n",
       "\n",
       "\n",
       "\n",
       "\n",
       "  <div class=\"bk-root\" id=\"23954eb4-b607-4f9c-aea2-5923c6a82fda\" data-root-id=\"1002\"></div>\n"
      ]
     },
     "metadata": {},
     "output_type": "display_data"
    },
    {
     "data": {
      "application/javascript": [
       "(function(root) {\n",
       "  function embed_document(root) {\n",
       "    \n",
       "  var docs_json = {\"13788922-489f-4b65-8480-2d88803fb2e4\":{\"roots\":{\"references\":[{\"attributes\":{\"below\":[{\"id\":\"1013\",\"type\":\"LinearAxis\"}],\"center\":[{\"id\":\"1017\",\"type\":\"Grid\"},{\"id\":\"1022\",\"type\":\"Grid\"}],\"left\":[{\"id\":\"1018\",\"type\":\"LinearAxis\"}],\"plot_height\":400,\"plot_width\":700,\"renderers\":[{\"id\":\"1040\",\"type\":\"GlyphRenderer\"},{\"id\":\"1046\",\"type\":\"GlyphRenderer\"}],\"title\":{\"id\":\"1003\",\"type\":\"Title\"},\"toolbar\":{\"id\":\"1029\",\"type\":\"Toolbar\"},\"x_range\":{\"id\":\"1005\",\"type\":\"DataRange1d\"},\"x_scale\":{\"id\":\"1009\",\"type\":\"LinearScale\"},\"y_range\":{\"id\":\"1007\",\"type\":\"DataRange1d\"},\"y_scale\":{\"id\":\"1011\",\"type\":\"LinearScale\"}},\"id\":\"1002\",\"subtype\":\"Figure\",\"type\":\"Plot\"},{\"attributes\":{\"callback\":null,\"formatters\":{\"Iteration\":\"numeral\",\"Loss\":\"numeral\",\"Set\":\"printf\"},\"mode\":\"vline\",\"tooltips\":[[\"Iteration\",\"@Iteration\"],[\"Loss\",\"@Loss\"],[\"Set\",\"@Group\"]]},\"id\":\"1048\",\"type\":\"HoverTool\"},{\"attributes\":{},\"id\":\"1011\",\"type\":\"LinearScale\"},{\"attributes\":{},\"id\":\"1023\",\"type\":\"PanTool\"},{\"attributes\":{\"line_color\":\"#000003\",\"line_width\":2,\"x\":{\"field\":\"Iteration\"},\"y\":{\"field\":\"Loss\"}},\"id\":\"1038\",\"type\":\"Line\"},{\"attributes\":{\"data_source\":{\"id\":\"1042\",\"type\":\"ColumnDataSource\"},\"glyph\":{\"id\":\"1044\",\"type\":\"Line\"},\"hover_glyph\":null,\"muted_glyph\":null,\"nonselection_glyph\":{\"id\":\"1045\",\"type\":\"Line\"},\"selection_glyph\":null,\"view\":{\"id\":\"1047\",\"type\":\"CDSView\"}},\"id\":\"1046\",\"type\":\"GlyphRenderer\"},{\"attributes\":{\"dimension\":1,\"ticker\":{\"id\":\"1019\",\"type\":\"BasicTicker\"}},\"id\":\"1022\",\"type\":\"Grid\"},{\"attributes\":{\"callback\":null},\"id\":\"1005\",\"type\":\"DataRange1d\"},{\"attributes\":{},\"id\":\"1024\",\"type\":\"WheelZoomTool\"},{\"attributes\":{\"text\":\"Losses vs iteration\"},\"id\":\"1003\",\"type\":\"Title\"},{\"attributes\":{\"overlay\":{\"id\":\"1055\",\"type\":\"BoxAnnotation\"}},\"id\":\"1025\",\"type\":\"BoxZoomTool\"},{\"attributes\":{},\"id\":\"1059\",\"type\":\"UnionRenderers\"},{\"attributes\":{\"line_alpha\":0.1,\"line_color\":\"#1f77b4\",\"line_width\":2,\"x\":{\"field\":\"Iteration\"},\"y\":{\"field\":\"Loss\"}},\"id\":\"1039\",\"type\":\"Line\"},{\"attributes\":{\"callback\":null,\"data\":{\"Group\":[\"Validation\",\"Validation\",\"Validation\",\"Validation\",\"Validation\"],\"Iteration\":{\"__ndarray__\":\"AAAAAAEAAAACAAAAAwAAAAQAAAA=\",\"dtype\":\"int32\",\"shape\":[5]},\"Loss\":[82.0,82.0,82.0,82.0,82.0]},\"selected\":{\"id\":\"1058\",\"type\":\"Selection\"},\"selection_policy\":{\"id\":\"1059\",\"type\":\"UnionRenderers\"}},\"id\":\"1042\",\"type\":\"ColumnDataSource\"},{\"attributes\":{\"source\":{\"id\":\"1042\",\"type\":\"ColumnDataSource\"}},\"id\":\"1047\",\"type\":\"CDSView\"},{\"attributes\":{\"callback\":null},\"id\":\"1007\",\"type\":\"DataRange1d\"},{\"attributes\":{\"callback\":null,\"data\":{\"Group\":[\"Train\",\"Train\",\"Train\",\"Train\",\"Train\"],\"Iteration\":{\"__ndarray__\":\"AAAAAAEAAAACAAAAAwAAAAQAAAA=\",\"dtype\":\"int32\",\"shape\":[5]},\"Loss\":[42,42,42,42,42]},\"selected\":{\"id\":\"1056\",\"type\":\"Selection\"},\"selection_policy\":{\"id\":\"1057\",\"type\":\"UnionRenderers\"}},\"id\":\"1036\",\"type\":\"ColumnDataSource\"},{\"attributes\":{},\"id\":\"1014\",\"type\":\"BasicTicker\"},{\"attributes\":{\"active_drag\":\"auto\",\"active_inspect\":\"auto\",\"active_multi\":null,\"active_scroll\":\"auto\",\"active_tap\":\"auto\",\"tools\":[{\"id\":\"1023\",\"type\":\"PanTool\"},{\"id\":\"1024\",\"type\":\"WheelZoomTool\"},{\"id\":\"1025\",\"type\":\"BoxZoomTool\"},{\"id\":\"1026\",\"type\":\"SaveTool\"},{\"id\":\"1027\",\"type\":\"ResetTool\"},{\"id\":\"1028\",\"type\":\"HelpTool\"},{\"id\":\"1048\",\"type\":\"HoverTool\"}]},\"id\":\"1029\",\"type\":\"Toolbar\"},{\"attributes\":{},\"id\":\"1026\",\"type\":\"SaveTool\"},{\"attributes\":{\"ticker\":{\"id\":\"1014\",\"type\":\"BasicTicker\"}},\"id\":\"1017\",\"type\":\"Grid\"},{\"attributes\":{\"axis_label\":\"Loss\",\"formatter\":{\"id\":\"1051\",\"type\":\"BasicTickFormatter\"},\"ticker\":{\"id\":\"1019\",\"type\":\"BasicTicker\"}},\"id\":\"1018\",\"type\":\"LinearAxis\"},{\"attributes\":{},\"id\":\"1028\",\"type\":\"HelpTool\"},{\"attributes\":{\"line_alpha\":0.1,\"line_color\":\"#1f77b4\",\"line_width\":2,\"x\":{\"field\":\"Iteration\"},\"y\":{\"field\":\"Loss\"}},\"id\":\"1045\",\"type\":\"Line\"},{\"attributes\":{},\"id\":\"1053\",\"type\":\"BasicTickFormatter\"},{\"attributes\":{},\"id\":\"1051\",\"type\":\"BasicTickFormatter\"},{\"attributes\":{\"source\":{\"id\":\"1036\",\"type\":\"ColumnDataSource\"}},\"id\":\"1041\",\"type\":\"CDSView\"},{\"attributes\":{\"line_color\":\"#BA3655\",\"line_width\":2,\"x\":{\"field\":\"Iteration\"},\"y\":{\"field\":\"Loss\"}},\"id\":\"1044\",\"type\":\"Line\"},{\"attributes\":{},\"id\":\"1027\",\"type\":\"ResetTool\"},{\"attributes\":{},\"id\":\"1058\",\"type\":\"Selection\"},{\"attributes\":{},\"id\":\"1009\",\"type\":\"LinearScale\"},{\"attributes\":{},\"id\":\"1057\",\"type\":\"UnionRenderers\"},{\"attributes\":{\"data_source\":{\"id\":\"1036\",\"type\":\"ColumnDataSource\"},\"glyph\":{\"id\":\"1038\",\"type\":\"Line\"},\"hover_glyph\":null,\"muted_glyph\":null,\"nonselection_glyph\":{\"id\":\"1039\",\"type\":\"Line\"},\"selection_glyph\":null,\"view\":{\"id\":\"1041\",\"type\":\"CDSView\"}},\"id\":\"1040\",\"type\":\"GlyphRenderer\"},{\"attributes\":{},\"id\":\"1019\",\"type\":\"BasicTicker\"},{\"attributes\":{\"bottom_units\":\"screen\",\"fill_alpha\":{\"value\":0.5},\"fill_color\":{\"value\":\"lightgrey\"},\"left_units\":\"screen\",\"level\":\"overlay\",\"line_alpha\":{\"value\":1.0},\"line_color\":{\"value\":\"black\"},\"line_dash\":[4,4],\"line_width\":{\"value\":2},\"render_mode\":\"css\",\"right_units\":\"screen\",\"top_units\":\"screen\"},\"id\":\"1055\",\"type\":\"BoxAnnotation\"},{\"attributes\":{\"axis_label\":\"Iteration\",\"formatter\":{\"id\":\"1053\",\"type\":\"BasicTickFormatter\"},\"ticker\":{\"id\":\"1014\",\"type\":\"BasicTicker\"}},\"id\":\"1013\",\"type\":\"LinearAxis\"},{\"attributes\":{},\"id\":\"1056\",\"type\":\"Selection\"}],\"root_ids\":[\"1002\"]},\"title\":\"Bokeh Application\",\"version\":\"1.4.0\"}};\n",
       "  var render_items = [{\"docid\":\"13788922-489f-4b65-8480-2d88803fb2e4\",\"roots\":{\"1002\":\"23954eb4-b607-4f9c-aea2-5923c6a82fda\"}}];\n",
       "  root.Bokeh.embed.embed_items_notebook(docs_json, render_items);\n",
       "\n",
       "  }\n",
       "  if (root.Bokeh !== undefined) {\n",
       "    embed_document(root);\n",
       "  } else {\n",
       "    var attempts = 0;\n",
       "    var timer = setInterval(function(root) {\n",
       "      if (root.Bokeh !== undefined) {\n",
       "        clearInterval(timer);\n",
       "        embed_document(root);\n",
       "      } else {\n",
       "        attempts++;\n",
       "        if (attempts > 100) {\n",
       "          clearInterval(timer);\n",
       "          console.log(\"Bokeh: ERROR: Unable to run BokehJS code because BokehJS library is missing\");\n",
       "        }\n",
       "      }\n",
       "    }, 10, root)\n",
       "  }\n",
       "})(window);"
      ],
      "application/vnd.bokehjs_exec.v0+json": ""
     },
     "metadata": {
      "application/vnd.bokehjs_exec.v0+json": {
       "id": "1002"
      }
     },
     "output_type": "display_data"
    },
    {
     "data": {
      "text/html": [
       "\n",
       "\n",
       "\n",
       "\n",
       "\n",
       "\n",
       "  <div class=\"bk-root\" id=\"020c6286-7bf4-42d4-aa6c-e06b50dfcab8\" data-root-id=\"1121\"></div>\n"
      ]
     },
     "metadata": {},
     "output_type": "display_data"
    },
    {
     "data": {
      "application/javascript": [
       "(function(root) {\n",
       "  function embed_document(root) {\n",
       "    \n",
       "  var docs_json = {\"dff40c00-f9ff-407d-b15e-fcc4fc44a084\":{\"roots\":{\"references\":[{\"attributes\":{\"below\":[{\"id\":\"1132\",\"type\":\"LinearAxis\"}],\"center\":[{\"id\":\"1136\",\"type\":\"Grid\"},{\"id\":\"1141\",\"type\":\"Grid\"},{\"id\":\"1166\",\"type\":\"Legend\"}],\"left\":[{\"id\":\"1137\",\"type\":\"LinearAxis\"}],\"plot_height\":400,\"plot_width\":700,\"renderers\":[{\"id\":\"1158\",\"type\":\"GlyphRenderer\"}],\"title\":{\"id\":\"1122\",\"type\":\"Title\"},\"toolbar\":{\"id\":\"1148\",\"type\":\"Toolbar\"},\"x_range\":{\"id\":\"1124\",\"type\":\"DataRange1d\"},\"x_scale\":{\"id\":\"1128\",\"type\":\"LinearScale\"},\"y_range\":{\"id\":\"1126\",\"type\":\"DataRange1d\"},\"y_scale\":{\"id\":\"1130\",\"type\":\"LinearScale\"}},\"id\":\"1121\",\"subtype\":\"Figure\",\"type\":\"Plot\"},{\"attributes\":{},\"id\":\"1138\",\"type\":\"BasicTicker\"},{\"attributes\":{},\"id\":\"1142\",\"type\":\"PanTool\"},{\"attributes\":{},\"id\":\"1146\",\"type\":\"ResetTool\"},{\"attributes\":{},\"id\":\"1161\",\"type\":\"BasicTickFormatter\"},{\"attributes\":{},\"id\":\"1187\",\"type\":\"UnionRenderers\"},{\"attributes\":{\"formatter\":{\"id\":\"1163\",\"type\":\"BasicTickFormatter\"},\"ticker\":{\"id\":\"1133\",\"type\":\"BasicTicker\"}},\"id\":\"1132\",\"type\":\"LinearAxis\"},{\"attributes\":{\"data_source\":{\"id\":\"1120\",\"type\":\"ColumnDataSource\"},\"glyph\":{\"id\":\"1156\",\"type\":\"Line\"},\"hover_glyph\":null,\"muted_glyph\":null,\"nonselection_glyph\":{\"id\":\"1157\",\"type\":\"Line\"},\"selection_glyph\":null,\"view\":{\"id\":\"1159\",\"type\":\"CDSView\"}},\"id\":\"1158\",\"type\":\"GlyphRenderer\"},{\"attributes\":{\"bottom_units\":\"screen\",\"fill_alpha\":{\"value\":0.5},\"fill_color\":{\"value\":\"lightgrey\"},\"left_units\":\"screen\",\"level\":\"overlay\",\"line_alpha\":{\"value\":1.0},\"line_color\":{\"value\":\"black\"},\"line_dash\":[4,4],\"line_width\":{\"value\":2},\"render_mode\":\"css\",\"right_units\":\"screen\",\"top_units\":\"screen\"},\"id\":\"1165\",\"type\":\"BoxAnnotation\"},{\"attributes\":{},\"id\":\"1145\",\"type\":\"SaveTool\"},{\"attributes\":{},\"id\":\"1128\",\"type\":\"LinearScale\"},{\"attributes\":{\"callback\":null},\"id\":\"1124\",\"type\":\"DataRange1d\"},{\"attributes\":{\"formatter\":{\"id\":\"1161\",\"type\":\"BasicTickFormatter\"},\"ticker\":{\"id\":\"1138\",\"type\":\"BasicTicker\"}},\"id\":\"1137\",\"type\":\"LinearAxis\"},{\"attributes\":{\"callback\":null},\"id\":\"1126\",\"type\":\"DataRange1d\"},{\"attributes\":{\"callback\":null,\"formatters\":{\"Iteration\":\"numeral\",\"lr\":\"numeral\"},\"tooltips\":[[\"Iteration\",\"@Iteration\"],[\"lr\",\"@lr\"]]},\"id\":\"1168\",\"type\":\"HoverTool\"},{\"attributes\":{},\"id\":\"1186\",\"type\":\"Selection\"},{\"attributes\":{\"ticker\":{\"id\":\"1133\",\"type\":\"BasicTicker\"}},\"id\":\"1136\",\"type\":\"Grid\"},{\"attributes\":{\"dimension\":1,\"ticker\":{\"id\":\"1138\",\"type\":\"BasicTicker\"}},\"id\":\"1141\",\"type\":\"Grid\"},{\"attributes\":{\"overlay\":{\"id\":\"1165\",\"type\":\"BoxAnnotation\"}},\"id\":\"1144\",\"type\":\"BoxZoomTool\"},{\"attributes\":{\"source\":{\"id\":\"1120\",\"type\":\"ColumnDataSource\"}},\"id\":\"1159\",\"type\":\"CDSView\"},{\"attributes\":{},\"id\":\"1133\",\"type\":\"BasicTicker\"},{\"attributes\":{},\"id\":\"1163\",\"type\":\"BasicTickFormatter\"},{\"attributes\":{},\"id\":\"1130\",\"type\":\"LinearScale\"},{\"attributes\":{},\"id\":\"1147\",\"type\":\"HelpTool\"},{\"attributes\":{\"callback\":null,\"data\":{\"Iteration\":{\"__ndarray__\":\"AAAAAAEAAAACAAAAAwAAAAQAAAA=\",\"dtype\":\"int32\",\"shape\":[5]},\"lr\":[0.09000000000000001,0.08100000000000002,0.07290000000000002,0.06561000000000002,0.05904900000000002]},\"selected\":{\"id\":\"1186\",\"type\":\"Selection\"},\"selection_policy\":{\"id\":\"1187\",\"type\":\"UnionRenderers\"}},\"id\":\"1120\",\"type\":\"ColumnDataSource\"},{\"attributes\":{\"line_color\":\"#1f77b4\",\"line_width\":2,\"x\":{\"field\":\"Iteration\"},\"y\":{\"field\":\"lr\"}},\"id\":\"1156\",\"type\":\"Line\"},{\"attributes\":{\"items\":[{\"id\":\"1167\",\"type\":\"LegendItem\"}]},\"id\":\"1166\",\"type\":\"Legend\"},{\"attributes\":{\"active_drag\":\"auto\",\"active_inspect\":\"auto\",\"active_multi\":null,\"active_scroll\":\"auto\",\"active_tap\":\"auto\",\"tools\":[{\"id\":\"1142\",\"type\":\"PanTool\"},{\"id\":\"1143\",\"type\":\"WheelZoomTool\"},{\"id\":\"1144\",\"type\":\"BoxZoomTool\"},{\"id\":\"1145\",\"type\":\"SaveTool\"},{\"id\":\"1146\",\"type\":\"ResetTool\"},{\"id\":\"1147\",\"type\":\"HelpTool\"},{\"id\":\"1168\",\"type\":\"HoverTool\"}]},\"id\":\"1148\",\"type\":\"Toolbar\"},{\"attributes\":{\"label\":{\"value\":\"lr\"},\"renderers\":[{\"id\":\"1158\",\"type\":\"GlyphRenderer\"}]},\"id\":\"1167\",\"type\":\"LegendItem\"},{\"attributes\":{},\"id\":\"1143\",\"type\":\"WheelZoomTool\"},{\"attributes\":{\"text\":\"Hyper parameters ('lr') vs iteration\"},\"id\":\"1122\",\"type\":\"Title\"},{\"attributes\":{\"line_alpha\":0.1,\"line_color\":\"#1f77b4\",\"line_width\":2,\"x\":{\"field\":\"Iteration\"},\"y\":{\"field\":\"lr\"}},\"id\":\"1157\",\"type\":\"Line\"}],\"root_ids\":[\"1121\"]},\"title\":\"Bokeh Application\",\"version\":\"1.4.0\"}};\n",
       "  var render_items = [{\"docid\":\"dff40c00-f9ff-407d-b15e-fcc4fc44a084\",\"roots\":{\"1121\":\"020c6286-7bf4-42d4-aa6c-e06b50dfcab8\"}}];\n",
       "  root.Bokeh.embed.embed_items_notebook(docs_json, render_items);\n",
       "\n",
       "  }\n",
       "  if (root.Bokeh !== undefined) {\n",
       "    embed_document(root);\n",
       "  } else {\n",
       "    var attempts = 0;\n",
       "    var timer = setInterval(function(root) {\n",
       "      if (root.Bokeh !== undefined) {\n",
       "        clearInterval(timer);\n",
       "        embed_document(root);\n",
       "      } else {\n",
       "        attempts++;\n",
       "        if (attempts > 100) {\n",
       "          clearInterval(timer);\n",
       "          console.log(\"Bokeh: ERROR: Unable to run BokehJS code because BokehJS library is missing\");\n",
       "        }\n",
       "      }\n",
       "    }, 10, root)\n",
       "  }\n",
       "})(window);"
      ],
      "application/vnd.bokehjs_exec.v0+json": ""
     },
     "metadata": {
      "application/vnd.bokehjs_exec.v0+json": {
       "id": "1121"
      }
     },
     "output_type": "display_data"
    },
    {
     "data": {
      "text/html": [
       "\n",
       "\n",
       "\n",
       "\n",
       "\n",
       "\n",
       "  <div class=\"bk-root\" id=\"368e2dd7-33d9-496e-904d-71b13d443a5e\" data-root-id=\"1236\"></div>\n"
      ]
     },
     "metadata": {},
     "output_type": "display_data"
    },
    {
     "data": {
      "application/javascript": [
       "(function(root) {\n",
       "  function embed_document(root) {\n",
       "    \n",
       "  var docs_json = {\"289f7fa7-93a6-4c9b-afdf-e8e5bd322193\":{\"roots\":{\"references\":[{\"attributes\":{\"below\":[{\"id\":\"1247\",\"type\":\"LinearAxis\"}],\"center\":[{\"id\":\"1251\",\"type\":\"Grid\"},{\"id\":\"1256\",\"type\":\"Grid\"}],\"left\":[{\"id\":\"1252\",\"type\":\"LinearAxis\"}],\"plot_height\":400,\"plot_width\":700,\"renderers\":[{\"id\":\"1274\",\"type\":\"GlyphRenderer\"},{\"id\":\"1280\",\"type\":\"GlyphRenderer\"},{\"id\":\"1286\",\"type\":\"GlyphRenderer\"}],\"title\":{\"id\":\"1237\",\"type\":\"Title\"},\"toolbar\":{\"id\":\"1263\",\"type\":\"Toolbar\"},\"x_range\":{\"id\":\"1239\",\"type\":\"DataRange1d\"},\"x_scale\":{\"id\":\"1243\",\"type\":\"LinearScale\"},\"y_range\":{\"id\":\"1241\",\"type\":\"DataRange1d\"},\"y_scale\":{\"id\":\"1245\",\"type\":\"LinearScale\"}},\"id\":\"1236\",\"subtype\":\"Figure\",\"type\":\"Plot\"},{\"attributes\":{\"line_color\":\"#BA3655\",\"line_width\":2,\"x\":{\"field\":\"Iteration\"},\"y\":{\"field\":\"w\"}},\"id\":\"1278\",\"type\":\"Line\"},{\"attributes\":{\"active_drag\":\"auto\",\"active_inspect\":\"auto\",\"active_multi\":null,\"active_scroll\":\"auto\",\"active_tap\":\"auto\",\"tools\":[{\"id\":\"1257\",\"type\":\"PanTool\"},{\"id\":\"1258\",\"type\":\"WheelZoomTool\"},{\"id\":\"1259\",\"type\":\"BoxZoomTool\"},{\"id\":\"1260\",\"type\":\"SaveTool\"},{\"id\":\"1261\",\"type\":\"ResetTool\"},{\"id\":\"1262\",\"type\":\"HelpTool\"},{\"id\":\"1288\",\"type\":\"HoverTool\"}]},\"id\":\"1263\",\"type\":\"Toolbar\"},{\"attributes\":{\"callback\":null},\"id\":\"1239\",\"type\":\"DataRange1d\"},{\"attributes\":{},\"id\":\"1316\",\"type\":\"Selection\"},{\"attributes\":{\"data_source\":{\"id\":\"1270\",\"type\":\"ColumnDataSource\"},\"glyph\":{\"id\":\"1272\",\"type\":\"Line\"},\"hover_glyph\":null,\"muted_glyph\":null,\"nonselection_glyph\":{\"id\":\"1273\",\"type\":\"Line\"},\"selection_glyph\":null,\"view\":{\"id\":\"1275\",\"type\":\"CDSView\"}},\"id\":\"1274\",\"type\":\"GlyphRenderer\"},{\"attributes\":{\"data_source\":{\"id\":\"1282\",\"type\":\"ColumnDataSource\"},\"glyph\":{\"id\":\"1284\",\"type\":\"Line\"},\"hover_glyph\":null,\"muted_glyph\":null,\"nonselection_glyph\":{\"id\":\"1285\",\"type\":\"Line\"},\"selection_glyph\":null,\"view\":{\"id\":\"1287\",\"type\":\"CDSView\"}},\"id\":\"1286\",\"type\":\"GlyphRenderer\"},{\"attributes\":{},\"id\":\"1245\",\"type\":\"LinearScale\"},{\"attributes\":{\"line_color\":\"#FCFEA4\",\"line_width\":2,\"x\":{\"field\":\"Iteration\"},\"y\":{\"field\":\"w\"}},\"id\":\"1284\",\"type\":\"Line\"},{\"attributes\":{},\"id\":\"1253\",\"type\":\"BasicTicker\"},{\"attributes\":{},\"id\":\"1309\",\"type\":\"BasicTickFormatter\"},{\"attributes\":{},\"id\":\"1318\",\"type\":\"Selection\"},{\"attributes\":{},\"id\":\"1319\",\"type\":\"UnionRenderers\"},{\"attributes\":{\"text\":\"Model weights vs iteration\"},\"id\":\"1237\",\"type\":\"Title\"},{\"attributes\":{},\"id\":\"1261\",\"type\":\"ResetTool\"},{\"attributes\":{\"formatter\":{\"id\":\"1311\",\"type\":\"BasicTickFormatter\"},\"ticker\":{\"id\":\"1248\",\"type\":\"BasicTicker\"}},\"id\":\"1247\",\"type\":\"LinearAxis\"},{\"attributes\":{\"line_color\":\"#000003\",\"line_width\":2,\"x\":{\"field\":\"Iteration\"},\"y\":{\"field\":\"w\"}},\"id\":\"1272\",\"type\":\"Line\"},{\"attributes\":{\"overlay\":{\"id\":\"1313\",\"type\":\"BoxAnnotation\"}},\"id\":\"1259\",\"type\":\"BoxZoomTool\"},{\"attributes\":{\"callback\":null,\"data\":{\"Iteration\":{\"__ndarray__\":\"AAAAAAEAAAACAAAAAwAAAAQAAAA=\",\"dtype\":\"int32\",\"shape\":[5]},\"param\":[\"w_2\",\"w_2\",\"w_2\",\"w_2\",\"w_2\"],\"w\":{\"__ndarray__\":\"AABAQAAAQEAAAEBAAABAQAAAQEA=\",\"dtype\":\"float32\",\"shape\":[5]}},\"selected\":{\"id\":\"1318\",\"type\":\"Selection\"},\"selection_policy\":{\"id\":\"1319\",\"type\":\"UnionRenderers\"}},\"id\":\"1282\",\"type\":\"ColumnDataSource\"},{\"attributes\":{\"source\":{\"id\":\"1276\",\"type\":\"ColumnDataSource\"}},\"id\":\"1281\",\"type\":\"CDSView\"},{\"attributes\":{},\"id\":\"1317\",\"type\":\"UnionRenderers\"},{\"attributes\":{},\"id\":\"1258\",\"type\":\"WheelZoomTool\"},{\"attributes\":{\"line_alpha\":0.1,\"line_color\":\"#1f77b4\",\"line_width\":2,\"x\":{\"field\":\"Iteration\"},\"y\":{\"field\":\"w\"}},\"id\":\"1279\",\"type\":\"Line\"},{\"attributes\":{\"line_alpha\":0.1,\"line_color\":\"#1f77b4\",\"line_width\":2,\"x\":{\"field\":\"Iteration\"},\"y\":{\"field\":\"w\"}},\"id\":\"1273\",\"type\":\"Line\"},{\"attributes\":{\"source\":{\"id\":\"1270\",\"type\":\"ColumnDataSource\"}},\"id\":\"1275\",\"type\":\"CDSView\"},{\"attributes\":{\"line_alpha\":0.1,\"line_color\":\"#1f77b4\",\"line_width\":2,\"x\":{\"field\":\"Iteration\"},\"y\":{\"field\":\"w\"}},\"id\":\"1285\",\"type\":\"Line\"},{\"attributes\":{\"bottom_units\":\"screen\",\"fill_alpha\":{\"value\":0.5},\"fill_color\":{\"value\":\"lightgrey\"},\"left_units\":\"screen\",\"level\":\"overlay\",\"line_alpha\":{\"value\":1.0},\"line_color\":{\"value\":\"black\"},\"line_dash\":[4,4],\"line_width\":{\"value\":2},\"render_mode\":\"css\",\"right_units\":\"screen\",\"top_units\":\"screen\"},\"id\":\"1313\",\"type\":\"BoxAnnotation\"},{\"attributes\":{\"data_source\":{\"id\":\"1276\",\"type\":\"ColumnDataSource\"},\"glyph\":{\"id\":\"1278\",\"type\":\"Line\"},\"hover_glyph\":null,\"muted_glyph\":null,\"nonselection_glyph\":{\"id\":\"1279\",\"type\":\"Line\"},\"selection_glyph\":null,\"view\":{\"id\":\"1281\",\"type\":\"CDSView\"}},\"id\":\"1280\",\"type\":\"GlyphRenderer\"},{\"attributes\":{},\"id\":\"1257\",\"type\":\"PanTool\"},{\"attributes\":{},\"id\":\"1315\",\"type\":\"UnionRenderers\"},{\"attributes\":{\"ticker\":{\"id\":\"1248\",\"type\":\"BasicTicker\"}},\"id\":\"1251\",\"type\":\"Grid\"},{\"attributes\":{},\"id\":\"1243\",\"type\":\"LinearScale\"},{\"attributes\":{\"dimension\":1,\"ticker\":{\"id\":\"1253\",\"type\":\"BasicTicker\"}},\"id\":\"1256\",\"type\":\"Grid\"},{\"attributes\":{\"callback\":null,\"formatters\":{\"Iteration\":\"numeral\",\"Name\":\"printf\",\"Value\":\"numeral\"},\"mode\":\"vline\",\"tooltips\":[[\"Iteration\",\"@Iteration\"],[\"Value\",\"@w\"],[\"Name\",\"@param\"]]},\"id\":\"1288\",\"type\":\"HoverTool\"},{\"attributes\":{},\"id\":\"1311\",\"type\":\"BasicTickFormatter\"},{\"attributes\":{},\"id\":\"1314\",\"type\":\"Selection\"},{\"attributes\":{\"source\":{\"id\":\"1282\",\"type\":\"ColumnDataSource\"}},\"id\":\"1287\",\"type\":\"CDSView\"},{\"attributes\":{\"callback\":null},\"id\":\"1241\",\"type\":\"DataRange1d\"},{\"attributes\":{\"formatter\":{\"id\":\"1309\",\"type\":\"BasicTickFormatter\"},\"ticker\":{\"id\":\"1253\",\"type\":\"BasicTicker\"}},\"id\":\"1252\",\"type\":\"LinearAxis\"},{\"attributes\":{\"callback\":null,\"data\":{\"Iteration\":{\"__ndarray__\":\"AAAAAAEAAAACAAAAAwAAAAQAAAA=\",\"dtype\":\"int32\",\"shape\":[5]},\"param\":[\"w_0\",\"w_0\",\"w_0\",\"w_0\",\"w_0\"],\"w\":{\"__ndarray__\":\"AACAPwAAgD8AAIA/AACAPwAAgD8=\",\"dtype\":\"float32\",\"shape\":[5]}},\"selected\":{\"id\":\"1314\",\"type\":\"Selection\"},\"selection_policy\":{\"id\":\"1315\",\"type\":\"UnionRenderers\"}},\"id\":\"1270\",\"type\":\"ColumnDataSource\"},{\"attributes\":{},\"id\":\"1248\",\"type\":\"BasicTicker\"},{\"attributes\":{},\"id\":\"1260\",\"type\":\"SaveTool\"},{\"attributes\":{},\"id\":\"1262\",\"type\":\"HelpTool\"},{\"attributes\":{\"callback\":null,\"data\":{\"Iteration\":{\"__ndarray__\":\"AAAAAAEAAAACAAAAAwAAAAQAAAA=\",\"dtype\":\"int32\",\"shape\":[5]},\"param\":[\"w_1\",\"w_1\",\"w_1\",\"w_1\",\"w_1\"],\"w\":{\"__ndarray__\":\"AAAAQAAAAEAAAABAAAAAQAAAAEA=\",\"dtype\":\"float32\",\"shape\":[5]}},\"selected\":{\"id\":\"1316\",\"type\":\"Selection\"},\"selection_policy\":{\"id\":\"1317\",\"type\":\"UnionRenderers\"}},\"id\":\"1276\",\"type\":\"ColumnDataSource\"}],\"root_ids\":[\"1236\"]},\"title\":\"Bokeh Application\",\"version\":\"1.4.0\"}};\n",
       "  var render_items = [{\"docid\":\"289f7fa7-93a6-4c9b-afdf-e8e5bd322193\",\"roots\":{\"1236\":\"368e2dd7-33d9-496e-904d-71b13d443a5e\"}}];\n",
       "  root.Bokeh.embed.embed_items_notebook(docs_json, render_items);\n",
       "\n",
       "  }\n",
       "  if (root.Bokeh !== undefined) {\n",
       "    embed_document(root);\n",
       "  } else {\n",
       "    var attempts = 0;\n",
       "    var timer = setInterval(function(root) {\n",
       "      if (root.Bokeh !== undefined) {\n",
       "        clearInterval(timer);\n",
       "        embed_document(root);\n",
       "      } else {\n",
       "        attempts++;\n",
       "        if (attempts > 100) {\n",
       "          clearInterval(timer);\n",
       "          console.log(\"Bokeh: ERROR: Unable to run BokehJS code because BokehJS library is missing\");\n",
       "        }\n",
       "      }\n",
       "    }, 10, root)\n",
       "  }\n",
       "})(window);"
      ],
      "application/vnd.bokehjs_exec.v0+json": ""
     },
     "metadata": {
      "application/vnd.bokehjs_exec.v0+json": {
       "id": "1236"
      }
     },
     "output_type": "display_data"
    },
    {
     "data": {
      "text/html": [
       "\n",
       "\n",
       "\n",
       "\n",
       "\n",
       "\n",
       "  <div class=\"bk-root\" id=\"b72092eb-ee96-48ba-bdd7-5706fe7370c0\" data-root-id=\"1392\"></div>\n"
      ]
     },
     "metadata": {},
     "output_type": "display_data"
    },
    {
     "data": {
      "application/javascript": [
       "(function(root) {\n",
       "  function embed_document(root) {\n",
       "    \n",
       "  var docs_json = {\"eca6b80a-a3c2-4098-ba7c-ef866f0ac400\":{\"roots\":{\"references\":[{\"attributes\":{\"below\":[{\"id\":\"1403\",\"type\":\"LinearAxis\"}],\"center\":[{\"id\":\"1407\",\"type\":\"Grid\"},{\"id\":\"1412\",\"type\":\"Grid\"}],\"left\":[{\"id\":\"1408\",\"type\":\"LinearAxis\"}],\"plot_height\":400,\"plot_width\":700,\"renderers\":[{\"id\":\"1430\",\"type\":\"GlyphRenderer\"},{\"id\":\"1436\",\"type\":\"GlyphRenderer\"},{\"id\":\"1442\",\"type\":\"GlyphRenderer\"}],\"title\":{\"id\":\"1393\",\"type\":\"Title\"},\"toolbar\":{\"id\":\"1419\",\"type\":\"Toolbar\"},\"x_range\":{\"id\":\"1395\",\"type\":\"DataRange1d\"},\"x_scale\":{\"id\":\"1399\",\"type\":\"LinearScale\"},\"y_range\":{\"id\":\"1397\",\"type\":\"DataRange1d\"},\"y_scale\":{\"id\":\"1401\",\"type\":\"LinearScale\"}},\"id\":\"1392\",\"subtype\":\"Figure\",\"type\":\"Plot\"},{\"attributes\":{\"active_drag\":\"auto\",\"active_inspect\":\"auto\",\"active_multi\":null,\"active_scroll\":\"auto\",\"active_tap\":\"auto\",\"tools\":[{\"id\":\"1413\",\"type\":\"PanTool\"},{\"id\":\"1414\",\"type\":\"WheelZoomTool\"},{\"id\":\"1415\",\"type\":\"BoxZoomTool\"},{\"id\":\"1416\",\"type\":\"SaveTool\"},{\"id\":\"1417\",\"type\":\"ResetTool\"},{\"id\":\"1418\",\"type\":\"HelpTool\"},{\"id\":\"1444\",\"type\":\"HoverTool\"}]},\"id\":\"1419\",\"type\":\"Toolbar\"},{\"attributes\":{},\"id\":\"1418\",\"type\":\"HelpTool\"},{\"attributes\":{},\"id\":\"1482\",\"type\":\"Selection\"},{\"attributes\":{\"callback\":null,\"data\":{\"Iteration\":{\"__ndarray__\":\"AAAAAAEAAAACAAAAAwAAAAQAAAA=\",\"dtype\":\"int32\",\"shape\":[5]},\"param\":[\"\\u2207w_2\",\"\\u2207w_2\",\"\\u2207w_2\",\"\\u2207w_2\",\"\\u2207w_2\"],\"\\u2207w\":{\"__ndarray__\":\"mpmZPpqZmT6amZk+mpmZPpqZmT4=\",\"dtype\":\"float32\",\"shape\":[5]}},\"selected\":{\"id\":\"1486\",\"type\":\"Selection\"},\"selection_policy\":{\"id\":\"1487\",\"type\":\"UnionRenderers\"}},\"id\":\"1438\",\"type\":\"ColumnDataSource\"},{\"attributes\":{\"line_color\":\"#FCFEA4\",\"line_width\":2,\"x\":{\"field\":\"Iteration\"},\"y\":{\"field\":\"\\u2207w\"}},\"id\":\"1440\",\"type\":\"Line\"},{\"attributes\":{\"line_color\":\"#000003\",\"line_width\":2,\"x\":{\"field\":\"Iteration\"},\"y\":{\"field\":\"\\u2207w\"}},\"id\":\"1428\",\"type\":\"Line\"},{\"attributes\":{},\"id\":\"1484\",\"type\":\"Selection\"},{\"attributes\":{},\"id\":\"1399\",\"type\":\"LinearScale\"},{\"attributes\":{\"source\":{\"id\":\"1432\",\"type\":\"ColumnDataSource\"}},\"id\":\"1437\",\"type\":\"CDSView\"},{\"attributes\":{\"callback\":null},\"id\":\"1395\",\"type\":\"DataRange1d\"},{\"attributes\":{},\"id\":\"1483\",\"type\":\"UnionRenderers\"},{\"attributes\":{},\"id\":\"1485\",\"type\":\"UnionRenderers\"},{\"attributes\":{\"data_source\":{\"id\":\"1438\",\"type\":\"ColumnDataSource\"},\"glyph\":{\"id\":\"1440\",\"type\":\"Line\"},\"hover_glyph\":null,\"muted_glyph\":null,\"nonselection_glyph\":{\"id\":\"1441\",\"type\":\"Line\"},\"selection_glyph\":null,\"view\":{\"id\":\"1443\",\"type\":\"CDSView\"}},\"id\":\"1442\",\"type\":\"GlyphRenderer\"},{\"attributes\":{\"callback\":null,\"data\":{\"Iteration\":{\"__ndarray__\":\"AAAAAAEAAAACAAAAAwAAAAQAAAA=\",\"dtype\":\"int32\",\"shape\":[5]},\"param\":[\"\\u2207w_1\",\"\\u2207w_1\",\"\\u2207w_1\",\"\\u2207w_1\",\"\\u2207w_1\"],\"\\u2207w\":{\"__ndarray__\":\"zcxMPs3MTD7NzEw+zcxMPs3MTD4=\",\"dtype\":\"float32\",\"shape\":[5]}},\"selected\":{\"id\":\"1484\",\"type\":\"Selection\"},\"selection_policy\":{\"id\":\"1485\",\"type\":\"UnionRenderers\"}},\"id\":\"1432\",\"type\":\"ColumnDataSource\"},{\"attributes\":{\"source\":{\"id\":\"1426\",\"type\":\"ColumnDataSource\"}},\"id\":\"1431\",\"type\":\"CDSView\"},{\"attributes\":{},\"id\":\"1417\",\"type\":\"ResetTool\"},{\"attributes\":{},\"id\":\"1414\",\"type\":\"WheelZoomTool\"},{\"attributes\":{\"callback\":null,\"formatters\":{\"Iteration\":\"numeral\",\"Name\":\"printf\",\"Value\":\"numeral\"},\"mode\":\"vline\",\"tooltips\":[[\"Iteration\",\"@Iteration\"],[\"Value\",\"@{\\u2207w}\"],[\"Name\",\"@param\"]]},\"id\":\"1444\",\"type\":\"HoverTool\"},{\"attributes\":{\"line_alpha\":0.1,\"line_color\":\"#1f77b4\",\"line_width\":2,\"x\":{\"field\":\"Iteration\"},\"y\":{\"field\":\"\\u2207w\"}},\"id\":\"1429\",\"type\":\"Line\"},{\"attributes\":{},\"id\":\"1486\",\"type\":\"Selection\"},{\"attributes\":{\"line_alpha\":0.1,\"line_color\":\"#1f77b4\",\"line_width\":2,\"x\":{\"field\":\"Iteration\"},\"y\":{\"field\":\"\\u2207w\"}},\"id\":\"1435\",\"type\":\"Line\"},{\"attributes\":{\"formatter\":{\"id\":\"1477\",\"type\":\"BasicTickFormatter\"},\"ticker\":{\"id\":\"1409\",\"type\":\"BasicTicker\"}},\"id\":\"1408\",\"type\":\"LinearAxis\"},{\"attributes\":{\"line_alpha\":0.1,\"line_color\":\"#1f77b4\",\"line_width\":2,\"x\":{\"field\":\"Iteration\"},\"y\":{\"field\":\"\\u2207w\"}},\"id\":\"1441\",\"type\":\"Line\"},{\"attributes\":{\"text\":\"Model weight gradients vs iteration\"},\"id\":\"1393\",\"type\":\"Title\"},{\"attributes\":{\"data_source\":{\"id\":\"1432\",\"type\":\"ColumnDataSource\"},\"glyph\":{\"id\":\"1434\",\"type\":\"Line\"},\"hover_glyph\":null,\"muted_glyph\":null,\"nonselection_glyph\":{\"id\":\"1435\",\"type\":\"Line\"},\"selection_glyph\":null,\"view\":{\"id\":\"1437\",\"type\":\"CDSView\"}},\"id\":\"1436\",\"type\":\"GlyphRenderer\"},{\"attributes\":{\"dimension\":1,\"ticker\":{\"id\":\"1409\",\"type\":\"BasicTicker\"}},\"id\":\"1412\",\"type\":\"Grid\"},{\"attributes\":{\"overlay\":{\"id\":\"1481\",\"type\":\"BoxAnnotation\"}},\"id\":\"1415\",\"type\":\"BoxZoomTool\"},{\"attributes\":{},\"id\":\"1401\",\"type\":\"LinearScale\"},{\"attributes\":{\"bottom_units\":\"screen\",\"fill_alpha\":{\"value\":0.5},\"fill_color\":{\"value\":\"lightgrey\"},\"left_units\":\"screen\",\"level\":\"overlay\",\"line_alpha\":{\"value\":1.0},\"line_color\":{\"value\":\"black\"},\"line_dash\":[4,4],\"line_width\":{\"value\":2},\"render_mode\":\"css\",\"right_units\":\"screen\",\"top_units\":\"screen\"},\"id\":\"1481\",\"type\":\"BoxAnnotation\"},{\"attributes\":{\"formatter\":{\"id\":\"1479\",\"type\":\"BasicTickFormatter\"},\"ticker\":{\"id\":\"1404\",\"type\":\"BasicTicker\"}},\"id\":\"1403\",\"type\":\"LinearAxis\"},{\"attributes\":{},\"id\":\"1413\",\"type\":\"PanTool\"},{\"attributes\":{\"callback\":null},\"id\":\"1397\",\"type\":\"DataRange1d\"},{\"attributes\":{},\"id\":\"1479\",\"type\":\"BasicTickFormatter\"},{\"attributes\":{},\"id\":\"1404\",\"type\":\"BasicTicker\"},{\"attributes\":{},\"id\":\"1409\",\"type\":\"BasicTicker\"},{\"attributes\":{},\"id\":\"1416\",\"type\":\"SaveTool\"},{\"attributes\":{\"line_color\":\"#BA3655\",\"line_width\":2,\"x\":{\"field\":\"Iteration\"},\"y\":{\"field\":\"\\u2207w\"}},\"id\":\"1434\",\"type\":\"Line\"},{\"attributes\":{\"callback\":null,\"data\":{\"Iteration\":{\"__ndarray__\":\"AAAAAAEAAAACAAAAAwAAAAQAAAA=\",\"dtype\":\"int32\",\"shape\":[5]},\"param\":[\"\\u2207w_0\",\"\\u2207w_0\",\"\\u2207w_0\",\"\\u2207w_0\",\"\\u2207w_0\"],\"\\u2207w\":{\"__ndarray__\":\"zczMPc3MzD3NzMw9zczMPc3MzD0=\",\"dtype\":\"float32\",\"shape\":[5]}},\"selected\":{\"id\":\"1482\",\"type\":\"Selection\"},\"selection_policy\":{\"id\":\"1483\",\"type\":\"UnionRenderers\"}},\"id\":\"1426\",\"type\":\"ColumnDataSource\"},{\"attributes\":{\"ticker\":{\"id\":\"1404\",\"type\":\"BasicTicker\"}},\"id\":\"1407\",\"type\":\"Grid\"},{\"attributes\":{\"source\":{\"id\":\"1438\",\"type\":\"ColumnDataSource\"}},\"id\":\"1443\",\"type\":\"CDSView\"},{\"attributes\":{},\"id\":\"1487\",\"type\":\"UnionRenderers\"},{\"attributes\":{},\"id\":\"1477\",\"type\":\"BasicTickFormatter\"},{\"attributes\":{\"data_source\":{\"id\":\"1426\",\"type\":\"ColumnDataSource\"},\"glyph\":{\"id\":\"1428\",\"type\":\"Line\"},\"hover_glyph\":null,\"muted_glyph\":null,\"nonselection_glyph\":{\"id\":\"1429\",\"type\":\"Line\"},\"selection_glyph\":null,\"view\":{\"id\":\"1431\",\"type\":\"CDSView\"}},\"id\":\"1430\",\"type\":\"GlyphRenderer\"}],\"root_ids\":[\"1392\"]},\"title\":\"Bokeh Application\",\"version\":\"1.4.0\"}};\n",
       "  var render_items = [{\"docid\":\"eca6b80a-a3c2-4098-ba7c-ef866f0ac400\",\"roots\":{\"1392\":\"b72092eb-ee96-48ba-bdd7-5706fe7370c0\"}}];\n",
       "  root.Bokeh.embed.embed_items_notebook(docs_json, render_items);\n",
       "\n",
       "  }\n",
       "  if (root.Bokeh !== undefined) {\n",
       "    embed_document(root);\n",
       "  } else {\n",
       "    var attempts = 0;\n",
       "    var timer = setInterval(function(root) {\n",
       "      if (root.Bokeh !== undefined) {\n",
       "        clearInterval(timer);\n",
       "        embed_document(root);\n",
       "      } else {\n",
       "        attempts++;\n",
       "        if (attempts > 100) {\n",
       "          clearInterval(timer);\n",
       "          console.log(\"Bokeh: ERROR: Unable to run BokehJS code because BokehJS library is missing\");\n",
       "        }\n",
       "      }\n",
       "    }, 10, root)\n",
       "  }\n",
       "})(window);"
      ],
      "application/vnd.bokehjs_exec.v0+json": ""
     },
     "metadata": {
      "application/vnd.bokehjs_exec.v0+json": {
       "id": "1392"
      }
     },
     "output_type": "display_data"
    },
    {
     "data": {
      "text/html": [
       "\n",
       "\n",
       "\n",
       "\n",
       "\n",
       "\n",
       "  <div class=\"bk-root\" id=\"68f9ce5a-5751-4437-9e10-94567af87809\" data-root-id=\"1560\"></div>\n"
      ]
     },
     "metadata": {},
     "output_type": "display_data"
    },
    {
     "data": {
      "application/javascript": [
       "(function(root) {\n",
       "  function embed_document(root) {\n",
       "    \n",
       "  var docs_json = {\"611ff718-f39f-4759-a3fb-a5043eab9781\":{\"roots\":{\"references\":[{\"attributes\":{\"below\":[{\"id\":\"1571\",\"type\":\"LogAxis\"}],\"center\":[{\"id\":\"1575\",\"type\":\"Grid\"},{\"id\":\"1580\",\"type\":\"Grid\"}],\"left\":[{\"id\":\"1576\",\"type\":\"LinearAxis\"}],\"renderers\":[{\"id\":\"1598\",\"type\":\"GlyphRenderer\"}],\"title\":{\"id\":\"1561\",\"type\":\"Title\"},\"toolbar\":{\"id\":\"1587\",\"type\":\"Toolbar\"},\"x_range\":{\"id\":\"1563\",\"type\":\"DataRange1d\"},\"x_scale\":{\"id\":\"1567\",\"type\":\"LogScale\"},\"y_range\":{\"id\":\"1565\",\"type\":\"DataRange1d\"},\"y_scale\":{\"id\":\"1569\",\"type\":\"LinearScale\"}},\"id\":\"1560\",\"subtype\":\"Figure\",\"type\":\"Plot\"},{\"attributes\":{},\"id\":\"1650\",\"type\":\"Selection\"},{\"attributes\":{\"data_source\":{\"id\":\"1594\",\"type\":\"ColumnDataSource\"},\"glyph\":{\"id\":\"1596\",\"type\":\"Line\"},\"hover_glyph\":null,\"muted_glyph\":null,\"nonselection_glyph\":{\"id\":\"1597\",\"type\":\"Line\"},\"selection_glyph\":null,\"view\":{\"id\":\"1599\",\"type\":\"CDSView\"}},\"id\":\"1598\",\"type\":\"GlyphRenderer\"},{\"attributes\":{},\"id\":\"1581\",\"type\":\"PanTool\"},{\"attributes\":{\"axis_label\":\"Learning rate\",\"formatter\":{\"id\":\"1647\",\"type\":\"LogTickFormatter\"},\"ticker\":{\"id\":\"1572\",\"type\":\"LogTicker\"}},\"id\":\"1571\",\"type\":\"LogAxis\"},{\"attributes\":{},\"id\":\"1567\",\"type\":\"LogScale\"},{\"attributes\":{},\"id\":\"1585\",\"type\":\"ResetTool\"},{\"attributes\":{\"source\":{\"id\":\"1594\",\"type\":\"ColumnDataSource\"}},\"id\":\"1599\",\"type\":\"CDSView\"},{\"attributes\":{\"callback\":null,\"formatters\":{\"Learning rate\":\"numeral\",\"Validation loss\":\"numeral\"},\"tooltips\":[[\"Learning rate\",\"@lr\"],[\"Validation loss\",\"@loss\"]]},\"id\":\"1600\",\"type\":\"HoverTool\"},{\"attributes\":{},\"id\":\"1586\",\"type\":\"HelpTool\"},{\"attributes\":{\"callback\":null},\"id\":\"1563\",\"type\":\"DataRange1d\"},{\"attributes\":{\"callback\":null,\"data\":{\"loss\":[82.0,82.0,82.0,82.0,82.0],\"lr\":[0.09000000000000001,0.08100000000000002,0.07290000000000002,0.06561000000000002,0.05904900000000002]},\"selected\":{\"id\":\"1650\",\"type\":\"Selection\"},\"selection_policy\":{\"id\":\"1651\",\"type\":\"UnionRenderers\"}},\"id\":\"1594\",\"type\":\"ColumnDataSource\"},{\"attributes\":{\"dimension\":1,\"ticker\":{\"id\":\"1577\",\"type\":\"BasicTicker\"}},\"id\":\"1580\",\"type\":\"Grid\"},{\"attributes\":{\"callback\":null},\"id\":\"1565\",\"type\":\"DataRange1d\"},{\"attributes\":{\"ticker\":{\"id\":\"1572\",\"type\":\"LogTicker\"}},\"id\":\"1575\",\"type\":\"Grid\"},{\"attributes\":{},\"id\":\"1645\",\"type\":\"BasicTickFormatter\"},{\"attributes\":{\"num_minor_ticks\":10},\"id\":\"1572\",\"type\":\"LogTicker\"},{\"attributes\":{\"ticker\":null},\"id\":\"1647\",\"type\":\"LogTickFormatter\"},{\"attributes\":{\"active_drag\":\"auto\",\"active_inspect\":\"auto\",\"active_multi\":null,\"active_scroll\":\"auto\",\"active_tap\":\"auto\",\"tools\":[{\"id\":\"1581\",\"type\":\"PanTool\"},{\"id\":\"1582\",\"type\":\"WheelZoomTool\"},{\"id\":\"1583\",\"type\":\"BoxZoomTool\"},{\"id\":\"1584\",\"type\":\"SaveTool\"},{\"id\":\"1585\",\"type\":\"ResetTool\"},{\"id\":\"1586\",\"type\":\"HelpTool\"},{\"id\":\"1600\",\"type\":\"HoverTool\"}]},\"id\":\"1587\",\"type\":\"Toolbar\"},{\"attributes\":{\"axis_label\":\"Validation loss\",\"formatter\":{\"id\":\"1645\",\"type\":\"BasicTickFormatter\"},\"ticker\":{\"id\":\"1577\",\"type\":\"BasicTicker\"}},\"id\":\"1576\",\"type\":\"LinearAxis\"},{\"attributes\":{},\"id\":\"1582\",\"type\":\"WheelZoomTool\"},{\"attributes\":{\"overlay\":{\"id\":\"1649\",\"type\":\"BoxAnnotation\"}},\"id\":\"1583\",\"type\":\"BoxZoomTool\"},{\"attributes\":{},\"id\":\"1569\",\"type\":\"LinearScale\"},{\"attributes\":{\"bottom_units\":\"screen\",\"fill_alpha\":{\"value\":0.5},\"fill_color\":{\"value\":\"lightgrey\"},\"left_units\":\"screen\",\"level\":\"overlay\",\"line_alpha\":{\"value\":1.0},\"line_color\":{\"value\":\"black\"},\"line_dash\":[4,4],\"line_width\":{\"value\":2},\"render_mode\":\"css\",\"right_units\":\"screen\",\"top_units\":\"screen\"},\"id\":\"1649\",\"type\":\"BoxAnnotation\"},{\"attributes\":{\"text\":\"LR range test\"},\"id\":\"1561\",\"type\":\"Title\"},{\"attributes\":{\"line_alpha\":0.1,\"line_color\":\"#1f77b4\",\"x\":{\"field\":\"lr\"},\"y\":{\"field\":\"loss\"}},\"id\":\"1597\",\"type\":\"Line\"},{\"attributes\":{},\"id\":\"1651\",\"type\":\"UnionRenderers\"},{\"attributes\":{\"line_color\":\"#1f77b4\",\"x\":{\"field\":\"lr\"},\"y\":{\"field\":\"loss\"}},\"id\":\"1596\",\"type\":\"Line\"},{\"attributes\":{},\"id\":\"1584\",\"type\":\"SaveTool\"},{\"attributes\":{},\"id\":\"1577\",\"type\":\"BasicTicker\"}],\"root_ids\":[\"1560\"]},\"title\":\"Bokeh Application\",\"version\":\"1.4.0\"}};\n",
       "  var render_items = [{\"docid\":\"611ff718-f39f-4759-a3fb-a5043eab9781\",\"roots\":{\"1560\":\"68f9ce5a-5751-4437-9e10-94567af87809\"}}];\n",
       "  root.Bokeh.embed.embed_items_notebook(docs_json, render_items);\n",
       "\n",
       "  }\n",
       "  if (root.Bokeh !== undefined) {\n",
       "    embed_document(root);\n",
       "  } else {\n",
       "    var attempts = 0;\n",
       "    var timer = setInterval(function(root) {\n",
       "      if (root.Bokeh !== undefined) {\n",
       "        clearInterval(timer);\n",
       "        embed_document(root);\n",
       "      } else {\n",
       "        attempts++;\n",
       "        if (attempts > 100) {\n",
       "          clearInterval(timer);\n",
       "          console.log(\"Bokeh: ERROR: Unable to run BokehJS code because BokehJS library is missing\");\n",
       "        }\n",
       "      }\n",
       "    }, 10, root)\n",
       "  }\n",
       "})(window);"
      ],
      "application/vnd.bokehjs_exec.v0+json": ""
     },
     "metadata": {
      "application/vnd.bokehjs_exec.v0+json": {
       "id": "1560"
      }
     },
     "output_type": "display_data"
    }
   ],
   "source": [
    "pl = Plotter(rec=rec)\n",
    "pl.plot_loss()\n",
    "pl.plot_hyper_params()\n",
    "pl.plot_weights()\n",
    "pl.plot_gradients()\n",
    "pl.plot_lr_range_test()"
   ]
  },
  {
   "cell_type": "code",
   "execution_count": null,
   "metadata": {},
   "outputs": [],
   "source": [
    "interactive_plot = interactive(pl.plot_iteration, i=(0, len(pl.stats.x)-1))\n",
    "interactive_plot"
   ]
  },
  {
   "cell_type": "markdown",
   "metadata": {},
   "source": [
    "## Optimizers"
   ]
  },
  {
   "cell_type": "code",
   "execution_count": 24,
   "metadata": {},
   "outputs": [],
   "source": [
    "class SGD(Optimizer):\n",
    "    \n",
    "    velocity = None\n",
    "    \n",
    "    def __init__(self, model_params, lr: float = .01, momentum=0., wd=0.):\n",
    "        super().__init__(model_params, name=\"SGD\", lr=lr, momentum=momentum, wd=wd)\n",
    "        self.velocity = torch.zeros_like(model_params)\n",
    "        \n",
    "    def update(self, **kwargs):\n",
    "        \n",
    "        with torch.no_grad():\n",
    "            # some pretty naming\n",
    "            w = self.model_params\n",
    "            dw = self.model_params.grad\n",
    "            \n",
    "            lr = self.lr\n",
    "            mom = self.momentum\n",
    "            wd = self.wd\n",
    "            \n",
    "            v = self.velocity\n",
    "            \n",
    "            # doing the calculation\n",
    "            if mom > 0 and np.isclose(wd, 0):\n",
    "                v.mul_(mom)\n",
    "                v.add_(dw * lr)\n",
    "                w.sub_(v)\n",
    "            elif mom > 0 and wd > 0:\n",
    "                v.mul_(mom)\n",
    "                v.add_(dw * lr)\n",
    "                w.sub_(v + wd*w)\n",
    "            else:\n",
    "                w.sub_(dw * lr)\n",
    "                    \n",
    "            self.zero_grad()\n",
    "\n",
    "\n",
    "class Adam(Optimizer):\n",
    "    \"\"\"\n",
    "    paper: https://arxiv.org/abs/1412.6980\n",
    "    \"\"\"\n",
    "    mom1 = None\n",
    "    mom2 = None\n",
    "    \n",
    "    def __init__(self, model_params, lr=.01, betas=None, eps=1e-8):\n",
    "        if betas is None:\n",
    "            betas = [.9, .999]\n",
    "        super().__init__(model_params, name=\"Adam\", lr=lr, ε=eps, β1=betas[0], β2=betas[1])\n",
    "        \n",
    "        self.mom1 = torch.zeros_like(model_params)\n",
    "        self.mom2 = torch.zeros_like(model_params)\n",
    "        \n",
    "    def update(self, t, **kwargs):\n",
    "        \n",
    "        with torch.no_grad():\n",
    "            # pretty naming\n",
    "            w = self.model_params\n",
    "            dw = self.model_params.grad\n",
    "            \n",
    "            lr = self.lr\n",
    "            β1 = self.β1\n",
    "            β2 = self.β2\n",
    "            ε = self.ε\n",
    "            \n",
    "            mom1 = self.mom1\n",
    "            mom2 = self.mom2\n",
    "            \n",
    "            # doing the calculation\n",
    "            mom1.mul_(β1)\n",
    "            mom1.add_((1.-β1) * dw)\n",
    "            mom1_hat = mom1.div(1. - β1**(t+1))\n",
    "            \n",
    "            mom2.mul_(β2)\n",
    "            mom2.add_((1.-β2)*(dw*dw))\n",
    "            mom2_hat = mom2.div(1.-β2**(t+1))\n",
    "            \n",
    "            w.sub_(lr * mom1_hat / (torch.sqrt(mom2_hat) + ε))\n",
    "            \n",
    "            \n",
    "class CMA_ES(Optimizer):\n",
    "    \"\"\"    \n",
    "    See p29 of: N. Hansen, The CMA Evolution Strategy: A Tutorial, 2016 or https://en.wikipedia.org/wiki/CMA-ES \n",
    "    for a more implementable version.\n",
    "    \n",
    "    Optimizer's hyper parameters\n",
    "    ----------------------------\n",
    "    λ: number of agents\n",
    "    μ: number of children which survive the culling\n",
    "    σ: step width\n",
    "    \"\"\"   \n",
    "    # parameters \n",
    "    agent_weights = None  # how much each of the selected descendants will weigh in (first has best fitness)\n",
    "    N = None  # problem dimension\n",
    "    \n",
    "    # Strategy parameter setting: Adaptation\n",
    "    cc = None  # time constant for cumulation for C\n",
    "    cs = None  # t-const for cumulation for sigma control\n",
    "    c1 = None  # learning rate for rank-one update of C\n",
    "    cmu = None\n",
    "    damps = None  # damping for sigma, usually close to 1\n",
    "        \n",
    "    eigeneval = None  # track update of B and D\n",
    "        \n",
    "    def __init__(self, model_params, _lambda: int = None, mu: int = None, sigma: float = .3):\n",
    "        \n",
    "        self.N = len(model_params)\n",
    "        \n",
    "        if _lambda is None:\n",
    "            _lambda = int(4. * np.floor(3*np.log(self.N)))\n",
    "        if mu is None:\n",
    "            mu = int(_lambda * .5)\n",
    "        \n",
    "        super().__init__(model_params, name=\"CMA-ES\", _lambda=_lambda, mu=mu, sigma=sigma)\n",
    "        \n",
    "        with torch.no_grad():\n",
    "            \n",
    "            self.agent_weights = np.log(mu+.5) - torch.log(torch.arange(1,mu+1, dtype=torch.float32))\n",
    "            self.agent_weights.div_(self.agent_weights.sum())\n",
    "            \n",
    "            self.mueff = self.agent_weights.sum().pow(2) / (self.agent_weights @ self.agent_weights).sum()\n",
    "            \n",
    "            self.cc = (4. + self.mueff / self.N) / (self.N + 4 + 2 * self.mueff / self.N) # time constant for cumulation for C\n",
    "            self.cs = (self.mueff + 2) / (self.N + self.mueff + 5) # t-const for cumulation for sigma control\n",
    "            self.c1 = 2 / ((self.N+1.3)**2 + self.mueff) # learning rate for rank-one update of C\n",
    "            self.cmu = min([1 - self.c1, 2 * (self.mueff - 2 + 1 / self.mueff) / ((self.N + 2)**2 + self.mueff)])\n",
    "            self.damps = 1 + 2 * max(0, torch.sqrt((self.mueff - 1)/(self.N + 1)) - 1) + self.cs # damping for sigma, usually close to 1\n",
    "            \n",
    "            self.pc = torch.zeros(1, self.N) # evolution paths for C and sigma\n",
    "            self.ps = torch.zeros(1, self.N).detach() # evolution paths for C and sigma\n",
    "            \n",
    "            self.B = torch.eye(self.N, self.N).detach() # B defines the coordinate system\n",
    "            self.D = torch.ones(self.N).detach() # diagonal D defines the scaling\n",
    "            self.C = torch.eye(n=self.N, dtype=torch.float).detach()\n",
    "            \n",
    "            self.invsqrtC = self.B @ torch.diag(1 / self.D) @ self.B.transpose(0, 1)\n",
    "            \n",
    "            self.eigeneval = 0\n",
    "            self.chiN = self.N**.5 * (1. - 1./(4.*self.N) + 1./(21.*self.N**2))\n",
    "                           \n",
    "    def update(self, t, _x, _y, model, loss_fun, **kwargs):\n",
    "\n",
    "        with torch.no_grad():\n",
    "                        \n",
    "            λ = self._lambda\n",
    "            μ = self.mu\n",
    "            σ = self.sigma\n",
    "            \n",
    "            m = model.w\n",
    "            \n",
    "            C = self.C\n",
    "            \n",
    "            ps = self.ps\n",
    "            cs = self.cs\n",
    "            mueff = self.mueff\n",
    "            invsqrtC = self.invsqrtC\n",
    "            cc = self.cc\n",
    "            pc = self.pc\n",
    "            N = self.N\n",
    "            chiN = self.chiN\n",
    "            c1 = self.c1\n",
    "            cmu = self.cmu\n",
    "            agent_weights = self.agent_weights\n",
    "            damps = self.damps\n",
    "            eigeneval = self.eigeneval\n",
    "            \n",
    "            agents = (torch.distributions.multivariate_normal.MultivariateNormal(m, covariance_matrix = C)\n",
    "                      .sample(sample_shape=torch.Size([λ])))\n",
    "            \n",
    "            fitnesses = torch.zeros(λ)\n",
    "            for _i in range(λ):\n",
    "                _w = torch.nn.Parameter(agents[_i])\n",
    "                model.w = _w\n",
    "                _y_pred = model(_x)\n",
    "                fitnesses[_i] = loss_fun(_y_pred, _y)\n",
    "\n",
    "            idx = torch.argsort(fitnesses)[:μ] # assumes that the best individuals are those with the lowest fitness values\n",
    "\n",
    "            m_new = agents[idx].mean(dim=0)\n",
    "\n",
    "            # Update evolution paths     \n",
    "            ps = (1.-cs) * ps + torch.sqrt(cs * (2. - cs) * mueff) * invsqrtC @ (m_new - m)/σ\n",
    "\n",
    "            hsig = torch.tensor(2./(N+1.))\n",
    "            if not (torch.norm(ps) / torch.sqrt(1.-(1.-cs)**(2.*(t+1)/λ))/chiN < 1.4):\n",
    "                hsig += 1.\n",
    "\n",
    "            pc = (1.-cc) * pc + hsig * torch.sqrt(cc * (2.-cc)*mueff) * (m_new - m)/σ\n",
    "\n",
    "            # Adapt covariance matrix C\n",
    "            artmp = 1/σ * (agents[idx] - m)\n",
    "            \n",
    "            C = (1. - c1 - cmu) * C \\\n",
    "                      + c1 * ( \\\n",
    "                              torch.einsum(\"i,j->ij\", pc[0], pc[0]) \\\n",
    "                              + (1-hsig) * cc*(2-cc) * C\n",
    "                             ) \\\n",
    "                      + cmu * artmp.transpose(0, 1) @ torch.diag(agent_weights) @ artmp\n",
    "\n",
    "            σ = σ * torch.exp((cs/damps)*(torch.norm(ps)/chiN - 1.))\n",
    "\n",
    "            if t - eigeneval > λ/(c1+cmu)/N/10.:\n",
    "\n",
    "                eigeneval = t\n",
    "                C = C.triu() + C.triu(1).transpose(0, 1)\n",
    "                (D, B) = C.eig(eigenvectors=True)\n",
    "                invsqrtC = B @ torch.diag(1./D[:,0]) @ B.transpose(0, 1)\n",
    "\n",
    "            self.model_params = torch.nn.Parameter(m_new)\n",
    "            model.w = torch.nn.Parameter(m_new)\n",
    "            \n",
    "            self.sigma = σ  \n",
    "            self.C = C\n",
    "            self.ps = ps\n",
    "            self.pc = pc\n",
    "            self.invsqrtC = invsqrtC\n",
    "            self.eigeneval = eigeneval\n",
    "            \n",
    "        \n",
    "class PyTorchOpt(Optimizer):\n",
    "        \n",
    "    def __init__(self, model_params, opt: torch.optim.Optimizer, **hyper_params):\n",
    "        super().__init__(model_params, name=\"pytorch optimizer\", **hyper_params)\n",
    "        self.opt = opt([model_params], **hyper_params)\n",
    "        \n",
    "    def update(self, **kwargs):\n",
    "        self.opt.step()\n",
    "        self.opt.zero_grad()\n",
    "\n",
    "\n",
    "class RMSProp(Optimizer):\n",
    "    \"\"\"\n",
    "    coursera course: https://www.cs.toronto.edu/~tijmen/csc321/slides/lecture_slides_lec6.pdf, \n",
    "    paper: http://arxiv.org/abs/1308.0850\n",
    "    blog post: https://towardsdatascience.com/understanding-rmsprop-faster-neural-network-learning-62e116fcf29a\n",
    "    \"\"\"\n",
    "    \n",
    "    velocity = None\n",
    "    magnitude = None\n",
    "    \n",
    "    def __init__(self, model_params, momentum=0., lr=.1, wd=0., beta=.99):\n",
    "        super().__init__(model_params, name=\"RMSProp\", lr=lr, momentum=momentum, wd=wd, beta=beta)\n",
    "        self.velocity = torch.zeros_like(model_params)\n",
    "        self.magnitude = torch.tensor(1.)\n",
    "    \n",
    "    def update(self, **kwargs):\n",
    "        \n",
    "        with torch.no_grad():\n",
    "            # some pretty naming\n",
    "            w = self.model_params\n",
    "            dw = self.model_params.grad\n",
    "            \n",
    "            lr = self.lr\n",
    "            mom = self.momentum\n",
    "            wd = self.wd\n",
    "            β = self.beta\n",
    "            \n",
    "            v = self.velocity\n",
    "            mag = self.magnitude\n",
    "            \n",
    "            # doing the calculation\n",
    "            mag.mul_(β)\n",
    "            mag.add_((1.-β)*(w@w))\n",
    "            \n",
    "            v.mul_(mom)\n",
    "            v.add_(lr/torch.sqrt(mag)*dw)\n",
    "            \n",
    "            w.sub_(v + wd*w)"
   ]
  },
  {
   "cell_type": "markdown",
   "metadata": {},
   "source": [
    "## Hyper parameter schedulers"
   ]
  },
  {
   "cell_type": "code",
   "execution_count": null,
   "metadata": {},
   "outputs": [],
   "source": [
    "class HyperParamsScheduler:\n",
    "    \n",
    "    hyper_params: dict = None\n",
    "    schedule_params: dict = None\n",
    "        \n",
    "    def __init__(self, opt: Optimizer, **schedule_params):\n",
    "        self.hyper_params = opt.hyper_params\n",
    "        self.schedule_params = schedule_params\n",
    "        \n",
    "    def __getattr__(self, k):\n",
    "        return self.schedule_params[k]\n",
    "    \n",
    "    def update(self, **kwargs):\n",
    "        pass\n",
    "\n",
    "            \n",
    "class LRDecayScheduler(HyperParamsScheduler):\n",
    "        \n",
    "    def __init__(self, opt: Optimizer, _lambda: float = .9):\n",
    "        super().__init__(opt, _lambda=_lambda)\n",
    "        \n",
    "    def update(self, epoch, **kwargs):\n",
    "        self.hyper_params[\"lr\"] = self.hyper_params[\"lr\"] * self._lambda\n",
    "        \n",
    "class LRRangeEndException(Exception):\n",
    "    \"\"\"Exception raised when the end of the learning rate range test is reached\n",
    "    \"\"\"\n",
    "    def __init__(self, message):\n",
    "        super().__init__(message)\n",
    "        \n",
    "class LRRangeScheduler(HyperParamsScheduler):\n",
    "        \n",
    "    def __init__(self, opt: Optimizer, low: float = 1e-6, high: float = 1e1, steps: int = 10):\n",
    "        lrs = np.logspace(np.log10(low), np.log10(high), steps)\n",
    "        super().__init__(opt, lrs=lrs)\n",
    "        \n",
    "    def update(self, iteration, **kwargs):\n",
    "        if iteration < len(self.schedule_params[\"lrs\"]):\n",
    "            self.hyper_params[\"lr\"] = self.schedule_params[\"lrs\"][iteration]\n",
    "        else:\n",
    "            raise LRRangeEndException(\"Reached the end of the iterations for the learning rate range test.\")\n",
    "        \n",
    "\n",
    "class CyclicalLRScheduler(HyperParamsScheduler):\n",
    "    \"\"\"\n",
    "    \n",
    "    References:\n",
    "    Smith et al. 2017, https://ieeexplore.ieee.org/abstract/document/7926641/\n",
    "    Smith et al. 2018, http://arxiv.org/abs/1803.09820\n",
    "    post on medium by Shubhaajit Das, https://medium.com/dsnet/the-1-cycle-policy-an-experiment-that-vanished-the-struggle-in-training-neural-nets-184417de23b9)\n",
    "    \"\"\"\n",
    "    def __init__(self, opt: Optimizer, bs: int, num_samples: int, \n",
    "                 base_lr: float = 1e-3, max_lr: float = .5):\n",
    "        \n",
    "        super().__init__(opt, bs=bs, num_samples=num_samples, max_lr=max_lr, base_lr=base_lr)\n",
    "        self.hyper_params[\"lr\"] = base_lr\n",
    "        \n",
    "    def update(self, iteration: int, start_epoch: int, end_epoch: int, \n",
    "               start_iteration: int, **kwargs):\n",
    "        \n",
    "        curr_step = iteration - start_iteration\n",
    "        step_size = int( (end_epoch - start_epoch) * np.ceil(self.num_samples / self.bs) )\n",
    "        Δlr = (self.max_lr - self.base_lr) / step_size\n",
    "        sign = 1 if curr_step < .5 * step_size else -1\n",
    "        self.hyper_params[\"lr\"] += sign * Δlr\n",
    "        \n",
    "\n",
    "class CyclicalLRMomScheduler(HyperParamsScheduler):\n",
    "    \"\"\"\n",
    "    \n",
    "    References:\n",
    "    Smith et al. 2017, https://ieeexplore.ieee.org/abstract/document/7926641/\n",
    "    Smith et al. 2018, http://arxiv.org/abs/1803.09820\n",
    "    post on medium by Shubhaajit Das, https://medium.com/dsnet/the-1-cycle-policy-an-experiment-that-vanished-the-struggle-in-training-neural-nets-184417de23b9)\n",
    "    \"\"\"\n",
    "    def __init__(self, opt: Optimizer, bs: int, num_samples: int, \n",
    "                 base_lr: float = 1e-3, max_lr: float = .5, base_mom: float = .85, max_mom: float = .95 ):\n",
    "        \n",
    "        super().__init__(opt, bs=bs, num_samples=num_samples, max_lr=max_lr, base_lr=base_lr,\n",
    "                         max_mom=max_mom, base_mom=base_mom)\n",
    "        \n",
    "        self.hyper_params[\"lr\"] = base_lr\n",
    "        self.hyper_params[\"momentum\"] = max_mom\n",
    "        \n",
    "    def update(self, iteration: int, start_epoch: int, end_epoch: int, \n",
    "               start_iteration: int, **kwargs):\n",
    "        \n",
    "        curr_step = iteration - start_iteration\n",
    "        step_size = int( (end_epoch - start_epoch) * np.ceil(self.num_samples / self.bs) )\n",
    "        \n",
    "        Δlr = (self.max_lr - self.base_lr) / step_size\n",
    "        lr_sign = 1 if curr_step < .5 * step_size else -1\n",
    "        self.hyper_params[\"lr\"] += lr_sign * Δlr\n",
    "        \n",
    "        Δmom = (self.max_mom - self.base_mom) / step_size\n",
    "        mom_sign = 1 if curr_step > .5 * step_size else -1\n",
    "        self.hyper_params[\"momentum\"] += mom_sign * Δmom"
   ]
  },
  {
   "cell_type": "markdown",
   "metadata": {},
   "source": [
    "## The `Learner` class & optimization using a single optimizer and scheduler"
   ]
  },
  {
   "cell_type": "code",
   "execution_count": 25,
   "metadata": {},
   "outputs": [],
   "source": [
    "       \n",
    "class Learner:\n",
    "    \"Manages the training\"\n",
    "    \n",
    "    model = None  # model\n",
    "    db = None  # data bunch\n",
    "    opt = None  # optimizer\n",
    "    rec = None  # recorder\n",
    "    loss_fun = None\n",
    "    hs = None  # hyper parameter scheduler\n",
    "    epoch = 0\n",
    "    iteration = 0\n",
    "    curr_start_epoch = None\n",
    "    curr_final_epoch = None\n",
    "    \n",
    "    def __init__(self, model, db: XYDatabunch, opt: Optimizer, loss_fun: MSELoss, rec: Recorder = None,\n",
    "                 hyper_scheduler: HyperParamsScheduler=None):\n",
    "        self.model = model\n",
    "        self.db = db\n",
    "        self.opt = opt\n",
    "        self.loss_fun = loss_fun\n",
    "        self.rec = rec if rec is not None else Recorder()\n",
    "        self.hs = hyper_scheduler if hyper_scheduler is not None else HyperParamsScheduler(opt)\n",
    "                        \n",
    "    def do_epoch(self):\n",
    "                \n",
    "        # train\n",
    "        self.db.reset_iterator(\"train\")\n",
    "        while True:\n",
    "            \n",
    "            try: # in case the hyper parameter scheduler is doing a lr range test\n",
    "                self.hs.update(epoch=self.epoch, iteration=self.iteration, start_epoch = self.curr_start_epoch,\n",
    "                               end_epoch = self.curr_end_epoch, start_iteration = self.curr_start_iteration)\n",
    "            except LRRangeEndException:\n",
    "                break\n",
    "            \n",
    "            try:\n",
    "                (_x, _y) = self.db.get_data(\"train\", reset_if_end=False)\n",
    "            except StopIteration:\n",
    "                break            \n",
    "            \n",
    "            _y_pred = self.model(_x)\n",
    "            loss = self.loss_fun(_y_pred, _y)\n",
    "            self.rec.store_loss(\"train\", loss)\n",
    "            if not self.opt.name == \"CMA-ES\":\n",
    "                loss.backward()\n",
    "            \n",
    "            if not self.opt.name == \"CMA-ES\":\n",
    "                self.rec.store_gradients(self.opt.model_params.grad)\n",
    "            self.opt.update(t=self.epoch, _x=_x, _y=_y, model=self.model, loss_fun=self.loss_fun)\n",
    "            self.rec.store_weights(self.opt.model_params)\n",
    "            self.rec.store_batch(_x, _y, _y_pred)\n",
    "\n",
    "            # validate\n",
    "            with torch.no_grad():\n",
    "                _x, _y = self.db.get_data(\"valid\")\n",
    "                _y_pred = self.model(_x)\n",
    "                loss = self.loss_fun(_y_pred, _y)\n",
    "                self.rec.store_loss(\"valid\", loss)\n",
    "\n",
    "            self.rec.store_hyper_params(self.opt)\n",
    "            \n",
    "            self.iteration += 1\n",
    "    \n",
    "        self.epoch += 1\n",
    "        \n",
    "    def fit(self, epochs: int=1):\n",
    "        \n",
    "        # iterations per epoch np.ceil(len(learn.db.dl_train.ds) / learn.db.dl_train.bs)\n",
    "        # iters_per_epoch = \n",
    "        self.curr_start_epoch = self.epoch\n",
    "        self.curr_end_epoch = self.epoch + epochs\n",
    "        self.curr_start_iteration = self.iteration\n",
    "        \n",
    "        for epoch in range(epochs):\n",
    "            self.do_epoch()\n",
    "            \n",
    "    def lr_range_test(self, low: float = 1e-6, high: float = 1e1, steps: int = 10):\n",
    "        self.hs = LRRangeScheduler(self.opt, low=low, high=high, steps=steps)\n",
    "        iter_per_epoch = int(np.ceil(len(self.db.dl_train.ds) / self.db.dl_train.bs))\n",
    "        epochs = int(np.ceil(steps / iter_per_epoch))\n",
    "        self.fit(epochs=epochs)"
   ]
  },
  {
   "cell_type": "code",
   "execution_count": 30,
   "metadata": {},
   "outputs": [],
   "source": [
    "lm = LinearModel(deg=len(w))\n",
    "opt = SGD(lm.w, lr=.1, momentum=0., wd=0.)\n",
    "# opt = PyTorchOpt(lm.w, opt=torch.optim.SGD, lr=.1, momentum=.9, weight_decay=.1)\n",
    "# opt = PyTorchOpt(lm.w, opt=torch.optim.Adam, lr=.1)\n",
    "# opt = RMSProp(lm.w, lr=.1, momentum=0, wd=0, beta=.99)\n",
    "# opt = Adam(lm.w, lr=.01, betas=[.9, .999], eps=1e-8)\n",
    "# opt = CMA_ES(lm.w, sigma=.3)\n",
    "\n",
    "lrs = None\n",
    "# lrs = LRDecayScheduler(opt, _lambda=.98) \n",
    "# lrs = CyclicalLRScheduler(opt, bs=bs_train, num_samples=len(ds_train), base_lr=1e-3, max_lr=.5)\n",
    "# lrs = CyclicalLRMomScheduler(opt, bs=bs_train, num_samples=len(ds_train), base_lr=1e-3, max_lr=.5,\n",
    "#                              base_mom=0, max_mom=.1)\n",
    "\n",
    "loss_fun = RMSELoss\n",
    "\n",
    "learn = Learner(lm, db, opt, loss_fun, hyper_scheduler=lrs)"
   ]
  },
  {
   "cell_type": "markdown",
   "metadata": {},
   "source": [
    "**Learning rate range test (optional)**"
   ]
  },
  {
   "cell_type": "code",
   "execution_count": 28,
   "metadata": {
    "scrolled": true
   },
   "outputs": [],
   "source": [
    "learn.lr_range_test(low=1e-6, high=1e0, steps=100)"
   ]
  },
  {
   "cell_type": "code",
   "execution_count": 29,
   "metadata": {},
   "outputs": [
    {
     "data": {
      "text/html": [
       "\n",
       "\n",
       "\n",
       "\n",
       "\n",
       "\n",
       "  <div class=\"bk-root\" id=\"a802a307-eb45-4890-bb56-fa2d3a24c129\" data-root-id=\"1700\"></div>\n"
      ]
     },
     "metadata": {},
     "output_type": "display_data"
    },
    {
     "data": {
      "application/javascript": [
       "(function(root) {\n",
       "  function embed_document(root) {\n",
       "    \n",
       "  var docs_json = {\"37a311ba-6383-4ddb-97ee-866ebd79b558\":{\"roots\":{\"references\":[{\"attributes\":{\"below\":[{\"id\":\"1711\",\"type\":\"LogAxis\"}],\"center\":[{\"id\":\"1715\",\"type\":\"Grid\"},{\"id\":\"1720\",\"type\":\"Grid\"}],\"left\":[{\"id\":\"1716\",\"type\":\"LinearAxis\"}],\"renderers\":[{\"id\":\"1738\",\"type\":\"GlyphRenderer\"}],\"title\":{\"id\":\"1701\",\"type\":\"Title\"},\"toolbar\":{\"id\":\"1727\",\"type\":\"Toolbar\"},\"x_range\":{\"id\":\"1703\",\"type\":\"DataRange1d\"},\"x_scale\":{\"id\":\"1707\",\"type\":\"LogScale\"},\"y_range\":{\"id\":\"1705\",\"type\":\"DataRange1d\"},\"y_scale\":{\"id\":\"1709\",\"type\":\"LinearScale\"}},\"id\":\"1700\",\"subtype\":\"Figure\",\"type\":\"Plot\"},{\"attributes\":{},\"id\":\"1793\",\"type\":\"BasicTickFormatter\"},{\"attributes\":{\"callback\":null,\"data\":{\"loss\":[13.16627599573669,19.164006554040835,15.738749025108733,18.61409593366979,16.806633995669284,18.12387740543655,14.749917024726253,13.40353570627441,14.665094321889859,11.376861923550395,14.511645411854884,12.299046371115939,20.318433865204145,12.30713195815875,14.226452247713782,20.938233759707845,9.845332055503658,19.03669932552556,16.7461344789058,16.679688033028757,20.015590195130635,11.0033037757225,14.969602245127268,15.937018962367022,16.80781424571188,22.289952664922552,14.563254868569674,15.036031107479175,13.50234506959224,21.67241614009605,10.710374502015876,17.994119966295234,17.71251132158,14.933815030810338,9.821703016120154,16.72919209025896,19.6815067969073,16.479534416689404,16.101631691533825,17.30369049281666,19.603501314332274,10.647696027649552,16.79054324911039,19.918831600415004,17.11412087829087,15.279109150311658,10.1979862291145,12.193693920965904,8.196637751227417,19.097817977903578,8.806212588294263,14.305429984278048,16.381031715697493,13.929861505047723,18.771133367331924,9.072196761715805,18.50303597392316,20.738901489485684,18.14227772550369,11.008499209957739,11.63058796158504,14.315666745962254,16.174948398365157,12.068858093120223,14.956667733505258,13.115329079856323,12.1811508713078,9.97805056386828,10.124258210187339,8.252127263695803,7.935125580964255,5.6733994466548925,4.940800907902164,2.945668764744129,3.103128044308096,2.4373417075008126,2.9470831470539487,3.0951307455133095,3.3917032026870655,2.595570791737757,3.007265306898006,4.695854232295775,3.108167737761534,5.803340592461563,6.341141326765982,6.056234450327858,5.811975178018535,6.024679709610249,8.149818845949799,9.882757239018789,8.3164659274085,11.958837729252476,21.252461847571215,9.386883995212575,27.552495965645413,20.519668542500778,37.25810872402285,9.506097402540334,26.643353095243587,20.704690617733377],\"lr\":[1e-06,1.1497569953977357e-06,1.3219411484660288e-06,1.519911082952933e-06,1.747528400007683e-06,2.0092330025650458e-06,2.310129700083158e-06,2.656087782946684e-06,3.0538555088334123e-06,3.5111917342151275e-06,4.037017258596558e-06,4.641588833612782e-06,5.336699231206313e-06,6.1359072734131755e-06,7.0548023107186455e-06,8.111308307896873e-06,9.3260334688322e-06,1.072267222010323e-05,1.2328467394420658e-05,1.4174741629268048e-05,1.6297508346206434e-05,1.873817422860383e-05,2.1544346900318867e-05,2.477076355991714e-05,2.8480358684358048e-05,3.274549162877732e-05,3.7649358067924715e-05,4.328761281083062e-05,4.977023564332114e-05,5.72236765935022e-05,6.579332246575683e-05,7.56463327554629e-05,8.697490026177834e-05,0.0001,0.00011497569953977356,0.00013219411484660288,0.0001519911082952933,0.00017475284000076848,0.00020092330025650479,0.00023101297000831605,0.00026560877829466864,0.0003053855508833416,0.0003511191734215131,0.0004037017258596554,0.0004641588833612782,0.0005336699231206312,0.0006135907273413176,0.0007054802310718645,0.0008111308307896872,0.0009326033468832199,0.0010722672220103231,0.0012328467394420659,0.0014174741629268048,0.001629750834620645,0.001873817422860385,0.0021544346900318843,0.0024770763559917113,0.002848035868435802,0.0032745491628777285,0.0037649358067924675,0.004328761281083062,0.004977023564332114,0.00572236765935022,0.006579332246575682,0.007564633275546291,0.008697490026177835,0.01,0.011497569953977356,0.013219411484660288,0.01519911082952933,0.017475284000076828,0.02009233002565046,0.02310129700083158,0.026560877829466895,0.030538555088334186,0.03511191734215135,0.04037017258596558,0.04641588833612782,0.05336699231206313,0.061359072734131756,0.07054802310718646,0.08111308307896872,0.093260334688322,0.10722672220103231,0.12328467394420659,0.14174741629268048,0.16297508346206435,0.1873817422860383,0.21544346900318867,0.2477076355991714,0.2848035868435805,0.3274549162877732,0.37649358067924715,0.43287612810830617,0.49770235643321137,0.572236765935022,0.6579332246575682,0.7564633275546291,0.8697490026177834,1.0]},\"selected\":{\"id\":\"1798\",\"type\":\"Selection\"},\"selection_policy\":{\"id\":\"1799\",\"type\":\"UnionRenderers\"}},\"id\":\"1734\",\"type\":\"ColumnDataSource\"},{\"attributes\":{},\"id\":\"1799\",\"type\":\"UnionRenderers\"},{\"attributes\":{\"text\":\"LR range test\"},\"id\":\"1701\",\"type\":\"Title\"},{\"attributes\":{},\"id\":\"1722\",\"type\":\"WheelZoomTool\"},{\"attributes\":{\"active_drag\":\"auto\",\"active_inspect\":\"auto\",\"active_multi\":null,\"active_scroll\":\"auto\",\"active_tap\":\"auto\",\"tools\":[{\"id\":\"1721\",\"type\":\"PanTool\"},{\"id\":\"1722\",\"type\":\"WheelZoomTool\"},{\"id\":\"1723\",\"type\":\"BoxZoomTool\"},{\"id\":\"1724\",\"type\":\"SaveTool\"},{\"id\":\"1725\",\"type\":\"ResetTool\"},{\"id\":\"1726\",\"type\":\"HelpTool\"},{\"id\":\"1740\",\"type\":\"HoverTool\"}]},\"id\":\"1727\",\"type\":\"Toolbar\"},{\"attributes\":{\"axis_label\":\"Learning rate\",\"formatter\":{\"id\":\"1795\",\"type\":\"LogTickFormatter\"},\"ticker\":{\"id\":\"1712\",\"type\":\"LogTicker\"}},\"id\":\"1711\",\"type\":\"LogAxis\"},{\"attributes\":{},\"id\":\"1798\",\"type\":\"Selection\"},{\"attributes\":{\"ticker\":null},\"id\":\"1795\",\"type\":\"LogTickFormatter\"},{\"attributes\":{\"ticker\":{\"id\":\"1712\",\"type\":\"LogTicker\"}},\"id\":\"1715\",\"type\":\"Grid\"},{\"attributes\":{\"line_color\":\"#1f77b4\",\"x\":{\"field\":\"lr\"},\"y\":{\"field\":\"loss\"}},\"id\":\"1736\",\"type\":\"Line\"},{\"attributes\":{},\"id\":\"1721\",\"type\":\"PanTool\"},{\"attributes\":{\"line_alpha\":0.1,\"line_color\":\"#1f77b4\",\"x\":{\"field\":\"lr\"},\"y\":{\"field\":\"loss\"}},\"id\":\"1737\",\"type\":\"Line\"},{\"attributes\":{\"axis_label\":\"Validation loss\",\"formatter\":{\"id\":\"1793\",\"type\":\"BasicTickFormatter\"},\"ticker\":{\"id\":\"1717\",\"type\":\"BasicTicker\"}},\"id\":\"1716\",\"type\":\"LinearAxis\"},{\"attributes\":{\"data_source\":{\"id\":\"1734\",\"type\":\"ColumnDataSource\"},\"glyph\":{\"id\":\"1736\",\"type\":\"Line\"},\"hover_glyph\":null,\"muted_glyph\":null,\"nonselection_glyph\":{\"id\":\"1737\",\"type\":\"Line\"},\"selection_glyph\":null,\"view\":{\"id\":\"1739\",\"type\":\"CDSView\"}},\"id\":\"1738\",\"type\":\"GlyphRenderer\"},{\"attributes\":{\"callback\":null},\"id\":\"1705\",\"type\":\"DataRange1d\"},{\"attributes\":{\"source\":{\"id\":\"1734\",\"type\":\"ColumnDataSource\"}},\"id\":\"1739\",\"type\":\"CDSView\"},{\"attributes\":{\"bottom_units\":\"screen\",\"fill_alpha\":{\"value\":0.5},\"fill_color\":{\"value\":\"lightgrey\"},\"left_units\":\"screen\",\"level\":\"overlay\",\"line_alpha\":{\"value\":1.0},\"line_color\":{\"value\":\"black\"},\"line_dash\":[4,4],\"line_width\":{\"value\":2},\"render_mode\":\"css\",\"right_units\":\"screen\",\"top_units\":\"screen\"},\"id\":\"1797\",\"type\":\"BoxAnnotation\"},{\"attributes\":{},\"id\":\"1724\",\"type\":\"SaveTool\"},{\"attributes\":{},\"id\":\"1726\",\"type\":\"HelpTool\"},{\"attributes\":{\"num_minor_ticks\":10},\"id\":\"1712\",\"type\":\"LogTicker\"},{\"attributes\":{},\"id\":\"1725\",\"type\":\"ResetTool\"},{\"attributes\":{\"callback\":null},\"id\":\"1703\",\"type\":\"DataRange1d\"},{\"attributes\":{\"callback\":null,\"formatters\":{\"Learning rate\":\"numeral\",\"Validation loss\":\"numeral\"},\"tooltips\":[[\"Learning rate\",\"@lr\"],[\"Validation loss\",\"@loss\"]]},\"id\":\"1740\",\"type\":\"HoverTool\"},{\"attributes\":{},\"id\":\"1707\",\"type\":\"LogScale\"},{\"attributes\":{},\"id\":\"1709\",\"type\":\"LinearScale\"},{\"attributes\":{},\"id\":\"1717\",\"type\":\"BasicTicker\"},{\"attributes\":{\"dimension\":1,\"ticker\":{\"id\":\"1717\",\"type\":\"BasicTicker\"}},\"id\":\"1720\",\"type\":\"Grid\"},{\"attributes\":{\"overlay\":{\"id\":\"1797\",\"type\":\"BoxAnnotation\"}},\"id\":\"1723\",\"type\":\"BoxZoomTool\"}],\"root_ids\":[\"1700\"]},\"title\":\"Bokeh Application\",\"version\":\"1.4.0\"}};\n",
       "  var render_items = [{\"docid\":\"37a311ba-6383-4ddb-97ee-866ebd79b558\",\"roots\":{\"1700\":\"a802a307-eb45-4890-bb56-fa2d3a24c129\"}}];\n",
       "  root.Bokeh.embed.embed_items_notebook(docs_json, render_items);\n",
       "\n",
       "  }\n",
       "  if (root.Bokeh !== undefined) {\n",
       "    embed_document(root);\n",
       "  } else {\n",
       "    var attempts = 0;\n",
       "    var timer = setInterval(function(root) {\n",
       "      if (root.Bokeh !== undefined) {\n",
       "        clearInterval(timer);\n",
       "        embed_document(root);\n",
       "      } else {\n",
       "        attempts++;\n",
       "        if (attempts > 100) {\n",
       "          clearInterval(timer);\n",
       "          console.log(\"Bokeh: ERROR: Unable to run BokehJS code because BokehJS library is missing\");\n",
       "        }\n",
       "      }\n",
       "    }, 10, root)\n",
       "  }\n",
       "})(window);"
      ],
      "application/vnd.bokehjs_exec.v0+json": ""
     },
     "metadata": {
      "application/vnd.bokehjs_exec.v0+json": {
       "id": "1700"
      }
     },
     "output_type": "display_data"
    }
   ],
   "source": [
    "pl = Plotter(rec=learn.rec)\n",
    "pl.plot_lr_range_test()"
   ]
  },
  {
   "cell_type": "markdown",
   "metadata": {},
   "source": [
    "**Actual training (you may want to reset the model)**"
   ]
  },
  {
   "cell_type": "code",
   "execution_count": 31,
   "metadata": {},
   "outputs": [
    {
     "data": {
      "text/plain": [
       "(Parameter containing:\n",
       " tensor([ 0.4276,  0.5203,  2.5752, -1.1713], requires_grad=True), 0)"
      ]
     },
     "execution_count": 31,
     "metadata": {},
     "output_type": "execute_result"
    }
   ],
   "source": [
    "opt.model_params, learn.epoch"
   ]
  },
  {
   "cell_type": "code",
   "execution_count": 32,
   "metadata": {},
   "outputs": [
    {
     "data": {
      "text/plain": [
       "tensor(19.5673, dtype=torch.float64, grad_fn=<SqrtBackward>)"
      ]
     },
     "execution_count": 32,
     "metadata": {},
     "output_type": "execute_result"
    }
   ],
   "source": [
    "loss_fun(y, lm(X))"
   ]
  },
  {
   "cell_type": "markdown",
   "metadata": {},
   "source": [
    "Training"
   ]
  },
  {
   "cell_type": "code",
   "execution_count": 33,
   "metadata": {
    "scrolled": true
   },
   "outputs": [],
   "source": [
    "learn.fit(epochs=10)"
   ]
  },
  {
   "cell_type": "code",
   "execution_count": 34,
   "metadata": {},
   "outputs": [
    {
     "data": {
      "text/plain": [
       "(Parameter containing:\n",
       " tensor([ 1.5309,  1.1048,  3.1791, -0.3132], requires_grad=True),\n",
       " 10,\n",
       " Parameter containing:\n",
       " tensor([ 1.5309,  1.1048,  3.1791, -0.3132], requires_grad=True))"
      ]
     },
     "execution_count": 34,
     "metadata": {},
     "output_type": "execute_result"
    }
   ],
   "source": [
    "lm.w, learn.epoch, opt.model_params"
   ]
  },
  {
   "cell_type": "code",
   "execution_count": null,
   "metadata": {
    "scrolled": true
   },
   "outputs": [],
   "source": [
    "learn.rec.stats"
   ]
  },
  {
   "cell_type": "code",
   "execution_count": 36,
   "metadata": {},
   "outputs": [
    {
     "data": {
      "text/plain": [
       "tensor(0.2129, dtype=torch.float64, grad_fn=<SqrtBackward>)"
      ]
     },
     "execution_count": 36,
     "metadata": {},
     "output_type": "execute_result"
    }
   ],
   "source": [
    "loss_fun(y, lm_ori(X))"
   ]
  },
  {
   "cell_type": "code",
   "execution_count": 37,
   "metadata": {},
   "outputs": [
    {
     "data": {
      "text/plain": [
       "tensor(6.4272, dtype=torch.float64, grad_fn=<SqrtBackward>)"
      ]
     },
     "execution_count": 37,
     "metadata": {},
     "output_type": "execute_result"
    }
   ],
   "source": [
    "loss_fun(y, lm(X))"
   ]
  },
  {
   "cell_type": "markdown",
   "metadata": {},
   "source": [
    "**Analysing the telemetry**"
   ]
  },
  {
   "cell_type": "code",
   "execution_count": 38,
   "metadata": {},
   "outputs": [
    {
     "data": {
      "text/html": [
       "\n",
       "\n",
       "\n",
       "\n",
       "\n",
       "\n",
       "  <div class=\"bk-root\" id=\"787e8af9-8dbd-40c1-ba06-07e82a9f4294\" data-root-id=\"1848\"></div>\n"
      ]
     },
     "metadata": {},
     "output_type": "display_data"
    },
    {
     "data": {
      "application/javascript": [
       "(function(root) {\n",
       "  function embed_document(root) {\n",
       "    \n",
       "  var docs_json = {\"3458baa3-b588-4223-a30a-819041e2df06\":{\"roots\":{\"references\":[{\"attributes\":{\"below\":[{\"id\":\"1859\",\"type\":\"LinearAxis\"}],\"center\":[{\"id\":\"1863\",\"type\":\"Grid\"},{\"id\":\"1868\",\"type\":\"Grid\"}],\"left\":[{\"id\":\"1864\",\"type\":\"LinearAxis\"}],\"plot_height\":400,\"plot_width\":700,\"renderers\":[{\"id\":\"1886\",\"type\":\"GlyphRenderer\"},{\"id\":\"1892\",\"type\":\"GlyphRenderer\"}],\"title\":{\"id\":\"1849\",\"type\":\"Title\"},\"toolbar\":{\"id\":\"1875\",\"type\":\"Toolbar\"},\"x_range\":{\"id\":\"1851\",\"type\":\"DataRange1d\"},\"x_scale\":{\"id\":\"1855\",\"type\":\"LinearScale\"},\"y_range\":{\"id\":\"1853\",\"type\":\"DataRange1d\"},\"y_scale\":{\"id\":\"1857\",\"type\":\"LinearScale\"}},\"id\":\"1848\",\"subtype\":\"Figure\",\"type\":\"Plot\"},{\"attributes\":{},\"id\":\"1957\",\"type\":\"BasicTickFormatter\"},{\"attributes\":{\"callback\":null,\"formatters\":{\"Iteration\":\"numeral\",\"Loss\":\"numeral\",\"Set\":\"printf\"},\"mode\":\"vline\",\"tooltips\":[[\"Iteration\",\"@Iteration\"],[\"Loss\",\"@Loss\"],[\"Set\",\"@Group\"]]},\"id\":\"1894\",\"type\":\"HoverTool\"},{\"attributes\":{\"bottom_units\":\"screen\",\"fill_alpha\":{\"value\":0.5},\"fill_color\":{\"value\":\"lightgrey\"},\"left_units\":\"screen\",\"level\":\"overlay\",\"line_alpha\":{\"value\":1.0},\"line_color\":{\"value\":\"black\"},\"line_dash\":[4,4],\"line_width\":{\"value\":2},\"render_mode\":\"css\",\"right_units\":\"screen\",\"top_units\":\"screen\"},\"id\":\"1959\",\"type\":\"BoxAnnotation\"},{\"attributes\":{},\"id\":\"1963\",\"type\":\"UnionRenderers\"},{\"attributes\":{\"callback\":null,\"data\":{\"Group\":[\"Train\",\"Train\",\"Train\",\"Train\",\"Train\",\"Train\",\"Train\",\"Train\",\"Train\",\"Train\",\"Train\",\"Train\",\"Train\",\"Train\",\"Train\",\"Train\",\"Train\",\"Train\",\"Train\",\"Train\",\"Train\",\"Train\",\"Train\",\"Train\",\"Train\",\"Train\",\"Train\",\"Train\",\"Train\",\"Train\",\"Train\",\"Train\",\"Train\",\"Train\",\"Train\",\"Train\",\"Train\",\"Train\",\"Train\",\"Train\"],\"Iteration\":{\"__ndarray__\":\"AAAAAAEAAAACAAAAAwAAAAQAAAAFAAAABgAAAAcAAAAIAAAACQAAAAoAAAALAAAADAAAAA0AAAAOAAAADwAAABAAAAARAAAAEgAAABMAAAAUAAAAFQAAABYAAAAXAAAAGAAAABkAAAAaAAAAGwAAABwAAAAdAAAAHgAAAB8AAAAgAAAAIQAAACIAAAAjAAAAJAAAACUAAAAmAAAAJwAAAA==\",\"dtype\":\"int32\",\"shape\":[40]},\"Loss\":[13.911836679116908,15.097846451117272,3.0523036414818576,6.877634607766776,5.51089150246138,3.556461804307289,8.689825931669919,3.088742804767805,4.432247369117301,7.8246079899638765,4.1664262476904295,3.6364631438950985,3.9082604672469716,5.892040383640496,6.88575121634817,2.9948009409700664,5.8912669726803415,5.75483022234594,3.7288640454902784,6.087637516255982,2.963450172309745,6.826121464548389,3.194576591825912,4.623862002742275,5.567695794415229,1.822141896471252,6.470363896704858,4.494855120739334,7.154677252273481,4.934301786348362,4.3134411572118525,5.3813077601528585,4.54645043544723,3.747484863536155,8.396351167776503,3.9299737737648615,5.193661181908166,6.955616317097774,3.5733760849021508,3.9074698604971756]},\"selected\":{\"id\":\"1960\",\"type\":\"Selection\"},\"selection_policy\":{\"id\":\"1961\",\"type\":\"UnionRenderers\"}},\"id\":\"1882\",\"type\":\"ColumnDataSource\"},{\"attributes\":{\"line_color\":\"#000003\",\"line_width\":2,\"x\":{\"field\":\"Iteration\"},\"y\":{\"field\":\"Loss\"}},\"id\":\"1884\",\"type\":\"Line\"},{\"attributes\":{},\"id\":\"1870\",\"type\":\"WheelZoomTool\"},{\"attributes\":{\"data_source\":{\"id\":\"1888\",\"type\":\"ColumnDataSource\"},\"glyph\":{\"id\":\"1890\",\"type\":\"Line\"},\"hover_glyph\":null,\"muted_glyph\":null,\"nonselection_glyph\":{\"id\":\"1891\",\"type\":\"Line\"},\"selection_glyph\":null,\"view\":{\"id\":\"1893\",\"type\":\"CDSView\"}},\"id\":\"1892\",\"type\":\"GlyphRenderer\"},{\"attributes\":{\"axis_label\":\"Loss\",\"formatter\":{\"id\":\"1955\",\"type\":\"BasicTickFormatter\"},\"ticker\":{\"id\":\"1865\",\"type\":\"BasicTicker\"}},\"id\":\"1864\",\"type\":\"LinearAxis\"},{\"attributes\":{\"source\":{\"id\":\"1888\",\"type\":\"ColumnDataSource\"}},\"id\":\"1893\",\"type\":\"CDSView\"},{\"attributes\":{},\"id\":\"1961\",\"type\":\"UnionRenderers\"},{\"attributes\":{\"axis_label\":\"Iteration\",\"formatter\":{\"id\":\"1957\",\"type\":\"BasicTickFormatter\"},\"ticker\":{\"id\":\"1860\",\"type\":\"BasicTicker\"}},\"id\":\"1859\",\"type\":\"LinearAxis\"},{\"attributes\":{},\"id\":\"1865\",\"type\":\"BasicTicker\"},{\"attributes\":{},\"id\":\"1855\",\"type\":\"LinearScale\"},{\"attributes\":{\"line_color\":\"#BA3655\",\"line_width\":2,\"x\":{\"field\":\"Iteration\"},\"y\":{\"field\":\"Loss\"}},\"id\":\"1890\",\"type\":\"Line\"},{\"attributes\":{},\"id\":\"1857\",\"type\":\"LinearScale\"},{\"attributes\":{\"data_source\":{\"id\":\"1882\",\"type\":\"ColumnDataSource\"},\"glyph\":{\"id\":\"1884\",\"type\":\"Line\"},\"hover_glyph\":null,\"muted_glyph\":null,\"nonselection_glyph\":{\"id\":\"1885\",\"type\":\"Line\"},\"selection_glyph\":null,\"view\":{\"id\":\"1887\",\"type\":\"CDSView\"}},\"id\":\"1886\",\"type\":\"GlyphRenderer\"},{\"attributes\":{},\"id\":\"1955\",\"type\":\"BasicTickFormatter\"},{\"attributes\":{},\"id\":\"1869\",\"type\":\"PanTool\"},{\"attributes\":{\"overlay\":{\"id\":\"1959\",\"type\":\"BoxAnnotation\"}},\"id\":\"1871\",\"type\":\"BoxZoomTool\"},{\"attributes\":{},\"id\":\"1873\",\"type\":\"ResetTool\"},{\"attributes\":{\"source\":{\"id\":\"1882\",\"type\":\"ColumnDataSource\"}},\"id\":\"1887\",\"type\":\"CDSView\"},{\"attributes\":{\"callback\":null,\"data\":{\"Group\":[\"Validation\",\"Validation\",\"Validation\",\"Validation\",\"Validation\",\"Validation\",\"Validation\",\"Validation\",\"Validation\",\"Validation\",\"Validation\",\"Validation\",\"Validation\",\"Validation\",\"Validation\",\"Validation\",\"Validation\",\"Validation\",\"Validation\",\"Validation\",\"Validation\",\"Validation\",\"Validation\",\"Validation\",\"Validation\",\"Validation\",\"Validation\",\"Validation\",\"Validation\",\"Validation\",\"Validation\",\"Validation\",\"Validation\",\"Validation\",\"Validation\",\"Validation\",\"Validation\",\"Validation\",\"Validation\",\"Validation\"],\"Iteration\":{\"__ndarray__\":\"AAAAAAEAAAACAAAAAwAAAAQAAAAFAAAABgAAAAcAAAAIAAAACQAAAAoAAAALAAAADAAAAA0AAAAOAAAADwAAABAAAAARAAAAEgAAABMAAAAUAAAAFQAAABYAAAAXAAAAGAAAABkAAAAaAAAAGwAAABwAAAAdAAAAHgAAAB8AAAAgAAAAIQAAACIAAAAjAAAAJAAAACUAAAAmAAAAJwAAAA==\",\"dtype\":\"int32\",\"shape\":[40]},\"Loss\":[10.152075068799329,2.7901587081392023,3.050146022741478,4.572939664381804,2.642393009289343,7.293035815249725,2.962767093620212,3.7592251381442874,3.936167515099181,4.305486413187018,2.746539971527098,3.38094948180128,3.050042927856216,6.666885415189448,3.0348521214772717,4.723639712029091,5.200111553051716,2.5474919927310706,3.4189589792369373,2.5077275624138124,5.775095922712758,2.7532772358565247,3.170896769895715,6.714333746134277,2.1274355176594657,5.372919718272891,3.7224039192810436,5.355598185430643,3.1001797341829374,2.7795652302042915,3.9822146384121995,3.0614551445770206,3.4163849416858993,5.397723586839934,3.833893871204598,3.4530504453366055,4.9745091558379055,3.8595513482181496,2.7784292466544764,5.661565446937529]},\"selected\":{\"id\":\"1962\",\"type\":\"Selection\"},\"selection_policy\":{\"id\":\"1963\",\"type\":\"UnionRenderers\"}},\"id\":\"1888\",\"type\":\"ColumnDataSource\"},{\"attributes\":{\"callback\":null},\"id\":\"1851\",\"type\":\"DataRange1d\"},{\"attributes\":{\"line_alpha\":0.1,\"line_color\":\"#1f77b4\",\"line_width\":2,\"x\":{\"field\":\"Iteration\"},\"y\":{\"field\":\"Loss\"}},\"id\":\"1885\",\"type\":\"Line\"},{\"attributes\":{},\"id\":\"1960\",\"type\":\"Selection\"},{\"attributes\":{\"callback\":null},\"id\":\"1853\",\"type\":\"DataRange1d\"},{\"attributes\":{\"active_drag\":\"auto\",\"active_inspect\":\"auto\",\"active_multi\":null,\"active_scroll\":\"auto\",\"active_tap\":\"auto\",\"tools\":[{\"id\":\"1869\",\"type\":\"PanTool\"},{\"id\":\"1870\",\"type\":\"WheelZoomTool\"},{\"id\":\"1871\",\"type\":\"BoxZoomTool\"},{\"id\":\"1872\",\"type\":\"SaveTool\"},{\"id\":\"1873\",\"type\":\"ResetTool\"},{\"id\":\"1874\",\"type\":\"HelpTool\"},{\"id\":\"1894\",\"type\":\"HoverTool\"}]},\"id\":\"1875\",\"type\":\"Toolbar\"},{\"attributes\":{},\"id\":\"1860\",\"type\":\"BasicTicker\"},{\"attributes\":{},\"id\":\"1962\",\"type\":\"Selection\"},{\"attributes\":{\"dimension\":1,\"ticker\":{\"id\":\"1865\",\"type\":\"BasicTicker\"}},\"id\":\"1868\",\"type\":\"Grid\"},{\"attributes\":{},\"id\":\"1874\",\"type\":\"HelpTool\"},{\"attributes\":{\"text\":\"Losses vs iteration\"},\"id\":\"1849\",\"type\":\"Title\"},{\"attributes\":{},\"id\":\"1872\",\"type\":\"SaveTool\"},{\"attributes\":{\"line_alpha\":0.1,\"line_color\":\"#1f77b4\",\"line_width\":2,\"x\":{\"field\":\"Iteration\"},\"y\":{\"field\":\"Loss\"}},\"id\":\"1891\",\"type\":\"Line\"},{\"attributes\":{\"ticker\":{\"id\":\"1860\",\"type\":\"BasicTicker\"}},\"id\":\"1863\",\"type\":\"Grid\"}],\"root_ids\":[\"1848\"]},\"title\":\"Bokeh Application\",\"version\":\"1.4.0\"}};\n",
       "  var render_items = [{\"docid\":\"3458baa3-b588-4223-a30a-819041e2df06\",\"roots\":{\"1848\":\"787e8af9-8dbd-40c1-ba06-07e82a9f4294\"}}];\n",
       "  root.Bokeh.embed.embed_items_notebook(docs_json, render_items);\n",
       "\n",
       "  }\n",
       "  if (root.Bokeh !== undefined) {\n",
       "    embed_document(root);\n",
       "  } else {\n",
       "    var attempts = 0;\n",
       "    var timer = setInterval(function(root) {\n",
       "      if (root.Bokeh !== undefined) {\n",
       "        clearInterval(timer);\n",
       "        embed_document(root);\n",
       "      } else {\n",
       "        attempts++;\n",
       "        if (attempts > 100) {\n",
       "          clearInterval(timer);\n",
       "          console.log(\"Bokeh: ERROR: Unable to run BokehJS code because BokehJS library is missing\");\n",
       "        }\n",
       "      }\n",
       "    }, 10, root)\n",
       "  }\n",
       "})(window);"
      ],
      "application/vnd.bokehjs_exec.v0+json": ""
     },
     "metadata": {
      "application/vnd.bokehjs_exec.v0+json": {
       "id": "1848"
      }
     },
     "output_type": "display_data"
    }
   ],
   "source": [
    "pl = Plotter(rec=learn.rec)\n",
    "pl.plot_loss()"
   ]
  },
  {
   "cell_type": "code",
   "execution_count": 39,
   "metadata": {},
   "outputs": [
    {
     "data": {
      "text/html": [
       "\n",
       "\n",
       "\n",
       "\n",
       "\n",
       "\n",
       "  <div class=\"bk-root\" id=\"888e0410-42e0-4ed6-87ba-1a6a6934d9d2\" data-root-id=\"2024\"></div>\n"
      ]
     },
     "metadata": {},
     "output_type": "display_data"
    },
    {
     "data": {
      "application/javascript": [
       "(function(root) {\n",
       "  function embed_document(root) {\n",
       "    \n",
       "  var docs_json = {\"cd7a2974-87ce-43a7-a24b-db3e0d551992\":{\"roots\":{\"references\":[{\"attributes\":{\"below\":[{\"id\":\"2035\",\"type\":\"LinearAxis\"}],\"center\":[{\"id\":\"2039\",\"type\":\"Grid\"},{\"id\":\"2044\",\"type\":\"Grid\"}],\"left\":[{\"id\":\"2040\",\"type\":\"LinearAxis\"}],\"plot_height\":400,\"plot_width\":700,\"renderers\":[{\"id\":\"2062\",\"type\":\"GlyphRenderer\"},{\"id\":\"2068\",\"type\":\"GlyphRenderer\"},{\"id\":\"2074\",\"type\":\"GlyphRenderer\"},{\"id\":\"2080\",\"type\":\"GlyphRenderer\"}],\"title\":{\"id\":\"2025\",\"type\":\"Title\"},\"toolbar\":{\"id\":\"2051\",\"type\":\"Toolbar\"},\"x_range\":{\"id\":\"2027\",\"type\":\"DataRange1d\"},\"x_scale\":{\"id\":\"2031\",\"type\":\"LinearScale\"},\"y_range\":{\"id\":\"2029\",\"type\":\"DataRange1d\"},\"y_scale\":{\"id\":\"2033\",\"type\":\"LinearScale\"}},\"id\":\"2024\",\"subtype\":\"Figure\",\"type\":\"Plot\"},{\"attributes\":{\"data_source\":{\"id\":\"2058\",\"type\":\"ColumnDataSource\"},\"glyph\":{\"id\":\"2060\",\"type\":\"Line\"},\"hover_glyph\":null,\"muted_glyph\":null,\"nonselection_glyph\":{\"id\":\"2061\",\"type\":\"Line\"},\"selection_glyph\":null,\"view\":{\"id\":\"2063\",\"type\":\"CDSView\"}},\"id\":\"2062\",\"type\":\"GlyphRenderer\"},{\"attributes\":{\"callback\":null,\"data\":{\"Iteration\":{\"__ndarray__\":\"AAAAAAEAAAACAAAAAwAAAAQAAAAFAAAABgAAAAcAAAAIAAAACQAAAAoAAAALAAAADAAAAA0AAAAOAAAADwAAABAAAAARAAAAEgAAABMAAAAUAAAAFQAAABYAAAAXAAAAGAAAABkAAAAaAAAAGwAAABwAAAAdAAAAHgAAAB8AAAAgAAAAIQAAACIAAAAjAAAAJAAAACUAAAAmAAAAJwAAAA==\",\"dtype\":\"int32\",\"shape\":[40]},\"param\":[\"w_0\",\"w_0\",\"w_0\",\"w_0\",\"w_0\",\"w_0\",\"w_0\",\"w_0\",\"w_0\",\"w_0\",\"w_0\",\"w_0\",\"w_0\",\"w_0\",\"w_0\",\"w_0\",\"w_0\",\"w_0\",\"w_0\",\"w_0\",\"w_0\",\"w_0\",\"w_0\",\"w_0\",\"w_0\",\"w_0\",\"w_0\",\"w_0\",\"w_0\",\"w_0\",\"w_0\",\"w_0\",\"w_0\",\"w_0\",\"w_0\",\"w_0\",\"w_0\",\"w_0\",\"w_0\",\"w_0\"],\"w\":{\"__ndarray__\":\"H8GEPw7sA0BKPTFAjTvbP1mFHUBOsr8/dnIeQPAf8T84CjZAAT3pP7pQIkBvIuw/QGInQMnlxT8AERpAs8HZP6c/LUBKtfA/nCQwQERZ+j9sRjFAcqnuPzRpIEBnP8M/PVwNQNBcyj96FCBAtHTIPxYmJUD04eE/IKUlQCyv1j/m/hpAD1q5P8i7HkAFy9s/WQcuQCDh4z8rMhxAHvTDPw==\",\"dtype\":\"float32\",\"shape\":[40]}},\"selected\":{\"id\":\"2158\",\"type\":\"Selection\"},\"selection_policy\":{\"id\":\"2159\",\"type\":\"UnionRenderers\"}},\"id\":\"2058\",\"type\":\"ColumnDataSource\"},{\"attributes\":{\"line_color\":\"#4A0B6A\",\"line_width\":2,\"x\":{\"field\":\"Iteration\"},\"y\":{\"field\":\"w\"}},\"id\":\"2072\",\"type\":\"Line\"},{\"attributes\":{},\"id\":\"2160\",\"type\":\"Selection\"},{\"attributes\":{\"data_source\":{\"id\":\"2076\",\"type\":\"ColumnDataSource\"},\"glyph\":{\"id\":\"2078\",\"type\":\"Line\"},\"hover_glyph\":null,\"muted_glyph\":null,\"nonselection_glyph\":{\"id\":\"2079\",\"type\":\"Line\"},\"selection_glyph\":null,\"view\":{\"id\":\"2081\",\"type\":\"CDSView\"}},\"id\":\"2080\",\"type\":\"GlyphRenderer\"},{\"attributes\":{},\"id\":\"2155\",\"type\":\"BasicTickFormatter\"},{\"attributes\":{},\"id\":\"2162\",\"type\":\"Selection\"},{\"attributes\":{\"data_source\":{\"id\":\"2064\",\"type\":\"ColumnDataSource\"},\"glyph\":{\"id\":\"2066\",\"type\":\"Line\"},\"hover_glyph\":null,\"muted_glyph\":null,\"nonselection_glyph\":{\"id\":\"2067\",\"type\":\"Line\"},\"selection_glyph\":null,\"view\":{\"id\":\"2069\",\"type\":\"CDSView\"}},\"id\":\"2068\",\"type\":\"GlyphRenderer\"},{\"attributes\":{},\"id\":\"2045\",\"type\":\"PanTool\"},{\"attributes\":{\"overlay\":{\"id\":\"2157\",\"type\":\"BoxAnnotation\"}},\"id\":\"2047\",\"type\":\"BoxZoomTool\"},{\"attributes\":{\"line_alpha\":0.1,\"line_color\":\"#1f77b4\",\"line_width\":2,\"x\":{\"field\":\"Iteration\"},\"y\":{\"field\":\"w\"}},\"id\":\"2067\",\"type\":\"Line\"},{\"attributes\":{\"source\":{\"id\":\"2076\",\"type\":\"ColumnDataSource\"}},\"id\":\"2081\",\"type\":\"CDSView\"},{\"attributes\":{},\"id\":\"2165\",\"type\":\"UnionRenderers\"},{\"attributes\":{\"formatter\":{\"id\":\"2153\",\"type\":\"BasicTickFormatter\"},\"ticker\":{\"id\":\"2041\",\"type\":\"BasicTicker\"}},\"id\":\"2040\",\"type\":\"LinearAxis\"},{\"attributes\":{\"callback\":null,\"formatters\":{\"Iteration\":\"numeral\",\"Name\":\"printf\",\"Value\":\"numeral\"},\"mode\":\"vline\",\"tooltips\":[[\"Iteration\",\"@Iteration\"],[\"Value\",\"@w\"],[\"Name\",\"@param\"]]},\"id\":\"2082\",\"type\":\"HoverTool\"},{\"attributes\":{\"source\":{\"id\":\"2058\",\"type\":\"ColumnDataSource\"}},\"id\":\"2063\",\"type\":\"CDSView\"},{\"attributes\":{\"line_color\":\"#000003\",\"line_width\":2,\"x\":{\"field\":\"Iteration\"},\"y\":{\"field\":\"w\"}},\"id\":\"2060\",\"type\":\"Line\"},{\"attributes\":{\"line_alpha\":0.1,\"line_color\":\"#1f77b4\",\"line_width\":2,\"x\":{\"field\":\"Iteration\"},\"y\":{\"field\":\"w\"}},\"id\":\"2079\",\"type\":\"Line\"},{\"attributes\":{\"ticker\":{\"id\":\"2036\",\"type\":\"BasicTicker\"}},\"id\":\"2039\",\"type\":\"Grid\"},{\"attributes\":{\"text\":\"Model weights vs iteration\"},\"id\":\"2025\",\"type\":\"Title\"},{\"attributes\":{\"formatter\":{\"id\":\"2155\",\"type\":\"BasicTickFormatter\"},\"ticker\":{\"id\":\"2036\",\"type\":\"BasicTicker\"}},\"id\":\"2035\",\"type\":\"LinearAxis\"},{\"attributes\":{\"dimension\":1,\"ticker\":{\"id\":\"2041\",\"type\":\"BasicTicker\"}},\"id\":\"2044\",\"type\":\"Grid\"},{\"attributes\":{\"callback\":null},\"id\":\"2029\",\"type\":\"DataRange1d\"},{\"attributes\":{},\"id\":\"2049\",\"type\":\"ResetTool\"},{\"attributes\":{\"active_drag\":\"auto\",\"active_inspect\":\"auto\",\"active_multi\":null,\"active_scroll\":\"auto\",\"active_tap\":\"auto\",\"tools\":[{\"id\":\"2045\",\"type\":\"PanTool\"},{\"id\":\"2046\",\"type\":\"WheelZoomTool\"},{\"id\":\"2047\",\"type\":\"BoxZoomTool\"},{\"id\":\"2048\",\"type\":\"SaveTool\"},{\"id\":\"2049\",\"type\":\"ResetTool\"},{\"id\":\"2050\",\"type\":\"HelpTool\"},{\"id\":\"2082\",\"type\":\"HoverTool\"}]},\"id\":\"2051\",\"type\":\"Toolbar\"},{\"attributes\":{},\"id\":\"2050\",\"type\":\"HelpTool\"},{\"attributes\":{\"callback\":null,\"data\":{\"Iteration\":{\"__ndarray__\":\"AAAAAAEAAAACAAAAAwAAAAQAAAAFAAAABgAAAAcAAAAIAAAACQAAAAoAAAALAAAADAAAAA0AAAAOAAAADwAAABAAAAARAAAAEgAAABMAAAAUAAAAFQAAABYAAAAXAAAAGAAAABkAAAAaAAAAGwAAABwAAAAdAAAAHgAAAB8AAAAgAAAAIQAAACIAAAAjAAAAJAAAACUAAAAmAAAAJwAAAA==\",\"dtype\":\"int32\",\"shape\":[40]},\"param\":[\"w_3\",\"w_3\",\"w_3\",\"w_3\",\"w_3\",\"w_3\",\"w_3\",\"w_3\",\"w_3\",\"w_3\",\"w_3\",\"w_3\",\"w_3\",\"w_3\",\"w_3\",\"w_3\",\"w_3\",\"w_3\",\"w_3\",\"w_3\",\"w_3\",\"w_3\",\"w_3\",\"w_3\",\"w_3\",\"w_3\",\"w_3\",\"w_3\",\"w_3\",\"w_3\",\"w_3\",\"w_3\",\"w_3\",\"w_3\",\"w_3\",\"w_3\",\"w_3\",\"w_3\",\"w_3\",\"w_3\"],\"w\":{\"__ndarray__\":\"1eOOv/qdhb/mwHO/Kz+Av5qDbL/Z+nG/yhRgvwVKYL+VR0u/PuJYv54+Q78O50a/dZIyv4YqPb+umSm/kd0vv5aTHL+CpCa/7OwSv/amH79OYAy/IEcZv/hiBr+/3Q+/ABn4viL19r69d9e+Ku3uvosAy753O+G+D9m9vhid1r587K++RffIvpKdpr5Qq7O+CsaPvuRbrb7Z84i+61ugvg==\",\"dtype\":\"float32\",\"shape\":[40]}},\"selected\":{\"id\":\"2164\",\"type\":\"Selection\"},\"selection_policy\":{\"id\":\"2165\",\"type\":\"UnionRenderers\"}},\"id\":\"2076\",\"type\":\"ColumnDataSource\"},{\"attributes\":{\"data_source\":{\"id\":\"2070\",\"type\":\"ColumnDataSource\"},\"glyph\":{\"id\":\"2072\",\"type\":\"Line\"},\"hover_glyph\":null,\"muted_glyph\":null,\"nonselection_glyph\":{\"id\":\"2073\",\"type\":\"Line\"},\"selection_glyph\":null,\"view\":{\"id\":\"2075\",\"type\":\"CDSView\"}},\"id\":\"2074\",\"type\":\"GlyphRenderer\"},{\"attributes\":{},\"id\":\"2161\",\"type\":\"UnionRenderers\"},{\"attributes\":{\"callback\":null,\"data\":{\"Iteration\":{\"__ndarray__\":\"AAAAAAEAAAACAAAAAwAAAAQAAAAFAAAABgAAAAcAAAAIAAAACQAAAAoAAAALAAAADAAAAA0AAAAOAAAADwAAABAAAAARAAAAEgAAABMAAAAUAAAAFQAAABYAAAAXAAAAGAAAABkAAAAaAAAAGwAAABwAAAAdAAAAHgAAAB8AAAAgAAAAIQAAACIAAAAjAAAAJAAAACUAAAAmAAAAJwAAAA==\",\"dtype\":\"int32\",\"shape\":[40]},\"param\":[\"w_2\",\"w_2\",\"w_2\",\"w_2\",\"w_2\",\"w_2\",\"w_2\",\"w_2\",\"w_2\",\"w_2\",\"w_2\",\"w_2\",\"w_2\",\"w_2\",\"w_2\",\"w_2\",\"w_2\",\"w_2\",\"w_2\",\"w_2\",\"w_2\",\"w_2\",\"w_2\",\"w_2\",\"w_2\",\"w_2\",\"w_2\",\"w_2\",\"w_2\",\"w_2\",\"w_2\",\"w_2\",\"w_2\",\"w_2\",\"w_2\",\"w_2\",\"w_2\",\"w_2\",\"w_2\",\"w_2\"],\"w\":{\"__ndarray__\":\"/V8rQBH4NUAuGz9A5201QCe7PkDpsTZAXY1AQNd8O0BJZkVAT/w7QKkhRUAvKz9A6hdIQFzvPkC2nUhArSxCQBkmTEBDc0RAxVJNQGreRECfpU1Aqb9EQITSTEDiH0RAKi1NQHb7R0B40lBANulHQOe0UUCGBElApQ5SQBRcSUCXoFJAXqhJQBiqU0AeTUxAmqdVQGA5TEC4BVRAInZLQA==\",\"dtype\":\"float32\",\"shape\":[40]}},\"selected\":{\"id\":\"2162\",\"type\":\"Selection\"},\"selection_policy\":{\"id\":\"2163\",\"type\":\"UnionRenderers\"}},\"id\":\"2070\",\"type\":\"ColumnDataSource\"},{\"attributes\":{},\"id\":\"2031\",\"type\":\"LinearScale\"},{\"attributes\":{},\"id\":\"2041\",\"type\":\"BasicTicker\"},{\"attributes\":{\"source\":{\"id\":\"2064\",\"type\":\"ColumnDataSource\"}},\"id\":\"2069\",\"type\":\"CDSView\"},{\"attributes\":{\"line_color\":\"#781C6D\",\"line_width\":2,\"x\":{\"field\":\"Iteration\"},\"y\":{\"field\":\"w\"}},\"id\":\"2078\",\"type\":\"Line\"},{\"attributes\":{},\"id\":\"2158\",\"type\":\"Selection\"},{\"attributes\":{\"callback\":null},\"id\":\"2027\",\"type\":\"DataRange1d\"},{\"attributes\":{},\"id\":\"2036\",\"type\":\"BasicTicker\"},{\"attributes\":{},\"id\":\"2153\",\"type\":\"BasicTickFormatter\"},{\"attributes\":{\"callback\":null,\"data\":{\"Iteration\":{\"__ndarray__\":\"AAAAAAEAAAACAAAAAwAAAAQAAAAFAAAABgAAAAcAAAAIAAAACQAAAAoAAAALAAAADAAAAA0AAAAOAAAADwAAABAAAAARAAAAEgAAABMAAAAUAAAAFQAAABYAAAAXAAAAGAAAABkAAAAaAAAAGwAAABwAAAAdAAAAHgAAAB8AAAAgAAAAIQAAACIAAAAjAAAAJAAAACUAAAAmAAAAJwAAAA==\",\"dtype\":\"int32\",\"shape\":[40]},\"param\":[\"w_1\",\"w_1\",\"w_1\",\"w_1\",\"w_1\",\"w_1\",\"w_1\",\"w_1\",\"w_1\",\"w_1\",\"w_1\",\"w_1\",\"w_1\",\"w_1\",\"w_1\",\"w_1\",\"w_1\",\"w_1\",\"w_1\",\"w_1\",\"w_1\",\"w_1\",\"w_1\",\"w_1\",\"w_1\",\"w_1\",\"w_1\",\"w_1\",\"w_1\",\"w_1\",\"w_1\",\"w_1\",\"w_1\",\"w_1\",\"w_1\",\"w_1\",\"w_1\",\"w_1\",\"w_1\",\"w_1\"],\"w\":{\"__ndarray__\":\"yI5CP/7jlD9VSLs/YByIP8ZVsD8KXIM/sJOzP9Bblj9OGsY/bXKUP9RMuz9n55k/r7rBP/ZJjz961rs/cT6YP5RoyT+8uqA/9CnLP95JoT9wdMk/gi2cPy7KvT8cjo4/1se0P7ZBlj/Js8E/tXuTP+l9xD9oP5o/KA3DP81OlT9pOr0/8oCNPwhDvz/NNJk/4hbJP4QrmT8B0Lo/aGmNPw==\",\"dtype\":\"float32\",\"shape\":[40]}},\"selected\":{\"id\":\"2160\",\"type\":\"Selection\"},\"selection_policy\":{\"id\":\"2161\",\"type\":\"UnionRenderers\"}},\"id\":\"2064\",\"type\":\"ColumnDataSource\"},{\"attributes\":{\"line_color\":\"#1A0B40\",\"line_width\":2,\"x\":{\"field\":\"Iteration\"},\"y\":{\"field\":\"w\"}},\"id\":\"2066\",\"type\":\"Line\"},{\"attributes\":{\"source\":{\"id\":\"2070\",\"type\":\"ColumnDataSource\"}},\"id\":\"2075\",\"type\":\"CDSView\"},{\"attributes\":{},\"id\":\"2163\",\"type\":\"UnionRenderers\"},{\"attributes\":{},\"id\":\"2048\",\"type\":\"SaveTool\"},{\"attributes\":{},\"id\":\"2164\",\"type\":\"Selection\"},{\"attributes\":{},\"id\":\"2033\",\"type\":\"LinearScale\"},{\"attributes\":{\"line_alpha\":0.1,\"line_color\":\"#1f77b4\",\"line_width\":2,\"x\":{\"field\":\"Iteration\"},\"y\":{\"field\":\"w\"}},\"id\":\"2061\",\"type\":\"Line\"},{\"attributes\":{},\"id\":\"2159\",\"type\":\"UnionRenderers\"},{\"attributes\":{},\"id\":\"2046\",\"type\":\"WheelZoomTool\"},{\"attributes\":{\"line_alpha\":0.1,\"line_color\":\"#1f77b4\",\"line_width\":2,\"x\":{\"field\":\"Iteration\"},\"y\":{\"field\":\"w\"}},\"id\":\"2073\",\"type\":\"Line\"},{\"attributes\":{\"bottom_units\":\"screen\",\"fill_alpha\":{\"value\":0.5},\"fill_color\":{\"value\":\"lightgrey\"},\"left_units\":\"screen\",\"level\":\"overlay\",\"line_alpha\":{\"value\":1.0},\"line_color\":{\"value\":\"black\"},\"line_dash\":[4,4],\"line_width\":{\"value\":2},\"render_mode\":\"css\",\"right_units\":\"screen\",\"top_units\":\"screen\"},\"id\":\"2157\",\"type\":\"BoxAnnotation\"}],\"root_ids\":[\"2024\"]},\"title\":\"Bokeh Application\",\"version\":\"1.4.0\"}};\n",
       "  var render_items = [{\"docid\":\"cd7a2974-87ce-43a7-a24b-db3e0d551992\",\"roots\":{\"2024\":\"888e0410-42e0-4ed6-87ba-1a6a6934d9d2\"}}];\n",
       "  root.Bokeh.embed.embed_items_notebook(docs_json, render_items);\n",
       "\n",
       "  }\n",
       "  if (root.Bokeh !== undefined) {\n",
       "    embed_document(root);\n",
       "  } else {\n",
       "    var attempts = 0;\n",
       "    var timer = setInterval(function(root) {\n",
       "      if (root.Bokeh !== undefined) {\n",
       "        clearInterval(timer);\n",
       "        embed_document(root);\n",
       "      } else {\n",
       "        attempts++;\n",
       "        if (attempts > 100) {\n",
       "          clearInterval(timer);\n",
       "          console.log(\"Bokeh: ERROR: Unable to run BokehJS code because BokehJS library is missing\");\n",
       "        }\n",
       "      }\n",
       "    }, 10, root)\n",
       "  }\n",
       "})(window);"
      ],
      "application/vnd.bokehjs_exec.v0+json": ""
     },
     "metadata": {
      "application/vnd.bokehjs_exec.v0+json": {
       "id": "2024"
      }
     },
     "output_type": "display_data"
    }
   ],
   "source": [
    "pl.plot_weights(colors=bokeh_palettes.Inferno10)"
   ]
  },
  {
   "cell_type": "code",
   "execution_count": 40,
   "metadata": {},
   "outputs": [
    {
     "data": {
      "text/html": [
       "\n",
       "\n",
       "\n",
       "\n",
       "\n",
       "\n",
       "  <div class=\"bk-root\" id=\"3506b4af-577d-4b6e-adf3-596dc462144d\" data-root-id=\"2250\"></div>\n"
      ]
     },
     "metadata": {},
     "output_type": "display_data"
    },
    {
     "data": {
      "application/javascript": [
       "(function(root) {\n",
       "  function embed_document(root) {\n",
       "    \n",
       "  var docs_json = {\"ad2a8055-e41e-400a-8c23-1d5981607000\":{\"roots\":{\"references\":[{\"attributes\":{\"below\":[{\"id\":\"2261\",\"type\":\"LinearAxis\"}],\"center\":[{\"id\":\"2265\",\"type\":\"Grid\"},{\"id\":\"2270\",\"type\":\"Grid\"}],\"left\":[{\"id\":\"2266\",\"type\":\"LinearAxis\"}],\"plot_height\":400,\"plot_width\":700,\"renderers\":[{\"id\":\"2288\",\"type\":\"GlyphRenderer\"},{\"id\":\"2294\",\"type\":\"GlyphRenderer\"},{\"id\":\"2300\",\"type\":\"GlyphRenderer\"},{\"id\":\"2306\",\"type\":\"GlyphRenderer\"}],\"title\":{\"id\":\"2251\",\"type\":\"Title\"},\"toolbar\":{\"id\":\"2277\",\"type\":\"Toolbar\"},\"x_range\":{\"id\":\"2253\",\"type\":\"DataRange1d\"},\"x_scale\":{\"id\":\"2257\",\"type\":\"LinearScale\"},\"y_range\":{\"id\":\"2255\",\"type\":\"DataRange1d\"},\"y_scale\":{\"id\":\"2259\",\"type\":\"LinearScale\"}},\"id\":\"2250\",\"subtype\":\"Figure\",\"type\":\"Plot\"},{\"attributes\":{},\"id\":\"2276\",\"type\":\"HelpTool\"},{\"attributes\":{\"callback\":null,\"data\":{\"Iteration\":{\"__ndarray__\":\"AAAAAAEAAAACAAAAAwAAAAQAAAAFAAAABgAAAAcAAAAIAAAACQAAAAoAAAALAAAADAAAAA0AAAAOAAAADwAAABAAAAARAAAAEgAAABMAAAAUAAAAFQAAABYAAAAXAAAAGAAAABkAAAAaAAAAGwAAABwAAAAdAAAAHgAAAB8AAAAgAAAAIQAAACIAAAAjAAAAJAAAACUAAAAmAAAAJwAAAA==\",\"dtype\":\"int32\",\"shape\":[40]},\"param\":[\"\\u2207w_3\",\"\\u2207w_3\",\"\\u2207w_3\",\"\\u2207w_3\",\"\\u2207w_3\",\"\\u2207w_3\",\"\\u2207w_3\",\"\\u2207w_3\",\"\\u2207w_3\",\"\\u2207w_3\",\"\\u2207w_3\",\"\\u2207w_3\",\"\\u2207w_3\",\"\\u2207w_3\",\"\\u2207w_3\",\"\\u2207w_3\",\"\\u2207w_3\",\"\\u2207w_3\",\"\\u2207w_3\",\"\\u2207w_3\",\"\\u2207w_3\",\"\\u2207w_3\",\"\\u2207w_3\",\"\\u2207w_3\",\"\\u2207w_3\",\"\\u2207w_3\",\"\\u2207w_3\",\"\\u2207w_3\",\"\\u2207w_3\",\"\\u2207w_3\",\"\\u2207w_3\",\"\\u2207w_3\",\"\\u2207w_3\",\"\\u2207w_3\",\"\\u2207w_3\",\"\\u2207w_3\",\"\\u2207w_3\",\"\\u2207w_3\",\"\\u2207w_3\",\"\\u2207w_3\"],\"\\u2207w\":{\"__ndarray__\":\"laoMvyN1Ob+Nzmq/xMz+Pl3LR7/UoVo+k/wyv08SBTxhGFK/lwoIP0VkWL+DURI++01Lv1Xh0z5uqEO/fZt6PtPjQL9oUsk+3itFv8qI/j6PwkC/NQQBP5XpPL+Vl70+cyxGv6pqtrz7ch2/Q5bqPhmfM788Td4+B+wwv1+o9z4Oc0G/3Gv6PnzAK79tiYI+Xnozv0DtEz81CDa/shDqPg==\",\"dtype\":\"float32\",\"shape\":[40]}},\"selected\":{\"id\":\"2404\",\"type\":\"Selection\"},\"selection_policy\":{\"id\":\"2405\",\"type\":\"UnionRenderers\"}},\"id\":\"2302\",\"type\":\"ColumnDataSource\"},{\"attributes\":{},\"id\":\"2398\",\"type\":\"Selection\"},{\"attributes\":{},\"id\":\"2405\",\"type\":\"UnionRenderers\"},{\"attributes\":{\"data_source\":{\"id\":\"2296\",\"type\":\"ColumnDataSource\"},\"glyph\":{\"id\":\"2298\",\"type\":\"Line\"},\"hover_glyph\":null,\"muted_glyph\":null,\"nonselection_glyph\":{\"id\":\"2299\",\"type\":\"Line\"},\"selection_glyph\":null,\"view\":{\"id\":\"2301\",\"type\":\"CDSView\"}},\"id\":\"2300\",\"type\":\"GlyphRenderer\"},{\"attributes\":{},\"id\":\"2272\",\"type\":\"WheelZoomTool\"},{\"attributes\":{\"line_color\":\"#1A0B40\",\"line_width\":2,\"x\":{\"field\":\"Iteration\"},\"y\":{\"field\":\"\\u2207w\"}},\"id\":\"2292\",\"type\":\"Line\"},{\"attributes\":{},\"id\":\"2395\",\"type\":\"BasicTickFormatter\"},{\"attributes\":{},\"id\":\"2404\",\"type\":\"Selection\"},{\"attributes\":{\"data_source\":{\"id\":\"2284\",\"type\":\"ColumnDataSource\"},\"glyph\":{\"id\":\"2286\",\"type\":\"Line\"},\"hover_glyph\":null,\"muted_glyph\":null,\"nonselection_glyph\":{\"id\":\"2287\",\"type\":\"Line\"},\"selection_glyph\":null,\"view\":{\"id\":\"2289\",\"type\":\"CDSView\"}},\"id\":\"2288\",\"type\":\"GlyphRenderer\"},{\"attributes\":{\"line_alpha\":0.1,\"line_color\":\"#1f77b4\",\"line_width\":2,\"x\":{\"field\":\"Iteration\"},\"y\":{\"field\":\"\\u2207w\"}},\"id\":\"2305\",\"type\":\"Line\"},{\"attributes\":{},\"id\":\"2262\",\"type\":\"BasicTicker\"},{\"attributes\":{\"overlay\":{\"id\":\"2397\",\"type\":\"BoxAnnotation\"}},\"id\":\"2273\",\"type\":\"BoxZoomTool\"},{\"attributes\":{},\"id\":\"2403\",\"type\":\"UnionRenderers\"},{\"attributes\":{},\"id\":\"2393\",\"type\":\"BasicTickFormatter\"},{\"attributes\":{\"line_color\":\"#781C6D\",\"line_width\":2,\"x\":{\"field\":\"Iteration\"},\"y\":{\"field\":\"\\u2207w\"}},\"id\":\"2304\",\"type\":\"Line\"},{\"attributes\":{\"callback\":null,\"data\":{\"Iteration\":{\"__ndarray__\":\"AAAAAAEAAAACAAAAAwAAAAQAAAAFAAAABgAAAAcAAAAIAAAACQAAAAoAAAALAAAADAAAAA0AAAAOAAAADwAAABAAAAARAAAAEgAAABMAAAAUAAAAFQAAABYAAAAXAAAAGAAAABkAAAAaAAAAGwAAABwAAAAdAAAAHgAAAB8AAAAgAAAAIQAAACIAAAAjAAAAJAAAACUAAAAmAAAAJwAAAA==\",\"dtype\":\"int32\",\"shape\":[40]},\"param\":[\"\\u2207w_2\",\"\\u2207w_2\",\"\\u2207w_2\",\"\\u2207w_2\",\"\\u2207w_2\",\"\\u2207w_2\",\"\\u2207w_2\",\"\\u2207w_2\",\"\\u2207w_2\",\"\\u2207w_2\",\"\\u2207w_2\",\"\\u2207w_2\",\"\\u2207w_2\",\"\\u2207w_2\",\"\\u2207w_2\",\"\\u2207w_2\",\"\\u2207w_2\",\"\\u2207w_2\",\"\\u2207w_2\",\"\\u2207w_2\",\"\\u2207w_2\",\"\\u2207w_2\",\"\\u2207w_2\",\"\\u2207w_2\",\"\\u2207w_2\",\"\\u2207w_2\",\"\\u2207w_2\",\"\\u2207w_2\",\"\\u2207w_2\",\"\\u2207w_2\",\"\\u2207w_2\",\"\\u2207w_2\",\"\\u2207w_2\",\"\\u2207w_2\",\"\\u2207w_2\",\"\\u2207w_2\",\"\\u2207w_2\",\"\\u2207w_2\",\"\\u2207w_2\",\"\\u2207w_2\"],\"\\u2207w\":{\"__ndarray__\":\"Qz+Dv5Hh079Hvra/kInBPwgJur/huKA/FiXFv+CUSj/sPMa/jEe8Pw7rtr8Ag24/n36yvxortz8Gn8G/t9SAP258x7+6+Jk/JXaxvyEXqT8nkK+/NPexPyF5ob+e9K0/mwm1vw/ETz8izLC/LDmyP83pw7+dx60/Z8q0v1XzrT9AWrm/cWSzP4MiyL+NQ5M/txG7v4acvD/Y9pu/uTerPw==\",\"dtype\":\"float32\",\"shape\":[40]}},\"selected\":{\"id\":\"2402\",\"type\":\"Selection\"},\"selection_policy\":{\"id\":\"2403\",\"type\":\"UnionRenderers\"}},\"id\":\"2296\",\"type\":\"ColumnDataSource\"},{\"attributes\":{\"source\":{\"id\":\"2296\",\"type\":\"ColumnDataSource\"}},\"id\":\"2301\",\"type\":\"CDSView\"},{\"attributes\":{\"formatter\":{\"id\":\"2393\",\"type\":\"BasicTickFormatter\"},\"ticker\":{\"id\":\"2267\",\"type\":\"BasicTicker\"}},\"id\":\"2266\",\"type\":\"LinearAxis\"},{\"attributes\":{\"source\":{\"id\":\"2284\",\"type\":\"ColumnDataSource\"}},\"id\":\"2289\",\"type\":\"CDSView\"},{\"attributes\":{\"line_alpha\":0.1,\"line_color\":\"#1f77b4\",\"line_width\":2,\"x\":{\"field\":\"Iteration\"},\"y\":{\"field\":\"\\u2207w\"}},\"id\":\"2293\",\"type\":\"Line\"},{\"attributes\":{},\"id\":\"2402\",\"type\":\"Selection\"},{\"attributes\":{\"callback\":null,\"formatters\":{\"Iteration\":\"numeral\",\"Name\":\"printf\",\"Value\":\"numeral\"},\"mode\":\"vline\",\"tooltips\":[[\"Iteration\",\"@Iteration\"],[\"Value\",\"@{\\u2207w}\"],[\"Name\",\"@param\"]]},\"id\":\"2308\",\"type\":\"HoverTool\"},{\"attributes\":{\"callback\":null,\"data\":{\"Iteration\":{\"__ndarray__\":\"AAAAAAEAAAACAAAAAwAAAAQAAAAFAAAABgAAAAcAAAAIAAAACQAAAAoAAAALAAAADAAAAA0AAAAOAAAADwAAABAAAAARAAAAEgAAABMAAAAUAAAAFQAAABYAAAAXAAAAGAAAABkAAAAaAAAAGwAAABwAAAAdAAAAHgAAAB8AAAAgAAAAIQAAACIAAAAjAAAAJAAAACUAAAAmAAAAJwAAAA==\",\"dtype\":\"int32\",\"shape\":[40]},\"param\":[\"\\u2207w_0\",\"\\u2207w_0\",\"\\u2207w_0\",\"\\u2207w_0\",\"\\u2207w_0\",\"\\u2207w_0\",\"\\u2207w_0\",\"\\u2207w_0\",\"\\u2207w_0\",\"\\u2207w_0\",\"\\u2207w_0\",\"\\u2207w_0\",\"\\u2207w_0\",\"\\u2207w_0\",\"\\u2207w_0\",\"\\u2207w_0\",\"\\u2207w_0\",\"\\u2207w_0\",\"\\u2207w_0\",\"\\u2207w_0\",\"\\u2207w_0\",\"\\u2207w_0\",\"\\u2207w_0\",\"\\u2207w_0\",\"\\u2207w_0\",\"\\u2207w_0\",\"\\u2207w_0\",\"\\u2207w_0\",\"\\u2207w_0\",\"\\u2207w_0\",\"\\u2207w_0\",\"\\u2207w_0\",\"\\u2207w_0\",\"\\u2207w_0\",\"\\u2207w_0\",\"\\u2207w_0\",\"\\u2207w_0\",\"\\u2207w_0\",\"\\u2207w_0\",\"\\u2207w_0\"],\"\\u2207w\":{\"__ndarray__\":\"pxDDwLvcI8ErluLAyA4pQd6F78B8LhpBRn8cwXZsvUCgsRnBS40jQR175MCMPd1AKpX2wGUWK0FGywnBwPDhQAHtIMGEPARB6ngLwePX/kB6QALBQNwQQWhmzcDB9xxBr67awCrlyEAtPxPBUKEVQVZNIsHGhAJBX8IDwdjBEUGRRO7ArMwbQeEkJcFbL/RAmFQgwfc4FkEGSNPARowRQQ==\",\"dtype\":\"float32\",\"shape\":[40]}},\"selected\":{\"id\":\"2398\",\"type\":\"Selection\"},\"selection_policy\":{\"id\":\"2399\",\"type\":\"UnionRenderers\"}},\"id\":\"2284\",\"type\":\"ColumnDataSource\"},{\"attributes\":{},\"id\":\"2259\",\"type\":\"LinearScale\"},{\"attributes\":{\"active_drag\":\"auto\",\"active_inspect\":\"auto\",\"active_multi\":null,\"active_scroll\":\"auto\",\"active_tap\":\"auto\",\"tools\":[{\"id\":\"2271\",\"type\":\"PanTool\"},{\"id\":\"2272\",\"type\":\"WheelZoomTool\"},{\"id\":\"2273\",\"type\":\"BoxZoomTool\"},{\"id\":\"2274\",\"type\":\"SaveTool\"},{\"id\":\"2275\",\"type\":\"ResetTool\"},{\"id\":\"2276\",\"type\":\"HelpTool\"},{\"id\":\"2308\",\"type\":\"HoverTool\"}]},\"id\":\"2277\",\"type\":\"Toolbar\"},{\"attributes\":{\"line_color\":\"#000003\",\"line_width\":2,\"x\":{\"field\":\"Iteration\"},\"y\":{\"field\":\"\\u2207w\"}},\"id\":\"2286\",\"type\":\"Line\"},{\"attributes\":{\"ticker\":{\"id\":\"2262\",\"type\":\"BasicTicker\"}},\"id\":\"2265\",\"type\":\"Grid\"},{\"attributes\":{},\"id\":\"2267\",\"type\":\"BasicTicker\"},{\"attributes\":{\"bottom_units\":\"screen\",\"fill_alpha\":{\"value\":0.5},\"fill_color\":{\"value\":\"lightgrey\"},\"left_units\":\"screen\",\"level\":\"overlay\",\"line_alpha\":{\"value\":1.0},\"line_color\":{\"value\":\"black\"},\"line_dash\":[4,4],\"line_width\":{\"value\":2},\"render_mode\":\"css\",\"right_units\":\"screen\",\"top_units\":\"screen\"},\"id\":\"2397\",\"type\":\"BoxAnnotation\"},{\"attributes\":{\"data_source\":{\"id\":\"2290\",\"type\":\"ColumnDataSource\"},\"glyph\":{\"id\":\"2292\",\"type\":\"Line\"},\"hover_glyph\":null,\"muted_glyph\":null,\"nonselection_glyph\":{\"id\":\"2293\",\"type\":\"Line\"},\"selection_glyph\":null,\"view\":{\"id\":\"2295\",\"type\":\"CDSView\"}},\"id\":\"2294\",\"type\":\"GlyphRenderer\"},{\"attributes\":{},\"id\":\"2271\",\"type\":\"PanTool\"},{\"attributes\":{\"data_source\":{\"id\":\"2302\",\"type\":\"ColumnDataSource\"},\"glyph\":{\"id\":\"2304\",\"type\":\"Line\"},\"hover_glyph\":null,\"muted_glyph\":null,\"nonselection_glyph\":{\"id\":\"2305\",\"type\":\"Line\"},\"selection_glyph\":null,\"view\":{\"id\":\"2307\",\"type\":\"CDSView\"}},\"id\":\"2306\",\"type\":\"GlyphRenderer\"},{\"attributes\":{\"text\":\"Model weight gradients vs iteration\"},\"id\":\"2251\",\"type\":\"Title\"},{\"attributes\":{},\"id\":\"2274\",\"type\":\"SaveTool\"},{\"attributes\":{\"callback\":null,\"data\":{\"Iteration\":{\"__ndarray__\":\"AAAAAAEAAAACAAAAAwAAAAQAAAAFAAAABgAAAAcAAAAIAAAACQAAAAoAAAALAAAADAAAAA0AAAAOAAAADwAAABAAAAARAAAAEgAAABMAAAAUAAAAFQAAABYAAAAXAAAAGAAAABkAAAAaAAAAGwAAABwAAAAdAAAAHgAAAB8AAAAgAAAAIQAAACIAAAAjAAAAJAAAACUAAAAmAAAAJwAAAA==\",\"dtype\":\"int32\",\"shape\":[40]},\"param\":[\"\\u2207w_1\",\"\\u2207w_1\",\"\\u2207w_1\",\"\\u2207w_1\",\"\\u2207w_1\",\"\\u2207w_1\",\"\\u2207w_1\",\"\\u2207w_1\",\"\\u2207w_1\",\"\\u2207w_1\",\"\\u2207w_1\",\"\\u2207w_1\",\"\\u2207w_1\",\"\\u2207w_1\",\"\\u2207w_1\",\"\\u2207w_1\",\"\\u2207w_1\",\"\\u2207w_1\",\"\\u2207w_1\",\"\\u2207w_1\",\"\\u2207w_1\",\"\\u2207w_1\",\"\\u2207w_1\",\"\\u2207w_1\",\"\\u2207w_1\",\"\\u2207w_1\",\"\\u2207w_1\",\"\\u2207w_1\",\"\\u2207w_1\",\"\\u2207w_1\",\"\\u2207w_1\",\"\\u2207w_1\",\"\\u2207w_1\",\"\\u2207w_1\",\"\\u2207w_1\",\"\\u2207w_1\",\"\\u2207w_1\",\"\\u2207w_1\",\"\\u2207w_1\",\"\\u2207w_1\"],\"\\u2207w\":{\"__ndarray__\":\"oGwZwIEHgcCy9T/AyNt/QP8eScCu4GBAPRZxwGAXEkB3uG7AZkd4QANEQsAg+yZAaCBHwJozfECUvl7ALPgxQLHSdcA4ZUtAFixUwHBgUUDc1EjAo2JiQF4PKMBcLGxAoiA/wKKeGEBgOlnAZRhnQAQLdcCFOFNAwQRMwMW3ZEAMmkfAUp9uQHDKeMAlRz5AZ2pvwNaYb0BxNijA/gBjQA==\",\"dtype\":\"float32\",\"shape\":[40]}},\"selected\":{\"id\":\"2400\",\"type\":\"Selection\"},\"selection_policy\":{\"id\":\"2401\",\"type\":\"UnionRenderers\"}},\"id\":\"2290\",\"type\":\"ColumnDataSource\"},{\"attributes\":{},\"id\":\"2401\",\"type\":\"UnionRenderers\"},{\"attributes\":{},\"id\":\"2399\",\"type\":\"UnionRenderers\"},{\"attributes\":{\"callback\":null},\"id\":\"2255\",\"type\":\"DataRange1d\"},{\"attributes\":{\"source\":{\"id\":\"2290\",\"type\":\"ColumnDataSource\"}},\"id\":\"2295\",\"type\":\"CDSView\"},{\"attributes\":{\"source\":{\"id\":\"2302\",\"type\":\"ColumnDataSource\"}},\"id\":\"2307\",\"type\":\"CDSView\"},{\"attributes\":{},\"id\":\"2257\",\"type\":\"LinearScale\"},{\"attributes\":{\"line_alpha\":0.1,\"line_color\":\"#1f77b4\",\"line_width\":2,\"x\":{\"field\":\"Iteration\"},\"y\":{\"field\":\"\\u2207w\"}},\"id\":\"2299\",\"type\":\"Line\"},{\"attributes\":{},\"id\":\"2400\",\"type\":\"Selection\"},{\"attributes\":{},\"id\":\"2275\",\"type\":\"ResetTool\"},{\"attributes\":{\"line_alpha\":0.1,\"line_color\":\"#1f77b4\",\"line_width\":2,\"x\":{\"field\":\"Iteration\"},\"y\":{\"field\":\"\\u2207w\"}},\"id\":\"2287\",\"type\":\"Line\"},{\"attributes\":{\"formatter\":{\"id\":\"2395\",\"type\":\"BasicTickFormatter\"},\"ticker\":{\"id\":\"2262\",\"type\":\"BasicTicker\"}},\"id\":\"2261\",\"type\":\"LinearAxis\"},{\"attributes\":{\"dimension\":1,\"ticker\":{\"id\":\"2267\",\"type\":\"BasicTicker\"}},\"id\":\"2270\",\"type\":\"Grid\"},{\"attributes\":{\"line_color\":\"#4A0B6A\",\"line_width\":2,\"x\":{\"field\":\"Iteration\"},\"y\":{\"field\":\"\\u2207w\"}},\"id\":\"2298\",\"type\":\"Line\"},{\"attributes\":{\"callback\":null},\"id\":\"2253\",\"type\":\"DataRange1d\"}],\"root_ids\":[\"2250\"]},\"title\":\"Bokeh Application\",\"version\":\"1.4.0\"}};\n",
       "  var render_items = [{\"docid\":\"ad2a8055-e41e-400a-8c23-1d5981607000\",\"roots\":{\"2250\":\"3506b4af-577d-4b6e-adf3-596dc462144d\"}}];\n",
       "  root.Bokeh.embed.embed_items_notebook(docs_json, render_items);\n",
       "\n",
       "  }\n",
       "  if (root.Bokeh !== undefined) {\n",
       "    embed_document(root);\n",
       "  } else {\n",
       "    var attempts = 0;\n",
       "    var timer = setInterval(function(root) {\n",
       "      if (root.Bokeh !== undefined) {\n",
       "        clearInterval(timer);\n",
       "        embed_document(root);\n",
       "      } else {\n",
       "        attempts++;\n",
       "        if (attempts > 100) {\n",
       "          clearInterval(timer);\n",
       "          console.log(\"Bokeh: ERROR: Unable to run BokehJS code because BokehJS library is missing\");\n",
       "        }\n",
       "      }\n",
       "    }, 10, root)\n",
       "  }\n",
       "})(window);"
      ],
      "application/vnd.bokehjs_exec.v0+json": ""
     },
     "metadata": {
      "application/vnd.bokehjs_exec.v0+json": {
       "id": "2250"
      }
     },
     "output_type": "display_data"
    }
   ],
   "source": [
    "pl.plot_gradients(colors=bokeh_palettes.Inferno10)"
   ]
  },
  {
   "cell_type": "code",
   "execution_count": 41,
   "metadata": {},
   "outputs": [
    {
     "data": {
      "text/html": [
       "\n",
       "\n",
       "\n",
       "\n",
       "\n",
       "\n",
       "  <div class=\"bk-root\" id=\"69452f9e-bdf9-475f-a2c3-825f282bacf1\" data-root-id=\"2491\"></div>\n"
      ]
     },
     "metadata": {},
     "output_type": "display_data"
    },
    {
     "data": {
      "application/javascript": [
       "(function(root) {\n",
       "  function embed_document(root) {\n",
       "    \n",
       "  var docs_json = {\"cfa72ad5-2729-4109-811c-dda54714028d\":{\"roots\":{\"references\":[{\"attributes\":{\"below\":[{\"id\":\"2502\",\"type\":\"LinearAxis\"}],\"center\":[{\"id\":\"2506\",\"type\":\"Grid\"},{\"id\":\"2511\",\"type\":\"Grid\"},{\"id\":\"2536\",\"type\":\"Legend\"}],\"left\":[{\"id\":\"2507\",\"type\":\"LinearAxis\"}],\"plot_height\":400,\"plot_width\":700,\"renderers\":[{\"id\":\"2528\",\"type\":\"GlyphRenderer\"}],\"title\":{\"id\":\"2492\",\"type\":\"Title\"},\"toolbar\":{\"id\":\"2518\",\"type\":\"Toolbar\"},\"x_range\":{\"id\":\"2494\",\"type\":\"DataRange1d\"},\"x_scale\":{\"id\":\"2498\",\"type\":\"LinearScale\"},\"y_range\":{\"id\":\"2496\",\"type\":\"DataRange1d\"},\"y_scale\":{\"id\":\"2500\",\"type\":\"LinearScale\"}},\"id\":\"2491\",\"subtype\":\"Figure\",\"type\":\"Plot\"},{\"attributes\":{\"ticker\":{\"id\":\"2503\",\"type\":\"BasicTicker\"}},\"id\":\"2506\",\"type\":\"Grid\"},{\"attributes\":{\"active_drag\":\"auto\",\"active_inspect\":\"auto\",\"active_multi\":null,\"active_scroll\":\"auto\",\"active_tap\":\"auto\",\"tools\":[{\"id\":\"2512\",\"type\":\"PanTool\"},{\"id\":\"2513\",\"type\":\"WheelZoomTool\"},{\"id\":\"2514\",\"type\":\"BoxZoomTool\"},{\"id\":\"2515\",\"type\":\"SaveTool\"},{\"id\":\"2516\",\"type\":\"ResetTool\"},{\"id\":\"2517\",\"type\":\"HelpTool\"},{\"id\":\"2538\",\"type\":\"HoverTool\"}]},\"id\":\"2518\",\"type\":\"Toolbar\"},{\"attributes\":{\"formatter\":{\"id\":\"2531\",\"type\":\"BasicTickFormatter\"},\"ticker\":{\"id\":\"2508\",\"type\":\"BasicTicker\"}},\"id\":\"2507\",\"type\":\"LinearAxis\"},{\"attributes\":{},\"id\":\"2512\",\"type\":\"PanTool\"},{\"attributes\":{},\"id\":\"2515\",\"type\":\"SaveTool\"},{\"attributes\":{},\"id\":\"2498\",\"type\":\"LinearScale\"},{\"attributes\":{\"items\":[{\"id\":\"2537\",\"type\":\"LegendItem\"}]},\"id\":\"2536\",\"type\":\"Legend\"},{\"attributes\":{\"callback\":null,\"formatters\":{\"Iteration\":\"numeral\",\"lr\":\"numeral\"},\"tooltips\":[[\"Iteration\",\"@Iteration\"],[\"lr\",\"@lr\"]]},\"id\":\"2538\",\"type\":\"HoverTool\"},{\"attributes\":{\"source\":{\"id\":\"2490\",\"type\":\"ColumnDataSource\"}},\"id\":\"2529\",\"type\":\"CDSView\"},{\"attributes\":{},\"id\":\"2503\",\"type\":\"BasicTicker\"},{\"attributes\":{\"callback\":null,\"data\":{\"Iteration\":{\"__ndarray__\":\"AAAAAAEAAAACAAAAAwAAAAQAAAAFAAAABgAAAAcAAAAIAAAACQAAAAoAAAALAAAADAAAAA0AAAAOAAAADwAAABAAAAARAAAAEgAAABMAAAAUAAAAFQAAABYAAAAXAAAAGAAAABkAAAAaAAAAGwAAABwAAAAdAAAAHgAAAB8AAAAgAAAAIQAAACIAAAAjAAAAJAAAACUAAAAmAAAAJwAAAA==\",\"dtype\":\"int32\",\"shape\":[40]},\"lr\":[0.1,0.1,0.1,0.1,0.1,0.1,0.1,0.1,0.1,0.1,0.1,0.1,0.1,0.1,0.1,0.1,0.1,0.1,0.1,0.1,0.1,0.1,0.1,0.1,0.1,0.1,0.1,0.1,0.1,0.1,0.1,0.1,0.1,0.1,0.1,0.1,0.1,0.1,0.1,0.1]},\"selected\":{\"id\":\"2642\",\"type\":\"Selection\"},\"selection_policy\":{\"id\":\"2643\",\"type\":\"UnionRenderers\"}},\"id\":\"2490\",\"type\":\"ColumnDataSource\"},{\"attributes\":{},\"id\":\"2533\",\"type\":\"BasicTickFormatter\"},{\"attributes\":{\"callback\":null},\"id\":\"2496\",\"type\":\"DataRange1d\"},{\"attributes\":{\"callback\":null},\"id\":\"2494\",\"type\":\"DataRange1d\"},{\"attributes\":{\"line_color\":\"#1f77b4\",\"line_width\":2,\"x\":{\"field\":\"Iteration\"},\"y\":{\"field\":\"lr\"}},\"id\":\"2526\",\"type\":\"Line\"},{\"attributes\":{\"line_alpha\":0.1,\"line_color\":\"#1f77b4\",\"line_width\":2,\"x\":{\"field\":\"Iteration\"},\"y\":{\"field\":\"lr\"}},\"id\":\"2527\",\"type\":\"Line\"},{\"attributes\":{\"label\":{\"value\":\"lr\"},\"renderers\":[{\"id\":\"2528\",\"type\":\"GlyphRenderer\"}]},\"id\":\"2537\",\"type\":\"LegendItem\"},{\"attributes\":{\"data_source\":{\"id\":\"2490\",\"type\":\"ColumnDataSource\"},\"glyph\":{\"id\":\"2526\",\"type\":\"Line\"},\"hover_glyph\":null,\"muted_glyph\":null,\"nonselection_glyph\":{\"id\":\"2527\",\"type\":\"Line\"},\"selection_glyph\":null,\"view\":{\"id\":\"2529\",\"type\":\"CDSView\"}},\"id\":\"2528\",\"type\":\"GlyphRenderer\"},{\"attributes\":{},\"id\":\"2508\",\"type\":\"BasicTicker\"},{\"attributes\":{},\"id\":\"2513\",\"type\":\"WheelZoomTool\"},{\"attributes\":{\"formatter\":{\"id\":\"2533\",\"type\":\"BasicTickFormatter\"},\"ticker\":{\"id\":\"2503\",\"type\":\"BasicTicker\"}},\"id\":\"2502\",\"type\":\"LinearAxis\"},{\"attributes\":{\"overlay\":{\"id\":\"2535\",\"type\":\"BoxAnnotation\"}},\"id\":\"2514\",\"type\":\"BoxZoomTool\"},{\"attributes\":{\"text\":\"Hyper parameters ('lr') vs iteration\"},\"id\":\"2492\",\"type\":\"Title\"},{\"attributes\":{},\"id\":\"2500\",\"type\":\"LinearScale\"},{\"attributes\":{\"bottom_units\":\"screen\",\"fill_alpha\":{\"value\":0.5},\"fill_color\":{\"value\":\"lightgrey\"},\"left_units\":\"screen\",\"level\":\"overlay\",\"line_alpha\":{\"value\":1.0},\"line_color\":{\"value\":\"black\"},\"line_dash\":[4,4],\"line_width\":{\"value\":2},\"render_mode\":\"css\",\"right_units\":\"screen\",\"top_units\":\"screen\"},\"id\":\"2535\",\"type\":\"BoxAnnotation\"},{\"attributes\":{},\"id\":\"2643\",\"type\":\"UnionRenderers\"},{\"attributes\":{},\"id\":\"2516\",\"type\":\"ResetTool\"},{\"attributes\":{},\"id\":\"2517\",\"type\":\"HelpTool\"},{\"attributes\":{},\"id\":\"2531\",\"type\":\"BasicTickFormatter\"},{\"attributes\":{\"dimension\":1,\"ticker\":{\"id\":\"2508\",\"type\":\"BasicTicker\"}},\"id\":\"2511\",\"type\":\"Grid\"},{\"attributes\":{},\"id\":\"2642\",\"type\":\"Selection\"}],\"root_ids\":[\"2491\"]},\"title\":\"Bokeh Application\",\"version\":\"1.4.0\"}};\n",
       "  var render_items = [{\"docid\":\"cfa72ad5-2729-4109-811c-dda54714028d\",\"roots\":{\"2491\":\"69452f9e-bdf9-475f-a2c3-825f282bacf1\"}}];\n",
       "  root.Bokeh.embed.embed_items_notebook(docs_json, render_items);\n",
       "\n",
       "  }\n",
       "  if (root.Bokeh !== undefined) {\n",
       "    embed_document(root);\n",
       "  } else {\n",
       "    var attempts = 0;\n",
       "    var timer = setInterval(function(root) {\n",
       "      if (root.Bokeh !== undefined) {\n",
       "        clearInterval(timer);\n",
       "        embed_document(root);\n",
       "      } else {\n",
       "        attempts++;\n",
       "        if (attempts > 100) {\n",
       "          clearInterval(timer);\n",
       "          console.log(\"Bokeh: ERROR: Unable to run BokehJS code because BokehJS library is missing\");\n",
       "        }\n",
       "      }\n",
       "    }, 10, root)\n",
       "  }\n",
       "})(window);"
      ],
      "application/vnd.bokehjs_exec.v0+json": ""
     },
     "metadata": {
      "application/vnd.bokehjs_exec.v0+json": {
       "id": "2491"
      }
     },
     "output_type": "display_data"
    },
    {
     "data": {
      "text/html": [
       "\n",
       "\n",
       "\n",
       "\n",
       "\n",
       "\n",
       "  <div class=\"bk-root\" id=\"5e80a755-17ec-49f1-a64d-7e36406dbc66\" data-root-id=\"2693\"></div>\n"
      ]
     },
     "metadata": {},
     "output_type": "display_data"
    },
    {
     "data": {
      "application/javascript": [
       "(function(root) {\n",
       "  function embed_document(root) {\n",
       "    \n",
       "  var docs_json = {\"adb1365a-e80e-44f9-a2ce-58d067cbb9ab\":{\"roots\":{\"references\":[{\"attributes\":{\"below\":[{\"id\":\"2704\",\"type\":\"LinearAxis\"}],\"center\":[{\"id\":\"2708\",\"type\":\"Grid\"},{\"id\":\"2713\",\"type\":\"Grid\"},{\"id\":\"2738\",\"type\":\"Legend\"}],\"left\":[{\"id\":\"2709\",\"type\":\"LinearAxis\"}],\"plot_height\":400,\"plot_width\":700,\"renderers\":[{\"id\":\"2730\",\"type\":\"GlyphRenderer\"}],\"title\":{\"id\":\"2694\",\"type\":\"Title\"},\"toolbar\":{\"id\":\"2720\",\"type\":\"Toolbar\"},\"x_range\":{\"id\":\"2696\",\"type\":\"DataRange1d\"},\"x_scale\":{\"id\":\"2700\",\"type\":\"LinearScale\"},\"y_range\":{\"id\":\"2698\",\"type\":\"DataRange1d\"},\"y_scale\":{\"id\":\"2702\",\"type\":\"LinearScale\"}},\"id\":\"2693\",\"subtype\":\"Figure\",\"type\":\"Plot\"},{\"attributes\":{\"line_color\":\"#1f77b4\",\"line_width\":2,\"x\":{\"field\":\"Iteration\"},\"y\":{\"field\":\"momentum\"}},\"id\":\"2728\",\"type\":\"Line\"},{\"attributes\":{},\"id\":\"2700\",\"type\":\"LinearScale\"},{\"attributes\":{\"callback\":null},\"id\":\"2698\",\"type\":\"DataRange1d\"},{\"attributes\":{\"items\":[{\"id\":\"2739\",\"type\":\"LegendItem\"}]},\"id\":\"2738\",\"type\":\"Legend\"},{\"attributes\":{\"overlay\":{\"id\":\"2737\",\"type\":\"BoxAnnotation\"}},\"id\":\"2716\",\"type\":\"BoxZoomTool\"},{\"attributes\":{},\"id\":\"2717\",\"type\":\"SaveTool\"},{\"attributes\":{},\"id\":\"2733\",\"type\":\"BasicTickFormatter\"},{\"attributes\":{},\"id\":\"2852\",\"type\":\"Selection\"},{\"attributes\":{\"text\":\"Hyper parameters ('momentum') vs iteration\"},\"id\":\"2694\",\"type\":\"Title\"},{\"attributes\":{},\"id\":\"2715\",\"type\":\"WheelZoomTool\"},{\"attributes\":{\"formatter\":{\"id\":\"2735\",\"type\":\"BasicTickFormatter\"},\"ticker\":{\"id\":\"2705\",\"type\":\"BasicTicker\"}},\"id\":\"2704\",\"type\":\"LinearAxis\"},{\"attributes\":{\"line_alpha\":0.1,\"line_color\":\"#1f77b4\",\"line_width\":2,\"x\":{\"field\":\"Iteration\"},\"y\":{\"field\":\"momentum\"}},\"id\":\"2729\",\"type\":\"Line\"},{\"attributes\":{},\"id\":\"2702\",\"type\":\"LinearScale\"},{\"attributes\":{},\"id\":\"2710\",\"type\":\"BasicTicker\"},{\"attributes\":{\"formatter\":{\"id\":\"2733\",\"type\":\"BasicTickFormatter\"},\"ticker\":{\"id\":\"2710\",\"type\":\"BasicTicker\"}},\"id\":\"2709\",\"type\":\"LinearAxis\"},{\"attributes\":{\"data_source\":{\"id\":\"2692\",\"type\":\"ColumnDataSource\"},\"glyph\":{\"id\":\"2728\",\"type\":\"Line\"},\"hover_glyph\":null,\"muted_glyph\":null,\"nonselection_glyph\":{\"id\":\"2729\",\"type\":\"Line\"},\"selection_glyph\":null,\"view\":{\"id\":\"2731\",\"type\":\"CDSView\"}},\"id\":\"2730\",\"type\":\"GlyphRenderer\"},{\"attributes\":{\"callback\":null,\"data\":{\"Iteration\":{\"__ndarray__\":\"AAAAAAEAAAACAAAAAwAAAAQAAAAFAAAABgAAAAcAAAAIAAAACQAAAAoAAAALAAAADAAAAA0AAAAOAAAADwAAABAAAAARAAAAEgAAABMAAAAUAAAAFQAAABYAAAAXAAAAGAAAABkAAAAaAAAAGwAAABwAAAAdAAAAHgAAAB8AAAAgAAAAIQAAACIAAAAjAAAAJAAAACUAAAAmAAAAJwAAAA==\",\"dtype\":\"int32\",\"shape\":[40]},\"momentum\":[0.0,0.0,0.0,0.0,0.0,0.0,0.0,0.0,0.0,0.0,0.0,0.0,0.0,0.0,0.0,0.0,0.0,0.0,0.0,0.0,0.0,0.0,0.0,0.0,0.0,0.0,0.0,0.0,0.0,0.0,0.0,0.0,0.0,0.0,0.0,0.0,0.0,0.0,0.0,0.0]},\"selected\":{\"id\":\"2852\",\"type\":\"Selection\"},\"selection_policy\":{\"id\":\"2853\",\"type\":\"UnionRenderers\"}},\"id\":\"2692\",\"type\":\"ColumnDataSource\"},{\"attributes\":{\"bottom_units\":\"screen\",\"fill_alpha\":{\"value\":0.5},\"fill_color\":{\"value\":\"lightgrey\"},\"left_units\":\"screen\",\"level\":\"overlay\",\"line_alpha\":{\"value\":1.0},\"line_color\":{\"value\":\"black\"},\"line_dash\":[4,4],\"line_width\":{\"value\":2},\"render_mode\":\"css\",\"right_units\":\"screen\",\"top_units\":\"screen\"},\"id\":\"2737\",\"type\":\"BoxAnnotation\"},{\"attributes\":{\"ticker\":{\"id\":\"2705\",\"type\":\"BasicTicker\"}},\"id\":\"2708\",\"type\":\"Grid\"},{\"attributes\":{},\"id\":\"2714\",\"type\":\"PanTool\"},{\"attributes\":{\"callback\":null,\"formatters\":{\"Iteration\":\"numeral\",\"momentum\":\"numeral\"},\"tooltips\":[[\"Iteration\",\"@Iteration\"],[\"momentum\",\"@momentum\"]]},\"id\":\"2740\",\"type\":\"HoverTool\"},{\"attributes\":{},\"id\":\"2705\",\"type\":\"BasicTicker\"},{\"attributes\":{},\"id\":\"2853\",\"type\":\"UnionRenderers\"},{\"attributes\":{\"callback\":null},\"id\":\"2696\",\"type\":\"DataRange1d\"},{\"attributes\":{\"dimension\":1,\"ticker\":{\"id\":\"2710\",\"type\":\"BasicTicker\"}},\"id\":\"2713\",\"type\":\"Grid\"},{\"attributes\":{},\"id\":\"2735\",\"type\":\"BasicTickFormatter\"},{\"attributes\":{},\"id\":\"2718\",\"type\":\"ResetTool\"},{\"attributes\":{},\"id\":\"2719\",\"type\":\"HelpTool\"},{\"attributes\":{\"source\":{\"id\":\"2692\",\"type\":\"ColumnDataSource\"}},\"id\":\"2731\",\"type\":\"CDSView\"},{\"attributes\":{\"label\":{\"value\":\"momentum\"},\"renderers\":[{\"id\":\"2730\",\"type\":\"GlyphRenderer\"}]},\"id\":\"2739\",\"type\":\"LegendItem\"},{\"attributes\":{\"active_drag\":\"auto\",\"active_inspect\":\"auto\",\"active_multi\":null,\"active_scroll\":\"auto\",\"active_tap\":\"auto\",\"tools\":[{\"id\":\"2714\",\"type\":\"PanTool\"},{\"id\":\"2715\",\"type\":\"WheelZoomTool\"},{\"id\":\"2716\",\"type\":\"BoxZoomTool\"},{\"id\":\"2717\",\"type\":\"SaveTool\"},{\"id\":\"2718\",\"type\":\"ResetTool\"},{\"id\":\"2719\",\"type\":\"HelpTool\"},{\"id\":\"2740\",\"type\":\"HoverTool\"}]},\"id\":\"2720\",\"type\":\"Toolbar\"}],\"root_ids\":[\"2693\"]},\"title\":\"Bokeh Application\",\"version\":\"1.4.0\"}};\n",
       "  var render_items = [{\"docid\":\"adb1365a-e80e-44f9-a2ce-58d067cbb9ab\",\"roots\":{\"2693\":\"5e80a755-17ec-49f1-a64d-7e36406dbc66\"}}];\n",
       "  root.Bokeh.embed.embed_items_notebook(docs_json, render_items);\n",
       "\n",
       "  }\n",
       "  if (root.Bokeh !== undefined) {\n",
       "    embed_document(root);\n",
       "  } else {\n",
       "    var attempts = 0;\n",
       "    var timer = setInterval(function(root) {\n",
       "      if (root.Bokeh !== undefined) {\n",
       "        clearInterval(timer);\n",
       "        embed_document(root);\n",
       "      } else {\n",
       "        attempts++;\n",
       "        if (attempts > 100) {\n",
       "          clearInterval(timer);\n",
       "          console.log(\"Bokeh: ERROR: Unable to run BokehJS code because BokehJS library is missing\");\n",
       "        }\n",
       "      }\n",
       "    }, 10, root)\n",
       "  }\n",
       "})(window);"
      ],
      "application/vnd.bokehjs_exec.v0+json": ""
     },
     "metadata": {
      "application/vnd.bokehjs_exec.v0+json": {
       "id": "2693"
      }
     },
     "output_type": "display_data"
    },
    {
     "data": {
      "text/html": [
       "\n",
       "\n",
       "\n",
       "\n",
       "\n",
       "\n",
       "  <div class=\"bk-root\" id=\"1d31d021-4a28-4374-806b-302cec1c6587\" data-root-id=\"2903\"></div>\n"
      ]
     },
     "metadata": {},
     "output_type": "display_data"
    },
    {
     "data": {
      "application/javascript": [
       "(function(root) {\n",
       "  function embed_document(root) {\n",
       "    \n",
       "  var docs_json = {\"0a818339-d3e3-4857-b9a8-75e00e4be7ff\":{\"roots\":{\"references\":[{\"attributes\":{\"below\":[{\"id\":\"2914\",\"type\":\"LinearAxis\"}],\"center\":[{\"id\":\"2918\",\"type\":\"Grid\"},{\"id\":\"2923\",\"type\":\"Grid\"},{\"id\":\"2948\",\"type\":\"Legend\"}],\"left\":[{\"id\":\"2919\",\"type\":\"LinearAxis\"}],\"plot_height\":400,\"plot_width\":700,\"renderers\":[{\"id\":\"2940\",\"type\":\"GlyphRenderer\"}],\"title\":{\"id\":\"2904\",\"type\":\"Title\"},\"toolbar\":{\"id\":\"2930\",\"type\":\"Toolbar\"},\"x_range\":{\"id\":\"2906\",\"type\":\"DataRange1d\"},\"x_scale\":{\"id\":\"2910\",\"type\":\"LinearScale\"},\"y_range\":{\"id\":\"2908\",\"type\":\"DataRange1d\"},\"y_scale\":{\"id\":\"2912\",\"type\":\"LinearScale\"}},\"id\":\"2903\",\"subtype\":\"Figure\",\"type\":\"Plot\"},{\"attributes\":{},\"id\":\"2910\",\"type\":\"LinearScale\"},{\"attributes\":{\"dimension\":1,\"ticker\":{\"id\":\"2920\",\"type\":\"BasicTicker\"}},\"id\":\"2923\",\"type\":\"Grid\"},{\"attributes\":{\"formatter\":{\"id\":\"2943\",\"type\":\"BasicTickFormatter\"},\"ticker\":{\"id\":\"2920\",\"type\":\"BasicTicker\"}},\"id\":\"2919\",\"type\":\"LinearAxis\"},{\"attributes\":{},\"id\":\"2912\",\"type\":\"LinearScale\"},{\"attributes\":{\"active_drag\":\"auto\",\"active_inspect\":\"auto\",\"active_multi\":null,\"active_scroll\":\"auto\",\"active_tap\":\"auto\",\"tools\":[{\"id\":\"2924\",\"type\":\"PanTool\"},{\"id\":\"2925\",\"type\":\"WheelZoomTool\"},{\"id\":\"2926\",\"type\":\"BoxZoomTool\"},{\"id\":\"2927\",\"type\":\"SaveTool\"},{\"id\":\"2928\",\"type\":\"ResetTool\"},{\"id\":\"2929\",\"type\":\"HelpTool\"},{\"id\":\"2950\",\"type\":\"HoverTool\"}]},\"id\":\"2930\",\"type\":\"Toolbar\"},{\"attributes\":{\"ticker\":{\"id\":\"2915\",\"type\":\"BasicTicker\"}},\"id\":\"2918\",\"type\":\"Grid\"},{\"attributes\":{\"line_color\":\"#1f77b4\",\"line_width\":2,\"x\":{\"field\":\"Iteration\"},\"y\":{\"field\":\"wd\"}},\"id\":\"2938\",\"type\":\"Line\"},{\"attributes\":{\"callback\":null,\"formatters\":{\"Iteration\":\"numeral\",\"wd\":\"numeral\"},\"tooltips\":[[\"Iteration\",\"@Iteration\"],[\"wd\",\"@wd\"]]},\"id\":\"2950\",\"type\":\"HoverTool\"},{\"attributes\":{\"data_source\":{\"id\":\"2902\",\"type\":\"ColumnDataSource\"},\"glyph\":{\"id\":\"2938\",\"type\":\"Line\"},\"hover_glyph\":null,\"muted_glyph\":null,\"nonselection_glyph\":{\"id\":\"2939\",\"type\":\"Line\"},\"selection_glyph\":null,\"view\":{\"id\":\"2941\",\"type\":\"CDSView\"}},\"id\":\"2940\",\"type\":\"GlyphRenderer\"},{\"attributes\":{\"items\":[{\"id\":\"2949\",\"type\":\"LegendItem\"}]},\"id\":\"2948\",\"type\":\"Legend\"},{\"attributes\":{\"callback\":null},\"id\":\"2908\",\"type\":\"DataRange1d\"},{\"attributes\":{\"callback\":null},\"id\":\"2906\",\"type\":\"DataRange1d\"},{\"attributes\":{\"line_alpha\":0.1,\"line_color\":\"#1f77b4\",\"line_width\":2,\"x\":{\"field\":\"Iteration\"},\"y\":{\"field\":\"wd\"}},\"id\":\"2939\",\"type\":\"Line\"},{\"attributes\":{},\"id\":\"2920\",\"type\":\"BasicTicker\"},{\"attributes\":{\"bottom_units\":\"screen\",\"fill_alpha\":{\"value\":0.5},\"fill_color\":{\"value\":\"lightgrey\"},\"left_units\":\"screen\",\"level\":\"overlay\",\"line_alpha\":{\"value\":1.0},\"line_color\":{\"value\":\"black\"},\"line_dash\":[4,4],\"line_width\":{\"value\":2},\"render_mode\":\"css\",\"right_units\":\"screen\",\"top_units\":\"screen\"},\"id\":\"2947\",\"type\":\"BoxAnnotation\"},{\"attributes\":{},\"id\":\"2924\",\"type\":\"PanTool\"},{\"attributes\":{\"callback\":null,\"data\":{\"Iteration\":{\"__ndarray__\":\"AAAAAAEAAAACAAAAAwAAAAQAAAAFAAAABgAAAAcAAAAIAAAACQAAAAoAAAALAAAADAAAAA0AAAAOAAAADwAAABAAAAARAAAAEgAAABMAAAAUAAAAFQAAABYAAAAXAAAAGAAAABkAAAAaAAAAGwAAABwAAAAdAAAAHgAAAB8AAAAgAAAAIQAAACIAAAAjAAAAJAAAACUAAAAmAAAAJwAAAA==\",\"dtype\":\"int32\",\"shape\":[40]},\"wd\":[0.0,0.0,0.0,0.0,0.0,0.0,0.0,0.0,0.0,0.0,0.0,0.0,0.0,0.0,0.0,0.0,0.0,0.0,0.0,0.0,0.0,0.0,0.0,0.0,0.0,0.0,0.0,0.0,0.0,0.0,0.0,0.0,0.0,0.0,0.0,0.0,0.0,0.0,0.0,0.0]},\"selected\":{\"id\":\"3070\",\"type\":\"Selection\"},\"selection_policy\":{\"id\":\"3071\",\"type\":\"UnionRenderers\"}},\"id\":\"2902\",\"type\":\"ColumnDataSource\"},{\"attributes\":{},\"id\":\"2915\",\"type\":\"BasicTicker\"},{\"attributes\":{},\"id\":\"3070\",\"type\":\"Selection\"},{\"attributes\":{},\"id\":\"3071\",\"type\":\"UnionRenderers\"},{\"attributes\":{},\"id\":\"2927\",\"type\":\"SaveTool\"},{\"attributes\":{},\"id\":\"2929\",\"type\":\"HelpTool\"},{\"attributes\":{\"text\":\"Hyper parameters ('wd') vs iteration\"},\"id\":\"2904\",\"type\":\"Title\"},{\"attributes\":{\"source\":{\"id\":\"2902\",\"type\":\"ColumnDataSource\"}},\"id\":\"2941\",\"type\":\"CDSView\"},{\"attributes\":{},\"id\":\"2925\",\"type\":\"WheelZoomTool\"},{\"attributes\":{\"overlay\":{\"id\":\"2947\",\"type\":\"BoxAnnotation\"}},\"id\":\"2926\",\"type\":\"BoxZoomTool\"},{\"attributes\":{},\"id\":\"2928\",\"type\":\"ResetTool\"},{\"attributes\":{\"label\":{\"value\":\"wd\"},\"renderers\":[{\"id\":\"2940\",\"type\":\"GlyphRenderer\"}]},\"id\":\"2949\",\"type\":\"LegendItem\"},{\"attributes\":{},\"id\":\"2943\",\"type\":\"BasicTickFormatter\"},{\"attributes\":{\"formatter\":{\"id\":\"2945\",\"type\":\"BasicTickFormatter\"},\"ticker\":{\"id\":\"2915\",\"type\":\"BasicTicker\"}},\"id\":\"2914\",\"type\":\"LinearAxis\"},{\"attributes\":{},\"id\":\"2945\",\"type\":\"BasicTickFormatter\"}],\"root_ids\":[\"2903\"]},\"title\":\"Bokeh Application\",\"version\":\"1.4.0\"}};\n",
       "  var render_items = [{\"docid\":\"0a818339-d3e3-4857-b9a8-75e00e4be7ff\",\"roots\":{\"2903\":\"1d31d021-4a28-4374-806b-302cec1c6587\"}}];\n",
       "  root.Bokeh.embed.embed_items_notebook(docs_json, render_items);\n",
       "\n",
       "  }\n",
       "  if (root.Bokeh !== undefined) {\n",
       "    embed_document(root);\n",
       "  } else {\n",
       "    var attempts = 0;\n",
       "    var timer = setInterval(function(root) {\n",
       "      if (root.Bokeh !== undefined) {\n",
       "        clearInterval(timer);\n",
       "        embed_document(root);\n",
       "      } else {\n",
       "        attempts++;\n",
       "        if (attempts > 100) {\n",
       "          clearInterval(timer);\n",
       "          console.log(\"Bokeh: ERROR: Unable to run BokehJS code because BokehJS library is missing\");\n",
       "        }\n",
       "      }\n",
       "    }, 10, root)\n",
       "  }\n",
       "})(window);"
      ],
      "application/vnd.bokehjs_exec.v0+json": ""
     },
     "metadata": {
      "application/vnd.bokehjs_exec.v0+json": {
       "id": "2903"
      }
     },
     "output_type": "display_data"
    }
   ],
   "source": [
    "pl.plot_hyper_params()"
   ]
  },
  {
   "cell_type": "code",
   "execution_count": null,
   "metadata": {},
   "outputs": [],
   "source": [
    "interactive_plot = interactive(pl.plot_iteration, i=(0, len(pl.stats.x)-1))\n",
    "interactive_plot"
   ]
  },
  {
   "cell_type": "markdown",
   "metadata": {},
   "source": [
    "**Visualizing loss in dimensionally reduced weight space**\n",
    "\n",
    "Computing the score matrix ([wiki](https://en.wikipedia.org/wiki/Principal_component_analysis#Singular_value_decomposition))"
   ]
  },
  {
   "cell_type": "code",
   "execution_count": 42,
   "metadata": {},
   "outputs": [],
   "source": [
    "W = torch.stack(learn.rec.stats.weights).clone()\n",
    "W.sub_(W.mean(dim=0))\n",
    "\n",
    "(U, S, V) = W.svd()\n",
    "_W = U @ torch.diag(S)"
   ]
  },
  {
   "cell_type": "markdown",
   "metadata": {},
   "source": [
    "Plotting the loss over the first two components"
   ]
  },
  {
   "cell_type": "code",
   "execution_count": 43,
   "metadata": {},
   "outputs": [
    {
     "data": {
      "text/html": [
       "\n",
       "\n",
       "\n",
       "\n",
       "\n",
       "\n",
       "  <div class=\"bk-root\" id=\"41c9350d-dbf5-4eb4-97da-d4344d8b596b\" data-root-id=\"3121\"></div>\n"
      ]
     },
     "metadata": {},
     "output_type": "display_data"
    },
    {
     "data": {
      "application/javascript": [
       "(function(root) {\n",
       "  function embed_document(root) {\n",
       "    \n",
       "  var docs_json = {\"dbe6d747-65f3-4e53-8c53-ac707703146b\":{\"roots\":{\"references\":[{\"attributes\":{\"below\":[{\"id\":\"3132\",\"type\":\"LinearAxis\"}],\"center\":[{\"id\":\"3136\",\"type\":\"Grid\"},{\"id\":\"3141\",\"type\":\"Grid\"}],\"left\":[{\"id\":\"3137\",\"type\":\"LinearAxis\"}],\"renderers\":[{\"id\":\"3159\",\"type\":\"GlyphRenderer\"}],\"title\":{\"id\":\"3122\",\"type\":\"Title\"},\"toolbar\":{\"id\":\"3148\",\"type\":\"Toolbar\"},\"x_range\":{\"id\":\"3124\",\"type\":\"DataRange1d\"},\"x_scale\":{\"id\":\"3128\",\"type\":\"LinearScale\"},\"y_range\":{\"id\":\"3126\",\"type\":\"DataRange1d\"},\"y_scale\":{\"id\":\"3130\",\"type\":\"LinearScale\"}},\"id\":\"3121\",\"subtype\":\"Figure\",\"type\":\"Plot\"},{\"attributes\":{\"axis_label\":\"Component 0\",\"formatter\":{\"id\":\"3286\",\"type\":\"BasicTickFormatter\"},\"ticker\":{\"id\":\"3133\",\"type\":\"BasicTicker\"}},\"id\":\"3132\",\"type\":\"LinearAxis\"},{\"attributes\":{},\"id\":\"3289\",\"type\":\"Selection\"},{\"attributes\":{\"callback\":null},\"id\":\"3124\",\"type\":\"DataRange1d\"},{\"attributes\":{\"ticker\":{\"id\":\"3133\",\"type\":\"BasicTicker\"}},\"id\":\"3136\",\"type\":\"Grid\"},{\"attributes\":{},\"id\":\"3286\",\"type\":\"BasicTickFormatter\"},{\"attributes\":{\"dimension\":1,\"ticker\":{\"id\":\"3138\",\"type\":\"BasicTicker\"}},\"id\":\"3141\",\"type\":\"Grid\"},{\"attributes\":{\"bottom_units\":\"screen\",\"fill_alpha\":{\"value\":0.5},\"fill_color\":{\"value\":\"lightgrey\"},\"left_units\":\"screen\",\"level\":\"overlay\",\"line_alpha\":{\"value\":1.0},\"line_color\":{\"value\":\"black\"},\"line_dash\":[4,4],\"line_width\":{\"value\":2},\"render_mode\":\"css\",\"right_units\":\"screen\",\"top_units\":\"screen\"},\"id\":\"3288\",\"type\":\"BoxAnnotation\"},{\"attributes\":{\"callback\":null},\"id\":\"3126\",\"type\":\"DataRange1d\"},{\"attributes\":{\"text\":\"Loss in reduced weight space\"},\"id\":\"3122\",\"type\":\"Title\"},{\"attributes\":{},\"id\":\"3142\",\"type\":\"PanTool\"},{\"attributes\":{\"source\":{\"id\":\"3155\",\"type\":\"ColumnDataSource\"}},\"id\":\"3160\",\"type\":\"CDSView\"},{\"attributes\":{},\"id\":\"3146\",\"type\":\"ResetTool\"},{\"attributes\":{},\"id\":\"3290\",\"type\":\"UnionRenderers\"},{\"attributes\":{\"axis_label\":\"Component 1\",\"formatter\":{\"id\":\"3284\",\"type\":\"BasicTickFormatter\"},\"ticker\":{\"id\":\"3138\",\"type\":\"BasicTicker\"}},\"id\":\"3137\",\"type\":\"LinearAxis\"},{\"attributes\":{\"fill_alpha\":{\"value\":0.1},\"fill_color\":{\"value\":\"#1f77b4\"},\"line_alpha\":{\"value\":0.1},\"line_color\":{\"value\":\"#1f77b4\"},\"size\":{\"units\":\"screen\",\"value\":15},\"x\":{\"field\":\"component0\"},\"y\":{\"field\":\"component1\"}},\"id\":\"3158\",\"type\":\"Circle\"},{\"attributes\":{},\"id\":\"3138\",\"type\":\"BasicTicker\"},{\"attributes\":{\"callback\":null,\"formatters\":{\"Validation Loss\":\"numeral\"},\"tooltips\":[[\"Validation loss\",\"@loss\"]]},\"id\":\"3161\",\"type\":\"HoverTool\"},{\"attributes\":{},\"id\":\"3147\",\"type\":\"HelpTool\"},{\"attributes\":{\"active_drag\":\"auto\",\"active_inspect\":\"auto\",\"active_multi\":null,\"active_scroll\":\"auto\",\"active_tap\":\"auto\",\"tools\":[{\"id\":\"3142\",\"type\":\"PanTool\"},{\"id\":\"3143\",\"type\":\"WheelZoomTool\"},{\"id\":\"3144\",\"type\":\"BoxZoomTool\"},{\"id\":\"3145\",\"type\":\"SaveTool\"},{\"id\":\"3146\",\"type\":\"ResetTool\"},{\"id\":\"3147\",\"type\":\"HelpTool\"},{\"id\":\"3161\",\"type\":\"HoverTool\"}]},\"id\":\"3148\",\"type\":\"Toolbar\"},{\"attributes\":{},\"id\":\"3133\",\"type\":\"BasicTicker\"},{\"attributes\":{\"callback\":null,\"data\":{\"component0\":{\"__ndarray__\":\"Bmymv0naPr6c2Rk/NDgJv8CalT47Ljy/k16mPtGKnr7HDzw/q6K7vm+F2j4at6C+zkUIP8ybHL+T9ak+opLcviRwKD8QRG++lhw2PyppI74w6Tk/SmCCvqh76D54WRm/TI8nPlzaAb/CRfc+yfQGv01hET+4qaS+lhcTP57p0r6NrNI+3HEjv+U/8z76tLK+0vw6P0fUlL7qE94+rMgMvw==\",\"dtype\":\"float32\",\"shape\":[40]},\"component1\":{\"__ndarray__\":\"8orcPnIR+z4zc/Y+LcvGPquqyz4bOZI+I1KwPlGMiD4uOp8+LyNnPllDZT6jChQ+fIYkPgwIWz29Tqw9KHV2PHRRlz2GfzI7MoMsPTT68btuZbo8wCo5vZGPML21+Q6+YnQQvpQaab7aXSi+Nhx4vpTwM75pt26+cH1Kvnwjir6PZYS+Kpquvs8eir7Me6++sNmMvhd2rb7WIqi+ZabOvg==\",\"dtype\":\"float32\",\"shape\":[40]},\"loss\":[10.152075068799329,2.7901587081392023,3.050146022741478,4.572939664381804,2.642393009289343,7.293035815249725,2.962767093620212,3.7592251381442874,3.936167515099181,4.305486413187018,2.746539971527098,3.38094948180128,3.050042927856216,6.666885415189448,3.0348521214772717,4.723639712029091,5.200111553051716,2.5474919927310706,3.4189589792369373,2.5077275624138124,5.775095922712758,2.7532772358565247,3.170896769895715,6.714333746134277,2.1274355176594657,5.372919718272891,3.7224039192810436,5.355598185430643,3.1001797341829374,2.7795652302042915,3.9822146384121995,3.0614551445770206,3.4163849416858993,5.397723586839934,3.833893871204598,3.4530504453366055,4.9745091558379055,3.8595513482181496,2.7784292466544764,5.661565446937529]},\"selected\":{\"id\":\"3289\",\"type\":\"Selection\"},\"selection_policy\":{\"id\":\"3290\",\"type\":\"UnionRenderers\"}},\"id\":\"3155\",\"type\":\"ColumnDataSource\"},{\"attributes\":{},\"id\":\"3130\",\"type\":\"LinearScale\"},{\"attributes\":{\"high\":10.152075068799329,\"low\":2.1274355176594657,\"palette\":[\"#00441b\",\"#1b7837\",\"#5aae61\",\"#a6dba0\",\"#d9f0d3\",\"#f7f7f7\",\"#e7d4e8\",\"#c2a5cf\",\"#9970ab\",\"#762a83\",\"#40004b\"]},\"id\":\"3120\",\"type\":\"LinearColorMapper\"},{\"attributes\":{\"overlay\":{\"id\":\"3288\",\"type\":\"BoxAnnotation\"}},\"id\":\"3144\",\"type\":\"BoxZoomTool\"},{\"attributes\":{\"data_source\":{\"id\":\"3155\",\"type\":\"ColumnDataSource\"},\"glyph\":{\"id\":\"3157\",\"type\":\"Circle\"},\"hover_glyph\":null,\"muted_glyph\":null,\"nonselection_glyph\":{\"id\":\"3158\",\"type\":\"Circle\"},\"selection_glyph\":null,\"view\":{\"id\":\"3160\",\"type\":\"CDSView\"}},\"id\":\"3159\",\"type\":\"GlyphRenderer\"},{\"attributes\":{},\"id\":\"3128\",\"type\":\"LinearScale\"},{\"attributes\":{},\"id\":\"3143\",\"type\":\"WheelZoomTool\"},{\"attributes\":{},\"id\":\"3145\",\"type\":\"SaveTool\"},{\"attributes\":{\"fill_color\":{\"field\":\"loss\",\"transform\":{\"id\":\"3120\",\"type\":\"LinearColorMapper\"}},\"line_color\":{\"field\":\"loss\",\"transform\":{\"id\":\"3120\",\"type\":\"LinearColorMapper\"}},\"size\":{\"units\":\"screen\",\"value\":15},\"x\":{\"field\":\"component0\"},\"y\":{\"field\":\"component1\"}},\"id\":\"3157\",\"type\":\"Circle\"},{\"attributes\":{},\"id\":\"3284\",\"type\":\"BasicTickFormatter\"}],\"root_ids\":[\"3121\"]},\"title\":\"Bokeh Application\",\"version\":\"1.4.0\"}};\n",
       "  var render_items = [{\"docid\":\"dbe6d747-65f3-4e53-8c53-ac707703146b\",\"roots\":{\"3121\":\"41c9350d-dbf5-4eb4-97da-d4344d8b596b\"}}];\n",
       "  root.Bokeh.embed.embed_items_notebook(docs_json, render_items);\n",
       "\n",
       "  }\n",
       "  if (root.Bokeh !== undefined) {\n",
       "    embed_document(root);\n",
       "  } else {\n",
       "    var attempts = 0;\n",
       "    var timer = setInterval(function(root) {\n",
       "      if (root.Bokeh !== undefined) {\n",
       "        clearInterval(timer);\n",
       "        embed_document(root);\n",
       "      } else {\n",
       "        attempts++;\n",
       "        if (attempts > 100) {\n",
       "          clearInterval(timer);\n",
       "          console.log(\"Bokeh: ERROR: Unable to run BokehJS code because BokehJS library is missing\");\n",
       "        }\n",
       "      }\n",
       "    }, 10, root)\n",
       "  }\n",
       "})(window);"
      ],
      "application/vnd.bokehjs_exec.v0+json": ""
     },
     "metadata": {
      "application/vnd.bokehjs_exec.v0+json": {
       "id": "3121"
      }
     },
     "output_type": "display_data"
    }
   ],
   "source": [
    "palette = bokeh_palettes.PRGn11\n",
    "mapper = bokeh_transform.linear_cmap(\"loss\", palette, min(learn.rec.stats.loss[\"valid\"]), \n",
    "                                     max(learn.rec.stats.loss[\"valid\"]))\n",
    "\n",
    "fig = bokeh_plotting.figure(title=\"Loss in reduced weight space\")\n",
    "s = bokeh_models.ColumnDataSource({\"component0\": _W[:,0].numpy(), \"component1\": _W[:,1].numpy(), \n",
    "                                   \"loss\": learn.rec.stats.loss[\"valid\"]})\n",
    "fig.circle(x=\"component0\", y=\"component1\", source=s, color=mapper, size=15)\n",
    "hover = bokeh_models.HoverTool(\n",
    "    tooltips=[(\"Validation loss\", \"@loss\")],\n",
    "    formatters={\"Validation Loss\": \"numeral\"}\n",
    ")\n",
    "fig.tools.append(hover)\n",
    "fig.xaxis.axis_label = \"Component 0\"\n",
    "fig.yaxis.axis_label = \"Component 1\"\n",
    "bokeh_plotting.show(fig)"
   ]
  },
  {
   "cell_type": "markdown",
   "metadata": {},
   "source": [
    "**Plain comparison of true model and estimated model**"
   ]
  },
  {
   "cell_type": "code",
   "execution_count": 44,
   "metadata": {},
   "outputs": [
    {
     "data": {
      "image/png": "[encoded data removed]",
      "text/plain": [
       "<Figure size 720x576 with 1 Axes>"
      ]
     },
     "metadata": {
      "needs_background": "light"
     },
     "output_type": "display_data"
    }
   ],
   "source": [
    "fig, ax = plt.subplots(figsize=(10, 8))\n",
    "ax.plot(x, y, \".\", label=\"data\")\n",
    "\n",
    "with torch.no_grad():\n",
    "    _x = torch.linspace(x.min(), x.max(), 1000)\n",
    "    ax.plot(_x, lm(polynomify(_x, deg)), \"-\", label=\"estimated model\")\n",
    "    ax.plot(_x, lm_ori(polynomify(_x, deg)), \"--\", label=\"true model\")\n",
    "ax.legend(title=\"Source\")\n",
    "ax.set_xlabel(\"x\")\n",
    "ax.set_ylabel(\"y\")\n",
    "ax.set_title(\"Model vs original data\")\n",
    "plt.show()"
   ]
  },
  {
   "cell_type": "markdown",
   "metadata": {},
   "source": [
    "## Comparing the optimization settings\n",
    "\n",
    "Setting the optimizer parameters and hyper parameter schedules"
   ]
  },
  {
   "cell_type": "code",
   "execution_count": 45,
   "metadata": {},
   "outputs": [],
   "source": [
    "lm = LinearModel(deg=len(w))\n",
    "setups = {\n",
    "    \"SGD\": {\n",
    "        \"opt\": {\n",
    "            \"params\": dict(lr=.1, momentum=0, wd=0),\n",
    "            \"class\": SGD\n",
    "        }\n",
    "    },\n",
    "    \"SGD-1cycle-lr\": {\n",
    "        \"opt\": {\n",
    "            \"params\": dict(lr=.1, momentum=0, wd=0),\n",
    "            \"class\": SGD\n",
    "        },\n",
    "        \"lrs\": {\n",
    "            \"class\": CyclicalLRScheduler,\n",
    "            \"params\": dict(bs=bs_train, num_samples=len(ds_train), base_lr=1e-3, max_lr=.5)\n",
    "        }\n",
    "    },\n",
    "    \"SGD-1cycle-lr+mom\": {\n",
    "        \"opt\": {\n",
    "            \"params\": dict(lr=.1, momentum=0, wd=0),\n",
    "            \"class\": SGD\n",
    "        },\n",
    "        \"lrs\": {\n",
    "            \"class\": CyclicalLRMomScheduler,\n",
    "            \"params\": dict(bs=bs_train, num_samples=len(ds_train), base_lr=1e-3, max_lr=.5,\n",
    "                           base_mom=0, max_mom=.1)\n",
    "        }\n",
    "    },\n",
    "    \n",
    "#     \"pytorch-SGD\": {\n",
    "#         \"params\": dict(opt=torch.optim.SGD, lr=.1, momentum=.9, weight_decay=.1),\n",
    "#         \"class\": PyTorchOpt\n",
    "#     },\n",
    "    \n",
    "#     \"pytorch-Adam\": {\n",
    "#         \"params\": dict(opt=torch.optim.Adam, lr=.1),\n",
    "#         \"class\": PyTorchOpt\n",
    "#     },\n",
    "    \n",
    "#     \"CMA-ES\": {\n",
    "#         \"opt\": {\n",
    "#             \"params\": dict(sigma=.3),\n",
    "#             \"class\": CMA_ES\n",
    "#         }\n",
    "#     },\n",
    "    \n",
    "#     \"Adam\": {\n",
    "#         \"params\": dict(lr=.01, betas=[.9, .999], eps=1e-8),\n",
    "#         \"class\": Adam\n",
    "#     },\n",
    "    \n",
    "#     \"RMSProp\": {\n",
    "#         \"params\": dict(lr=.1, momentum=0, wd=0, beta=.99),\n",
    "#         \"class\": RMSProp\n",
    "#     },\n",
    "}"
   ]
  },
  {
   "cell_type": "code",
   "execution_count": null,
   "metadata": {},
   "outputs": [],
   "source": [
    "loss_fun = RMSELoss\n",
    "\n",
    "n_trials = 20\n",
    "n_epochs = 10\n",
    "recs = {sname: [] for sname in setups}"
   ]
  },
  {
   "cell_type": "markdown",
   "metadata": {},
   "source": [
    "Running the optimizers repeatedly"
   ]
  },
  {
   "cell_type": "code",
   "execution_count": 46,
   "metadata": {
    "scrolled": true
   },
   "outputs": [
    {
     "name": "stdout",
     "output_type": "stream",
     "text": [
      "SGD 1/20\n",
      "SGD-1cycle-lr 1/20\n",
      "SGD-1cycle-lr+mom 1/20\n",
      "SGD 2/20\n",
      "SGD-1cycle-lr 2/20\n",
      "SGD-1cycle-lr+mom 2/20\n",
      "SGD 3/20\n",
      "SGD-1cycle-lr 3/20\n",
      "SGD-1cycle-lr+mom 3/20\n",
      "SGD 4/20\n",
      "SGD-1cycle-lr 4/20\n",
      "SGD-1cycle-lr+mom 4/20\n",
      "SGD 5/20\n",
      "SGD-1cycle-lr 5/20\n",
      "SGD-1cycle-lr+mom 5/20\n",
      "SGD 6/20\n",
      "SGD-1cycle-lr 6/20\n",
      "SGD-1cycle-lr+mom 6/20\n",
      "SGD 7/20\n",
      "SGD-1cycle-lr 7/20\n",
      "SGD-1cycle-lr+mom 7/20\n",
      "SGD 8/20\n",
      "SGD-1cycle-lr 8/20\n",
      "SGD-1cycle-lr+mom 8/20\n",
      "SGD 9/20\n",
      "SGD-1cycle-lr 9/20\n",
      "SGD-1cycle-lr+mom 9/20\n",
      "SGD 10/20\n",
      "SGD-1cycle-lr 10/20\n",
      "SGD-1cycle-lr+mom 10/20\n",
      "SGD 11/20\n",
      "SGD-1cycle-lr 11/20\n",
      "SGD-1cycle-lr+mom 11/20\n",
      "SGD 12/20\n",
      "SGD-1cycle-lr 12/20\n",
      "SGD-1cycle-lr+mom 12/20\n",
      "SGD 13/20\n",
      "SGD-1cycle-lr 13/20\n",
      "SGD-1cycle-lr+mom 13/20\n",
      "SGD 14/20\n",
      "SGD-1cycle-lr 14/20\n",
      "SGD-1cycle-lr+mom 14/20\n",
      "SGD 15/20\n",
      "SGD-1cycle-lr 15/20\n",
      "SGD-1cycle-lr+mom 15/20\n",
      "SGD 16/20\n",
      "SGD-1cycle-lr 16/20\n",
      "SGD-1cycle-lr+mom 16/20\n",
      "SGD 17/20\n",
      "SGD-1cycle-lr 17/20\n",
      "SGD-1cycle-lr+mom 17/20\n",
      "SGD 18/20\n",
      "SGD-1cycle-lr 18/20\n",
      "SGD-1cycle-lr+mom 18/20\n",
      "SGD 19/20\n",
      "SGD-1cycle-lr 19/20\n",
      "SGD-1cycle-lr+mom 19/20\n",
      "SGD 20/20\n",
      "SGD-1cycle-lr 20/20\n",
      "SGD-1cycle-lr+mom 20/20\n"
     ]
    }
   ],
   "source": [
    "for i in range(n_trials):\n",
    "    lm = LinearModel(deg=len(w))\n",
    "    w_copy = lm.w.clone().detach()\n",
    "    \n",
    "    for sname in sorted(setups):\n",
    "        print(f\"{sname} {i+1}/{n_trials}\")\n",
    "        opt = setups[sname][\"opt\"][\"class\"](lm.w, **setups[sname][\"opt\"][\"params\"])\n",
    "        lrs = None if \"lrs\" not in setups[sname] else setups[sname][\"lrs\"][\"class\"](opt, **setups[sname][\"lrs\"][\"params\"])\n",
    "        learn = Learner(lm, db, opt, loss_fun, hyper_scheduler=lrs)\n",
    "        learn.fit(epochs=n_epochs)\n",
    "        recs[sname].append(learn.rec.stats)\n",
    "        lm.w = torch.nn.Parameter(w_copy)"
   ]
  },
  {
   "cell_type": "markdown",
   "metadata": {},
   "source": [
    "Visualizing the validation losses comparing the optimizers"
   ]
  },
  {
   "cell_type": "code",
   "execution_count": 47,
   "metadata": {},
   "outputs": [],
   "source": [
    "def plot_setup_comparisons(recs):\n",
    "    colors = bokeh_palettes.Viridis6\n",
    "    fig = bokeh_plotting.figure(plot_width=800, plot_height=600, title=\"Comparing optimizer performance over the validation set\")\n",
    "    for j, sname in enumerate(sorted(recs)):\n",
    "        losses, iterations = [], []\n",
    "        for i, stats in enumerate(recs[sname]):\n",
    "            loss = stats.loss[\"valid\"]\n",
    "            iteration = np.arange(len(loss))\n",
    "            losses.append(loss)\n",
    "            iterations.append(iteration)\n",
    "\n",
    "        losses = np.array(losses)\n",
    "        percentiles = np.percentile(losses, [25, 50, 75], axis=0)\n",
    "\n",
    "        iterations = iterations[0]\n",
    "\n",
    "        # plotting median lines\n",
    "        s = bokeh_models.ColumnDataSource({\"iterations\": iterations, \"loss\": percentiles[1, :],\n",
    "                                           \"setup\": [sname for _ in iterations]})\n",
    "        fig.line(x=\"iterations\", y=\"loss\", legend_label=sname, color=colors[j], line_width=3.,\n",
    "                 source=s)\n",
    "        tooltips = [\n",
    "            (\"Iteration\", \"@iterations\"),\n",
    "            (\"Median Loss\", \"@loss\"),\n",
    "            (\"Setup\", \"@setup\")\n",
    "        ]\n",
    "\n",
    "        hover = bokeh_models.HoverTool(\n",
    "            tooltips = tooltips,\n",
    "            formatters = {\"Iteration\": \"numeral\", \"Median Loss\": \"numeral\", \"Setup\": \"printf\"},\n",
    "            mode=\"mouse\"\n",
    "        )\n",
    "        fig.tools.append(hover)\n",
    "\n",
    "        # plotting bands indicating the 25% to 75% range\n",
    "        s = bokeh_models.ColumnDataSource({\"iterations\": iterations, \"lower\": percentiles[0, :],\n",
    "                                           \"upper\": percentiles[2, :]})\n",
    "        band = bokeh_models.Band(base=\"iterations\", lower=\"lower\", upper=\"upper\",\n",
    "                                 level=\"underlay\", fill_alpha=.7, fill_color=colors[j],\n",
    "                                 source=s)\n",
    "        fig.add_layout(band)\n",
    "        fig.xaxis.axis_label = \"Iteration\"\n",
    "        fig.yaxis.axis_label = \"Loss\"\n",
    "\n",
    "\n",
    "    bokeh_plotting.show(fig)"
   ]
  },
  {
   "cell_type": "code",
   "execution_count": 48,
   "metadata": {
    "scrolled": false
   },
   "outputs": [
    {
     "data": {
      "text/html": [
       "\n",
       "\n",
       "\n",
       "\n",
       "\n",
       "\n",
       "  <div class=\"bk-root\" id=\"3c0ec74b-17ee-441b-86f7-5ddfbca96579\" data-root-id=\"3339\"></div>\n"
      ]
     },
     "metadata": {},
     "output_type": "display_data"
    },
    {
     "data": {
      "application/javascript": [
       "(function(root) {\n",
       "  function embed_document(root) {\n",
       "    \n",
       "  var docs_json = {\"47b5bb16-c907-4c80-92c0-a79d49de51f2\":{\"roots\":{\"references\":[{\"attributes\":{\"below\":[{\"id\":\"3350\",\"type\":\"LinearAxis\"}],\"center\":[{\"id\":\"3354\",\"type\":\"Grid\"},{\"id\":\"3359\",\"type\":\"Grid\"},{\"id\":\"3385\",\"type\":\"Legend\"},{\"id\":\"3390\",\"type\":\"Band\"},{\"id\":\"3412\",\"type\":\"Band\"},{\"id\":\"3438\",\"type\":\"Band\"}],\"left\":[{\"id\":\"3355\",\"type\":\"LinearAxis\"}],\"plot_width\":800,\"renderers\":[{\"id\":\"3377\",\"type\":\"GlyphRenderer\"},{\"id\":\"3396\",\"type\":\"GlyphRenderer\"},{\"id\":\"3418\",\"type\":\"GlyphRenderer\"}],\"title\":{\"id\":\"3340\",\"type\":\"Title\"},\"toolbar\":{\"id\":\"3366\",\"type\":\"Toolbar\"},\"x_range\":{\"id\":\"3342\",\"type\":\"DataRange1d\"},\"x_scale\":{\"id\":\"3346\",\"type\":\"LinearScale\"},\"y_range\":{\"id\":\"3344\",\"type\":\"DataRange1d\"},\"y_scale\":{\"id\":\"3348\",\"type\":\"LinearScale\"}},\"id\":\"3339\",\"subtype\":\"Figure\",\"type\":\"Plot\"},{\"attributes\":{},\"id\":\"3432\",\"type\":\"Selection\"},{\"attributes\":{\"dimension\":1,\"ticker\":{\"id\":\"3356\",\"type\":\"BasicTicker\"}},\"id\":\"3359\",\"type\":\"Grid\"},{\"attributes\":{},\"id\":\"3407\",\"type\":\"UnionRenderers\"},{\"attributes\":{},\"id\":\"3433\",\"type\":\"UnionRenderers\"},{\"attributes\":{},\"id\":\"3356\",\"type\":\"BasicTicker\"},{\"attributes\":{\"callback\":null,\"formatters\":{\"Iteration\":\"numeral\",\"Median Loss\":\"numeral\",\"Setup\":\"printf\"},\"tooltips\":[[\"Iteration\",\"@iterations\"],[\"Median Loss\",\"@loss\"],[\"Setup\",\"@setup\"]]},\"id\":\"3409\",\"type\":\"HoverTool\"},{\"attributes\":{},\"id\":\"3351\",\"type\":\"BasicTicker\"},{\"attributes\":{\"ticker\":{\"id\":\"3351\",\"type\":\"BasicTicker\"}},\"id\":\"3354\",\"type\":\"Grid\"},{\"attributes\":{},\"id\":\"3360\",\"type\":\"PanTool\"},{\"attributes\":{\"source\":{\"id\":\"3414\",\"type\":\"ColumnDataSource\"}},\"id\":\"3419\",\"type\":\"CDSView\"},{\"attributes\":{},\"id\":\"3429\",\"type\":\"UnionRenderers\"},{\"attributes\":{\"line_color\":\"#440154\",\"line_width\":3.0,\"x\":{\"field\":\"iterations\"},\"y\":{\"field\":\"loss\"}},\"id\":\"3375\",\"type\":\"Line\"},{\"attributes\":{\"data_source\":{\"id\":\"3414\",\"type\":\"ColumnDataSource\"},\"glyph\":{\"id\":\"3416\",\"type\":\"Line\"},\"hover_glyph\":null,\"muted_glyph\":null,\"nonselection_glyph\":{\"id\":\"3417\",\"type\":\"Line\"},\"selection_glyph\":null,\"view\":{\"id\":\"3419\",\"type\":\"CDSView\"}},\"id\":\"3418\",\"type\":\"GlyphRenderer\"},{\"attributes\":{},\"id\":\"3363\",\"type\":\"SaveTool\"},{\"attributes\":{\"data_source\":{\"id\":\"3373\",\"type\":\"ColumnDataSource\"},\"glyph\":{\"id\":\"3375\",\"type\":\"Line\"},\"hover_glyph\":null,\"muted_glyph\":null,\"nonselection_glyph\":{\"id\":\"3376\",\"type\":\"Line\"},\"selection_glyph\":null,\"view\":{\"id\":\"3378\",\"type\":\"CDSView\"}},\"id\":\"3377\",\"type\":\"GlyphRenderer\"},{\"attributes\":{\"callback\":null,\"data\":{\"iterations\":{\"__ndarray__\":\"AAAAAAEAAAACAAAAAwAAAAQAAAAFAAAABgAAAAcAAAAIAAAACQAAAAoAAAALAAAADAAAAA0AAAAOAAAADwAAABAAAAARAAAAEgAAABMAAAAUAAAAFQAAABYAAAAXAAAAGAAAABkAAAAaAAAAGwAAABwAAAAdAAAAHgAAAB8AAAAgAAAAIQAAACIAAAAjAAAAJAAAACUAAAAmAAAAJwAAAA==\",\"dtype\":\"int32\",\"shape\":[40]},\"lower\":{\"__ndarray__\":\"vMMpl4otJ0DAN5I1Z9ESQAFYIKZvzwxAzQx2lUggC0AcNODgtc8MQARlur6/awxAJFaSldXqDEAjEsN3r3AOQDz2e3hXKwtA6kLcuwMeC0DmCssKw5oJQC4YwfzkewdAfYiO9fnxC0AVsG50YEsNQDJIfe2rUwxAFlxloHTFDED1y1pIOWUIQNvESeyUvgtA1W+VA9IfDUBW2QHvLJoNQEzsHRYjNQdAwo7fVUM4CkBoZp0FNYEKQJyD2VB6LAtABeXkIaD4B0DaUXqXR6gKQFZRyPsTwAhA1jAhZ6NSB0CWPe9cBvkGQGHWDZYz3glAm1wrGO8CDED+7/kZ55QLQMkCJq413QhAa82MfP5uC0BwCVwfV6AGQOw/XsjqnQdAXv4NFrYsB0D7PyvxifYJQIhpHWgQUAxAMNey9OHJDEA=\",\"dtype\":\"float64\",\"shape\":[40]},\"upper\":{\"__ndarray__\":\"45cq9C1ENkAxpFaEBnMnQCTXuqMqTRhAldOc/DfrEUCUw8cHCGwUQBBC5Q/dQxNALe1XtwH+EkDPbTQV6QAUQP3wGHvcTBRAJWeiBA3YFEDdyiCQBToSQKk9lSLHBxFAa49F8XRSE0B7Mwq5+koTQFvG0BqVfhVAHtVjUe25EECn1AVChsQSQBOTjSmRsBVAnLT1DhPNEkC3k82Xf+gTQDCSFS3Htg9AzOVPNrxhFEBkA4Uf+eIUQDs0gxG4oBNACwO+cazGEEB2IA0Ax2ISQBSulVr9sRNAjhppSflGE0C2x3PqZrcUQAqGEU/t/hRA1duAfLfbEkDO5mojokoUQD6ggFR3eBJA22OCFjR6FkDbvcrknVwWQNqpv0Cs+xNAzhFQ/fjME0B4m8RWkFETQF61v8G1RBJA6Dl7IihhE0A=\",\"dtype\":\"float64\",\"shape\":[40]}},\"selected\":{\"id\":\"3406\",\"type\":\"Selection\"},\"selection_policy\":{\"id\":\"3407\",\"type\":\"UnionRenderers\"}},\"id\":\"3389\",\"type\":\"ColumnDataSource\"},{\"attributes\":{},\"id\":\"3585\",\"type\":\"UnionRenderers\"},{\"attributes\":{\"label\":{\"value\":\"SGD-1cycle-lr+mom\"},\"renderers\":[{\"id\":\"3418\",\"type\":\"GlyphRenderer\"}]},\"id\":\"3434\",\"type\":\"LegendItem\"},{\"attributes\":{\"line_alpha\":0.1,\"line_color\":\"#1f77b4\",\"line_width\":3.0,\"x\":{\"field\":\"iterations\"},\"y\":{\"field\":\"loss\"}},\"id\":\"3417\",\"type\":\"Line\"},{\"attributes\":{},\"id\":\"3382\",\"type\":\"BasicTickFormatter\"},{\"attributes\":{\"label\":{\"value\":\"SGD-1cycle-lr\"},\"renderers\":[{\"id\":\"3396\",\"type\":\"GlyphRenderer\"}]},\"id\":\"3408\",\"type\":\"LegendItem\"},{\"attributes\":{\"bottom_units\":\"screen\",\"fill_alpha\":{\"value\":0.5},\"fill_color\":{\"value\":\"lightgrey\"},\"left_units\":\"screen\",\"level\":\"overlay\",\"line_alpha\":{\"value\":1.0},\"line_color\":{\"value\":\"black\"},\"line_dash\":[4,4],\"line_width\":{\"value\":2},\"render_mode\":\"css\",\"right_units\":\"screen\",\"top_units\":\"screen\"},\"id\":\"3384\",\"type\":\"BoxAnnotation\"},{\"attributes\":{},\"id\":\"3578\",\"type\":\"Selection\"},{\"attributes\":{},\"id\":\"3406\",\"type\":\"Selection\"},{\"attributes\":{\"line_alpha\":0.1,\"line_color\":\"#1f77b4\",\"line_width\":3.0,\"x\":{\"field\":\"iterations\"},\"y\":{\"field\":\"loss\"}},\"id\":\"3395\",\"type\":\"Line\"},{\"attributes\":{},\"id\":\"3380\",\"type\":\"BasicTickFormatter\"},{\"attributes\":{\"callback\":null,\"data\":{\"iterations\":{\"__ndarray__\":\"AAAAAAEAAAACAAAAAwAAAAQAAAAFAAAABgAAAAcAAAAIAAAACQAAAAoAAAALAAAADAAAAA0AAAAOAAAADwAAABAAAAARAAAAEgAAABMAAAAUAAAAFQAAABYAAAAXAAAAGAAAABkAAAAaAAAAGwAAABwAAAAdAAAAHgAAAB8AAAAgAAAAIQAAACIAAAAjAAAAJAAAACUAAAAmAAAAJwAAAA==\",\"dtype\":\"int32\",\"shape\":[40]},\"loss\":{\"__ndarray__\":\"K8UBfzQ7LkDhHP46TOwfQBox/7R2nxBAw5wuGi8HDkDyq17U3QQTQJEr76aYuxBA49te+7VlEEDisf4xJXwQQIgF58cGNhJAghGNrzcqEUCzH5+jQyANQM6R2R0Cmw5AOfGKMk8MD0ClMTLR/ooPQHGIseBkBxJA7z/lMo55D0CoCamZ//UPQJUkfAGJ6BFApl8Ye/Z5EEAQ/a7lo3kRQJaVvd0h6QlAumCrycaLEEAK8rlSuREQQGfcVA4nGw9AmqqDtJllDEB6I1Bd6PQPQL0r2eyL0Q9A+ieujHSADUBY+O+epFoOQGRRs5rWPBNA+htAsadEEUCnRNU9xxoRQGaKGH272wxAYtOqai9iEkAaG1G6ApAPQIY5/vuZExBAzobKJB7eDEDeYQKHHpQPQCudomlo8RBARZempS/tEEA=\",\"dtype\":\"float64\",\"shape\":[40]},\"setup\":[\"SGD\",\"SGD\",\"SGD\",\"SGD\",\"SGD\",\"SGD\",\"SGD\",\"SGD\",\"SGD\",\"SGD\",\"SGD\",\"SGD\",\"SGD\",\"SGD\",\"SGD\",\"SGD\",\"SGD\",\"SGD\",\"SGD\",\"SGD\",\"SGD\",\"SGD\",\"SGD\",\"SGD\",\"SGD\",\"SGD\",\"SGD\",\"SGD\",\"SGD\",\"SGD\",\"SGD\",\"SGD\",\"SGD\",\"SGD\",\"SGD\",\"SGD\",\"SGD\",\"SGD\",\"SGD\",\"SGD\"]},\"selected\":{\"id\":\"3404\",\"type\":\"Selection\"},\"selection_policy\":{\"id\":\"3405\",\"type\":\"UnionRenderers\"}},\"id\":\"3373\",\"type\":\"ColumnDataSource\"},{\"attributes\":{\"axis_label\":\"Loss\",\"formatter\":{\"id\":\"3380\",\"type\":\"BasicTickFormatter\"},\"ticker\":{\"id\":\"3356\",\"type\":\"BasicTicker\"}},\"id\":\"3355\",\"type\":\"LinearAxis\"},{\"attributes\":{\"callback\":null,\"data\":{\"iterations\":{\"__ndarray__\":\"AAAAAAEAAAACAAAAAwAAAAQAAAAFAAAABgAAAAcAAAAIAAAACQAAAAoAAAALAAAADAAAAA0AAAAOAAAADwAAABAAAAARAAAAEgAAABMAAAAUAAAAFQAAABYAAAAXAAAAGAAAABkAAAAaAAAAGwAAABwAAAAdAAAAHgAAAB8AAAAgAAAAIQAAACIAAAAjAAAAJAAAACUAAAAmAAAAJwAAAA==\",\"dtype\":\"int32\",\"shape\":[40]},\"lower\":{\"__ndarray__\":\"D2DD0dGEMUB3lR5mdwUuQPi2cijuLyhAFnjn8skuJEDoJ0D7nTETQL5p25n3ewpAWyOEuLNnDUD3tc6Yi2QQQHXuPNs4OBFA/7vUrK4pDkBUzUtmLtcSQN7Bk/34BhVAqYr07aiRF0BCADfEKLUdQJUJ4VJpmhhAhuYCVa4tF0CSNe11h4EdQClvH1+dvRpA2BUmFkwBHUAsqz+KkCoWQDOWm84f0RFARBi9gstXEUBgxGNDQ20IQKgkJ9+DVxVAGvRoEU+gFUAt9YHemykQQDOZlVvcLxBA5M3H+SzHDUAQK/uENlMJQJ0Sc3WsZxFA3K/EFp1REEAjddUQnVQHQJohj1+48ARAmyCvMxaFCEC7inp4RDkGQKYxMBIugwJAHLHeZZc5AUAYQ47k250AQCCRrjngBwBAzyGTQtM0AUA=\",\"dtype\":\"float64\",\"shape\":[40]},\"upper\":{\"__ndarray__\":\"orF7ZpbCOUAamo8wkyU4QO0jH8y7nTRAhhMMi/lfM0D/J79R/2krQLioUewuzRlAf/DxgRDIEkD/E90R4k0WQNwJPqDUTB5AHj5KeUKKG0ADaWnORfcYQGuMmQupUCFALVZmyzb+I0BaTCjrNuEmQGg2p44HFyZA92l6bbHWJUAmYlAq2wInQHp39IS5JitAZHbTBoDmKkC5PHsPwwQtQJb/qY8HjSpA0Kuw0nxlKUCKy3oTi6woQIJUIsZaSCJAOoktbLiMIkC87s162wsjQNy9uIirUCJAnYBNjBT3JEC5WC6GHCQcQCUt38GRzxhAE7h8kM2EF0C6I+icwk4XQALMkjmoPQxAVo7WM8pgEEDLVhJFftIJQFiG6b/sUQdAu1E+0BxpBUBopwwInKYFQL6TSJvWgQVAwAE5y66qBUA=\",\"dtype\":\"float64\",\"shape\":[40]}},\"selected\":{\"id\":\"3432\",\"type\":\"Selection\"},\"selection_policy\":{\"id\":\"3433\",\"type\":\"UnionRenderers\"}},\"id\":\"3411\",\"type\":\"ColumnDataSource\"},{\"attributes\":{\"data_source\":{\"id\":\"3392\",\"type\":\"ColumnDataSource\"},\"glyph\":{\"id\":\"3394\",\"type\":\"Line\"},\"hover_glyph\":null,\"muted_glyph\":null,\"nonselection_glyph\":{\"id\":\"3395\",\"type\":\"Line\"},\"selection_glyph\":null,\"view\":{\"id\":\"3397\",\"type\":\"CDSView\"}},\"id\":\"3396\",\"type\":\"GlyphRenderer\"},{\"attributes\":{\"callback\":null,\"data\":{\"iterations\":{\"__ndarray__\":\"AAAAAAEAAAACAAAAAwAAAAQAAAAFAAAABgAAAAcAAAAIAAAACQAAAAoAAAALAAAADAAAAA0AAAAOAAAADwAAABAAAAARAAAAEgAAABMAAAAUAAAAFQAAABYAAAAXAAAAGAAAABkAAAAaAAAAGwAAABwAAAAdAAAAHgAAAB8AAAAgAAAAIQAAACIAAAAjAAAAJAAAACUAAAAmAAAAJwAAAA==\",\"dtype\":\"int32\",\"shape\":[40]},\"loss\":{\"__ndarray__\":\"MHys1m+WNEC1cmBvD1k0QOTTSrlMfTBAl1quYo40KkDgHZuavxkdQH4qm9Wi6w5AYISgxRdfEEAcQJ3nmWMSQGw3hFXwdxRAI6cZ4k5IFUD4DHLTDVoUQDaXsIJmXRxAqtUfzTM0H0DcGAgv5UMhQKqXHa0VAyBAbjNGm2IaI0BSAiQ4NXgkQFOHL3rk2yVAxMZAwGi4JUD00xvN11gmQLgGurKhTCBAgNDuZarRIkCERUZ7jaYfQCR1hm9QIR5A16n9//mzHUB1Jqe6GB4YQEXAVLCwzhhAutLr4rFxFUDdd59oRNwNQLTa/ETbxBRA3rlv/wpcFEBGxxrkRiYSQDbPnvyjBwpAsjAdIpNRC0AKIe4a/cAHQOK5Fu1a4QRAstMqfOR+A0ApGys8kd0DQCcwa7iauQNA5yYtzgNcA0A=\",\"dtype\":\"float64\",\"shape\":[40]},\"setup\":[\"SGD-1cycle-lr\",\"SGD-1cycle-lr\",\"SGD-1cycle-lr\",\"SGD-1cycle-lr\",\"SGD-1cycle-lr\",\"SGD-1cycle-lr\",\"SGD-1cycle-lr\",\"SGD-1cycle-lr\",\"SGD-1cycle-lr\",\"SGD-1cycle-lr\",\"SGD-1cycle-lr\",\"SGD-1cycle-lr\",\"SGD-1cycle-lr\",\"SGD-1cycle-lr\",\"SGD-1cycle-lr\",\"SGD-1cycle-lr\",\"SGD-1cycle-lr\",\"SGD-1cycle-lr\",\"SGD-1cycle-lr\",\"SGD-1cycle-lr\",\"SGD-1cycle-lr\",\"SGD-1cycle-lr\",\"SGD-1cycle-lr\",\"SGD-1cycle-lr\",\"SGD-1cycle-lr\",\"SGD-1cycle-lr\",\"SGD-1cycle-lr\",\"SGD-1cycle-lr\",\"SGD-1cycle-lr\",\"SGD-1cycle-lr\",\"SGD-1cycle-lr\",\"SGD-1cycle-lr\",\"SGD-1cycle-lr\",\"SGD-1cycle-lr\",\"SGD-1cycle-lr\",\"SGD-1cycle-lr\",\"SGD-1cycle-lr\",\"SGD-1cycle-lr\",\"SGD-1cycle-lr\",\"SGD-1cycle-lr\"]},\"selected\":{\"id\":\"3428\",\"type\":\"Selection\"},\"selection_policy\":{\"id\":\"3429\",\"type\":\"UnionRenderers\"}},\"id\":\"3392\",\"type\":\"ColumnDataSource\"},{\"attributes\":{\"base\":{\"field\":\"iterations\",\"units\":\"data\"},\"fill_alpha\":{\"value\":0.7},\"fill_color\":{\"value\":\"#404387\"},\"level\":\"underlay\",\"lower\":{\"field\":\"lower\",\"units\":\"data\"},\"source\":{\"id\":\"3411\",\"type\":\"ColumnDataSource\"},\"upper\":{\"field\":\"upper\",\"units\":\"data\"}},\"id\":\"3412\",\"type\":\"Band\"},{\"attributes\":{\"callback\":null,\"formatters\":{\"Iteration\":\"numeral\",\"Median Loss\":\"numeral\",\"Setup\":\"printf\"},\"tooltips\":[[\"Iteration\",\"@iterations\"],[\"Median Loss\",\"@loss\"],[\"Setup\",\"@setup\"]]},\"id\":\"3435\",\"type\":\"HoverTool\"},{\"attributes\":{},\"id\":\"3584\",\"type\":\"Selection\"},{\"attributes\":{\"axis_label\":\"Iteration\",\"formatter\":{\"id\":\"3382\",\"type\":\"BasicTickFormatter\"},\"ticker\":{\"id\":\"3351\",\"type\":\"BasicTicker\"}},\"id\":\"3350\",\"type\":\"LinearAxis\"},{\"attributes\":{\"text\":\"Comparing optimizer performance over the validation set\"},\"id\":\"3340\",\"type\":\"Title\"},{\"attributes\":{},\"id\":\"3365\",\"type\":\"HelpTool\"},{\"attributes\":{\"callback\":null,\"data\":{\"iterations\":{\"__ndarray__\":\"AAAAAAEAAAACAAAAAwAAAAQAAAAFAAAABgAAAAcAAAAIAAAACQAAAAoAAAALAAAADAAAAA0AAAAOAAAADwAAABAAAAARAAAAEgAAABMAAAAUAAAAFQAAABYAAAAXAAAAGAAAABkAAAAaAAAAGwAAABwAAAAdAAAAHgAAAB8AAAAgAAAAIQAAACIAAAAjAAAAJAAAACUAAAAmAAAAJwAAAA==\",\"dtype\":\"int32\",\"shape\":[40]},\"lower\":{\"__ndarray__\":\"wnhW4aDHAUBsQ5BlLM/9P58dcfUsgQBA4k3Fln75/j823Y2iNCsDQKK1bUKOqQdAtE+9nG9TC0Bj972wVH0NQO5cKXK1DRFAscCtfrGsEUAkVabKA+4OQEyDHomJDhNA5XeFSirHEEByBNJxUjEVQLjnZOkVbBtAbHOouwkJEEDK7ffYISgcQLttylL+qRJADJFYIxmeH0CQ3Z7WzLsdQII3s5uWVhxA9aUk0IFoFkDxWr9j9AUVQAHvAsldHhtA1EZqW5RqDEDYNsjpoToTQLi3YYBO8wlAJR2fvvM3FEBaY+QdR84IQKiKPsU1FgpAIMb5GvUyDEDATQ/60QcGQLunBH/+dAVA4AnMpUXGBECwkGiewlT/P50gBAc+S/0/lQpdCcM7/T9NwvJ4xKz8P+tevanHCvs/Po/edaFi+T8=\",\"dtype\":\"float64\",\"shape\":[40]},\"upper\":{\"__ndarray__\":\"6HJc350nBkCqG3aLiVwIQDB89TIMPgRAfNwa190bBUA23DCDNJMJQBBi/C4RuhFA5usJKuoQFUCL4i0hwQ8XQFZY0+R9MRlA9pkIW7huHUBVOcWle2AhQPvuMJjzZSBAS4QleZ/TIkAJuLwHWJMkQJSehhCD6ClAKOrHR5QWKUBHj9hB3q8pQEj620Rs0yVArvjZujfuKEALMGJ9uGwtQEyM1sWsMSpAbp+mccuPJkBLQpqoUf4jQI9xN85AXSNA9Aw7hB7aIECD1VaFYSQkQHqHSCJYUxtAQfpgzWKMJEAxEjbNYMkYQGU4A+cSbBlAfOZiMGEsFUC4YRUUU44RQFpagER5cg9AoLodrYGeCUA3TASoZLYHQKCrF5uqGwhAQoa13b8DA0D1QuEOYRIBQBDiPPqq4wRA1ErtcYI7A0A=\",\"dtype\":\"float64\",\"shape\":[40]}},\"selected\":{\"id\":\"3584\",\"type\":\"Selection\"},\"selection_policy\":{\"id\":\"3585\",\"type\":\"UnionRenderers\"}},\"id\":\"3437\",\"type\":\"ColumnDataSource\"},{\"attributes\":{},\"id\":\"3348\",\"type\":\"LinearScale\"},{\"attributes\":{},\"id\":\"3579\",\"type\":\"UnionRenderers\"},{\"attributes\":{\"callback\":null},\"id\":\"3342\",\"type\":\"DataRange1d\"},{\"attributes\":{},\"id\":\"3428\",\"type\":\"Selection\"},{\"attributes\":{\"active_drag\":\"auto\",\"active_inspect\":\"auto\",\"active_multi\":null,\"active_scroll\":\"auto\",\"active_tap\":\"auto\",\"tools\":[{\"id\":\"3360\",\"type\":\"PanTool\"},{\"id\":\"3361\",\"type\":\"WheelZoomTool\"},{\"id\":\"3362\",\"type\":\"BoxZoomTool\"},{\"id\":\"3363\",\"type\":\"SaveTool\"},{\"id\":\"3364\",\"type\":\"ResetTool\"},{\"id\":\"3365\",\"type\":\"HelpTool\"},{\"id\":\"3387\",\"type\":\"HoverTool\"},{\"id\":\"3409\",\"type\":\"HoverTool\"},{\"id\":\"3435\",\"type\":\"HoverTool\"}]},\"id\":\"3366\",\"type\":\"Toolbar\"},{\"attributes\":{\"items\":[{\"id\":\"3386\",\"type\":\"LegendItem\"},{\"id\":\"3408\",\"type\":\"LegendItem\"},{\"id\":\"3434\",\"type\":\"LegendItem\"}]},\"id\":\"3385\",\"type\":\"Legend\"},{\"attributes\":{\"base\":{\"field\":\"iterations\",\"units\":\"data\"},\"fill_alpha\":{\"value\":0.7},\"fill_color\":{\"value\":\"#29788E\"},\"level\":\"underlay\",\"lower\":{\"field\":\"lower\",\"units\":\"data\"},\"source\":{\"id\":\"3437\",\"type\":\"ColumnDataSource\"},\"upper\":{\"field\":\"upper\",\"units\":\"data\"}},\"id\":\"3438\",\"type\":\"Band\"},{\"attributes\":{},\"id\":\"3361\",\"type\":\"WheelZoomTool\"},{\"attributes\":{\"base\":{\"field\":\"iterations\",\"units\":\"data\"},\"fill_alpha\":{\"value\":0.7},\"fill_color\":{\"value\":\"#440154\"},\"level\":\"underlay\",\"lower\":{\"field\":\"lower\",\"units\":\"data\"},\"source\":{\"id\":\"3389\",\"type\":\"ColumnDataSource\"},\"upper\":{\"field\":\"upper\",\"units\":\"data\"}},\"id\":\"3390\",\"type\":\"Band\"},{\"attributes\":{},\"id\":\"3364\",\"type\":\"ResetTool\"},{\"attributes\":{\"source\":{\"id\":\"3392\",\"type\":\"ColumnDataSource\"}},\"id\":\"3397\",\"type\":\"CDSView\"},{\"attributes\":{\"callback\":null,\"data\":{\"iterations\":{\"__ndarray__\":\"AAAAAAEAAAACAAAAAwAAAAQAAAAFAAAABgAAAAcAAAAIAAAACQAAAAoAAAALAAAADAAAAA0AAAAOAAAADwAAABAAAAARAAAAEgAAABMAAAAUAAAAFQAAABYAAAAXAAAAGAAAABkAAAAaAAAAGwAAABwAAAAdAAAAHgAAAB8AAAAgAAAAIQAAACIAAAAjAAAAJAAAACUAAAAmAAAAJwAAAA==\",\"dtype\":\"int32\",\"shape\":[40]},\"loss\":{\"__ndarray__\":\"ijDRvU6+A0DMJEXkR50DQO3AANJjowJAlN+KjFCAA0Bxw4w9uswEQNXXysQPeg5AeN1fd8I9D0B09MSzQ2ISQIC4spCiWBRAfCrqKIlTGkA9ShCdNh4ZQA7LL3uvixhA1iEastEoHEAEhId2UqAaQKqsyQEPtCFA3MsoU8c/HkBkRs0rjVQlQHCPNt7U4x1ApE9r+8fJJUCAcv2JEeUnQFxuJctKTCJAorhVeEa5H0DLihAhS4MhQIv6La2w2yBAkKpZO2RZFUDsoyEm7u8hQM+N9Nairw5AZD8SK7EPG0BrzHhw+28QQJIMGGz7KRJADNr+6UBpEUAspBNOPDkNQNh1Vb+whwpAvFDipoUKBkD7wmb4tUMGQDoFKvgPiQJAIH1vQlGrAEBTA3EZ94T+P51U10CFPgFAeT4XXLxVAEA=\",\"dtype\":\"float64\",\"shape\":[40]},\"setup\":[\"SGD-1cycle-lr+mom\",\"SGD-1cycle-lr+mom\",\"SGD-1cycle-lr+mom\",\"SGD-1cycle-lr+mom\",\"SGD-1cycle-lr+mom\",\"SGD-1cycle-lr+mom\",\"SGD-1cycle-lr+mom\",\"SGD-1cycle-lr+mom\",\"SGD-1cycle-lr+mom\",\"SGD-1cycle-lr+mom\",\"SGD-1cycle-lr+mom\",\"SGD-1cycle-lr+mom\",\"SGD-1cycle-lr+mom\",\"SGD-1cycle-lr+mom\",\"SGD-1cycle-lr+mom\",\"SGD-1cycle-lr+mom\",\"SGD-1cycle-lr+mom\",\"SGD-1cycle-lr+mom\",\"SGD-1cycle-lr+mom\",\"SGD-1cycle-lr+mom\",\"SGD-1cycle-lr+mom\",\"SGD-1cycle-lr+mom\",\"SGD-1cycle-lr+mom\",\"SGD-1cycle-lr+mom\",\"SGD-1cycle-lr+mom\",\"SGD-1cycle-lr+mom\",\"SGD-1cycle-lr+mom\",\"SGD-1cycle-lr+mom\",\"SGD-1cycle-lr+mom\",\"SGD-1cycle-lr+mom\",\"SGD-1cycle-lr+mom\",\"SGD-1cycle-lr+mom\",\"SGD-1cycle-lr+mom\",\"SGD-1cycle-lr+mom\",\"SGD-1cycle-lr+mom\",\"SGD-1cycle-lr+mom\",\"SGD-1cycle-lr+mom\",\"SGD-1cycle-lr+mom\",\"SGD-1cycle-lr+mom\",\"SGD-1cycle-lr+mom\"]},\"selected\":{\"id\":\"3578\",\"type\":\"Selection\"},\"selection_policy\":{\"id\":\"3579\",\"type\":\"UnionRenderers\"}},\"id\":\"3414\",\"type\":\"ColumnDataSource\"},{\"attributes\":{\"callback\":null},\"id\":\"3344\",\"type\":\"DataRange1d\"},{\"attributes\":{\"overlay\":{\"id\":\"3384\",\"type\":\"BoxAnnotation\"}},\"id\":\"3362\",\"type\":\"BoxZoomTool\"},{\"attributes\":{\"label\":{\"value\":\"SGD\"},\"renderers\":[{\"id\":\"3377\",\"type\":\"GlyphRenderer\"}]},\"id\":\"3386\",\"type\":\"LegendItem\"},{\"attributes\":{},\"id\":\"3404\",\"type\":\"Selection\"},{\"attributes\":{\"line_alpha\":0.1,\"line_color\":\"#1f77b4\",\"line_width\":3.0,\"x\":{\"field\":\"iterations\"},\"y\":{\"field\":\"loss\"}},\"id\":\"3376\",\"type\":\"Line\"},{\"attributes\":{\"line_color\":\"#404387\",\"line_width\":3.0,\"x\":{\"field\":\"iterations\"},\"y\":{\"field\":\"loss\"}},\"id\":\"3394\",\"type\":\"Line\"},{\"attributes\":{\"line_color\":\"#29788E\",\"line_width\":3.0,\"x\":{\"field\":\"iterations\"},\"y\":{\"field\":\"loss\"}},\"id\":\"3416\",\"type\":\"Line\"},{\"attributes\":{\"callback\":null,\"formatters\":{\"Iteration\":\"numeral\",\"Median Loss\":\"numeral\",\"Setup\":\"printf\"},\"tooltips\":[[\"Iteration\",\"@iterations\"],[\"Median Loss\",\"@loss\"],[\"Setup\",\"@setup\"]]},\"id\":\"3387\",\"type\":\"HoverTool\"},{\"attributes\":{\"source\":{\"id\":\"3373\",\"type\":\"ColumnDataSource\"}},\"id\":\"3378\",\"type\":\"CDSView\"},{\"attributes\":{},\"id\":\"3405\",\"type\":\"UnionRenderers\"},{\"attributes\":{},\"id\":\"3346\",\"type\":\"LinearScale\"}],\"root_ids\":[\"3339\"]},\"title\":\"Bokeh Application\",\"version\":\"1.4.0\"}};\n",
       "  var render_items = [{\"docid\":\"47b5bb16-c907-4c80-92c0-a79d49de51f2\",\"roots\":{\"3339\":\"3c0ec74b-17ee-441b-86f7-5ddfbca96579\"}}];\n",
       "  root.Bokeh.embed.embed_items_notebook(docs_json, render_items);\n",
       "\n",
       "  }\n",
       "  if (root.Bokeh !== undefined) {\n",
       "    embed_document(root);\n",
       "  } else {\n",
       "    var attempts = 0;\n",
       "    var timer = setInterval(function(root) {\n",
       "      if (root.Bokeh !== undefined) {\n",
       "        clearInterval(timer);\n",
       "        embed_document(root);\n",
       "      } else {\n",
       "        attempts++;\n",
       "        if (attempts > 100) {\n",
       "          clearInterval(timer);\n",
       "          console.log(\"Bokeh: ERROR: Unable to run BokehJS code because BokehJS library is missing\");\n",
       "        }\n",
       "      }\n",
       "    }, 10, root)\n",
       "  }\n",
       "})(window);"
      ],
      "application/vnd.bokehjs_exec.v0+json": ""
     },
     "metadata": {
      "application/vnd.bokehjs_exec.v0+json": {
       "id": "3339"
      }
     },
     "output_type": "display_data"
    }
   ],
   "source": [
    "plot_setup_comparisons(recs)"
   ]
  },
  {
   "cell_type": "markdown",
   "metadata": {},
   "source": [
    "![That's all](https://upload.wikimedia.org/wikipedia/commons/e/ea/Thats_all_folks.svg)"
   ]
  }
 ],
 "metadata": {
  "kernelspec": {
   "display_name": "Python [conda env:py37_fastai]",
   "language": "python",
   "name": "conda-env-py37_fastai-py"
  },
  "language_info": {
   "codemirror_mode": {
    "name": "ipython",
    "version": 3
   },
   "file_extension": ".py",
   "mimetype": "text/x-python",
   "name": "python",
   "nbconvert_exporter": "python",
   "pygments_lexer": "ipython3",
   "version": "3.7.5"
  }
 },
 "nbformat": 4,
 "nbformat_minor": 2
}
