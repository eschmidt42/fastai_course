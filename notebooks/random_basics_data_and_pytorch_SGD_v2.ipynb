{
 "cells": [
  {
   "cell_type": "markdown",
   "metadata": {},
   "source": [
    "# Random basics - datasets / dataloaders & optimizers \n",
    "\n",
    "Things in this notebook:\n",
    "- simple regression problem\n",
    "- data management from scratch\n",
    "- optimizers from scratch incl. monitoring & hyper parameter schedulers\n",
    "\n",
    "In this notebook I experiment with creating a custom dataset and transform as well as with creating some optimizers from scratch using pytorch. My personal highlight was to see that even a method like Covariance Matrix Adaption (an evolutionary strategy based algorithm) can be implemented using pytorch and actually performs reasonably well.\n",
    "\n",
    "A bit surprising, and I suspect a bug is, is that the default SGD optimizer from pytorch performs quite poorly in comparison.\n",
    "\n",
    "**Things to look at**\n",
    "\n",
    "1. DONE opt: SGD, RMSProp, Adam, evo ([example](https://towardsdatascience.com/paper-repro-deep-neuroevolution-756871e00a66))\n",
    "2. nets: dense, conv, recurrent, ResNet, DensNet\n",
    "3. regularization: dropout, l2, weight decay, batchnorm\n",
    "4. DONE data bunching (this kind of seems nasty) - data/application: image, tabular, sequence/text, collab\n",
    "5. GANs, U-net, Feature loss\n",
    "\n",
    "**TO DO: check why converged solutions look so bad**\n",
    "\n",
    "**TO DO: refactor optimizers using inheritance from a generic optimizer class (see lecture 11)**\n",
    "\n",
    "**TO DO: cyclical learning rates: [Smith et al. 2017](https://arxiv.org/abs/1506.01186), [Smith and Topin 2018](https://arxiv.org/pdf/1708.07120.pdf), [medium blog](https://medium.com/dsnet/the-1-cycle-policy-an-experiment-that-vanished-the-struggle-in-training-neural-nets-184417de23b9) post by Shubhaajit Das, [Smith 2018](http://arxiv.org/abs/1803.09820)**\n",
    "\n",
    "**TO DO: callbacks --> new version of this notebook using callbacks (add progressbar from fastprogress module)**"
   ]
  },
  {
   "cell_type": "code",
   "execution_count": 1,
   "metadata": {
    "scrolled": true
   },
   "outputs": [],
   "source": [
    "%matplotlib inline"
   ]
  },
  {
   "cell_type": "code",
   "execution_count": 2,
   "metadata": {},
   "outputs": [],
   "source": [
    "from fastai.data_block import ItemList, ItemBase\n",
    "from fastai import basic_data\n",
    "from fastai.basic_data import DataBunch\n",
    "from fastai.tabular import TabularList, Normalize, FillMissing"
   ]
  },
  {
   "cell_type": "code",
   "execution_count": 127,
   "metadata": {},
   "outputs": [],
   "source": [
    "from fastai.basics import torch\n",
    "\n",
    "import numpy as np\n",
    "from scipy import stats\n",
    "import pandas as pd\n",
    "import matplotlib.pyplot as plt\n",
    "import seaborn as sns\n",
    "from typing import List, Union\n",
    "from functools import partial\n",
    "\n",
    "import bokeh.io as bokeh_io\n",
    "import bokeh.plotting as bokeh_plotting\n",
    "import bokeh.models as bokeh_models\n",
    "import bokeh.palettes as bokeh_palettes"
   ]
  },
  {
   "cell_type": "code",
   "execution_count": 3,
   "metadata": {},
   "outputs": [
    {
     "data": {
      "text/html": [
       "\n",
       "    <div class=\"bk-root\">\n",
       "        <a href=\"https://bokeh.org\" target=\"_blank\" class=\"bk-logo bk-logo-small bk-logo-notebook\"></a>\n",
       "        <span id=\"1001\">Loading BokehJS ...</span>\n",
       "    </div>"
      ]
     },
     "metadata": {},
     "output_type": "display_data"
    },
    {
     "data": {
      "application/javascript": [
       "\n",
       "(function(root) {\n",
       "  function now() {\n",
       "    return new Date();\n",
       "  }\n",
       "\n",
       "  var force = true;\n",
       "\n",
       "  if (typeof root._bokeh_onload_callbacks === \"undefined\" || force === true) {\n",
       "    root._bokeh_onload_callbacks = [];\n",
       "    root._bokeh_is_loading = undefined;\n",
       "  }\n",
       "\n",
       "  var JS_MIME_TYPE = 'application/javascript';\n",
       "  var HTML_MIME_TYPE = 'text/html';\n",
       "  var EXEC_MIME_TYPE = 'application/vnd.bokehjs_exec.v0+json';\n",
       "  var CLASS_NAME = 'output_bokeh rendered_html';\n",
       "\n",
       "  /**\n",
       "   * Render data to the DOM node\n",
       "   */\n",
       "  function render(props, node) {\n",
       "    var script = document.createElement(\"script\");\n",
       "    node.appendChild(script);\n",
       "  }\n",
       "\n",
       "  /**\n",
       "   * Handle when an output is cleared or removed\n",
       "   */\n",
       "  function handleClearOutput(event, handle) {\n",
       "    var cell = handle.cell;\n",
       "\n",
       "    var id = cell.output_area._bokeh_element_id;\n",
       "    var server_id = cell.output_area._bokeh_server_id;\n",
       "    // Clean up Bokeh references\n",
       "    if (id != null && id in Bokeh.index) {\n",
       "      Bokeh.index[id].model.document.clear();\n",
       "      delete Bokeh.index[id];\n",
       "    }\n",
       "\n",
       "    if (server_id !== undefined) {\n",
       "      // Clean up Bokeh references\n",
       "      var cmd = \"from bokeh.io.state import curstate; print(curstate().uuid_to_server['\" + server_id + \"'].get_sessions()[0].document.roots[0]._id)\";\n",
       "      cell.notebook.kernel.execute(cmd, {\n",
       "        iopub: {\n",
       "          output: function(msg) {\n",
       "            var id = msg.content.text.trim();\n",
       "            if (id in Bokeh.index) {\n",
       "              Bokeh.index[id].model.document.clear();\n",
       "              delete Bokeh.index[id];\n",
       "            }\n",
       "          }\n",
       "        }\n",
       "      });\n",
       "      // Destroy server and session\n",
       "      var cmd = \"import bokeh.io.notebook as ion; ion.destroy_server('\" + server_id + \"')\";\n",
       "      cell.notebook.kernel.execute(cmd);\n",
       "    }\n",
       "  }\n",
       "\n",
       "  /**\n",
       "   * Handle when a new output is added\n",
       "   */\n",
       "  function handleAddOutput(event, handle) {\n",
       "    var output_area = handle.output_area;\n",
       "    var output = handle.output;\n",
       "\n",
       "    // limit handleAddOutput to display_data with EXEC_MIME_TYPE content only\n",
       "    if ((output.output_type != \"display_data\") || (!output.data.hasOwnProperty(EXEC_MIME_TYPE))) {\n",
       "      return\n",
       "    }\n",
       "\n",
       "    var toinsert = output_area.element.find(\".\" + CLASS_NAME.split(' ')[0]);\n",
       "\n",
       "    if (output.metadata[EXEC_MIME_TYPE][\"id\"] !== undefined) {\n",
       "      toinsert[toinsert.length - 1].firstChild.textContent = output.data[JS_MIME_TYPE];\n",
       "      // store reference to embed id on output_area\n",
       "      output_area._bokeh_element_id = output.metadata[EXEC_MIME_TYPE][\"id\"];\n",
       "    }\n",
       "    if (output.metadata[EXEC_MIME_TYPE][\"server_id\"] !== undefined) {\n",
       "      var bk_div = document.createElement(\"div\");\n",
       "      bk_div.innerHTML = output.data[HTML_MIME_TYPE];\n",
       "      var script_attrs = bk_div.children[0].attributes;\n",
       "      for (var i = 0; i < script_attrs.length; i++) {\n",
       "        toinsert[toinsert.length - 1].firstChild.setAttribute(script_attrs[i].name, script_attrs[i].value);\n",
       "      }\n",
       "      // store reference to server id on output_area\n",
       "      output_area._bokeh_server_id = output.metadata[EXEC_MIME_TYPE][\"server_id\"];\n",
       "    }\n",
       "  }\n",
       "\n",
       "  function register_renderer(events, OutputArea) {\n",
       "\n",
       "    function append_mime(data, metadata, element) {\n",
       "      // create a DOM node to render to\n",
       "      var toinsert = this.create_output_subarea(\n",
       "        metadata,\n",
       "        CLASS_NAME,\n",
       "        EXEC_MIME_TYPE\n",
       "      );\n",
       "      this.keyboard_manager.register_events(toinsert);\n",
       "      // Render to node\n",
       "      var props = {data: data, metadata: metadata[EXEC_MIME_TYPE]};\n",
       "      render(props, toinsert[toinsert.length - 1]);\n",
       "      element.append(toinsert);\n",
       "      return toinsert\n",
       "    }\n",
       "\n",
       "    /* Handle when an output is cleared or removed */\n",
       "    events.on('clear_output.CodeCell', handleClearOutput);\n",
       "    events.on('delete.Cell', handleClearOutput);\n",
       "\n",
       "    /* Handle when a new output is added */\n",
       "    events.on('output_added.OutputArea', handleAddOutput);\n",
       "\n",
       "    /**\n",
       "     * Register the mime type and append_mime function with output_area\n",
       "     */\n",
       "    OutputArea.prototype.register_mime_type(EXEC_MIME_TYPE, append_mime, {\n",
       "      /* Is output safe? */\n",
       "      safe: true,\n",
       "      /* Index of renderer in `output_area.display_order` */\n",
       "      index: 0\n",
       "    });\n",
       "  }\n",
       "\n",
       "  // register the mime type if in Jupyter Notebook environment and previously unregistered\n",
       "  if (root.Jupyter !== undefined) {\n",
       "    var events = require('base/js/events');\n",
       "    var OutputArea = require('notebook/js/outputarea').OutputArea;\n",
       "\n",
       "    if (OutputArea.prototype.mime_types().indexOf(EXEC_MIME_TYPE) == -1) {\n",
       "      register_renderer(events, OutputArea);\n",
       "    }\n",
       "  }\n",
       "\n",
       "  \n",
       "  if (typeof (root._bokeh_timeout) === \"undefined\" || force === true) {\n",
       "    root._bokeh_timeout = Date.now() + 5000;\n",
       "    root._bokeh_failed_load = false;\n",
       "  }\n",
       "\n",
       "  var NB_LOAD_WARNING = {'data': {'text/html':\n",
       "     \"<div style='background-color: #fdd'>\\n\"+\n",
       "     \"<p>\\n\"+\n",
       "     \"BokehJS does not appear to have successfully loaded. If loading BokehJS from CDN, this \\n\"+\n",
       "     \"may be due to a slow or bad network connection. Possible fixes:\\n\"+\n",
       "     \"</p>\\n\"+\n",
       "     \"<ul>\\n\"+\n",
       "     \"<li>re-rerun `output_notebook()` to attempt to load from CDN again, or</li>\\n\"+\n",
       "     \"<li>use INLINE resources instead, as so:</li>\\n\"+\n",
       "     \"</ul>\\n\"+\n",
       "     \"<code>\\n\"+\n",
       "     \"from bokeh.resources import INLINE\\n\"+\n",
       "     \"output_notebook(resources=INLINE)\\n\"+\n",
       "     \"</code>\\n\"+\n",
       "     \"</div>\"}};\n",
       "\n",
       "  function display_loaded() {\n",
       "    var el = document.getElementById(\"1001\");\n",
       "    if (el != null) {\n",
       "      el.textContent = \"BokehJS is loading...\";\n",
       "    }\n",
       "    if (root.Bokeh !== undefined) {\n",
       "      if (el != null) {\n",
       "        el.textContent = \"BokehJS \" + root.Bokeh.version + \" successfully loaded.\";\n",
       "      }\n",
       "    } else if (Date.now() < root._bokeh_timeout) {\n",
       "      setTimeout(display_loaded, 100)\n",
       "    }\n",
       "  }\n",
       "\n",
       "\n",
       "  function run_callbacks() {\n",
       "    try {\n",
       "      root._bokeh_onload_callbacks.forEach(function(callback) {\n",
       "        if (callback != null)\n",
       "          callback();\n",
       "      });\n",
       "    } finally {\n",
       "      delete root._bokeh_onload_callbacks\n",
       "    }\n",
       "    console.debug(\"Bokeh: all callbacks have finished\");\n",
       "  }\n",
       "\n",
       "  function load_libs(css_urls, js_urls, callback) {\n",
       "    if (css_urls == null) css_urls = [];\n",
       "    if (js_urls == null) js_urls = [];\n",
       "\n",
       "    root._bokeh_onload_callbacks.push(callback);\n",
       "    if (root._bokeh_is_loading > 0) {\n",
       "      console.debug(\"Bokeh: BokehJS is being loaded, scheduling callback at\", now());\n",
       "      return null;\n",
       "    }\n",
       "    if (js_urls == null || js_urls.length === 0) {\n",
       "      run_callbacks();\n",
       "      return null;\n",
       "    }\n",
       "    console.debug(\"Bokeh: BokehJS not loaded, scheduling load and callback at\", now());\n",
       "    root._bokeh_is_loading = css_urls.length + js_urls.length;\n",
       "\n",
       "    function on_load() {\n",
       "      root._bokeh_is_loading--;\n",
       "      if (root._bokeh_is_loading === 0) {\n",
       "        console.debug(\"Bokeh: all BokehJS libraries/stylesheets loaded\");\n",
       "        run_callbacks()\n",
       "      }\n",
       "    }\n",
       "\n",
       "    function on_error() {\n",
       "      console.error(\"failed to load \" + url);\n",
       "    }\n",
       "\n",
       "    for (var i = 0; i < css_urls.length; i++) {\n",
       "      var url = css_urls[i];\n",
       "      const element = document.createElement(\"link\");\n",
       "      element.onload = on_load;\n",
       "      element.onerror = on_error;\n",
       "      element.rel = \"stylesheet\";\n",
       "      element.type = \"text/css\";\n",
       "      element.href = url;\n",
       "      console.debug(\"Bokeh: injecting link tag for BokehJS stylesheet: \", url);\n",
       "      document.body.appendChild(element);\n",
       "    }\n",
       "\n",
       "    for (var i = 0; i < js_urls.length; i++) {\n",
       "      var url = js_urls[i];\n",
       "      var element = document.createElement('script');\n",
       "      element.onload = on_load;\n",
       "      element.onerror = on_error;\n",
       "      element.async = false;\n",
       "      element.src = url;\n",
       "      console.debug(\"Bokeh: injecting script tag for BokehJS library: \", url);\n",
       "      document.head.appendChild(element);\n",
       "    }\n",
       "  };var element = document.getElementById(\"1001\");\n",
       "  if (element == null) {\n",
       "    console.error(\"Bokeh: ERROR: autoload.js configured with elementid '1001' but no matching script tag was found. \")\n",
       "    return false;\n",
       "  }\n",
       "\n",
       "  function inject_raw_css(css) {\n",
       "    const element = document.createElement(\"style\");\n",
       "    element.appendChild(document.createTextNode(css));\n",
       "    document.body.appendChild(element);\n",
       "  }\n",
       "\n",
       "  \n",
       "  var js_urls = [\"https://cdn.pydata.org/bokeh/release/bokeh-1.4.0.min.js\", \"https://cdn.pydata.org/bokeh/release/bokeh-widgets-1.4.0.min.js\", \"https://cdn.pydata.org/bokeh/release/bokeh-tables-1.4.0.min.js\", \"https://cdn.pydata.org/bokeh/release/bokeh-gl-1.4.0.min.js\"];\n",
       "  var css_urls = [];\n",
       "  \n",
       "\n",
       "  var inline_js = [\n",
       "    function(Bokeh) {\n",
       "      Bokeh.set_log_level(\"info\");\n",
       "    },\n",
       "    function(Bokeh) {\n",
       "    \n",
       "    \n",
       "    }\n",
       "  ];\n",
       "\n",
       "  function run_inline_js() {\n",
       "    \n",
       "    if (root.Bokeh !== undefined || force === true) {\n",
       "      \n",
       "    for (var i = 0; i < inline_js.length; i++) {\n",
       "      inline_js[i].call(root, root.Bokeh);\n",
       "    }\n",
       "    if (force === true) {\n",
       "        display_loaded();\n",
       "      }} else if (Date.now() < root._bokeh_timeout) {\n",
       "      setTimeout(run_inline_js, 100);\n",
       "    } else if (!root._bokeh_failed_load) {\n",
       "      console.log(\"Bokeh: BokehJS failed to load within specified timeout.\");\n",
       "      root._bokeh_failed_load = true;\n",
       "    } else if (force !== true) {\n",
       "      var cell = $(document.getElementById(\"1001\")).parents('.cell').data().cell;\n",
       "      cell.output_area.append_execute_result(NB_LOAD_WARNING)\n",
       "    }\n",
       "\n",
       "  }\n",
       "\n",
       "  if (root._bokeh_is_loading === 0) {\n",
       "    console.debug(\"Bokeh: BokehJS loaded, going straight to plotting\");\n",
       "    run_inline_js();\n",
       "  } else {\n",
       "    load_libs(css_urls, js_urls, function() {\n",
       "      console.debug(\"Bokeh: BokehJS plotting callback run at\", now());\n",
       "      run_inline_js();\n",
       "    });\n",
       "  }\n",
       "}(window));"
      ],
      "application/vnd.bokehjs_load.v0+json": "\n(function(root) {\n  function now() {\n    return new Date();\n  }\n\n  var force = true;\n\n  if (typeof root._bokeh_onload_callbacks === \"undefined\" || force === true) {\n    root._bokeh_onload_callbacks = [];\n    root._bokeh_is_loading = undefined;\n  }\n\n  \n\n  \n  if (typeof (root._bokeh_timeout) === \"undefined\" || force === true) {\n    root._bokeh_timeout = Date.now() + 5000;\n    root._bokeh_failed_load = false;\n  }\n\n  var NB_LOAD_WARNING = {'data': {'text/html':\n     \"<div style='background-color: #fdd'>\\n\"+\n     \"<p>\\n\"+\n     \"BokehJS does not appear to have successfully loaded. If loading BokehJS from CDN, this \\n\"+\n     \"may be due to a slow or bad network connection. Possible fixes:\\n\"+\n     \"</p>\\n\"+\n     \"<ul>\\n\"+\n     \"<li>re-rerun `output_notebook()` to attempt to load from CDN again, or</li>\\n\"+\n     \"<li>use INLINE resources instead, as so:</li>\\n\"+\n     \"</ul>\\n\"+\n     \"<code>\\n\"+\n     \"from bokeh.resources import INLINE\\n\"+\n     \"output_notebook(resources=INLINE)\\n\"+\n     \"</code>\\n\"+\n     \"</div>\"}};\n\n  function display_loaded() {\n    var el = document.getElementById(\"1001\");\n    if (el != null) {\n      el.textContent = \"BokehJS is loading...\";\n    }\n    if (root.Bokeh !== undefined) {\n      if (el != null) {\n        el.textContent = \"BokehJS \" + root.Bokeh.version + \" successfully loaded.\";\n      }\n    } else if (Date.now() < root._bokeh_timeout) {\n      setTimeout(display_loaded, 100)\n    }\n  }\n\n\n  function run_callbacks() {\n    try {\n      root._bokeh_onload_callbacks.forEach(function(callback) {\n        if (callback != null)\n          callback();\n      });\n    } finally {\n      delete root._bokeh_onload_callbacks\n    }\n    console.debug(\"Bokeh: all callbacks have finished\");\n  }\n\n  function load_libs(css_urls, js_urls, callback) {\n    if (css_urls == null) css_urls = [];\n    if (js_urls == null) js_urls = [];\n\n    root._bokeh_onload_callbacks.push(callback);\n    if (root._bokeh_is_loading > 0) {\n      console.debug(\"Bokeh: BokehJS is being loaded, scheduling callback at\", now());\n      return null;\n    }\n    if (js_urls == null || js_urls.length === 0) {\n      run_callbacks();\n      return null;\n    }\n    console.debug(\"Bokeh: BokehJS not loaded, scheduling load and callback at\", now());\n    root._bokeh_is_loading = css_urls.length + js_urls.length;\n\n    function on_load() {\n      root._bokeh_is_loading--;\n      if (root._bokeh_is_loading === 0) {\n        console.debug(\"Bokeh: all BokehJS libraries/stylesheets loaded\");\n        run_callbacks()\n      }\n    }\n\n    function on_error() {\n      console.error(\"failed to load \" + url);\n    }\n\n    for (var i = 0; i < css_urls.length; i++) {\n      var url = css_urls[i];\n      const element = document.createElement(\"link\");\n      element.onload = on_load;\n      element.onerror = on_error;\n      element.rel = \"stylesheet\";\n      element.type = \"text/css\";\n      element.href = url;\n      console.debug(\"Bokeh: injecting link tag for BokehJS stylesheet: \", url);\n      document.body.appendChild(element);\n    }\n\n    for (var i = 0; i < js_urls.length; i++) {\n      var url = js_urls[i];\n      var element = document.createElement('script');\n      element.onload = on_load;\n      element.onerror = on_error;\n      element.async = false;\n      element.src = url;\n      console.debug(\"Bokeh: injecting script tag for BokehJS library: \", url);\n      document.head.appendChild(element);\n    }\n  };var element = document.getElementById(\"1001\");\n  if (element == null) {\n    console.error(\"Bokeh: ERROR: autoload.js configured with elementid '1001' but no matching script tag was found. \")\n    return false;\n  }\n\n  function inject_raw_css(css) {\n    const element = document.createElement(\"style\");\n    element.appendChild(document.createTextNode(css));\n    document.body.appendChild(element);\n  }\n\n  \n  var js_urls = [\"https://cdn.pydata.org/bokeh/release/bokeh-1.4.0.min.js\", \"https://cdn.pydata.org/bokeh/release/bokeh-widgets-1.4.0.min.js\", \"https://cdn.pydata.org/bokeh/release/bokeh-tables-1.4.0.min.js\", \"https://cdn.pydata.org/bokeh/release/bokeh-gl-1.4.0.min.js\"];\n  var css_urls = [];\n  \n\n  var inline_js = [\n    function(Bokeh) {\n      Bokeh.set_log_level(\"info\");\n    },\n    function(Bokeh) {\n    \n    \n    }\n  ];\n\n  function run_inline_js() {\n    \n    if (root.Bokeh !== undefined || force === true) {\n      \n    for (var i = 0; i < inline_js.length; i++) {\n      inline_js[i].call(root, root.Bokeh);\n    }\n    if (force === true) {\n        display_loaded();\n      }} else if (Date.now() < root._bokeh_timeout) {\n      setTimeout(run_inline_js, 100);\n    } else if (!root._bokeh_failed_load) {\n      console.log(\"Bokeh: BokehJS failed to load within specified timeout.\");\n      root._bokeh_failed_load = true;\n    } else if (force !== true) {\n      var cell = $(document.getElementById(\"1001\")).parents('.cell').data().cell;\n      cell.output_area.append_execute_result(NB_LOAD_WARNING)\n    }\n\n  }\n\n  if (root._bokeh_is_loading === 0) {\n    console.debug(\"Bokeh: BokehJS loaded, going straight to plotting\");\n    run_inline_js();\n  } else {\n    load_libs(css_urls, js_urls, function() {\n      console.debug(\"Bokeh: BokehJS plotting callback run at\", now());\n      run_inline_js();\n    });\n  }\n}(window));"
     },
     "metadata": {},
     "output_type": "display_data"
    }
   ],
   "source": [
    "bokeh_io.output_notebook()"
   ]
  },
  {
   "cell_type": "code",
   "execution_count": 4,
   "metadata": {
    "scrolled": true
   },
   "outputs": [
    {
     "data": {
      "image/png": "[encoded data removed]",
      "text/plain": [
       "<Figure size 576x576 with 1 Axes>"
      ]
     },
     "metadata": {
      "needs_background": "light"
     },
     "output_type": "display_data"
    }
   ],
   "source": [
    "def polynomify(x: torch.Tensor, deg: int):\n",
    "    X = torch.empty(len(x), deg)\n",
    "    for i in range(deg):\n",
    "        X[:,i] = x ** (deg-i-1)\n",
    "    return X\n",
    "\n",
    "n_obs = 100\n",
    "x = torch.linspace(-1, 3, n_obs)\n",
    "# w = torch.tensor([2., 1., 10.])\n",
    "w = torch.tensor([-2, 5, 2.])\n",
    "deg = len(w)\n",
    "X = polynomify(x, deg)\n",
    "y_err = stats.norm(loc=0, scale=.1).rvs(size=x.shape[0])\n",
    "y_err = torch.from_numpy(y_err)\n",
    "y_fun = lambda x: x@w# + y_err\n",
    "\n",
    "y = y_fun(X)\n",
    "figsize = (8,8)\n",
    "fig, ax = plt.subplots(figsize=figsize)\n",
    "ax.plot(x, y, \".\", label=\"data\")\n",
    "ax.set_xlabel(\"x\")\n",
    "ax.set_ylabel(\"y\")\n",
    "# ax.set_aspect(\"equal\")\n",
    "ax.legend()\n",
    "plt.show()"
   ]
  },
  {
   "cell_type": "code",
   "execution_count": 5,
   "metadata": {
    "scrolled": true
   },
   "outputs": [
    {
     "data": {
      "text/plain": [
       "(tensor([-1.0000, -0.9596, -0.9192, -0.8788, -0.8384, -0.7980, -0.7576, -0.7172,\n",
       "         -0.6768, -0.6364, -0.5960, -0.5556, -0.5152, -0.4747, -0.4343, -0.3939,\n",
       "         -0.3535, -0.3131, -0.2727, -0.2323, -0.1919, -0.1515, -0.1111, -0.0707,\n",
       "         -0.0303,  0.0101,  0.0505,  0.0909,  0.1313,  0.1717,  0.2121,  0.2525,\n",
       "          0.2929,  0.3333,  0.3737,  0.4141,  0.4545,  0.4949,  0.5354,  0.5758,\n",
       "          0.6162,  0.6566,  0.6970,  0.7374,  0.7778,  0.8182,  0.8586,  0.8990,\n",
       "          0.9394,  0.9798,  1.0202,  1.0606,  1.1010,  1.1414,  1.1818,  1.2222,\n",
       "          1.2626,  1.3030,  1.3434,  1.3838,  1.4242,  1.4646,  1.5051,  1.5455,\n",
       "          1.5859,  1.6263,  1.6667,  1.7071,  1.7475,  1.7879,  1.8283,  1.8687,\n",
       "          1.9091,  1.9495,  1.9899,  2.0303,  2.0707,  2.1111,  2.1515,  2.1919,\n",
       "          2.2323,  2.2727,  2.3131,  2.3535,  2.3939,  2.4343,  2.4747,  2.5152,\n",
       "          2.5556,  2.5960,  2.6364,  2.6768,  2.7172,  2.7576,  2.7980,  2.8384,\n",
       "          2.8788,  2.9192,  2.9596,  3.0000]),\n",
       " tensor([-5.0000, -4.6396, -4.2858, -3.9385, -3.5977, -3.2634, -2.9357, -2.6145,\n",
       "         -2.2999, -1.9917, -1.6901, -1.3951, -1.1065, -0.8245, -0.5490, -0.2801,\n",
       "         -0.0177,  0.2382,  0.4876,  0.7304,  0.9667,  1.1965,  1.4198,  1.6365,\n",
       "          1.8466,  2.0503,  2.2474,  2.4380,  2.6221,  2.7996,  2.9706,  3.1351,\n",
       "          3.2930,  3.4444,  3.5893,  3.7277,  3.8595,  3.9848,  4.1036,  4.2158,\n",
       "          4.3215,  4.4207,  4.5133,  4.5994,  4.6790,  4.7521,  4.8186,  4.8786,\n",
       "          4.9320,  4.9790,  5.0194,  5.0533,  5.0806,  5.1014,  5.1157,  5.1235,\n",
       "          5.1247,  5.1194,  5.1075,  5.0892,  5.0643,  5.0329,  4.9949,  4.9504,\n",
       "          4.8994,  4.8419,  4.7778,  4.7072,  4.6300,  4.5464,  4.4562,  4.3595,\n",
       "          4.2562,  4.1464,  4.0301,  3.9073,  3.7779,  3.6420,  3.4995,  3.3506,\n",
       "          3.1951,  3.0331,  2.8645,  2.6894,  2.5078,  2.3197,  2.1250,  1.9238,\n",
       "          1.7160,  1.5018,  1.2810,  1.0537,  0.8198,  0.5794,  0.3325,  0.0791,\n",
       "         -0.1809, -0.4474, -0.7204, -1.0000]),\n",
       " tensor([[ 1.0000e+00, -1.0000e+00,  1.0000e+00],\n",
       "         [ 9.2082e-01, -9.5960e-01,  1.0000e+00],\n",
       "         [ 8.4491e-01, -9.1919e-01,  1.0000e+00],\n",
       "         [ 7.7227e-01, -8.7879e-01,  1.0000e+00],\n",
       "         [ 7.0289e-01, -8.3838e-01,  1.0000e+00],\n",
       "         [ 6.3677e-01, -7.9798e-01,  1.0000e+00],\n",
       "         [ 5.7392e-01, -7.5758e-01,  1.0000e+00],\n",
       "         [ 5.1434e-01, -7.1717e-01,  1.0000e+00],\n",
       "         [ 4.5801e-01, -6.7677e-01,  1.0000e+00],\n",
       "         [ 4.0496e-01, -6.3636e-01,  1.0000e+00],\n",
       "         [ 3.5517e-01, -5.9596e-01,  1.0000e+00],\n",
       "         [ 3.0864e-01, -5.5556e-01,  1.0000e+00],\n",
       "         [ 2.6538e-01, -5.1515e-01,  1.0000e+00],\n",
       "         [ 2.2539e-01, -4.7475e-01,  1.0000e+00],\n",
       "         [ 1.8865e-01, -4.3434e-01,  1.0000e+00],\n",
       "         [ 1.5519e-01, -3.9394e-01,  1.0000e+00],\n",
       "         [ 1.2499e-01, -3.5354e-01,  1.0000e+00],\n",
       "         [ 9.8051e-02, -3.1313e-01,  1.0000e+00],\n",
       "         [ 7.4380e-02, -2.7273e-01,  1.0000e+00],\n",
       "         [ 5.3974e-02, -2.3232e-01,  1.0000e+00],\n",
       "         [ 3.6833e-02, -1.9192e-01,  1.0000e+00],\n",
       "         [ 2.2957e-02, -1.5152e-01,  1.0000e+00],\n",
       "         [ 1.2346e-02, -1.1111e-01,  1.0000e+00],\n",
       "         [ 4.9995e-03, -7.0707e-02,  1.0000e+00],\n",
       "         [ 9.1827e-04, -3.0303e-02,  1.0000e+00],\n",
       "         [ 1.0203e-04,  1.0101e-02,  1.0000e+00],\n",
       "         [ 2.5508e-03,  5.0505e-02,  1.0000e+00],\n",
       "         [ 8.2645e-03,  9.0909e-02,  1.0000e+00],\n",
       "         [ 1.7243e-02,  1.3131e-01,  1.0000e+00],\n",
       "         [ 2.9487e-02,  1.7172e-01,  1.0000e+00],\n",
       "         [ 4.4995e-02,  2.1212e-01,  1.0000e+00],\n",
       "         [ 6.3769e-02,  2.5253e-01,  1.0000e+00],\n",
       "         [ 8.5808e-02,  2.9293e-01,  1.0000e+00],\n",
       "         [ 1.1111e-01,  3.3333e-01,  1.0000e+00],\n",
       "         [ 1.3968e-01,  3.7374e-01,  1.0000e+00],\n",
       "         [ 1.7151e-01,  4.1414e-01,  1.0000e+00],\n",
       "         [ 2.0661e-01,  4.5455e-01,  1.0000e+00],\n",
       "         [ 2.4497e-01,  4.9495e-01,  1.0000e+00],\n",
       "         [ 2.8660e-01,  5.3535e-01,  1.0000e+00],\n",
       "         [ 3.3150e-01,  5.7576e-01,  1.0000e+00],\n",
       "         [ 3.7966e-01,  6.1616e-01,  1.0000e+00],\n",
       "         [ 4.3108e-01,  6.5657e-01,  1.0000e+00],\n",
       "         [ 4.8577e-01,  6.9697e-01,  1.0000e+00],\n",
       "         [ 5.4372e-01,  7.3737e-01,  1.0000e+00],\n",
       "         [ 6.0494e-01,  7.7778e-01,  1.0000e+00],\n",
       "         [ 6.6942e-01,  8.1818e-01,  1.0000e+00],\n",
       "         [ 7.3717e-01,  8.5859e-01,  1.0000e+00],\n",
       "         [ 8.0818e-01,  8.9899e-01,  1.0000e+00],\n",
       "         [ 8.8246e-01,  9.3939e-01,  1.0000e+00],\n",
       "         [ 9.6000e-01,  9.7980e-01,  1.0000e+00],\n",
       "         [ 1.0408e+00,  1.0202e+00,  1.0000e+00],\n",
       "         [ 1.1249e+00,  1.0606e+00,  1.0000e+00],\n",
       "         [ 1.2122e+00,  1.1010e+00,  1.0000e+00],\n",
       "         [ 1.3028e+00,  1.1414e+00,  1.0000e+00],\n",
       "         [ 1.3967e+00,  1.1818e+00,  1.0000e+00],\n",
       "         [ 1.4938e+00,  1.2222e+00,  1.0000e+00],\n",
       "         [ 1.5942e+00,  1.2626e+00,  1.0000e+00],\n",
       "         [ 1.6979e+00,  1.3030e+00,  1.0000e+00],\n",
       "         [ 1.8048e+00,  1.3434e+00,  1.0000e+00],\n",
       "         [ 1.9150e+00,  1.3838e+00,  1.0000e+00],\n",
       "         [ 2.0285e+00,  1.4242e+00,  1.0000e+00],\n",
       "         [ 2.1452e+00,  1.4646e+00,  1.0000e+00],\n",
       "         [ 2.2652e+00,  1.5051e+00,  1.0000e+00],\n",
       "         [ 2.3884e+00,  1.5455e+00,  1.0000e+00],\n",
       "         [ 2.5149e+00,  1.5859e+00,  1.0000e+00],\n",
       "         [ 2.6447e+00,  1.6263e+00,  1.0000e+00],\n",
       "         [ 2.7778e+00,  1.6667e+00,  1.0000e+00],\n",
       "         [ 2.9141e+00,  1.7071e+00,  1.0000e+00],\n",
       "         [ 3.0537e+00,  1.7475e+00,  1.0000e+00],\n",
       "         [ 3.1965e+00,  1.7879e+00,  1.0000e+00],\n",
       "         [ 3.3426e+00,  1.8283e+00,  1.0000e+00],\n",
       "         [ 3.4920e+00,  1.8687e+00,  1.0000e+00],\n",
       "         [ 3.6446e+00,  1.9091e+00,  1.0000e+00],\n",
       "         [ 3.8005e+00,  1.9495e+00,  1.0000e+00],\n",
       "         [ 3.9597e+00,  1.9899e+00,  1.0000e+00],\n",
       "         [ 4.1221e+00,  2.0303e+00,  1.0000e+00],\n",
       "         [ 4.2878e+00,  2.0707e+00,  1.0000e+00],\n",
       "         [ 4.4568e+00,  2.1111e+00,  1.0000e+00],\n",
       "         [ 4.6290e+00,  2.1515e+00,  1.0000e+00],\n",
       "         [ 4.8045e+00,  2.1919e+00,  1.0000e+00],\n",
       "         [ 4.9833e+00,  2.2323e+00,  1.0000e+00],\n",
       "         [ 5.1653e+00,  2.2727e+00,  1.0000e+00],\n",
       "         [ 5.3506e+00,  2.3131e+00,  1.0000e+00],\n",
       "         [ 5.5391e+00,  2.3535e+00,  1.0000e+00],\n",
       "         [ 5.7309e+00,  2.3939e+00,  1.0000e+00],\n",
       "         [ 5.9260e+00,  2.4343e+00,  1.0000e+00],\n",
       "         [ 6.1244e+00,  2.4747e+00,  1.0000e+00],\n",
       "         [ 6.3260e+00,  2.5152e+00,  1.0000e+00],\n",
       "         [ 6.5309e+00,  2.5556e+00,  1.0000e+00],\n",
       "         [ 6.7390e+00,  2.5960e+00,  1.0000e+00],\n",
       "         [ 6.9504e+00,  2.6364e+00,  1.0000e+00],\n",
       "         [ 7.1651e+00,  2.6768e+00,  1.0000e+00],\n",
       "         [ 7.3830e+00,  2.7172e+00,  1.0000e+00],\n",
       "         [ 7.6042e+00,  2.7576e+00,  1.0000e+00],\n",
       "         [ 7.8287e+00,  2.7980e+00,  1.0000e+00],\n",
       "         [ 8.0564e+00,  2.8384e+00,  1.0000e+00],\n",
       "         [ 8.2874e+00,  2.8788e+00,  1.0000e+00],\n",
       "         [ 8.5217e+00,  2.9192e+00,  1.0000e+00],\n",
       "         [ 8.7592e+00,  2.9596e+00,  1.0000e+00],\n",
       "         [ 9.0000e+00,  3.0000e+00,  1.0000e+00]]))"
      ]
     },
     "execution_count": 5,
     "metadata": {},
     "output_type": "execute_result"
    }
   ],
   "source": [
    "x, y, X"
   ]
  },
  {
   "cell_type": "code",
   "execution_count": 6,
   "metadata": {},
   "outputs": [],
   "source": [
    "def MSELoss(pred, truth):\n",
    "    Δ = pred - truth\n",
    "    Δ2 = Δ * Δ\n",
    "    return Δ2.mean()"
   ]
  },
  {
   "cell_type": "code",
   "execution_count": 7,
   "metadata": {},
   "outputs": [
    {
     "data": {
      "text/plain": [
       "tensor(0.)"
      ]
     },
     "execution_count": 7,
     "metadata": {},
     "output_type": "execute_result"
    }
   ],
   "source": [
    "MSELoss(X@w, y)"
   ]
  },
  {
   "cell_type": "code",
   "execution_count": 8,
   "metadata": {},
   "outputs": [
    {
     "name": "stdout",
     "output_type": "stream",
     "text": [
      "torch.Size([80]) torch.Size([20])\n"
     ]
    }
   ],
   "source": [
    "def get_split_indices(n: int, val_pct: float = .2):\n",
    "    val_pct = .2\n",
    "    n_val = int(n*val_pct)\n",
    "    ix = torch.randperm(n) \n",
    "    return ix[n_val:], ix[:n_val]\n",
    "\n",
    "ix_train, ix_val = get_split_indices(n_obs, val_pct=.2)\n",
    "print(ix_train.size(), ix_val.size())"
   ]
  },
  {
   "cell_type": "markdown",
   "metadata": {},
   "source": [
    "## Custom data set and data loader"
   ]
  },
  {
   "cell_type": "code",
   "execution_count": 9,
   "metadata": {},
   "outputs": [],
   "source": [
    "class XYDataset:\n",
    "    \"Basic data storage\"\n",
    "    def __init__(self, x: torch.tensor, y: torch.tensor):\n",
    "        self.x = x\n",
    "        self.y = y\n",
    "        \n",
    "    def __len__(self):\n",
    "        return len(self.x)\n",
    "    \n",
    "    def __getitem__(self, i):\n",
    "        return self.x[i], self.y[i]\n",
    "    \n",
    "\n",
    "def noisify(xy, device=\"cpu\", std_x=.1, std_y=.1):\n",
    "    x, y = xy\n",
    "    if not torch.is_tensor(x):\n",
    "        x = torch.from_numpy(x).clone().to(device)\n",
    "    if not torch.is_tensor(y):\n",
    "        y = torch.from_numpy(y).clone().to(device)\n",
    "    \n",
    "    \n",
    "    dx = torch.normal(mean=0., std=std_x, size=x.size()).to(device)\n",
    "    dy = torch.normal(mean=0., std=std_x, size=y.size()).to(device)\n",
    "    return x + dx, y + dy\n",
    "\n",
    "\n",
    "def random_order(end, bs):\n",
    "    ix = torch.randperm(end)\n",
    "    for i in range(0, end, bs):\n",
    "        yield ix[i:i+bs]\n",
    "        \n",
    "def boring_order(end, bs):\n",
    "    ix = torch.arange(end)\n",
    "    for i in range(0, end, bs):\n",
    "        yield ix[i:i+bs]\n",
    "        \n",
    "    \n",
    "class XYDataLoader:\n",
    "    \"Provides an iterator (plus sampler) and transforms over stored data\"\n",
    "    def __init__(self, ds: XYDataset, bs: int = 1, sampler_callback: callable = None, trafos: List[callable]=None):\n",
    "        self.ds = ds\n",
    "        self.bs = bs\n",
    "        self.sampler = sampler_callback if sampler_callback is not None else boring_order\n",
    "        self.trafos = trafos\n",
    "        \n",
    "    def transform_batch(self, batch):\n",
    "        if self.trafos is not None:\n",
    "            for trafo in self.trafos:\n",
    "                batch = trafo(batch)\n",
    "        return batch\n",
    "        \n",
    "    def __iter__(self):\n",
    "        for s in self.sampler(len(self.ds), self.bs):\n",
    "            yield self.transform_batch(self.ds[s])\n",
    "\n",
    "\n",
    "class XYDatabunch:\n",
    "    \"Bunches different data loaders\"\n",
    "    g: dict = {\"train\": None, \"valid\": None}\n",
    "    \n",
    "    def __init__(self, dl_train: XYDataLoader, dl_valid: XYDataLoader):\n",
    "        self.dl_train = dl_train\n",
    "        self.dl_valid = dl_valid\n",
    "        \n",
    "    def one_batch(self):\n",
    "        return self.get_data(kind=\"train\")\n",
    "    \n",
    "    def get_data(self, kind: str = \"train\", flag_end=False):\n",
    "        assert kind in self.g\n",
    "        get_iterator = lambda x: iter(getattr(self, f\"dl_{x}\"))\n",
    "        if self.g[kind] is None: \n",
    "            self.g[kind] = get_iterator(kind)\n",
    "        try:\n",
    "            if flag_end:\n",
    "                return next(self.g[kind]), False\n",
    "            return next(self.g[kind])\n",
    "        except StopIteration:\n",
    "            print(f\"Reached the limit of the {kind} data set, restarting.\")\n",
    "            self.g[kind] = get_iterator(kind)\n",
    "            if flag_end:\n",
    "                return next(self.g[kind]), True\n",
    "            return next(self.g[kind])\n",
    "            \n",
    "\n",
    "bs_train, bs_valid = 20, 10\n",
    "ds_train = XYDataset(X[ix_train], y[ix_train])\n",
    "ds_valid = XYDataset(X[ix_val], y[ix_val])\n",
    "dl_train = XYDataLoader(ds_train, bs=bs_train, sampler_callback=random_order, # random_order boring_order\n",
    "                        trafos=None)  # [partial(noisify, std_x=.001)]\n",
    "dl_valid = XYDataLoader(ds_valid, bs=bs_valid, sampler_callback=random_order, \n",
    "                        trafos=None)  # [partial(noisify, std_x=.001)]\n",
    "db = XYDatabunch(dl_train, dl_valid)"
   ]
  },
  {
   "cell_type": "code",
   "execution_count": 10,
   "metadata": {},
   "outputs": [
    {
     "name": "stdout",
     "output_type": "stream",
     "text": [
      "((tensor([[ 1.3967,  1.1818,  1.0000],\n",
      "        [ 8.2874,  2.8788,  1.0000],\n",
      "        [ 5.3506,  2.3131,  1.0000],\n",
      "        [ 2.1452,  1.4646,  1.0000],\n",
      "        [ 0.0123, -0.1111,  1.0000],\n",
      "        [ 0.0981, -0.3131,  1.0000],\n",
      "        [ 0.1887, -0.4343,  1.0000],\n",
      "        [ 1.9150,  1.3838,  1.0000],\n",
      "        [ 0.3552, -0.5960,  1.0000],\n",
      "        [ 1.4938,  1.2222,  1.0000],\n",
      "        [ 2.3884,  1.5455,  1.0000],\n",
      "        [ 0.2254, -0.4747,  1.0000],\n",
      "        [ 0.6368, -0.7980,  1.0000],\n",
      "        [ 7.6042,  2.7576,  1.0000],\n",
      "        [ 0.0230, -0.1515,  1.0000],\n",
      "        [ 4.9833,  2.2323,  1.0000],\n",
      "        [ 1.8048,  1.3434,  1.0000],\n",
      "        [ 1.1249,  1.0606,  1.0000],\n",
      "        [ 0.6694,  0.8182,  1.0000],\n",
      "        [ 6.9504,  2.6364,  1.0000]]), tensor([ 5.1157, -0.1809,  2.8645,  5.0329,  1.4198,  0.2382, -0.5490,  5.0892,\n",
      "        -1.6901,  5.1235,  4.9504, -0.8245, -3.2634,  0.5794,  1.1965,  3.1951,\n",
      "         5.1075,  5.0533,  4.7521,  1.2810])), False)\n"
     ]
    }
   ],
   "source": [
    "print(db.get_data(\"train\", flag_end=True))"
   ]
  },
  {
   "cell_type": "code",
   "execution_count": 11,
   "metadata": {},
   "outputs": [
    {
     "data": {
      "text/plain": [
       "(tensor([[ 1.7151e-01,  4.1414e-01,  1.0000e+00],\n",
       "         [ 8.8246e-01,  9.3939e-01,  1.0000e+00],\n",
       "         [ 4.8045e+00,  2.1919e+00,  1.0000e+00],\n",
       "         [ 4.1221e+00,  2.0303e+00,  1.0000e+00],\n",
       "         [ 2.9487e-02,  1.7172e-01,  1.0000e+00],\n",
       "         [ 4.8577e-01,  6.9697e-01,  1.0000e+00],\n",
       "         [ 1.0203e-04,  1.0101e-02,  1.0000e+00],\n",
       "         [ 9.0000e+00,  3.0000e+00,  1.0000e+00],\n",
       "         [ 3.6833e-02, -1.9192e-01,  1.0000e+00],\n",
       "         [ 5.7309e+00,  2.3939e+00,  1.0000e+00],\n",
       "         [ 1.2499e-01, -3.5354e-01,  1.0000e+00],\n",
       "         [ 7.1651e+00,  2.6768e+00,  1.0000e+00],\n",
       "         [ 8.4491e-01, -9.1919e-01,  1.0000e+00],\n",
       "         [ 7.3830e+00,  2.7172e+00,  1.0000e+00],\n",
       "         [ 4.4995e-02,  2.1212e-01,  1.0000e+00],\n",
       "         [ 8.5808e-02,  2.9293e-01,  1.0000e+00],\n",
       "         [ 1.1111e-01,  3.3333e-01,  1.0000e+00],\n",
       "         [ 3.6446e+00,  1.9091e+00,  1.0000e+00],\n",
       "         [ 2.6447e+00,  1.6263e+00,  1.0000e+00],\n",
       "         [ 6.3260e+00,  2.5152e+00,  1.0000e+00]]),\n",
       " tensor([ 3.7277,  4.9320,  3.3506,  3.9073,  2.7996,  4.5133,  2.0503, -1.0000,\n",
       "          0.9667,  2.5078, -0.0177,  1.0537, -4.2858,  0.8198,  2.9706,  3.2930,\n",
       "          3.4444,  4.2562,  4.8419,  1.9238]))"
      ]
     },
     "execution_count": 11,
     "metadata": {},
     "output_type": "execute_result"
    }
   ],
   "source": [
    "db.one_batch()"
   ]
  },
  {
   "cell_type": "code",
   "execution_count": 12,
   "metadata": {},
   "outputs": [
    {
     "name": "stdout",
     "output_type": "stream",
     "text": [
      "(tensor([[ 0.4311,  0.6566,  1.0000],\n",
      "        [ 2.9141,  1.7071,  1.0000],\n",
      "        [ 2.2652,  1.5051,  1.0000],\n",
      "        [ 3.9597,  1.9899,  1.0000],\n",
      "        [ 0.3315,  0.5758,  1.0000],\n",
      "        [ 5.9260,  2.4343,  1.0000],\n",
      "        [ 8.0564,  2.8384,  1.0000],\n",
      "        [ 0.7723, -0.8788,  1.0000],\n",
      "        [ 0.7029, -0.8384,  1.0000],\n",
      "        [ 0.4580, -0.6768,  1.0000]]), tensor([ 4.4207,  4.7072,  4.9949,  4.0301,  4.2158,  2.3197,  0.0791, -3.9385,\n",
      "        -3.5977, -2.2999]))\n"
     ]
    }
   ],
   "source": [
    "print(db.get_data(\"valid\"))"
   ]
  },
  {
   "cell_type": "code",
   "execution_count": 13,
   "metadata": {
    "scrolled": true
   },
   "outputs": [
    {
     "name": "stdout",
     "output_type": "stream",
     "text": [
      "Reached the limit of the train data set, restarting.\n",
      "Reached the limit of the valid data set, restarting.\n",
      "Reached the limit of the valid data set, restarting.\n"
     ]
    },
    {
     "data": {
      "image/png": "[encoded data removed]",
      "text/plain": [
       "<Figure size 576x576 with 1 Axes>"
      ]
     },
     "metadata": {
      "needs_background": "light"
     },
     "output_type": "display_data"
    }
   ],
   "source": [
    "fig, ax = plt.subplots(figsize=figsize)\n",
    "for _ in range(5):\n",
    "    _x, _y = db.get_data(\"train\")\n",
    "    h_train, = ax.plot(_x[:, -2], _y, \"go\", label=\"train\", alpha=.7)\n",
    "for _ in range(5):\n",
    "    _x, _y = db.get_data(\"valid\")\n",
    "    h_valid, = ax.plot(_x[:, -2], _y, \"ro\", label=\"validation\", alpha=.7)\n",
    "    \n",
    "h_ori, = ax.plot(x, y, \"kx\", label=\"original\")\n",
    "ax.set_title(f\"Original data vs from {db.__class__}\", fontsize=18)\n",
    "ax.legend(handles=[h_train, h_valid, h_ori], title=\"source\")\n",
    "plt.show()"
   ]
  },
  {
   "cell_type": "code",
   "execution_count": 14,
   "metadata": {},
   "outputs": [],
   "source": [
    "class LinearModel:\n",
    "    \n",
    "    def __init__(self, w: torch.Tensor=None, deg: int = None):\n",
    "        assert w is not None or deg is not None\n",
    "        self.w = torch.nn.Parameter(torch.randn(deg)) if w is None else torch.nn.Parameter(w)\n",
    "        self.lin = lambda X: X @ self.w\n",
    "        \n",
    "    def __call__(self, x):\n",
    "        return self.forward(x)\n",
    "            \n",
    "    def forward(self, x):\n",
    "        return self.lin(x)"
   ]
  },
  {
   "cell_type": "code",
   "execution_count": 15,
   "metadata": {},
   "outputs": [
    {
     "data": {
      "text/plain": [
       "tensor([ 4.7778,  1.8466,  5.1235, -1.6901,  4.4562,  3.7277,  2.7996, -1.0000,\n",
       "         5.0643,  2.8645,  0.2382,  0.3325, -1.9917,  1.4198,  4.9504,  5.1194,\n",
       "         4.9790,  2.1250,  1.2810, -0.7204], grad_fn=<MvBackward>)"
      ]
     },
     "execution_count": 15,
     "metadata": {},
     "output_type": "execute_result"
    }
   ],
   "source": [
    "lm_ori = LinearModel(w=w)\n",
    "lm_ori(db.get_data(\"train\")[0])"
   ]
  },
  {
   "cell_type": "code",
   "execution_count": 16,
   "metadata": {},
   "outputs": [
    {
     "data": {
      "text/plain": [
       "tensor(0., grad_fn=<MeanBackward0>)"
      ]
     },
     "execution_count": 16,
     "metadata": {},
     "output_type": "execute_result"
    }
   ],
   "source": [
    "MSELoss(lm_ori(X), y)"
   ]
  },
  {
   "cell_type": "code",
   "execution_count": 171,
   "metadata": {},
   "outputs": [],
   "source": [
    "class Optimizer:\n",
    "    \n",
    "    name: str = None\n",
    "    hyper_params: dict = None\n",
    "    model_params = None\n",
    "    \n",
    "    def __init__(self, model_params, name=\"optimizer\", **hyper_params):\n",
    "        self.name = name\n",
    "        self.hyper_params = hyper_params\n",
    "        self.model_params = model_params\n",
    "        \n",
    "    def update(self):\n",
    "        pass\n",
    "    \n",
    "    def zero_grad(self):\n",
    "        self.model_params.grad.zero_()\n",
    "    \n",
    "    def __getattr__(self, k):\n",
    "        return self.hyper_params[k]\n",
    "\n",
    "\n",
    "class Telemetry:\n",
    "    loss: dict = None\n",
    "    weights: list = None\n",
    "    hyper_params: dict = None\n",
    "    x: list = None\n",
    "    y: list = None\n",
    "    y_pred: list = None\n",
    "        \n",
    "    def __repr__(self):\n",
    "        return f\"Telemetry\\n{9*'='}\\n\"\\\n",
    "               f\"loss: {self.loss}\\n\"\\\n",
    "               f\"weights: {self.weights}\\n\"\\\n",
    "               f\"hyper_params: {self.hyper_params}\\n\"\\\n",
    "               f\"x: {self.x}\\n\"\\\n",
    "               f\"y: {self.y}\\n\"\\\n",
    "               f\"y_pred: {self.y_pred}\\n\"\n",
    "        \n",
    "    \n",
    "class Recorder:\n",
    "    \"Collects data while training\"\n",
    "    stats: Telemetry = None \n",
    "        \n",
    "    def __init__(self, stats: Telemetry = None):\n",
    "        if stats is None:\n",
    "            stats = Telemetry()\n",
    "        self.stats = stats\n",
    "    \n",
    "    def store_loss(self, kind, val):\n",
    "        v = val.clone().detach().item() if isinstance(val, torch.Tensor) else val\n",
    "        \n",
    "        if self.stats.loss is None:\n",
    "            self.stats.loss = {kind: [v]}\n",
    "        elif kind not in self.stats.loss:\n",
    "            self.stats.loss[kind] = [v]\n",
    "        else:\n",
    "            self.stats.loss[kind].append(v)\n",
    "    \n",
    "    def store_hyper_params(self, opt: Optimizer):\n",
    "        if self.stats.hyper_params is None:\n",
    "            self.stats.hyper_params = {}\n",
    "            for key, val in opt.hyper_params.items():\n",
    "                self.stats.hyper_params[key] = [val]\n",
    "        else:\n",
    "            for key, val in opt.hyper_params.items():\n",
    "                self.stats.hyper_params[key].append(val)\n",
    "                \n",
    "    def store_weights(self, model_params):\n",
    "        if self.stats.weights is None:\n",
    "            self.stats.weights = []\n",
    "        self.stats.weights.append(model_params.clone().detach())\n",
    "        \n",
    "    def store_batch(self, _x: torch.Tensor, _y: torch.Tensor, y_pred: torch.Tensor):\n",
    "        if self.stats.x is None:\n",
    "            self.stats.x = []\n",
    "        if self.stats.y is None:\n",
    "            self.stats.y = []\n",
    "        if self.stats.y_pred is None:\n",
    "            self.stats.y_pred = []\n",
    "        \n",
    "        self.stats.x.append(_x.clone().detach())\n",
    "        self.stats.y.append(_y.clone().detach())\n",
    "        self.stats.y_pred.append(y_pred.clone().detach())\n",
    "        \n",
    "        \n",
    "class Plotter:\n",
    "    \n",
    "    stats : Telemetry = None\n",
    "        \n",
    "    def __init__(self, rec: Recorder = None, stats: Telemetry = None):\n",
    "        assert (rec is not None) != (stats is not None)\n",
    "        self.stats = rec.stats if rec is not None else stats\n",
    "    \n",
    "    def plot_loss(self):\n",
    "        \n",
    "        iters = np.arange(len(self.stats.loss[\"train\"]))\n",
    "        s = bokeh_plotting.ColumnDataSource({\"Iteration\": iters, \n",
    "                                             \"Train\": self.stats.loss[\"train\"],\n",
    "                                             \"Validation\": self.stats.loss[\"valid\"]})\n",
    "        colors = bokeh_palettes.Inferno3\n",
    "        \n",
    "        fig = bokeh_plotting.figure(plot_width=700, plot_height=400, title=\"Losses vs iteration\")\n",
    "        label = \"Train\"\n",
    "        fig.line(x=\"Iteration\", y=\"Train\", source=s, legend_label=label, color=colors[0],\n",
    "                 line_width=2)\n",
    "        # fig.circle(x=\"Iteration\", y=\"TrainLoss\", source=s, size=10, legend_label=label, color=colors[0])\n",
    "        label = \"Validate\"\n",
    "        fig.line(x=\"Iteration\", y=\"Validation\", source=s, legend_label=label, color=colors[1],\n",
    "                 line_width=2)\n",
    "        # fig.circle(x=\"Iteration\", y=\"ValLoss\", source=s, size=10, legend_label=label, color=colors[1])\n",
    "        hover = bokeh_models.HoverTool(\n",
    "            tooltips = [\n",
    "                (\"Iteration\", \"@Iteration\"),\n",
    "                (\"Train\", \"@Train\"),\n",
    "                (\"Validation\", \"@Validation\"),\n",
    "            ],\n",
    "            formatters = {\"Iteration\": \"numeral\", \"Train\": \"numeral\", \"Validation\": \"numeral\"},\n",
    "            mode=\"vline\"\n",
    "        )\n",
    "        fig.xaxis.axis_label = \"Iteration\"\n",
    "        fig.yaxis.axis_label = \"Loss\"\n",
    "        fig.tools.append(hover)\n",
    "        bokeh_plotting.show(fig)\n",
    "        \n",
    "    def plot_weights(self):\n",
    "        \n",
    "        iters = np.arange(len(self.stats.loss[\"train\"]))\n",
    "        w = np.array([_w.clone().detach().numpy() for _w in self.stats.weights])\n",
    "        colors = bokeh_palettes.Inferno3\n",
    "        \n",
    "        _s = {\"Iteration\": iters}\n",
    "        for i, _w in enumerate(w.T):\n",
    "            _s[f\"w_{i}\"] = _w\n",
    "        s = bokeh_plotting.ColumnDataSource(_s)\n",
    "        \n",
    "        fig = bokeh_plotting.figure(plot_width=700, plot_height=400, title=\"Model weights vs iteration\")\n",
    "        for i in range(w.shape[1]):\n",
    "            label = f\"w_{i}\"\n",
    "            fig.line(x=\"Iteration\", y=label, source=s, legend_label=label, color=colors[i], line_width=2)\n",
    "            # fig.circle(x=\"Iteration\", y=label, source=s, size=10, legend_label=label, color=colors[i])\n",
    "            \n",
    "        tooltips = [\n",
    "                (\"Iteration\", \"@Iteration\"),\n",
    "            ] + [(v, f\"@{v}\") for v in _s if v.startswith(\"w\")]\n",
    "        hover = bokeh_models.HoverTool(\n",
    "            tooltips = tooltips,\n",
    "            formatters = {k[0]: \"numeral\" for k in tooltips},\n",
    "            mode=\"vline\"\n",
    "        )\n",
    "        fig.tools.append(hover)\n",
    "        bokeh_plotting.show(fig)\n",
    "        \n",
    "                \n",
    "    def plot_hyper_params(self):\n",
    "        \n",
    "        iters = np.arange(len(self.stats.loss[\"train\"]))\n",
    "        colors = bokeh_palettes.Inferno256\n",
    "        \n",
    "        for hyper in sorted(self.stats.hyper_params):\n",
    "            s = bokeh_plotting.ColumnDataSource({\"Iteration\": iters, hyper: self.stats.hyper_params[hyper]})\n",
    "        \n",
    "            fig = bokeh_plotting.figure(plot_width=700, plot_height=400, \n",
    "                                        title=f\"Hyper parameters ('{hyper}') vs iteration\")\n",
    "            \n",
    "            fig.line(x=\"Iteration\", y=hyper, source=s, legend_label=hyper, line_width=2)\n",
    "            # fig.circle(x=\"Iteration\", y=hyper, source=s, size=10, legend_label=hyper)\n",
    "\n",
    "            tooltips = [\n",
    "                (\"Iteration\", \"@Iteration\"),                    \n",
    "                (hyper, f\"@{hyper}\")\n",
    "            ]\n",
    "            \n",
    "            hover = bokeh_models.HoverTool(\n",
    "                tooltips = tooltips,\n",
    "                formatters = {k[0]: \"numeral\" for k in tooltips},\n",
    "                mode=\"mouse\"\n",
    "            )\n",
    "            fig.tools.append(hover)\n",
    "            bokeh_plotting.show(fig)"
   ]
  },
  {
   "cell_type": "markdown",
   "metadata": {},
   "source": [
    "Sanity checking the recorder"
   ]
  },
  {
   "cell_type": "code",
   "execution_count": 98,
   "metadata": {},
   "outputs": [],
   "source": [
    "del rec, opt"
   ]
  },
  {
   "cell_type": "code",
   "execution_count": 188,
   "metadata": {
    "scrolled": true
   },
   "outputs": [
    {
     "name": "stdout",
     "output_type": "stream",
     "text": [
      "total epochs 5\n",
      "\n",
      "epoch 0\n",
      "\tlr 0.09000000000000001\n",
      "\n",
      "epoch 1\n",
      "\tlr 0.08100000000000002\n",
      "\n",
      "epoch 2\n",
      "\tlr 0.07290000000000002\n",
      "\n",
      "epoch 3\n",
      "\tlr 0.06561000000000002\n",
      "Reached the limit of the train data set, restarting.\n",
      "\n",
      "epoch 4\n",
      "\tlr 0.05904900000000002\n"
     ]
    }
   ],
   "source": [
    "rec = Recorder()\n",
    "\n",
    "n_epochs = 5\n",
    "opt = Optimizer(None, lr=.1)\n",
    "print(\"total epochs\", n_epochs)\n",
    "for epoch in range(n_epochs):\n",
    "    print(f\"\\nepoch {epoch}\")\n",
    "    rec.store_loss(\"train\", 42)\n",
    "    rec.store_loss(\"valid\", 82.)\n",
    "    \n",
    "    print(\"\\tlr\", opt.lr * .9)\n",
    "    opt.lr *= .9\n",
    "    rec.store_hyper_params(opt)\n",
    "    rec.store_weights(torch.Tensor([1., 2., 3.]))\n",
    "    _x, _y = db.get_data(\"train\")\n",
    "    with torch.no_grad():\n",
    "        y_pred = _y + .1\n",
    "    rec.store_batch(_x, _y, y_pred)"
   ]
  },
  {
   "cell_type": "code",
   "execution_count": 189,
   "metadata": {},
   "outputs": [
    {
     "data": {
      "text/plain": [
       "Telemetry\n",
       "=========\n",
       "loss: {'train': [42, 42, 42, 42, 42], 'valid': [82.0, 82.0, 82.0, 82.0, 82.0]}\n",
       "weights: [tensor([1., 2., 3.]), tensor([1., 2., 3.]), tensor([1., 2., 3.]), tensor([1., 2., 3.]), tensor([1., 2., 3.])]\n",
       "hyper_params: {'lr': [0.1, 0.1, 0.1, 0.1, 0.1]}\n",
       "x: [tensor([[ 0.5437,  0.7374,  1.0000],\n",
       "        [ 0.0858,  0.2929,  1.0000],\n",
       "        [ 0.1397,  0.3737,  1.0000],\n",
       "        [ 0.0295,  0.1717,  1.0000],\n",
       "        [ 0.3552, -0.5960,  1.0000],\n",
       "        [ 3.4920,  1.8687,  1.0000],\n",
       "        [ 0.9208, -0.9596,  1.0000],\n",
       "        [ 1.1249,  1.0606,  1.0000],\n",
       "        [ 1.3967,  1.1818,  1.0000],\n",
       "        [ 8.2874,  2.8788,  1.0000],\n",
       "        [ 0.1887, -0.4343,  1.0000],\n",
       "        [ 0.1715,  0.4141,  1.0000],\n",
       "        [ 7.8287,  2.7980,  1.0000],\n",
       "        [ 0.2866,  0.5354,  1.0000],\n",
       "        [ 2.6447,  1.6263,  1.0000],\n",
       "        [ 0.3797,  0.6162,  1.0000],\n",
       "        [ 4.4568,  2.1111,  1.0000],\n",
       "        [ 0.8825,  0.9394,  1.0000],\n",
       "        [ 0.0368, -0.1919,  1.0000],\n",
       "        [ 4.2878,  2.0707,  1.0000]]), tensor([[ 1.6979e+00,  1.3030e+00,  1.0000e+00],\n",
       "        [ 1.5519e-01, -3.9394e-01,  1.0000e+00],\n",
       "        [ 1.7243e-02,  1.3131e-01,  1.0000e+00],\n",
       "        [ 6.0494e-01,  7.7778e-01,  1.0000e+00],\n",
       "        [ 1.0408e+00,  1.0202e+00,  1.0000e+00],\n",
       "        [ 2.5508e-03,  5.0505e-02,  1.0000e+00],\n",
       "        [ 1.2499e-01, -3.5354e-01,  1.0000e+00],\n",
       "        [ 1.1111e-01,  3.3333e-01,  1.0000e+00],\n",
       "        [ 6.7390e+00,  2.5960e+00,  1.0000e+00],\n",
       "        [ 9.6000e-01,  9.7980e-01,  1.0000e+00],\n",
       "        [ 9.1827e-04, -3.0303e-02,  1.0000e+00],\n",
       "        [ 7.4380e-02, -2.7273e-01,  1.0000e+00],\n",
       "        [ 8.2645e-03,  9.0909e-02,  1.0000e+00],\n",
       "        [ 1.0203e-04,  1.0101e-02,  1.0000e+00],\n",
       "        [ 6.3769e-02,  2.5253e-01,  1.0000e+00],\n",
       "        [ 2.0285e+00,  1.4242e+00,  1.0000e+00],\n",
       "        [ 1.8048e+00,  1.3434e+00,  1.0000e+00],\n",
       "        [ 2.2539e-01, -4.7475e-01,  1.0000e+00],\n",
       "        [ 4.8045e+00,  2.1919e+00,  1.0000e+00],\n",
       "        [ 2.0661e-01,  4.5455e-01,  1.0000e+00]]), tensor([[ 3.0537e+00,  1.7475e+00,  1.0000e+00],\n",
       "        [ 8.0818e-01,  8.9899e-01,  1.0000e+00],\n",
       "        [ 6.1244e+00,  2.4747e+00,  1.0000e+00],\n",
       "        [ 6.5309e+00,  2.5556e+00,  1.0000e+00],\n",
       "        [ 1.2346e-02, -1.1111e-01,  1.0000e+00],\n",
       "        [ 6.3260e+00,  2.5152e+00,  1.0000e+00],\n",
       "        [ 2.7778e+00,  1.6667e+00,  1.0000e+00],\n",
       "        [ 1.9150e+00,  1.3838e+00,  1.0000e+00],\n",
       "        [ 4.0496e-01, -6.3636e-01,  1.0000e+00],\n",
       "        [ 6.9504e+00,  2.6364e+00,  1.0000e+00],\n",
       "        [ 4.1221e+00,  2.0303e+00,  1.0000e+00],\n",
       "        [ 9.8051e-02, -3.1313e-01,  1.0000e+00],\n",
       "        [ 5.7309e+00,  2.3939e+00,  1.0000e+00],\n",
       "        [ 4.9995e-03, -7.0707e-02,  1.0000e+00],\n",
       "        [ 1.5942e+00,  1.2626e+00,  1.0000e+00],\n",
       "        [ 1.4938e+00,  1.2222e+00,  1.0000e+00],\n",
       "        [ 2.5149e+00,  1.5859e+00,  1.0000e+00],\n",
       "        [ 5.3974e-02, -2.3232e-01,  1.0000e+00],\n",
       "        [ 8.7592e+00,  2.9596e+00,  1.0000e+00],\n",
       "        [ 4.9833e+00,  2.2323e+00,  1.0000e+00]]), tensor([[ 3.4920e+00,  1.8687e+00,  1.0000e+00],\n",
       "        [ 8.4491e-01, -9.1919e-01,  1.0000e+00],\n",
       "        [ 2.7778e+00,  1.6667e+00,  1.0000e+00],\n",
       "        [ 2.0661e-01,  4.5455e-01,  1.0000e+00],\n",
       "        [ 5.1434e-01, -7.1717e-01,  1.0000e+00],\n",
       "        [ 1.1111e-01,  3.3333e-01,  1.0000e+00],\n",
       "        [ 1.2499e-01, -3.5354e-01,  1.0000e+00],\n",
       "        [ 4.4568e+00,  2.1111e+00,  1.0000e+00],\n",
       "        [ 2.2539e-01, -4.7475e-01,  1.0000e+00],\n",
       "        [ 5.7309e+00,  2.3939e+00,  1.0000e+00],\n",
       "        [ 2.5149e+00,  1.5859e+00,  1.0000e+00],\n",
       "        [ 2.5508e-03,  5.0505e-02,  1.0000e+00],\n",
       "        [ 2.6447e+00,  1.6263e+00,  1.0000e+00],\n",
       "        [ 6.0494e-01,  7.7778e-01,  1.0000e+00],\n",
       "        [ 7.8287e+00,  2.7980e+00,  1.0000e+00],\n",
       "        [ 2.2957e-02, -1.5152e-01,  1.0000e+00],\n",
       "        [ 3.3426e+00,  1.8283e+00,  1.0000e+00],\n",
       "        [ 7.6042e+00,  2.7576e+00,  1.0000e+00],\n",
       "        [ 9.6000e-01,  9.7980e-01,  1.0000e+00],\n",
       "        [ 6.3260e+00,  2.5152e+00,  1.0000e+00]]), tensor([[ 1.3967,  1.1818,  1.0000],\n",
       "        [ 6.9504,  2.6364,  1.0000],\n",
       "        [ 3.0537,  1.7475,  1.0000],\n",
       "        [ 7.3830,  2.7172,  1.0000],\n",
       "        [ 0.8082,  0.8990,  1.0000],\n",
       "        [ 0.1397,  0.3737,  1.0000],\n",
       "        [ 2.1452,  1.4646,  1.0000],\n",
       "        [ 5.3506,  2.3131,  1.0000],\n",
       "        [ 0.1887, -0.4343,  1.0000],\n",
       "        [ 0.0172,  0.1313,  1.0000],\n",
       "        [ 0.4050, -0.6364,  1.0000],\n",
       "        [ 1.3028,  1.1414,  1.0000],\n",
       "        [ 6.5309,  2.5556,  1.0000],\n",
       "        [ 0.9208, -0.9596,  1.0000],\n",
       "        [ 0.1552, -0.3939,  1.0000],\n",
       "        [ 1.0000, -1.0000,  1.0000],\n",
       "        [ 4.9833,  2.2323,  1.0000],\n",
       "        [ 0.1715,  0.4141,  1.0000],\n",
       "        [ 2.3884,  1.5455,  1.0000],\n",
       "        [ 0.6368, -0.7980,  1.0000]])]\n",
       "y: [tensor([ 4.5994,  3.2930,  3.5893,  2.7996, -1.6901,  4.3595, -4.6396,  5.0533,\n",
       "         5.1157, -0.1809, -0.5490,  3.7277,  0.3325,  4.1036,  4.8419,  4.3215,\n",
       "         3.6420,  4.9320,  0.9667,  3.7779]), tensor([ 5.1194, -0.2801,  2.6221,  4.6790,  5.0194,  2.2474, -0.0177,  3.4444,\n",
       "         1.5018,  4.9790,  1.8466,  0.4876,  2.4380,  2.0503,  3.1351,  5.0643,\n",
       "         5.1075, -0.8245,  3.3506,  3.8595]), tensor([ 4.6300,  4.8786,  2.1250,  1.7160,  1.4198,  1.9238,  4.7778,  5.0892,\n",
       "        -1.9917,  1.2810,  3.9073,  0.2382,  2.5078,  1.6365,  5.1247,  5.1235,\n",
       "         4.8994,  0.7304, -0.7204,  3.1951]), tensor([ 4.3595, -4.2858,  4.7778,  3.8595, -2.6145,  3.4444, -0.0177,  3.6420,\n",
       "        -0.8245,  2.5078,  4.8994,  2.2474,  4.8419,  4.6790,  0.3325,  1.1965,\n",
       "         4.4562,  0.5794,  4.9790,  1.9238]), tensor([ 5.1157,  1.2810,  4.6300,  0.8198,  4.8786,  3.5893,  5.0329,  2.8645,\n",
       "        -0.5490,  2.6221, -1.9917,  5.1014,  1.7160, -4.6396, -0.2801, -5.0000,\n",
       "         3.1951,  3.7277,  4.9504, -3.2634])]\n",
       "y_pred: [tensor([ 4.6994,  3.3930,  3.6893,  2.8996, -1.5901,  4.4595, -4.5396,  5.1533,\n",
       "         5.2157, -0.0809, -0.4490,  3.8277,  0.4325,  4.2036,  4.9419,  4.4215,\n",
       "         3.7420,  5.0320,  1.0667,  3.8779]), tensor([ 5.2194, -0.1801,  2.7221,  4.7790,  5.1194,  2.3474,  0.0823,  3.5444,\n",
       "         1.6018,  5.0790,  1.9466,  0.5876,  2.5380,  2.1503,  3.2351,  5.1643,\n",
       "         5.2075, -0.7245,  3.4506,  3.9595]), tensor([ 4.7300,  4.9786,  2.2250,  1.8160,  1.5198,  2.0238,  4.8778,  5.1892,\n",
       "        -1.8917,  1.3810,  4.0073,  0.3382,  2.6078,  1.7365,  5.2247,  5.2235,\n",
       "         4.9994,  0.8304, -0.6204,  3.2951]), tensor([ 4.4595, -4.1858,  4.8778,  3.9595, -2.5145,  3.5444,  0.0823,  3.7420,\n",
       "        -0.7245,  2.6078,  4.9994,  2.3474,  4.9419,  4.7790,  0.4325,  1.2965,\n",
       "         4.5562,  0.6794,  5.0790,  2.0238]), tensor([ 5.2157,  1.3810,  4.7300,  0.9198,  4.9786,  3.6893,  5.1329,  2.9645,\n",
       "        -0.4490,  2.7221, -1.8917,  5.2014,  1.8160, -4.5396, -0.1801, -4.9000,\n",
       "         3.2951,  3.8277,  5.0504, -3.1634])]"
      ]
     },
     "execution_count": 189,
     "metadata": {},
     "output_type": "execute_result"
    }
   ],
   "source": [
    "rec.stats"
   ]
  },
  {
   "cell_type": "code",
   "execution_count": 174,
   "metadata": {},
   "outputs": [
    {
     "data": {
      "text/plain": [
       "(5, 5)"
      ]
     },
     "execution_count": 174,
     "metadata": {},
     "output_type": "execute_result"
    }
   ],
   "source": [
    "len(rec.stats.hyper_params[\"lr\"]), len(rec.stats.loss[\"train\"])"
   ]
  },
  {
   "cell_type": "code",
   "execution_count": 175,
   "metadata": {},
   "outputs": [
    {
     "data": {
      "text/html": [
       "\n",
       "\n",
       "\n",
       "\n",
       "\n",
       "\n",
       "  <div class=\"bk-root\" id=\"92caa2a2-c059-4625-ac7b-375deaf8fd25\" data-root-id=\"8303\"></div>\n"
      ]
     },
     "metadata": {},
     "output_type": "display_data"
    },
    {
     "data": {
      "application/javascript": [
       "(function(root) {\n",
       "  function embed_document(root) {\n",
       "    \n",
       "  var docs_json = {\"d18d59f7-8b6d-400e-9b1f-7c0ad824fbb4\":{\"roots\":{\"references\":[{\"attributes\":{\"below\":[{\"id\":\"8314\",\"type\":\"LinearAxis\"}],\"center\":[{\"id\":\"8318\",\"type\":\"Grid\"},{\"id\":\"8323\",\"type\":\"Grid\"},{\"id\":\"8348\",\"type\":\"Legend\"}],\"left\":[{\"id\":\"8319\",\"type\":\"LinearAxis\"}],\"plot_height\":400,\"plot_width\":700,\"renderers\":[{\"id\":\"8340\",\"type\":\"GlyphRenderer\"},{\"id\":\"8353\",\"type\":\"GlyphRenderer\"}],\"title\":{\"id\":\"8304\",\"type\":\"Title\"},\"toolbar\":{\"id\":\"8330\",\"type\":\"Toolbar\"},\"x_range\":{\"id\":\"8306\",\"type\":\"DataRange1d\"},\"x_scale\":{\"id\":\"8310\",\"type\":\"LinearScale\"},\"y_range\":{\"id\":\"8308\",\"type\":\"DataRange1d\"},\"y_scale\":{\"id\":\"8312\",\"type\":\"LinearScale\"}},\"id\":\"8303\",\"subtype\":\"Figure\",\"type\":\"Plot\"},{\"attributes\":{},\"id\":\"8361\",\"type\":\"UnionRenderers\"},{\"attributes\":{},\"id\":\"8345\",\"type\":\"BasicTickFormatter\"},{\"attributes\":{\"source\":{\"id\":\"8302\",\"type\":\"ColumnDataSource\"}},\"id\":\"8341\",\"type\":\"CDSView\"},{\"attributes\":{},\"id\":\"8324\",\"type\":\"PanTool\"},{\"attributes\":{\"callback\":null,\"formatters\":{\"Iteration\":\"numeral\",\"Train\":\"numeral\",\"Validation\":\"numeral\"},\"mode\":\"vline\",\"tooltips\":[[\"Iteration\",\"@Iteration\"],[\"Train\",\"@Train\"],[\"Validation\",\"@Validation\"]]},\"id\":\"8364\",\"type\":\"HoverTool\"},{\"attributes\":{\"label\":{\"value\":\"Validate\"},\"renderers\":[{\"id\":\"8353\",\"type\":\"GlyphRenderer\"}]},\"id\":\"8363\",\"type\":\"LegendItem\"},{\"attributes\":{\"callback\":null,\"data\":{\"Iteration\":{\"__ndarray__\":\"AAAAAAEAAAACAAAAAwAAAAQAAAA=\",\"dtype\":\"int32\",\"shape\":[5]},\"Train\":[42,42,42,42,42],\"Validation\":[82.0,82.0,82.0,82.0,82.0]},\"selected\":{\"id\":\"8360\",\"type\":\"Selection\"},\"selection_policy\":{\"id\":\"8361\",\"type\":\"UnionRenderers\"}},\"id\":\"8302\",\"type\":\"ColumnDataSource\"},{\"attributes\":{\"source\":{\"id\":\"8302\",\"type\":\"ColumnDataSource\"}},\"id\":\"8354\",\"type\":\"CDSView\"},{\"attributes\":{\"active_drag\":\"auto\",\"active_inspect\":\"auto\",\"active_multi\":null,\"active_scroll\":\"auto\",\"active_tap\":\"auto\",\"tools\":[{\"id\":\"8324\",\"type\":\"PanTool\"},{\"id\":\"8325\",\"type\":\"WheelZoomTool\"},{\"id\":\"8326\",\"type\":\"BoxZoomTool\"},{\"id\":\"8327\",\"type\":\"SaveTool\"},{\"id\":\"8328\",\"type\":\"ResetTool\"},{\"id\":\"8329\",\"type\":\"HelpTool\"},{\"id\":\"8364\",\"type\":\"HoverTool\"}]},\"id\":\"8330\",\"type\":\"Toolbar\"},{\"attributes\":{},\"id\":\"8315\",\"type\":\"BasicTicker\"},{\"attributes\":{\"callback\":null},\"id\":\"8306\",\"type\":\"DataRange1d\"},{\"attributes\":{},\"id\":\"8320\",\"type\":\"BasicTicker\"},{\"attributes\":{\"overlay\":{\"id\":\"8347\",\"type\":\"BoxAnnotation\"}},\"id\":\"8326\",\"type\":\"BoxZoomTool\"},{\"attributes\":{\"line_alpha\":0.1,\"line_color\":\"#1f77b4\",\"line_width\":2,\"x\":{\"field\":\"Iteration\"},\"y\":{\"field\":\"Validation\"}},\"id\":\"8352\",\"type\":\"Line\"},{\"attributes\":{},\"id\":\"8312\",\"type\":\"LinearScale\"},{\"attributes\":{\"items\":[{\"id\":\"8349\",\"type\":\"LegendItem\"},{\"id\":\"8363\",\"type\":\"LegendItem\"}]},\"id\":\"8348\",\"type\":\"Legend\"},{\"attributes\":{},\"id\":\"8360\",\"type\":\"Selection\"},{\"attributes\":{\"ticker\":{\"id\":\"8315\",\"type\":\"BasicTicker\"}},\"id\":\"8318\",\"type\":\"Grid\"},{\"attributes\":{\"axis_label\":\"Loss\",\"formatter\":{\"id\":\"8343\",\"type\":\"BasicTickFormatter\"},\"ticker\":{\"id\":\"8320\",\"type\":\"BasicTicker\"}},\"id\":\"8319\",\"type\":\"LinearAxis\"},{\"attributes\":{\"axis_label\":\"Iteration\",\"formatter\":{\"id\":\"8345\",\"type\":\"BasicTickFormatter\"},\"ticker\":{\"id\":\"8315\",\"type\":\"BasicTicker\"}},\"id\":\"8314\",\"type\":\"LinearAxis\"},{\"attributes\":{},\"id\":\"8329\",\"type\":\"HelpTool\"},{\"attributes\":{\"dimension\":1,\"ticker\":{\"id\":\"8320\",\"type\":\"BasicTicker\"}},\"id\":\"8323\",\"type\":\"Grid\"},{\"attributes\":{},\"id\":\"8325\",\"type\":\"WheelZoomTool\"},{\"attributes\":{\"bottom_units\":\"screen\",\"fill_alpha\":{\"value\":0.5},\"fill_color\":{\"value\":\"lightgrey\"},\"left_units\":\"screen\",\"level\":\"overlay\",\"line_alpha\":{\"value\":1.0},\"line_color\":{\"value\":\"black\"},\"line_dash\":[4,4],\"line_width\":{\"value\":2},\"render_mode\":\"css\",\"right_units\":\"screen\",\"top_units\":\"screen\"},\"id\":\"8347\",\"type\":\"BoxAnnotation\"},{\"attributes\":{\"label\":{\"value\":\"Train\"},\"renderers\":[{\"id\":\"8340\",\"type\":\"GlyphRenderer\"}]},\"id\":\"8349\",\"type\":\"LegendItem\"},{\"attributes\":{},\"id\":\"8343\",\"type\":\"BasicTickFormatter\"},{\"attributes\":{\"data_source\":{\"id\":\"8302\",\"type\":\"ColumnDataSource\"},\"glyph\":{\"id\":\"8338\",\"type\":\"Line\"},\"hover_glyph\":null,\"muted_glyph\":null,\"nonselection_glyph\":{\"id\":\"8339\",\"type\":\"Line\"},\"selection_glyph\":null,\"view\":{\"id\":\"8341\",\"type\":\"CDSView\"}},\"id\":\"8340\",\"type\":\"GlyphRenderer\"},{\"attributes\":{},\"id\":\"8310\",\"type\":\"LinearScale\"},{\"attributes\":{},\"id\":\"8328\",\"type\":\"ResetTool\"},{\"attributes\":{\"line_alpha\":0.1,\"line_color\":\"#1f77b4\",\"line_width\":2,\"x\":{\"field\":\"Iteration\"},\"y\":{\"field\":\"Train\"}},\"id\":\"8339\",\"type\":\"Line\"},{\"attributes\":{\"line_color\":\"#BA3655\",\"line_width\":2,\"x\":{\"field\":\"Iteration\"},\"y\":{\"field\":\"Validation\"}},\"id\":\"8351\",\"type\":\"Line\"},{\"attributes\":{},\"id\":\"8327\",\"type\":\"SaveTool\"},{\"attributes\":{\"text\":\"Losses vs iteration\"},\"id\":\"8304\",\"type\":\"Title\"},{\"attributes\":{\"callback\":null},\"id\":\"8308\",\"type\":\"DataRange1d\"},{\"attributes\":{\"data_source\":{\"id\":\"8302\",\"type\":\"ColumnDataSource\"},\"glyph\":{\"id\":\"8351\",\"type\":\"Line\"},\"hover_glyph\":null,\"muted_glyph\":null,\"nonselection_glyph\":{\"id\":\"8352\",\"type\":\"Line\"},\"selection_glyph\":null,\"view\":{\"id\":\"8354\",\"type\":\"CDSView\"}},\"id\":\"8353\",\"type\":\"GlyphRenderer\"},{\"attributes\":{\"line_color\":\"#000003\",\"line_width\":2,\"x\":{\"field\":\"Iteration\"},\"y\":{\"field\":\"Train\"}},\"id\":\"8338\",\"type\":\"Line\"}],\"root_ids\":[\"8303\"]},\"title\":\"Bokeh Application\",\"version\":\"1.4.0\"}};\n",
       "  var render_items = [{\"docid\":\"d18d59f7-8b6d-400e-9b1f-7c0ad824fbb4\",\"roots\":{\"8303\":\"92caa2a2-c059-4625-ac7b-375deaf8fd25\"}}];\n",
       "  root.Bokeh.embed.embed_items_notebook(docs_json, render_items);\n",
       "\n",
       "  }\n",
       "  if (root.Bokeh !== undefined) {\n",
       "    embed_document(root);\n",
       "  } else {\n",
       "    var attempts = 0;\n",
       "    var timer = setInterval(function(root) {\n",
       "      if (root.Bokeh !== undefined) {\n",
       "        clearInterval(timer);\n",
       "        embed_document(root);\n",
       "      } else {\n",
       "        attempts++;\n",
       "        if (attempts > 100) {\n",
       "          clearInterval(timer);\n",
       "          console.log(\"Bokeh: ERROR: Unable to run BokehJS code because BokehJS library is missing\");\n",
       "        }\n",
       "      }\n",
       "    }, 10, root)\n",
       "  }\n",
       "})(window);"
      ],
      "application/vnd.bokehjs_exec.v0+json": ""
     },
     "metadata": {
      "application/vnd.bokehjs_exec.v0+json": {
       "id": "8303"
      }
     },
     "output_type": "display_data"
    },
    {
     "data": {
      "text/html": [
       "\n",
       "\n",
       "\n",
       "\n",
       "\n",
       "\n",
       "  <div class=\"bk-root\" id=\"9ccf39a4-d833-4dcf-8305-8a99009b6b91\" data-root-id=\"8671\"></div>\n"
      ]
     },
     "metadata": {},
     "output_type": "display_data"
    },
    {
     "data": {
      "application/javascript": [
       "(function(root) {\n",
       "  function embed_document(root) {\n",
       "    \n",
       "  var docs_json = {\"d4f84403-e4d7-4755-ac12-f9ef9356c380\":{\"roots\":{\"references\":[{\"attributes\":{\"below\":[{\"id\":\"8682\",\"type\":\"LinearAxis\"}],\"center\":[{\"id\":\"8686\",\"type\":\"Grid\"},{\"id\":\"8691\",\"type\":\"Grid\"},{\"id\":\"8716\",\"type\":\"Legend\"}],\"left\":[{\"id\":\"8687\",\"type\":\"LinearAxis\"}],\"plot_height\":400,\"plot_width\":700,\"renderers\":[{\"id\":\"8708\",\"type\":\"GlyphRenderer\"}],\"title\":{\"id\":\"8672\",\"type\":\"Title\"},\"toolbar\":{\"id\":\"8698\",\"type\":\"Toolbar\"},\"x_range\":{\"id\":\"8674\",\"type\":\"DataRange1d\"},\"x_scale\":{\"id\":\"8678\",\"type\":\"LinearScale\"},\"y_range\":{\"id\":\"8676\",\"type\":\"DataRange1d\"},\"y_scale\":{\"id\":\"8680\",\"type\":\"LinearScale\"}},\"id\":\"8671\",\"subtype\":\"Figure\",\"type\":\"Plot\"},{\"attributes\":{\"items\":[{\"id\":\"8717\",\"type\":\"LegendItem\"}]},\"id\":\"8716\",\"type\":\"Legend\"},{\"attributes\":{},\"id\":\"8688\",\"type\":\"BasicTicker\"},{\"attributes\":{\"source\":{\"id\":\"8670\",\"type\":\"ColumnDataSource\"}},\"id\":\"8709\",\"type\":\"CDSView\"},{\"attributes\":{},\"id\":\"8693\",\"type\":\"WheelZoomTool\"},{\"attributes\":{\"label\":{\"value\":\"lr\"},\"renderers\":[{\"id\":\"8708\",\"type\":\"GlyphRenderer\"}]},\"id\":\"8717\",\"type\":\"LegendItem\"},{\"attributes\":{},\"id\":\"8711\",\"type\":\"BasicTickFormatter\"},{\"attributes\":{\"text\":\"Hyper parameters ('lr') vs iteration\"},\"id\":\"8672\",\"type\":\"Title\"},{\"attributes\":{\"callback\":null},\"id\":\"8676\",\"type\":\"DataRange1d\"},{\"attributes\":{\"line_alpha\":0.1,\"line_color\":\"#1f77b4\",\"line_width\":2,\"x\":{\"field\":\"Iteration\"},\"y\":{\"field\":\"lr\"}},\"id\":\"8707\",\"type\":\"Line\"},{\"attributes\":{},\"id\":\"8692\",\"type\":\"PanTool\"},{\"attributes\":{\"callback\":null,\"formatters\":{\"Iteration\":\"numeral\",\"lr\":\"numeral\"},\"tooltips\":[[\"Iteration\",\"@Iteration\"],[\"lr\",\"@lr\"]]},\"id\":\"8718\",\"type\":\"HoverTool\"},{\"attributes\":{},\"id\":\"8981\",\"type\":\"Selection\"},{\"attributes\":{\"formatter\":{\"id\":\"8711\",\"type\":\"BasicTickFormatter\"},\"ticker\":{\"id\":\"8688\",\"type\":\"BasicTicker\"}},\"id\":\"8687\",\"type\":\"LinearAxis\"},{\"attributes\":{\"ticker\":{\"id\":\"8683\",\"type\":\"BasicTicker\"}},\"id\":\"8686\",\"type\":\"Grid\"},{\"attributes\":{\"dimension\":1,\"ticker\":{\"id\":\"8688\",\"type\":\"BasicTicker\"}},\"id\":\"8691\",\"type\":\"Grid\"},{\"attributes\":{},\"id\":\"8683\",\"type\":\"BasicTicker\"},{\"attributes\":{},\"id\":\"8695\",\"type\":\"SaveTool\"},{\"attributes\":{\"callback\":null},\"id\":\"8674\",\"type\":\"DataRange1d\"},{\"attributes\":{\"data_source\":{\"id\":\"8670\",\"type\":\"ColumnDataSource\"},\"glyph\":{\"id\":\"8706\",\"type\":\"Line\"},\"hover_glyph\":null,\"muted_glyph\":null,\"nonselection_glyph\":{\"id\":\"8707\",\"type\":\"Line\"},\"selection_glyph\":null,\"view\":{\"id\":\"8709\",\"type\":\"CDSView\"}},\"id\":\"8708\",\"type\":\"GlyphRenderer\"},{\"attributes\":{},\"id\":\"8982\",\"type\":\"UnionRenderers\"},{\"attributes\":{\"callback\":null,\"data\":{\"Iteration\":{\"__ndarray__\":\"AAAAAAEAAAACAAAAAwAAAAQAAAA=\",\"dtype\":\"int32\",\"shape\":[5]},\"lr\":[0.1,0.1,0.1,0.1,0.1]},\"selected\":{\"id\":\"8981\",\"type\":\"Selection\"},\"selection_policy\":{\"id\":\"8982\",\"type\":\"UnionRenderers\"}},\"id\":\"8670\",\"type\":\"ColumnDataSource\"},{\"attributes\":{},\"id\":\"8680\",\"type\":\"LinearScale\"},{\"attributes\":{\"overlay\":{\"id\":\"8715\",\"type\":\"BoxAnnotation\"}},\"id\":\"8694\",\"type\":\"BoxZoomTool\"},{\"attributes\":{\"bottom_units\":\"screen\",\"fill_alpha\":{\"value\":0.5},\"fill_color\":{\"value\":\"lightgrey\"},\"left_units\":\"screen\",\"level\":\"overlay\",\"line_alpha\":{\"value\":1.0},\"line_color\":{\"value\":\"black\"},\"line_dash\":[4,4],\"line_width\":{\"value\":2},\"render_mode\":\"css\",\"right_units\":\"screen\",\"top_units\":\"screen\"},\"id\":\"8715\",\"type\":\"BoxAnnotation\"},{\"attributes\":{\"line_color\":\"#1f77b4\",\"line_width\":2,\"x\":{\"field\":\"Iteration\"},\"y\":{\"field\":\"lr\"}},\"id\":\"8706\",\"type\":\"Line\"},{\"attributes\":{},\"id\":\"8678\",\"type\":\"LinearScale\"},{\"attributes\":{},\"id\":\"8696\",\"type\":\"ResetTool\"},{\"attributes\":{},\"id\":\"8697\",\"type\":\"HelpTool\"},{\"attributes\":{\"active_drag\":\"auto\",\"active_inspect\":\"auto\",\"active_multi\":null,\"active_scroll\":\"auto\",\"active_tap\":\"auto\",\"tools\":[{\"id\":\"8692\",\"type\":\"PanTool\"},{\"id\":\"8693\",\"type\":\"WheelZoomTool\"},{\"id\":\"8694\",\"type\":\"BoxZoomTool\"},{\"id\":\"8695\",\"type\":\"SaveTool\"},{\"id\":\"8696\",\"type\":\"ResetTool\"},{\"id\":\"8697\",\"type\":\"HelpTool\"},{\"id\":\"8718\",\"type\":\"HoverTool\"}]},\"id\":\"8698\",\"type\":\"Toolbar\"},{\"attributes\":{\"formatter\":{\"id\":\"8713\",\"type\":\"BasicTickFormatter\"},\"ticker\":{\"id\":\"8683\",\"type\":\"BasicTicker\"}},\"id\":\"8682\",\"type\":\"LinearAxis\"},{\"attributes\":{},\"id\":\"8713\",\"type\":\"BasicTickFormatter\"}],\"root_ids\":[\"8671\"]},\"title\":\"Bokeh Application\",\"version\":\"1.4.0\"}};\n",
       "  var render_items = [{\"docid\":\"d4f84403-e4d7-4755-ac12-f9ef9356c380\",\"roots\":{\"8671\":\"9ccf39a4-d833-4dcf-8305-8a99009b6b91\"}}];\n",
       "  root.Bokeh.embed.embed_items_notebook(docs_json, render_items);\n",
       "\n",
       "  }\n",
       "  if (root.Bokeh !== undefined) {\n",
       "    embed_document(root);\n",
       "  } else {\n",
       "    var attempts = 0;\n",
       "    var timer = setInterval(function(root) {\n",
       "      if (root.Bokeh !== undefined) {\n",
       "        clearInterval(timer);\n",
       "        embed_document(root);\n",
       "      } else {\n",
       "        attempts++;\n",
       "        if (attempts > 100) {\n",
       "          clearInterval(timer);\n",
       "          console.log(\"Bokeh: ERROR: Unable to run BokehJS code because BokehJS library is missing\");\n",
       "        }\n",
       "      }\n",
       "    }, 10, root)\n",
       "  }\n",
       "})(window);"
      ],
      "application/vnd.bokehjs_exec.v0+json": ""
     },
     "metadata": {
      "application/vnd.bokehjs_exec.v0+json": {
       "id": "8671"
      }
     },
     "output_type": "display_data"
    },
    {
     "data": {
      "text/html": [
       "\n",
       "\n",
       "\n",
       "\n",
       "\n",
       "\n",
       "  <div class=\"bk-root\" id=\"2a42aadc-ef24-4178-ab95-e345a606fc59\" data-root-id=\"9033\"></div>\n"
      ]
     },
     "metadata": {},
     "output_type": "display_data"
    },
    {
     "data": {
      "application/javascript": [
       "(function(root) {\n",
       "  function embed_document(root) {\n",
       "    \n",
       "  var docs_json = {\"620165d6-117d-486e-91b3-293f34a7c838\":{\"roots\":{\"references\":[{\"attributes\":{\"below\":[{\"id\":\"9044\",\"type\":\"LinearAxis\"}],\"center\":[{\"id\":\"9048\",\"type\":\"Grid\"},{\"id\":\"9053\",\"type\":\"Grid\"},{\"id\":\"9078\",\"type\":\"Legend\"}],\"left\":[{\"id\":\"9049\",\"type\":\"LinearAxis\"}],\"plot_height\":400,\"plot_width\":700,\"renderers\":[{\"id\":\"9070\",\"type\":\"GlyphRenderer\"},{\"id\":\"9083\",\"type\":\"GlyphRenderer\"},{\"id\":\"9097\",\"type\":\"GlyphRenderer\"}],\"title\":{\"id\":\"9034\",\"type\":\"Title\"},\"toolbar\":{\"id\":\"9060\",\"type\":\"Toolbar\"},\"x_range\":{\"id\":\"9036\",\"type\":\"DataRange1d\"},\"x_scale\":{\"id\":\"9040\",\"type\":\"LinearScale\"},\"y_range\":{\"id\":\"9038\",\"type\":\"DataRange1d\"},\"y_scale\":{\"id\":\"9042\",\"type\":\"LinearScale\"}},\"id\":\"9033\",\"subtype\":\"Figure\",\"type\":\"Plot\"},{\"attributes\":{\"callback\":null},\"id\":\"9036\",\"type\":\"DataRange1d\"},{\"attributes\":{\"callback\":null,\"data\":{\"Iteration\":{\"__ndarray__\":\"AAAAAAEAAAACAAAAAwAAAAQAAAA=\",\"dtype\":\"int32\",\"shape\":[5]},\"w_0\":{\"__ndarray__\":\"AACAPwAAgD8AAIA/AACAPwAAgD8=\",\"dtype\":\"float32\",\"shape\":[5]},\"w_1\":{\"__ndarray__\":\"AAAAQAAAAEAAAABAAAAAQAAAAEA=\",\"dtype\":\"float32\",\"shape\":[5]},\"w_2\":{\"__ndarray__\":\"AABAQAAAQEAAAEBAAABAQAAAQEA=\",\"dtype\":\"float32\",\"shape\":[5]}},\"selected\":{\"id\":\"9090\",\"type\":\"Selection\"},\"selection_policy\":{\"id\":\"9091\",\"type\":\"UnionRenderers\"}},\"id\":\"9032\",\"type\":\"ColumnDataSource\"},{\"attributes\":{\"line_color\":\"#FCFEA4\",\"line_width\":2,\"x\":{\"field\":\"Iteration\"},\"y\":{\"field\":\"w_2\"}},\"id\":\"9095\",\"type\":\"Line\"},{\"attributes\":{},\"id\":\"9054\",\"type\":\"PanTool\"},{\"attributes\":{\"active_drag\":\"auto\",\"active_inspect\":\"auto\",\"active_multi\":null,\"active_scroll\":\"auto\",\"active_tap\":\"auto\",\"tools\":[{\"id\":\"9054\",\"type\":\"PanTool\"},{\"id\":\"9055\",\"type\":\"WheelZoomTool\"},{\"id\":\"9056\",\"type\":\"BoxZoomTool\"},{\"id\":\"9057\",\"type\":\"SaveTool\"},{\"id\":\"9058\",\"type\":\"ResetTool\"},{\"id\":\"9059\",\"type\":\"HelpTool\"},{\"id\":\"9108\",\"type\":\"HoverTool\"}]},\"id\":\"9060\",\"type\":\"Toolbar\"},{\"attributes\":{\"line_alpha\":0.1,\"line_color\":\"#1f77b4\",\"line_width\":2,\"x\":{\"field\":\"Iteration\"},\"y\":{\"field\":\"w_2\"}},\"id\":\"9096\",\"type\":\"Line\"},{\"attributes\":{},\"id\":\"9057\",\"type\":\"SaveTool\"},{\"attributes\":{},\"id\":\"9058\",\"type\":\"ResetTool\"},{\"attributes\":{\"callback\":null,\"formatters\":{\"Iteration\":\"numeral\",\"w_0\":\"numeral\",\"w_1\":\"numeral\",\"w_2\":\"numeral\"},\"mode\":\"vline\",\"tooltips\":[[\"Iteration\",\"@Iteration\"],[\"w_0\",\"@w_0\"],[\"w_1\",\"@w_1\"],[\"w_2\",\"@w_2\"]]},\"id\":\"9108\",\"type\":\"HoverTool\"},{\"attributes\":{\"overlay\":{\"id\":\"9077\",\"type\":\"BoxAnnotation\"}},\"id\":\"9056\",\"type\":\"BoxZoomTool\"},{\"attributes\":{},\"id\":\"9090\",\"type\":\"Selection\"},{\"attributes\":{},\"id\":\"9042\",\"type\":\"LinearScale\"},{\"attributes\":{\"dimension\":1,\"ticker\":{\"id\":\"9050\",\"type\":\"BasicTicker\"}},\"id\":\"9053\",\"type\":\"Grid\"},{\"attributes\":{\"line_color\":\"#000003\",\"line_width\":2,\"x\":{\"field\":\"Iteration\"},\"y\":{\"field\":\"w_0\"}},\"id\":\"9068\",\"type\":\"Line\"},{\"attributes\":{\"data_source\":{\"id\":\"9032\",\"type\":\"ColumnDataSource\"},\"glyph\":{\"id\":\"9068\",\"type\":\"Line\"},\"hover_glyph\":null,\"muted_glyph\":null,\"nonselection_glyph\":{\"id\":\"9069\",\"type\":\"Line\"},\"selection_glyph\":null,\"view\":{\"id\":\"9071\",\"type\":\"CDSView\"}},\"id\":\"9070\",\"type\":\"GlyphRenderer\"},{\"attributes\":{},\"id\":\"9050\",\"type\":\"BasicTicker\"},{\"attributes\":{\"data_source\":{\"id\":\"9032\",\"type\":\"ColumnDataSource\"},\"glyph\":{\"id\":\"9081\",\"type\":\"Line\"},\"hover_glyph\":null,\"muted_glyph\":null,\"nonselection_glyph\":{\"id\":\"9082\",\"type\":\"Line\"},\"selection_glyph\":null,\"view\":{\"id\":\"9084\",\"type\":\"CDSView\"}},\"id\":\"9083\",\"type\":\"GlyphRenderer\"},{\"attributes\":{\"label\":{\"value\":\"w_0\"},\"renderers\":[{\"id\":\"9070\",\"type\":\"GlyphRenderer\"}]},\"id\":\"9079\",\"type\":\"LegendItem\"},{\"attributes\":{\"label\":{\"value\":\"w_2\"},\"renderers\":[{\"id\":\"9097\",\"type\":\"GlyphRenderer\"}]},\"id\":\"9107\",\"type\":\"LegendItem\"},{\"attributes\":{\"source\":{\"id\":\"9032\",\"type\":\"ColumnDataSource\"}},\"id\":\"9071\",\"type\":\"CDSView\"},{\"attributes\":{\"data_source\":{\"id\":\"9032\",\"type\":\"ColumnDataSource\"},\"glyph\":{\"id\":\"9095\",\"type\":\"Line\"},\"hover_glyph\":null,\"muted_glyph\":null,\"nonselection_glyph\":{\"id\":\"9096\",\"type\":\"Line\"},\"selection_glyph\":null,\"view\":{\"id\":\"9098\",\"type\":\"CDSView\"}},\"id\":\"9097\",\"type\":\"GlyphRenderer\"},{\"attributes\":{\"formatter\":{\"id\":\"9075\",\"type\":\"BasicTickFormatter\"},\"ticker\":{\"id\":\"9045\",\"type\":\"BasicTicker\"}},\"id\":\"9044\",\"type\":\"LinearAxis\"},{\"attributes\":{},\"id\":\"9075\",\"type\":\"BasicTickFormatter\"},{\"attributes\":{},\"id\":\"9059\",\"type\":\"HelpTool\"},{\"attributes\":{\"line_color\":\"#BA3655\",\"line_width\":2,\"x\":{\"field\":\"Iteration\"},\"y\":{\"field\":\"w_1\"}},\"id\":\"9081\",\"type\":\"Line\"},{\"attributes\":{\"line_alpha\":0.1,\"line_color\":\"#1f77b4\",\"line_width\":2,\"x\":{\"field\":\"Iteration\"},\"y\":{\"field\":\"w_0\"}},\"id\":\"9069\",\"type\":\"Line\"},{\"attributes\":{\"source\":{\"id\":\"9032\",\"type\":\"ColumnDataSource\"}},\"id\":\"9084\",\"type\":\"CDSView\"},{\"attributes\":{\"text\":\"Model weights vs iteration\"},\"id\":\"9034\",\"type\":\"Title\"},{\"attributes\":{},\"id\":\"9040\",\"type\":\"LinearScale\"},{\"attributes\":{},\"id\":\"9055\",\"type\":\"WheelZoomTool\"},{\"attributes\":{},\"id\":\"9091\",\"type\":\"UnionRenderers\"},{\"attributes\":{\"callback\":null},\"id\":\"9038\",\"type\":\"DataRange1d\"},{\"attributes\":{\"formatter\":{\"id\":\"9073\",\"type\":\"BasicTickFormatter\"},\"ticker\":{\"id\":\"9050\",\"type\":\"BasicTicker\"}},\"id\":\"9049\",\"type\":\"LinearAxis\"},{\"attributes\":{},\"id\":\"9045\",\"type\":\"BasicTicker\"},{\"attributes\":{\"label\":{\"value\":\"w_1\"},\"renderers\":[{\"id\":\"9083\",\"type\":\"GlyphRenderer\"}]},\"id\":\"9093\",\"type\":\"LegendItem\"},{\"attributes\":{\"line_alpha\":0.1,\"line_color\":\"#1f77b4\",\"line_width\":2,\"x\":{\"field\":\"Iteration\"},\"y\":{\"field\":\"w_1\"}},\"id\":\"9082\",\"type\":\"Line\"},{\"attributes\":{\"items\":[{\"id\":\"9079\",\"type\":\"LegendItem\"},{\"id\":\"9093\",\"type\":\"LegendItem\"},{\"id\":\"9107\",\"type\":\"LegendItem\"}]},\"id\":\"9078\",\"type\":\"Legend\"},{\"attributes\":{\"source\":{\"id\":\"9032\",\"type\":\"ColumnDataSource\"}},\"id\":\"9098\",\"type\":\"CDSView\"},{\"attributes\":{\"bottom_units\":\"screen\",\"fill_alpha\":{\"value\":0.5},\"fill_color\":{\"value\":\"lightgrey\"},\"left_units\":\"screen\",\"level\":\"overlay\",\"line_alpha\":{\"value\":1.0},\"line_color\":{\"value\":\"black\"},\"line_dash\":[4,4],\"line_width\":{\"value\":2},\"render_mode\":\"css\",\"right_units\":\"screen\",\"top_units\":\"screen\"},\"id\":\"9077\",\"type\":\"BoxAnnotation\"},{\"attributes\":{\"ticker\":{\"id\":\"9045\",\"type\":\"BasicTicker\"}},\"id\":\"9048\",\"type\":\"Grid\"},{\"attributes\":{},\"id\":\"9073\",\"type\":\"BasicTickFormatter\"}],\"root_ids\":[\"9033\"]},\"title\":\"Bokeh Application\",\"version\":\"1.4.0\"}};\n",
       "  var render_items = [{\"docid\":\"620165d6-117d-486e-91b3-293f34a7c838\",\"roots\":{\"9033\":\"2a42aadc-ef24-4178-ab95-e345a606fc59\"}}];\n",
       "  root.Bokeh.embed.embed_items_notebook(docs_json, render_items);\n",
       "\n",
       "  }\n",
       "  if (root.Bokeh !== undefined) {\n",
       "    embed_document(root);\n",
       "  } else {\n",
       "    var attempts = 0;\n",
       "    var timer = setInterval(function(root) {\n",
       "      if (root.Bokeh !== undefined) {\n",
       "        clearInterval(timer);\n",
       "        embed_document(root);\n",
       "      } else {\n",
       "        attempts++;\n",
       "        if (attempts > 100) {\n",
       "          clearInterval(timer);\n",
       "          console.log(\"Bokeh: ERROR: Unable to run BokehJS code because BokehJS library is missing\");\n",
       "        }\n",
       "      }\n",
       "    }, 10, root)\n",
       "  }\n",
       "})(window);"
      ],
      "application/vnd.bokehjs_exec.v0+json": ""
     },
     "metadata": {
      "application/vnd.bokehjs_exec.v0+json": {
       "id": "9033"
      }
     },
     "output_type": "display_data"
    }
   ],
   "source": [
    "pl = Plotter(rec=rec)\n",
    "pl.plot_loss()\n",
    "pl.plot_hyper_params()\n",
    "pl.plot_weights()"
   ]
  },
  {
   "cell_type": "code",
   "execution_count": 176,
   "metadata": {},
   "outputs": [],
   "source": [
    "class SGD(Optimizer):\n",
    "    \n",
    "    def __init__(self, model_params, lr: float = .01):\n",
    "        super().__init__(model_params, name=\"SGD\", lr=lr)\n",
    "        \n",
    "    def update(self):\n",
    "        \n",
    "        with torch.no_grad():\n",
    "            self.model_params.sub_(self.model_params.grad * self.lr)\n",
    "        \n",
    "            self.zero_grad()\n",
    "            \n",
    "class PyTorchOpt(Optimizer):\n",
    "        \n",
    "    def __init__(self, model_params, opt: torch.optim.Optimizer, **hyper_params):\n",
    "        super().__init__(model_params, name=\"pytorch optimizer\", **hyper_params)\n",
    "        self.opt = opt([model_params], **hyper_params)\n",
    "        \n",
    "    def update(self):\n",
    "        self.opt.step()\n",
    "        self.opt.zero_grad()    \n",
    "\n",
    "        \n",
    "            \n",
    "class HyperParamsScheduler:\n",
    "    \n",
    "    hyper_params: dict = None\n",
    "    schedule_params: dict = None\n",
    "        \n",
    "    def __init__(self, opt: Optimizer, **schedule_params):\n",
    "        self.hyper_params = opt.hyper_params\n",
    "        self.schedule_params = schedule_params\n",
    "        \n",
    "    def __getattr__(self, k):\n",
    "        return self.schedule_params[k]\n",
    "    \n",
    "    def update(self, epoch):\n",
    "        pass\n",
    "\n",
    "            \n",
    "class LRDecayScheduler(HyperParamsScheduler):\n",
    "        \n",
    "    def __init__(self, opt: Optimizer, _lambda: float = .9):\n",
    "        super().__init__(opt, _lambda=_lambda)\n",
    "        \n",
    "    def update(self, epoch):\n",
    "        self.hyper_params[\"lr\"] = self.hyper_params[\"lr\"] * self._lambda\n",
    "        \n",
    "\n",
    "class Learner:\n",
    "    \"Manages the training\"\n",
    "    \n",
    "    model = None  # model\n",
    "    db = None  # data bunch\n",
    "    opt = None  # optimizer\n",
    "    rec = None  # recorder\n",
    "    loss_fun = None\n",
    "    hs = None  # hyper parameter scheduler\n",
    "    epoch = 0\n",
    "    \n",
    "    def __init__(self, model, db: XYDatabunch, opt: Optimizer, loss_fun: MSELoss, rec: Recorder = None,\n",
    "                 hyper_scheduler: HyperParamsScheduler=None):\n",
    "        self.model = model\n",
    "        self.db = db\n",
    "        self.opt = opt\n",
    "        self.loss_fun = loss_fun\n",
    "        self.rec = rec if rec is not None else Recorder()\n",
    "        self.hs = hyper_scheduler if hyper_scheduler is not None else HyperParamsScheduler(opt)\n",
    "                \n",
    "    def do_epoch(self):\n",
    "                \n",
    "        # train\n",
    "        end_epoch = False\n",
    "        while not end_epoch:\n",
    "            (_x, _y), end_epoch = self.db.get_data(\"train\", flag_end=True)\n",
    "            _y_pred = self.model(_x)\n",
    "            loss = self.loss_fun(_y_pred, _y)\n",
    "            self.rec.store_loss(\"train\", loss)\n",
    "            loss.backward()\n",
    "            self.hs.update(self.epoch)\n",
    "            self.opt.update()\n",
    "            self.rec.store_weights(self.opt.model_params)\n",
    "            self.rec.store_batch(_x, _y, _y_pred)\n",
    "\n",
    "            # validate\n",
    "            with torch.no_grad():\n",
    "                _x, _y = self.db.get_data(\"valid\")\n",
    "                _y_pred = self.model(_x)\n",
    "                loss = self.loss_fun(_y_pred, _y)\n",
    "                self.rec.store_loss(\"valid\", loss)\n",
    "\n",
    "            self.rec.store_hyper_params(opt)\n",
    "    \n",
    "        self.epoch += 1\n",
    "        \n",
    "    def fit(self, epochs: int=1):\n",
    "        for epoch in range(epochs):\n",
    "            self.do_epoch(epoch)"
   ]
  },
  {
   "cell_type": "code",
   "execution_count": 177,
   "metadata": {},
   "outputs": [],
   "source": [
    "lm = LinearModel(deg=len(w))\n",
    "# opt = SGD(lm.w, lr=.1)\n",
    "opt = PyTorchOpt(lm.w, opt=torch.optim.SGD, lr=.01)\n",
    "lrs = None # LRDecayScheduler(opt, _lambda=.9) \n",
    "learn = Learner(lm, db, opt, MSELoss, hyper_scheduler=lrs)"
   ]
  },
  {
   "cell_type": "code",
   "execution_count": 178,
   "metadata": {},
   "outputs": [
    {
     "data": {
      "text/plain": [
       "(Parameter containing:\n",
       " tensor([ 0.0774, -0.5694,  1.1844], requires_grad=True), 0)"
      ]
     },
     "execution_count": 178,
     "metadata": {},
     "output_type": "execute_result"
    }
   ],
   "source": [
    "opt.model_params, learn.epoch"
   ]
  },
  {
   "cell_type": "code",
   "execution_count": 179,
   "metadata": {},
   "outputs": [
    {
     "name": "stdout",
     "output_type": "stream",
     "text": [
      "Reached the limit of the valid data set, restarting.\n",
      "Reached the limit of the train data set, restarting.\n",
      "Reached the limit of the valid data set, restarting.\n"
     ]
    }
   ],
   "source": [
    "learn.do_epoch()"
   ]
  },
  {
   "cell_type": "code",
   "execution_count": 77,
   "metadata": {
    "scrolled": true
   },
   "outputs": [
    {
     "name": "stdout",
     "output_type": "stream",
     "text": [
      "Reached the limit of the train data set, restarting.\n",
      "Reached the limit of the valid data set, restarting.\n",
      "Reached the limit of the valid data set, restarting.\n",
      "Reached the limit of the train data set, restarting.\n",
      "Reached the limit of the valid data set, restarting.\n",
      "Reached the limit of the valid data set, restarting.\n",
      "Reached the limit of the train data set, restarting.\n",
      "Reached the limit of the valid data set, restarting.\n",
      "Reached the limit of the valid data set, restarting.\n",
      "Reached the limit of the train data set, restarting.\n",
      "Reached the limit of the valid data set, restarting.\n",
      "Reached the limit of the valid data set, restarting.\n",
      "Reached the limit of the train data set, restarting.\n",
      "Reached the limit of the valid data set, restarting.\n",
      "Reached the limit of the valid data set, restarting.\n",
      "Reached the limit of the train data set, restarting.\n",
      "Reached the limit of the valid data set, restarting.\n",
      "Reached the limit of the valid data set, restarting.\n",
      "Reached the limit of the train data set, restarting.\n",
      "Reached the limit of the valid data set, restarting.\n",
      "Reached the limit of the valid data set, restarting.\n",
      "Reached the limit of the train data set, restarting.\n",
      "Reached the limit of the valid data set, restarting.\n",
      "Reached the limit of the valid data set, restarting.\n",
      "Reached the limit of the train data set, restarting.\n",
      "Reached the limit of the valid data set, restarting.\n",
      "Reached the limit of the valid data set, restarting.\n",
      "Reached the limit of the train data set, restarting.\n",
      "Reached the limit of the valid data set, restarting.\n"
     ]
    }
   ],
   "source": [
    "learn.fit(epochs=10)"
   ]
  },
  {
   "cell_type": "code",
   "execution_count": 180,
   "metadata": {},
   "outputs": [
    {
     "data": {
      "text/plain": [
       "(Parameter containing:\n",
       " tensor([ 0.2613, -0.3679,  1.2618], requires_grad=True), 1)"
      ]
     },
     "execution_count": 180,
     "metadata": {},
     "output_type": "execute_result"
    }
   ],
   "source": [
    "lm.w, learn.epoch"
   ]
  },
  {
   "cell_type": "code",
   "execution_count": 183,
   "metadata": {
    "scrolled": true
   },
   "outputs": [
    {
     "data": {
      "text/plain": [
       "Telemetry\n",
       "=========\n",
       "loss: {'train': [10.48410415649414, 9.083724975585938, 7.030219078063965, 12.279211044311523], 'valid': [13.1488676071167, 11.878055572509766, 11.833963394165039, 14.231579780578613]}\n",
       "weights: [tensor([ 0.1585, -0.5063,  1.2175]), tensor([ 0.2142, -0.4549,  1.2412]), tensor([ 0.2917, -0.4014,  1.2679]), tensor([ 0.2613, -0.3679,  1.2618])]\n",
       "hyper_params: {'lr': [0.01, 0.01, 0.01, 0.01]}\n",
       "x: [tensor([[ 0.0450,  0.2121,  1.0000],\n",
       "        [ 5.7309,  2.3939,  1.0000],\n",
       "        [ 0.1397,  0.3737,  1.0000],\n",
       "        [ 1.9150,  1.3838,  1.0000],\n",
       "        [ 7.3830,  2.7172,  1.0000],\n",
       "        [ 1.4938,  1.2222,  1.0000],\n",
       "        [ 2.3884,  1.5455,  1.0000],\n",
       "        [ 1.0000, -1.0000,  1.0000],\n",
       "        [ 0.0295,  0.1717,  1.0000],\n",
       "        [ 0.4050, -0.6364,  1.0000],\n",
       "        [ 2.5149,  1.5859,  1.0000],\n",
       "        [ 6.3260,  2.5152,  1.0000],\n",
       "        [ 5.3506,  2.3131,  1.0000],\n",
       "        [ 0.1715,  0.4141,  1.0000],\n",
       "        [ 0.0230, -0.1515,  1.0000],\n",
       "        [ 8.2874,  2.8788,  1.0000],\n",
       "        [ 0.0123, -0.1111,  1.0000],\n",
       "        [ 2.6447,  1.6263,  1.0000],\n",
       "        [ 0.2066,  0.4545,  1.0000],\n",
       "        [ 0.1111,  0.3333,  1.0000]]), tensor([[ 2.1452e+00,  1.4646e+00,  1.0000e+00],\n",
       "        [ 8.8246e-01,  9.3939e-01,  1.0000e+00],\n",
       "        [ 3.4920e+00,  1.8687e+00,  1.0000e+00],\n",
       "        [ 9.8051e-02, -3.1313e-01,  1.0000e+00],\n",
       "        [ 1.7243e-02,  1.3131e-01,  1.0000e+00],\n",
       "        [ 9.1827e-04, -3.0303e-02,  1.0000e+00],\n",
       "        [ 9.0000e+00,  3.0000e+00,  1.0000e+00],\n",
       "        [ 1.1249e+00,  1.0606e+00,  1.0000e+00],\n",
       "        [ 5.5391e+00,  2.3535e+00,  1.0000e+00],\n",
       "        [ 2.5508e-03,  5.0505e-02,  1.0000e+00],\n",
       "        [ 6.3769e-02,  2.5253e-01,  1.0000e+00],\n",
       "        [ 3.3426e+00,  1.8283e+00,  1.0000e+00],\n",
       "        [ 3.6446e+00,  1.9091e+00,  1.0000e+00],\n",
       "        [ 2.6538e-01, -5.1515e-01,  1.0000e+00],\n",
       "        [ 1.3967e+00,  1.1818e+00,  1.0000e+00],\n",
       "        [ 1.5942e+00,  1.2626e+00,  1.0000e+00],\n",
       "        [ 5.1434e-01, -7.1717e-01,  1.0000e+00],\n",
       "        [ 6.9504e+00,  2.6364e+00,  1.0000e+00],\n",
       "        [ 1.5519e-01, -3.9394e-01,  1.0000e+00],\n",
       "        [ 3.5517e-01, -5.9596e-01,  1.0000e+00]]), tensor([[ 8.2645e-03,  9.0909e-02,  1.0000e+00],\n",
       "        [ 2.8660e-01,  5.3535e-01,  1.0000e+00],\n",
       "        [ 6.0494e-01,  7.7778e-01,  1.0000e+00],\n",
       "        [ 6.3677e-01, -7.9798e-01,  1.0000e+00],\n",
       "        [ 6.1244e+00,  2.4747e+00,  1.0000e+00],\n",
       "        [ 4.8045e+00,  2.1919e+00,  1.0000e+00],\n",
       "        [ 8.5808e-02,  2.9293e-01,  1.0000e+00],\n",
       "        [ 7.1651e+00,  2.6768e+00,  1.0000e+00],\n",
       "        [ 1.2499e-01, -3.5354e-01,  1.0000e+00],\n",
       "        [ 1.8865e-01, -4.3434e-01,  1.0000e+00],\n",
       "        [ 1.3028e+00,  1.1414e+00,  1.0000e+00],\n",
       "        [ 4.2878e+00,  2.0707e+00,  1.0000e+00],\n",
       "        [ 4.4568e+00,  2.1111e+00,  1.0000e+00],\n",
       "        [ 2.7778e+00,  1.6667e+00,  1.0000e+00],\n",
       "        [ 4.9995e-03, -7.0707e-02,  1.0000e+00],\n",
       "        [ 4.9833e+00,  2.2323e+00,  1.0000e+00],\n",
       "        [ 2.0285e+00,  1.4242e+00,  1.0000e+00],\n",
       "        [ 3.0537e+00,  1.7475e+00,  1.0000e+00],\n",
       "        [ 6.7390e+00,  2.5960e+00,  1.0000e+00],\n",
       "        [ 6.5309e+00,  2.5556e+00,  1.0000e+00]]), tensor([[ 2.3884,  1.5455,  1.0000],\n",
       "        [ 9.0000,  3.0000,  1.0000],\n",
       "        [ 0.4858,  0.6970,  1.0000],\n",
       "        [ 3.6446,  1.9091,  1.0000],\n",
       "        [ 0.6368, -0.7980,  1.0000],\n",
       "        [ 1.3028,  1.1414,  1.0000],\n",
       "        [ 0.6694,  0.8182,  1.0000],\n",
       "        [ 0.0450,  0.2121,  1.0000],\n",
       "        [ 7.6042,  2.7576,  1.0000],\n",
       "        [ 5.5391,  2.3535,  1.0000],\n",
       "        [ 7.1651,  2.6768,  1.0000],\n",
       "        [ 5.3506,  2.3131,  1.0000],\n",
       "        [ 2.1452,  1.4646,  1.0000],\n",
       "        [ 3.3426,  1.8283,  1.0000],\n",
       "        [ 0.0230, -0.1515,  1.0000],\n",
       "        [ 0.2654, -0.5152,  1.0000],\n",
       "        [ 1.0000, -1.0000,  1.0000],\n",
       "        [ 7.3830,  2.7172,  1.0000],\n",
       "        [ 0.8449, -0.9192,  1.0000],\n",
       "        [ 0.5143, -0.7172,  1.0000]])]\n",
       "y: [tensor([ 2.9706,  2.5078,  3.5893,  5.0892,  0.8198,  5.1235,  4.9504, -5.0000,\n",
       "         2.7996, -1.9917,  4.8994,  1.9238,  2.8645,  3.7277,  1.1965, -0.1809,\n",
       "         1.4198,  4.8419,  3.8595,  3.4444]), tensor([ 5.0329,  4.9320,  4.3595,  0.2382,  2.6221,  1.8466, -1.0000,  5.0533,\n",
       "         2.6894,  2.2474,  3.1351,  4.4562,  4.2562, -1.1065,  5.1157,  5.1247,\n",
       "        -2.6145,  1.2810, -0.2801, -1.6901]), tensor([ 2.4380,  4.1036,  4.6790, -3.2634,  2.1250,  3.3506,  3.2930,  1.0537,\n",
       "        -0.0177, -0.5490,  5.1014,  3.7779,  3.6420,  4.7778,  1.6365,  3.1951,\n",
       "         5.0643,  4.6300,  1.5018,  1.7160]), tensor([ 4.9504, -1.0000,  4.5133,  4.2562, -3.2634,  5.1014,  4.7521,  2.9706,\n",
       "         0.5794,  2.6894,  1.0537,  2.8645,  5.0329,  4.4562,  1.1965, -1.1065,\n",
       "        -5.0000,  0.8198, -4.2858, -2.6145])]\n",
       "y_pred: [tensor([1.0671, 0.2646, 0.9824, 0.5445, 0.2083, 0.6040, 0.4891, 1.8311, 1.0889,\n",
       "        1.5780, 0.4759, 0.2416, 0.2811, 0.9618, 1.2724, 0.1862, 1.2486, 0.4629,\n",
       "        0.9415, 1.0032]), tensor([0.8160, 0.8818, 0.8249, 1.3916, 1.1537, 1.2330, 1.1253, 0.8588, 0.9040,\n",
       "        1.1923, 1.0997, 0.8217, 0.8287, 1.5204, 0.8405, 0.8309, 1.6621, 0.9845,\n",
       "        1.4416, 1.5755]), tensor([1.2016, 1.0591, 1.0170, 1.7406, 1.4274, 1.2734, 1.1263, 1.5585, 1.4288,\n",
       "        1.4792, 1.0011, 1.2178, 1.2356, 1.0781, 1.2744, 1.2933, 1.0279, 1.1005,\n",
       "        1.5040, 1.4778]), tensor([1.3443, 2.6891, 1.1299, 1.5648, 1.7740, 1.1898, 1.1348, 1.1959, 2.3792,\n",
       "        1.9390, 2.2836, 1.9002, 1.3058, 1.5091, 1.3354, 1.5521, 1.9610, 2.3309,\n",
       "        1.8833, 1.7058])]"
      ]
     },
     "execution_count": 183,
     "metadata": {},
     "output_type": "execute_result"
    }
   ],
   "source": [
    "learn.rec.stats"
   ]
  },
  {
   "cell_type": "code",
   "execution_count": 181,
   "metadata": {},
   "outputs": [
    {
     "data": {
      "text/plain": [
       "tensor(0., grad_fn=<MeanBackward0>)"
      ]
     },
     "execution_count": 181,
     "metadata": {},
     "output_type": "execute_result"
    }
   ],
   "source": [
    "MSELoss(y, lm_ori(X))"
   ]
  },
  {
   "cell_type": "code",
   "execution_count": 182,
   "metadata": {},
   "outputs": [
    {
     "data": {
      "text/plain": [
       "tensor(9.1302, grad_fn=<MeanBackward0>)"
      ]
     },
     "execution_count": 182,
     "metadata": {},
     "output_type": "execute_result"
    }
   ],
   "source": [
    "MSELoss(y, lm(X))"
   ]
  },
  {
   "cell_type": "code",
   "execution_count": 184,
   "metadata": {},
   "outputs": [
    {
     "data": {
      "image/png": "[encoded data removed]",
      "text/plain": [
       "<Figure size 720x576 with 1 Axes>"
      ]
     },
     "metadata": {
      "needs_background": "light"
     },
     "output_type": "display_data"
    }
   ],
   "source": [
    "fig, ax = plt.subplots(figsize=(10, 8))\n",
    "ax.plot(x, y, \".\", label=\"data\")\n",
    "\n",
    "with torch.no_grad():\n",
    "    _x = torch.linspace(x.min(), x.max(), 1000)\n",
    "    ax.plot(_x, lm(polynomify(_x, deg)), \"-\", label=\"estimated model\")\n",
    "    ax.plot(_x, lm_ori(polynomify(_x, deg)), \"--\", label=\"true model\")\n",
    "ax.legend(title=\"Source\")\n",
    "ax.set_xlabel(\"x\")\n",
    "ax.set_ylabel(\"y\")\n",
    "ax.set_title(\"Model vs original data\")\n",
    "plt.show()"
   ]
  },
  {
   "cell_type": "code",
   "execution_count": 185,
   "metadata": {},
   "outputs": [
    {
     "data": {
      "text/html": [
       "\n",
       "\n",
       "\n",
       "\n",
       "\n",
       "\n",
       "  <div class=\"bk-root\" id=\"957a4802-3a19-4a61-a758-a45827744079\" data-root-id=\"9431\"></div>\n"
      ]
     },
     "metadata": {},
     "output_type": "display_data"
    },
    {
     "data": {
      "application/javascript": [
       "(function(root) {\n",
       "  function embed_document(root) {\n",
       "    \n",
       "  var docs_json = {\"ca073c00-56f2-4014-81b0-d6302cf9ba2c\":{\"roots\":{\"references\":[{\"attributes\":{\"below\":[{\"id\":\"9442\",\"type\":\"LinearAxis\"}],\"center\":[{\"id\":\"9446\",\"type\":\"Grid\"},{\"id\":\"9451\",\"type\":\"Grid\"},{\"id\":\"9476\",\"type\":\"Legend\"}],\"left\":[{\"id\":\"9447\",\"type\":\"LinearAxis\"}],\"plot_height\":400,\"plot_width\":700,\"renderers\":[{\"id\":\"9468\",\"type\":\"GlyphRenderer\"},{\"id\":\"9481\",\"type\":\"GlyphRenderer\"}],\"title\":{\"id\":\"9432\",\"type\":\"Title\"},\"toolbar\":{\"id\":\"9458\",\"type\":\"Toolbar\"},\"x_range\":{\"id\":\"9434\",\"type\":\"DataRange1d\"},\"x_scale\":{\"id\":\"9438\",\"type\":\"LinearScale\"},\"y_range\":{\"id\":\"9436\",\"type\":\"DataRange1d\"},\"y_scale\":{\"id\":\"9440\",\"type\":\"LinearScale\"}},\"id\":\"9431\",\"subtype\":\"Figure\",\"type\":\"Plot\"},{\"attributes\":{},\"id\":\"9448\",\"type\":\"BasicTicker\"},{\"attributes\":{\"source\":{\"id\":\"9430\",\"type\":\"ColumnDataSource\"}},\"id\":\"9469\",\"type\":\"CDSView\"},{\"attributes\":{\"overlay\":{\"id\":\"9475\",\"type\":\"BoxAnnotation\"}},\"id\":\"9454\",\"type\":\"BoxZoomTool\"},{\"attributes\":{\"axis_label\":\"Iteration\",\"formatter\":{\"id\":\"9473\",\"type\":\"BasicTickFormatter\"},\"ticker\":{\"id\":\"9443\",\"type\":\"BasicTicker\"}},\"id\":\"9442\",\"type\":\"LinearAxis\"},{\"attributes\":{\"axis_label\":\"Loss\",\"formatter\":{\"id\":\"9471\",\"type\":\"BasicTickFormatter\"},\"ticker\":{\"id\":\"9448\",\"type\":\"BasicTicker\"}},\"id\":\"9447\",\"type\":\"LinearAxis\"},{\"attributes\":{\"callback\":null},\"id\":\"9436\",\"type\":\"DataRange1d\"},{\"attributes\":{},\"id\":\"9455\",\"type\":\"SaveTool\"},{\"attributes\":{\"data_source\":{\"id\":\"9430\",\"type\":\"ColumnDataSource\"},\"glyph\":{\"id\":\"9479\",\"type\":\"Line\"},\"hover_glyph\":null,\"muted_glyph\":null,\"nonselection_glyph\":{\"id\":\"9480\",\"type\":\"Line\"},\"selection_glyph\":null,\"view\":{\"id\":\"9482\",\"type\":\"CDSView\"}},\"id\":\"9481\",\"type\":\"GlyphRenderer\"},{\"attributes\":{},\"id\":\"9456\",\"type\":\"ResetTool\"},{\"attributes\":{},\"id\":\"9438\",\"type\":\"LinearScale\"},{\"attributes\":{\"label\":{\"value\":\"Validate\"},\"renderers\":[{\"id\":\"9481\",\"type\":\"GlyphRenderer\"}]},\"id\":\"9491\",\"type\":\"LegendItem\"},{\"attributes\":{},\"id\":\"9471\",\"type\":\"BasicTickFormatter\"},{\"attributes\":{\"data_source\":{\"id\":\"9430\",\"type\":\"ColumnDataSource\"},\"glyph\":{\"id\":\"9466\",\"type\":\"Line\"},\"hover_glyph\":null,\"muted_glyph\":null,\"nonselection_glyph\":{\"id\":\"9467\",\"type\":\"Line\"},\"selection_glyph\":null,\"view\":{\"id\":\"9469\",\"type\":\"CDSView\"}},\"id\":\"9468\",\"type\":\"GlyphRenderer\"},{\"attributes\":{\"ticker\":{\"id\":\"9443\",\"type\":\"BasicTicker\"}},\"id\":\"9446\",\"type\":\"Grid\"},{\"attributes\":{\"text\":\"Losses vs iteration\"},\"id\":\"9432\",\"type\":\"Title\"},{\"attributes\":{},\"id\":\"9473\",\"type\":\"BasicTickFormatter\"},{\"attributes\":{\"callback\":null,\"data\":{\"Iteration\":{\"__ndarray__\":\"AAAAAAEAAAACAAAAAwAAAA==\",\"dtype\":\"int32\",\"shape\":[4]},\"Train\":[10.48410415649414,9.083724975585938,7.030219078063965,12.279211044311523],\"Validation\":[13.1488676071167,11.878055572509766,11.833963394165039,14.231579780578613]},\"selected\":{\"id\":\"9488\",\"type\":\"Selection\"},\"selection_policy\":{\"id\":\"9489\",\"type\":\"UnionRenderers\"}},\"id\":\"9430\",\"type\":\"ColumnDataSource\"},{\"attributes\":{\"active_drag\":\"auto\",\"active_inspect\":\"auto\",\"active_multi\":null,\"active_scroll\":\"auto\",\"active_tap\":\"auto\",\"tools\":[{\"id\":\"9452\",\"type\":\"PanTool\"},{\"id\":\"9453\",\"type\":\"WheelZoomTool\"},{\"id\":\"9454\",\"type\":\"BoxZoomTool\"},{\"id\":\"9455\",\"type\":\"SaveTool\"},{\"id\":\"9456\",\"type\":\"ResetTool\"},{\"id\":\"9457\",\"type\":\"HelpTool\"},{\"id\":\"9492\",\"type\":\"HoverTool\"}]},\"id\":\"9458\",\"type\":\"Toolbar\"},{\"attributes\":{},\"id\":\"9453\",\"type\":\"WheelZoomTool\"},{\"attributes\":{\"bottom_units\":\"screen\",\"fill_alpha\":{\"value\":0.5},\"fill_color\":{\"value\":\"lightgrey\"},\"left_units\":\"screen\",\"level\":\"overlay\",\"line_alpha\":{\"value\":1.0},\"line_color\":{\"value\":\"black\"},\"line_dash\":[4,4],\"line_width\":{\"value\":2},\"render_mode\":\"css\",\"right_units\":\"screen\",\"top_units\":\"screen\"},\"id\":\"9475\",\"type\":\"BoxAnnotation\"},{\"attributes\":{\"line_color\":\"#000003\",\"line_width\":2,\"x\":{\"field\":\"Iteration\"},\"y\":{\"field\":\"Train\"}},\"id\":\"9466\",\"type\":\"Line\"},{\"attributes\":{\"callback\":null},\"id\":\"9434\",\"type\":\"DataRange1d\"},{\"attributes\":{},\"id\":\"9452\",\"type\":\"PanTool\"},{\"attributes\":{\"label\":{\"value\":\"Train\"},\"renderers\":[{\"id\":\"9468\",\"type\":\"GlyphRenderer\"}]},\"id\":\"9477\",\"type\":\"LegendItem\"},{\"attributes\":{\"dimension\":1,\"ticker\":{\"id\":\"9448\",\"type\":\"BasicTicker\"}},\"id\":\"9451\",\"type\":\"Grid\"},{\"attributes\":{\"items\":[{\"id\":\"9477\",\"type\":\"LegendItem\"},{\"id\":\"9491\",\"type\":\"LegendItem\"}]},\"id\":\"9476\",\"type\":\"Legend\"},{\"attributes\":{},\"id\":\"9489\",\"type\":\"UnionRenderers\"},{\"attributes\":{},\"id\":\"9440\",\"type\":\"LinearScale\"},{\"attributes\":{\"line_alpha\":0.1,\"line_color\":\"#1f77b4\",\"line_width\":2,\"x\":{\"field\":\"Iteration\"},\"y\":{\"field\":\"Train\"}},\"id\":\"9467\",\"type\":\"Line\"},{\"attributes\":{\"line_alpha\":0.1,\"line_color\":\"#1f77b4\",\"line_width\":2,\"x\":{\"field\":\"Iteration\"},\"y\":{\"field\":\"Validation\"}},\"id\":\"9480\",\"type\":\"Line\"},{\"attributes\":{},\"id\":\"9488\",\"type\":\"Selection\"},{\"attributes\":{},\"id\":\"9443\",\"type\":\"BasicTicker\"},{\"attributes\":{\"line_color\":\"#BA3655\",\"line_width\":2,\"x\":{\"field\":\"Iteration\"},\"y\":{\"field\":\"Validation\"}},\"id\":\"9479\",\"type\":\"Line\"},{\"attributes\":{},\"id\":\"9457\",\"type\":\"HelpTool\"},{\"attributes\":{\"source\":{\"id\":\"9430\",\"type\":\"ColumnDataSource\"}},\"id\":\"9482\",\"type\":\"CDSView\"},{\"attributes\":{\"callback\":null,\"formatters\":{\"Iteration\":\"numeral\",\"Train\":\"numeral\",\"Validation\":\"numeral\"},\"mode\":\"vline\",\"tooltips\":[[\"Iteration\",\"@Iteration\"],[\"Train\",\"@Train\"],[\"Validation\",\"@Validation\"]]},\"id\":\"9492\",\"type\":\"HoverTool\"}],\"root_ids\":[\"9431\"]},\"title\":\"Bokeh Application\",\"version\":\"1.4.0\"}};\n",
       "  var render_items = [{\"docid\":\"ca073c00-56f2-4014-81b0-d6302cf9ba2c\",\"roots\":{\"9431\":\"957a4802-3a19-4a61-a758-a45827744079\"}}];\n",
       "  root.Bokeh.embed.embed_items_notebook(docs_json, render_items);\n",
       "\n",
       "  }\n",
       "  if (root.Bokeh !== undefined) {\n",
       "    embed_document(root);\n",
       "  } else {\n",
       "    var attempts = 0;\n",
       "    var timer = setInterval(function(root) {\n",
       "      if (root.Bokeh !== undefined) {\n",
       "        clearInterval(timer);\n",
       "        embed_document(root);\n",
       "      } else {\n",
       "        attempts++;\n",
       "        if (attempts > 100) {\n",
       "          clearInterval(timer);\n",
       "          console.log(\"Bokeh: ERROR: Unable to run BokehJS code because BokehJS library is missing\");\n",
       "        }\n",
       "      }\n",
       "    }, 10, root)\n",
       "  }\n",
       "})(window);"
      ],
      "application/vnd.bokehjs_exec.v0+json": ""
     },
     "metadata": {
      "application/vnd.bokehjs_exec.v0+json": {
       "id": "9431"
      }
     },
     "output_type": "display_data"
    }
   ],
   "source": [
    "pl = Plotter(rec=learn.rec)\n",
    "pl.plot_loss()"
   ]
  },
  {
   "cell_type": "code",
   "execution_count": 186,
   "metadata": {},
   "outputs": [
    {
     "data": {
      "text/html": [
       "\n",
       "\n",
       "\n",
       "\n",
       "\n",
       "\n",
       "  <div class=\"bk-root\" id=\"34eb061d-da00-4259-b83c-3dce48d3709e\" data-root-id=\"9823\"></div>\n"
      ]
     },
     "metadata": {},
     "output_type": "display_data"
    },
    {
     "data": {
      "application/javascript": [
       "(function(root) {\n",
       "  function embed_document(root) {\n",
       "    \n",
       "  var docs_json = {\"c90583cf-2d4b-43fb-a468-8205258b33ff\":{\"roots\":{\"references\":[{\"attributes\":{\"below\":[{\"id\":\"9834\",\"type\":\"LinearAxis\"}],\"center\":[{\"id\":\"9838\",\"type\":\"Grid\"},{\"id\":\"9843\",\"type\":\"Grid\"},{\"id\":\"9868\",\"type\":\"Legend\"}],\"left\":[{\"id\":\"9839\",\"type\":\"LinearAxis\"}],\"plot_height\":400,\"plot_width\":700,\"renderers\":[{\"id\":\"9860\",\"type\":\"GlyphRenderer\"},{\"id\":\"9873\",\"type\":\"GlyphRenderer\"},{\"id\":\"9887\",\"type\":\"GlyphRenderer\"}],\"title\":{\"id\":\"9824\",\"type\":\"Title\"},\"toolbar\":{\"id\":\"9850\",\"type\":\"Toolbar\"},\"x_range\":{\"id\":\"9826\",\"type\":\"DataRange1d\"},\"x_scale\":{\"id\":\"9830\",\"type\":\"LinearScale\"},\"y_range\":{\"id\":\"9828\",\"type\":\"DataRange1d\"},\"y_scale\":{\"id\":\"9832\",\"type\":\"LinearScale\"}},\"id\":\"9823\",\"subtype\":\"Figure\",\"type\":\"Plot\"},{\"attributes\":{\"items\":[{\"id\":\"9869\",\"type\":\"LegendItem\"},{\"id\":\"9883\",\"type\":\"LegendItem\"},{\"id\":\"9897\",\"type\":\"LegendItem\"}]},\"id\":\"9868\",\"type\":\"Legend\"},{\"attributes\":{\"callback\":null},\"id\":\"9828\",\"type\":\"DataRange1d\"},{\"attributes\":{\"source\":{\"id\":\"9822\",\"type\":\"ColumnDataSource\"}},\"id\":\"9861\",\"type\":\"CDSView\"},{\"attributes\":{\"data_source\":{\"id\":\"9822\",\"type\":\"ColumnDataSource\"},\"glyph\":{\"id\":\"9871\",\"type\":\"Line\"},\"hover_glyph\":null,\"muted_glyph\":null,\"nonselection_glyph\":{\"id\":\"9872\",\"type\":\"Line\"},\"selection_glyph\":null,\"view\":{\"id\":\"9874\",\"type\":\"CDSView\"}},\"id\":\"9873\",\"type\":\"GlyphRenderer\"},{\"attributes\":{\"data_source\":{\"id\":\"9822\",\"type\":\"ColumnDataSource\"},\"glyph\":{\"id\":\"9885\",\"type\":\"Line\"},\"hover_glyph\":null,\"muted_glyph\":null,\"nonselection_glyph\":{\"id\":\"9886\",\"type\":\"Line\"},\"selection_glyph\":null,\"view\":{\"id\":\"9888\",\"type\":\"CDSView\"}},\"id\":\"9887\",\"type\":\"GlyphRenderer\"},{\"attributes\":{},\"id\":\"9863\",\"type\":\"BasicTickFormatter\"},{\"attributes\":{\"callback\":null,\"data\":{\"Iteration\":{\"__ndarray__\":\"AAAAAAEAAAACAAAAAwAAAA==\",\"dtype\":\"int32\",\"shape\":[4]},\"w_0\":{\"__ndarray__\":\"9lUiPr5aWz5SWJU+MM+FPg==\",\"dtype\":\"float32\",\"shape\":[4]},\"w_1\":{\"__ndarray__\":\"K54Bv2nk6L5Hf82+H2K8vg==\",\"dtype\":\"float32\",\"shape\":[4]},\"w_2\":{\"__ndarray__\":\"rdabP6vfnj+pS6I/ZoKhPw==\",\"dtype\":\"float32\",\"shape\":[4]}},\"selected\":{\"id\":\"9880\",\"type\":\"Selection\"},\"selection_policy\":{\"id\":\"9881\",\"type\":\"UnionRenderers\"}},\"id\":\"9822\",\"type\":\"ColumnDataSource\"},{\"attributes\":{\"line_alpha\":0.1,\"line_color\":\"#1f77b4\",\"line_width\":2,\"x\":{\"field\":\"Iteration\"},\"y\":{\"field\":\"w_2\"}},\"id\":\"9886\",\"type\":\"Line\"},{\"attributes\":{},\"id\":\"9845\",\"type\":\"WheelZoomTool\"},{\"attributes\":{\"data_source\":{\"id\":\"9822\",\"type\":\"ColumnDataSource\"},\"glyph\":{\"id\":\"9858\",\"type\":\"Line\"},\"hover_glyph\":null,\"muted_glyph\":null,\"nonselection_glyph\":{\"id\":\"9859\",\"type\":\"Line\"},\"selection_glyph\":null,\"view\":{\"id\":\"9861\",\"type\":\"CDSView\"}},\"id\":\"9860\",\"type\":\"GlyphRenderer\"},{\"attributes\":{},\"id\":\"9830\",\"type\":\"LinearScale\"},{\"attributes\":{\"overlay\":{\"id\":\"9867\",\"type\":\"BoxAnnotation\"}},\"id\":\"9846\",\"type\":\"BoxZoomTool\"},{\"attributes\":{\"dimension\":1,\"ticker\":{\"id\":\"9840\",\"type\":\"BasicTicker\"}},\"id\":\"9843\",\"type\":\"Grid\"},{\"attributes\":{\"label\":{\"value\":\"w_1\"},\"renderers\":[{\"id\":\"9873\",\"type\":\"GlyphRenderer\"}]},\"id\":\"9883\",\"type\":\"LegendItem\"},{\"attributes\":{\"bottom_units\":\"screen\",\"fill_alpha\":{\"value\":0.5},\"fill_color\":{\"value\":\"lightgrey\"},\"left_units\":\"screen\",\"level\":\"overlay\",\"line_alpha\":{\"value\":1.0},\"line_color\":{\"value\":\"black\"},\"line_dash\":[4,4],\"line_width\":{\"value\":2},\"render_mode\":\"css\",\"right_units\":\"screen\",\"top_units\":\"screen\"},\"id\":\"9867\",\"type\":\"BoxAnnotation\"},{\"attributes\":{\"line_color\":\"#000003\",\"line_width\":2,\"x\":{\"field\":\"Iteration\"},\"y\":{\"field\":\"w_0\"}},\"id\":\"9858\",\"type\":\"Line\"},{\"attributes\":{\"line_alpha\":0.1,\"line_color\":\"#1f77b4\",\"line_width\":2,\"x\":{\"field\":\"Iteration\"},\"y\":{\"field\":\"w_1\"}},\"id\":\"9872\",\"type\":\"Line\"},{\"attributes\":{},\"id\":\"9865\",\"type\":\"BasicTickFormatter\"},{\"attributes\":{\"line_color\":\"#FCFEA4\",\"line_width\":2,\"x\":{\"field\":\"Iteration\"},\"y\":{\"field\":\"w_2\"}},\"id\":\"9885\",\"type\":\"Line\"},{\"attributes\":{\"formatter\":{\"id\":\"9865\",\"type\":\"BasicTickFormatter\"},\"ticker\":{\"id\":\"9835\",\"type\":\"BasicTicker\"}},\"id\":\"9834\",\"type\":\"LinearAxis\"},{\"attributes\":{\"formatter\":{\"id\":\"9863\",\"type\":\"BasicTickFormatter\"},\"ticker\":{\"id\":\"9840\",\"type\":\"BasicTicker\"}},\"id\":\"9839\",\"type\":\"LinearAxis\"},{\"attributes\":{},\"id\":\"9832\",\"type\":\"LinearScale\"},{\"attributes\":{\"source\":{\"id\":\"9822\",\"type\":\"ColumnDataSource\"}},\"id\":\"9874\",\"type\":\"CDSView\"},{\"attributes\":{\"line_color\":\"#BA3655\",\"line_width\":2,\"x\":{\"field\":\"Iteration\"},\"y\":{\"field\":\"w_1\"}},\"id\":\"9871\",\"type\":\"Line\"},{\"attributes\":{},\"id\":\"9847\",\"type\":\"SaveTool\"},{\"attributes\":{},\"id\":\"9848\",\"type\":\"ResetTool\"},{\"attributes\":{\"text\":\"Model weights vs iteration\"},\"id\":\"9824\",\"type\":\"Title\"},{\"attributes\":{},\"id\":\"9880\",\"type\":\"Selection\"},{\"attributes\":{\"callback\":null},\"id\":\"9826\",\"type\":\"DataRange1d\"},{\"attributes\":{\"active_drag\":\"auto\",\"active_inspect\":\"auto\",\"active_multi\":null,\"active_scroll\":\"auto\",\"active_tap\":\"auto\",\"tools\":[{\"id\":\"9844\",\"type\":\"PanTool\"},{\"id\":\"9845\",\"type\":\"WheelZoomTool\"},{\"id\":\"9846\",\"type\":\"BoxZoomTool\"},{\"id\":\"9847\",\"type\":\"SaveTool\"},{\"id\":\"9848\",\"type\":\"ResetTool\"},{\"id\":\"9849\",\"type\":\"HelpTool\"},{\"id\":\"9898\",\"type\":\"HoverTool\"}]},\"id\":\"9850\",\"type\":\"Toolbar\"},{\"attributes\":{},\"id\":\"9840\",\"type\":\"BasicTicker\"},{\"attributes\":{},\"id\":\"9844\",\"type\":\"PanTool\"},{\"attributes\":{},\"id\":\"9835\",\"type\":\"BasicTicker\"},{\"attributes\":{\"label\":{\"value\":\"w_2\"},\"renderers\":[{\"id\":\"9887\",\"type\":\"GlyphRenderer\"}]},\"id\":\"9897\",\"type\":\"LegendItem\"},{\"attributes\":{},\"id\":\"9849\",\"type\":\"HelpTool\"},{\"attributes\":{\"line_alpha\":0.1,\"line_color\":\"#1f77b4\",\"line_width\":2,\"x\":{\"field\":\"Iteration\"},\"y\":{\"field\":\"w_0\"}},\"id\":\"9859\",\"type\":\"Line\"},{\"attributes\":{\"callback\":null,\"formatters\":{\"Iteration\":\"numeral\",\"w_0\":\"numeral\",\"w_1\":\"numeral\",\"w_2\":\"numeral\"},\"mode\":\"vline\",\"tooltips\":[[\"Iteration\",\"@Iteration\"],[\"w_0\",\"@w_0\"],[\"w_1\",\"@w_1\"],[\"w_2\",\"@w_2\"]]},\"id\":\"9898\",\"type\":\"HoverTool\"},{\"attributes\":{},\"id\":\"9881\",\"type\":\"UnionRenderers\"},{\"attributes\":{\"source\":{\"id\":\"9822\",\"type\":\"ColumnDataSource\"}},\"id\":\"9888\",\"type\":\"CDSView\"},{\"attributes\":{\"ticker\":{\"id\":\"9835\",\"type\":\"BasicTicker\"}},\"id\":\"9838\",\"type\":\"Grid\"},{\"attributes\":{\"label\":{\"value\":\"w_0\"},\"renderers\":[{\"id\":\"9860\",\"type\":\"GlyphRenderer\"}]},\"id\":\"9869\",\"type\":\"LegendItem\"}],\"root_ids\":[\"9823\"]},\"title\":\"Bokeh Application\",\"version\":\"1.4.0\"}};\n",
       "  var render_items = [{\"docid\":\"c90583cf-2d4b-43fb-a468-8205258b33ff\",\"roots\":{\"9823\":\"34eb061d-da00-4259-b83c-3dce48d3709e\"}}];\n",
       "  root.Bokeh.embed.embed_items_notebook(docs_json, render_items);\n",
       "\n",
       "  }\n",
       "  if (root.Bokeh !== undefined) {\n",
       "    embed_document(root);\n",
       "  } else {\n",
       "    var attempts = 0;\n",
       "    var timer = setInterval(function(root) {\n",
       "      if (root.Bokeh !== undefined) {\n",
       "        clearInterval(timer);\n",
       "        embed_document(root);\n",
       "      } else {\n",
       "        attempts++;\n",
       "        if (attempts > 100) {\n",
       "          clearInterval(timer);\n",
       "          console.log(\"Bokeh: ERROR: Unable to run BokehJS code because BokehJS library is missing\");\n",
       "        }\n",
       "      }\n",
       "    }, 10, root)\n",
       "  }\n",
       "})(window);"
      ],
      "application/vnd.bokehjs_exec.v0+json": ""
     },
     "metadata": {
      "application/vnd.bokehjs_exec.v0+json": {
       "id": "9823"
      }
     },
     "output_type": "display_data"
    }
   ],
   "source": [
    "pl.plot_weights()"
   ]
  },
  {
   "cell_type": "code",
   "execution_count": 187,
   "metadata": {},
   "outputs": [
    {
     "data": {
      "text/html": [
       "\n",
       "\n",
       "\n",
       "\n",
       "\n",
       "\n",
       "  <div class=\"bk-root\" id=\"8be2db3f-e098-4b4d-ae13-a90f2a5266b5\" data-root-id=\"10237\"></div>\n"
      ]
     },
     "metadata": {},
     "output_type": "display_data"
    },
    {
     "data": {
      "application/javascript": [
       "(function(root) {\n",
       "  function embed_document(root) {\n",
       "    \n",
       "  var docs_json = {\"cd9705d8-10c1-4707-a302-d4bf5211d4fc\":{\"roots\":{\"references\":[{\"attributes\":{\"below\":[{\"id\":\"10248\",\"type\":\"LinearAxis\"}],\"center\":[{\"id\":\"10252\",\"type\":\"Grid\"},{\"id\":\"10257\",\"type\":\"Grid\"},{\"id\":\"10282\",\"type\":\"Legend\"}],\"left\":[{\"id\":\"10253\",\"type\":\"LinearAxis\"}],\"plot_height\":400,\"plot_width\":700,\"renderers\":[{\"id\":\"10274\",\"type\":\"GlyphRenderer\"}],\"title\":{\"id\":\"10238\",\"type\":\"Title\"},\"toolbar\":{\"id\":\"10264\",\"type\":\"Toolbar\"},\"x_range\":{\"id\":\"10240\",\"type\":\"DataRange1d\"},\"x_scale\":{\"id\":\"10244\",\"type\":\"LinearScale\"},\"y_range\":{\"id\":\"10242\",\"type\":\"DataRange1d\"},\"y_scale\":{\"id\":\"10246\",\"type\":\"LinearScale\"}},\"id\":\"10237\",\"subtype\":\"Figure\",\"type\":\"Plot\"},{\"attributes\":{\"active_drag\":\"auto\",\"active_inspect\":\"auto\",\"active_multi\":null,\"active_scroll\":\"auto\",\"active_tap\":\"auto\",\"tools\":[{\"id\":\"10258\",\"type\":\"PanTool\"},{\"id\":\"10259\",\"type\":\"WheelZoomTool\"},{\"id\":\"10260\",\"type\":\"BoxZoomTool\"},{\"id\":\"10261\",\"type\":\"SaveTool\"},{\"id\":\"10262\",\"type\":\"ResetTool\"},{\"id\":\"10263\",\"type\":\"HelpTool\"},{\"id\":\"10284\",\"type\":\"HoverTool\"}]},\"id\":\"10264\",\"type\":\"Toolbar\"},{\"attributes\":{\"dimension\":1,\"ticker\":{\"id\":\"10254\",\"type\":\"BasicTicker\"}},\"id\":\"10257\",\"type\":\"Grid\"},{\"attributes\":{\"line_alpha\":0.1,\"line_color\":\"#1f77b4\",\"line_width\":2,\"x\":{\"field\":\"Iteration\"},\"y\":{\"field\":\"lr\"}},\"id\":\"10273\",\"type\":\"Line\"},{\"attributes\":{},\"id\":\"10261\",\"type\":\"SaveTool\"},{\"attributes\":{},\"id\":\"10579\",\"type\":\"Selection\"},{\"attributes\":{},\"id\":\"10244\",\"type\":\"LinearScale\"},{\"attributes\":{},\"id\":\"10263\",\"type\":\"HelpTool\"},{\"attributes\":{\"items\":[{\"id\":\"10283\",\"type\":\"LegendItem\"}]},\"id\":\"10282\",\"type\":\"Legend\"},{\"attributes\":{\"formatter\":{\"id\":\"10277\",\"type\":\"BasicTickFormatter\"},\"ticker\":{\"id\":\"10254\",\"type\":\"BasicTicker\"}},\"id\":\"10253\",\"type\":\"LinearAxis\"},{\"attributes\":{\"data_source\":{\"id\":\"10236\",\"type\":\"ColumnDataSource\"},\"glyph\":{\"id\":\"10272\",\"type\":\"Line\"},\"hover_glyph\":null,\"muted_glyph\":null,\"nonselection_glyph\":{\"id\":\"10273\",\"type\":\"Line\"},\"selection_glyph\":null,\"view\":{\"id\":\"10275\",\"type\":\"CDSView\"}},\"id\":\"10274\",\"type\":\"GlyphRenderer\"},{\"attributes\":{\"text\":\"Hyper parameters ('lr') vs iteration\"},\"id\":\"10238\",\"type\":\"Title\"},{\"attributes\":{\"callback\":null},\"id\":\"10242\",\"type\":\"DataRange1d\"},{\"attributes\":{},\"id\":\"10259\",\"type\":\"WheelZoomTool\"},{\"attributes\":{\"ticker\":{\"id\":\"10249\",\"type\":\"BasicTicker\"}},\"id\":\"10252\",\"type\":\"Grid\"},{\"attributes\":{\"callback\":null},\"id\":\"10240\",\"type\":\"DataRange1d\"},{\"attributes\":{\"callback\":null,\"formatters\":{\"Iteration\":\"numeral\",\"lr\":\"numeral\"},\"tooltips\":[[\"Iteration\",\"@Iteration\"],[\"lr\",\"@lr\"]]},\"id\":\"10284\",\"type\":\"HoverTool\"},{\"attributes\":{\"bottom_units\":\"screen\",\"fill_alpha\":{\"value\":0.5},\"fill_color\":{\"value\":\"lightgrey\"},\"left_units\":\"screen\",\"level\":\"overlay\",\"line_alpha\":{\"value\":1.0},\"line_color\":{\"value\":\"black\"},\"line_dash\":[4,4],\"line_width\":{\"value\":2},\"render_mode\":\"css\",\"right_units\":\"screen\",\"top_units\":\"screen\"},\"id\":\"10281\",\"type\":\"BoxAnnotation\"},{\"attributes\":{},\"id\":\"10277\",\"type\":\"BasicTickFormatter\"},{\"attributes\":{},\"id\":\"10258\",\"type\":\"PanTool\"},{\"attributes\":{\"callback\":null,\"data\":{\"Iteration\":{\"__ndarray__\":\"AAAAAAEAAAACAAAAAwAAAA==\",\"dtype\":\"int32\",\"shape\":[4]},\"lr\":[0.01,0.01,0.01,0.01]},\"selected\":{\"id\":\"10579\",\"type\":\"Selection\"},\"selection_policy\":{\"id\":\"10580\",\"type\":\"UnionRenderers\"}},\"id\":\"10236\",\"type\":\"ColumnDataSource\"},{\"attributes\":{},\"id\":\"10262\",\"type\":\"ResetTool\"},{\"attributes\":{},\"id\":\"10246\",\"type\":\"LinearScale\"},{\"attributes\":{},\"id\":\"10254\",\"type\":\"BasicTicker\"},{\"attributes\":{\"formatter\":{\"id\":\"10279\",\"type\":\"BasicTickFormatter\"},\"ticker\":{\"id\":\"10249\",\"type\":\"BasicTicker\"}},\"id\":\"10248\",\"type\":\"LinearAxis\"},{\"attributes\":{\"line_color\":\"#1f77b4\",\"line_width\":2,\"x\":{\"field\":\"Iteration\"},\"y\":{\"field\":\"lr\"}},\"id\":\"10272\",\"type\":\"Line\"},{\"attributes\":{\"source\":{\"id\":\"10236\",\"type\":\"ColumnDataSource\"}},\"id\":\"10275\",\"type\":\"CDSView\"},{\"attributes\":{},\"id\":\"10279\",\"type\":\"BasicTickFormatter\"},{\"attributes\":{},\"id\":\"10249\",\"type\":\"BasicTicker\"},{\"attributes\":{\"overlay\":{\"id\":\"10281\",\"type\":\"BoxAnnotation\"}},\"id\":\"10260\",\"type\":\"BoxZoomTool\"},{\"attributes\":{\"label\":{\"value\":\"lr\"},\"renderers\":[{\"id\":\"10274\",\"type\":\"GlyphRenderer\"}]},\"id\":\"10283\",\"type\":\"LegendItem\"},{\"attributes\":{},\"id\":\"10580\",\"type\":\"UnionRenderers\"}],\"root_ids\":[\"10237\"]},\"title\":\"Bokeh Application\",\"version\":\"1.4.0\"}};\n",
       "  var render_items = [{\"docid\":\"cd9705d8-10c1-4707-a302-d4bf5211d4fc\",\"roots\":{\"10237\":\"8be2db3f-e098-4b4d-ae13-a90f2a5266b5\"}}];\n",
       "  root.Bokeh.embed.embed_items_notebook(docs_json, render_items);\n",
       "\n",
       "  }\n",
       "  if (root.Bokeh !== undefined) {\n",
       "    embed_document(root);\n",
       "  } else {\n",
       "    var attempts = 0;\n",
       "    var timer = setInterval(function(root) {\n",
       "      if (root.Bokeh !== undefined) {\n",
       "        clearInterval(timer);\n",
       "        embed_document(root);\n",
       "      } else {\n",
       "        attempts++;\n",
       "        if (attempts > 100) {\n",
       "          clearInterval(timer);\n",
       "          console.log(\"Bokeh: ERROR: Unable to run BokehJS code because BokehJS library is missing\");\n",
       "        }\n",
       "      }\n",
       "    }, 10, root)\n",
       "  }\n",
       "})(window);"
      ],
      "application/vnd.bokehjs_exec.v0+json": ""
     },
     "metadata": {
      "application/vnd.bokehjs_exec.v0+json": {
       "id": "10237"
      }
     },
     "output_type": "display_data"
    }
   ],
   "source": [
    "pl.plot_hyper_params()"
   ]
  },
  {
   "cell_type": "code",
   "execution_count": null,
   "metadata": {},
   "outputs": [],
   "source": []
  },
  {
   "cell_type": "markdown",
   "metadata": {},
   "source": [
    "## OLD"
   ]
  },
  {
   "cell_type": "code",
   "execution_count": 7,
   "metadata": {},
   "outputs": [],
   "source": [
    "train_idx, valid_idx = get_train_valid_idx(x, y, val_pct=.8)\n",
    "xy_train_ds = XYDataset(x[train_idx], y[train_idx])\n",
    "xy_valid_ds = XYDataset(x[valid_idx], y[valid_idx])"
   ]
  },
  {
   "cell_type": "code",
   "execution_count": 8,
   "metadata": {},
   "outputs": [
    {
     "data": {
      "text/plain": [
       "(tensor(2.6364, dtype=torch.float64), tensor(26.7277, dtype=torch.float64))"
      ]
     },
     "execution_count": 8,
     "metadata": {},
     "output_type": "execute_result"
    }
   ],
   "source": [
    "xy_train_ds[2]"
   ]
  },
  {
   "cell_type": "code",
   "execution_count": 9,
   "metadata": {},
   "outputs": [
    {
     "data": {
      "text/plain": [
       "(tensor(0.0505, dtype=torch.float64), tensor(9.9704, dtype=torch.float64))"
      ]
     },
     "execution_count": 9,
     "metadata": {},
     "output_type": "execute_result"
    }
   ],
   "source": [
    "xy_valid_ds[4]"
   ]
  },
  {
   "cell_type": "markdown",
   "metadata": {},
   "source": [
    "Creating a `DataBunch` version 1 via `torch.utils.data.DataLoader`"
   ]
  },
  {
   "cell_type": "code",
   "execution_count": 8,
   "metadata": {},
   "outputs": [],
   "source": [
    "device = \"cpu\" # \"cuda:0\""
   ]
  },
  {
   "cell_type": "code",
   "execution_count": 9,
   "metadata": {},
   "outputs": [
    {
     "name": "stdout",
     "output_type": "stream",
     "text": [
      "(tensor([-1.0347, -0.9406, -1.0914, -0.8036, -0.7749], dtype=torch.float64), tensor([11.0305, 10.8197, 10.9484, 10.5121, 10.6429], dtype=torch.float64))\n"
     ]
    }
   ],
   "source": [
    "def noisify(xy):\n",
    "    x, y = xy\n",
    "    if not torch.is_tensor(x):\n",
    "        x = torch.from_numpy(x).clone().to(device)\n",
    "    if not torch.is_tensor(y):\n",
    "        y = torch.from_numpy(y).clone().to(device)\n",
    "    \n",
    "    dx = torch.normal(mean=0., std=.1, size=x.size()).to(device)\n",
    "    dy = torch.normal(mean=0., std=.1, size=y.size()).to(device)\n",
    "    return x + dx, y + dy\n",
    "\n",
    "print(noisify((x[:5], y[:5])))"
   ]
  },
  {
   "cell_type": "code",
   "execution_count": 10,
   "metadata": {},
   "outputs": [],
   "source": [
    "bs = 10"
   ]
  },
  {
   "cell_type": "code",
   "execution_count": 11,
   "metadata": {},
   "outputs": [],
   "source": [
    "xy_train_loader = torch.utils.data.DataLoader(xy_train_ds, batch_size=bs, shuffle=True)\n",
    "xy_valid_loader = torch.utils.data.DataLoader(xy_valid_ds, batch_size=bs, shuffle=True)\n",
    "xy_db = basic_data.DataBunch(train_dl=xy_train_loader, valid_dl=xy_valid_loader) #, dl_tfms=noisify)"
   ]
  },
  {
   "cell_type": "code",
   "execution_count": 12,
   "metadata": {},
   "outputs": [],
   "source": [
    "class PolyModel(torch.nn.Module):\n",
    "    \n",
    "    def __init__(self, deg: int = 1):\n",
    "        super().__init__()\n",
    "        self.deg = deg\n",
    "        self.w = torch.nn.Parameter(torch.randn(deg))\n",
    "        \n",
    "    def forward(self, x):\n",
    "        if isinstance(x, list):\n",
    "            x = x[1]\n",
    "        n = len(x)\n",
    "        X = torch.empty(n, self.deg)\n",
    "        #print(\"X\", X)\n",
    "        for i in range(self.deg):\n",
    "            X[:,i] = x ** (self.deg-i-1)\n",
    "        #print(\"\\nX\", X)\n",
    "        return X @ self.w\n",
    "\n",
    "def MSELoss(pred, truth):\n",
    "    return ((pred-truth)**2).mean()"
   ]
  },
  {
   "cell_type": "code",
   "execution_count": 13,
   "metadata": {},
   "outputs": [
    {
     "data": {
      "text/plain": [
       "Parameter containing:\n",
       "tensor([ 0.9291, -1.0773,  0.2154], requires_grad=True)"
      ]
     },
     "execution_count": 13,
     "metadata": {},
     "output_type": "execute_result"
    }
   ],
   "source": [
    "pm = PolyModel(deg=3)\n",
    "pm(torch.randn(5))\n",
    "pm.w"
   ]
  },
  {
   "cell_type": "code",
   "execution_count": 17,
   "metadata": {},
   "outputs": [],
   "source": [
    "opt = torch.optim.SGD(params=[pm.w], lr=.01)"
   ]
  },
  {
   "cell_type": "code",
   "execution_count": 18,
   "metadata": {},
   "outputs": [],
   "source": [
    "losses = []"
   ]
  },
  {
   "cell_type": "code",
   "execution_count": 19,
   "metadata": {},
   "outputs": [
    {
     "name": "stdout",
     "output_type": "stream",
     "text": [
      "295.64493750051815\n",
      "107.184693055059\n",
      "74.8890207859915\n",
      "60.163740471084054\n",
      "59.966497442470356\n"
     ]
    }
   ],
   "source": [
    "for i in range(5):\n",
    "    opt.zero_grad()\n",
    "    _x, _y = xy_db.one_batch()\n",
    "    _y_pred = pm(_x)\n",
    "    loss = MSELoss(_y_pred, _y)\n",
    "    loss.backward()\n",
    "\n",
    "    opt.step()\n",
    "\n",
    "    losses.append(loss.clone().detach().numpy())\n",
    "    print(losses[-1])"
   ]
  },
  {
   "cell_type": "code",
   "execution_count": 20,
   "metadata": {},
   "outputs": [
    {
     "data": {
      "image/png": "[encoded data removed]",
      "text/plain": [
       "<Figure size 720x576 with 1 Axes>"
      ]
     },
     "metadata": {
      "needs_background": "light"
     },
     "output_type": "display_data"
    }
   ],
   "source": [
    "fig, ax = plt.subplots(figsize=(10, 8))\n",
    "ax.plot(x, y, \".\", label=\"data\")\n",
    "with torch.no_grad():\n",
    "    ax.plot(x, pm(torch.from_numpy(x).clone()), \"*\", label=\"model\")\n",
    "ax.legend()\n",
    "plt.show()"
   ]
  },
  {
   "cell_type": "code",
   "execution_count": 22,
   "metadata": {},
   "outputs": [
    {
     "data": {
      "image/png": "[encoded data removed]",
      "text/plain": [
       "<Figure size 720x576 with 1 Axes>"
      ]
     },
     "metadata": {
      "needs_background": "light"
     },
     "output_type": "display_data"
    }
   ],
   "source": [
    "fig, ax = plt.subplots(figsize=(10, 8))\n",
    "ax.plot(range(len(losses)), losses, \"-\", label=\"losses\")\n",
    "plt.show()"
   ]
  },
  {
   "cell_type": "markdown",
   "metadata": {},
   "source": [
    "Creating a `DataBunch` version 2 via `basic_data.DataBunch.create`"
   ]
  },
  {
   "cell_type": "code",
   "execution_count": null,
   "metadata": {},
   "outputs": [],
   "source": [
    "xy_db = basic_data.DataBunch.create(train_ds=xy_train_ds, valid_ds=xy_valid_ds, bs=bs)"
   ]
  },
  {
   "cell_type": "code",
   "execution_count": 122,
   "metadata": {},
   "outputs": [
    {
     "name": "stdout",
     "output_type": "stream",
     "text": [
      "(70,) (30,)\n"
     ]
    },
    {
     "data": {
      "text/html": [
       "<div>\n",
       "<style scoped>\n",
       "    .dataframe tbody tr th:only-of-type {\n",
       "        vertical-align: middle;\n",
       "    }\n",
       "\n",
       "    .dataframe tbody tr th {\n",
       "        vertical-align: top;\n",
       "    }\n",
       "\n",
       "    .dataframe thead th {\n",
       "        text-align: right;\n",
       "    }\n",
       "</style>\n",
       "<table border=\"1\" class=\"dataframe\">\n",
       "  <thead>\n",
       "    <tr style=\"text-align: right;\">\n",
       "      <th></th>\n",
       "      <th>x</th>\n",
       "      <th>y</th>\n",
       "      <th>valid</th>\n",
       "    </tr>\n",
       "  </thead>\n",
       "  <tbody>\n",
       "    <tr>\n",
       "      <th>0</th>\n",
       "      <td>1.343434</td>\n",
       "      <td>14.913624</td>\n",
       "      <td>False</td>\n",
       "    </tr>\n",
       "    <tr>\n",
       "      <th>1</th>\n",
       "      <td>0.898990</td>\n",
       "      <td>12.412504</td>\n",
       "      <td>False</td>\n",
       "    </tr>\n",
       "    <tr>\n",
       "      <th>2</th>\n",
       "      <td>2.717172</td>\n",
       "      <td>27.475066</td>\n",
       "      <td>False</td>\n",
       "    </tr>\n",
       "    <tr>\n",
       "      <th>3</th>\n",
       "      <td>-0.676768</td>\n",
       "      <td>10.253358</td>\n",
       "      <td>False</td>\n",
       "    </tr>\n",
       "    <tr>\n",
       "      <th>4</th>\n",
       "      <td>1.989899</td>\n",
       "      <td>20.181437</td>\n",
       "      <td>False</td>\n",
       "    </tr>\n",
       "  </tbody>\n",
       "</table>\n",
       "</div>"
      ],
      "text/plain": [
       "          x          y  valid\n",
       "0  1.343434  14.913624  False\n",
       "1  0.898990  12.412504  False\n",
       "2  2.717172  27.475066  False\n",
       "3 -0.676768  10.253358  False\n",
       "4  1.989899  20.181437  False"
      ]
     },
     "execution_count": 122,
     "metadata": {},
     "output_type": "execute_result"
    }
   ],
   "source": [
    "n = len(x)\n",
    "n_train = int(.7*n)\n",
    "ix_train = np.random.choice(np.arange(n), replace=False, size=n_train)\n",
    "ix_valid = np.setdiff1d(np.arange(n), ix_train)\n",
    "print(ix_train.shape, ix_valid.shape)\n",
    "\n",
    "df_train = pd.DataFrame({\"x\": x[ix_train], \"y\": y[ix_train]})\n",
    "df_train[\"valid\"] = False\n",
    "df_valid = pd.DataFrame({\"x\": x[ix_valid], \"y\": y[ix_valid]})\n",
    "df_valid[\"valid\"] = True\n",
    "df = pd.concat((df_train, df_valid), ignore_index=True)\n",
    "df.head()"
   ]
  },
  {
   "cell_type": "markdown",
   "metadata": {},
   "source": [
    "Note that if you use the following method the first component returned by `one_batch()` will be a list of two tensors, where the first seems, oddly enough, to have no real purpose. This won't cause an error for the model (`PolyModel`) because it is taken into account there."
   ]
  },
  {
   "cell_type": "code",
   "execution_count": 139,
   "metadata": {},
   "outputs": [],
   "source": [
    "def split_fun(x):\n",
    "    return df[\"set\"][x] == \"valid\"\n",
    "\n",
    "def label_fun(x):\n",
    "    print(x)\n",
    "    return df[\"y\"][x]\n",
    "\n",
    "src = (TabularList.from_df(df=df, cont_names=[\"x\"], procs=[Normalize])\n",
    "      .split_from_df(col=\"valid\")\n",
    "      .label_from_df(cols=\"y\"))\n",
    "\n",
    "xy_db = src.databunch(bs=bs)"
   ]
  },
  {
   "cell_type": "code",
   "execution_count": 143,
   "metadata": {
    "scrolled": true
   },
   "outputs": [
    {
     "data": {
      "text/plain": [
       "(tensor([ 0.7374,  2.1515, -0.6768,  2.7172,  2.6364, -0.9596,  1.5859,  2.4747,\n",
       "          0.4545, -1.0000], dtype=torch.float64),\n",
       " tensor([11.7516, 21.5481, 10.2534, 27.4751, 26.7277, 10.8067, 16.4968, 24.6748,\n",
       "         10.7876, 10.9887], dtype=torch.float64))"
      ]
     },
     "execution_count": 143,
     "metadata": {},
     "output_type": "execute_result"
    }
   ],
   "source": [
    "xy_db.one_batch() # cpu=False"
   ]
  },
  {
   "cell_type": "markdown",
   "metadata": {},
   "source": [
    "## Setting up a polynomial model & loss"
   ]
  },
  {
   "cell_type": "code",
   "execution_count": 136,
   "metadata": {},
   "outputs": [],
   "source": [
    "class PolyModel(torch.nn.Module):\n",
    "    \n",
    "    def __init__(self, deg: int = 1):\n",
    "        super().__init__()\n",
    "        self.deg = deg\n",
    "        self.w = torch.nn.Parameter(torch.randn(deg))\n",
    "        \n",
    "    def forward(self, x):\n",
    "        if isinstance(x, list):\n",
    "            x = x[1]\n",
    "        n = len(x)\n",
    "        X = torch.empty(n, self.deg)\n",
    "        #print(\"X\", X)\n",
    "        for i in range(self.deg):\n",
    "            X[:,i] = x ** (self.deg-i-1)\n",
    "        #print(\"\\nX\", X)\n",
    "        return X @ self.w\n",
    "        "
   ]
  },
  {
   "cell_type": "code",
   "execution_count": 15,
   "metadata": {},
   "outputs": [],
   "source": [
    "def MSELoss(pred, truth):\n",
    "    return ((pred-truth)**2).mean()"
   ]
  },
  {
   "cell_type": "code",
   "execution_count": 144,
   "metadata": {},
   "outputs": [
    {
     "data": {
      "text/plain": [
       "Parameter containing:\n",
       "tensor([ 0.2001,  0.0199, -2.1910], requires_grad=True)"
      ]
     },
     "execution_count": 144,
     "metadata": {},
     "output_type": "execute_result"
    }
   ],
   "source": [
    "pm = PolyModel(deg=3)\n",
    "pm(torch.randn(5))\n",
    "pm.w"
   ]
  },
  {
   "cell_type": "code",
   "execution_count": 145,
   "metadata": {},
   "outputs": [
    {
     "data": {
      "text/plain": [
       "tensor([190.5820,  20.1090,  91.1555,  19.0513, 149.4184,  23.7011,  25.6788,\n",
       "         18.2574,  22.1919,  18.4397], grad_fn=<MvBackward>)"
      ]
     },
     "execution_count": 145,
     "metadata": {},
     "output_type": "execute_result"
    }
   ],
   "source": [
    "_y, _x = xy_db.one_batch()\n",
    "_y_pred = pm(_x)\n",
    "_y_pred"
   ]
  },
  {
   "cell_type": "markdown",
   "metadata": {},
   "source": [
    "## Optimization"
   ]
  },
  {
   "cell_type": "markdown",
   "metadata": {},
   "source": [
    "**Implementing a bunch of optimizers**\n",
    "\n",
    "Simple gradient based"
   ]
  },
  {
   "cell_type": "code",
   "execution_count": 160,
   "metadata": {},
   "outputs": [],
   "source": [
    "class SGD:\n",
    "    \n",
    "    lr = .01\n",
    "    name = \"basic SGD\"\n",
    "    loss = None\n",
    "    \n",
    "    def __init__(self, lr=.01):\n",
    "        self.lr = lr\n",
    "    \n",
    "    def update(self):\n",
    "        _x, _y = xy_db.one_batch()\n",
    "        _y_pred = pm(_x)\n",
    "        loss = MSELoss(_y_pred, _y)\n",
    "        loss.backward()\n",
    "\n",
    "        with torch.no_grad():\n",
    "            pm.w.sub_(pm.w.grad * self.lr)\n",
    "            pm.w.grad.zero_()\n",
    "\n",
    "        self.loss = loss.clone().detach().numpy()\n",
    "        "
   ]
  },
  {
   "cell_type": "markdown",
   "metadata": {},
   "source": [
    "With \"momentum\""
   ]
  },
  {
   "cell_type": "code",
   "execution_count": 164,
   "metadata": {},
   "outputs": [],
   "source": [
    "class SGD_mom:\n",
    "    velo = torch.normal(mean=0, std=.001, size=pm.w.size()).to(device)\n",
    "    momentum = .9\n",
    "    lr = .01\n",
    "    name = \"SGD + momentum\"\n",
    "    loss = None\n",
    "    \n",
    "    def __init__(self, momentum=.9, lr=.01):\n",
    "        self.momentum = momentum\n",
    "        self.lr = lr\n",
    "\n",
    "    def update(self):\n",
    "        _x, _y = xy_db.one_batch()\n",
    "        _y_pred = pm(_x)\n",
    "        loss = MSELoss(_y_pred, _y)\n",
    "        loss.backward()\n",
    "\n",
    "        with torch.no_grad():\n",
    "            self.velo.mul_(self.momentum)\n",
    "            self.velo.add_(self.lr * pm.w.grad)\n",
    "\n",
    "            pm.w.sub_(self.velo)\n",
    "            pm.w.grad.zero_()\n",
    "\n",
    "        self.loss = loss.clone().detach().numpy()\n",
    "        "
   ]
  },
  {
   "cell_type": "markdown",
   "metadata": {},
   "source": [
    "With \"momentum\" and \"weight decay\""
   ]
  },
  {
   "cell_type": "code",
   "execution_count": 168,
   "metadata": {},
   "outputs": [],
   "source": [
    "class SGD_mom_decay:\n",
    "    velo = torch.normal(mean=0, std=.001, size=pm.w.size()).to(device)\n",
    "    momentum = .9\n",
    "    lr = .01\n",
    "    wd = .1\n",
    "    name = \"SGD + momentum + weight decay\"\n",
    "    loss = None\n",
    "    \n",
    "    def __init__(self, momentum=.9, lr=.01, wd=.1):\n",
    "        self.momentum = momentum\n",
    "        self.lr = lr\n",
    "        self.wd = wd\n",
    "\n",
    "    def update(self):\n",
    "        _x, _y = xy_db.one_batch()\n",
    "        _y_pred = pm(_x)\n",
    "        loss = MSELoss(_y_pred, _y)\n",
    "        loss.backward()\n",
    "\n",
    "        with torch.no_grad():\n",
    "            self.velo.mul_(self.momentum)\n",
    "            self.velo.add_(self.lr * pm.w.grad)\n",
    "\n",
    "            pm.w.sub_(self.velo + self.wd*pm.w)\n",
    "            pm.w.grad.zero_()\n",
    "\n",
    "        self.loss = loss.clone().detach().numpy()\n",
    "        "
   ]
  },
  {
   "cell_type": "markdown",
   "metadata": {},
   "source": [
    "RMSProp: [coursera course](https://www.cs.toronto.edu/~tijmen/csc321/slides/lecture_slides_lec6.pdf), [paper](http://arxiv.org/abs/1308.0850), a [blog post](https://towardsdatascience.com/understanding-rmsprop-faster-neural-network-learning-62e116fcf29a)"
   ]
  },
  {
   "cell_type": "code",
   "execution_count": 177,
   "metadata": {},
   "outputs": [],
   "source": [
    "class RMSProp:\n",
    "    velo = torch.normal(mean=0, std=.01, size=pm.w.size()).to(device)\n",
    "    momentum = .9\n",
    "    wd = .1\n",
    "    beta = .9\n",
    "    lr = .01\n",
    "    mag = torch.tensor(1.).to(device)\n",
    "    name = \"RMSProp\"\n",
    "    \n",
    "    def __init__(self, momentum=.9, lr=.01, wd=.1, beta=.9):\n",
    "        self.momentum = momentum\n",
    "        self.lr = lr\n",
    "        self.wd = wd\n",
    "        self.beta = beta\n",
    "    \n",
    "    def update(self):\n",
    "        _x, _y = xy_db.one_batch()\n",
    "        _y_pred = pm(_x)\n",
    "        loss = MSELoss(_y_pred, _y)\n",
    "        loss.backward()\n",
    "\n",
    "        with torch.no_grad():\n",
    "            self.mag.mul_(self.beta)\n",
    "            self.mag.add_((1.-self.beta) * (pm.w @ pm.w))\n",
    "\n",
    "            self.velo.mul_(self.momentum)\n",
    "            self.velo.add_(self.lr/torch.sqrt(self.mag) * pm.w.grad)\n",
    "\n",
    "            pm.w.sub_(self.velo + self.wd*pm.w)\n",
    "            pm.w.grad.zero_()\n",
    "        \n",
    "        self.loss = loss.clone().detach().numpy()\n",
    "        "
   ]
  },
  {
   "cell_type": "markdown",
   "metadata": {},
   "source": [
    "Adam: [arXiv](https://arxiv.org/abs/1412.6980)"
   ]
  },
  {
   "cell_type": "code",
   "execution_count": 184,
   "metadata": {},
   "outputs": [],
   "source": [
    "class Adam:\n",
    "    \n",
    "    moment1 = torch.zeros_like(pm.w, requires_grad=False)\n",
    "    moment2 = torch.zeros_like(pm.w, requires_grad=False)\n",
    "    betas = torch.tensor([.9, .999], requires_grad=False)\n",
    "    eps = torch.tensor(1e-8, requires_grad=False)\n",
    "    lr = .01\n",
    "    name = \"Adam\"\n",
    "    loss = None\n",
    "    \n",
    "    def __init__(self, lr: float = .01, betas: list = [.9, .999], eps: float =1e-8):\n",
    "        self.betas = torch.tensor(betas, requires_grad=False)\n",
    "        self.eps = eps\n",
    "        self.lr = lr\n",
    "    \n",
    "    def update(self):\n",
    "        _x, _y = xy_db.one_batch()\n",
    "        _y_pred = pm(_x)\n",
    "        loss = MSELoss(_y_pred, _y)\n",
    "        loss.backward()\n",
    "\n",
    "        with torch.no_grad():\n",
    "\n",
    "            self.moment1.mul_(self.betas[0])\n",
    "            self.moment1.add_((1.-self.betas[0]) * pm.w.grad)\n",
    "            moment1_hat = self.moment1.div(1.-self.betas[0]**(epoch+1))\n",
    "\n",
    "            self.moment2.mul_(self.betas[1])\n",
    "            self.moment2.add_((1.-self.betas[1]) * (pm.w.grad * pm.w.grad))\n",
    "            moment2_hat = self.moment2.div(1.-self.betas[1]**(epoch+1))\n",
    "\n",
    "            pm.w.sub_(self.lr * moment1_hat / (torch.sqrt(moment2_hat) + self.eps))\n",
    "\n",
    "        self.loss = loss.clone().detach().numpy()\n",
    "    "
   ]
  },
  {
   "cell_type": "code",
   "execution_count": 273,
   "metadata": {},
   "outputs": [],
   "source": [
    "moment1 = torch.zeros_like(pm.w, requires_grad=False)\n",
    "# moment2 = torch.zeros(1, requires_grad=False)\n",
    "moment2 = torch.zeros_like(pm.w, requires_grad=False)\n",
    "betas = torch.tensor([.9, .999], requires_grad=False)\n",
    "eps = torch.tensor(1e-8, requires_grad=False)"
   ]
  },
  {
   "cell_type": "code",
   "execution_count": 274,
   "metadata": {},
   "outputs": [
    {
     "name": "stdout",
     "output_type": "stream",
     "text": [
      "tensor([0., 0., 0.]) tensor([0., 0., 0.]) tensor([0.9000, 0.9990])\n"
     ]
    }
   ],
   "source": [
    "print(moment1, moment2, betas)"
   ]
  },
  {
   "cell_type": "code",
   "execution_count": 275,
   "metadata": {},
   "outputs": [],
   "source": [
    "def update():\n",
    "    _x, _y = xy_db.one_batch()\n",
    "    _y_pred = pm(_x)\n",
    "    loss = MSELoss(_y_pred, _y)\n",
    "    loss.backward()\n",
    "\n",
    "    with torch.no_grad():\n",
    "        \n",
    "        moment1.mul_(betas[0])\n",
    "        moment1.add_((1.-betas[0]) * pm.w.grad)\n",
    "        moment1_hat = moment1.div(1.-betas[0]**(epoch+1))\n",
    "        \n",
    "        moment2.mul_(betas[1])\n",
    "        moment2.add_((1.-betas[1]) * (pm.w.grad * pm.w.grad))\n",
    "        moment2_hat = moment2.div(1.-betas[1]**(epoch+1))\n",
    "        \n",
    "        pm.w.sub_(lr * moment1_hat / (torch.sqrt(moment2_hat) + eps))\n",
    "    \n",
    "    losses.append(loss.clone().detach().numpy())\n",
    "    update_method.append(\"Adam\")"
   ]
  },
  {
   "cell_type": "markdown",
   "metadata": {},
   "source": [
    "Covariance Matrix Adaption Evolution Strategy (CMA-ES): [tutorial](https://arxiv.org/abs/1604.00772), [wiki](https://en.wikipedia.org/wiki/CMA-ES)\n",
    "You may also want to check out [this](https://eli.thegreenplace.net/2011/05/15/understanding-unboundlocalerror-in-python) for variable scoping."
   ]
  },
  {
   "cell_type": "code",
   "execution_count": 218,
   "metadata": {},
   "outputs": [],
   "source": [
    "class CMA_ES:\n",
    "    \n",
    "    _lambda = 9 # number of agents\n",
    "    mu = 4 # number of children which survive the culling\n",
    "    N = pm.w.size()[0] # number of parameters\n",
    "\n",
    "    m = pm.w.clone().detach() # position of the normal distribution\n",
    "    sigma = .3 # coordinate wise standard deviation (step size)\n",
    "    weights = None   # recombination weights\n",
    "    mueff = None\n",
    "\n",
    "    # Strategy parameter setting: Adaptation\n",
    "    cc = None # time constant for cumulation for C\n",
    "    cs = None # t-const for cumulation for sigma control\n",
    "    c1 = None # learning rate for rank-one update of C\n",
    "    cmu = None\n",
    "    damps = None # damping for sigma, usually close to 1\n",
    "    \n",
    "    # Initialize dynamic (internal) strategy parameters and constants\n",
    "    pc = torch.zeros(1, N).detach() # evolution paths for C and sigma\n",
    "    ps = torch.zeros(1, N).detach() # evolution paths for C and sigma\n",
    "    \n",
    "\n",
    "    C = torch.eye(n=N, dtype=torch.float).detach()\n",
    "    B = torch.eye(N, N).detach() # B defines the coordinate system\n",
    "    D = torch.ones(N).detach() # diagonal D defines the scaling\n",
    "    invsqrtC = B @ torch.diag(1 / D) @ B.transpose(0, 1)\n",
    "    \n",
    "    eigeneval = 0 # track update of B and D\n",
    "    chiN = N**.5 * (1. - 1./(4.*N) + 1./(21.*N**2))\n",
    "    \n",
    "    name = \"CMA-ES\"\n",
    "    \n",
    "    def __init__(self, _lambda: int = 9, mu: int = 4, sigma: float = .3):\n",
    "        self._lambda = _lambda\n",
    "        self.mu = mu\n",
    "        self.sigma = sigma\n",
    "        \n",
    "        with torch.no_grad():\n",
    "            #self.agents = torch.ones((_lambda, self.N)).detach()\n",
    "            self.weights = torch.ones(mu).detach()/float(mu)\n",
    "            self.mueff = self.weights.sum()**2 / (self.weights @ self.weights).sum()\n",
    "\n",
    "            self.cc = (4. + self.mueff / self.N) / (self.N + 4 + 2 * self.mueff / self.N) # time constant for cumulation for C\n",
    "            self.cs = (self.mueff + 2) / (self.N + self.mueff + 5) # t-const for cumulation for sigma control\n",
    "            self.c1 = 2 / ((self.N+1.3)**2 + self.mueff) # learning rate for rank-one update of C\n",
    "            self.cmu = min([1 - self.c1, 2 * (self.mueff - 2 + 1 / self.mueff) / ((self.N + 2)**2 + self.mueff)])\n",
    "            self.damps = 1 + 2 * max(0, torch.sqrt((self.mueff - 1)/(self.N + 1)) - 1) + self.cs # damping for sigma, usually close to 1\n",
    "\n",
    "    def update(self):\n",
    "\n",
    "        _x, _y = xy_db.one_batch()\n",
    "        _y_pred = pm(_x)\n",
    "        loss = MSELoss(_y_pred, _y)\n",
    "\n",
    "        with torch.no_grad():\n",
    "\n",
    "\n",
    "            agents = (torch.distributions.multivariate_normal.MultivariateNormal(self.m, covariance_matrix = self.C)\n",
    "                      .sample(sample_shape=torch.Size([self._lambda])))\n",
    "\n",
    "            for _i in range(self._lambda):\n",
    "                pm.w = torch.nn.Parameter(agents[_i])\n",
    "                _y_pred = pm(_x)\n",
    "                fitnesses[_i] = MSELoss(_y_pred, _y)\n",
    "\n",
    "            idx = torch.argsort(fitnesses)[:self.mu] # assumes that the best individuals are those with the lowest fitness values\n",
    "\n",
    "            m_new = agents[idx].mean(dim=0)\n",
    "\n",
    "            # Update evolution paths     \n",
    "            self.ps = (1-self.cs) * self.ps + torch.sqrt(self.cs * (2-self.cs)*self.mueff) \\\n",
    "                      * self.invsqrtC @ (m_new - self.m)/self.sigma\n",
    "\n",
    "            hsig = 2./(self.N+1.)\n",
    "            if not (torch.norm(self.ps) / torch.sqrt(1-(1-self.cs)**(2*(epoch+1)/self._lambda))/self.chiN < 1.4):\n",
    "                hsig += 1.\n",
    "\n",
    "            self.pc = (1-self.cc) * self.pc + hsig * torch.sqrt(self.cc * (2-self.cc)*self.mueff) \\\n",
    "                      * (m_new - self.m)/self.sigma\n",
    "\n",
    "            # Adapt covariance matrix C\n",
    "            artmp = 1/self.sigma * (agents[idx] - self.m)\n",
    "\n",
    "            self.C = (1. - self.c1 - self.cmu) * self.C \\\n",
    "                      + self.c1 * ( \\\n",
    "                              torch.einsum(\"i,j->ij\", self.pc[0], self.pc[0]) \\\n",
    "                              + (1-hsig) * self.cc*(2-self.cc) * self.C\n",
    "                             ) \\\n",
    "                      + self.cmu * artmp.transpose(0, 1) @ torch.diag(self.weights) @ artmp\n",
    "\n",
    "            self.sigma = self.sigma * torch.exp((self.cs/self.damps)*(torch.norm(self.ps)/self.chiN - 1.))\n",
    "\n",
    "            if epoch - self.eigeneval > self._lambda/(self.c1+self.cmu)/self.N/10.:\n",
    "\n",
    "                self.eigeneval = epoch\n",
    "                self.C = self.C.triu() + self.C.triu(1).transpose(0, 1)\n",
    "                (D, B) = self.C.eig(eigenvectors=True)\n",
    "                self.invsqrtC = B @ torch.diag(1./D[:,0]) @ B.transpose(0, 1)\n",
    "\n",
    "            pm.w = torch.nn.Parameter(m_new)\n",
    "            self.m = m_new.clone()\n",
    "            \n",
    "            \n",
    "        \n",
    "        self.loss = loss.clone().detach().numpy()\n"
   ]
  },
  {
   "cell_type": "markdown",
   "metadata": {},
   "source": [
    "With one of pytorch's optimizers"
   ]
  },
  {
   "cell_type": "code",
   "execution_count": 222,
   "metadata": {},
   "outputs": [],
   "source": [
    "# opt = torch.optim.SGD(pm.parameters(), lr=.01, momentum=.9)\n",
    "\n",
    "class PyTorch:\n",
    "    \n",
    "    opt = None\n",
    "    loss = None\n",
    "    name = \"pytorch optimizer\"\n",
    "    \n",
    "    def __init__(self, opt: torch.optim.Optimizer):\n",
    "        self.opt = opt\n",
    "        \n",
    "    def update(self):\n",
    "        self.opt.zero_grad()\n",
    "        _x, _y = xy_db.one_batch()\n",
    "        _y_pred = pm(_x)\n",
    "        loss = MSELoss(_y_pred, _y)\n",
    "        loss.backward()\n",
    "\n",
    "        self.opt.step()\n",
    "\n",
    "        self.loss = loss.clone().detach().numpy()\n"
   ]
  },
  {
   "cell_type": "markdown",
   "metadata": {},
   "source": [
    "**Running an optimizer for a while**"
   ]
  },
  {
   "cell_type": "code",
   "execution_count": 253,
   "metadata": {},
   "outputs": [
    {
     "data": {
      "text/plain": [
       "tensor([-1.2038,  1.7112,  0.0200,  0.0604,  3.5957], grad_fn=<MvBackward>)"
      ]
     },
     "execution_count": 253,
     "metadata": {},
     "output_type": "execute_result"
    }
   ],
   "source": [
    "# initialize random weights\n",
    "pm = PolyModel(deg=3)\n",
    "pm(torch.randn(5))"
   ]
  },
  {
   "cell_type": "code",
   "execution_count": 179,
   "metadata": {},
   "outputs": [],
   "source": [
    "lr = .05 # for some reason the adam implementation requires a much larger (.9+) \"learning rate\" than the other algs\n",
    "n_epochs = 50"
   ]
  },
  {
   "cell_type": "code",
   "execution_count": 248,
   "metadata": {},
   "outputs": [],
   "source": [
    "losses = []\n",
    "update_method = []"
   ]
  },
  {
   "cell_type": "code",
   "execution_count": 129,
   "metadata": {},
   "outputs": [
    {
     "data": {
      "text/plain": [
       "Parameter containing:\n",
       "tensor([-0.1029, -0.8630,  1.1719], requires_grad=True)"
      ]
     },
     "execution_count": 129,
     "metadata": {},
     "output_type": "execute_result"
    }
   ],
   "source": [
    "pm.w"
   ]
  },
  {
   "cell_type": "code",
   "execution_count": 225,
   "metadata": {
    "scrolled": true
   },
   "outputs": [],
   "source": [
    "# _optimizer = SGD(lr=.01)\n",
    "# _optimizer = SGD_mom(lr=.01, momentum=.9)\n",
    "# _optimizer = SGD_mom_decay(lr=.01, momentum=.9, wd=.1)\n",
    "# _optimizer = RMSProp(lr=.01, momentum=.9, wd=.1, beta=.9)\n",
    "# _optimizer = Adam(lr=.01, betas=[.9, .999], eps=1e-8)\n",
    "# _optimizer = CMA_ES(_lambda=9, mu=4, sigma=.3)\n",
    "_optimizer = PyTorch(opt=torch.optim.SGD(pm.parameters(), lr=.01, momentum=.9))\n",
    "\n",
    "for epoch in range(n_epochs): # range(n_epochs):\n",
    "    #update()\n",
    "    _optimizer.update()\n",
    "    update_method.append(_optimizer.name)\n",
    "    losses.append(_optimizer.loss)"
   ]
  },
  {
   "cell_type": "code",
   "execution_count": 93,
   "metadata": {},
   "outputs": [
    {
     "data": {
      "text/plain": [
       "Parameter containing:\n",
       "tensor([2.0940, 1.1121, 9.3637], requires_grad=True)"
      ]
     },
     "execution_count": 93,
     "metadata": {},
     "output_type": "execute_result"
    }
   ],
   "source": [
    "pm.w"
   ]
  },
  {
   "cell_type": "markdown",
   "metadata": {},
   "source": [
    "**Running a bunch of different optimizers**\n",
    "\n",
    "Essentially the same as above but directly running a series of optimizers."
   ]
  },
  {
   "cell_type": "code",
   "execution_count": 254,
   "metadata": {},
   "outputs": [],
   "source": [
    "w0 = pm.w.clone()"
   ]
  },
  {
   "cell_type": "code",
   "execution_count": 261,
   "metadata": {},
   "outputs": [
    {
     "name": "stdout",
     "output_type": "stream",
     "text": [
      "\n",
      " <__main__.PyTorch object at 0x000001C2F9BA4808>\n",
      "Parameter containing:\n",
      "tensor([-0.7629,  2.3541,  1.8252], requires_grad=True)\n"
     ]
    }
   ],
   "source": [
    "optimizers = [\n",
    "#     SGD(lr=.01),\n",
    "#     SGD_mom(lr=.01, momentum=.9),\n",
    "#     SGD_mom_decay(lr=.01, momentum=.9, wd=.1),\n",
    "#     RMSProp(lr=.01, momentum=.9, wd=.1, beta=.9),\n",
    "#     Adam(lr=.01, betas=[.9, .999], eps=1e-8),\n",
    "#     CMA_ES(_lambda=9, mu=4, sigma=.3),\n",
    "    PyTorch(opt=torch.optim.SGD(pm.parameters(), lr=.1, momentum=.9))\n",
    "]\n",
    "\n",
    "for _optimizer in optimizers:\n",
    "    print(\"\\n\", _optimizer)\n",
    "    pm.w = torch.nn.Parameter(w0.clone())\n",
    "    for epoch in range(n_epochs):\n",
    "        _optimizer.update()\n",
    "        update_method.append(_optimizer.name)\n",
    "        losses.append(_optimizer.loss)\n",
    "    print(pm.w)"
   ]
  },
  {
   "cell_type": "markdown",
   "metadata": {},
   "source": [
    "**How well is the data fitted for a single weights vector?**"
   ]
  },
  {
   "cell_type": "code",
   "execution_count": 262,
   "metadata": {
    "scrolled": true
   },
   "outputs": [
    {
     "data": {
      "image/png": "[encoded data removed]",
      "text/plain": [
       "<Figure size 720x576 with 1 Axes>"
      ]
     },
     "metadata": {
      "needs_background": "light"
     },
     "output_type": "display_data"
    }
   ],
   "source": [
    "fig, ax = plt.subplots(figsize=(10, 8))\n",
    "ax.plot(x, y, \".\", label=\"data\")\n",
    "with torch.no_grad():\n",
    "    ax.plot(x, pm(torch.from_numpy(x).clone()), \"*\", label=\"model\")\n",
    "ax.legend()\n",
    "plt.show()"
   ]
  },
  {
   "cell_type": "markdown",
   "metadata": {},
   "source": [
    "**Loss plots over multiple optimization methods**"
   ]
  },
  {
   "cell_type": "code",
   "execution_count": 263,
   "metadata": {},
   "outputs": [
    {
     "data": {
      "image/png": "[encoded data removed]",
      "text/plain": [
       "<Figure size 720x576 with 1 Axes>"
      ]
     },
     "metadata": {
      "needs_background": "light"
     },
     "output_type": "display_data"
    }
   ],
   "source": [
    "df_plot = pd.DataFrame({\"update_method\": update_method, \"losses\": np.array(losses), \"epoch\": np.arange(len(losses))})\n",
    "\n",
    "fig, ax = plt.subplots(figsize=(10, 8))\n",
    "sns.lineplot(data=df_plot, x=\"epoch\", y=\"losses\", ax=ax , hue=\"update_method\")\n",
    "\n",
    "ax.set_xlabel(\"Epoch\")\n",
    "ax.set_ylabel(\"Loss\")\n",
    "ax.legend(title=\"Update method\")\n",
    "plt.show()"
   ]
  },
  {
   "cell_type": "code",
   "execution_count": null,
   "metadata": {},
   "outputs": [],
   "source": []
  }
 ],
 "metadata": {
  "kernelspec": {
   "display_name": "Python [conda env:py37_fastai]",
   "language": "python",
   "name": "conda-env-py37_fastai-py"
  },
  "language_info": {
   "codemirror_mode": {
    "name": "ipython",
    "version": 3
   },
   "file_extension": ".py",
   "mimetype": "text/x-python",
   "name": "python",
   "nbconvert_exporter": "python",
   "pygments_lexer": "ipython3",
   "version": "3.7.5"
  }
 },
 "nbformat": 4,
 "nbformat_minor": 2
}
