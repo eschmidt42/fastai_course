{
 "cells": [
  {
   "cell_type": "markdown",
   "metadata": {},
   "source": [
    "# Random basics - datasets / dataloaders & optimizers \n",
    "\n",
    "Things in this notebook:\n",
    "- simple regression problem\n",
    "- data management from scratch\n",
    "- optimizers from scratch incl. monitoring & hyper parameter schedulers\n",
    "\n",
    "In this notebook I experiment with creating a custom dataset and transform as well as with creating some optimizers from scratch using pytorch. My personal highlight was to see that even a method like Covariance Matrix Adaption (an evolutionary strategy based algorithm) can be implemented using pytorch and actually performs reasonably well.\n",
    "\n",
    "A bit surprising, and I suspect a bug is, is that the default SGD optimizer from pytorch performs quite poorly in comparison.\n",
    "\n",
    "**Things to look at**\n",
    "\n",
    "1. DONE opt: SGD, RMSProp, Adam, evo ([example](https://towardsdatascience.com/paper-repro-deep-neuroevolution-756871e00a66))\n",
    "2. nets: dense, conv, recurrent, ResNet, DensNet\n",
    "3. regularization: dropout, l2, weight decay, batchnorm\n",
    "4. DONE data bunching (this kind of seems nasty) - data/application: image, tabular, sequence/text, collab\n",
    "5. GANs, U-net, Feature loss\n",
    "\n",
    "**TO DO: check why converged solutions look so bad**\n",
    "\n",
    "**TO DO: refactor optimizers using inheritance from a generic optimizer class (see lecture 11)**\n",
    "\n",
    "**TO DO: cyclical learning rates: [Smith et al. 2017](https://arxiv.org/abs/1506.01186), [Smith and Topin 2018](https://arxiv.org/pdf/1708.07120.pdf), [medium blog](https://medium.com/dsnet/the-1-cycle-policy-an-experiment-that-vanished-the-struggle-in-training-neural-nets-184417de23b9) post by Shubhaajit Das, [Smith 2018](http://arxiv.org/abs/1803.09820)**\n",
    "\n",
    "**TO DO: callbacks --> new version of this notebook using callbacks (add progressbar from fastprogress module)**\n",
    "\n",
    "**TO DO: change the batch generation**\n",
    "Change it so drawing stops automatically after the last untouched elements have been drawn. Add a possibility to keep going."
   ]
  },
  {
   "cell_type": "code",
   "execution_count": 4,
   "metadata": {
    "scrolled": true
   },
   "outputs": [],
   "source": [
    "%matplotlib inline"
   ]
  },
  {
   "cell_type": "code",
   "execution_count": 2,
   "metadata": {},
   "outputs": [],
   "source": [
    "from fastai.data_block import ItemList, ItemBase\n",
    "from fastai import basic_data\n",
    "from fastai.basic_data import DataBunch\n",
    "from fastai.tabular import TabularList, Normalize, FillMissing"
   ]
  },
  {
   "cell_type": "code",
   "execution_count": 5,
   "metadata": {},
   "outputs": [],
   "source": [
    "from fastai.basics import torch\n",
    "\n",
    "import numpy as np\n",
    "from scipy import stats\n",
    "import pandas as pd\n",
    "import matplotlib.pyplot as plt\n",
    "import seaborn as sns\n",
    "from typing import List, Union\n",
    "from functools import partial\n",
    "\n",
    "import bokeh.io as bokeh_io\n",
    "import bokeh.plotting as bokeh_plotting\n",
    "import bokeh.models as bokeh_models\n",
    "import bokeh.palettes as bokeh_palettes"
   ]
  },
  {
   "cell_type": "code",
   "execution_count": 6,
   "metadata": {},
   "outputs": [
    {
     "data": {
      "text/html": [
       "\n",
       "    <div class=\"bk-root\">\n",
       "        <a href=\"https://bokeh.org\" target=\"_blank\" class=\"bk-logo bk-logo-small bk-logo-notebook\"></a>\n",
       "        <span id=\"1001\">Loading BokehJS ...</span>\n",
       "    </div>"
      ]
     },
     "metadata": {},
     "output_type": "display_data"
    },
    {
     "data": {
      "application/javascript": [
       "\n",
       "(function(root) {\n",
       "  function now() {\n",
       "    return new Date();\n",
       "  }\n",
       "\n",
       "  var force = true;\n",
       "\n",
       "  if (typeof root._bokeh_onload_callbacks === \"undefined\" || force === true) {\n",
       "    root._bokeh_onload_callbacks = [];\n",
       "    root._bokeh_is_loading = undefined;\n",
       "  }\n",
       "\n",
       "  var JS_MIME_TYPE = 'application/javascript';\n",
       "  var HTML_MIME_TYPE = 'text/html';\n",
       "  var EXEC_MIME_TYPE = 'application/vnd.bokehjs_exec.v0+json';\n",
       "  var CLASS_NAME = 'output_bokeh rendered_html';\n",
       "\n",
       "  /**\n",
       "   * Render data to the DOM node\n",
       "   */\n",
       "  function render(props, node) {\n",
       "    var script = document.createElement(\"script\");\n",
       "    node.appendChild(script);\n",
       "  }\n",
       "\n",
       "  /**\n",
       "   * Handle when an output is cleared or removed\n",
       "   */\n",
       "  function handleClearOutput(event, handle) {\n",
       "    var cell = handle.cell;\n",
       "\n",
       "    var id = cell.output_area._bokeh_element_id;\n",
       "    var server_id = cell.output_area._bokeh_server_id;\n",
       "    // Clean up Bokeh references\n",
       "    if (id != null && id in Bokeh.index) {\n",
       "      Bokeh.index[id].model.document.clear();\n",
       "      delete Bokeh.index[id];\n",
       "    }\n",
       "\n",
       "    if (server_id !== undefined) {\n",
       "      // Clean up Bokeh references\n",
       "      var cmd = \"from bokeh.io.state import curstate; print(curstate().uuid_to_server['\" + server_id + \"'].get_sessions()[0].document.roots[0]._id)\";\n",
       "      cell.notebook.kernel.execute(cmd, {\n",
       "        iopub: {\n",
       "          output: function(msg) {\n",
       "            var id = msg.content.text.trim();\n",
       "            if (id in Bokeh.index) {\n",
       "              Bokeh.index[id].model.document.clear();\n",
       "              delete Bokeh.index[id];\n",
       "            }\n",
       "          }\n",
       "        }\n",
       "      });\n",
       "      // Destroy server and session\n",
       "      var cmd = \"import bokeh.io.notebook as ion; ion.destroy_server('\" + server_id + \"')\";\n",
       "      cell.notebook.kernel.execute(cmd);\n",
       "    }\n",
       "  }\n",
       "\n",
       "  /**\n",
       "   * Handle when a new output is added\n",
       "   */\n",
       "  function handleAddOutput(event, handle) {\n",
       "    var output_area = handle.output_area;\n",
       "    var output = handle.output;\n",
       "\n",
       "    // limit handleAddOutput to display_data with EXEC_MIME_TYPE content only\n",
       "    if ((output.output_type != \"display_data\") || (!output.data.hasOwnProperty(EXEC_MIME_TYPE))) {\n",
       "      return\n",
       "    }\n",
       "\n",
       "    var toinsert = output_area.element.find(\".\" + CLASS_NAME.split(' ')[0]);\n",
       "\n",
       "    if (output.metadata[EXEC_MIME_TYPE][\"id\"] !== undefined) {\n",
       "      toinsert[toinsert.length - 1].firstChild.textContent = output.data[JS_MIME_TYPE];\n",
       "      // store reference to embed id on output_area\n",
       "      output_area._bokeh_element_id = output.metadata[EXEC_MIME_TYPE][\"id\"];\n",
       "    }\n",
       "    if (output.metadata[EXEC_MIME_TYPE][\"server_id\"] !== undefined) {\n",
       "      var bk_div = document.createElement(\"div\");\n",
       "      bk_div.innerHTML = output.data[HTML_MIME_TYPE];\n",
       "      var script_attrs = bk_div.children[0].attributes;\n",
       "      for (var i = 0; i < script_attrs.length; i++) {\n",
       "        toinsert[toinsert.length - 1].firstChild.setAttribute(script_attrs[i].name, script_attrs[i].value);\n",
       "      }\n",
       "      // store reference to server id on output_area\n",
       "      output_area._bokeh_server_id = output.metadata[EXEC_MIME_TYPE][\"server_id\"];\n",
       "    }\n",
       "  }\n",
       "\n",
       "  function register_renderer(events, OutputArea) {\n",
       "\n",
       "    function append_mime(data, metadata, element) {\n",
       "      // create a DOM node to render to\n",
       "      var toinsert = this.create_output_subarea(\n",
       "        metadata,\n",
       "        CLASS_NAME,\n",
       "        EXEC_MIME_TYPE\n",
       "      );\n",
       "      this.keyboard_manager.register_events(toinsert);\n",
       "      // Render to node\n",
       "      var props = {data: data, metadata: metadata[EXEC_MIME_TYPE]};\n",
       "      render(props, toinsert[toinsert.length - 1]);\n",
       "      element.append(toinsert);\n",
       "      return toinsert\n",
       "    }\n",
       "\n",
       "    /* Handle when an output is cleared or removed */\n",
       "    events.on('clear_output.CodeCell', handleClearOutput);\n",
       "    events.on('delete.Cell', handleClearOutput);\n",
       "\n",
       "    /* Handle when a new output is added */\n",
       "    events.on('output_added.OutputArea', handleAddOutput);\n",
       "\n",
       "    /**\n",
       "     * Register the mime type and append_mime function with output_area\n",
       "     */\n",
       "    OutputArea.prototype.register_mime_type(EXEC_MIME_TYPE, append_mime, {\n",
       "      /* Is output safe? */\n",
       "      safe: true,\n",
       "      /* Index of renderer in `output_area.display_order` */\n",
       "      index: 0\n",
       "    });\n",
       "  }\n",
       "\n",
       "  // register the mime type if in Jupyter Notebook environment and previously unregistered\n",
       "  if (root.Jupyter !== undefined) {\n",
       "    var events = require('base/js/events');\n",
       "    var OutputArea = require('notebook/js/outputarea').OutputArea;\n",
       "\n",
       "    if (OutputArea.prototype.mime_types().indexOf(EXEC_MIME_TYPE) == -1) {\n",
       "      register_renderer(events, OutputArea);\n",
       "    }\n",
       "  }\n",
       "\n",
       "  \n",
       "  if (typeof (root._bokeh_timeout) === \"undefined\" || force === true) {\n",
       "    root._bokeh_timeout = Date.now() + 5000;\n",
       "    root._bokeh_failed_load = false;\n",
       "  }\n",
       "\n",
       "  var NB_LOAD_WARNING = {'data': {'text/html':\n",
       "     \"<div style='background-color: #fdd'>\\n\"+\n",
       "     \"<p>\\n\"+\n",
       "     \"BokehJS does not appear to have successfully loaded. If loading BokehJS from CDN, this \\n\"+\n",
       "     \"may be due to a slow or bad network connection. Possible fixes:\\n\"+\n",
       "     \"</p>\\n\"+\n",
       "     \"<ul>\\n\"+\n",
       "     \"<li>re-rerun `output_notebook()` to attempt to load from CDN again, or</li>\\n\"+\n",
       "     \"<li>use INLINE resources instead, as so:</li>\\n\"+\n",
       "     \"</ul>\\n\"+\n",
       "     \"<code>\\n\"+\n",
       "     \"from bokeh.resources import INLINE\\n\"+\n",
       "     \"output_notebook(resources=INLINE)\\n\"+\n",
       "     \"</code>\\n\"+\n",
       "     \"</div>\"}};\n",
       "\n",
       "  function display_loaded() {\n",
       "    var el = document.getElementById(\"1001\");\n",
       "    if (el != null) {\n",
       "      el.textContent = \"BokehJS is loading...\";\n",
       "    }\n",
       "    if (root.Bokeh !== undefined) {\n",
       "      if (el != null) {\n",
       "        el.textContent = \"BokehJS \" + root.Bokeh.version + \" successfully loaded.\";\n",
       "      }\n",
       "    } else if (Date.now() < root._bokeh_timeout) {\n",
       "      setTimeout(display_loaded, 100)\n",
       "    }\n",
       "  }\n",
       "\n",
       "\n",
       "  function run_callbacks() {\n",
       "    try {\n",
       "      root._bokeh_onload_callbacks.forEach(function(callback) {\n",
       "        if (callback != null)\n",
       "          callback();\n",
       "      });\n",
       "    } finally {\n",
       "      delete root._bokeh_onload_callbacks\n",
       "    }\n",
       "    console.debug(\"Bokeh: all callbacks have finished\");\n",
       "  }\n",
       "\n",
       "  function load_libs(css_urls, js_urls, callback) {\n",
       "    if (css_urls == null) css_urls = [];\n",
       "    if (js_urls == null) js_urls = [];\n",
       "\n",
       "    root._bokeh_onload_callbacks.push(callback);\n",
       "    if (root._bokeh_is_loading > 0) {\n",
       "      console.debug(\"Bokeh: BokehJS is being loaded, scheduling callback at\", now());\n",
       "      return null;\n",
       "    }\n",
       "    if (js_urls == null || js_urls.length === 0) {\n",
       "      run_callbacks();\n",
       "      return null;\n",
       "    }\n",
       "    console.debug(\"Bokeh: BokehJS not loaded, scheduling load and callback at\", now());\n",
       "    root._bokeh_is_loading = css_urls.length + js_urls.length;\n",
       "\n",
       "    function on_load() {\n",
       "      root._bokeh_is_loading--;\n",
       "      if (root._bokeh_is_loading === 0) {\n",
       "        console.debug(\"Bokeh: all BokehJS libraries/stylesheets loaded\");\n",
       "        run_callbacks()\n",
       "      }\n",
       "    }\n",
       "\n",
       "    function on_error() {\n",
       "      console.error(\"failed to load \" + url);\n",
       "    }\n",
       "\n",
       "    for (var i = 0; i < css_urls.length; i++) {\n",
       "      var url = css_urls[i];\n",
       "      const element = document.createElement(\"link\");\n",
       "      element.onload = on_load;\n",
       "      element.onerror = on_error;\n",
       "      element.rel = \"stylesheet\";\n",
       "      element.type = \"text/css\";\n",
       "      element.href = url;\n",
       "      console.debug(\"Bokeh: injecting link tag for BokehJS stylesheet: \", url);\n",
       "      document.body.appendChild(element);\n",
       "    }\n",
       "\n",
       "    for (var i = 0; i < js_urls.length; i++) {\n",
       "      var url = js_urls[i];\n",
       "      var element = document.createElement('script');\n",
       "      element.onload = on_load;\n",
       "      element.onerror = on_error;\n",
       "      element.async = false;\n",
       "      element.src = url;\n",
       "      console.debug(\"Bokeh: injecting script tag for BokehJS library: \", url);\n",
       "      document.head.appendChild(element);\n",
       "    }\n",
       "  };var element = document.getElementById(\"1001\");\n",
       "  if (element == null) {\n",
       "    console.error(\"Bokeh: ERROR: autoload.js configured with elementid '1001' but no matching script tag was found. \")\n",
       "    return false;\n",
       "  }\n",
       "\n",
       "  function inject_raw_css(css) {\n",
       "    const element = document.createElement(\"style\");\n",
       "    element.appendChild(document.createTextNode(css));\n",
       "    document.body.appendChild(element);\n",
       "  }\n",
       "\n",
       "  \n",
       "  var js_urls = [\"https://cdn.pydata.org/bokeh/release/bokeh-1.4.0.min.js\", \"https://cdn.pydata.org/bokeh/release/bokeh-widgets-1.4.0.min.js\", \"https://cdn.pydata.org/bokeh/release/bokeh-tables-1.4.0.min.js\", \"https://cdn.pydata.org/bokeh/release/bokeh-gl-1.4.0.min.js\"];\n",
       "  var css_urls = [];\n",
       "  \n",
       "\n",
       "  var inline_js = [\n",
       "    function(Bokeh) {\n",
       "      Bokeh.set_log_level(\"info\");\n",
       "    },\n",
       "    function(Bokeh) {\n",
       "    \n",
       "    \n",
       "    }\n",
       "  ];\n",
       "\n",
       "  function run_inline_js() {\n",
       "    \n",
       "    if (root.Bokeh !== undefined || force === true) {\n",
       "      \n",
       "    for (var i = 0; i < inline_js.length; i++) {\n",
       "      inline_js[i].call(root, root.Bokeh);\n",
       "    }\n",
       "    if (force === true) {\n",
       "        display_loaded();\n",
       "      }} else if (Date.now() < root._bokeh_timeout) {\n",
       "      setTimeout(run_inline_js, 100);\n",
       "    } else if (!root._bokeh_failed_load) {\n",
       "      console.log(\"Bokeh: BokehJS failed to load within specified timeout.\");\n",
       "      root._bokeh_failed_load = true;\n",
       "    } else if (force !== true) {\n",
       "      var cell = $(document.getElementById(\"1001\")).parents('.cell').data().cell;\n",
       "      cell.output_area.append_execute_result(NB_LOAD_WARNING)\n",
       "    }\n",
       "\n",
       "  }\n",
       "\n",
       "  if (root._bokeh_is_loading === 0) {\n",
       "    console.debug(\"Bokeh: BokehJS loaded, going straight to plotting\");\n",
       "    run_inline_js();\n",
       "  } else {\n",
       "    load_libs(css_urls, js_urls, function() {\n",
       "      console.debug(\"Bokeh: BokehJS plotting callback run at\", now());\n",
       "      run_inline_js();\n",
       "    });\n",
       "  }\n",
       "}(window));"
      ],
      "application/vnd.bokehjs_load.v0+json": "\n(function(root) {\n  function now() {\n    return new Date();\n  }\n\n  var force = true;\n\n  if (typeof root._bokeh_onload_callbacks === \"undefined\" || force === true) {\n    root._bokeh_onload_callbacks = [];\n    root._bokeh_is_loading = undefined;\n  }\n\n  \n\n  \n  if (typeof (root._bokeh_timeout) === \"undefined\" || force === true) {\n    root._bokeh_timeout = Date.now() + 5000;\n    root._bokeh_failed_load = false;\n  }\n\n  var NB_LOAD_WARNING = {'data': {'text/html':\n     \"<div style='background-color: #fdd'>\\n\"+\n     \"<p>\\n\"+\n     \"BokehJS does not appear to have successfully loaded. If loading BokehJS from CDN, this \\n\"+\n     \"may be due to a slow or bad network connection. Possible fixes:\\n\"+\n     \"</p>\\n\"+\n     \"<ul>\\n\"+\n     \"<li>re-rerun `output_notebook()` to attempt to load from CDN again, or</li>\\n\"+\n     \"<li>use INLINE resources instead, as so:</li>\\n\"+\n     \"</ul>\\n\"+\n     \"<code>\\n\"+\n     \"from bokeh.resources import INLINE\\n\"+\n     \"output_notebook(resources=INLINE)\\n\"+\n     \"</code>\\n\"+\n     \"</div>\"}};\n\n  function display_loaded() {\n    var el = document.getElementById(\"1001\");\n    if (el != null) {\n      el.textContent = \"BokehJS is loading...\";\n    }\n    if (root.Bokeh !== undefined) {\n      if (el != null) {\n        el.textContent = \"BokehJS \" + root.Bokeh.version + \" successfully loaded.\";\n      }\n    } else if (Date.now() < root._bokeh_timeout) {\n      setTimeout(display_loaded, 100)\n    }\n  }\n\n\n  function run_callbacks() {\n    try {\n      root._bokeh_onload_callbacks.forEach(function(callback) {\n        if (callback != null)\n          callback();\n      });\n    } finally {\n      delete root._bokeh_onload_callbacks\n    }\n    console.debug(\"Bokeh: all callbacks have finished\");\n  }\n\n  function load_libs(css_urls, js_urls, callback) {\n    if (css_urls == null) css_urls = [];\n    if (js_urls == null) js_urls = [];\n\n    root._bokeh_onload_callbacks.push(callback);\n    if (root._bokeh_is_loading > 0) {\n      console.debug(\"Bokeh: BokehJS is being loaded, scheduling callback at\", now());\n      return null;\n    }\n    if (js_urls == null || js_urls.length === 0) {\n      run_callbacks();\n      return null;\n    }\n    console.debug(\"Bokeh: BokehJS not loaded, scheduling load and callback at\", now());\n    root._bokeh_is_loading = css_urls.length + js_urls.length;\n\n    function on_load() {\n      root._bokeh_is_loading--;\n      if (root._bokeh_is_loading === 0) {\n        console.debug(\"Bokeh: all BokehJS libraries/stylesheets loaded\");\n        run_callbacks()\n      }\n    }\n\n    function on_error() {\n      console.error(\"failed to load \" + url);\n    }\n\n    for (var i = 0; i < css_urls.length; i++) {\n      var url = css_urls[i];\n      const element = document.createElement(\"link\");\n      element.onload = on_load;\n      element.onerror = on_error;\n      element.rel = \"stylesheet\";\n      element.type = \"text/css\";\n      element.href = url;\n      console.debug(\"Bokeh: injecting link tag for BokehJS stylesheet: \", url);\n      document.body.appendChild(element);\n    }\n\n    for (var i = 0; i < js_urls.length; i++) {\n      var url = js_urls[i];\n      var element = document.createElement('script');\n      element.onload = on_load;\n      element.onerror = on_error;\n      element.async = false;\n      element.src = url;\n      console.debug(\"Bokeh: injecting script tag for BokehJS library: \", url);\n      document.head.appendChild(element);\n    }\n  };var element = document.getElementById(\"1001\");\n  if (element == null) {\n    console.error(\"Bokeh: ERROR: autoload.js configured with elementid '1001' but no matching script tag was found. \")\n    return false;\n  }\n\n  function inject_raw_css(css) {\n    const element = document.createElement(\"style\");\n    element.appendChild(document.createTextNode(css));\n    document.body.appendChild(element);\n  }\n\n  \n  var js_urls = [\"https://cdn.pydata.org/bokeh/release/bokeh-1.4.0.min.js\", \"https://cdn.pydata.org/bokeh/release/bokeh-widgets-1.4.0.min.js\", \"https://cdn.pydata.org/bokeh/release/bokeh-tables-1.4.0.min.js\", \"https://cdn.pydata.org/bokeh/release/bokeh-gl-1.4.0.min.js\"];\n  var css_urls = [];\n  \n\n  var inline_js = [\n    function(Bokeh) {\n      Bokeh.set_log_level(\"info\");\n    },\n    function(Bokeh) {\n    \n    \n    }\n  ];\n\n  function run_inline_js() {\n    \n    if (root.Bokeh !== undefined || force === true) {\n      \n    for (var i = 0; i < inline_js.length; i++) {\n      inline_js[i].call(root, root.Bokeh);\n    }\n    if (force === true) {\n        display_loaded();\n      }} else if (Date.now() < root._bokeh_timeout) {\n      setTimeout(run_inline_js, 100);\n    } else if (!root._bokeh_failed_load) {\n      console.log(\"Bokeh: BokehJS failed to load within specified timeout.\");\n      root._bokeh_failed_load = true;\n    } else if (force !== true) {\n      var cell = $(document.getElementById(\"1001\")).parents('.cell').data().cell;\n      cell.output_area.append_execute_result(NB_LOAD_WARNING)\n    }\n\n  }\n\n  if (root._bokeh_is_loading === 0) {\n    console.debug(\"Bokeh: BokehJS loaded, going straight to plotting\");\n    run_inline_js();\n  } else {\n    load_libs(css_urls, js_urls, function() {\n      console.debug(\"Bokeh: BokehJS plotting callback run at\", now());\n      run_inline_js();\n    });\n  }\n}(window));"
     },
     "metadata": {},
     "output_type": "display_data"
    }
   ],
   "source": [
    "bokeh_io.output_notebook()"
   ]
  },
  {
   "cell_type": "code",
   "execution_count": 7,
   "metadata": {
    "scrolled": true
   },
   "outputs": [
    {
     "data": {
      "image/png": "[encoded data removed]",
      "text/plain": [
       "<Figure size 576x576 with 1 Axes>"
      ]
     },
     "metadata": {
      "needs_background": "light"
     },
     "output_type": "display_data"
    }
   ],
   "source": [
    "def polynomify(x: torch.Tensor, deg: int):\n",
    "    X = torch.empty(len(x), deg)\n",
    "    for i in range(deg):\n",
    "        X[:,i] = x ** (deg-i-1)\n",
    "    return X\n",
    "\n",
    "n_obs = 100\n",
    "x = torch.linspace(-1, 3, n_obs)\n",
    "# w = torch.tensor([2., 1., 10.])\n",
    "w = torch.tensor([-2, 5, 2.])\n",
    "deg = len(w)\n",
    "X = polynomify(x, deg)\n",
    "y_err = stats.norm(loc=0, scale=.1).rvs(size=x.shape[0])\n",
    "y_err = torch.from_numpy(y_err)\n",
    "y_fun = lambda x: x@w# + y_err\n",
    "\n",
    "y = y_fun(X)\n",
    "figsize = (8,8)\n",
    "fig, ax = plt.subplots(figsize=figsize)\n",
    "ax.plot(x, y, \".\", label=\"data\")\n",
    "ax.set_xlabel(\"x\")\n",
    "ax.set_ylabel(\"y\")\n",
    "# ax.set_aspect(\"equal\")\n",
    "ax.legend()\n",
    "plt.show()"
   ]
  },
  {
   "cell_type": "code",
   "execution_count": 8,
   "metadata": {
    "scrolled": true
   },
   "outputs": [
    {
     "data": {
      "text/plain": [
       "(tensor([-1.0000, -0.9596, -0.9192, -0.8788, -0.8384, -0.7980, -0.7576, -0.7172,\n",
       "         -0.6768, -0.6364, -0.5960, -0.5556, -0.5152, -0.4747, -0.4343, -0.3939,\n",
       "         -0.3535, -0.3131, -0.2727, -0.2323, -0.1919, -0.1515, -0.1111, -0.0707,\n",
       "         -0.0303,  0.0101,  0.0505,  0.0909,  0.1313,  0.1717,  0.2121,  0.2525,\n",
       "          0.2929,  0.3333,  0.3737,  0.4141,  0.4545,  0.4949,  0.5354,  0.5758,\n",
       "          0.6162,  0.6566,  0.6970,  0.7374,  0.7778,  0.8182,  0.8586,  0.8990,\n",
       "          0.9394,  0.9798,  1.0202,  1.0606,  1.1010,  1.1414,  1.1818,  1.2222,\n",
       "          1.2626,  1.3030,  1.3434,  1.3838,  1.4242,  1.4646,  1.5051,  1.5455,\n",
       "          1.5859,  1.6263,  1.6667,  1.7071,  1.7475,  1.7879,  1.8283,  1.8687,\n",
       "          1.9091,  1.9495,  1.9899,  2.0303,  2.0707,  2.1111,  2.1515,  2.1919,\n",
       "          2.2323,  2.2727,  2.3131,  2.3535,  2.3939,  2.4343,  2.4747,  2.5152,\n",
       "          2.5556,  2.5960,  2.6364,  2.6768,  2.7172,  2.7576,  2.7980,  2.8384,\n",
       "          2.8788,  2.9192,  2.9596,  3.0000]),\n",
       " tensor([-5.0000, -4.6396, -4.2858, -3.9385, -3.5977, -3.2634, -2.9357, -2.6145,\n",
       "         -2.2999, -1.9917, -1.6901, -1.3951, -1.1065, -0.8245, -0.5490, -0.2801,\n",
       "         -0.0177,  0.2382,  0.4876,  0.7304,  0.9667,  1.1965,  1.4198,  1.6365,\n",
       "          1.8466,  2.0503,  2.2474,  2.4380,  2.6221,  2.7996,  2.9706,  3.1351,\n",
       "          3.2930,  3.4444,  3.5893,  3.7277,  3.8595,  3.9848,  4.1036,  4.2158,\n",
       "          4.3215,  4.4207,  4.5133,  4.5994,  4.6790,  4.7521,  4.8186,  4.8786,\n",
       "          4.9320,  4.9790,  5.0194,  5.0533,  5.0806,  5.1014,  5.1157,  5.1235,\n",
       "          5.1247,  5.1194,  5.1075,  5.0892,  5.0643,  5.0329,  4.9949,  4.9504,\n",
       "          4.8994,  4.8419,  4.7778,  4.7072,  4.6300,  4.5464,  4.4562,  4.3595,\n",
       "          4.2562,  4.1464,  4.0301,  3.9073,  3.7779,  3.6420,  3.4995,  3.3506,\n",
       "          3.1951,  3.0331,  2.8645,  2.6894,  2.5078,  2.3197,  2.1250,  1.9238,\n",
       "          1.7160,  1.5018,  1.2810,  1.0537,  0.8198,  0.5794,  0.3325,  0.0791,\n",
       "         -0.1809, -0.4474, -0.7204, -1.0000]),\n",
       " tensor([[ 1.0000e+00, -1.0000e+00,  1.0000e+00],\n",
       "         [ 9.2082e-01, -9.5960e-01,  1.0000e+00],\n",
       "         [ 8.4491e-01, -9.1919e-01,  1.0000e+00],\n",
       "         [ 7.7227e-01, -8.7879e-01,  1.0000e+00],\n",
       "         [ 7.0289e-01, -8.3838e-01,  1.0000e+00],\n",
       "         [ 6.3677e-01, -7.9798e-01,  1.0000e+00],\n",
       "         [ 5.7392e-01, -7.5758e-01,  1.0000e+00],\n",
       "         [ 5.1434e-01, -7.1717e-01,  1.0000e+00],\n",
       "         [ 4.5801e-01, -6.7677e-01,  1.0000e+00],\n",
       "         [ 4.0496e-01, -6.3636e-01,  1.0000e+00],\n",
       "         [ 3.5517e-01, -5.9596e-01,  1.0000e+00],\n",
       "         [ 3.0864e-01, -5.5556e-01,  1.0000e+00],\n",
       "         [ 2.6538e-01, -5.1515e-01,  1.0000e+00],\n",
       "         [ 2.2539e-01, -4.7475e-01,  1.0000e+00],\n",
       "         [ 1.8865e-01, -4.3434e-01,  1.0000e+00],\n",
       "         [ 1.5519e-01, -3.9394e-01,  1.0000e+00],\n",
       "         [ 1.2499e-01, -3.5354e-01,  1.0000e+00],\n",
       "         [ 9.8051e-02, -3.1313e-01,  1.0000e+00],\n",
       "         [ 7.4380e-02, -2.7273e-01,  1.0000e+00],\n",
       "         [ 5.3974e-02, -2.3232e-01,  1.0000e+00],\n",
       "         [ 3.6833e-02, -1.9192e-01,  1.0000e+00],\n",
       "         [ 2.2957e-02, -1.5152e-01,  1.0000e+00],\n",
       "         [ 1.2346e-02, -1.1111e-01,  1.0000e+00],\n",
       "         [ 4.9995e-03, -7.0707e-02,  1.0000e+00],\n",
       "         [ 9.1827e-04, -3.0303e-02,  1.0000e+00],\n",
       "         [ 1.0203e-04,  1.0101e-02,  1.0000e+00],\n",
       "         [ 2.5508e-03,  5.0505e-02,  1.0000e+00],\n",
       "         [ 8.2645e-03,  9.0909e-02,  1.0000e+00],\n",
       "         [ 1.7243e-02,  1.3131e-01,  1.0000e+00],\n",
       "         [ 2.9487e-02,  1.7172e-01,  1.0000e+00],\n",
       "         [ 4.4995e-02,  2.1212e-01,  1.0000e+00],\n",
       "         [ 6.3769e-02,  2.5253e-01,  1.0000e+00],\n",
       "         [ 8.5808e-02,  2.9293e-01,  1.0000e+00],\n",
       "         [ 1.1111e-01,  3.3333e-01,  1.0000e+00],\n",
       "         [ 1.3968e-01,  3.7374e-01,  1.0000e+00],\n",
       "         [ 1.7151e-01,  4.1414e-01,  1.0000e+00],\n",
       "         [ 2.0661e-01,  4.5455e-01,  1.0000e+00],\n",
       "         [ 2.4497e-01,  4.9495e-01,  1.0000e+00],\n",
       "         [ 2.8660e-01,  5.3535e-01,  1.0000e+00],\n",
       "         [ 3.3150e-01,  5.7576e-01,  1.0000e+00],\n",
       "         [ 3.7966e-01,  6.1616e-01,  1.0000e+00],\n",
       "         [ 4.3108e-01,  6.5657e-01,  1.0000e+00],\n",
       "         [ 4.8577e-01,  6.9697e-01,  1.0000e+00],\n",
       "         [ 5.4372e-01,  7.3737e-01,  1.0000e+00],\n",
       "         [ 6.0494e-01,  7.7778e-01,  1.0000e+00],\n",
       "         [ 6.6942e-01,  8.1818e-01,  1.0000e+00],\n",
       "         [ 7.3717e-01,  8.5859e-01,  1.0000e+00],\n",
       "         [ 8.0818e-01,  8.9899e-01,  1.0000e+00],\n",
       "         [ 8.8246e-01,  9.3939e-01,  1.0000e+00],\n",
       "         [ 9.6000e-01,  9.7980e-01,  1.0000e+00],\n",
       "         [ 1.0408e+00,  1.0202e+00,  1.0000e+00],\n",
       "         [ 1.1249e+00,  1.0606e+00,  1.0000e+00],\n",
       "         [ 1.2122e+00,  1.1010e+00,  1.0000e+00],\n",
       "         [ 1.3028e+00,  1.1414e+00,  1.0000e+00],\n",
       "         [ 1.3967e+00,  1.1818e+00,  1.0000e+00],\n",
       "         [ 1.4938e+00,  1.2222e+00,  1.0000e+00],\n",
       "         [ 1.5942e+00,  1.2626e+00,  1.0000e+00],\n",
       "         [ 1.6979e+00,  1.3030e+00,  1.0000e+00],\n",
       "         [ 1.8048e+00,  1.3434e+00,  1.0000e+00],\n",
       "         [ 1.9150e+00,  1.3838e+00,  1.0000e+00],\n",
       "         [ 2.0285e+00,  1.4242e+00,  1.0000e+00],\n",
       "         [ 2.1452e+00,  1.4646e+00,  1.0000e+00],\n",
       "         [ 2.2652e+00,  1.5051e+00,  1.0000e+00],\n",
       "         [ 2.3884e+00,  1.5455e+00,  1.0000e+00],\n",
       "         [ 2.5149e+00,  1.5859e+00,  1.0000e+00],\n",
       "         [ 2.6447e+00,  1.6263e+00,  1.0000e+00],\n",
       "         [ 2.7778e+00,  1.6667e+00,  1.0000e+00],\n",
       "         [ 2.9141e+00,  1.7071e+00,  1.0000e+00],\n",
       "         [ 3.0537e+00,  1.7475e+00,  1.0000e+00],\n",
       "         [ 3.1965e+00,  1.7879e+00,  1.0000e+00],\n",
       "         [ 3.3426e+00,  1.8283e+00,  1.0000e+00],\n",
       "         [ 3.4920e+00,  1.8687e+00,  1.0000e+00],\n",
       "         [ 3.6446e+00,  1.9091e+00,  1.0000e+00],\n",
       "         [ 3.8005e+00,  1.9495e+00,  1.0000e+00],\n",
       "         [ 3.9597e+00,  1.9899e+00,  1.0000e+00],\n",
       "         [ 4.1221e+00,  2.0303e+00,  1.0000e+00],\n",
       "         [ 4.2878e+00,  2.0707e+00,  1.0000e+00],\n",
       "         [ 4.4568e+00,  2.1111e+00,  1.0000e+00],\n",
       "         [ 4.6290e+00,  2.1515e+00,  1.0000e+00],\n",
       "         [ 4.8045e+00,  2.1919e+00,  1.0000e+00],\n",
       "         [ 4.9833e+00,  2.2323e+00,  1.0000e+00],\n",
       "         [ 5.1653e+00,  2.2727e+00,  1.0000e+00],\n",
       "         [ 5.3506e+00,  2.3131e+00,  1.0000e+00],\n",
       "         [ 5.5391e+00,  2.3535e+00,  1.0000e+00],\n",
       "         [ 5.7309e+00,  2.3939e+00,  1.0000e+00],\n",
       "         [ 5.9260e+00,  2.4343e+00,  1.0000e+00],\n",
       "         [ 6.1244e+00,  2.4747e+00,  1.0000e+00],\n",
       "         [ 6.3260e+00,  2.5152e+00,  1.0000e+00],\n",
       "         [ 6.5309e+00,  2.5556e+00,  1.0000e+00],\n",
       "         [ 6.7390e+00,  2.5960e+00,  1.0000e+00],\n",
       "         [ 6.9504e+00,  2.6364e+00,  1.0000e+00],\n",
       "         [ 7.1651e+00,  2.6768e+00,  1.0000e+00],\n",
       "         [ 7.3830e+00,  2.7172e+00,  1.0000e+00],\n",
       "         [ 7.6042e+00,  2.7576e+00,  1.0000e+00],\n",
       "         [ 7.8287e+00,  2.7980e+00,  1.0000e+00],\n",
       "         [ 8.0564e+00,  2.8384e+00,  1.0000e+00],\n",
       "         [ 8.2874e+00,  2.8788e+00,  1.0000e+00],\n",
       "         [ 8.5217e+00,  2.9192e+00,  1.0000e+00],\n",
       "         [ 8.7592e+00,  2.9596e+00,  1.0000e+00],\n",
       "         [ 9.0000e+00,  3.0000e+00,  1.0000e+00]]))"
      ]
     },
     "execution_count": 8,
     "metadata": {},
     "output_type": "execute_result"
    }
   ],
   "source": [
    "x, y, X"
   ]
  },
  {
   "cell_type": "code",
   "execution_count": 9,
   "metadata": {},
   "outputs": [],
   "source": [
    "def MSELoss(pred, truth):\n",
    "    Δ = pred - truth\n",
    "    Δ2 = Δ * Δ\n",
    "    return Δ2.mean()"
   ]
  },
  {
   "cell_type": "code",
   "execution_count": 10,
   "metadata": {},
   "outputs": [
    {
     "data": {
      "text/plain": [
       "tensor(0.)"
      ]
     },
     "execution_count": 10,
     "metadata": {},
     "output_type": "execute_result"
    }
   ],
   "source": [
    "MSELoss(X@w, y)"
   ]
  },
  {
   "cell_type": "code",
   "execution_count": 11,
   "metadata": {},
   "outputs": [
    {
     "name": "stdout",
     "output_type": "stream",
     "text": [
      "torch.Size([80]) torch.Size([20])\n"
     ]
    }
   ],
   "source": [
    "def get_split_indices(n: int, val_pct: float = .2):\n",
    "    val_pct = .2\n",
    "    n_val = int(n*val_pct)\n",
    "    ix = torch.randperm(n) \n",
    "    return ix[n_val:], ix[:n_val]\n",
    "\n",
    "ix_train, ix_val = get_split_indices(n_obs, val_pct=.2)\n",
    "print(ix_train.size(), ix_val.size())"
   ]
  },
  {
   "cell_type": "markdown",
   "metadata": {},
   "source": [
    "## Custom data set and data loader"
   ]
  },
  {
   "cell_type": "code",
   "execution_count": 12,
   "metadata": {},
   "outputs": [],
   "source": [
    "class XYDataset:\n",
    "    \"Basic data storage\"\n",
    "    def __init__(self, x: torch.tensor, y: torch.tensor):\n",
    "        self.x = x\n",
    "        self.y = y\n",
    "        \n",
    "    def __len__(self):\n",
    "        return len(self.x)\n",
    "    \n",
    "    def __getitem__(self, i):\n",
    "        return self.x[i], self.y[i]\n",
    "    \n",
    "\n",
    "def noisify(xy, device=\"cpu\", std_x=.1, std_y=.1):\n",
    "    x, y = xy\n",
    "    if not torch.is_tensor(x):\n",
    "        x = torch.from_numpy(x).clone().to(device)\n",
    "    if not torch.is_tensor(y):\n",
    "        y = torch.from_numpy(y).clone().to(device)\n",
    "    \n",
    "    \n",
    "    dx = torch.normal(mean=0., std=std_x, size=x.size()).to(device)\n",
    "    dy = torch.normal(mean=0., std=std_x, size=y.size()).to(device)\n",
    "    return x + dx, y + dy\n",
    "\n",
    "\n",
    "def random_order(end, bs):\n",
    "    ix = torch.randperm(end)\n",
    "    for i in range(0, end, bs):\n",
    "        yield ix[i:i+bs]\n",
    "        \n",
    "def boring_order(end, bs):\n",
    "    ix = torch.arange(end)\n",
    "    for i in range(0, end, bs):\n",
    "        yield ix[i:i+bs]\n",
    "        \n",
    "    \n",
    "class XYDataLoader:\n",
    "    \"Provides an iterator (plus sampler) and transforms over stored data\"\n",
    "    def __init__(self, ds: XYDataset, bs: int = 1, sampler_callback: callable = None, trafos: List[callable]=None):\n",
    "        self.ds = ds\n",
    "        self.bs = bs\n",
    "        self.sampler = sampler_callback if sampler_callback is not None else boring_order\n",
    "        self.trafos = trafos\n",
    "        \n",
    "    def transform_batch(self, batch):\n",
    "        if self.trafos is not None:\n",
    "            for trafo in self.trafos:\n",
    "                batch = trafo(batch)\n",
    "        return batch\n",
    "        \n",
    "    def __iter__(self):\n",
    "        for s in self.sampler(len(self.ds), self.bs):\n",
    "            yield self.transform_batch(self.ds[s])\n",
    "\n",
    "\n",
    "class XYDatabunch:\n",
    "    \"Bunches different data loaders\"\n",
    "    g: dict = {\"train\": None, \"valid\": None}\n",
    "    \n",
    "    def __init__(self, dl_train: XYDataLoader, dl_valid: XYDataLoader):\n",
    "        self.dl_train = dl_train\n",
    "        self.dl_valid = dl_valid\n",
    "        \n",
    "    def one_batch(self):\n",
    "        return self.get_data(kind=\"train\")\n",
    "    \n",
    "    def get_data(self, kind: str = \"train\", flag_end=False):\n",
    "        assert kind in self.g\n",
    "        get_iterator = lambda x: iter(getattr(self, f\"dl_{x}\"))\n",
    "        if self.g[kind] is None: \n",
    "            self.g[kind] = get_iterator(kind)\n",
    "        try:\n",
    "            if flag_end:\n",
    "                return next(self.g[kind]), False\n",
    "            return next(self.g[kind])\n",
    "        except StopIteration:\n",
    "            print(f\"Reached the limit of the {kind} data set, restarting.\")\n",
    "            self.g[kind] = get_iterator(kind)\n",
    "            if flag_end:\n",
    "                return next(self.g[kind]), True\n",
    "            return next(self.g[kind])\n",
    "            \n",
    "\n",
    "bs_train, bs_valid = 20, 10\n",
    "ds_train = XYDataset(X[ix_train], y[ix_train])\n",
    "ds_valid = XYDataset(X[ix_val], y[ix_val])\n",
    "dl_train = XYDataLoader(ds_train, bs=bs_train, sampler_callback=random_order, # random_order boring_order\n",
    "                        trafos=None)  # [partial(noisify, std_x=.001)]\n",
    "dl_valid = XYDataLoader(ds_valid, bs=bs_valid, sampler_callback=random_order, \n",
    "                        trafos=None)  # [partial(noisify, std_x=.001)]\n",
    "db = XYDatabunch(dl_train, dl_valid)"
   ]
  },
  {
   "cell_type": "code",
   "execution_count": 13,
   "metadata": {},
   "outputs": [
    {
     "name": "stdout",
     "output_type": "stream",
     "text": [
      "((tensor([[ 9.6000e-01,  9.7980e-01,  1.0000e+00],\n",
      "        [ 1.2499e-01, -3.5354e-01,  1.0000e+00],\n",
      "        [ 6.3260e+00,  2.5152e+00,  1.0000e+00],\n",
      "        [ 2.2957e-02, -1.5152e-01,  1.0000e+00],\n",
      "        [ 4.9995e-03, -7.0707e-02,  1.0000e+00],\n",
      "        [ 4.2878e+00,  2.0707e+00,  1.0000e+00],\n",
      "        [ 1.8865e-01, -4.3434e-01,  1.0000e+00],\n",
      "        [ 8.0564e+00,  2.8384e+00,  1.0000e+00],\n",
      "        [ 2.3884e+00,  1.5455e+00,  1.0000e+00],\n",
      "        [ 4.8577e-01,  6.9697e-01,  1.0000e+00],\n",
      "        [ 3.9597e+00,  1.9899e+00,  1.0000e+00],\n",
      "        [ 8.0818e-01,  8.9899e-01,  1.0000e+00],\n",
      "        [ 1.8048e+00,  1.3434e+00,  1.0000e+00],\n",
      "        [ 6.7390e+00,  2.5960e+00,  1.0000e+00],\n",
      "        [ 1.7243e-02,  1.3131e-01,  1.0000e+00],\n",
      "        [ 3.6446e+00,  1.9091e+00,  1.0000e+00],\n",
      "        [ 7.0289e-01, -8.3838e-01,  1.0000e+00],\n",
      "        [ 4.4568e+00,  2.1111e+00,  1.0000e+00],\n",
      "        [ 3.6833e-02, -1.9192e-01,  1.0000e+00],\n",
      "        [ 5.4372e-01,  7.3737e-01,  1.0000e+00]]), tensor([ 4.9790, -0.0177,  1.9238,  1.1965,  1.6365,  3.7779, -0.5490,  0.0791,\n",
      "         4.9504,  4.5133,  4.0301,  4.8786,  5.1075,  1.5018,  2.6221,  4.2562,\n",
      "        -3.5977,  3.6420,  0.9667,  4.5994])), False)\n"
     ]
    }
   ],
   "source": [
    "print(db.get_data(\"train\", flag_end=True))"
   ]
  },
  {
   "cell_type": "code",
   "execution_count": 14,
   "metadata": {},
   "outputs": [
    {
     "data": {
      "text/plain": [
       "(tensor([[ 3.8005e+00,  1.9495e+00,  1.0000e+00],\n",
       "         [ 8.2645e-03,  9.0909e-02,  1.0000e+00],\n",
       "         [ 4.4995e-02,  2.1212e-01,  1.0000e+00],\n",
       "         [ 3.0864e-01, -5.5556e-01,  1.0000e+00],\n",
       "         [ 4.1221e+00,  2.0303e+00,  1.0000e+00],\n",
       "         [ 6.6942e-01,  8.1818e-01,  1.0000e+00],\n",
       "         [ 1.1111e-01,  3.3333e-01,  1.0000e+00],\n",
       "         [ 7.1651e+00,  2.6768e+00,  1.0000e+00],\n",
       "         [ 8.5808e-02,  2.9293e-01,  1.0000e+00],\n",
       "         [ 3.0537e+00,  1.7475e+00,  1.0000e+00],\n",
       "         [ 1.3968e-01,  3.7374e-01,  1.0000e+00],\n",
       "         [ 1.5942e+00,  1.2626e+00,  1.0000e+00],\n",
       "         [ 3.4920e+00,  1.8687e+00,  1.0000e+00],\n",
       "         [ 7.7227e-01, -8.7879e-01,  1.0000e+00],\n",
       "         [ 2.7778e+00,  1.6667e+00,  1.0000e+00],\n",
       "         [ 2.8660e-01,  5.3535e-01,  1.0000e+00],\n",
       "         [ 8.5217e+00,  2.9192e+00,  1.0000e+00],\n",
       "         [ 1.9150e+00,  1.3838e+00,  1.0000e+00],\n",
       "         [ 5.9260e+00,  2.4343e+00,  1.0000e+00],\n",
       "         [ 6.5309e+00,  2.5556e+00,  1.0000e+00]]),\n",
       " tensor([ 4.1464,  2.4380,  2.9706, -1.3951,  3.9073,  4.7521,  3.4444,  1.0537,\n",
       "          3.2930,  4.6300,  3.5893,  5.1247,  4.3595, -3.9385,  4.7778,  4.1036,\n",
       "         -0.4474,  5.0892,  2.3197,  1.7160]))"
      ]
     },
     "execution_count": 14,
     "metadata": {},
     "output_type": "execute_result"
    }
   ],
   "source": [
    "db.one_batch()"
   ]
  },
  {
   "cell_type": "code",
   "execution_count": 15,
   "metadata": {},
   "outputs": [
    {
     "name": "stdout",
     "output_type": "stream",
     "text": [
      "(tensor([[ 1.2122,  1.1010,  1.0000],\n",
      "        [ 0.9208, -0.9596,  1.0000],\n",
      "        [ 2.2652,  1.5051,  1.0000],\n",
      "        [ 0.1715,  0.4141,  1.0000],\n",
      "        [ 0.2066,  0.4545,  1.0000],\n",
      "        [ 1.1249,  1.0606,  1.0000],\n",
      "        [ 1.6979,  1.3030,  1.0000],\n",
      "        [ 8.2874,  2.8788,  1.0000],\n",
      "        [ 0.6049,  0.7778,  1.0000],\n",
      "        [ 5.1653,  2.2727,  1.0000]]), tensor([ 5.0806, -4.6396,  4.9949,  3.7277,  3.8595,  5.0533,  5.1194, -0.1809,\n",
      "         4.6790,  3.0331]))\n"
     ]
    }
   ],
   "source": [
    "print(db.get_data(\"valid\"))"
   ]
  },
  {
   "cell_type": "code",
   "execution_count": 16,
   "metadata": {
    "scrolled": true
   },
   "outputs": [
    {
     "name": "stdout",
     "output_type": "stream",
     "text": [
      "Reached the limit of the train data set, restarting.\n",
      "Reached the limit of the valid data set, restarting.\n",
      "Reached the limit of the valid data set, restarting.\n"
     ]
    },
    {
     "data": {
      "image/png": "[encoded data removed]",
      "text/plain": [
       "<Figure size 576x576 with 1 Axes>"
      ]
     },
     "metadata": {
      "needs_background": "light"
     },
     "output_type": "display_data"
    }
   ],
   "source": [
    "fig, ax = plt.subplots(figsize=figsize)\n",
    "for _ in range(5):\n",
    "    _x, _y = db.get_data(\"train\")\n",
    "    h_train, = ax.plot(_x[:, -2], _y, \"go\", label=\"train\", alpha=.7)\n",
    "for _ in range(5):\n",
    "    _x, _y = db.get_data(\"valid\")\n",
    "    h_valid, = ax.plot(_x[:, -2], _y, \"ro\", label=\"validation\", alpha=.7)\n",
    "    \n",
    "h_ori, = ax.plot(x, y, \"kx\", label=\"original\")\n",
    "ax.set_title(f\"Original data vs from {db.__class__}\", fontsize=18)\n",
    "ax.legend(handles=[h_train, h_valid, h_ori], title=\"source\")\n",
    "plt.show()"
   ]
  },
  {
   "cell_type": "code",
   "execution_count": 17,
   "metadata": {},
   "outputs": [],
   "source": [
    "class LinearModel:\n",
    "    \n",
    "    def __init__(self, w: torch.Tensor=None, deg: int = None):\n",
    "        assert w is not None or deg is not None\n",
    "        self.w = torch.nn.Parameter(torch.randn(deg)) if w is None else torch.nn.Parameter(w)\n",
    "        self.lin = lambda X: X @ self.w\n",
    "        \n",
    "    def __call__(self, x):\n",
    "        return self.forward(x)\n",
    "            \n",
    "    def forward(self, x):\n",
    "        return self.lin(x)"
   ]
  },
  {
   "cell_type": "code",
   "execution_count": 18,
   "metadata": {},
   "outputs": [
    {
     "data": {
      "text/plain": [
       "tensor([ 4.9320, -0.5490, -0.0177,  4.8994,  2.6894,  4.4207,  2.9706,  2.2474,\n",
       "         3.1351, -3.9385,  4.6300,  3.7779, -1.6901,  4.7778,  4.8419, -1.1065,\n",
       "         4.1036,  4.3595,  0.8198,  5.0194], grad_fn=<MvBackward>)"
      ]
     },
     "execution_count": 18,
     "metadata": {},
     "output_type": "execute_result"
    }
   ],
   "source": [
    "lm_ori = LinearModel(w=w)\n",
    "lm_ori(db.get_data(\"train\")[0])"
   ]
  },
  {
   "cell_type": "code",
   "execution_count": 19,
   "metadata": {},
   "outputs": [
    {
     "data": {
      "text/plain": [
       "tensor(0., grad_fn=<MeanBackward0>)"
      ]
     },
     "execution_count": 19,
     "metadata": {},
     "output_type": "execute_result"
    }
   ],
   "source": [
    "MSELoss(lm_ori(X), y)"
   ]
  },
  {
   "cell_type": "code",
   "execution_count": 20,
   "metadata": {},
   "outputs": [],
   "source": [
    "from ipywidgets import interactive"
   ]
  },
  {
   "cell_type": "code",
   "execution_count": 57,
   "metadata": {},
   "outputs": [],
   "source": [
    "class Optimizer:\n",
    "    \n",
    "    name: str = None\n",
    "    hyper_params: dict = None\n",
    "    model_params = None\n",
    "    \n",
    "    def __init__(self, model_params, name=\"optimizer\", **hyper_params):\n",
    "        self.name = name\n",
    "        self.hyper_params = hyper_params\n",
    "        self.model_params = model_params\n",
    "        \n",
    "    def update(self):\n",
    "        pass\n",
    "    \n",
    "    def zero_grad(self):\n",
    "        self.model_params.grad.zero_()\n",
    "    \n",
    "    def __getattr__(self, k):\n",
    "        return self.hyper_params[k]\n",
    "\n",
    "\n",
    "class Telemetry:\n",
    "    loss: dict = None\n",
    "    weights: list = None\n",
    "    hyper_params: dict = None\n",
    "    x: list = None\n",
    "    y: list = None\n",
    "    y_pred: list = None\n",
    "        \n",
    "    def __repr__(self):\n",
    "        return f\"Telemetry\\n{9*'='}\\n\"\\\n",
    "               f\"loss: {self.loss}\\n\"\\\n",
    "               f\"weights: {self.weights}\\n\"\\\n",
    "               f\"hyper_params: {self.hyper_params}\\n\"\\\n",
    "               f\"x: {self.x}\\n\"\\\n",
    "               f\"y: {self.y}\\n\"\\\n",
    "               f\"y_pred: {self.y_pred}\\n\"\n",
    "        \n",
    "    \n",
    "class Recorder:\n",
    "    \"Collects data while training\"\n",
    "    stats: Telemetry = None \n",
    "        \n",
    "    def __init__(self, stats: Telemetry = None):\n",
    "        if stats is None:\n",
    "            stats = Telemetry()\n",
    "        self.stats = stats\n",
    "    \n",
    "    def store_loss(self, kind, val):\n",
    "        v = val.clone().detach().item() if isinstance(val, torch.Tensor) else val\n",
    "        \n",
    "        if self.stats.loss is None:\n",
    "            self.stats.loss = {kind: [v]}\n",
    "        elif kind not in self.stats.loss:\n",
    "            self.stats.loss[kind] = [v]\n",
    "        else:\n",
    "            self.stats.loss[kind].append(v)\n",
    "    \n",
    "    def store_hyper_params(self, opt: Optimizer):\n",
    "        if self.stats.hyper_params is None:\n",
    "            self.stats.hyper_params = {}\n",
    "            for key, val in opt.hyper_params.items():\n",
    "                self.stats.hyper_params[key] = [val]\n",
    "        else:\n",
    "            for key, val in opt.hyper_params.items():\n",
    "                self.stats.hyper_params[key].append(val)\n",
    "                \n",
    "    def store_weights(self, model_params):\n",
    "        if self.stats.weights is None:\n",
    "            self.stats.weights = []\n",
    "        self.stats.weights.append(model_params.clone().detach())\n",
    "        \n",
    "    def store_batch(self, _x: torch.Tensor, _y: torch.Tensor, y_pred: torch.Tensor):\n",
    "        if self.stats.x is None:\n",
    "            self.stats.x = []\n",
    "        if self.stats.y is None:\n",
    "            self.stats.y = []\n",
    "        if self.stats.y_pred is None:\n",
    "            self.stats.y_pred = []\n",
    "        \n",
    "        self.stats.x.append(_x.clone().detach())\n",
    "        self.stats.y.append(_y.clone().detach())\n",
    "        self.stats.y_pred.append(y_pred.clone().detach())\n",
    "        \n",
    "        \n",
    "class Plotter:\n",
    "    \n",
    "    stats : Telemetry = None\n",
    "        \n",
    "    def __init__(self, rec: Recorder = None, stats: Telemetry = None):\n",
    "        assert (rec is not None) != (stats is not None)\n",
    "        self.stats = rec.stats if rec is not None else stats\n",
    "    \n",
    "    def plot_loss(self):\n",
    "        \n",
    "        iters = np.arange(len(self.stats.loss[\"train\"]))\n",
    "        s = bokeh_plotting.ColumnDataSource({\"Iteration\": iters, \n",
    "                                             \"Train\": self.stats.loss[\"train\"],\n",
    "                                             \"Validation\": self.stats.loss[\"valid\"]})\n",
    "        colors = bokeh_palettes.Inferno3\n",
    "        \n",
    "        fig = bokeh_plotting.figure(plot_width=700, plot_height=400, title=\"Losses vs iteration\")\n",
    "        label = \"Train\"\n",
    "        fig.line(x=\"Iteration\", y=\"Train\", source=s, legend_label=label, color=colors[0],\n",
    "                 line_width=2)\n",
    "        # fig.circle(x=\"Iteration\", y=\"TrainLoss\", source=s, size=10, legend_label=label, color=colors[0])\n",
    "        label = \"Validate\"\n",
    "        fig.line(x=\"Iteration\", y=\"Validation\", source=s, legend_label=label, color=colors[1],\n",
    "                 line_width=2)\n",
    "        # fig.circle(x=\"Iteration\", y=\"ValLoss\", source=s, size=10, legend_label=label, color=colors[1])\n",
    "        hover = bokeh_models.HoverTool(\n",
    "            tooltips = [\n",
    "                (\"Iteration\", \"@Iteration\"),\n",
    "                (\"Train\", \"@Train\"),\n",
    "                (\"Validation\", \"@Validation\"),\n",
    "            ],\n",
    "            formatters = {\"Iteration\": \"numeral\", \"Train\": \"numeral\", \"Validation\": \"numeral\"},\n",
    "            mode=\"vline\"\n",
    "        )\n",
    "        fig.xaxis.axis_label = \"Iteration\"\n",
    "        fig.yaxis.axis_label = \"Loss\"\n",
    "        fig.tools.append(hover)\n",
    "        bokeh_plotting.show(fig)\n",
    "        \n",
    "    def plot_weights(self):\n",
    "        \n",
    "        iters = np.arange(len(self.stats.loss[\"train\"]))\n",
    "        w = np.array([_w.clone().detach().numpy() for _w in self.stats.weights])\n",
    "        colors = bokeh_palettes.Inferno3\n",
    "        \n",
    "        _s = {\"Iteration\": iters}\n",
    "        for i, _w in enumerate(w.T):\n",
    "            _s[f\"w_{i}\"] = _w\n",
    "        s = bokeh_plotting.ColumnDataSource(_s)\n",
    "        \n",
    "        fig = bokeh_plotting.figure(plot_width=700, plot_height=400, title=\"Model weights vs iteration\")\n",
    "        for i in range(w.shape[1]):\n",
    "            label = f\"w_{i}\"\n",
    "            fig.line(x=\"Iteration\", y=label, source=s, legend_label=label, color=colors[i], line_width=2)\n",
    "            # fig.circle(x=\"Iteration\", y=label, source=s, size=10, legend_label=label, color=colors[i])\n",
    "            \n",
    "        tooltips = [\n",
    "                (\"Iteration\", \"@Iteration\"),\n",
    "            ] + [(v, f\"@{v}\") for v in _s if v.startswith(\"w\")]\n",
    "        hover = bokeh_models.HoverTool(\n",
    "            tooltips = tooltips,\n",
    "            formatters = {k[0]: \"numeral\" for k in tooltips},\n",
    "            mode=\"vline\"\n",
    "        )\n",
    "        fig.tools.append(hover)\n",
    "        bokeh_plotting.show(fig)\n",
    "        \n",
    "                \n",
    "    def plot_hyper_params(self):\n",
    "        \n",
    "        iters = np.arange(len(self.stats.loss[\"train\"]))\n",
    "        colors = bokeh_palettes.Inferno256\n",
    "        \n",
    "        for hyper in sorted(self.stats.hyper_params):\n",
    "            s = bokeh_plotting.ColumnDataSource({\"Iteration\": iters, hyper: self.stats.hyper_params[hyper]})\n",
    "        \n",
    "            fig = bokeh_plotting.figure(plot_width=700, plot_height=400, \n",
    "                                        title=f\"Hyper parameters ('{hyper}') vs iteration\")\n",
    "            \n",
    "            fig.line(x=\"Iteration\", y=hyper, source=s, legend_label=hyper, line_width=2)\n",
    "            # fig.circle(x=\"Iteration\", y=hyper, source=s, size=10, legend_label=hyper)\n",
    "\n",
    "            tooltips = [\n",
    "                (\"Iteration\", \"@Iteration\"),                    \n",
    "                (hyper, f\"@{hyper}\")\n",
    "            ]\n",
    "            \n",
    "            hover = bokeh_models.HoverTool(\n",
    "                tooltips = tooltips,\n",
    "                formatters = {k[0]: \"numeral\" for k in tooltips},\n",
    "                mode=\"mouse\"\n",
    "            )\n",
    "            fig.tools.append(hover)\n",
    "            bokeh_plotting.show(fig)\n",
    "            \n",
    "    def plot_iteration(self, i: int):\n",
    "        \n",
    "        x = self.stats.x[i][:, -2].clone().numpy() # -2 because second to last column contains x**1 feature\n",
    "        \n",
    "        _x = np.hstack([_x[:, -2].clone().numpy().ravel() for _x in self.stats.x])\n",
    "        xlim = (_x.min()-.1, _x.max()+.1)\n",
    "#         print(f\"xlim {xlim}\")\n",
    "        _y = np.array([_y.clone().numpy() for _y in self.stats.y])\n",
    "        ylim = (_y.min()-.1, _y.max()+.1)\n",
    "#         print(f\"ylim {ylim}\")\n",
    "        \n",
    "        fig = bokeh_plotting.figure(plot_width=600, plot_height=600, \n",
    "                                    title=f\"Batch and predictions for iteration {i}\")\n",
    "        \n",
    "        fig.cross(x, self.stats.y[i].clone().numpy(), legend_label=\"training data\", color=\"black\",\n",
    "                  size=10) \n",
    "        fig.diamond(x, self.stats.y_pred[i].clone().numpy(), legend_label=\"model estimates\", \n",
    "                    color=\"green\", size=10)\n",
    "        fig.xaxis.axis_label = \"x\"\n",
    "        fig.yaxis.axis_label = \"y\"\n",
    "        fig.x_range = bokeh_models.Range1d(xlim[0], xlim[1])\n",
    "        fig.y_range = bokeh_models.Range1d(ylim[0], ylim[1])\n",
    "        bokeh_plotting.show(fig)"
   ]
  },
  {
   "cell_type": "markdown",
   "metadata": {},
   "source": [
    "Sanity checking the recorder"
   ]
  },
  {
   "cell_type": "code",
   "execution_count": 58,
   "metadata": {
    "scrolled": true
   },
   "outputs": [
    {
     "name": "stdout",
     "output_type": "stream",
     "text": [
      "total epochs 5\n",
      "\n",
      "epoch 0\n",
      "\tlr 0.09000000000000001\n",
      "\n",
      "epoch 1\n",
      "\tlr 0.08100000000000002\n",
      "Reached the limit of the train data set, restarting.\n",
      "\n",
      "epoch 2\n",
      "\tlr 0.07290000000000002\n",
      "\n",
      "epoch 3\n",
      "\tlr 0.06561000000000002\n",
      "\n",
      "epoch 4\n",
      "\tlr 0.05904900000000002\n"
     ]
    }
   ],
   "source": [
    "rec = Recorder()\n",
    "\n",
    "n_epochs = 5\n",
    "opt = Optimizer(None, lr=.1)\n",
    "print(\"total epochs\", n_epochs)\n",
    "for epoch in range(n_epochs):\n",
    "    print(f\"\\nepoch {epoch}\")\n",
    "    rec.store_loss(\"train\", 42)\n",
    "    rec.store_loss(\"valid\", 82.)\n",
    "    \n",
    "    print(\"\\tlr\", opt.lr * .9)\n",
    "    opt.lr *= .9\n",
    "    rec.store_hyper_params(opt)\n",
    "    rec.store_weights(torch.Tensor([1., 2., 3.]))\n",
    "    _x, _y = db.get_data(\"train\")\n",
    "    with torch.no_grad():\n",
    "        y_pred = _y + .1\n",
    "    rec.store_batch(_x, _y, y_pred)"
   ]
  },
  {
   "cell_type": "code",
   "execution_count": 59,
   "metadata": {},
   "outputs": [
    {
     "data": {
      "text/plain": [
       "Telemetry\n",
       "=========\n",
       "loss: {'train': [42, 42, 42, 42, 42], 'valid': [82.0, 82.0, 82.0, 82.0, 82.0]}\n",
       "weights: [tensor([1., 2., 3.]), tensor([1., 2., 3.]), tensor([1., 2., 3.]), tensor([1., 2., 3.]), tensor([1., 2., 3.])]\n",
       "hyper_params: {'lr': [0.1, 0.1, 0.1, 0.1, 0.1]}\n",
       "x: [tensor([[ 2.4497e-01,  4.9495e-01,  1.0000e+00],\n",
       "        [ 8.0564e+00,  2.8384e+00,  1.0000e+00],\n",
       "        [ 4.8577e-01,  6.9697e-01,  1.0000e+00],\n",
       "        [ 3.4920e+00,  1.8687e+00,  1.0000e+00],\n",
       "        [ 8.7592e+00,  2.9596e+00,  1.0000e+00],\n",
       "        [ 2.6447e+00,  1.6263e+00,  1.0000e+00],\n",
       "        [ 5.1434e-01, -7.1717e-01,  1.0000e+00],\n",
       "        [ 1.2499e-01, -3.5354e-01,  1.0000e+00],\n",
       "        [ 1.8048e+00,  1.3434e+00,  1.0000e+00],\n",
       "        [ 7.3830e+00,  2.7172e+00,  1.0000e+00],\n",
       "        [ 3.1965e+00,  1.7879e+00,  1.0000e+00],\n",
       "        [ 2.7778e+00,  1.6667e+00,  1.0000e+00],\n",
       "        [ 8.2645e-03,  9.0909e-02,  1.0000e+00],\n",
       "        [ 3.6446e+00,  1.9091e+00,  1.0000e+00],\n",
       "        [ 1.3967e+00,  1.1818e+00,  1.0000e+00],\n",
       "        [ 1.3028e+00,  1.1414e+00,  1.0000e+00],\n",
       "        [ 5.4372e-01,  7.3737e-01,  1.0000e+00],\n",
       "        [ 7.3717e-01,  8.5859e-01,  1.0000e+00],\n",
       "        [ 2.2957e-02, -1.5152e-01,  1.0000e+00],\n",
       "        [ 2.8660e-01,  5.3535e-01,  1.0000e+00]]), tensor([[ 1.5942e+00,  1.2626e+00,  1.0000e+00],\n",
       "        [ 8.0564e+00,  2.8384e+00,  1.0000e+00],\n",
       "        [ 7.3717e-01,  8.5859e-01,  1.0000e+00],\n",
       "        [ 6.1244e+00,  2.4747e+00,  1.0000e+00],\n",
       "        [ 3.5517e-01, -5.9596e-01,  1.0000e+00],\n",
       "        [ 5.5391e+00,  2.3535e+00,  1.0000e+00],\n",
       "        [ 2.9141e+00,  1.7071e+00,  1.0000e+00],\n",
       "        [ 1.7243e-02,  1.3131e-01,  1.0000e+00],\n",
       "        [ 2.7778e+00,  1.6667e+00,  1.0000e+00],\n",
       "        [ 3.6446e+00,  1.9091e+00,  1.0000e+00],\n",
       "        [ 2.5508e-03,  5.0505e-02,  1.0000e+00],\n",
       "        [ 5.4372e-01,  7.3737e-01,  1.0000e+00],\n",
       "        [ 6.3677e-01, -7.9798e-01,  1.0000e+00],\n",
       "        [ 5.9260e+00,  2.4343e+00,  1.0000e+00],\n",
       "        [ 3.4920e+00,  1.8687e+00,  1.0000e+00],\n",
       "        [ 4.8577e-01,  6.9697e-01,  1.0000e+00],\n",
       "        [ 4.4568e+00,  2.1111e+00,  1.0000e+00],\n",
       "        [ 1.2499e-01, -3.5354e-01,  1.0000e+00],\n",
       "        [ 3.0537e+00,  1.7475e+00,  1.0000e+00],\n",
       "        [ 8.0818e-01,  8.9899e-01,  1.0000e+00]]), tensor([[ 6.9504e+00,  2.6364e+00,  1.0000e+00],\n",
       "        [ 3.1965e+00,  1.7879e+00,  1.0000e+00],\n",
       "        [ 4.9995e-03, -7.0707e-02,  1.0000e+00],\n",
       "        [ 7.1651e+00,  2.6768e+00,  1.0000e+00],\n",
       "        [ 8.5217e+00,  2.9192e+00,  1.0000e+00],\n",
       "        [ 2.6538e-01, -5.1515e-01,  1.0000e+00],\n",
       "        [ 4.8045e+00,  2.1919e+00,  1.0000e+00],\n",
       "        [ 3.3150e-01,  5.7576e-01,  1.0000e+00],\n",
       "        [ 1.5519e-01, -3.9394e-01,  1.0000e+00],\n",
       "        [ 3.0864e-01, -5.5556e-01,  1.0000e+00],\n",
       "        [ 3.6833e-02, -1.9192e-01,  1.0000e+00],\n",
       "        [ 3.9597e+00,  1.9899e+00,  1.0000e+00],\n",
       "        [ 4.1221e+00,  2.0303e+00,  1.0000e+00],\n",
       "        [ 8.7592e+00,  2.9596e+00,  1.0000e+00],\n",
       "        [ 2.5149e+00,  1.5859e+00,  1.0000e+00],\n",
       "        [ 2.2957e-02, -1.5152e-01,  1.0000e+00],\n",
       "        [ 6.3769e-02,  2.5253e-01,  1.0000e+00],\n",
       "        [ 8.2645e-03,  9.0909e-02,  1.0000e+00],\n",
       "        [ 9.8051e-02, -3.1313e-01,  1.0000e+00],\n",
       "        [ 5.3974e-02, -2.3232e-01,  1.0000e+00]]), tensor([[ 0.2866,  0.5354,  1.0000],\n",
       "        [ 0.4580, -0.6768,  1.0000],\n",
       "        [ 0.2254, -0.4747,  1.0000],\n",
       "        [ 0.8449, -0.9192,  1.0000],\n",
       "        [ 0.7723, -0.8788,  1.0000],\n",
       "        [ 3.3426,  1.8283,  1.0000],\n",
       "        [ 6.5309,  2.5556,  1.0000],\n",
       "        [ 6.7390,  2.5960,  1.0000],\n",
       "        [ 0.5739, -0.7576,  1.0000],\n",
       "        [ 0.5143, -0.7172,  1.0000],\n",
       "        [ 0.1397,  0.3737,  1.0000],\n",
       "        [ 2.1452,  1.4646,  1.0000],\n",
       "        [ 0.0450,  0.2121,  1.0000],\n",
       "        [ 0.0295,  0.1717,  1.0000],\n",
       "        [ 7.3830,  2.7172,  1.0000],\n",
       "        [ 0.4311,  0.6566,  1.0000],\n",
       "        [ 2.3884,  1.5455,  1.0000],\n",
       "        [ 6.3260,  2.5152,  1.0000],\n",
       "        [ 7.6042,  2.7576,  1.0000],\n",
       "        [ 5.7309,  2.3939,  1.0000]]), tensor([[ 1.3028,  1.1414,  1.0000],\n",
       "        [ 4.2878,  2.0707,  1.0000],\n",
       "        [ 1.3967,  1.1818,  1.0000],\n",
       "        [ 0.0123, -0.1111,  1.0000],\n",
       "        [ 4.6290,  2.1515,  1.0000],\n",
       "        [ 9.0000,  3.0000,  1.0000],\n",
       "        [ 0.2450,  0.4949,  1.0000],\n",
       "        [ 0.1111,  0.3333,  1.0000],\n",
       "        [ 0.0858,  0.2929,  1.0000],\n",
       "        [ 1.8048,  1.3434,  1.0000],\n",
       "        [ 0.7029, -0.8384,  1.0000],\n",
       "        [ 0.6694,  0.8182,  1.0000],\n",
       "        [ 1.0000, -1.0000,  1.0000],\n",
       "        [ 1.0408,  1.0202,  1.0000],\n",
       "        [ 3.8005,  1.9495,  1.0000],\n",
       "        [ 0.8825,  0.9394,  1.0000],\n",
       "        [ 0.9600,  0.9798,  1.0000],\n",
       "        [ 0.1887, -0.4343,  1.0000],\n",
       "        [ 2.6447,  1.6263,  1.0000],\n",
       "        [ 1.9150,  1.3838,  1.0000]])]\n",
       "y: [tensor([ 3.9848,  0.0791,  4.5133,  4.3595, -0.7204,  4.8419, -2.6145, -0.0177,\n",
       "         5.1075,  0.8198,  4.5464,  4.7778,  2.4380,  4.2562,  5.1157,  5.1014,\n",
       "         4.5994,  4.8186,  1.1965,  4.1036]), tensor([ 5.1247,  0.0791,  4.8186,  2.1250, -1.6901,  2.6894,  4.7072,  2.6221,\n",
       "         4.7778,  4.2562,  2.2474,  4.5994, -3.2634,  2.3197,  4.3595,  4.5133,\n",
       "         3.6420, -0.0177,  4.6300,  4.8786]), tensor([ 1.2810,  4.5464,  1.6365,  1.0537, -0.4474, -1.1065,  3.3506,  4.2158,\n",
       "        -0.2801, -1.3951,  0.9667,  4.0301,  3.9073, -0.7204,  4.8994,  1.1965,\n",
       "         3.1351,  2.4380,  0.2382,  0.7304]), tensor([ 4.1036, -2.2999, -0.8245, -4.2858, -3.9385,  4.4562,  1.7160,  1.5018,\n",
       "        -2.9357, -2.6145,  3.5893,  5.0329,  2.9706,  2.7996,  0.8198,  4.4207,\n",
       "         4.9504,  1.9238,  0.5794,  2.5078]), tensor([ 5.1014,  3.7779,  5.1157,  1.4198,  3.4995, -1.0000,  3.9848,  3.4444,\n",
       "         3.2930,  5.1075, -3.5977,  4.7521, -5.0000,  5.0194,  4.1464,  4.9320,\n",
       "         4.9790, -0.5490,  4.8419,  5.0892])]\n",
       "y_pred: [tensor([ 4.0848,  0.1791,  4.6133,  4.4595, -0.6204,  4.9419, -2.5145,  0.0823,\n",
       "         5.2075,  0.9198,  4.6464,  4.8778,  2.5380,  4.3562,  5.2157,  5.2014,\n",
       "         4.6994,  4.9186,  1.2965,  4.2036]), tensor([ 5.2247,  0.1791,  4.9186,  2.2250, -1.5901,  2.7894,  4.8072,  2.7221,\n",
       "         4.8778,  4.3562,  2.3474,  4.6994, -3.1634,  2.4197,  4.4595,  4.6133,\n",
       "         3.7420,  0.0823,  4.7300,  4.9786]), tensor([ 1.3810,  4.6464,  1.7365,  1.1537, -0.3474, -1.0065,  3.4506,  4.3158,\n",
       "        -0.1801, -1.2951,  1.0667,  4.1301,  4.0073, -0.6204,  4.9994,  1.2965,\n",
       "         3.2351,  2.5380,  0.3382,  0.8304]), tensor([ 4.2036, -2.1999, -0.7245, -4.1858, -3.8385,  4.5562,  1.8160,  1.6018,\n",
       "        -2.8357, -2.5145,  3.6893,  5.1329,  3.0706,  2.8996,  0.9198,  4.5207,\n",
       "         5.0504,  2.0238,  0.6794,  2.6078]), tensor([ 5.2014,  3.8779,  5.2157,  1.5198,  3.5995, -0.9000,  4.0848,  3.5444,\n",
       "         3.3930,  5.2075, -3.4977,  4.8521, -4.9000,  5.1194,  4.2464,  5.0320,\n",
       "         5.0790, -0.4490,  4.9419,  5.1892])]"
      ]
     },
     "execution_count": 59,
     "metadata": {},
     "output_type": "execute_result"
    }
   ],
   "source": [
    "rec.stats"
   ]
  },
  {
   "cell_type": "code",
   "execution_count": 174,
   "metadata": {},
   "outputs": [
    {
     "data": {
      "text/plain": [
       "(5, 5)"
      ]
     },
     "execution_count": 174,
     "metadata": {},
     "output_type": "execute_result"
    }
   ],
   "source": [
    "len(rec.stats.hyper_params[\"lr\"]), len(rec.stats.loss[\"train\"])"
   ]
  },
  {
   "cell_type": "code",
   "execution_count": 62,
   "metadata": {},
   "outputs": [
    {
     "data": {
      "text/html": [
       "\n",
       "\n",
       "\n",
       "\n",
       "\n",
       "\n",
       "  <div class=\"bk-root\" id=\"b531c6e8-b704-40ea-b63b-72453c58aeed\" data-root-id=\"8904\"></div>\n"
      ]
     },
     "metadata": {},
     "output_type": "display_data"
    },
    {
     "data": {
      "application/javascript": [
       "(function(root) {\n",
       "  function embed_document(root) {\n",
       "    \n",
       "  var docs_json = {\"df37c0ef-7c66-47ff-980e-3b54aa2fd7d7\":{\"roots\":{\"references\":[{\"attributes\":{\"below\":[{\"id\":\"8915\",\"type\":\"LinearAxis\"}],\"center\":[{\"id\":\"8919\",\"type\":\"Grid\"},{\"id\":\"8924\",\"type\":\"Grid\"},{\"id\":\"8949\",\"type\":\"Legend\"}],\"left\":[{\"id\":\"8920\",\"type\":\"LinearAxis\"}],\"plot_height\":400,\"plot_width\":700,\"renderers\":[{\"id\":\"8941\",\"type\":\"GlyphRenderer\"},{\"id\":\"8954\",\"type\":\"GlyphRenderer\"}],\"title\":{\"id\":\"8905\",\"type\":\"Title\"},\"toolbar\":{\"id\":\"8931\",\"type\":\"Toolbar\"},\"x_range\":{\"id\":\"8907\",\"type\":\"DataRange1d\"},\"x_scale\":{\"id\":\"8911\",\"type\":\"LinearScale\"},\"y_range\":{\"id\":\"8909\",\"type\":\"DataRange1d\"},\"y_scale\":{\"id\":\"8913\",\"type\":\"LinearScale\"}},\"id\":\"8904\",\"subtype\":\"Figure\",\"type\":\"Plot\"},{\"attributes\":{\"active_drag\":\"auto\",\"active_inspect\":\"auto\",\"active_multi\":null,\"active_scroll\":\"auto\",\"active_tap\":\"auto\",\"tools\":[{\"id\":\"8925\",\"type\":\"PanTool\"},{\"id\":\"8926\",\"type\":\"WheelZoomTool\"},{\"id\":\"8927\",\"type\":\"BoxZoomTool\"},{\"id\":\"8928\",\"type\":\"SaveTool\"},{\"id\":\"8929\",\"type\":\"ResetTool\"},{\"id\":\"8930\",\"type\":\"HelpTool\"},{\"id\":\"8965\",\"type\":\"HoverTool\"}]},\"id\":\"8931\",\"type\":\"Toolbar\"},{\"attributes\":{\"dimension\":1,\"ticker\":{\"id\":\"8921\",\"type\":\"BasicTicker\"}},\"id\":\"8924\",\"type\":\"Grid\"},{\"attributes\":{\"label\":{\"value\":\"Validate\"},\"renderers\":[{\"id\":\"8954\",\"type\":\"GlyphRenderer\"}]},\"id\":\"8964\",\"type\":\"LegendItem\"},{\"attributes\":{\"line_alpha\":0.1,\"line_color\":\"#1f77b4\",\"line_width\":2,\"x\":{\"field\":\"Iteration\"},\"y\":{\"field\":\"Train\"}},\"id\":\"8940\",\"type\":\"Line\"},{\"attributes\":{\"line_color\":\"#000003\",\"line_width\":2,\"x\":{\"field\":\"Iteration\"},\"y\":{\"field\":\"Train\"}},\"id\":\"8939\",\"type\":\"Line\"},{\"attributes\":{\"axis_label\":\"Iteration\",\"formatter\":{\"id\":\"8945\",\"type\":\"BasicTickFormatter\"},\"ticker\":{\"id\":\"8916\",\"type\":\"BasicTicker\"}},\"id\":\"8915\",\"type\":\"LinearAxis\"},{\"attributes\":{},\"id\":\"8921\",\"type\":\"BasicTicker\"},{\"attributes\":{},\"id\":\"8961\",\"type\":\"UnionRenderers\"},{\"attributes\":{},\"id\":\"8911\",\"type\":\"LinearScale\"},{\"attributes\":{},\"id\":\"8925\",\"type\":\"PanTool\"},{\"attributes\":{\"ticker\":{\"id\":\"8916\",\"type\":\"BasicTicker\"}},\"id\":\"8919\",\"type\":\"Grid\"},{\"attributes\":{\"bottom_units\":\"screen\",\"fill_alpha\":{\"value\":0.5},\"fill_color\":{\"value\":\"lightgrey\"},\"left_units\":\"screen\",\"level\":\"overlay\",\"line_alpha\":{\"value\":1.0},\"line_color\":{\"value\":\"black\"},\"line_dash\":[4,4],\"line_width\":{\"value\":2},\"render_mode\":\"css\",\"right_units\":\"screen\",\"top_units\":\"screen\"},\"id\":\"8948\",\"type\":\"BoxAnnotation\"},{\"attributes\":{\"callback\":null,\"data\":{\"Iteration\":{\"__ndarray__\":\"AAAAAAEAAAACAAAAAwAAAAQAAAA=\",\"dtype\":\"int32\",\"shape\":[5]},\"Train\":[42,42,42,42,42],\"Validation\":[82.0,82.0,82.0,82.0,82.0]},\"selected\":{\"id\":\"8962\",\"type\":\"Selection\"},\"selection_policy\":{\"id\":\"8961\",\"type\":\"UnionRenderers\"}},\"id\":\"8903\",\"type\":\"ColumnDataSource\"},{\"attributes\":{},\"id\":\"8947\",\"type\":\"BasicTickFormatter\"},{\"attributes\":{\"line_alpha\":0.1,\"line_color\":\"#1f77b4\",\"line_width\":2,\"x\":{\"field\":\"Iteration\"},\"y\":{\"field\":\"Validation\"}},\"id\":\"8953\",\"type\":\"Line\"},{\"attributes\":{},\"id\":\"8962\",\"type\":\"Selection\"},{\"attributes\":{\"callback\":null,\"formatters\":{\"Iteration\":\"numeral\",\"Train\":\"numeral\",\"Validation\":\"numeral\"},\"mode\":\"vline\",\"tooltips\":[[\"Iteration\",\"@Iteration\"],[\"Train\",\"@Train\"],[\"Validation\",\"@Validation\"]]},\"id\":\"8965\",\"type\":\"HoverTool\"},{\"attributes\":{},\"id\":\"8945\",\"type\":\"BasicTickFormatter\"},{\"attributes\":{\"callback\":null},\"id\":\"8907\",\"type\":\"DataRange1d\"},{\"attributes\":{\"source\":{\"id\":\"8903\",\"type\":\"ColumnDataSource\"}},\"id\":\"8955\",\"type\":\"CDSView\"},{\"attributes\":{\"line_color\":\"#BA3655\",\"line_width\":2,\"x\":{\"field\":\"Iteration\"},\"y\":{\"field\":\"Validation\"}},\"id\":\"8952\",\"type\":\"Line\"},{\"attributes\":{},\"id\":\"8930\",\"type\":\"HelpTool\"},{\"attributes\":{\"overlay\":{\"id\":\"8948\",\"type\":\"BoxAnnotation\"}},\"id\":\"8927\",\"type\":\"BoxZoomTool\"},{\"attributes\":{\"text\":\"Losses vs iteration\"},\"id\":\"8905\",\"type\":\"Title\"},{\"attributes\":{},\"id\":\"8916\",\"type\":\"BasicTicker\"},{\"attributes\":{\"callback\":null},\"id\":\"8909\",\"type\":\"DataRange1d\"},{\"attributes\":{},\"id\":\"8926\",\"type\":\"WheelZoomTool\"},{\"attributes\":{\"axis_label\":\"Loss\",\"formatter\":{\"id\":\"8947\",\"type\":\"BasicTickFormatter\"},\"ticker\":{\"id\":\"8921\",\"type\":\"BasicTicker\"}},\"id\":\"8920\",\"type\":\"LinearAxis\"},{\"attributes\":{\"data_source\":{\"id\":\"8903\",\"type\":\"ColumnDataSource\"},\"glyph\":{\"id\":\"8952\",\"type\":\"Line\"},\"hover_glyph\":null,\"muted_glyph\":null,\"nonselection_glyph\":{\"id\":\"8953\",\"type\":\"Line\"},\"selection_glyph\":null,\"view\":{\"id\":\"8955\",\"type\":\"CDSView\"}},\"id\":\"8954\",\"type\":\"GlyphRenderer\"},{\"attributes\":{\"data_source\":{\"id\":\"8903\",\"type\":\"ColumnDataSource\"},\"glyph\":{\"id\":\"8939\",\"type\":\"Line\"},\"hover_glyph\":null,\"muted_glyph\":null,\"nonselection_glyph\":{\"id\":\"8940\",\"type\":\"Line\"},\"selection_glyph\":null,\"view\":{\"id\":\"8942\",\"type\":\"CDSView\"}},\"id\":\"8941\",\"type\":\"GlyphRenderer\"},{\"attributes\":{\"source\":{\"id\":\"8903\",\"type\":\"ColumnDataSource\"}},\"id\":\"8942\",\"type\":\"CDSView\"},{\"attributes\":{\"items\":[{\"id\":\"8950\",\"type\":\"LegendItem\"},{\"id\":\"8964\",\"type\":\"LegendItem\"}]},\"id\":\"8949\",\"type\":\"Legend\"},{\"attributes\":{},\"id\":\"8928\",\"type\":\"SaveTool\"},{\"attributes\":{},\"id\":\"8913\",\"type\":\"LinearScale\"},{\"attributes\":{\"label\":{\"value\":\"Train\"},\"renderers\":[{\"id\":\"8941\",\"type\":\"GlyphRenderer\"}]},\"id\":\"8950\",\"type\":\"LegendItem\"},{\"attributes\":{},\"id\":\"8929\",\"type\":\"ResetTool\"}],\"root_ids\":[\"8904\"]},\"title\":\"Bokeh Application\",\"version\":\"1.4.0\"}};\n",
       "  var render_items = [{\"docid\":\"df37c0ef-7c66-47ff-980e-3b54aa2fd7d7\",\"roots\":{\"8904\":\"b531c6e8-b704-40ea-b63b-72453c58aeed\"}}];\n",
       "  root.Bokeh.embed.embed_items_notebook(docs_json, render_items);\n",
       "\n",
       "  }\n",
       "  if (root.Bokeh !== undefined) {\n",
       "    embed_document(root);\n",
       "  } else {\n",
       "    var attempts = 0;\n",
       "    var timer = setInterval(function(root) {\n",
       "      if (root.Bokeh !== undefined) {\n",
       "        clearInterval(timer);\n",
       "        embed_document(root);\n",
       "      } else {\n",
       "        attempts++;\n",
       "        if (attempts > 100) {\n",
       "          clearInterval(timer);\n",
       "          console.log(\"Bokeh: ERROR: Unable to run BokehJS code because BokehJS library is missing\");\n",
       "        }\n",
       "      }\n",
       "    }, 10, root)\n",
       "  }\n",
       "})(window);"
      ],
      "application/vnd.bokehjs_exec.v0+json": ""
     },
     "metadata": {
      "application/vnd.bokehjs_exec.v0+json": {
       "id": "8904"
      }
     },
     "output_type": "display_data"
    },
    {
     "data": {
      "text/html": [
       "\n",
       "\n",
       "\n",
       "\n",
       "\n",
       "\n",
       "  <div class=\"bk-root\" id=\"4ebe335e-1eaf-47ac-b52a-a8d17f619fb0\" data-root-id=\"9314\"></div>\n"
      ]
     },
     "metadata": {},
     "output_type": "display_data"
    },
    {
     "data": {
      "application/javascript": [
       "(function(root) {\n",
       "  function embed_document(root) {\n",
       "    \n",
       "  var docs_json = {\"27681d0b-39b5-4ad5-9746-0f7128ab8bf9\":{\"roots\":{\"references\":[{\"attributes\":{\"below\":[{\"id\":\"9325\",\"type\":\"LinearAxis\"}],\"center\":[{\"id\":\"9329\",\"type\":\"Grid\"},{\"id\":\"9334\",\"type\":\"Grid\"},{\"id\":\"9359\",\"type\":\"Legend\"}],\"left\":[{\"id\":\"9330\",\"type\":\"LinearAxis\"}],\"plot_height\":400,\"plot_width\":700,\"renderers\":[{\"id\":\"9351\",\"type\":\"GlyphRenderer\"}],\"title\":{\"id\":\"9315\",\"type\":\"Title\"},\"toolbar\":{\"id\":\"9341\",\"type\":\"Toolbar\"},\"x_range\":{\"id\":\"9317\",\"type\":\"DataRange1d\"},\"x_scale\":{\"id\":\"9321\",\"type\":\"LinearScale\"},\"y_range\":{\"id\":\"9319\",\"type\":\"DataRange1d\"},\"y_scale\":{\"id\":\"9323\",\"type\":\"LinearScale\"}},\"id\":\"9314\",\"subtype\":\"Figure\",\"type\":\"Plot\"},{\"attributes\":{},\"id\":\"9326\",\"type\":\"BasicTicker\"},{\"attributes\":{\"callback\":null,\"data\":{\"Iteration\":{\"__ndarray__\":\"AAAAAAEAAAACAAAAAwAAAAQAAAA=\",\"dtype\":\"int32\",\"shape\":[5]},\"lr\":[0.1,0.1,0.1,0.1,0.1]},\"selected\":{\"id\":\"9667\",\"type\":\"Selection\"},\"selection_policy\":{\"id\":\"9666\",\"type\":\"UnionRenderers\"}},\"id\":\"9313\",\"type\":\"ColumnDataSource\"},{\"attributes\":{\"data_source\":{\"id\":\"9313\",\"type\":\"ColumnDataSource\"},\"glyph\":{\"id\":\"9349\",\"type\":\"Line\"},\"hover_glyph\":null,\"muted_glyph\":null,\"nonselection_glyph\":{\"id\":\"9350\",\"type\":\"Line\"},\"selection_glyph\":null,\"view\":{\"id\":\"9352\",\"type\":\"CDSView\"}},\"id\":\"9351\",\"type\":\"GlyphRenderer\"},{\"attributes\":{},\"id\":\"9339\",\"type\":\"ResetTool\"},{\"attributes\":{\"line_color\":\"#1f77b4\",\"line_width\":2,\"x\":{\"field\":\"Iteration\"},\"y\":{\"field\":\"lr\"}},\"id\":\"9349\",\"type\":\"Line\"},{\"attributes\":{\"line_alpha\":0.1,\"line_color\":\"#1f77b4\",\"line_width\":2,\"x\":{\"field\":\"Iteration\"},\"y\":{\"field\":\"lr\"}},\"id\":\"9350\",\"type\":\"Line\"},{\"attributes\":{\"callback\":null,\"formatters\":{\"Iteration\":\"numeral\",\"lr\":\"numeral\"},\"tooltips\":[[\"Iteration\",\"@Iteration\"],[\"lr\",\"@lr\"]]},\"id\":\"9361\",\"type\":\"HoverTool\"},{\"attributes\":{\"dimension\":1,\"ticker\":{\"id\":\"9331\",\"type\":\"BasicTicker\"}},\"id\":\"9334\",\"type\":\"Grid\"},{\"attributes\":{},\"id\":\"9336\",\"type\":\"WheelZoomTool\"},{\"attributes\":{},\"id\":\"9338\",\"type\":\"SaveTool\"},{\"attributes\":{},\"id\":\"9357\",\"type\":\"BasicTickFormatter\"},{\"attributes\":{\"overlay\":{\"id\":\"9358\",\"type\":\"BoxAnnotation\"}},\"id\":\"9337\",\"type\":\"BoxZoomTool\"},{\"attributes\":{},\"id\":\"9323\",\"type\":\"LinearScale\"},{\"attributes\":{\"source\":{\"id\":\"9313\",\"type\":\"ColumnDataSource\"}},\"id\":\"9352\",\"type\":\"CDSView\"},{\"attributes\":{\"formatter\":{\"id\":\"9355\",\"type\":\"BasicTickFormatter\"},\"ticker\":{\"id\":\"9326\",\"type\":\"BasicTicker\"}},\"id\":\"9325\",\"type\":\"LinearAxis\"},{\"attributes\":{\"text\":\"Hyper parameters ('lr') vs iteration\"},\"id\":\"9315\",\"type\":\"Title\"},{\"attributes\":{},\"id\":\"9355\",\"type\":\"BasicTickFormatter\"},{\"attributes\":{\"items\":[{\"id\":\"9360\",\"type\":\"LegendItem\"}]},\"id\":\"9359\",\"type\":\"Legend\"},{\"attributes\":{\"ticker\":{\"id\":\"9326\",\"type\":\"BasicTicker\"}},\"id\":\"9329\",\"type\":\"Grid\"},{\"attributes\":{\"bottom_units\":\"screen\",\"fill_alpha\":{\"value\":0.5},\"fill_color\":{\"value\":\"lightgrey\"},\"left_units\":\"screen\",\"level\":\"overlay\",\"line_alpha\":{\"value\":1.0},\"line_color\":{\"value\":\"black\"},\"line_dash\":[4,4],\"line_width\":{\"value\":2},\"render_mode\":\"css\",\"right_units\":\"screen\",\"top_units\":\"screen\"},\"id\":\"9358\",\"type\":\"BoxAnnotation\"},{\"attributes\":{},\"id\":\"9331\",\"type\":\"BasicTicker\"},{\"attributes\":{},\"id\":\"9321\",\"type\":\"LinearScale\"},{\"attributes\":{},\"id\":\"9335\",\"type\":\"PanTool\"},{\"attributes\":{},\"id\":\"9340\",\"type\":\"HelpTool\"},{\"attributes\":{\"active_drag\":\"auto\",\"active_inspect\":\"auto\",\"active_multi\":null,\"active_scroll\":\"auto\",\"active_tap\":\"auto\",\"tools\":[{\"id\":\"9335\",\"type\":\"PanTool\"},{\"id\":\"9336\",\"type\":\"WheelZoomTool\"},{\"id\":\"9337\",\"type\":\"BoxZoomTool\"},{\"id\":\"9338\",\"type\":\"SaveTool\"},{\"id\":\"9339\",\"type\":\"ResetTool\"},{\"id\":\"9340\",\"type\":\"HelpTool\"},{\"id\":\"9361\",\"type\":\"HoverTool\"}]},\"id\":\"9341\",\"type\":\"Toolbar\"},{\"attributes\":{\"callback\":null},\"id\":\"9319\",\"type\":\"DataRange1d\"},{\"attributes\":{\"label\":{\"value\":\"lr\"},\"renderers\":[{\"id\":\"9351\",\"type\":\"GlyphRenderer\"}]},\"id\":\"9360\",\"type\":\"LegendItem\"},{\"attributes\":{},\"id\":\"9666\",\"type\":\"UnionRenderers\"},{\"attributes\":{},\"id\":\"9667\",\"type\":\"Selection\"},{\"attributes\":{\"formatter\":{\"id\":\"9357\",\"type\":\"BasicTickFormatter\"},\"ticker\":{\"id\":\"9331\",\"type\":\"BasicTicker\"}},\"id\":\"9330\",\"type\":\"LinearAxis\"},{\"attributes\":{\"callback\":null},\"id\":\"9317\",\"type\":\"DataRange1d\"}],\"root_ids\":[\"9314\"]},\"title\":\"Bokeh Application\",\"version\":\"1.4.0\"}};\n",
       "  var render_items = [{\"docid\":\"27681d0b-39b5-4ad5-9746-0f7128ab8bf9\",\"roots\":{\"9314\":\"4ebe335e-1eaf-47ac-b52a-a8d17f619fb0\"}}];\n",
       "  root.Bokeh.embed.embed_items_notebook(docs_json, render_items);\n",
       "\n",
       "  }\n",
       "  if (root.Bokeh !== undefined) {\n",
       "    embed_document(root);\n",
       "  } else {\n",
       "    var attempts = 0;\n",
       "    var timer = setInterval(function(root) {\n",
       "      if (root.Bokeh !== undefined) {\n",
       "        clearInterval(timer);\n",
       "        embed_document(root);\n",
       "      } else {\n",
       "        attempts++;\n",
       "        if (attempts > 100) {\n",
       "          clearInterval(timer);\n",
       "          console.log(\"Bokeh: ERROR: Unable to run BokehJS code because BokehJS library is missing\");\n",
       "        }\n",
       "      }\n",
       "    }, 10, root)\n",
       "  }\n",
       "})(window);"
      ],
      "application/vnd.bokehjs_exec.v0+json": ""
     },
     "metadata": {
      "application/vnd.bokehjs_exec.v0+json": {
       "id": "9314"
      }
     },
     "output_type": "display_data"
    },
    {
     "data": {
      "text/html": [
       "\n",
       "\n",
       "\n",
       "\n",
       "\n",
       "\n",
       "  <div class=\"bk-root\" id=\"47e4650e-bfed-4b6d-9071-495c4a1e034a\" data-root-id=\"9718\"></div>\n"
      ]
     },
     "metadata": {},
     "output_type": "display_data"
    },
    {
     "data": {
      "application/javascript": [
       "(function(root) {\n",
       "  function embed_document(root) {\n",
       "    \n",
       "  var docs_json = {\"de5b6336-506d-485a-b4db-dda86b874769\":{\"roots\":{\"references\":[{\"attributes\":{\"below\":[{\"id\":\"9729\",\"type\":\"LinearAxis\"}],\"center\":[{\"id\":\"9733\",\"type\":\"Grid\"},{\"id\":\"9738\",\"type\":\"Grid\"},{\"id\":\"9763\",\"type\":\"Legend\"}],\"left\":[{\"id\":\"9734\",\"type\":\"LinearAxis\"}],\"plot_height\":400,\"plot_width\":700,\"renderers\":[{\"id\":\"9755\",\"type\":\"GlyphRenderer\"},{\"id\":\"9768\",\"type\":\"GlyphRenderer\"},{\"id\":\"9782\",\"type\":\"GlyphRenderer\"}],\"title\":{\"id\":\"9719\",\"type\":\"Title\"},\"toolbar\":{\"id\":\"9745\",\"type\":\"Toolbar\"},\"x_range\":{\"id\":\"9721\",\"type\":\"DataRange1d\"},\"x_scale\":{\"id\":\"9725\",\"type\":\"LinearScale\"},\"y_range\":{\"id\":\"9723\",\"type\":\"DataRange1d\"},\"y_scale\":{\"id\":\"9727\",\"type\":\"LinearScale\"}},\"id\":\"9718\",\"subtype\":\"Figure\",\"type\":\"Plot\"},{\"attributes\":{},\"id\":\"9744\",\"type\":\"HelpTool\"},{\"attributes\":{},\"id\":\"9761\",\"type\":\"BasicTickFormatter\"},{\"attributes\":{\"callback\":null,\"formatters\":{\"Iteration\":\"numeral\",\"w_0\":\"numeral\",\"w_1\":\"numeral\",\"w_2\":\"numeral\"},\"mode\":\"vline\",\"tooltips\":[[\"Iteration\",\"@Iteration\"],[\"w_0\",\"@w_0\"],[\"w_1\",\"@w_1\"],[\"w_2\",\"@w_2\"]]},\"id\":\"9793\",\"type\":\"HoverTool\"},{\"attributes\":{\"bottom_units\":\"screen\",\"fill_alpha\":{\"value\":0.5},\"fill_color\":{\"value\":\"lightgrey\"},\"left_units\":\"screen\",\"level\":\"overlay\",\"line_alpha\":{\"value\":1.0},\"line_color\":{\"value\":\"black\"},\"line_dash\":[4,4],\"line_width\":{\"value\":2},\"render_mode\":\"css\",\"right_units\":\"screen\",\"top_units\":\"screen\"},\"id\":\"9762\",\"type\":\"BoxAnnotation\"},{\"attributes\":{\"data_source\":{\"id\":\"9717\",\"type\":\"ColumnDataSource\"},\"glyph\":{\"id\":\"9766\",\"type\":\"Line\"},\"hover_glyph\":null,\"muted_glyph\":null,\"nonselection_glyph\":{\"id\":\"9767\",\"type\":\"Line\"},\"selection_glyph\":null,\"view\":{\"id\":\"9769\",\"type\":\"CDSView\"}},\"id\":\"9768\",\"type\":\"GlyphRenderer\"},{\"attributes\":{\"callback\":null},\"id\":\"9723\",\"type\":\"DataRange1d\"},{\"attributes\":{\"line_alpha\":0.1,\"line_color\":\"#1f77b4\",\"line_width\":2,\"x\":{\"field\":\"Iteration\"},\"y\":{\"field\":\"w_2\"}},\"id\":\"9781\",\"type\":\"Line\"},{\"attributes\":{\"data_source\":{\"id\":\"9717\",\"type\":\"ColumnDataSource\"},\"glyph\":{\"id\":\"9780\",\"type\":\"Line\"},\"hover_glyph\":null,\"muted_glyph\":null,\"nonselection_glyph\":{\"id\":\"9781\",\"type\":\"Line\"},\"selection_glyph\":null,\"view\":{\"id\":\"9783\",\"type\":\"CDSView\"}},\"id\":\"9782\",\"type\":\"GlyphRenderer\"},{\"attributes\":{\"data_source\":{\"id\":\"9717\",\"type\":\"ColumnDataSource\"},\"glyph\":{\"id\":\"9753\",\"type\":\"Line\"},\"hover_glyph\":null,\"muted_glyph\":null,\"nonselection_glyph\":{\"id\":\"9754\",\"type\":\"Line\"},\"selection_glyph\":null,\"view\":{\"id\":\"9756\",\"type\":\"CDSView\"}},\"id\":\"9755\",\"type\":\"GlyphRenderer\"},{\"attributes\":{\"active_drag\":\"auto\",\"active_inspect\":\"auto\",\"active_multi\":null,\"active_scroll\":\"auto\",\"active_tap\":\"auto\",\"tools\":[{\"id\":\"9739\",\"type\":\"PanTool\"},{\"id\":\"9740\",\"type\":\"WheelZoomTool\"},{\"id\":\"9741\",\"type\":\"BoxZoomTool\"},{\"id\":\"9742\",\"type\":\"SaveTool\"},{\"id\":\"9743\",\"type\":\"ResetTool\"},{\"id\":\"9744\",\"type\":\"HelpTool\"},{\"id\":\"9793\",\"type\":\"HoverTool\"}]},\"id\":\"9745\",\"type\":\"Toolbar\"},{\"attributes\":{\"dimension\":1,\"ticker\":{\"id\":\"9735\",\"type\":\"BasicTicker\"}},\"id\":\"9738\",\"type\":\"Grid\"},{\"attributes\":{\"items\":[{\"id\":\"9764\",\"type\":\"LegendItem\"},{\"id\":\"9778\",\"type\":\"LegendItem\"},{\"id\":\"9792\",\"type\":\"LegendItem\"}]},\"id\":\"9763\",\"type\":\"Legend\"},{\"attributes\":{\"overlay\":{\"id\":\"9762\",\"type\":\"BoxAnnotation\"}},\"id\":\"9741\",\"type\":\"BoxZoomTool\"},{\"attributes\":{\"label\":{\"value\":\"w_0\"},\"renderers\":[{\"id\":\"9755\",\"type\":\"GlyphRenderer\"}]},\"id\":\"9764\",\"type\":\"LegendItem\"},{\"attributes\":{},\"id\":\"9740\",\"type\":\"WheelZoomTool\"},{\"attributes\":{},\"id\":\"9725\",\"type\":\"LinearScale\"},{\"attributes\":{\"source\":{\"id\":\"9717\",\"type\":\"ColumnDataSource\"}},\"id\":\"9783\",\"type\":\"CDSView\"},{\"attributes\":{},\"id\":\"9743\",\"type\":\"ResetTool\"},{\"attributes\":{\"callback\":null},\"id\":\"9721\",\"type\":\"DataRange1d\"},{\"attributes\":{},\"id\":\"9735\",\"type\":\"BasicTicker\"},{\"attributes\":{\"line_alpha\":0.1,\"line_color\":\"#1f77b4\",\"line_width\":2,\"x\":{\"field\":\"Iteration\"},\"y\":{\"field\":\"w_1\"}},\"id\":\"9767\",\"type\":\"Line\"},{\"attributes\":{\"formatter\":{\"id\":\"9761\",\"type\":\"BasicTickFormatter\"},\"ticker\":{\"id\":\"9735\",\"type\":\"BasicTicker\"}},\"id\":\"9734\",\"type\":\"LinearAxis\"},{\"attributes\":{},\"id\":\"9727\",\"type\":\"LinearScale\"},{\"attributes\":{\"line_color\":\"#BA3655\",\"line_width\":2,\"x\":{\"field\":\"Iteration\"},\"y\":{\"field\":\"w_1\"}},\"id\":\"9766\",\"type\":\"Line\"},{\"attributes\":{},\"id\":\"9742\",\"type\":\"SaveTool\"},{\"attributes\":{\"label\":{\"value\":\"w_1\"},\"renderers\":[{\"id\":\"9768\",\"type\":\"GlyphRenderer\"}]},\"id\":\"9778\",\"type\":\"LegendItem\"},{\"attributes\":{\"ticker\":{\"id\":\"9730\",\"type\":\"BasicTicker\"}},\"id\":\"9733\",\"type\":\"Grid\"},{\"attributes\":{},\"id\":\"9759\",\"type\":\"BasicTickFormatter\"},{\"attributes\":{\"label\":{\"value\":\"w_2\"},\"renderers\":[{\"id\":\"9782\",\"type\":\"GlyphRenderer\"}]},\"id\":\"9792\",\"type\":\"LegendItem\"},{\"attributes\":{},\"id\":\"9775\",\"type\":\"UnionRenderers\"},{\"attributes\":{\"formatter\":{\"id\":\"9759\",\"type\":\"BasicTickFormatter\"},\"ticker\":{\"id\":\"9730\",\"type\":\"BasicTicker\"}},\"id\":\"9729\",\"type\":\"LinearAxis\"},{\"attributes\":{\"text\":\"Model weights vs iteration\"},\"id\":\"9719\",\"type\":\"Title\"},{\"attributes\":{\"callback\":null,\"data\":{\"Iteration\":{\"__ndarray__\":\"AAAAAAEAAAACAAAAAwAAAAQAAAA=\",\"dtype\":\"int32\",\"shape\":[5]},\"w_0\":{\"__ndarray__\":\"AACAPwAAgD8AAIA/AACAPwAAgD8=\",\"dtype\":\"float32\",\"shape\":[5]},\"w_1\":{\"__ndarray__\":\"AAAAQAAAAEAAAABAAAAAQAAAAEA=\",\"dtype\":\"float32\",\"shape\":[5]},\"w_2\":{\"__ndarray__\":\"AABAQAAAQEAAAEBAAABAQAAAQEA=\",\"dtype\":\"float32\",\"shape\":[5]}},\"selected\":{\"id\":\"9776\",\"type\":\"Selection\"},\"selection_policy\":{\"id\":\"9775\",\"type\":\"UnionRenderers\"}},\"id\":\"9717\",\"type\":\"ColumnDataSource\"},{\"attributes\":{\"line_alpha\":0.1,\"line_color\":\"#1f77b4\",\"line_width\":2,\"x\":{\"field\":\"Iteration\"},\"y\":{\"field\":\"w_0\"}},\"id\":\"9754\",\"type\":\"Line\"},{\"attributes\":{\"source\":{\"id\":\"9717\",\"type\":\"ColumnDataSource\"}},\"id\":\"9769\",\"type\":\"CDSView\"},{\"attributes\":{\"line_color\":\"#FCFEA4\",\"line_width\":2,\"x\":{\"field\":\"Iteration\"},\"y\":{\"field\":\"w_2\"}},\"id\":\"9780\",\"type\":\"Line\"},{\"attributes\":{},\"id\":\"9739\",\"type\":\"PanTool\"},{\"attributes\":{\"line_color\":\"#000003\",\"line_width\":2,\"x\":{\"field\":\"Iteration\"},\"y\":{\"field\":\"w_0\"}},\"id\":\"9753\",\"type\":\"Line\"},{\"attributes\":{},\"id\":\"9776\",\"type\":\"Selection\"},{\"attributes\":{\"source\":{\"id\":\"9717\",\"type\":\"ColumnDataSource\"}},\"id\":\"9756\",\"type\":\"CDSView\"},{\"attributes\":{},\"id\":\"9730\",\"type\":\"BasicTicker\"}],\"root_ids\":[\"9718\"]},\"title\":\"Bokeh Application\",\"version\":\"1.4.0\"}};\n",
       "  var render_items = [{\"docid\":\"de5b6336-506d-485a-b4db-dda86b874769\",\"roots\":{\"9718\":\"47e4650e-bfed-4b6d-9071-495c4a1e034a\"}}];\n",
       "  root.Bokeh.embed.embed_items_notebook(docs_json, render_items);\n",
       "\n",
       "  }\n",
       "  if (root.Bokeh !== undefined) {\n",
       "    embed_document(root);\n",
       "  } else {\n",
       "    var attempts = 0;\n",
       "    var timer = setInterval(function(root) {\n",
       "      if (root.Bokeh !== undefined) {\n",
       "        clearInterval(timer);\n",
       "        embed_document(root);\n",
       "      } else {\n",
       "        attempts++;\n",
       "        if (attempts > 100) {\n",
       "          clearInterval(timer);\n",
       "          console.log(\"Bokeh: ERROR: Unable to run BokehJS code because BokehJS library is missing\");\n",
       "        }\n",
       "      }\n",
       "    }, 10, root)\n",
       "  }\n",
       "})(window);"
      ],
      "application/vnd.bokehjs_exec.v0+json": ""
     },
     "metadata": {
      "application/vnd.bokehjs_exec.v0+json": {
       "id": "9718"
      }
     },
     "output_type": "display_data"
    }
   ],
   "source": [
    "pl = Plotter(rec=rec)\n",
    "pl.plot_loss()\n",
    "pl.plot_hyper_params()\n",
    "pl.plot_weights()"
   ]
  },
  {
   "cell_type": "code",
   "execution_count": 61,
   "metadata": {},
   "outputs": [
    {
     "data": {
      "application/vnd.jupyter.widget-view+json": {
       "model_id": "7f4eafe0873949929a971542ed27ecf1",
       "version_major": 2,
       "version_minor": 0
      },
      "text/plain": [
       "interactive(children=(IntSlider(value=2, description='i', max=4), Output()), _dom_classes=('widget-interact',)…"
      ]
     },
     "metadata": {},
     "output_type": "display_data"
    }
   ],
   "source": [
    "interactive_plot = interactive(pl.plot_iteration, i=(0, len(pl.stats.x)-1))\n",
    "interactive_plot"
   ]
  },
  {
   "cell_type": "code",
   "execution_count": 85,
   "metadata": {},
   "outputs": [],
   "source": [
    "class SGD(Optimizer):\n",
    "    \n",
    "    def __init__(self, model_params, lr: float = .01):\n",
    "        super().__init__(model_params, name=\"SGD\", lr=lr)\n",
    "        \n",
    "    def update(self):\n",
    "        \n",
    "        with torch.no_grad():\n",
    "            self.model_params.sub_(self.model_params.grad * self.lr)\n",
    "        \n",
    "            self.zero_grad()\n",
    "            \n",
    "class PyTorchOpt(Optimizer):\n",
    "        \n",
    "    def __init__(self, model_params, opt: torch.optim.Optimizer, **hyper_params):\n",
    "        super().__init__(model_params, name=\"pytorch optimizer\", **hyper_params)\n",
    "        self.opt = opt([model_params], **hyper_params)\n",
    "        \n",
    "    def update(self):\n",
    "        self.opt.step()\n",
    "        self.opt.zero_grad()    \n",
    "\n",
    "        \n",
    "            \n",
    "class HyperParamsScheduler:\n",
    "    \n",
    "    hyper_params: dict = None\n",
    "    schedule_params: dict = None\n",
    "        \n",
    "    def __init__(self, opt: Optimizer, **schedule_params):\n",
    "        self.hyper_params = opt.hyper_params\n",
    "        self.schedule_params = schedule_params\n",
    "        \n",
    "    def __getattr__(self, k):\n",
    "        return self.schedule_params[k]\n",
    "    \n",
    "    def update(self, epoch):\n",
    "        pass\n",
    "\n",
    "            \n",
    "class LRDecayScheduler(HyperParamsScheduler):\n",
    "        \n",
    "    def __init__(self, opt: Optimizer, _lambda: float = .9):\n",
    "        super().__init__(opt, _lambda=_lambda)\n",
    "        \n",
    "    def update(self, epoch):\n",
    "        self.hyper_params[\"lr\"] = self.hyper_params[\"lr\"] * self._lambda\n",
    "        \n",
    "\n",
    "class Learner:\n",
    "    \"Manages the training\"\n",
    "    \n",
    "    model = None  # model\n",
    "    db = None  # data bunch\n",
    "    opt = None  # optimizer\n",
    "    rec = None  # recorder\n",
    "    loss_fun = None\n",
    "    hs = None  # hyper parameter scheduler\n",
    "    epoch = 0\n",
    "    \n",
    "    def __init__(self, model, db: XYDatabunch, opt: Optimizer, loss_fun: MSELoss, rec: Recorder = None,\n",
    "                 hyper_scheduler: HyperParamsScheduler=None):\n",
    "        self.model = model\n",
    "        self.db = db\n",
    "        self.opt = opt\n",
    "        self.loss_fun = loss_fun\n",
    "        self.rec = rec if rec is not None else Recorder()\n",
    "        self.hs = hyper_scheduler if hyper_scheduler is not None else HyperParamsScheduler(opt)\n",
    "                \n",
    "    def do_epoch(self):\n",
    "                \n",
    "        # train\n",
    "        end_epoch = False\n",
    "        while not end_epoch:\n",
    "            (_x, _y), end_epoch = self.db.get_data(\"train\", flag_end=True)\n",
    "            _y_pred = self.model(_x)\n",
    "            loss = self.loss_fun(_y_pred, _y)\n",
    "            self.rec.store_loss(\"train\", loss)\n",
    "            loss.backward()\n",
    "            self.hs.update(self.epoch)\n",
    "            self.opt.update()\n",
    "            self.rec.store_weights(self.opt.model_params)\n",
    "            self.rec.store_batch(_x, _y, _y_pred)\n",
    "\n",
    "            # validate\n",
    "            with torch.no_grad():\n",
    "                _x, _y = self.db.get_data(\"valid\")\n",
    "                _y_pred = self.model(_x)\n",
    "                loss = self.loss_fun(_y_pred, _y)\n",
    "                self.rec.store_loss(\"valid\", loss)\n",
    "\n",
    "            self.rec.store_hyper_params(opt)\n",
    "    \n",
    "        self.epoch += 1\n",
    "        \n",
    "    def fit(self, epochs: int=1):\n",
    "        for epoch in range(epochs):\n",
    "            self.do_epoch()"
   ]
  },
  {
   "cell_type": "code",
   "execution_count": 97,
   "metadata": {},
   "outputs": [],
   "source": [
    "lm = LinearModel(deg=len(w))\n",
    "# opt = SGD(lm.w, lr=.1)\n",
    "opt = PyTorchOpt(lm.w, opt=torch.optim.SGD, lr=.01)\n",
    "lrs = None # LRDecayScheduler(opt, _lambda=.9) \n",
    "learn = Learner(lm, db, opt, MSELoss, hyper_scheduler=lrs)"
   ]
  },
  {
   "cell_type": "code",
   "execution_count": 87,
   "metadata": {},
   "outputs": [
    {
     "data": {
      "text/plain": [
       "(Parameter containing:\n",
       " tensor([-1.1127, -1.0173,  0.7177], requires_grad=True), 0)"
      ]
     },
     "execution_count": 87,
     "metadata": {},
     "output_type": "execute_result"
    }
   ],
   "source": [
    "opt.model_params, learn.epoch"
   ]
  },
  {
   "cell_type": "code",
   "execution_count": 98,
   "metadata": {},
   "outputs": [
    {
     "name": "stdout",
     "output_type": "stream",
     "text": [
      "Reached the limit of the valid data set, restarting.\n",
      "Reached the limit of the train data set, restarting.\n",
      "Reached the limit of the valid data set, restarting.\n"
     ]
    }
   ],
   "source": [
    "learn.do_epoch()"
   ]
  },
  {
   "cell_type": "code",
   "execution_count": 88,
   "metadata": {
    "scrolled": true
   },
   "outputs": [
    {
     "name": "stdout",
     "output_type": "stream",
     "text": [
      "Reached the limit of the valid data set, restarting.\n",
      "Reached the limit of the train data set, restarting.\n",
      "Reached the limit of the valid data set, restarting.\n",
      "Reached the limit of the valid data set, restarting.\n",
      "Reached the limit of the train data set, restarting.\n",
      "Reached the limit of the valid data set, restarting.\n",
      "Reached the limit of the valid data set, restarting.\n",
      "Reached the limit of the train data set, restarting.\n",
      "Reached the limit of the valid data set, restarting.\n",
      "Reached the limit of the valid data set, restarting.\n",
      "Reached the limit of the train data set, restarting.\n",
      "Reached the limit of the valid data set, restarting.\n",
      "Reached the limit of the valid data set, restarting.\n",
      "Reached the limit of the train data set, restarting.\n",
      "Reached the limit of the valid data set, restarting.\n",
      "Reached the limit of the valid data set, restarting.\n",
      "Reached the limit of the train data set, restarting.\n",
      "Reached the limit of the valid data set, restarting.\n",
      "Reached the limit of the valid data set, restarting.\n",
      "Reached the limit of the train data set, restarting.\n",
      "Reached the limit of the valid data set, restarting.\n",
      "Reached the limit of the valid data set, restarting.\n",
      "Reached the limit of the train data set, restarting.\n",
      "Reached the limit of the valid data set, restarting.\n",
      "Reached the limit of the valid data set, restarting.\n",
      "Reached the limit of the train data set, restarting.\n",
      "Reached the limit of the valid data set, restarting.\n",
      "Reached the limit of the valid data set, restarting.\n",
      "Reached the limit of the train data set, restarting.\n",
      "Reached the limit of the valid data set, restarting.\n"
     ]
    }
   ],
   "source": [
    "learn.fit(epochs=10)"
   ]
  },
  {
   "cell_type": "code",
   "execution_count": 89,
   "metadata": {},
   "outputs": [
    {
     "data": {
      "text/plain": [
       "(Parameter containing:\n",
       " tensor([-0.0855,  0.5834,  1.3583], requires_grad=True), 10)"
      ]
     },
     "execution_count": 89,
     "metadata": {},
     "output_type": "execute_result"
    }
   ],
   "source": [
    "lm.w, learn.epoch"
   ]
  },
  {
   "cell_type": "code",
   "execution_count": 99,
   "metadata": {
    "scrolled": true
   },
   "outputs": [
    {
     "data": {
      "text/plain": [
       "Telemetry\n",
       "=========\n",
       "loss: {'train': [31.353073120117188, 19.40056610107422, 15.193450927734375, 8.759172439575195], 'valid': [27.19158935546875, 14.570124626159668, 11.568751335144043, 8.471739768981934]}\n",
       "weights: [tensor([-0.8767,  0.6023,  0.2323]), tensor([-0.6321,  0.7273,  0.2962]), tensor([-0.4371,  0.8351,  0.3610]), tensor([-0.3116,  0.9096,  0.3980])]\n",
       "hyper_params: {'lr': [0.01, 0.01, 0.01, 0.01]}\n",
       "x: [tensor([[ 0.1887, -0.4343,  1.0000],\n",
       "        [ 6.7390,  2.5960,  1.0000],\n",
       "        [ 0.4311,  0.6566,  1.0000],\n",
       "        [ 0.6694,  0.8182,  1.0000],\n",
       "        [ 1.3967,  1.1818,  1.0000],\n",
       "        [ 0.7723, -0.8788,  1.0000],\n",
       "        [ 0.0295,  0.1717,  1.0000],\n",
       "        [ 4.8045,  2.1919,  1.0000],\n",
       "        [ 0.0638,  0.2525,  1.0000],\n",
       "        [ 9.0000,  3.0000,  1.0000],\n",
       "        [ 0.8825,  0.9394,  1.0000],\n",
       "        [ 6.5309,  2.5556,  1.0000],\n",
       "        [ 0.4858,  0.6970,  1.0000],\n",
       "        [ 3.4920,  1.8687,  1.0000],\n",
       "        [ 6.9504,  2.6364,  1.0000],\n",
       "        [ 0.6368, -0.7980,  1.0000],\n",
       "        [ 1.3028,  1.1414,  1.0000],\n",
       "        [ 0.1397,  0.3737,  1.0000],\n",
       "        [ 0.4580, -0.6768,  1.0000],\n",
       "        [ 0.0450,  0.2121,  1.0000]]), tensor([[ 2.5149e+00,  1.5859e+00,  1.0000e+00],\n",
       "        [ 4.4568e+00,  2.1111e+00,  1.0000e+00],\n",
       "        [ 8.2645e-03,  9.0909e-02,  1.0000e+00],\n",
       "        [ 6.3260e+00,  2.5152e+00,  1.0000e+00],\n",
       "        [ 3.0537e+00,  1.7475e+00,  1.0000e+00],\n",
       "        [ 8.4491e-01, -9.1919e-01,  1.0000e+00],\n",
       "        [ 6.1244e+00,  2.4747e+00,  1.0000e+00],\n",
       "        [ 3.9597e+00,  1.9899e+00,  1.0000e+00],\n",
       "        [ 7.1651e+00,  2.6768e+00,  1.0000e+00],\n",
       "        [ 1.5519e-01, -3.9394e-01,  1.0000e+00],\n",
       "        [ 5.1434e-01, -7.1717e-01,  1.0000e+00],\n",
       "        [ 3.0864e-01, -5.5556e-01,  1.0000e+00],\n",
       "        [ 3.8005e+00,  1.9495e+00,  1.0000e+00],\n",
       "        [ 1.8048e+00,  1.3434e+00,  1.0000e+00],\n",
       "        [ 2.4497e-01,  4.9495e-01,  1.0000e+00],\n",
       "        [ 3.6833e-02, -1.9192e-01,  1.0000e+00],\n",
       "        [ 2.5508e-03,  5.0505e-02,  1.0000e+00],\n",
       "        [ 1.2346e-02, -1.1111e-01,  1.0000e+00],\n",
       "        [ 3.1965e+00,  1.7879e+00,  1.0000e+00],\n",
       "        [ 4.9995e-03, -7.0707e-02,  1.0000e+00]]), tensor([[ 8.7592,  2.9596,  1.0000],\n",
       "        [ 4.1221,  2.0303,  1.0000],\n",
       "        [ 0.1111,  0.3333,  1.0000],\n",
       "        [ 0.7029, -0.8384,  1.0000],\n",
       "        [ 0.2866,  0.5354,  1.0000],\n",
       "        [ 0.3315,  0.5758,  1.0000],\n",
       "        [ 0.1250, -0.3535,  1.0000],\n",
       "        [ 2.3884,  1.5455,  1.0000],\n",
       "        [ 5.9260,  2.4343,  1.0000],\n",
       "        [ 0.3552, -0.5960,  1.0000],\n",
       "        [ 1.9150,  1.3838,  1.0000],\n",
       "        [ 5.7309,  2.3939,  1.0000],\n",
       "        [ 2.7778,  1.6667,  1.0000],\n",
       "        [ 2.9141,  1.7071,  1.0000],\n",
       "        [ 0.0172,  0.1313,  1.0000],\n",
       "        [ 0.5437,  0.7374,  1.0000],\n",
       "        [ 0.9600,  0.9798,  1.0000],\n",
       "        [ 8.0564,  2.8384,  1.0000],\n",
       "        [ 4.2878,  2.0707,  1.0000],\n",
       "        [ 1.5942,  1.2626,  1.0000]]), tensor([[ 7.7227e-01, -8.7879e-01,  1.0000e+00],\n",
       "        [ 4.9995e-03, -7.0707e-02,  1.0000e+00],\n",
       "        [ 4.4995e-02,  2.1212e-01,  1.0000e+00],\n",
       "        [ 2.8660e-01,  5.3535e-01,  1.0000e+00],\n",
       "        [ 5.7309e+00,  2.3939e+00,  1.0000e+00],\n",
       "        [ 8.0818e-01,  8.9899e-01,  1.0000e+00],\n",
       "        [ 8.0564e+00,  2.8384e+00,  1.0000e+00],\n",
       "        [ 4.8045e+00,  2.1919e+00,  1.0000e+00],\n",
       "        [ 3.4920e+00,  1.8687e+00,  1.0000e+00],\n",
       "        [ 4.6290e+00,  2.1515e+00,  1.0000e+00],\n",
       "        [ 1.2499e-01, -3.5354e-01,  1.0000e+00],\n",
       "        [ 3.6446e+00,  1.9091e+00,  1.0000e+00],\n",
       "        [ 5.9260e+00,  2.4343e+00,  1.0000e+00],\n",
       "        [ 4.5801e-01, -6.7677e-01,  1.0000e+00],\n",
       "        [ 3.8005e+00,  1.9495e+00,  1.0000e+00],\n",
       "        [ 8.4491e-01, -9.1919e-01,  1.0000e+00],\n",
       "        [ 2.4497e-01,  4.9495e-01,  1.0000e+00],\n",
       "        [ 5.4372e-01,  7.3737e-01,  1.0000e+00],\n",
       "        [ 3.6833e-02, -1.9192e-01,  1.0000e+00],\n",
       "        [ 6.5309e+00,  2.5556e+00,  1.0000e+00]])]\n",
       "y: [tensor([-0.5490,  1.5018,  4.4207,  4.7521,  5.1157, -3.9385,  2.7996,  3.3506,\n",
       "         3.1351, -1.0000,  4.9320,  1.7160,  4.5133,  4.3595,  1.2810, -3.2634,\n",
       "         5.1014,  3.5893, -2.2999,  2.9706]), tensor([ 4.8994,  3.6420,  2.4380,  1.9238,  4.6300, -4.2858,  2.1250,  4.0301,\n",
       "         1.0537, -0.2801, -2.6145, -1.3951,  4.1464,  5.1075,  3.9848,  0.9667,\n",
       "         2.2474,  1.4198,  4.5464,  1.6365]), tensor([-0.7204,  3.9073,  3.4444, -3.5977,  4.1036,  4.2158, -0.0177,  4.9504,\n",
       "         2.3197, -1.6901,  5.0892,  2.5078,  4.7778,  4.7072,  2.6221,  4.5994,\n",
       "         4.9790,  0.0791,  3.7779,  5.1247]), tensor([-3.9385,  1.6365,  2.9706,  4.1036,  2.5078,  4.8786,  0.0791,  3.3506,\n",
       "         4.3595,  3.4995, -0.0177,  4.2562,  2.3197, -2.2999,  4.1464, -4.2858,\n",
       "         3.9848,  4.5994,  0.9667,  1.7160])]\n",
       "y_pred: [tensor([-0.2743, -6.8810, -0.0865, -0.3043, -1.0258, -1.1785,  0.1864, -4.7131,\n",
       "         0.1805, -9.4450, -0.5091, -6.6464, -0.1350, -3.2638, -7.1196, -0.9785,\n",
       "        -0.9298,  0.1420, -0.7081,  0.1854]), tensor([-1.0174, -2.4036,  0.2798, -3.7990, -1.3924, -1.0621, -3.6466, -2.0407,\n",
       "        -4.4373, -0.1410, -0.6506, -0.3729, -1.9255, -0.5409,  0.3157,  0.0844,\n",
       "         0.2605,  0.1546, -1.4933,  0.1854]), tensor([-3.0879, -0.8327,  0.4684, -0.7579,  0.5044,  0.5054, -0.0400, -0.0895,\n",
       "        -1.6791, -0.3618,  0.0922, -1.5851, -0.2474, -0.3042,  0.3808,  0.4888,\n",
       "         0.4020, -2.7318, -0.9080,  0.2068]), tensor([-0.7105,  0.2997,  0.5184,  0.6827, -0.1451,  0.7584, -0.7906,  0.0911,\n",
       "         0.3950,  0.1341,  0.0111,  0.3620, -0.1967, -0.4044,  0.3276, -0.7760,\n",
       "         0.6672,  0.7390,  0.1846, -0.3599])]"
      ]
     },
     "execution_count": 99,
     "metadata": {},
     "output_type": "execute_result"
    }
   ],
   "source": [
    "learn.rec.stats"
   ]
  },
  {
   "cell_type": "code",
   "execution_count": 100,
   "metadata": {},
   "outputs": [
    {
     "data": {
      "text/plain": [
       "tensor(0., grad_fn=<MeanBackward0>)"
      ]
     },
     "execution_count": 100,
     "metadata": {},
     "output_type": "execute_result"
    }
   ],
   "source": [
    "MSELoss(y, lm_ori(X))"
   ]
  },
  {
   "cell_type": "code",
   "execution_count": 101,
   "metadata": {},
   "outputs": [
    {
     "data": {
      "text/plain": [
       "tensor(7.8261, grad_fn=<MeanBackward0>)"
      ]
     },
     "execution_count": 101,
     "metadata": {},
     "output_type": "execute_result"
    }
   ],
   "source": [
    "MSELoss(y, lm(X))"
   ]
  },
  {
   "cell_type": "code",
   "execution_count": 102,
   "metadata": {},
   "outputs": [
    {
     "data": {
      "text/html": [
       "\n",
       "\n",
       "\n",
       "\n",
       "\n",
       "\n",
       "  <div class=\"bk-root\" id=\"c0ecf98a-1b4a-42bb-9c6d-d56a57e92030\" data-root-id=\"51591\"></div>\n"
      ]
     },
     "metadata": {},
     "output_type": "display_data"
    },
    {
     "data": {
      "application/javascript": [
       "(function(root) {\n",
       "  function embed_document(root) {\n",
       "    \n",
       "  var docs_json = {\"d7c34c58-d680-4745-9384-3bec0b66528c\":{\"roots\":{\"references\":[{\"attributes\":{\"below\":[{\"id\":\"51602\",\"type\":\"LinearAxis\"}],\"center\":[{\"id\":\"51606\",\"type\":\"Grid\"},{\"id\":\"51611\",\"type\":\"Grid\"},{\"id\":\"51636\",\"type\":\"Legend\"}],\"left\":[{\"id\":\"51607\",\"type\":\"LinearAxis\"}],\"plot_height\":400,\"plot_width\":700,\"renderers\":[{\"id\":\"51628\",\"type\":\"GlyphRenderer\"},{\"id\":\"51641\",\"type\":\"GlyphRenderer\"}],\"title\":{\"id\":\"51592\",\"type\":\"Title\"},\"toolbar\":{\"id\":\"51618\",\"type\":\"Toolbar\"},\"x_range\":{\"id\":\"51594\",\"type\":\"DataRange1d\"},\"x_scale\":{\"id\":\"51598\",\"type\":\"LinearScale\"},\"y_range\":{\"id\":\"51596\",\"type\":\"DataRange1d\"},\"y_scale\":{\"id\":\"51600\",\"type\":\"LinearScale\"}},\"id\":\"51591\",\"subtype\":\"Figure\",\"type\":\"Plot\"},{\"attributes\":{\"text\":\"Losses vs iteration\"},\"id\":\"51592\",\"type\":\"Title\"},{\"attributes\":{\"line_color\":\"#000003\",\"line_width\":2,\"x\":{\"field\":\"Iteration\"},\"y\":{\"field\":\"Train\"}},\"id\":\"51626\",\"type\":\"Line\"},{\"attributes\":{\"callback\":null},\"id\":\"51596\",\"type\":\"DataRange1d\"},{\"attributes\":{\"items\":[{\"id\":\"51637\",\"type\":\"LegendItem\"},{\"id\":\"51651\",\"type\":\"LegendItem\"}]},\"id\":\"51636\",\"type\":\"Legend\"},{\"attributes\":{\"callback\":null},\"id\":\"51594\",\"type\":\"DataRange1d\"},{\"attributes\":{\"label\":{\"value\":\"Validate\"},\"renderers\":[{\"id\":\"51641\",\"type\":\"GlyphRenderer\"}]},\"id\":\"51651\",\"type\":\"LegendItem\"},{\"attributes\":{\"bottom_units\":\"screen\",\"fill_alpha\":{\"value\":0.5},\"fill_color\":{\"value\":\"lightgrey\"},\"left_units\":\"screen\",\"level\":\"overlay\",\"line_alpha\":{\"value\":1.0},\"line_color\":{\"value\":\"black\"},\"line_dash\":[4,4],\"line_width\":{\"value\":2},\"render_mode\":\"css\",\"right_units\":\"screen\",\"top_units\":\"screen\"},\"id\":\"51635\",\"type\":\"BoxAnnotation\"},{\"attributes\":{},\"id\":\"51617\",\"type\":\"HelpTool\"},{\"attributes\":{\"data_source\":{\"id\":\"51590\",\"type\":\"ColumnDataSource\"},\"glyph\":{\"id\":\"51639\",\"type\":\"Line\"},\"hover_glyph\":null,\"muted_glyph\":null,\"nonselection_glyph\":{\"id\":\"51640\",\"type\":\"Line\"},\"selection_glyph\":null,\"view\":{\"id\":\"51642\",\"type\":\"CDSView\"}},\"id\":\"51641\",\"type\":\"GlyphRenderer\"},{\"attributes\":{\"axis_label\":\"Iteration\",\"formatter\":{\"id\":\"51632\",\"type\":\"BasicTickFormatter\"},\"ticker\":{\"id\":\"51603\",\"type\":\"BasicTicker\"}},\"id\":\"51602\",\"type\":\"LinearAxis\"},{\"attributes\":{\"dimension\":1,\"ticker\":{\"id\":\"51608\",\"type\":\"BasicTicker\"}},\"id\":\"51611\",\"type\":\"Grid\"},{\"attributes\":{},\"id\":\"51634\",\"type\":\"BasicTickFormatter\"},{\"attributes\":{},\"id\":\"51598\",\"type\":\"LinearScale\"},{\"attributes\":{},\"id\":\"51616\",\"type\":\"ResetTool\"},{\"attributes\":{\"overlay\":{\"id\":\"51635\",\"type\":\"BoxAnnotation\"}},\"id\":\"51614\",\"type\":\"BoxZoomTool\"},{\"attributes\":{},\"id\":\"51649\",\"type\":\"Selection\"},{\"attributes\":{},\"id\":\"51600\",\"type\":\"LinearScale\"},{\"attributes\":{\"ticker\":{\"id\":\"51603\",\"type\":\"BasicTicker\"}},\"id\":\"51606\",\"type\":\"Grid\"},{\"attributes\":{},\"id\":\"51648\",\"type\":\"UnionRenderers\"},{\"attributes\":{\"line_color\":\"#BA3655\",\"line_width\":2,\"x\":{\"field\":\"Iteration\"},\"y\":{\"field\":\"Validation\"}},\"id\":\"51639\",\"type\":\"Line\"},{\"attributes\":{},\"id\":\"51615\",\"type\":\"SaveTool\"},{\"attributes\":{},\"id\":\"51603\",\"type\":\"BasicTicker\"},{\"attributes\":{},\"id\":\"51612\",\"type\":\"PanTool\"},{\"attributes\":{\"axis_label\":\"Loss\",\"formatter\":{\"id\":\"51634\",\"type\":\"BasicTickFormatter\"},\"ticker\":{\"id\":\"51608\",\"type\":\"BasicTicker\"}},\"id\":\"51607\",\"type\":\"LinearAxis\"},{\"attributes\":{\"data_source\":{\"id\":\"51590\",\"type\":\"ColumnDataSource\"},\"glyph\":{\"id\":\"51626\",\"type\":\"Line\"},\"hover_glyph\":null,\"muted_glyph\":null,\"nonselection_glyph\":{\"id\":\"51627\",\"type\":\"Line\"},\"selection_glyph\":null,\"view\":{\"id\":\"51629\",\"type\":\"CDSView\"}},\"id\":\"51628\",\"type\":\"GlyphRenderer\"},{\"attributes\":{},\"id\":\"51608\",\"type\":\"BasicTicker\"},{\"attributes\":{\"line_alpha\":0.1,\"line_color\":\"#1f77b4\",\"line_width\":2,\"x\":{\"field\":\"Iteration\"},\"y\":{\"field\":\"Validation\"}},\"id\":\"51640\",\"type\":\"Line\"},{\"attributes\":{\"callback\":null,\"formatters\":{\"Iteration\":\"numeral\",\"Train\":\"numeral\",\"Validation\":\"numeral\"},\"mode\":\"vline\",\"tooltips\":[[\"Iteration\",\"@Iteration\"],[\"Train\",\"@Train\"],[\"Validation\",\"@Validation\"]]},\"id\":\"51652\",\"type\":\"HoverTool\"},{\"attributes\":{\"label\":{\"value\":\"Train\"},\"renderers\":[{\"id\":\"51628\",\"type\":\"GlyphRenderer\"}]},\"id\":\"51637\",\"type\":\"LegendItem\"},{\"attributes\":{\"callback\":null,\"data\":{\"Iteration\":{\"__ndarray__\":\"AAAAAAEAAAACAAAAAwAAAA==\",\"dtype\":\"int32\",\"shape\":[4]},\"Train\":[31.353073120117188,19.40056610107422,15.193450927734375,8.759172439575195],\"Validation\":[27.19158935546875,14.570124626159668,11.568751335144043,8.471739768981934]},\"selected\":{\"id\":\"51649\",\"type\":\"Selection\"},\"selection_policy\":{\"id\":\"51648\",\"type\":\"UnionRenderers\"}},\"id\":\"51590\",\"type\":\"ColumnDataSource\"},{\"attributes\":{\"line_alpha\":0.1,\"line_color\":\"#1f77b4\",\"line_width\":2,\"x\":{\"field\":\"Iteration\"},\"y\":{\"field\":\"Train\"}},\"id\":\"51627\",\"type\":\"Line\"},{\"attributes\":{\"source\":{\"id\":\"51590\",\"type\":\"ColumnDataSource\"}},\"id\":\"51642\",\"type\":\"CDSView\"},{\"attributes\":{\"active_drag\":\"auto\",\"active_inspect\":\"auto\",\"active_multi\":null,\"active_scroll\":\"auto\",\"active_tap\":\"auto\",\"tools\":[{\"id\":\"51612\",\"type\":\"PanTool\"},{\"id\":\"51613\",\"type\":\"WheelZoomTool\"},{\"id\":\"51614\",\"type\":\"BoxZoomTool\"},{\"id\":\"51615\",\"type\":\"SaveTool\"},{\"id\":\"51616\",\"type\":\"ResetTool\"},{\"id\":\"51617\",\"type\":\"HelpTool\"},{\"id\":\"51652\",\"type\":\"HoverTool\"}]},\"id\":\"51618\",\"type\":\"Toolbar\"},{\"attributes\":{},\"id\":\"51613\",\"type\":\"WheelZoomTool\"},{\"attributes\":{\"source\":{\"id\":\"51590\",\"type\":\"ColumnDataSource\"}},\"id\":\"51629\",\"type\":\"CDSView\"},{\"attributes\":{},\"id\":\"51632\",\"type\":\"BasicTickFormatter\"}],\"root_ids\":[\"51591\"]},\"title\":\"Bokeh Application\",\"version\":\"1.4.0\"}};\n",
       "  var render_items = [{\"docid\":\"d7c34c58-d680-4745-9384-3bec0b66528c\",\"roots\":{\"51591\":\"c0ecf98a-1b4a-42bb-9c6d-d56a57e92030\"}}];\n",
       "  root.Bokeh.embed.embed_items_notebook(docs_json, render_items);\n",
       "\n",
       "  }\n",
       "  if (root.Bokeh !== undefined) {\n",
       "    embed_document(root);\n",
       "  } else {\n",
       "    var attempts = 0;\n",
       "    var timer = setInterval(function(root) {\n",
       "      if (root.Bokeh !== undefined) {\n",
       "        clearInterval(timer);\n",
       "        embed_document(root);\n",
       "      } else {\n",
       "        attempts++;\n",
       "        if (attempts > 100) {\n",
       "          clearInterval(timer);\n",
       "          console.log(\"Bokeh: ERROR: Unable to run BokehJS code because BokehJS library is missing\");\n",
       "        }\n",
       "      }\n",
       "    }, 10, root)\n",
       "  }\n",
       "})(window);"
      ],
      "application/vnd.bokehjs_exec.v0+json": ""
     },
     "metadata": {
      "application/vnd.bokehjs_exec.v0+json": {
       "id": "51591"
      }
     },
     "output_type": "display_data"
    }
   ],
   "source": [
    "pl = Plotter(rec=learn.rec)\n",
    "pl.plot_loss()"
   ]
  },
  {
   "cell_type": "code",
   "execution_count": 103,
   "metadata": {},
   "outputs": [
    {
     "data": {
      "text/html": [
       "\n",
       "\n",
       "\n",
       "\n",
       "\n",
       "\n",
       "  <div class=\"bk-root\" id=\"eaea9ce5-b666-4804-907d-074ae12c481c\" data-root-id=\"52587\"></div>\n"
      ]
     },
     "metadata": {},
     "output_type": "display_data"
    },
    {
     "data": {
      "application/javascript": [
       "(function(root) {\n",
       "  function embed_document(root) {\n",
       "    \n",
       "  var docs_json = {\"c5edc245-5660-4f58-96fb-b21332e8dd56\":{\"roots\":{\"references\":[{\"attributes\":{\"below\":[{\"id\":\"52598\",\"type\":\"LinearAxis\"}],\"center\":[{\"id\":\"52602\",\"type\":\"Grid\"},{\"id\":\"52607\",\"type\":\"Grid\"},{\"id\":\"52632\",\"type\":\"Legend\"}],\"left\":[{\"id\":\"52603\",\"type\":\"LinearAxis\"}],\"plot_height\":400,\"plot_width\":700,\"renderers\":[{\"id\":\"52624\",\"type\":\"GlyphRenderer\"},{\"id\":\"52637\",\"type\":\"GlyphRenderer\"},{\"id\":\"52651\",\"type\":\"GlyphRenderer\"}],\"title\":{\"id\":\"52588\",\"type\":\"Title\"},\"toolbar\":{\"id\":\"52614\",\"type\":\"Toolbar\"},\"x_range\":{\"id\":\"52590\",\"type\":\"DataRange1d\"},\"x_scale\":{\"id\":\"52594\",\"type\":\"LinearScale\"},\"y_range\":{\"id\":\"52592\",\"type\":\"DataRange1d\"},\"y_scale\":{\"id\":\"52596\",\"type\":\"LinearScale\"}},\"id\":\"52587\",\"subtype\":\"Figure\",\"type\":\"Plot\"},{\"attributes\":{},\"id\":\"52611\",\"type\":\"SaveTool\"},{\"attributes\":{\"source\":{\"id\":\"52586\",\"type\":\"ColumnDataSource\"}},\"id\":\"52638\",\"type\":\"CDSView\"},{\"attributes\":{\"label\":{\"value\":\"w_1\"},\"renderers\":[{\"id\":\"52637\",\"type\":\"GlyphRenderer\"}]},\"id\":\"52647\",\"type\":\"LegendItem\"},{\"attributes\":{\"formatter\":{\"id\":\"52628\",\"type\":\"BasicTickFormatter\"},\"ticker\":{\"id\":\"52599\",\"type\":\"BasicTicker\"}},\"id\":\"52598\",\"type\":\"LinearAxis\"},{\"attributes\":{\"data_source\":{\"id\":\"52586\",\"type\":\"ColumnDataSource\"},\"glyph\":{\"id\":\"52622\",\"type\":\"Line\"},\"hover_glyph\":null,\"muted_glyph\":null,\"nonselection_glyph\":{\"id\":\"52623\",\"type\":\"Line\"},\"selection_glyph\":null,\"view\":{\"id\":\"52625\",\"type\":\"CDSView\"}},\"id\":\"52624\",\"type\":\"GlyphRenderer\"},{\"attributes\":{\"line_color\":\"#000003\",\"line_width\":2,\"x\":{\"field\":\"Iteration\"},\"y\":{\"field\":\"w_0\"}},\"id\":\"52622\",\"type\":\"Line\"},{\"attributes\":{},\"id\":\"52594\",\"type\":\"LinearScale\"},{\"attributes\":{},\"id\":\"52612\",\"type\":\"ResetTool\"},{\"attributes\":{\"label\":{\"value\":\"w_2\"},\"renderers\":[{\"id\":\"52651\",\"type\":\"GlyphRenderer\"}]},\"id\":\"52661\",\"type\":\"LegendItem\"},{\"attributes\":{\"line_color\":\"#BA3655\",\"line_width\":2,\"x\":{\"field\":\"Iteration\"},\"y\":{\"field\":\"w_1\"}},\"id\":\"52635\",\"type\":\"Line\"},{\"attributes\":{},\"id\":\"52596\",\"type\":\"LinearScale\"},{\"attributes\":{\"dimension\":1,\"ticker\":{\"id\":\"52604\",\"type\":\"BasicTicker\"}},\"id\":\"52607\",\"type\":\"Grid\"},{\"attributes\":{\"source\":{\"id\":\"52586\",\"type\":\"ColumnDataSource\"}},\"id\":\"52652\",\"type\":\"CDSView\"},{\"attributes\":{\"line_color\":\"#FCFEA4\",\"line_width\":2,\"x\":{\"field\":\"Iteration\"},\"y\":{\"field\":\"w_2\"}},\"id\":\"52649\",\"type\":\"Line\"},{\"attributes\":{\"items\":[{\"id\":\"52633\",\"type\":\"LegendItem\"},{\"id\":\"52647\",\"type\":\"LegendItem\"},{\"id\":\"52661\",\"type\":\"LegendItem\"}]},\"id\":\"52632\",\"type\":\"Legend\"},{\"attributes\":{},\"id\":\"52644\",\"type\":\"UnionRenderers\"},{\"attributes\":{\"bottom_units\":\"screen\",\"fill_alpha\":{\"value\":0.5},\"fill_color\":{\"value\":\"lightgrey\"},\"left_units\":\"screen\",\"level\":\"overlay\",\"line_alpha\":{\"value\":1.0},\"line_color\":{\"value\":\"black\"},\"line_dash\":[4,4],\"line_width\":{\"value\":2},\"render_mode\":\"css\",\"right_units\":\"screen\",\"top_units\":\"screen\"},\"id\":\"52631\",\"type\":\"BoxAnnotation\"},{\"attributes\":{\"callback\":null},\"id\":\"52592\",\"type\":\"DataRange1d\"},{\"attributes\":{\"overlay\":{\"id\":\"52631\",\"type\":\"BoxAnnotation\"}},\"id\":\"52610\",\"type\":\"BoxZoomTool\"},{\"attributes\":{\"formatter\":{\"id\":\"52630\",\"type\":\"BasicTickFormatter\"},\"ticker\":{\"id\":\"52604\",\"type\":\"BasicTicker\"}},\"id\":\"52603\",\"type\":\"LinearAxis\"},{\"attributes\":{\"callback\":null,\"data\":{\"Iteration\":{\"__ndarray__\":\"AAAAAAEAAAACAAAAAwAAAA==\",\"dtype\":\"int32\",\"shape\":[4]},\"w_0\":{\"__ndarray__\":\"l3Fgv5bRIb8G0N++po2fvg==\",\"dtype\":\"float32\",\"shape\":[4]},\"w_1\":{\"__ndarray__\":\"mjAaP3MzOj/KxlU/W95oPw==\",\"dtype\":\"float32\",\"shape\":[4]},\"w_2\":{\"__ndarray__\":\"UOhtPgunlz6tzrg+SsbLPg==\",\"dtype\":\"float32\",\"shape\":[4]}},\"selected\":{\"id\":\"52645\",\"type\":\"Selection\"},\"selection_policy\":{\"id\":\"52644\",\"type\":\"UnionRenderers\"}},\"id\":\"52586\",\"type\":\"ColumnDataSource\"},{\"attributes\":{},\"id\":\"52608\",\"type\":\"PanTool\"},{\"attributes\":{\"label\":{\"value\":\"w_0\"},\"renderers\":[{\"id\":\"52624\",\"type\":\"GlyphRenderer\"}]},\"id\":\"52633\",\"type\":\"LegendItem\"},{\"attributes\":{},\"id\":\"52604\",\"type\":\"BasicTicker\"},{\"attributes\":{},\"id\":\"52609\",\"type\":\"WheelZoomTool\"},{\"attributes\":{\"source\":{\"id\":\"52586\",\"type\":\"ColumnDataSource\"}},\"id\":\"52625\",\"type\":\"CDSView\"},{\"attributes\":{\"line_alpha\":0.1,\"line_color\":\"#1f77b4\",\"line_width\":2,\"x\":{\"field\":\"Iteration\"},\"y\":{\"field\":\"w_1\"}},\"id\":\"52636\",\"type\":\"Line\"},{\"attributes\":{},\"id\":\"52613\",\"type\":\"HelpTool\"},{\"attributes\":{\"data_source\":{\"id\":\"52586\",\"type\":\"ColumnDataSource\"},\"glyph\":{\"id\":\"52649\",\"type\":\"Line\"},\"hover_glyph\":null,\"muted_glyph\":null,\"nonselection_glyph\":{\"id\":\"52650\",\"type\":\"Line\"},\"selection_glyph\":null,\"view\":{\"id\":\"52652\",\"type\":\"CDSView\"}},\"id\":\"52651\",\"type\":\"GlyphRenderer\"},{\"attributes\":{},\"id\":\"52628\",\"type\":\"BasicTickFormatter\"},{\"attributes\":{\"line_alpha\":0.1,\"line_color\":\"#1f77b4\",\"line_width\":2,\"x\":{\"field\":\"Iteration\"},\"y\":{\"field\":\"w_0\"}},\"id\":\"52623\",\"type\":\"Line\"},{\"attributes\":{},\"id\":\"52645\",\"type\":\"Selection\"},{\"attributes\":{\"line_alpha\":0.1,\"line_color\":\"#1f77b4\",\"line_width\":2,\"x\":{\"field\":\"Iteration\"},\"y\":{\"field\":\"w_2\"}},\"id\":\"52650\",\"type\":\"Line\"},{\"attributes\":{\"callback\":null,\"formatters\":{\"Iteration\":\"numeral\",\"w_0\":\"numeral\",\"w_1\":\"numeral\",\"w_2\":\"numeral\"},\"mode\":\"vline\",\"tooltips\":[[\"Iteration\",\"@Iteration\"],[\"w_0\",\"@w_0\"],[\"w_1\",\"@w_1\"],[\"w_2\",\"@w_2\"]]},\"id\":\"52662\",\"type\":\"HoverTool\"},{\"attributes\":{},\"id\":\"52630\",\"type\":\"BasicTickFormatter\"},{\"attributes\":{},\"id\":\"52599\",\"type\":\"BasicTicker\"},{\"attributes\":{\"ticker\":{\"id\":\"52599\",\"type\":\"BasicTicker\"}},\"id\":\"52602\",\"type\":\"Grid\"},{\"attributes\":{\"text\":\"Model weights vs iteration\"},\"id\":\"52588\",\"type\":\"Title\"},{\"attributes\":{\"data_source\":{\"id\":\"52586\",\"type\":\"ColumnDataSource\"},\"glyph\":{\"id\":\"52635\",\"type\":\"Line\"},\"hover_glyph\":null,\"muted_glyph\":null,\"nonselection_glyph\":{\"id\":\"52636\",\"type\":\"Line\"},\"selection_glyph\":null,\"view\":{\"id\":\"52638\",\"type\":\"CDSView\"}},\"id\":\"52637\",\"type\":\"GlyphRenderer\"},{\"attributes\":{\"active_drag\":\"auto\",\"active_inspect\":\"auto\",\"active_multi\":null,\"active_scroll\":\"auto\",\"active_tap\":\"auto\",\"tools\":[{\"id\":\"52608\",\"type\":\"PanTool\"},{\"id\":\"52609\",\"type\":\"WheelZoomTool\"},{\"id\":\"52610\",\"type\":\"BoxZoomTool\"},{\"id\":\"52611\",\"type\":\"SaveTool\"},{\"id\":\"52612\",\"type\":\"ResetTool\"},{\"id\":\"52613\",\"type\":\"HelpTool\"},{\"id\":\"52662\",\"type\":\"HoverTool\"}]},\"id\":\"52614\",\"type\":\"Toolbar\"},{\"attributes\":{\"callback\":null},\"id\":\"52590\",\"type\":\"DataRange1d\"}],\"root_ids\":[\"52587\"]},\"title\":\"Bokeh Application\",\"version\":\"1.4.0\"}};\n",
       "  var render_items = [{\"docid\":\"c5edc245-5660-4f58-96fb-b21332e8dd56\",\"roots\":{\"52587\":\"eaea9ce5-b666-4804-907d-074ae12c481c\"}}];\n",
       "  root.Bokeh.embed.embed_items_notebook(docs_json, render_items);\n",
       "\n",
       "  }\n",
       "  if (root.Bokeh !== undefined) {\n",
       "    embed_document(root);\n",
       "  } else {\n",
       "    var attempts = 0;\n",
       "    var timer = setInterval(function(root) {\n",
       "      if (root.Bokeh !== undefined) {\n",
       "        clearInterval(timer);\n",
       "        embed_document(root);\n",
       "      } else {\n",
       "        attempts++;\n",
       "        if (attempts > 100) {\n",
       "          clearInterval(timer);\n",
       "          console.log(\"Bokeh: ERROR: Unable to run BokehJS code because BokehJS library is missing\");\n",
       "        }\n",
       "      }\n",
       "    }, 10, root)\n",
       "  }\n",
       "})(window);"
      ],
      "application/vnd.bokehjs_exec.v0+json": ""
     },
     "metadata": {
      "application/vnd.bokehjs_exec.v0+json": {
       "id": "52587"
      }
     },
     "output_type": "display_data"
    }
   ],
   "source": [
    "pl.plot_weights()"
   ]
  },
  {
   "cell_type": "code",
   "execution_count": 104,
   "metadata": {},
   "outputs": [
    {
     "data": {
      "text/html": [
       "\n",
       "\n",
       "\n",
       "\n",
       "\n",
       "\n",
       "  <div class=\"bk-root\" id=\"ecf2a3a9-359e-4d0c-957c-921512120788\" data-root-id=\"53605\"></div>\n"
      ]
     },
     "metadata": {},
     "output_type": "display_data"
    },
    {
     "data": {
      "application/javascript": [
       "(function(root) {\n",
       "  function embed_document(root) {\n",
       "    \n",
       "  var docs_json = {\"81fd55c4-40e4-4279-9cd8-ef1294ef8561\":{\"roots\":{\"references\":[{\"attributes\":{\"below\":[{\"id\":\"53616\",\"type\":\"LinearAxis\"}],\"center\":[{\"id\":\"53620\",\"type\":\"Grid\"},{\"id\":\"53625\",\"type\":\"Grid\"},{\"id\":\"53650\",\"type\":\"Legend\"}],\"left\":[{\"id\":\"53621\",\"type\":\"LinearAxis\"}],\"plot_height\":400,\"plot_width\":700,\"renderers\":[{\"id\":\"53642\",\"type\":\"GlyphRenderer\"}],\"title\":{\"id\":\"53606\",\"type\":\"Title\"},\"toolbar\":{\"id\":\"53632\",\"type\":\"Toolbar\"},\"x_range\":{\"id\":\"53608\",\"type\":\"DataRange1d\"},\"x_scale\":{\"id\":\"53612\",\"type\":\"LinearScale\"},\"y_range\":{\"id\":\"53610\",\"type\":\"DataRange1d\"},\"y_scale\":{\"id\":\"53614\",\"type\":\"LinearScale\"}},\"id\":\"53605\",\"subtype\":\"Figure\",\"type\":\"Plot\"},{\"attributes\":{\"ticker\":{\"id\":\"53617\",\"type\":\"BasicTicker\"}},\"id\":\"53620\",\"type\":\"Grid\"},{\"attributes\":{\"bottom_units\":\"screen\",\"fill_alpha\":{\"value\":0.5},\"fill_color\":{\"value\":\"lightgrey\"},\"left_units\":\"screen\",\"level\":\"overlay\",\"line_alpha\":{\"value\":1.0},\"line_color\":{\"value\":\"black\"},\"line_dash\":[4,4],\"line_width\":{\"value\":2},\"render_mode\":\"css\",\"right_units\":\"screen\",\"top_units\":\"screen\"},\"id\":\"53649\",\"type\":\"BoxAnnotation\"},{\"attributes\":{\"data_source\":{\"id\":\"53604\",\"type\":\"ColumnDataSource\"},\"glyph\":{\"id\":\"53640\",\"type\":\"Line\"},\"hover_glyph\":null,\"muted_glyph\":null,\"nonselection_glyph\":{\"id\":\"53641\",\"type\":\"Line\"},\"selection_glyph\":null,\"view\":{\"id\":\"53643\",\"type\":\"CDSView\"}},\"id\":\"53642\",\"type\":\"GlyphRenderer\"},{\"attributes\":{},\"id\":\"53612\",\"type\":\"LinearScale\"},{\"attributes\":{},\"id\":\"53617\",\"type\":\"BasicTicker\"},{\"attributes\":{\"items\":[{\"id\":\"53651\",\"type\":\"LegendItem\"}]},\"id\":\"53650\",\"type\":\"Legend\"},{\"attributes\":{},\"id\":\"54552\",\"type\":\"Selection\"},{\"attributes\":{\"line_color\":\"#1f77b4\",\"line_width\":2,\"x\":{\"field\":\"Iteration\"},\"y\":{\"field\":\"lr\"}},\"id\":\"53640\",\"type\":\"Line\"},{\"attributes\":{\"formatter\":{\"id\":\"53648\",\"type\":\"BasicTickFormatter\"},\"ticker\":{\"id\":\"53622\",\"type\":\"BasicTicker\"}},\"id\":\"53621\",\"type\":\"LinearAxis\"},{\"attributes\":{\"formatter\":{\"id\":\"53646\",\"type\":\"BasicTickFormatter\"},\"ticker\":{\"id\":\"53617\",\"type\":\"BasicTicker\"}},\"id\":\"53616\",\"type\":\"LinearAxis\"},{\"attributes\":{\"line_alpha\":0.1,\"line_color\":\"#1f77b4\",\"line_width\":2,\"x\":{\"field\":\"Iteration\"},\"y\":{\"field\":\"lr\"}},\"id\":\"53641\",\"type\":\"Line\"},{\"attributes\":{\"callback\":null},\"id\":\"53608\",\"type\":\"DataRange1d\"},{\"attributes\":{\"overlay\":{\"id\":\"53649\",\"type\":\"BoxAnnotation\"}},\"id\":\"53628\",\"type\":\"BoxZoomTool\"},{\"attributes\":{\"callback\":null},\"id\":\"53610\",\"type\":\"DataRange1d\"},{\"attributes\":{\"text\":\"Hyper parameters ('lr') vs iteration\"},\"id\":\"53606\",\"type\":\"Title\"},{\"attributes\":{\"active_drag\":\"auto\",\"active_inspect\":\"auto\",\"active_multi\":null,\"active_scroll\":\"auto\",\"active_tap\":\"auto\",\"tools\":[{\"id\":\"53626\",\"type\":\"PanTool\"},{\"id\":\"53627\",\"type\":\"WheelZoomTool\"},{\"id\":\"53628\",\"type\":\"BoxZoomTool\"},{\"id\":\"53629\",\"type\":\"SaveTool\"},{\"id\":\"53630\",\"type\":\"ResetTool\"},{\"id\":\"53631\",\"type\":\"HelpTool\"},{\"id\":\"53652\",\"type\":\"HoverTool\"}]},\"id\":\"53632\",\"type\":\"Toolbar\"},{\"attributes\":{},\"id\":\"53646\",\"type\":\"BasicTickFormatter\"},{\"attributes\":{\"callback\":null,\"formatters\":{\"Iteration\":\"numeral\",\"lr\":\"numeral\"},\"tooltips\":[[\"Iteration\",\"@Iteration\"],[\"lr\",\"@lr\"]]},\"id\":\"53652\",\"type\":\"HoverTool\"},{\"attributes\":{\"dimension\":1,\"ticker\":{\"id\":\"53622\",\"type\":\"BasicTicker\"}},\"id\":\"53625\",\"type\":\"Grid\"},{\"attributes\":{\"source\":{\"id\":\"53604\",\"type\":\"ColumnDataSource\"}},\"id\":\"53643\",\"type\":\"CDSView\"},{\"attributes\":{\"label\":{\"value\":\"lr\"},\"renderers\":[{\"id\":\"53642\",\"type\":\"GlyphRenderer\"}]},\"id\":\"53651\",\"type\":\"LegendItem\"},{\"attributes\":{},\"id\":\"53648\",\"type\":\"BasicTickFormatter\"},{\"attributes\":{},\"id\":\"53629\",\"type\":\"SaveTool\"},{\"attributes\":{},\"id\":\"53626\",\"type\":\"PanTool\"},{\"attributes\":{},\"id\":\"53627\",\"type\":\"WheelZoomTool\"},{\"attributes\":{\"callback\":null,\"data\":{\"Iteration\":{\"__ndarray__\":\"AAAAAAEAAAACAAAAAwAAAA==\",\"dtype\":\"int32\",\"shape\":[4]},\"lr\":[0.01,0.01,0.01,0.01]},\"selected\":{\"id\":\"54552\",\"type\":\"Selection\"},\"selection_policy\":{\"id\":\"54551\",\"type\":\"UnionRenderers\"}},\"id\":\"53604\",\"type\":\"ColumnDataSource\"},{\"attributes\":{},\"id\":\"53631\",\"type\":\"HelpTool\"},{\"attributes\":{},\"id\":\"53622\",\"type\":\"BasicTicker\"},{\"attributes\":{},\"id\":\"53630\",\"type\":\"ResetTool\"},{\"attributes\":{},\"id\":\"53614\",\"type\":\"LinearScale\"},{\"attributes\":{},\"id\":\"54551\",\"type\":\"UnionRenderers\"}],\"root_ids\":[\"53605\"]},\"title\":\"Bokeh Application\",\"version\":\"1.4.0\"}};\n",
       "  var render_items = [{\"docid\":\"81fd55c4-40e4-4279-9cd8-ef1294ef8561\",\"roots\":{\"53605\":\"ecf2a3a9-359e-4d0c-957c-921512120788\"}}];\n",
       "  root.Bokeh.embed.embed_items_notebook(docs_json, render_items);\n",
       "\n",
       "  }\n",
       "  if (root.Bokeh !== undefined) {\n",
       "    embed_document(root);\n",
       "  } else {\n",
       "    var attempts = 0;\n",
       "    var timer = setInterval(function(root) {\n",
       "      if (root.Bokeh !== undefined) {\n",
       "        clearInterval(timer);\n",
       "        embed_document(root);\n",
       "      } else {\n",
       "        attempts++;\n",
       "        if (attempts > 100) {\n",
       "          clearInterval(timer);\n",
       "          console.log(\"Bokeh: ERROR: Unable to run BokehJS code because BokehJS library is missing\");\n",
       "        }\n",
       "      }\n",
       "    }, 10, root)\n",
       "  }\n",
       "})(window);"
      ],
      "application/vnd.bokehjs_exec.v0+json": ""
     },
     "metadata": {
      "application/vnd.bokehjs_exec.v0+json": {
       "id": "53605"
      }
     },
     "output_type": "display_data"
    }
   ],
   "source": [
    "pl.plot_hyper_params()"
   ]
  },
  {
   "cell_type": "code",
   "execution_count": 96,
   "metadata": {},
   "outputs": [
    {
     "data": {
      "application/vnd.jupyter.widget-view+json": {
       "model_id": "207b7b345d3c445c86a978c5562fb110",
       "version_major": 2,
       "version_minor": 0
      },
      "text/plain": [
       "interactive(children=(IntSlider(value=19, description='i', max=39), Output()), _dom_classes=('widget-interact'…"
      ]
     },
     "metadata": {},
     "output_type": "display_data"
    }
   ],
   "source": [
    "interactive_plot = interactive(pl.plot_iteration, i=(0, len(pl.stats.x)-1))\n",
    "interactive_plot"
   ]
  },
  {
   "cell_type": "code",
   "execution_count": 184,
   "metadata": {},
   "outputs": [
    {
     "data": {
      "image/png": "[encoded data removed]",
      "text/plain": [
       "<Figure size 720x576 with 1 Axes>"
      ]
     },
     "metadata": {
      "needs_background": "light"
     },
     "output_type": "display_data"
    }
   ],
   "source": [
    "fig, ax = plt.subplots(figsize=(10, 8))\n",
    "ax.plot(x, y, \".\", label=\"data\")\n",
    "\n",
    "with torch.no_grad():\n",
    "    _x = torch.linspace(x.min(), x.max(), 1000)\n",
    "    ax.plot(_x, lm(polynomify(_x, deg)), \"-\", label=\"estimated model\")\n",
    "    ax.plot(_x, lm_ori(polynomify(_x, deg)), \"--\", label=\"true model\")\n",
    "ax.legend(title=\"Source\")\n",
    "ax.set_xlabel(\"x\")\n",
    "ax.set_ylabel(\"y\")\n",
    "ax.set_title(\"Model vs original data\")\n",
    "plt.show()"
   ]
  },
  {
   "cell_type": "code",
   "execution_count": null,
   "metadata": {},
   "outputs": [],
   "source": []
  },
  {
   "cell_type": "markdown",
   "metadata": {},
   "source": [
    "## OLD"
   ]
  },
  {
   "cell_type": "code",
   "execution_count": 7,
   "metadata": {},
   "outputs": [],
   "source": [
    "train_idx, valid_idx = get_train_valid_idx(x, y, val_pct=.8)\n",
    "xy_train_ds = XYDataset(x[train_idx], y[train_idx])\n",
    "xy_valid_ds = XYDataset(x[valid_idx], y[valid_idx])"
   ]
  },
  {
   "cell_type": "code",
   "execution_count": 8,
   "metadata": {},
   "outputs": [
    {
     "data": {
      "text/plain": [
       "(tensor(2.6364, dtype=torch.float64), tensor(26.7277, dtype=torch.float64))"
      ]
     },
     "execution_count": 8,
     "metadata": {},
     "output_type": "execute_result"
    }
   ],
   "source": [
    "xy_train_ds[2]"
   ]
  },
  {
   "cell_type": "code",
   "execution_count": 9,
   "metadata": {},
   "outputs": [
    {
     "data": {
      "text/plain": [
       "(tensor(0.0505, dtype=torch.float64), tensor(9.9704, dtype=torch.float64))"
      ]
     },
     "execution_count": 9,
     "metadata": {},
     "output_type": "execute_result"
    }
   ],
   "source": [
    "xy_valid_ds[4]"
   ]
  },
  {
   "cell_type": "markdown",
   "metadata": {},
   "source": [
    "Creating a `DataBunch` version 1 via `torch.utils.data.DataLoader`"
   ]
  },
  {
   "cell_type": "code",
   "execution_count": 8,
   "metadata": {},
   "outputs": [],
   "source": [
    "device = \"cpu\" # \"cuda:0\""
   ]
  },
  {
   "cell_type": "code",
   "execution_count": 9,
   "metadata": {},
   "outputs": [
    {
     "name": "stdout",
     "output_type": "stream",
     "text": [
      "(tensor([-1.0347, -0.9406, -1.0914, -0.8036, -0.7749], dtype=torch.float64), tensor([11.0305, 10.8197, 10.9484, 10.5121, 10.6429], dtype=torch.float64))\n"
     ]
    }
   ],
   "source": [
    "def noisify(xy):\n",
    "    x, y = xy\n",
    "    if not torch.is_tensor(x):\n",
    "        x = torch.from_numpy(x).clone().to(device)\n",
    "    if not torch.is_tensor(y):\n",
    "        y = torch.from_numpy(y).clone().to(device)\n",
    "    \n",
    "    dx = torch.normal(mean=0., std=.1, size=x.size()).to(device)\n",
    "    dy = torch.normal(mean=0., std=.1, size=y.size()).to(device)\n",
    "    return x + dx, y + dy\n",
    "\n",
    "print(noisify((x[:5], y[:5])))"
   ]
  },
  {
   "cell_type": "code",
   "execution_count": 10,
   "metadata": {},
   "outputs": [],
   "source": [
    "bs = 10"
   ]
  },
  {
   "cell_type": "code",
   "execution_count": 11,
   "metadata": {},
   "outputs": [],
   "source": [
    "xy_train_loader = torch.utils.data.DataLoader(xy_train_ds, batch_size=bs, shuffle=True)\n",
    "xy_valid_loader = torch.utils.data.DataLoader(xy_valid_ds, batch_size=bs, shuffle=True)\n",
    "xy_db = basic_data.DataBunch(train_dl=xy_train_loader, valid_dl=xy_valid_loader) #, dl_tfms=noisify)"
   ]
  },
  {
   "cell_type": "code",
   "execution_count": 12,
   "metadata": {},
   "outputs": [],
   "source": [
    "class PolyModel(torch.nn.Module):\n",
    "    \n",
    "    def __init__(self, deg: int = 1):\n",
    "        super().__init__()\n",
    "        self.deg = deg\n",
    "        self.w = torch.nn.Parameter(torch.randn(deg))\n",
    "        \n",
    "    def forward(self, x):\n",
    "        if isinstance(x, list):\n",
    "            x = x[1]\n",
    "        n = len(x)\n",
    "        X = torch.empty(n, self.deg)\n",
    "        #print(\"X\", X)\n",
    "        for i in range(self.deg):\n",
    "            X[:,i] = x ** (self.deg-i-1)\n",
    "        #print(\"\\nX\", X)\n",
    "        return X @ self.w\n",
    "\n",
    "def MSELoss(pred, truth):\n",
    "    return ((pred-truth)**2).mean()"
   ]
  },
  {
   "cell_type": "code",
   "execution_count": 13,
   "metadata": {},
   "outputs": [
    {
     "data": {
      "text/plain": [
       "Parameter containing:\n",
       "tensor([ 0.9291, -1.0773,  0.2154], requires_grad=True)"
      ]
     },
     "execution_count": 13,
     "metadata": {},
     "output_type": "execute_result"
    }
   ],
   "source": [
    "pm = PolyModel(deg=3)\n",
    "pm(torch.randn(5))\n",
    "pm.w"
   ]
  },
  {
   "cell_type": "code",
   "execution_count": 17,
   "metadata": {},
   "outputs": [],
   "source": [
    "opt = torch.optim.SGD(params=[pm.w], lr=.01)"
   ]
  },
  {
   "cell_type": "code",
   "execution_count": 18,
   "metadata": {},
   "outputs": [],
   "source": [
    "losses = []"
   ]
  },
  {
   "cell_type": "code",
   "execution_count": 19,
   "metadata": {},
   "outputs": [
    {
     "name": "stdout",
     "output_type": "stream",
     "text": [
      "295.64493750051815\n",
      "107.184693055059\n",
      "74.8890207859915\n",
      "60.163740471084054\n",
      "59.966497442470356\n"
     ]
    }
   ],
   "source": [
    "for i in range(5):\n",
    "    opt.zero_grad()\n",
    "    _x, _y = xy_db.one_batch()\n",
    "    _y_pred = pm(_x)\n",
    "    loss = MSELoss(_y_pred, _y)\n",
    "    loss.backward()\n",
    "\n",
    "    opt.step()\n",
    "\n",
    "    losses.append(loss.clone().detach().numpy())\n",
    "    print(losses[-1])"
   ]
  },
  {
   "cell_type": "code",
   "execution_count": 20,
   "metadata": {},
   "outputs": [
    {
     "data": {
      "image/png": "[encoded data removed]",
      "text/plain": [
       "<Figure size 720x576 with 1 Axes>"
      ]
     },
     "metadata": {
      "needs_background": "light"
     },
     "output_type": "display_data"
    }
   ],
   "source": [
    "fig, ax = plt.subplots(figsize=(10, 8))\n",
    "ax.plot(x, y, \".\", label=\"data\")\n",
    "with torch.no_grad():\n",
    "    ax.plot(x, pm(torch.from_numpy(x).clone()), \"*\", label=\"model\")\n",
    "ax.legend()\n",
    "plt.show()"
   ]
  },
  {
   "cell_type": "code",
   "execution_count": 22,
   "metadata": {},
   "outputs": [
    {
     "data": {
      "image/png": "[encoded data removed]",
      "text/plain": [
       "<Figure size 720x576 with 1 Axes>"
      ]
     },
     "metadata": {
      "needs_background": "light"
     },
     "output_type": "display_data"
    }
   ],
   "source": [
    "fig, ax = plt.subplots(figsize=(10, 8))\n",
    "ax.plot(range(len(losses)), losses, \"-\", label=\"losses\")\n",
    "plt.show()"
   ]
  },
  {
   "cell_type": "markdown",
   "metadata": {},
   "source": [
    "Creating a `DataBunch` version 2 via `basic_data.DataBunch.create`"
   ]
  },
  {
   "cell_type": "code",
   "execution_count": null,
   "metadata": {},
   "outputs": [],
   "source": [
    "xy_db = basic_data.DataBunch.create(train_ds=xy_train_ds, valid_ds=xy_valid_ds, bs=bs)"
   ]
  },
  {
   "cell_type": "code",
   "execution_count": 122,
   "metadata": {},
   "outputs": [
    {
     "name": "stdout",
     "output_type": "stream",
     "text": [
      "(70,) (30,)\n"
     ]
    },
    {
     "data": {
      "text/html": [
       "<div>\n",
       "<style scoped>\n",
       "    .dataframe tbody tr th:only-of-type {\n",
       "        vertical-align: middle;\n",
       "    }\n",
       "\n",
       "    .dataframe tbody tr th {\n",
       "        vertical-align: top;\n",
       "    }\n",
       "\n",
       "    .dataframe thead th {\n",
       "        text-align: right;\n",
       "    }\n",
       "</style>\n",
       "<table border=\"1\" class=\"dataframe\">\n",
       "  <thead>\n",
       "    <tr style=\"text-align: right;\">\n",
       "      <th></th>\n",
       "      <th>x</th>\n",
       "      <th>y</th>\n",
       "      <th>valid</th>\n",
       "    </tr>\n",
       "  </thead>\n",
       "  <tbody>\n",
       "    <tr>\n",
       "      <th>0</th>\n",
       "      <td>1.343434</td>\n",
       "      <td>14.913624</td>\n",
       "      <td>False</td>\n",
       "    </tr>\n",
       "    <tr>\n",
       "      <th>1</th>\n",
       "      <td>0.898990</td>\n",
       "      <td>12.412504</td>\n",
       "      <td>False</td>\n",
       "    </tr>\n",
       "    <tr>\n",
       "      <th>2</th>\n",
       "      <td>2.717172</td>\n",
       "      <td>27.475066</td>\n",
       "      <td>False</td>\n",
       "    </tr>\n",
       "    <tr>\n",
       "      <th>3</th>\n",
       "      <td>-0.676768</td>\n",
       "      <td>10.253358</td>\n",
       "      <td>False</td>\n",
       "    </tr>\n",
       "    <tr>\n",
       "      <th>4</th>\n",
       "      <td>1.989899</td>\n",
       "      <td>20.181437</td>\n",
       "      <td>False</td>\n",
       "    </tr>\n",
       "  </tbody>\n",
       "</table>\n",
       "</div>"
      ],
      "text/plain": [
       "          x          y  valid\n",
       "0  1.343434  14.913624  False\n",
       "1  0.898990  12.412504  False\n",
       "2  2.717172  27.475066  False\n",
       "3 -0.676768  10.253358  False\n",
       "4  1.989899  20.181437  False"
      ]
     },
     "execution_count": 122,
     "metadata": {},
     "output_type": "execute_result"
    }
   ],
   "source": [
    "n = len(x)\n",
    "n_train = int(.7*n)\n",
    "ix_train = np.random.choice(np.arange(n), replace=False, size=n_train)\n",
    "ix_valid = np.setdiff1d(np.arange(n), ix_train)\n",
    "print(ix_train.shape, ix_valid.shape)\n",
    "\n",
    "df_train = pd.DataFrame({\"x\": x[ix_train], \"y\": y[ix_train]})\n",
    "df_train[\"valid\"] = False\n",
    "df_valid = pd.DataFrame({\"x\": x[ix_valid], \"y\": y[ix_valid]})\n",
    "df_valid[\"valid\"] = True\n",
    "df = pd.concat((df_train, df_valid), ignore_index=True)\n",
    "df.head()"
   ]
  },
  {
   "cell_type": "markdown",
   "metadata": {},
   "source": [
    "Note that if you use the following method the first component returned by `one_batch()` will be a list of two tensors, where the first seems, oddly enough, to have no real purpose. This won't cause an error for the model (`PolyModel`) because it is taken into account there."
   ]
  },
  {
   "cell_type": "code",
   "execution_count": 139,
   "metadata": {},
   "outputs": [],
   "source": [
    "def split_fun(x):\n",
    "    return df[\"set\"][x] == \"valid\"\n",
    "\n",
    "def label_fun(x):\n",
    "    print(x)\n",
    "    return df[\"y\"][x]\n",
    "\n",
    "src = (TabularList.from_df(df=df, cont_names=[\"x\"], procs=[Normalize])\n",
    "      .split_from_df(col=\"valid\")\n",
    "      .label_from_df(cols=\"y\"))\n",
    "\n",
    "xy_db = src.databunch(bs=bs)"
   ]
  },
  {
   "cell_type": "code",
   "execution_count": 143,
   "metadata": {
    "scrolled": true
   },
   "outputs": [
    {
     "data": {
      "text/plain": [
       "(tensor([ 0.7374,  2.1515, -0.6768,  2.7172,  2.6364, -0.9596,  1.5859,  2.4747,\n",
       "          0.4545, -1.0000], dtype=torch.float64),\n",
       " tensor([11.7516, 21.5481, 10.2534, 27.4751, 26.7277, 10.8067, 16.4968, 24.6748,\n",
       "         10.7876, 10.9887], dtype=torch.float64))"
      ]
     },
     "execution_count": 143,
     "metadata": {},
     "output_type": "execute_result"
    }
   ],
   "source": [
    "xy_db.one_batch() # cpu=False"
   ]
  },
  {
   "cell_type": "markdown",
   "metadata": {},
   "source": [
    "## Setting up a polynomial model & loss"
   ]
  },
  {
   "cell_type": "code",
   "execution_count": 136,
   "metadata": {},
   "outputs": [],
   "source": [
    "class PolyModel(torch.nn.Module):\n",
    "    \n",
    "    def __init__(self, deg: int = 1):\n",
    "        super().__init__()\n",
    "        self.deg = deg\n",
    "        self.w = torch.nn.Parameter(torch.randn(deg))\n",
    "        \n",
    "    def forward(self, x):\n",
    "        if isinstance(x, list):\n",
    "            x = x[1]\n",
    "        n = len(x)\n",
    "        X = torch.empty(n, self.deg)\n",
    "        #print(\"X\", X)\n",
    "        for i in range(self.deg):\n",
    "            X[:,i] = x ** (self.deg-i-1)\n",
    "        #print(\"\\nX\", X)\n",
    "        return X @ self.w\n",
    "        "
   ]
  },
  {
   "cell_type": "code",
   "execution_count": 15,
   "metadata": {},
   "outputs": [],
   "source": [
    "def MSELoss(pred, truth):\n",
    "    return ((pred-truth)**2).mean()"
   ]
  },
  {
   "cell_type": "code",
   "execution_count": 144,
   "metadata": {},
   "outputs": [
    {
     "data": {
      "text/plain": [
       "Parameter containing:\n",
       "tensor([ 0.2001,  0.0199, -2.1910], requires_grad=True)"
      ]
     },
     "execution_count": 144,
     "metadata": {},
     "output_type": "execute_result"
    }
   ],
   "source": [
    "pm = PolyModel(deg=3)\n",
    "pm(torch.randn(5))\n",
    "pm.w"
   ]
  },
  {
   "cell_type": "code",
   "execution_count": 145,
   "metadata": {},
   "outputs": [
    {
     "data": {
      "text/plain": [
       "tensor([190.5820,  20.1090,  91.1555,  19.0513, 149.4184,  23.7011,  25.6788,\n",
       "         18.2574,  22.1919,  18.4397], grad_fn=<MvBackward>)"
      ]
     },
     "execution_count": 145,
     "metadata": {},
     "output_type": "execute_result"
    }
   ],
   "source": [
    "_y, _x = xy_db.one_batch()\n",
    "_y_pred = pm(_x)\n",
    "_y_pred"
   ]
  },
  {
   "cell_type": "markdown",
   "metadata": {},
   "source": [
    "## Optimization"
   ]
  },
  {
   "cell_type": "markdown",
   "metadata": {},
   "source": [
    "**Implementing a bunch of optimizers**\n",
    "\n",
    "Simple gradient based"
   ]
  },
  {
   "cell_type": "code",
   "execution_count": 160,
   "metadata": {},
   "outputs": [],
   "source": [
    "class SGD:\n",
    "    \n",
    "    lr = .01\n",
    "    name = \"basic SGD\"\n",
    "    loss = None\n",
    "    \n",
    "    def __init__(self, lr=.01):\n",
    "        self.lr = lr\n",
    "    \n",
    "    def update(self):\n",
    "        _x, _y = xy_db.one_batch()\n",
    "        _y_pred = pm(_x)\n",
    "        loss = MSELoss(_y_pred, _y)\n",
    "        loss.backward()\n",
    "\n",
    "        with torch.no_grad():\n",
    "            pm.w.sub_(pm.w.grad * self.lr)\n",
    "            pm.w.grad.zero_()\n",
    "\n",
    "        self.loss = loss.clone().detach().numpy()\n",
    "        "
   ]
  },
  {
   "cell_type": "markdown",
   "metadata": {},
   "source": [
    "With \"momentum\""
   ]
  },
  {
   "cell_type": "code",
   "execution_count": 164,
   "metadata": {},
   "outputs": [],
   "source": [
    "class SGD_mom:\n",
    "    velo = torch.normal(mean=0, std=.001, size=pm.w.size()).to(device)\n",
    "    momentum = .9\n",
    "    lr = .01\n",
    "    name = \"SGD + momentum\"\n",
    "    loss = None\n",
    "    \n",
    "    def __init__(self, momentum=.9, lr=.01):\n",
    "        self.momentum = momentum\n",
    "        self.lr = lr\n",
    "\n",
    "    def update(self):\n",
    "        _x, _y = xy_db.one_batch()\n",
    "        _y_pred = pm(_x)\n",
    "        loss = MSELoss(_y_pred, _y)\n",
    "        loss.backward()\n",
    "\n",
    "        with torch.no_grad():\n",
    "            self.velo.mul_(self.momentum)\n",
    "            self.velo.add_(self.lr * pm.w.grad)\n",
    "\n",
    "            pm.w.sub_(self.velo)\n",
    "            pm.w.grad.zero_()\n",
    "\n",
    "        self.loss = loss.clone().detach().numpy()\n",
    "        "
   ]
  },
  {
   "cell_type": "markdown",
   "metadata": {},
   "source": [
    "With \"momentum\" and \"weight decay\""
   ]
  },
  {
   "cell_type": "code",
   "execution_count": 168,
   "metadata": {},
   "outputs": [],
   "source": [
    "class SGD_mom_decay:\n",
    "    velo = torch.normal(mean=0, std=.001, size=pm.w.size()).to(device)\n",
    "    momentum = .9\n",
    "    lr = .01\n",
    "    wd = .1\n",
    "    name = \"SGD + momentum + weight decay\"\n",
    "    loss = None\n",
    "    \n",
    "    def __init__(self, momentum=.9, lr=.01, wd=.1):\n",
    "        self.momentum = momentum\n",
    "        self.lr = lr\n",
    "        self.wd = wd\n",
    "\n",
    "    def update(self):\n",
    "        _x, _y = xy_db.one_batch()\n",
    "        _y_pred = pm(_x)\n",
    "        loss = MSELoss(_y_pred, _y)\n",
    "        loss.backward()\n",
    "\n",
    "        with torch.no_grad():\n",
    "            self.velo.mul_(self.momentum)\n",
    "            self.velo.add_(self.lr * pm.w.grad)\n",
    "\n",
    "            pm.w.sub_(self.velo + self.wd*pm.w)\n",
    "            pm.w.grad.zero_()\n",
    "\n",
    "        self.loss = loss.clone().detach().numpy()\n",
    "        "
   ]
  },
  {
   "cell_type": "markdown",
   "metadata": {},
   "source": [
    "RMSProp: [coursera course](https://www.cs.toronto.edu/~tijmen/csc321/slides/lecture_slides_lec6.pdf), [paper](http://arxiv.org/abs/1308.0850), a [blog post](https://towardsdatascience.com/understanding-rmsprop-faster-neural-network-learning-62e116fcf29a)"
   ]
  },
  {
   "cell_type": "code",
   "execution_count": 177,
   "metadata": {},
   "outputs": [],
   "source": [
    "class RMSProp:\n",
    "    velo = torch.normal(mean=0, std=.01, size=pm.w.size()).to(device)\n",
    "    momentum = .9\n",
    "    wd = .1\n",
    "    beta = .9\n",
    "    lr = .01\n",
    "    mag = torch.tensor(1.).to(device)\n",
    "    name = \"RMSProp\"\n",
    "    \n",
    "    def __init__(self, momentum=.9, lr=.01, wd=.1, beta=.9):\n",
    "        self.momentum = momentum\n",
    "        self.lr = lr\n",
    "        self.wd = wd\n",
    "        self.beta = beta\n",
    "    \n",
    "    def update(self):\n",
    "        _x, _y = xy_db.one_batch()\n",
    "        _y_pred = pm(_x)\n",
    "        loss = MSELoss(_y_pred, _y)\n",
    "        loss.backward()\n",
    "\n",
    "        with torch.no_grad():\n",
    "            self.mag.mul_(self.beta)\n",
    "            self.mag.add_((1.-self.beta) * (pm.w @ pm.w))\n",
    "\n",
    "            self.velo.mul_(self.momentum)\n",
    "            self.velo.add_(self.lr/torch.sqrt(self.mag) * pm.w.grad)\n",
    "\n",
    "            pm.w.sub_(self.velo + self.wd*pm.w)\n",
    "            pm.w.grad.zero_()\n",
    "        \n",
    "        self.loss = loss.clone().detach().numpy()\n",
    "        "
   ]
  },
  {
   "cell_type": "markdown",
   "metadata": {},
   "source": [
    "Adam: [arXiv](https://arxiv.org/abs/1412.6980)"
   ]
  },
  {
   "cell_type": "code",
   "execution_count": 184,
   "metadata": {},
   "outputs": [],
   "source": [
    "class Adam:\n",
    "    \n",
    "    moment1 = torch.zeros_like(pm.w, requires_grad=False)\n",
    "    moment2 = torch.zeros_like(pm.w, requires_grad=False)\n",
    "    betas = torch.tensor([.9, .999], requires_grad=False)\n",
    "    eps = torch.tensor(1e-8, requires_grad=False)\n",
    "    lr = .01\n",
    "    name = \"Adam\"\n",
    "    loss = None\n",
    "    \n",
    "    def __init__(self, lr: float = .01, betas: list = [.9, .999], eps: float =1e-8):\n",
    "        self.betas = torch.tensor(betas, requires_grad=False)\n",
    "        self.eps = eps\n",
    "        self.lr = lr\n",
    "    \n",
    "    def update(self):\n",
    "        _x, _y = xy_db.one_batch()\n",
    "        _y_pred = pm(_x)\n",
    "        loss = MSELoss(_y_pred, _y)\n",
    "        loss.backward()\n",
    "\n",
    "        with torch.no_grad():\n",
    "\n",
    "            self.moment1.mul_(self.betas[0])\n",
    "            self.moment1.add_((1.-self.betas[0]) * pm.w.grad)\n",
    "            moment1_hat = self.moment1.div(1.-self.betas[0]**(epoch+1))\n",
    "\n",
    "            self.moment2.mul_(self.betas[1])\n",
    "            self.moment2.add_((1.-self.betas[1]) * (pm.w.grad * pm.w.grad))\n",
    "            moment2_hat = self.moment2.div(1.-self.betas[1]**(epoch+1))\n",
    "\n",
    "            pm.w.sub_(self.lr * moment1_hat / (torch.sqrt(moment2_hat) + self.eps))\n",
    "\n",
    "        self.loss = loss.clone().detach().numpy()\n",
    "    "
   ]
  },
  {
   "cell_type": "code",
   "execution_count": 273,
   "metadata": {},
   "outputs": [],
   "source": [
    "moment1 = torch.zeros_like(pm.w, requires_grad=False)\n",
    "# moment2 = torch.zeros(1, requires_grad=False)\n",
    "moment2 = torch.zeros_like(pm.w, requires_grad=False)\n",
    "betas = torch.tensor([.9, .999], requires_grad=False)\n",
    "eps = torch.tensor(1e-8, requires_grad=False)"
   ]
  },
  {
   "cell_type": "code",
   "execution_count": 274,
   "metadata": {},
   "outputs": [
    {
     "name": "stdout",
     "output_type": "stream",
     "text": [
      "tensor([0., 0., 0.]) tensor([0., 0., 0.]) tensor([0.9000, 0.9990])\n"
     ]
    }
   ],
   "source": [
    "print(moment1, moment2, betas)"
   ]
  },
  {
   "cell_type": "code",
   "execution_count": 275,
   "metadata": {},
   "outputs": [],
   "source": [
    "def update():\n",
    "    _x, _y = xy_db.one_batch()\n",
    "    _y_pred = pm(_x)\n",
    "    loss = MSELoss(_y_pred, _y)\n",
    "    loss.backward()\n",
    "\n",
    "    with torch.no_grad():\n",
    "        \n",
    "        moment1.mul_(betas[0])\n",
    "        moment1.add_((1.-betas[0]) * pm.w.grad)\n",
    "        moment1_hat = moment1.div(1.-betas[0]**(epoch+1))\n",
    "        \n",
    "        moment2.mul_(betas[1])\n",
    "        moment2.add_((1.-betas[1]) * (pm.w.grad * pm.w.grad))\n",
    "        moment2_hat = moment2.div(1.-betas[1]**(epoch+1))\n",
    "        \n",
    "        pm.w.sub_(lr * moment1_hat / (torch.sqrt(moment2_hat) + eps))\n",
    "    \n",
    "    losses.append(loss.clone().detach().numpy())\n",
    "    update_method.append(\"Adam\")"
   ]
  },
  {
   "cell_type": "markdown",
   "metadata": {},
   "source": [
    "Covariance Matrix Adaption Evolution Strategy (CMA-ES): [tutorial](https://arxiv.org/abs/1604.00772), [wiki](https://en.wikipedia.org/wiki/CMA-ES)\n",
    "You may also want to check out [this](https://eli.thegreenplace.net/2011/05/15/understanding-unboundlocalerror-in-python) for variable scoping."
   ]
  },
  {
   "cell_type": "code",
   "execution_count": 218,
   "metadata": {},
   "outputs": [],
   "source": [
    "class CMA_ES:\n",
    "    \n",
    "    _lambda = 9 # number of agents\n",
    "    mu = 4 # number of children which survive the culling\n",
    "    N = pm.w.size()[0] # number of parameters\n",
    "\n",
    "    m = pm.w.clone().detach() # position of the normal distribution\n",
    "    sigma = .3 # coordinate wise standard deviation (step size)\n",
    "    weights = None   # recombination weights\n",
    "    mueff = None\n",
    "\n",
    "    # Strategy parameter setting: Adaptation\n",
    "    cc = None # time constant for cumulation for C\n",
    "    cs = None # t-const for cumulation for sigma control\n",
    "    c1 = None # learning rate for rank-one update of C\n",
    "    cmu = None\n",
    "    damps = None # damping for sigma, usually close to 1\n",
    "    \n",
    "    # Initialize dynamic (internal) strategy parameters and constants\n",
    "    pc = torch.zeros(1, N).detach() # evolution paths for C and sigma\n",
    "    ps = torch.zeros(1, N).detach() # evolution paths for C and sigma\n",
    "    \n",
    "\n",
    "    C = torch.eye(n=N, dtype=torch.float).detach()\n",
    "    B = torch.eye(N, N).detach() # B defines the coordinate system\n",
    "    D = torch.ones(N).detach() # diagonal D defines the scaling\n",
    "    invsqrtC = B @ torch.diag(1 / D) @ B.transpose(0, 1)\n",
    "    \n",
    "    eigeneval = 0 # track update of B and D\n",
    "    chiN = N**.5 * (1. - 1./(4.*N) + 1./(21.*N**2))\n",
    "    \n",
    "    name = \"CMA-ES\"\n",
    "    \n",
    "    def __init__(self, _lambda: int = 9, mu: int = 4, sigma: float = .3):\n",
    "        self._lambda = _lambda\n",
    "        self.mu = mu\n",
    "        self.sigma = sigma\n",
    "        \n",
    "        with torch.no_grad():\n",
    "            #self.agents = torch.ones((_lambda, self.N)).detach()\n",
    "            self.weights = torch.ones(mu).detach()/float(mu)\n",
    "            self.mueff = self.weights.sum()**2 / (self.weights @ self.weights).sum()\n",
    "\n",
    "            self.cc = (4. + self.mueff / self.N) / (self.N + 4 + 2 * self.mueff / self.N) # time constant for cumulation for C\n",
    "            self.cs = (self.mueff + 2) / (self.N + self.mueff + 5) # t-const for cumulation for sigma control\n",
    "            self.c1 = 2 / ((self.N+1.3)**2 + self.mueff) # learning rate for rank-one update of C\n",
    "            self.cmu = min([1 - self.c1, 2 * (self.mueff - 2 + 1 / self.mueff) / ((self.N + 2)**2 + self.mueff)])\n",
    "            self.damps = 1 + 2 * max(0, torch.sqrt((self.mueff - 1)/(self.N + 1)) - 1) + self.cs # damping for sigma, usually close to 1\n",
    "\n",
    "    def update(self):\n",
    "\n",
    "        _x, _y = xy_db.one_batch()\n",
    "        _y_pred = pm(_x)\n",
    "        loss = MSELoss(_y_pred, _y)\n",
    "\n",
    "        with torch.no_grad():\n",
    "\n",
    "\n",
    "            agents = (torch.distributions.multivariate_normal.MultivariateNormal(self.m, covariance_matrix = self.C)\n",
    "                      .sample(sample_shape=torch.Size([self._lambda])))\n",
    "\n",
    "            for _i in range(self._lambda):\n",
    "                pm.w = torch.nn.Parameter(agents[_i])\n",
    "                _y_pred = pm(_x)\n",
    "                fitnesses[_i] = MSELoss(_y_pred, _y)\n",
    "\n",
    "            idx = torch.argsort(fitnesses)[:self.mu] # assumes that the best individuals are those with the lowest fitness values\n",
    "\n",
    "            m_new = agents[idx].mean(dim=0)\n",
    "\n",
    "            # Update evolution paths     \n",
    "            self.ps = (1-self.cs) * self.ps + torch.sqrt(self.cs * (2-self.cs)*self.mueff) \\\n",
    "                      * self.invsqrtC @ (m_new - self.m)/self.sigma\n",
    "\n",
    "            hsig = 2./(self.N+1.)\n",
    "            if not (torch.norm(self.ps) / torch.sqrt(1-(1-self.cs)**(2*(epoch+1)/self._lambda))/self.chiN < 1.4):\n",
    "                hsig += 1.\n",
    "\n",
    "            self.pc = (1-self.cc) * self.pc + hsig * torch.sqrt(self.cc * (2-self.cc)*self.mueff) \\\n",
    "                      * (m_new - self.m)/self.sigma\n",
    "\n",
    "            # Adapt covariance matrix C\n",
    "            artmp = 1/self.sigma * (agents[idx] - self.m)\n",
    "\n",
    "            self.C = (1. - self.c1 - self.cmu) * self.C \\\n",
    "                      + self.c1 * ( \\\n",
    "                              torch.einsum(\"i,j->ij\", self.pc[0], self.pc[0]) \\\n",
    "                              + (1-hsig) * self.cc*(2-self.cc) * self.C\n",
    "                             ) \\\n",
    "                      + self.cmu * artmp.transpose(0, 1) @ torch.diag(self.weights) @ artmp\n",
    "\n",
    "            self.sigma = self.sigma * torch.exp((self.cs/self.damps)*(torch.norm(self.ps)/self.chiN - 1.))\n",
    "\n",
    "            if epoch - self.eigeneval > self._lambda/(self.c1+self.cmu)/self.N/10.:\n",
    "\n",
    "                self.eigeneval = epoch\n",
    "                self.C = self.C.triu() + self.C.triu(1).transpose(0, 1)\n",
    "                (D, B) = self.C.eig(eigenvectors=True)\n",
    "                self.invsqrtC = B @ torch.diag(1./D[:,0]) @ B.transpose(0, 1)\n",
    "\n",
    "            pm.w = torch.nn.Parameter(m_new)\n",
    "            self.m = m_new.clone()\n",
    "            \n",
    "            \n",
    "        \n",
    "        self.loss = loss.clone().detach().numpy()\n"
   ]
  },
  {
   "cell_type": "markdown",
   "metadata": {},
   "source": [
    "With one of pytorch's optimizers"
   ]
  },
  {
   "cell_type": "code",
   "execution_count": 222,
   "metadata": {},
   "outputs": [],
   "source": [
    "# opt = torch.optim.SGD(pm.parameters(), lr=.01, momentum=.9)\n",
    "\n",
    "class PyTorch:\n",
    "    \n",
    "    opt = None\n",
    "    loss = None\n",
    "    name = \"pytorch optimizer\"\n",
    "    \n",
    "    def __init__(self, opt: torch.optim.Optimizer):\n",
    "        self.opt = opt\n",
    "        \n",
    "    def update(self):\n",
    "        self.opt.zero_grad()\n",
    "        _x, _y = xy_db.one_batch()\n",
    "        _y_pred = pm(_x)\n",
    "        loss = MSELoss(_y_pred, _y)\n",
    "        loss.backward()\n",
    "\n",
    "        self.opt.step()\n",
    "\n",
    "        self.loss = loss.clone().detach().numpy()\n"
   ]
  },
  {
   "cell_type": "markdown",
   "metadata": {},
   "source": [
    "**Running an optimizer for a while**"
   ]
  },
  {
   "cell_type": "code",
   "execution_count": 253,
   "metadata": {},
   "outputs": [
    {
     "data": {
      "text/plain": [
       "tensor([-1.2038,  1.7112,  0.0200,  0.0604,  3.5957], grad_fn=<MvBackward>)"
      ]
     },
     "execution_count": 253,
     "metadata": {},
     "output_type": "execute_result"
    }
   ],
   "source": [
    "# initialize random weights\n",
    "pm = PolyModel(deg=3)\n",
    "pm(torch.randn(5))"
   ]
  },
  {
   "cell_type": "code",
   "execution_count": 179,
   "metadata": {},
   "outputs": [],
   "source": [
    "lr = .05 # for some reason the adam implementation requires a much larger (.9+) \"learning rate\" than the other algs\n",
    "n_epochs = 50"
   ]
  },
  {
   "cell_type": "code",
   "execution_count": 248,
   "metadata": {},
   "outputs": [],
   "source": [
    "losses = []\n",
    "update_method = []"
   ]
  },
  {
   "cell_type": "code",
   "execution_count": 129,
   "metadata": {},
   "outputs": [
    {
     "data": {
      "text/plain": [
       "Parameter containing:\n",
       "tensor([-0.1029, -0.8630,  1.1719], requires_grad=True)"
      ]
     },
     "execution_count": 129,
     "metadata": {},
     "output_type": "execute_result"
    }
   ],
   "source": [
    "pm.w"
   ]
  },
  {
   "cell_type": "code",
   "execution_count": 225,
   "metadata": {
    "scrolled": true
   },
   "outputs": [],
   "source": [
    "# _optimizer = SGD(lr=.01)\n",
    "# _optimizer = SGD_mom(lr=.01, momentum=.9)\n",
    "# _optimizer = SGD_mom_decay(lr=.01, momentum=.9, wd=.1)\n",
    "# _optimizer = RMSProp(lr=.01, momentum=.9, wd=.1, beta=.9)\n",
    "# _optimizer = Adam(lr=.01, betas=[.9, .999], eps=1e-8)\n",
    "# _optimizer = CMA_ES(_lambda=9, mu=4, sigma=.3)\n",
    "_optimizer = PyTorch(opt=torch.optim.SGD(pm.parameters(), lr=.01, momentum=.9))\n",
    "\n",
    "for epoch in range(n_epochs): # range(n_epochs):\n",
    "    #update()\n",
    "    _optimizer.update()\n",
    "    update_method.append(_optimizer.name)\n",
    "    losses.append(_optimizer.loss)"
   ]
  },
  {
   "cell_type": "code",
   "execution_count": 93,
   "metadata": {},
   "outputs": [
    {
     "data": {
      "text/plain": [
       "Parameter containing:\n",
       "tensor([2.0940, 1.1121, 9.3637], requires_grad=True)"
      ]
     },
     "execution_count": 93,
     "metadata": {},
     "output_type": "execute_result"
    }
   ],
   "source": [
    "pm.w"
   ]
  },
  {
   "cell_type": "markdown",
   "metadata": {},
   "source": [
    "**Running a bunch of different optimizers**\n",
    "\n",
    "Essentially the same as above but directly running a series of optimizers."
   ]
  },
  {
   "cell_type": "code",
   "execution_count": 254,
   "metadata": {},
   "outputs": [],
   "source": [
    "w0 = pm.w.clone()"
   ]
  },
  {
   "cell_type": "code",
   "execution_count": 261,
   "metadata": {},
   "outputs": [
    {
     "name": "stdout",
     "output_type": "stream",
     "text": [
      "\n",
      " <__main__.PyTorch object at 0x000001C2F9BA4808>\n",
      "Parameter containing:\n",
      "tensor([-0.7629,  2.3541,  1.8252], requires_grad=True)\n"
     ]
    }
   ],
   "source": [
    "optimizers = [\n",
    "#     SGD(lr=.01),\n",
    "#     SGD_mom(lr=.01, momentum=.9),\n",
    "#     SGD_mom_decay(lr=.01, momentum=.9, wd=.1),\n",
    "#     RMSProp(lr=.01, momentum=.9, wd=.1, beta=.9),\n",
    "#     Adam(lr=.01, betas=[.9, .999], eps=1e-8),\n",
    "#     CMA_ES(_lambda=9, mu=4, sigma=.3),\n",
    "    PyTorch(opt=torch.optim.SGD(pm.parameters(), lr=.1, momentum=.9))\n",
    "]\n",
    "\n",
    "for _optimizer in optimizers:\n",
    "    print(\"\\n\", _optimizer)\n",
    "    pm.w = torch.nn.Parameter(w0.clone())\n",
    "    for epoch in range(n_epochs):\n",
    "        _optimizer.update()\n",
    "        update_method.append(_optimizer.name)\n",
    "        losses.append(_optimizer.loss)\n",
    "    print(pm.w)"
   ]
  },
  {
   "cell_type": "markdown",
   "metadata": {},
   "source": [
    "**How well is the data fitted for a single weights vector?**"
   ]
  },
  {
   "cell_type": "code",
   "execution_count": 262,
   "metadata": {
    "scrolled": true
   },
   "outputs": [
    {
     "data": {
      "image/png": "[encoded data removed]",
      "text/plain": [
       "<Figure size 720x576 with 1 Axes>"
      ]
     },
     "metadata": {
      "needs_background": "light"
     },
     "output_type": "display_data"
    }
   ],
   "source": [
    "fig, ax = plt.subplots(figsize=(10, 8))\n",
    "ax.plot(x, y, \".\", label=\"data\")\n",
    "with torch.no_grad():\n",
    "    ax.plot(x, pm(torch.from_numpy(x).clone()), \"*\", label=\"model\")\n",
    "ax.legend()\n",
    "plt.show()"
   ]
  },
  {
   "cell_type": "markdown",
   "metadata": {},
   "source": [
    "**Loss plots over multiple optimization methods**"
   ]
  },
  {
   "cell_type": "code",
   "execution_count": 263,
   "metadata": {},
   "outputs": [
    {
     "data": {
      "image/png": "[encoded data removed]",
      "text/plain": [
       "<Figure size 720x576 with 1 Axes>"
      ]
     },
     "metadata": {
      "needs_background": "light"
     },
     "output_type": "display_data"
    }
   ],
   "source": [
    "df_plot = pd.DataFrame({\"update_method\": update_method, \"losses\": np.array(losses), \"epoch\": np.arange(len(losses))})\n",
    "\n",
    "fig, ax = plt.subplots(figsize=(10, 8))\n",
    "sns.lineplot(data=df_plot, x=\"epoch\", y=\"losses\", ax=ax , hue=\"update_method\")\n",
    "\n",
    "ax.set_xlabel(\"Epoch\")\n",
    "ax.set_ylabel(\"Loss\")\n",
    "ax.legend(title=\"Update method\")\n",
    "plt.show()"
   ]
  },
  {
   "cell_type": "code",
   "execution_count": null,
   "metadata": {},
   "outputs": [],
   "source": []
  }
 ],
 "metadata": {
  "kernelspec": {
   "display_name": "Python [conda env:py37_fastai]",
   "language": "python",
   "name": "conda-env-py37_fastai-py"
  },
  "language_info": {
   "codemirror_mode": {
    "name": "ipython",
    "version": 3
   },
   "file_extension": ".py",
   "mimetype": "text/x-python",
   "name": "python",
   "nbconvert_exporter": "python",
   "pygments_lexer": "ipython3",
   "version": "3.7.5"
  }
 },
 "nbformat": 4,
 "nbformat_minor": 2
}
