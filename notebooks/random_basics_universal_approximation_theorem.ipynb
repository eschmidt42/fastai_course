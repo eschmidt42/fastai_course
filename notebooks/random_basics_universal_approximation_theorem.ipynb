{
 "cells": [
  {
   "cell_type": "markdown",
   "metadata": {},
   "source": [
    "# Random basics - universal approximation theorem\n",
    "\n",
    "**Objectives**\n",
    "- implement tool to dynamically choose model weights and activation function fitting a 2d surface with a single neuron\n",
    "- implement a tool to dynamically choose model widths and depths fitting another 2d surface\n",
    "\n",
    "**References**\n",
    "\n",
    "- Michael Nielsen, A visual proof that neural nets can compute any function, [chapter 4](http://neuralnetworksanddeeplearning.com/chap4.html), 2019 "
   ]
  },
  {
   "cell_type": "markdown",
   "metadata": {},
   "source": [
    "## Fitting a 2d surface with a single neuron"
   ]
  },
  {
   "cell_type": "code",
   "execution_count": 1,
   "metadata": {},
   "outputs": [],
   "source": [
    "%matplotlib inline"
   ]
  },
  {
   "cell_type": "code",
   "execution_count": 70,
   "metadata": {},
   "outputs": [],
   "source": [
    "import matplotlib.pyplot as plt\n",
    "from mpl_toolkits.mplot3d import Axes3D\n",
    "import torch\n",
    "import numpy as np\n",
    "import ipywidgets as widgets\n",
    "from typing import Union, List"
   ]
  },
  {
   "cell_type": "markdown",
   "metadata": {},
   "source": [
    "Generating a simple plot using one of the standard activation functions"
   ]
  },
  {
   "cell_type": "code",
   "execution_count": 123,
   "metadata": {},
   "outputs": [],
   "source": [
    "n = int(1e3)\n",
    "dim = 2\n",
    "X = torch.zeros((n,dim))\n",
    "X[:,0].uniform_(-1, 1)\n",
    "X[:,1].uniform_(-1, 1)\n",
    "w = torch.ones(2)\n",
    "y = torch.tanh(X@w)\n"
   ]
  },
  {
   "cell_type": "code",
   "execution_count": 400,
   "metadata": {},
   "outputs": [
    {
     "data": {
      "application/vnd.jupyter.widget-view+json": {
       "model_id": "56b7579ff7b54ed898d63c080cd258b8",
       "version_major": 2,
       "version_minor": 0
      },
      "text/plain": [
       "interactive(children=(IntSlider(value=3, description='elev', max=180, min=-180), IntSlider(value=-55, descript…"
      ]
     },
     "metadata": {},
     "output_type": "display_data"
    }
   ],
   "source": [
    "def plotter_wrapper(X:torch.Tensor, y:torch.Tensor, y_pred:torch.Tensor=None, figsize=(10,10)):\n",
    "\n",
    "    def dynamic3d_scatter(elev=3, azim=-55):\n",
    "        fig = plt.figure(figsize=figsize)\n",
    "        ax = fig.gca(projection=\"3d\")\n",
    "        ax.scatter(X[:,0], X[:,1], zs=y , c=y, marker=\"o\", alpha=.5)\n",
    "        if y_pred is not None:\n",
    "            ax.scatter(X[:,0], X[:,1], zs=y_pred , c=\"k\", marker=\".\", alpha=.5)\n",
    "        ax.view_init(elev=elev, azim=azim)  # elev=20., azim=-55\n",
    "        plt.show()\n",
    "        \n",
    "    return dynamic3d_scatter\n",
    "\n",
    "dynamic3d_scatter = plotter_wrapper(X, y, y_pred=y)\n",
    "widgets.interact(dynamic3d_scatter, elev=(-180,180), azim=(-180,180));"
   ]
  },
  {
   "cell_type": "code",
   "execution_count": 329,
   "metadata": {},
   "outputs": [
    {
     "data": {
      "text/plain": [
       "Model(\n",
       "  (lin): Linear(in_features=2, out_features=1, bias=True)\n",
       ")"
      ]
     },
     "execution_count": 329,
     "metadata": {},
     "output_type": "execute_result"
    }
   ],
   "source": [
    "class Model(torch.nn.Module):\n",
    "    \n",
    "    def __init__(self, activation_fun:Union[str,callable]=\"relu\", dim_in:int=2, dim_out:int=1):\n",
    "        super().__init__()\n",
    "        self.lin = torch.nn.Linear(dim_in, dim_out)\n",
    "        self.set_activation(activation_fun)\n",
    "        \n",
    "    def set_activation(self, fun_name):\n",
    "        if fun_name is None:\n",
    "            self.activation = lambda x: x\n",
    "        else:\n",
    "            self.activation = getattr(torch.nn.functional, fun_name) if isinstance(fun_name, str) else fun_name\n",
    "        \n",
    "    def forward(self, x):\n",
    "        return self.activation(self.lin(x)).squeeze(1)\n",
    "\n",
    "device = torch.device(\"cpu\")\n",
    "m = Model(activation_fun=None, dim_in=dim, dim_out=1)\n",
    "m.to(device)"
   ]
  },
  {
   "cell_type": "code",
   "execution_count": 330,
   "metadata": {},
   "outputs": [
    {
     "name": "stdout",
     "output_type": "stream",
     "text": [
      "<function mse_loss at 0x000001BA2F13DC18>\n"
     ]
    }
   ],
   "source": [
    "loss = torch.nn.functional.mse_loss\n",
    "opt = torch.optim.Adam(m.parameters(), lr=.01)\n",
    "print(loss)"
   ]
  },
  {
   "cell_type": "code",
   "execution_count": 331,
   "metadata": {},
   "outputs": [],
   "source": [
    "n_iter = 100"
   ]
  },
  {
   "cell_type": "code",
   "execution_count": 332,
   "metadata": {
    "scrolled": true
   },
   "outputs": [
    {
     "name": "stdout",
     "output_type": "stream",
     "text": [
      "0.18910738825798035\n",
      "tensor([[-0.3377, -0.2560]])\n",
      "0.17915837466716766\n",
      "tensor([[-0.3312, -0.2490]])\n",
      "0.1695488840341568\n",
      "tensor([[-0.3247, -0.2421]])\n",
      "0.1602843701839447\n",
      "tensor([[-0.3183, -0.2351]])\n",
      "0.15136951208114624\n",
      "tensor([[-0.3118, -0.2281]])\n",
      "0.1428082138299942\n",
      "tensor([[-0.3054, -0.2212]])\n",
      "0.1346033811569214\n",
      "tensor([[-0.2990, -0.2143]])\n",
      "0.12675687670707703\n",
      "tensor([[-0.2925, -0.2074]])\n",
      "0.11926958709955215\n",
      "tensor([[-0.2861, -0.2006]])\n",
      "0.11214116215705872\n",
      "tensor([[-0.2798, -0.1937]])\n",
      "0.10537005215883255\n",
      "tensor([[-0.2734, -0.1870]])\n",
      "0.09895338863134384\n",
      "tensor([[-0.2671, -0.1802]])\n",
      "0.0928870365023613\n",
      "tensor([[-0.2608, -0.1735]])\n",
      "0.08716550469398499\n",
      "tensor([[-0.2545, -0.1669]])\n",
      "0.08178185671567917\n",
      "tensor([[-0.2483, -0.1603]])\n",
      "0.07672789692878723\n",
      "tensor([[-0.2421, -0.1538]])\n",
      "0.07199405133724213\n",
      "tensor([[-0.2360, -0.1474]])\n",
      "0.06756947934627533\n",
      "tensor([[-0.2299, -0.1410]])\n",
      "0.06344222277402878\n",
      "tensor([[-0.2238, -0.1347]])\n",
      "0.05959925428032875\n",
      "tensor([[-0.2178, -0.1285]])\n",
      "0.056026604026556015\n",
      "tensor([[-0.2118, -0.1224]])\n",
      "0.05270959436893463\n",
      "tensor([[-0.2059, -0.1164]])\n",
      "0.049633003771305084\n",
      "tensor([[-0.2000, -0.1104]])\n",
      "0.046781282871961594\n",
      "tensor([[-0.1942, -0.1046]])\n",
      "0.04413875937461853\n",
      "tensor([[-0.1885, -0.0989]])\n",
      "0.041689902544021606\n",
      "tensor([[-0.1828, -0.0933]])\n",
      "0.03941949084401131\n",
      "tensor([[-0.1772, -0.0878]])\n",
      "0.037312835454940796\n",
      "tensor([[-0.1716, -0.0824]])\n",
      "0.03535599634051323\n",
      "tensor([[-0.1662, -0.0772]])\n",
      "0.03353588283061981\n",
      "tensor([[-0.1608, -0.0721]])\n",
      "0.031840384006500244\n",
      "tensor([[-0.1554, -0.0671]])\n",
      "0.030258499085903168\n",
      "tensor([[-0.1502, -0.0623]])\n",
      "0.028780318796634674\n",
      "tensor([[-0.1450, -0.0576]])\n",
      "0.027397073805332184\n",
      "tensor([[-0.1399, -0.0531]])\n",
      "0.026101088151335716\n",
      "tensor([[-0.1349, -0.0487]])\n",
      "0.024885738268494606\n",
      "tensor([[-0.1300, -0.0445]])\n",
      "0.02374536171555519\n",
      "tensor([[-0.1252, -0.0404]])\n",
      "0.02267514169216156\n",
      "tensor([[-0.1204, -0.0365]])\n",
      "0.021671049296855927\n",
      "tensor([[-0.1158, -0.0327]])\n",
      "0.020729659125208855\n",
      "tensor([[-0.1112, -0.0291]])\n",
      "0.019848059862852097\n",
      "tensor([[-0.1068, -0.0257]])\n",
      "0.019023751839995384\n",
      "tensor([[-0.1024, -0.0224]])\n",
      "0.018254507333040237\n",
      "tensor([[-0.0981, -0.0193]])\n",
      "0.017538290470838547\n",
      "tensor([[-0.0940, -0.0164]])\n",
      "0.016873177140951157\n",
      "tensor([[-0.0899, -0.0136]])\n",
      "0.01625727489590645\n",
      "tensor([[-0.0860, -0.0110]])\n",
      "0.015688655897974968\n",
      "tensor([[-0.0821, -0.0086]])\n",
      "0.015165343880653381\n",
      "tensor([[-0.0783, -0.0063]])\n",
      "0.014685282483696938\n",
      "tensor([[-0.0747, -0.0042]])\n",
      "0.01424629706889391\n",
      "tensor([[-0.0712, -0.0022]])\n",
      "0.013846135698258877\n",
      "tensor([[-0.0677, -0.0004]])\n",
      "0.013482436537742615\n",
      "tensor([[-0.0644,  0.0013]])\n",
      "0.013152790255844593\n",
      "tensor([[-0.0612,  0.0028]])\n",
      "0.012854731641709805\n",
      "tensor([[-0.0580,  0.0042]])\n",
      "0.012585775926709175\n",
      "tensor([[-0.0550,  0.0054]])\n",
      "0.012343472801148891\n",
      "tensor([[-0.0521,  0.0065]])\n",
      "0.012125406414270401\n",
      "tensor([[-0.0493,  0.0075]])\n",
      "0.011929246596992016\n",
      "tensor([[-0.0466,  0.0084]])\n",
      "0.011752774938941002\n",
      "tensor([[-0.0439,  0.0091]])\n",
      "0.011593894101679325\n",
      "tensor([[-0.0414,  0.0097]])\n",
      "0.011450665071606636\n",
      "tensor([[-0.0390,  0.0102]])\n",
      "0.011321314610540867\n",
      "tensor([[-0.0367,  0.0107]])\n",
      "0.011204242706298828\n",
      "tensor([[-0.0345,  0.0110]])\n",
      "0.011098019778728485\n",
      "tensor([[-0.0323,  0.0112]])\n",
      "0.011001396924257278\n",
      "tensor([[-0.0303,  0.0114]])\n",
      "0.010913296602666378\n",
      "tensor([[-0.0283,  0.0114]])\n",
      "0.010832791216671467\n",
      "tensor([[-0.0265,  0.0114]])\n",
      "0.01075910497456789\n",
      "tensor([[-0.0247,  0.0114]])\n",
      "0.010691585950553417\n",
      "tensor([[-0.0230,  0.0112]])\n",
      "0.010629696771502495\n",
      "tensor([[-0.0214,  0.0110]])\n",
      "0.010572993196547031\n",
      "tensor([[-0.0198,  0.0108]])\n",
      "0.010521107353270054\n",
      "tensor([[-0.0184,  0.0105]])\n",
      "0.010473733767867088\n",
      "tensor([[-0.0170,  0.0102]])\n",
      "0.010430609807372093\n",
      "tensor([[-0.0157,  0.0099]])\n",
      "0.010391500778496265\n",
      "tensor([[-0.0144,  0.0095]])\n",
      "0.010356194339692593\n",
      "tensor([[-0.0133,  0.0091]])\n",
      "0.01032449584454298\n",
      "tensor([[-0.0121,  0.0087]])\n",
      "0.01029619574546814\n",
      "tensor([[-0.0111,  0.0082]])\n",
      "0.0102711021900177\n",
      "tensor([[-0.0101,  0.0078]])\n",
      "0.010249014012515545\n",
      "tensor([[-0.0092,  0.0073]])\n",
      "0.010229715146124363\n",
      "tensor([[-0.0083,  0.0068]])\n",
      "0.010212991386651993\n",
      "tensor([[-0.0075,  0.0064]])\n",
      "0.010198628529906273\n",
      "tensor([[-0.0067,  0.0059]])\n",
      "0.01018640398979187\n",
      "tensor([[-0.0060,  0.0055]])\n",
      "0.010176099836826324\n",
      "tensor([[-0.0053,  0.0050]])\n",
      "0.010167503729462624\n",
      "tensor([[-0.0046,  0.0046]])\n",
      "0.010160405188798904\n",
      "tensor([[-0.0041,  0.0041]])\n",
      "0.010154609568417072\n",
      "tensor([[-0.0035,  0.0037]])\n",
      "0.010149930603802204\n",
      "tensor([[-0.0030,  0.0033]])\n",
      "0.010146206244826317\n",
      "tensor([[-0.0025,  0.0029]])\n",
      "0.010143275372684002\n",
      "tensor([[-0.0021,  0.0025]])\n",
      "0.010141005739569664\n",
      "tensor([[-0.0017,  0.0022]])\n",
      "0.01013927347958088\n",
      "tensor([[-0.0013,  0.0019]])\n",
      "0.01013797614723444\n",
      "tensor([[-0.0010,  0.0015]])\n",
      "0.010137028992176056\n",
      "tensor([[-0.0006,  0.0013]])\n",
      "0.010136354714632034\n",
      "tensor([[-0.0004,  0.0010]])\n",
      "0.010135894641280174\n",
      "tensor([[-9.9340e-05,  7.1737e-04]])\n",
      "0.01013560127466917\n",
      "tensor([[0.0001, 0.0005]])\n",
      "0.010135432705283165\n",
      "tensor([[0.0004, 0.0003]])\n",
      "0.010135357268154621\n",
      "tensor([[5.4506e-04, 6.5250e-05]])\n"
     ]
    }
   ],
   "source": [
    "m.train()\n",
    "for i in range(n_iter):\n",
    "    y_pred = m(X)\n",
    "    l = loss(y, y_pred)\n",
    "    print(l.item())\n",
    "    l.backward()\n",
    "    print(m.lin.weight.grad)\n",
    "    opt.step()\n",
    "    opt.zero_grad()"
   ]
  },
  {
   "cell_type": "code",
   "execution_count": 333,
   "metadata": {},
   "outputs": [
    {
     "data": {
      "application/vnd.jupyter.widget-view+json": {
       "model_id": "1ef214883665434390b10279225b4267",
       "version_major": 2,
       "version_minor": 0
      },
      "text/plain": [
       "interactive(children=(IntSlider(value=20, description='elev', max=180, min=-180), IntSlider(value=-55, descrip…"
      ]
     },
     "metadata": {},
     "output_type": "display_data"
    }
   ],
   "source": [
    "m.eval()\n",
    "y_pred = m(X).detach().numpy()\n",
    "dynamic3d_scatter = plotter_wrapper(X, y, y_pred=y_pred)\n",
    "widgets.interact(dynamic3d_scatter, elev=(-180,180), azim=(-180,180));"
   ]
  },
  {
   "cell_type": "code",
   "execution_count": 335,
   "metadata": {
    "scrolled": true
   },
   "outputs": [
    {
     "data": {
      "image/png": "[encoded data removed]",
      "text/plain": [
       "<Figure size 720x288 with 1 Axes>"
      ]
     },
     "metadata": {
      "needs_background": "light"
     },
     "output_type": "display_data"
    }
   ],
   "source": [
    "class ModelAndPlot:\n",
    "    \n",
    "    def __init__(self, X:torch.Tensor, y:torch.Tensor):\n",
    "        self.X = X\n",
    "        self.y = y\n",
    "        \n",
    "    def dynamic_fit(self, activation_fun:Union[str,callable]=\"relu\", optimizer:str=\"Adam\", scheduler:str=\"None\",\n",
    "                    loss:Union[str,callable]=\"mse_loss\", n_iter:int=10, lr:float=.1, max_lr=.1):\n",
    "        \n",
    "        self.m = Model(activation_fun=activation_fun, dim_in=self.X.size()[1], dim_out=1)\n",
    "        self.m.to(device)\n",
    "        self.opt = getattr(torch.optim, optimizer)(self.m.parameters(), lr=lr)\n",
    "        self.scheduler = getattr(torch.optim.lr_scheduler, scheduler) if scheduler != \"None\" else None\n",
    "        \n",
    "        if self.scheduler is not None:\n",
    "            try:\n",
    "                self.scheduler = self.scheduler(self.opt, base_lr=lr, max_lr=max_lr, step_size_up=n_iter//2, cycle_momentum=True)                \n",
    "            except ValueError:\n",
    "                self.scheduler = self.scheduler(self.opt, base_lr=lr, max_lr=max_lr, step_size_up=n_iter//2, cycle_momentum=False)\n",
    "        \n",
    "        self._loss = getattr(torch.nn.functional, loss) if isinstance(loss, str) else loss\n",
    "        \n",
    "        self.fit(n_iter)            \n",
    "        self.plot(n_iter, loss, activation_fun, optimizer)\n",
    "        \n",
    "    def fit(self, n_iter):\n",
    "        \n",
    "        self.losses = torch.zeros(n_iter, requires_grad=False)    \n",
    "        \n",
    "        for i in range(n_iter):\n",
    "            y_pred = self.m(self.X)\n",
    "            \n",
    "            l = self._loss(self.y, y_pred)\n",
    "            \n",
    "            self.losses[i] = l.item()\n",
    "            l.backward()\n",
    "            \n",
    "            self.opt.step()\n",
    "            \n",
    "            if self.scheduler is not None: \n",
    "                self.scheduler.step()\n",
    "                \n",
    "            self.opt.zero_grad()\n",
    "            \n",
    "        self.m.eval()\n",
    "        self.y_pred = self.m(X)\n",
    "\n",
    "        \n",
    "    def plot(self, n_iter, loss, activation_fun, optimizer):\n",
    "        fig, ax = plt.subplots(figsize=(10,4))\n",
    "        ax.plot(range(n_iter), self.losses.detach().numpy())\n",
    "        ax.set_xlabel(\"iteration\")\n",
    "        ax.set_ylabel(f\"loss: {loss}\")\n",
    "        ax.set_title(f\"activation: {activation_fun}, optimizer: {optimizer}, n_iter: {n_iter}\")\n",
    "        plt.show()\n",
    "        \n",
    "MAP = ModelAndPlot(X, y)\n",
    "MAP.dynamic_fit(activation_fun=\"relu\", optimizer=\"SGD\", scheduler=\"CyclicLR\", loss=\"mse_loss\", \n",
    "                n_iter=100, lr=.001, max_lr=.1)"
   ]
  },
  {
   "cell_type": "code",
   "execution_count": 337,
   "metadata": {
    "scrolled": false
   },
   "outputs": [
    {
     "data": {
      "application/vnd.jupyter.widget-view+json": {
       "model_id": "f1ea2cbf687d43a3981be8eac52bb810",
       "version_major": 2,
       "version_minor": 0
      },
      "text/plain": [
       "interactive(children=(Dropdown(description='activation_fun', options=('relu', 'softplus', 'sigmoid', 'tanh', N…"
      ]
     },
     "metadata": {},
     "output_type": "display_data"
    }
   ],
   "source": [
    "MAP = ModelAndPlot(X, y)\n",
    "widgets.interact(MAP.dynamic_fit, activation_fun=[\"relu\", \"softplus\", \"sigmoid\", \"tanh\", None], optimizer=[\"Adam\", \"RMSprop\"],\n",
    "                 scheduler=[\"None\", \"CyclicLR\"],\n",
    "                 loss=[\"mse_loss\", \"l1_loss\"], n_iter=(1, 100), lr=[1e-3, 1e-2, 1e-1], max_lr=[1,.5, .1]);"
   ]
  },
  {
   "cell_type": "code",
   "execution_count": 338,
   "metadata": {},
   "outputs": [
    {
     "data": {
      "application/vnd.jupyter.widget-view+json": {
       "model_id": "c7c4d1fb3a4d41208487b82ed6b8ba9e",
       "version_major": 2,
       "version_minor": 0
      },
      "text/plain": [
       "interactive(children=(IntSlider(value=20, description='elev', max=180, min=-180), IntSlider(value=-55, descrip…"
      ]
     },
     "metadata": {},
     "output_type": "display_data"
    }
   ],
   "source": [
    "dynamic3d_scatter = plotter_wrapper(X, y, y_pred=MAP.y_pred.detach().numpy())\n",
    "widgets.interact(dynamic3d_scatter, elev=(-180,180), azim=(-180,180));"
   ]
  },
  {
   "cell_type": "markdown",
   "metadata": {},
   "source": [
    "## Fitting a 2d surface with a Dense net"
   ]
  },
  {
   "cell_type": "markdown",
   "metadata": {},
   "source": [
    "Generating a more complex surface"
   ]
  },
  {
   "cell_type": "code",
   "execution_count": 385,
   "metadata": {},
   "outputs": [],
   "source": [
    "n = int(5e3)\n",
    "dim = 2\n",
    "X = torch.zeros((n,dim))\n",
    "X[:,0].uniform_(-5, 5)\n",
    "X[:,1].uniform_(-5, 5)\n",
    "y = torch.cos(X[:,0])*torch.sin(X[:,1])"
   ]
  },
  {
   "cell_type": "code",
   "execution_count": 386,
   "metadata": {},
   "outputs": [
    {
     "data": {
      "application/vnd.jupyter.widget-view+json": {
       "model_id": "5865d5d279c541e190409f3609878833",
       "version_major": 2,
       "version_minor": 0
      },
      "text/plain": [
       "interactive(children=(IntSlider(value=3, description='elev', max=180, min=-180), IntSlider(value=-55, descript…"
      ]
     },
     "metadata": {},
     "output_type": "display_data"
    }
   ],
   "source": [
    "dynamic3d_scatter = plotter_wrapper(X, y, y_pred=y)\n",
    "widgets.interact(dynamic3d_scatter, elev=(-180,180), azim=(-180,180));"
   ]
  },
  {
   "cell_type": "code",
   "execution_count": 379,
   "metadata": {
    "scrolled": true
   },
   "outputs": [
    {
     "name": "stdout",
     "output_type": "stream",
     "text": [
      "ModuleList(\n",
      "  (0): Linear(in_features=2, out_features=3, bias=True)\n",
      "  (1): Linear(in_features=3, out_features=2, bias=True)\n",
      "  (2): Linear(in_features=2, out_features=1, bias=True)\n",
      ")\n"
     ]
    },
    {
     "data": {
      "text/plain": [
       "torch.Size([1000])"
      ]
     },
     "execution_count": 379,
     "metadata": {},
     "output_type": "execute_result"
    }
   ],
   "source": [
    "class HyperModel(torch.nn.Module):\n",
    "    \n",
    "    def __init__(self, activation_fun:Union[str,callable]=\"relu\", dim_in:int=2, hidden:List[int]=[5], \n",
    "                 dim_out:int=1, output_fun:Union[str,callable]=\"linear\"):\n",
    "        super().__init__()\n",
    "        self.dense = [torch.nn.Linear(dim_in, hidden[0])]\n",
    "        if len(hidden) > 1:\n",
    "            self.dense += [torch.nn.Linear(hidden[i], hidden[i+1]) for i in range(len(hidden)-1)]\n",
    "        self.dense += [torch.nn.Linear(hidden[-1], dim_out)]\n",
    "        self.dense = torch.nn.ModuleList(self.dense)\n",
    "        self.set_activation(activation_fun)\n",
    "        self.set_output_fun(output_fun)\n",
    "        \n",
    "    def set_activation(self, fun_name):\n",
    "        self.activation = getattr(torch.nn.functional, fun_name) if isinstance(fun_name, str) else fun_name\n",
    "        \n",
    "    def set_output_fun(self, fun_name):\n",
    "        if fun_name == \"linear\":\n",
    "            self.output_fun = lambda x: x\n",
    "        else:\n",
    "            self.output_fun = getattr(torch.nn.functional, fun_name) if isinstance(fun_name, str) else fun_name\n",
    "        \n",
    "        \n",
    "    def forward(self, x):\n",
    "        o = x.clone()\n",
    "        for i,l in enumerate(self.dense):\n",
    "            if i<len(self.dense):\n",
    "                o = self.activation(l(o))\n",
    "            else:\n",
    "                o = self.output_fun(l(o))\n",
    "        return o.squeeze(1)\n",
    "\n",
    "device = torch.device(\"cpu\")\n",
    "m = HyperModel(activation_fun=\"relu\", dim_in=dim, hidden=[3,2], dim_out=1, output_fun=\"linear\")\n",
    "m.to(device)\n",
    "print(m.dense)\n",
    "m(X).size()"
   ]
  },
  {
   "cell_type": "code",
   "execution_count": 387,
   "metadata": {
    "scrolled": false
   },
   "outputs": [
    {
     "name": "stdout",
     "output_type": "stream",
     "text": [
      "output_fun linear\n",
      "HyperModel(\n",
      "  (dense): ModuleList(\n",
      "    (0): Linear(in_features=2, out_features=5, bias=True)\n",
      "    (1): Linear(in_features=5, out_features=2, bias=True)\n",
      "    (2): Linear(in_features=2, out_features=1, bias=True)\n",
      "  )\n",
      ")\n",
      "number of parameters 30 => [torch.Size([5, 2]), torch.Size([5]), torch.Size([2, 5]), torch.Size([2]), torch.Size([1, 2]), torch.Size([1])]\n"
     ]
    },
    {
     "data": {
      "image/png": "[encoded data removed]",
      "text/plain": [
       "<Figure size 720x288 with 1 Axes>"
      ]
     },
     "metadata": {
      "needs_background": "light"
     },
     "output_type": "display_data"
    }
   ],
   "source": [
    "class HyperModelAndPlot(ModelAndPlot):\n",
    "    \n",
    "    def __init__(self, X:torch.Tensor, y:torch.Tensor):\n",
    "        super().__init__(X, y)\n",
    "        \n",
    "    def dynamic_fit(self, activation_fun:Union[str,callable]=\"relu\", optimizer:str=\"Adam\", scheduler:str=\"None\",\n",
    "                    loss:Union[str,callable]=\"mse_loss\", n_iter:int=10, lr:float=.1, max_lr=.1, \n",
    "                    hidden:str=\"5,2\", output_fun:Union[str,callable]=\"linear\"):\n",
    "        \n",
    "        _hidden = [int(v) for v in hidden.split(\",\")]\n",
    "        print(\"output_fun\", output_fun)\n",
    "        self.m = HyperModel(activation_fun=activation_fun, dim_in=self.X.size()[1], hidden=_hidden, dim_out=1,\n",
    "                            output_fun=output_fun)\n",
    "        print(self.m)\n",
    "        print(f\"number of parameters {sum([np.prod(v.size()) for v in self.m.parameters()])} => {[v.size() for v in self.m.parameters()]}\")\n",
    "        self.m.to(device)\n",
    "        self.opt = getattr(torch.optim, optimizer)(self.m.parameters(), lr=lr)\n",
    "        self.scheduler = getattr(torch.optim.lr_scheduler, scheduler) if scheduler != \"None\" else None\n",
    "        \n",
    "        if self.scheduler is not None:\n",
    "            try:\n",
    "                self.scheduler = self.scheduler(self.opt, base_lr=lr, max_lr=max_lr, step_size_up=n_iter//2, cycle_momentum=True)                \n",
    "            except ValueError:\n",
    "                self.scheduler = self.scheduler(self.opt, base_lr=lr, max_lr=max_lr, step_size_up=n_iter//2, cycle_momentum=False)\n",
    "        \n",
    "        self._loss = getattr(torch.nn.functional, loss) if isinstance(loss, str) else loss\n",
    "        \n",
    "        self.fit(n_iter)            \n",
    "        self.plot(n_iter, loss, activation_fun, optimizer)\n",
    "        \n",
    "        \n",
    "MAP = HyperModelAndPlot(X, y)\n",
    "MAP.dynamic_fit(activation_fun=\"relu\", optimizer=\"SGD\", scheduler=\"CyclicLR\", loss=\"mse_loss\", \n",
    "                n_iter=100, lr=.001, max_lr=.1, hidden=\"5,2\", output_fun=\"linear\")"
   ]
  },
  {
   "cell_type": "code",
   "execution_count": 405,
   "metadata": {
    "scrolled": false
   },
   "outputs": [
    {
     "data": {
      "application/vnd.jupyter.widget-view+json": {
       "model_id": "31fafa0693ce4c149a5e426c5fcc5e15",
       "version_major": 2,
       "version_minor": 0
      },
      "text/plain": [
       "interactive(children=(Dropdown(description='activation_fun', options=('relu', 'softplus', 'sigmoid', 'tanh'), …"
      ]
     },
     "metadata": {},
     "output_type": "display_data"
    }
   ],
   "source": [
    "y_s = (y-y.min())/y.std() # standardizing\n",
    "\n",
    "MAP = HyperModelAndPlot(X, y_s)\n",
    "widgets.interact(MAP.dynamic_fit, \n",
    "                 activation_fun=[\"relu\", \"softplus\", \"sigmoid\", \"tanh\"], \n",
    "                 output_fun=[\"relu\", \"softplus\", \"sigmoid\", \"tanh\", \"linear\"],\n",
    "                 optimizer=[\"Adam\", \"RMSprop\"],\n",
    "                 scheduler=[\"None\", \"CyclicLR\"], hidden=widgets.Combobox(value=\"5,2\"),\n",
    "                 loss=[\"mse_loss\", \"l1_loss\"], n_iter=widgets.IntText(value=50), \n",
    "                 lr=widgets.FloatText(value=.1), max_lr=widgets.FloatText(value=.1));"
   ]
  },
  {
   "cell_type": "code",
   "execution_count": 407,
   "metadata": {},
   "outputs": [
    {
     "data": {
      "application/vnd.jupyter.widget-view+json": {
       "model_id": "08fecb8f1341465da4f728d52bda3709",
       "version_major": 2,
       "version_minor": 0
      },
      "text/plain": [
       "interactive(children=(IntSlider(value=3, description='elev', max=180, min=-180), IntSlider(value=-55, descript…"
      ]
     },
     "metadata": {},
     "output_type": "display_data"
    }
   ],
   "source": [
    "dynamic3d_scatter = plotter_wrapper(X, y_s, y_pred=MAP.y_pred.detach().numpy())\n",
    "widgets.interact(dynamic3d_scatter, elev=(-180,180), azim=(-180,180));"
   ]
  },
  {
   "cell_type": "code",
   "execution_count": null,
   "metadata": {},
   "outputs": [],
   "source": []
  }
 ],
 "metadata": {
  "kernelspec": {
   "display_name": "Python [conda env:py37_fastai]",
   "language": "python",
   "name": "conda-env-py37_fastai-py"
  },
  "language_info": {
   "codemirror_mode": {
    "name": "ipython",
    "version": 3
   },
   "file_extension": ".py",
   "mimetype": "text/x-python",
   "name": "python",
   "nbconvert_exporter": "python",
   "pygments_lexer": "ipython3",
   "version": "3.7.5"
  }
 },
 "nbformat": 4,
 "nbformat_minor": 2
}
