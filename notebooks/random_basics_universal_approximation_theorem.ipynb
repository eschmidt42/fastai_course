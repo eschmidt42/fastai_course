{
 "cells": [
  {
   "cell_type": "markdown",
   "metadata": {},
   "source": [
    "# Random basics - universal approximation theorem\n",
    "\n",
    "Neural nets are highly flexible functions which can be used to approximate functions/relationships latent in a given data set. The explanation of this flexibility relates to the so-called _universal approximation theorem_. This was mentioned in one of fastai's lectures given by Jeremy Howard referring to the book by Michael Nielsen linked below. Do check it out, it's amazing.\n",
    "\n",
    "For reasons I wanted to implement something similar as in the book to play with various aspects beyond the concrete weights, more related to the used activation functions and so on. The idea is to set up some wild function which takes `x` and `y` and spits out `z` (so we can have a fancy 3d plots 😬) and fiddle with the network and optimization properties seing all the ways it can fail and those where it doe not. So let us have a look.\n",
    "\n",
    "**Things in this notebook**\n",
    "- ipywidgets-awesomeness for exploration\n",
    "- single neuron fit\n",
    "- multi neuron multi layer fit\n",
    "\n",
    "**Order of things**\n",
    "1. single neuron \n",
    "2. multi-multi\n",
    "\n",
    "**References**\n",
    "\n",
    "- Michael Nielsen, A visual proof that neural nets can compute any function, [chapter 4](http://neuralnetworksanddeeplearning.com/chap4.html), 2019 "
   ]
  },
  {
   "cell_type": "markdown",
   "metadata": {},
   "source": [
    "## Fitting a 2d surface with a single neuron"
   ]
  },
  {
   "cell_type": "code",
   "execution_count": 1,
   "metadata": {},
   "outputs": [],
   "source": [
    "%matplotlib inline"
   ]
  },
  {
   "cell_type": "code",
   "execution_count": 70,
   "metadata": {},
   "outputs": [],
   "source": [
    "import matplotlib.pyplot as plt\n",
    "from mpl_toolkits.mplot3d import Axes3D\n",
    "import torch\n",
    "import numpy as np\n",
    "import ipywidgets as widgets\n",
    "from typing import Union, List"
   ]
  },
  {
   "cell_type": "markdown",
   "metadata": {},
   "source": [
    "Generating a simple plot using one of the standard activation functions"
   ]
  },
  {
   "cell_type": "code",
   "execution_count": 408,
   "metadata": {},
   "outputs": [],
   "source": [
    "n = int(1e3)\n",
    "dim = 2\n",
    "X = torch.zeros((n,dim))\n",
    "X[:,0].uniform_(-1, 1)\n",
    "X[:,1].uniform_(-1, 1)\n",
    "w = torch.ones(2)\n",
    "y = torch.tanh(X@w)"
   ]
  },
  {
   "cell_type": "markdown",
   "metadata": {},
   "source": [
    "Plotting `y` (coloured circles) and \"`y_pred`\" (black dots)"
   ]
  },
  {
   "cell_type": "code",
   "execution_count": 409,
   "metadata": {},
   "outputs": [
    {
     "data": {
      "application/vnd.jupyter.widget-view+json": {
       "model_id": "fa47d745bcf04ddb82b24da20112e33a",
       "version_major": 2,
       "version_minor": 0
      },
      "text/plain": [
       "interactive(children=(IntSlider(value=3, description='elev', max=180, min=-180), IntSlider(value=-55, descript…"
      ]
     },
     "metadata": {},
     "output_type": "display_data"
    }
   ],
   "source": [
    "def plotter_wrapper(X:torch.Tensor, y:torch.Tensor, y_pred:torch.Tensor=None, figsize=(10,10)):\n",
    "\n",
    "    def dynamic3d_scatter(elev=3, azim=-55):\n",
    "        fig = plt.figure(figsize=figsize)\n",
    "        ax = fig.gca(projection=\"3d\")\n",
    "        ax.scatter(X[:,0], X[:,1], zs=y , c=y, marker=\"o\", alpha=.5)\n",
    "        if y_pred is not None:\n",
    "            ax.scatter(X[:,0], X[:,1], zs=y_pred , c=\"k\", marker=\".\", alpha=.5)\n",
    "        ax.view_init(elev=elev, azim=azim)  # elev=20., azim=-55\n",
    "        plt.show()\n",
    "        \n",
    "    return dynamic3d_scatter\n",
    "\n",
    "dynamic3d_scatter = plotter_wrapper(X, y, y_pred=y)\n",
    "widgets.interact(dynamic3d_scatter, elev=(-180,180), azim=(-180,180));"
   ]
  },
  {
   "cell_type": "markdown",
   "metadata": {},
   "source": [
    "Defining the single neuron model"
   ]
  },
  {
   "cell_type": "code",
   "execution_count": 413,
   "metadata": {},
   "outputs": [
    {
     "data": {
      "text/plain": [
       "Model(\n",
       "  (lin): Linear(in_features=2, out_features=1, bias=True)\n",
       ")"
      ]
     },
     "execution_count": 413,
     "metadata": {},
     "output_type": "execute_result"
    }
   ],
   "source": [
    "class Model(torch.nn.Module):\n",
    "    \n",
    "    def __init__(self, activation_fun:Union[str,callable]=\"relu\", dim_in:int=2, dim_out:int=1):\n",
    "        super().__init__()\n",
    "        self.lin = torch.nn.Linear(dim_in, dim_out)\n",
    "        self.set_activation(activation_fun)\n",
    "        \n",
    "    def set_activation(self, fun_name):\n",
    "        if fun_name is None:\n",
    "            self.activation = lambda x: x\n",
    "        else:\n",
    "            self.activation = getattr(torch.nn.functional, fun_name) if isinstance(fun_name, str) else fun_name\n",
    "        \n",
    "    def forward(self, x):\n",
    "        return self.activation(self.lin(x)).squeeze(1)\n",
    "\n",
    "device = torch.device(\"cpu\")\n",
    "m = Model(activation_fun=None, dim_in=dim, dim_out=1)\n",
    "m.to(device)"
   ]
  },
  {
   "cell_type": "markdown",
   "metadata": {},
   "source": [
    "Defining loss function and optimizer"
   ]
  },
  {
   "cell_type": "code",
   "execution_count": 414,
   "metadata": {},
   "outputs": [
    {
     "name": "stdout",
     "output_type": "stream",
     "text": [
      "<function mse_loss at 0x000001BA2F13DC18>\n"
     ]
    }
   ],
   "source": [
    "loss = torch.nn.functional.mse_loss\n",
    "opt = torch.optim.Adam(m.parameters(), lr=.01)\n",
    "print(loss)"
   ]
  },
  {
   "cell_type": "markdown",
   "metadata": {},
   "source": [
    "Iterating away in the search of the global minimum"
   ]
  },
  {
   "cell_type": "code",
   "execution_count": 415,
   "metadata": {},
   "outputs": [],
   "source": [
    "n_iter = 100"
   ]
  },
  {
   "cell_type": "code",
   "execution_count": 417,
   "metadata": {
    "scrolled": true
   },
   "outputs": [
    {
     "name": "stdout",
     "output_type": "stream",
     "text": [
      "\n",
      "loss: 0.0103182727470994\n",
      "gradient on the weights: tensor([[-0.0013, -0.0013]])\n",
      "\n",
      "loss: 0.01031816378235817\n",
      "gradient on the weights: tensor([[-0.0012, -0.0013]])\n",
      "\n",
      "loss: 0.010318048298358917\n",
      "gradient on the weights: tensor([[-0.0012, -0.0013]])\n",
      "\n",
      "loss: 0.010317926295101643\n",
      "gradient on the weights: tensor([[-0.0011, -0.0012]])\n",
      "\n",
      "loss: 0.010317795909941196\n",
      "gradient on the weights: tensor([[-0.0011, -0.0012]])\n",
      "\n",
      "loss: 0.010317650623619556\n",
      "gradient on the weights: tensor([[-0.0010, -0.0011]])\n",
      "\n",
      "loss: 0.010317495092749596\n",
      "gradient on the weights: tensor([[-0.0010, -0.0010]])\n",
      "\n",
      "loss: 0.010317327454686165\n",
      "gradient on the weights: tensor([[-0.0009, -0.0010]])\n",
      "\n",
      "loss: 0.010317150503396988\n",
      "gradient on the weights: tensor([[-0.0008, -0.0009]])\n",
      "\n",
      "loss: 0.010316967032849789\n",
      "gradient on the weights: tensor([[-0.0008, -0.0008]])\n",
      "\n",
      "loss: 0.010316782630980015\n",
      "gradient on the weights: tensor([[-0.0007, -0.0008]])\n",
      "\n",
      "loss: 0.01031660195440054\n",
      "gradient on the weights: tensor([[-0.0006, -0.0007]])\n",
      "\n",
      "loss: 0.010316433385014534\n",
      "gradient on the weights: tensor([[-0.0006, -0.0006]])\n",
      "\n",
      "loss: 0.010316275991499424\n",
      "gradient on the weights: tensor([[-0.0005, -0.0005]])\n",
      "\n",
      "loss: 0.010316138155758381\n",
      "gradient on the weights: tensor([[-0.0004, -0.0005]])\n",
      "\n",
      "loss: 0.010316023603081703\n",
      "gradient on the weights: tensor([[-0.0004, -0.0004]])\n",
      "\n",
      "loss: 0.010315928608179092\n",
      "gradient on the weights: tensor([[-0.0003, -0.0003]])\n",
      "\n",
      "loss: 0.010315856896340847\n",
      "gradient on the weights: tensor([[-0.0003, -0.0003]])\n",
      "\n",
      "loss: 0.010315803810954094\n",
      "gradient on the weights: tensor([[-0.0002, -0.0002]])\n",
      "\n",
      "loss: 0.010315771214663982\n",
      "gradient on the weights: tensor([[-0.0002, -0.0002]])\n",
      "\n",
      "loss: 0.010315751656889915\n",
      "gradient on the weights: tensor([[-0.0001, -0.0001]])\n",
      "\n",
      "loss: 0.010315744206309319\n",
      "gradient on the weights: tensor([[-6.9958e-05, -6.3570e-05]])\n",
      "\n",
      "loss: 0.010315747931599617\n",
      "gradient on the weights: tensor([[-2.9984e-05, -1.9549e-05]])\n",
      "\n",
      "loss: 0.010315753519535065\n",
      "gradient on the weights: tensor([[6.6815e-06, 2.0534e-05]])\n",
      "\n",
      "loss: 0.010315763764083385\n",
      "gradient on the weights: tensor([[4.0038e-05, 5.6671e-05]])\n",
      "\n",
      "loss: 0.010315774008631706\n",
      "gradient on the weights: tensor([[7.0126e-05, 8.8872e-05]])\n",
      "\n",
      "loss: 0.010315784253180027\n",
      "gradient on the weights: tensor([[9.6927e-05, 1.1720e-04]])\n",
      "\n",
      "loss: 0.01031579077243805\n",
      "gradient on the weights: tensor([[0.0001, 0.0001]])\n",
      "\n",
      "loss: 0.010315798223018646\n",
      "gradient on the weights: tensor([[0.0001, 0.0002]])\n",
      "\n",
      "loss: 0.01031580287963152\n",
      "gradient on the weights: tensor([[0.0002, 0.0002]])\n",
      "\n",
      "loss: 0.010315806604921818\n",
      "gradient on the weights: tensor([[0.0002, 0.0002]])\n",
      "\n",
      "loss: 0.010315804742276669\n",
      "gradient on the weights: tensor([[0.0002, 0.0002]])\n",
      "\n",
      "loss: 0.010315804742276669\n",
      "gradient on the weights: tensor([[0.0002, 0.0002]])\n",
      "\n",
      "loss: 0.010315801948308945\n",
      "gradient on the weights: tensor([[0.0002, 0.0002]])\n",
      "\n",
      "loss: 0.010315801948308945\n",
      "gradient on the weights: tensor([[0.0002, 0.0002]])\n",
      "\n",
      "loss: 0.010315796360373497\n",
      "gradient on the weights: tensor([[0.0002, 0.0002]])\n",
      "\n",
      "loss: 0.010315794497728348\n",
      "gradient on the weights: tensor([[0.0002, 0.0002]])\n",
      "\n",
      "loss: 0.010315792635083199\n",
      "gradient on the weights: tensor([[0.0002, 0.0002]])\n",
      "\n",
      "loss: 0.010315789841115475\n",
      "gradient on the weights: tensor([[0.0002, 0.0002]])\n",
      "\n",
      "loss: 0.010315786115825176\n",
      "gradient on the weights: tensor([[0.0002, 0.0002]])\n",
      "\n",
      "loss: 0.010315781459212303\n",
      "gradient on the weights: tensor([[0.0002, 0.0002]])\n",
      "\n",
      "loss: 0.010315775871276855\n",
      "gradient on the weights: tensor([[0.0002, 0.0002]])\n",
      "\n",
      "loss: 0.010315772145986557\n",
      "gradient on the weights: tensor([[0.0002, 0.0002]])\n",
      "\n",
      "loss: 0.010315767489373684\n",
      "gradient on the weights: tensor([[0.0001, 0.0001]])\n",
      "\n",
      "loss: 0.010315760038793087\n",
      "gradient on the weights: tensor([[0.0001, 0.0001]])\n",
      "\n",
      "loss: 0.010315755382180214\n",
      "gradient on the weights: tensor([[0.0001, 0.0001]])\n",
      "\n",
      "loss: 0.01031575072556734\n",
      "gradient on the weights: tensor([[0.0001, 0.0001]])\n",
      "\n",
      "loss: 0.010315744206309319\n",
      "gradient on the weights: tensor([[9.1961e-05, 9.3946e-05]])\n",
      "\n",
      "loss: 0.01031573861837387\n",
      "gradient on the weights: tensor([[7.8983e-05, 8.0555e-05]])\n",
      "\n",
      "loss: 0.010315736755728722\n",
      "gradient on the weights: tensor([[6.6268e-05, 6.7510e-05]])\n",
      "\n",
      "loss: 0.010315734893083572\n",
      "gradient on the weights: tensor([[5.3955e-05, 5.4897e-05]])\n",
      "\n",
      "loss: 0.010315733961760998\n",
      "gradient on the weights: tensor([[4.2143e-05, 4.2845e-05]])\n",
      "\n",
      "loss: 0.0103157302364707\n",
      "gradient on the weights: tensor([[3.0969e-05, 3.1447e-05]])\n",
      "\n",
      "loss: 0.010315732099115849\n",
      "gradient on the weights: tensor([[2.0496e-05, 2.0790e-05]])\n",
      "\n",
      "loss: 0.010315731167793274\n",
      "gradient on the weights: tensor([[1.0803e-05, 1.0922e-05]])\n",
      "\n",
      "loss: 0.0103157302364707\n",
      "gradient on the weights: tensor([[1.9851e-06, 1.9224e-06]])\n",
      "\n",
      "loss: 0.010315732099115849\n",
      "gradient on the weights: tensor([[-5.9935e-06, -6.2416e-06]])\n",
      "\n",
      "loss: 0.010315731167793274\n",
      "gradient on the weights: tensor([[-1.3044e-05, -1.3489e-05]])\n",
      "\n",
      "loss: 0.010315732099115849\n",
      "gradient on the weights: tensor([[-1.9212e-05, -1.9863e-05]])\n",
      "\n",
      "loss: 0.010315733961760998\n",
      "gradient on the weights: tensor([[-2.4462e-05, -2.5359e-05]])\n",
      "\n",
      "loss: 0.010315732099115849\n",
      "gradient on the weights: tensor([[-2.8841e-05, -2.9985e-05]])\n",
      "\n",
      "loss: 0.010315733030438423\n",
      "gradient on the weights: tensor([[-3.2392e-05, -3.3782e-05]])\n",
      "\n",
      "loss: 0.010315734893083572\n",
      "gradient on the weights: tensor([[-3.5119e-05, -3.6752e-05]])\n",
      "\n",
      "loss: 0.010315733961760998\n",
      "gradient on the weights: tensor([[-3.7116e-05, -3.8983e-05]])\n",
      "\n",
      "loss: 0.010315733030438423\n",
      "gradient on the weights: tensor([[-3.8438e-05, -4.0483e-05]])\n",
      "\n",
      "loss: 0.010315733030438423\n",
      "gradient on the weights: tensor([[-3.9093e-05, -4.1333e-05]])\n",
      "\n",
      "loss: 0.010315733961760998\n",
      "gradient on the weights: tensor([[-3.9163e-05, -4.1580e-05]])\n",
      "\n",
      "loss: 0.010315732099115849\n",
      "gradient on the weights: tensor([[-3.8747e-05, -4.1307e-05]])\n",
      "\n",
      "loss: 0.010315733961760998\n",
      "gradient on the weights: tensor([[-3.7887e-05, -4.0520e-05]])\n",
      "\n",
      "loss: 0.010315733030438423\n",
      "gradient on the weights: tensor([[-3.6631e-05, -3.9345e-05]])\n",
      "\n",
      "loss: 0.010315734893083572\n",
      "gradient on the weights: tensor([[-3.5062e-05, -3.7777e-05]])\n",
      "\n",
      "loss: 0.010315733030438423\n",
      "gradient on the weights: tensor([[-3.3220e-05, -3.5910e-05]])\n",
      "\n",
      "loss: 0.010315733961760998\n",
      "gradient on the weights: tensor([[-3.1192e-05, -3.3772e-05]])\n",
      "\n",
      "loss: 0.010315733961760998\n",
      "gradient on the weights: tensor([[-2.8974e-05, -3.1457e-05]])\n",
      "\n",
      "loss: 0.010315731167793274\n",
      "gradient on the weights: tensor([[-2.6641e-05, -2.8999e-05]])\n",
      "\n",
      "loss: 0.010315731167793274\n",
      "gradient on the weights: tensor([[-2.4232e-05, -2.6393e-05]])\n",
      "\n",
      "loss: 0.0103157302364707\n",
      "gradient on the weights: tensor([[-2.1784e-05, -2.3724e-05]])\n",
      "\n",
      "loss: 0.010315733030438423\n",
      "gradient on the weights: tensor([[-1.9330e-05, -2.1028e-05]])\n",
      "\n",
      "loss: 0.010315731167793274\n",
      "gradient on the weights: tensor([[-1.6896e-05, -1.8343e-05]])\n",
      "\n",
      "loss: 0.010315732099115849\n",
      "gradient on the weights: tensor([[-1.4523e-05, -1.5704e-05]])\n",
      "\n",
      "loss: 0.010315731167793274\n",
      "gradient on the weights: tensor([[-1.2236e-05, -1.3152e-05]])\n",
      "\n",
      "loss: 0.0103157302364707\n",
      "gradient on the weights: tensor([[-1.0038e-05, -1.0681e-05]])\n",
      "\n",
      "loss: 0.010315731167793274\n",
      "gradient on the weights: tensor([[-7.9152e-06, -8.3349e-06]])\n",
      "\n",
      "loss: 0.0103157302364707\n",
      "gradient on the weights: tensor([[-5.9020e-06, -6.1034e-06]])\n",
      "\n",
      "loss: 0.0103157302364707\n",
      "gradient on the weights: tensor([[-4.0398e-06, -3.9934e-06]])\n",
      "\n",
      "loss: 0.010315731167793274\n",
      "gradient on the weights: tensor([[-2.2753e-06, -2.0346e-06]])\n",
      "\n",
      "loss: 0.010315731167793274\n",
      "gradient on the weights: tensor([[-6.4541e-07, -2.2794e-07]])\n",
      "\n",
      "loss: 0.010315732099115849\n",
      "gradient on the weights: tensor([[8.0711e-07, 1.3788e-06]])\n",
      "\n",
      "loss: 0.010315731167793274\n",
      "gradient on the weights: tensor([[2.1256e-06, 2.8377e-06]])\n",
      "\n",
      "loss: 0.010315729305148125\n",
      "gradient on the weights: tensor([[3.3154e-06, 4.1053e-06]])\n",
      "\n",
      "loss: 0.0103157302364707\n",
      "gradient on the weights: tensor([[4.3687e-06, 5.2220e-06]])\n",
      "\n",
      "loss: 0.010315731167793274\n",
      "gradient on the weights: tensor([[5.2807e-06, 6.1442e-06]])\n",
      "\n",
      "loss: 0.010315731167793274\n",
      "gradient on the weights: tensor([[6.0227e-06, 6.9115e-06]])\n",
      "\n",
      "loss: 0.010315732099115849\n",
      "gradient on the weights: tensor([[6.6265e-06, 7.5243e-06]])\n",
      "\n",
      "loss: 0.0103157302364707\n",
      "gradient on the weights: tensor([[7.1276e-06, 7.9847e-06]])\n",
      "\n",
      "loss: 0.010315731167793274\n",
      "gradient on the weights: tensor([[7.4819e-06, 8.2836e-06]])\n",
      "\n",
      "loss: 0.010315732099115849\n",
      "gradient on the weights: tensor([[7.7275e-06, 8.4699e-06]])\n",
      "\n",
      "loss: 0.010315731167793274\n",
      "gradient on the weights: tensor([[7.8194e-06, 8.5307e-06]])\n",
      "\n",
      "loss: 0.0103157302364707\n",
      "gradient on the weights: tensor([[7.8374e-06, 8.4742e-06]])\n",
      "\n",
      "loss: 0.010315731167793274\n",
      "gradient on the weights: tensor([[7.7370e-06, 8.2967e-06]])\n"
     ]
    }
   ],
   "source": [
    "m.train()\n",
    "for i in range(n_iter):\n",
    "    y_pred = m(X)\n",
    "    l = loss(y, y_pred)\n",
    "    print(\"\\nloss:\", l.item())\n",
    "    l.backward()\n",
    "    print(\"gradient on the weights:\", m.lin.weight.grad)\n",
    "    opt.step()\n",
    "    opt.zero_grad()"
   ]
  },
  {
   "cell_type": "markdown",
   "metadata": {},
   "source": [
    "Hah! The loss and the gradients of things actually decrease over time, promising! Let's have a look at what the model predicts."
   ]
  },
  {
   "cell_type": "code",
   "execution_count": 418,
   "metadata": {},
   "outputs": [
    {
     "data": {
      "application/vnd.jupyter.widget-view+json": {
       "model_id": "2fce908a379c4d5ea1d8af3bc532cf89",
       "version_major": 2,
       "version_minor": 0
      },
      "text/plain": [
       "interactive(children=(IntSlider(value=3, description='elev', max=180, min=-180), IntSlider(value=-55, descript…"
      ]
     },
     "metadata": {},
     "output_type": "display_data"
    }
   ],
   "source": [
    "m.eval()\n",
    "y_pred = m(X).detach().numpy()\n",
    "dynamic3d_scatter = plotter_wrapper(X, y, y_pred=y_pred)\n",
    "widgets.interact(dynamic3d_scatter, elev=(-180,180), azim=(-180,180));"
   ]
  },
  {
   "cell_type": "markdown",
   "metadata": {},
   "source": [
    "Let's cram the model setup and fitting into a class so we can do things dynamically using `ipywidgets`.\n",
    "\n",
    "Note that sometimes the loss doesn't change at all. Suspect poor initialization but not sure yet. Just re-running the optimization usually fixes it."
   ]
  },
  {
   "cell_type": "code",
   "execution_count": 420,
   "metadata": {
    "scrolled": true
   },
   "outputs": [
    {
     "data": {
      "image/png": "[encoded data removed]",
      "text/plain": [
       "<Figure size 720x288 with 1 Axes>"
      ]
     },
     "metadata": {
      "needs_background": "light"
     },
     "output_type": "display_data"
    }
   ],
   "source": [
    "class ModelAndPlot:\n",
    "    \n",
    "    def __init__(self, X:torch.Tensor, y:torch.Tensor):\n",
    "        self.X = X\n",
    "        self.y = y\n",
    "        \n",
    "    def dynamic_fit(self, activation_fun:Union[str,callable]=\"relu\", optimizer:str=\"Adam\", scheduler:str=\"None\",\n",
    "                    loss:Union[str,callable]=\"mse_loss\", n_iter:int=10, lr:float=.1, max_lr=.1):\n",
    "        \n",
    "        self.m = Model(activation_fun=activation_fun, dim_in=self.X.size()[1], dim_out=1)\n",
    "        self.m.to(device)\n",
    "        self.opt = getattr(torch.optim, optimizer)(self.m.parameters(), lr=lr)\n",
    "        self.scheduler = getattr(torch.optim.lr_scheduler, scheduler) if scheduler != \"None\" else None\n",
    "        \n",
    "        if self.scheduler is not None:\n",
    "            try:\n",
    "                self.scheduler = self.scheduler(self.opt, base_lr=lr, max_lr=max_lr, step_size_up=n_iter//2, cycle_momentum=True)                \n",
    "            except ValueError:\n",
    "                self.scheduler = self.scheduler(self.opt, base_lr=lr, max_lr=max_lr, step_size_up=n_iter//2, cycle_momentum=False)\n",
    "        \n",
    "        self._loss = getattr(torch.nn.functional, loss) if isinstance(loss, str) else loss\n",
    "        \n",
    "        self.fit(n_iter)            \n",
    "        self.plot(n_iter, loss, activation_fun, optimizer)\n",
    "        \n",
    "    def fit(self, n_iter):\n",
    "        \n",
    "        self.losses = torch.zeros(n_iter, requires_grad=False)    \n",
    "        \n",
    "        for i in range(n_iter):\n",
    "            y_pred = self.m(self.X)\n",
    "            \n",
    "            l = self._loss(self.y, y_pred)\n",
    "            \n",
    "            self.losses[i] = l.item()\n",
    "            l.backward()\n",
    "            \n",
    "            self.opt.step()\n",
    "            \n",
    "            if self.scheduler is not None: \n",
    "                self.scheduler.step()\n",
    "                \n",
    "            self.opt.zero_grad()\n",
    "            \n",
    "        self.m.eval()\n",
    "        self.y_pred = self.m(X)\n",
    "\n",
    "        \n",
    "    def plot(self, n_iter, loss, activation_fun, optimizer):\n",
    "        fig, ax = plt.subplots(figsize=(10,4))\n",
    "        ax.plot(range(n_iter), self.losses.detach().numpy())\n",
    "        ax.set_xlabel(\"iteration\")\n",
    "        ax.set_ylabel(f\"loss: {loss}\")\n",
    "        ax.set_title(f\"activation: {activation_fun}, optimizer: {optimizer}, n_iter: {n_iter}\")\n",
    "        plt.show()\n",
    "        \n",
    "MAP = ModelAndPlot(X, y)\n",
    "MAP.dynamic_fit(activation_fun=\"relu\", optimizer=\"SGD\", scheduler=\"CyclicLR\", loss=\"mse_loss\", \n",
    "                n_iter=100, lr=.001, max_lr=.1)"
   ]
  },
  {
   "cell_type": "code",
   "execution_count": 424,
   "metadata": {
    "scrolled": false
   },
   "outputs": [
    {
     "data": {
      "application/vnd.jupyter.widget-view+json": {
       "model_id": "30433784c14b4c249ec215c27dc4e341",
       "version_major": 2,
       "version_minor": 0
      },
      "text/plain": [
       "interactive(children=(Dropdown(description='activation_fun', options=('relu', 'softplus', 'sigmoid', 'tanh', N…"
      ]
     },
     "metadata": {},
     "output_type": "display_data"
    }
   ],
   "source": [
    "MAP = ModelAndPlot(X, y)\n",
    "widgets.interact(MAP.dynamic_fit, activation_fun=[\"relu\", \"softplus\", \"sigmoid\", \"tanh\", None], \n",
    "                 optimizer=[\"Adam\", \"RMSprop\"],\n",
    "                 scheduler=[\"None\", \"CyclicLR\"],\n",
    "                 loss=[\"mse_loss\", \"l1_loss\"], \n",
    "                 n_iter=widgets.IntText(value=50), \n",
    "                 lr=widgets.FloatText(value=.01), \n",
    "                 max_lr=widgets.FloatText(value=.1));"
   ]
  },
  {
   "cell_type": "code",
   "execution_count": 425,
   "metadata": {},
   "outputs": [
    {
     "data": {
      "application/vnd.jupyter.widget-view+json": {
       "model_id": "c7281194324e4561874846f40d829a74",
       "version_major": 2,
       "version_minor": 0
      },
      "text/plain": [
       "interactive(children=(IntSlider(value=3, description='elev', max=180, min=-180), IntSlider(value=-55, descript…"
      ]
     },
     "metadata": {},
     "output_type": "display_data"
    }
   ],
   "source": [
    "dynamic3d_scatter = plotter_wrapper(X, y, y_pred=MAP.y_pred.detach().numpy())\n",
    "widgets.interact(dynamic3d_scatter, elev=(-180,180), azim=(-180,180));"
   ]
  },
  {
   "cell_type": "markdown",
   "metadata": {},
   "source": [
    "Now.look.at.that! Even though the loss trends seems okay the model predictions are clearly not performing in the area where `z` is smaller than zero. Could this have anything to do with the interaction of `z` and the activation function usign for the output (here the rectified linear unit, i.e. `max(0,model(x,y)`)? \n",
    "\n",
    "Actually it does. Switching to a linear output gets closer to the truth and using tanh hits the nail on the head."
   ]
  },
  {
   "cell_type": "markdown",
   "metadata": {},
   "source": [
    "## Fitting a 2d surface with a Dense net"
   ]
  },
  {
   "cell_type": "markdown",
   "metadata": {},
   "source": [
    "Now let's generate a more complex surface and do the same again as above but using multiple neurons and also feed output of neurons into the input of other neurons."
   ]
  },
  {
   "cell_type": "code",
   "execution_count": 434,
   "metadata": {},
   "outputs": [],
   "source": [
    "n = int(5e3)\n",
    "dim = 2\n",
    "X = torch.zeros((n,dim))\n",
    "X[:,0].uniform_(-5, 5)\n",
    "X[:,1].uniform_(-5, 5)\n",
    "y = torch.cos(X[:,0])*torch.sin(X[:,1])"
   ]
  },
  {
   "cell_type": "code",
   "execution_count": 436,
   "metadata": {},
   "outputs": [
    {
     "data": {
      "application/vnd.jupyter.widget-view+json": {
       "model_id": "dee91237b0ce4a86917e054c26e73994",
       "version_major": 2,
       "version_minor": 0
      },
      "text/plain": [
       "interactive(children=(IntSlider(value=3, description='elev', max=180, min=-180), IntSlider(value=-55, descript…"
      ]
     },
     "metadata": {},
     "output_type": "display_data"
    }
   ],
   "source": [
    "dynamic3d_scatter = plotter_wrapper(X, y)\n",
    "widgets.interact(dynamic3d_scatter, elev=(-180,180), azim=(-180,180));"
   ]
  },
  {
   "cell_type": "markdown",
   "metadata": {},
   "source": [
    "Hyper hyper ..."
   ]
  },
  {
   "cell_type": "code",
   "execution_count": 437,
   "metadata": {
    "scrolled": true
   },
   "outputs": [
    {
     "name": "stdout",
     "output_type": "stream",
     "text": [
      "ModuleList(\n",
      "  (0): Linear(in_features=2, out_features=3, bias=True)\n",
      "  (1): Linear(in_features=3, out_features=2, bias=True)\n",
      "  (2): Linear(in_features=2, out_features=1, bias=True)\n",
      ")\n"
     ]
    },
    {
     "data": {
      "text/plain": [
       "torch.Size([5000])"
      ]
     },
     "execution_count": 437,
     "metadata": {},
     "output_type": "execute_result"
    }
   ],
   "source": [
    "class HyperModel(torch.nn.Module):\n",
    "    \n",
    "    def __init__(self, activation_fun:Union[str,callable]=\"relu\", dim_in:int=2, hidden:List[int]=[5], \n",
    "                 dim_out:int=1, output_fun:Union[str,callable]=\"linear\"):\n",
    "        super().__init__()\n",
    "        self.dense = [torch.nn.Linear(dim_in, hidden[0])]\n",
    "        if len(hidden) > 1:\n",
    "            self.dense += [torch.nn.Linear(hidden[i], hidden[i+1]) for i in range(len(hidden)-1)]\n",
    "        self.dense += [torch.nn.Linear(hidden[-1], dim_out)]\n",
    "        self.dense = torch.nn.ModuleList(self.dense)\n",
    "        self.set_activation(activation_fun)\n",
    "        self.set_output_fun(output_fun)\n",
    "        \n",
    "    def set_activation(self, fun_name):\n",
    "        self.activation = getattr(torch.nn.functional, fun_name) if isinstance(fun_name, str) else fun_name\n",
    "        \n",
    "    def set_output_fun(self, fun_name):\n",
    "        if fun_name == \"linear\":\n",
    "            self.output_fun = lambda x: x\n",
    "        else:\n",
    "            self.output_fun = getattr(torch.nn.functional, fun_name) if isinstance(fun_name, str) else fun_name\n",
    "        \n",
    "        \n",
    "    def forward(self, x):\n",
    "        o = x.clone()\n",
    "        for i,l in enumerate(self.dense):\n",
    "            if i<len(self.dense):\n",
    "                o = self.activation(l(o))\n",
    "            else:\n",
    "                o = self.output_fun(l(o))\n",
    "        return o.squeeze(1)\n",
    "\n",
    "device = torch.device(\"cpu\")\n",
    "m = HyperModel(activation_fun=\"relu\", dim_in=dim, hidden=[3,2], dim_out=1, output_fun=\"linear\")\n",
    "m.to(device)\n",
    "print(m.dense)\n",
    "m(X).size()"
   ]
  },
  {
   "cell_type": "markdown",
   "metadata": {},
   "source": [
    "Subclassing `ModelAndPlot` modifying the `dynamic_fit` method since we are dealing with multiple layers here.\n",
    "\n",
    "The way to control the number of neurons per layer and the layers is via the `hidden` argument of the `dynamic_fit` method. If you want 2 hidden layers just specify their individual width (contained numer of neurons) and concatenate them with a comma, like so: \"5,2\" for two hidden layers with the first layer containing 5 neurons and the second layer containing 2."
   ]
  },
  {
   "cell_type": "code",
   "execution_count": 446,
   "metadata": {
    "scrolled": false
   },
   "outputs": [
    {
     "name": "stdout",
     "output_type": "stream",
     "text": [
      "output_fun linear\n",
      "HyperModel(\n",
      "  (dense): ModuleList(\n",
      "    (0): Linear(in_features=2, out_features=5, bias=True)\n",
      "    (1): Linear(in_features=5, out_features=2, bias=True)\n",
      "    (2): Linear(in_features=2, out_features=1, bias=True)\n",
      "  )\n",
      ")\n",
      "number of parameters 30 => [torch.Size([5, 2]), torch.Size([5]), torch.Size([2, 5]), torch.Size([2]), torch.Size([1, 2]), torch.Size([1])]\n"
     ]
    },
    {
     "data": {
      "image/png": "[encoded data removed]",
      "text/plain": [
       "<Figure size 720x288 with 1 Axes>"
      ]
     },
     "metadata": {
      "needs_background": "light"
     },
     "output_type": "display_data"
    }
   ],
   "source": [
    "class HyperModelAndPlot(ModelAndPlot):\n",
    "    \n",
    "    def __init__(self, X:torch.Tensor, y:torch.Tensor):\n",
    "        super().__init__(X, y)\n",
    "        \n",
    "    def dynamic_fit(self, activation_fun:Union[str,callable]=\"relu\", optimizer:str=\"Adam\", scheduler:str=\"CyclicLR\",\n",
    "                    loss:Union[str,callable]=\"mse_loss\", n_iter:int=10, lr:float=.1, max_lr=.1, \n",
    "                    hidden:str=\"5,2\", output_fun:Union[str,callable]=\"linear\"):\n",
    "        \n",
    "        _hidden = [int(v) for v in hidden.split(\",\")]\n",
    "        assert all([v>0] for v in _hidden), \"The number of neurons in each layer needs to be at least 1\"\n",
    "        print(\"output_fun\", output_fun)\n",
    "        self.m = HyperModel(activation_fun=activation_fun, dim_in=self.X.size()[1], hidden=_hidden, dim_out=1,\n",
    "                            output_fun=output_fun)\n",
    "        print(self.m)\n",
    "        print(f\"number of parameters {sum([np.prod(v.size()) for v in self.m.parameters()])} => {[v.size() for v in self.m.parameters()]}\")\n",
    "        self.m.to(device)\n",
    "        self.opt = getattr(torch.optim, optimizer)(self.m.parameters(), lr=lr)\n",
    "        self.scheduler = getattr(torch.optim.lr_scheduler, scheduler) if scheduler != \"None\" else None\n",
    "        \n",
    "        if self.scheduler is not None:\n",
    "            try:\n",
    "                self.scheduler = self.scheduler(self.opt, base_lr=lr, max_lr=max_lr, step_size_up=n_iter//2, cycle_momentum=True)                \n",
    "            except ValueError:\n",
    "                self.scheduler = self.scheduler(self.opt, base_lr=lr, max_lr=max_lr, step_size_up=n_iter//2, cycle_momentum=False)\n",
    "        \n",
    "        self._loss = getattr(torch.nn.functional, loss) if isinstance(loss, str) else loss\n",
    "        \n",
    "        self.fit(n_iter)            \n",
    "        self.plot(n_iter, loss, activation_fun, optimizer)\n",
    "        \n",
    "        \n",
    "MAP = HyperModelAndPlot(X, y)\n",
    "MAP.dynamic_fit(activation_fun=\"relu\", optimizer=\"SGD\", scheduler=\"CyclicLR\", loss=\"mse_loss\", \n",
    "                n_iter=100, lr=.001, max_lr=.1, hidden=\"5,2\", output_fun=\"linear\")"
   ]
  },
  {
   "cell_type": "code",
   "execution_count": 447,
   "metadata": {
    "scrolled": false
   },
   "outputs": [
    {
     "data": {
      "application/vnd.jupyter.widget-view+json": {
       "model_id": "af37f7dc06b744b4bca637bc1f56a953",
       "version_major": 2,
       "version_minor": 0
      },
      "text/plain": [
       "interactive(children=(Dropdown(description='activation_fun', options=('relu', 'softplus', 'sigmoid', 'tanh'), …"
      ]
     },
     "metadata": {},
     "output_type": "display_data"
    },
    {
     "name": "stdout",
     "output_type": "stream",
     "text": [
      "Wall time: 2.14 s\n"
     ]
    },
    {
     "data": {
      "text/plain": [
       "<function ipywidgets.widgets.interaction._InteractFactory.__call__.<locals>.<lambda>(*args, **kwargs)>"
      ]
     },
     "execution_count": 447,
     "metadata": {},
     "output_type": "execute_result"
    }
   ],
   "source": [
    "%%time\n",
    "y_s = (y-y.min())/y.std() # standardizing\n",
    "\n",
    "MAP = HyperModelAndPlot(X, y_s)\n",
    "widgets.interact(MAP.dynamic_fit, \n",
    "                 activation_fun=[\"relu\", \"softplus\", \"sigmoid\", \"tanh\"], \n",
    "                 output_fun=[\"relu\", \"softplus\", \"sigmoid\", \"tanh\", \"linear\"],\n",
    "                 optimizer=[\"Adam\", \"RMSprop\"],\n",
    "                 scheduler=[\"None\", \"CyclicLR\"], hidden=widgets.Combobox(value=\"100,5\"),\n",
    "                 loss=[\"mse_loss\", \"l1_loss\"], n_iter=widgets.IntText(value=200), \n",
    "                 lr=widgets.FloatText(value=.01), max_lr=widgets.FloatText(value=.1));"
   ]
  },
  {
   "cell_type": "code",
   "execution_count": 448,
   "metadata": {},
   "outputs": [
    {
     "data": {
      "application/vnd.jupyter.widget-view+json": {
       "model_id": "3ae5526819fe45fd89cbd40e9a22ec7c",
       "version_major": 2,
       "version_minor": 0
      },
      "text/plain": [
       "interactive(children=(IntSlider(value=3, description='elev', max=180, min=-180), IntSlider(value=-55, descript…"
      ]
     },
     "metadata": {},
     "output_type": "display_data"
    }
   ],
   "source": [
    "dynamic3d_scatter = plotter_wrapper(X, y_s, y_pred=MAP.y_pred.detach().numpy())\n",
    "widgets.interact(dynamic3d_scatter, elev=(-180,180), azim=(-180,180));"
   ]
  },
  {
   "cell_type": "code",
   "execution_count": null,
   "metadata": {},
   "outputs": [],
   "source": []
  }
 ],
 "metadata": {
  "kernelspec": {
   "display_name": "Python [conda env:py37_fastai]",
   "language": "python",
   "name": "conda-env-py37_fastai-py"
  },
  "language_info": {
   "codemirror_mode": {
    "name": "ipython",
    "version": 3
   },
   "file_extension": ".py",
   "mimetype": "text/x-python",
   "name": "python",
   "nbconvert_exporter": "python",
   "pygments_lexer": "ipython3",
   "version": "3.7.5"
  }
 },
 "nbformat": 4,
 "nbformat_minor": 2
}
